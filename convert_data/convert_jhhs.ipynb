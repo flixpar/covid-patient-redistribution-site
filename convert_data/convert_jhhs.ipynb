{
 "cells": [
  {
   "cell_type": "code",
   "execution_count": 1,
   "metadata": {},
   "outputs": [],
   "source": [
    "using CSV\n",
    "using DataFrames\n",
    "using Dates\n",
    "using Distributions\n",
    "using Serialization\n",
    "using LinearAlgebra: diagm"
   ]
  },
  {
   "cell_type": "code",
   "execution_count": 2,
   "metadata": {},
   "outputs": [],
   "source": [
    "projectbasepath = \"../../covid-resource-allocation/\"\n",
    "include(joinpath(projectbasepath, \"src/processing/LocalDataCommon.jl\"));\n",
    "include(joinpath(projectbasepath, \"src/processing/GeographicData.jl\"));"
   ]
  },
  {
   "cell_type": "code",
   "execution_count": 3,
   "metadata": {},
   "outputs": [],
   "source": [
    "data_dir = \"../data/\";\n",
    "outputdatapath = \"../data/\";"
   ]
  },
  {
   "cell_type": "code",
   "execution_count": 4,
   "metadata": {},
   "outputs": [],
   "source": [
    "data_date = \"2020_11_19\";"
   ]
  },
  {
   "cell_type": "code",
   "execution_count": 5,
   "metadata": {},
   "outputs": [],
   "source": [
    "SCENARIOS = [:moderate, :pessimistic, :catastrophic];\n",
    "BEDTYPES  = [:allbeds, :icu, :ward];"
   ]
  },
  {
   "cell_type": "code",
   "execution_count": 6,
   "metadata": {},
   "outputs": [],
   "source": [
    "los_dist = (\n",
    "    allbeds = Gamma(1.723, 4.154),\n",
    "    ward = Gamma(1.825, 3.772),\n",
    "    icu = Gamma(0.9875, 12.8990),\n",
    ");"
   ]
  },
  {
   "cell_type": "code",
   "execution_count": 7,
   "metadata": {},
   "outputs": [],
   "source": [
    "start_date = Date(2020, 3, 25);\n",
    "end_date   = Date(2021, 6, 30);\n",
    "date_range = collect(start_date : Day(1) : end_date);"
   ]
  },
  {
   "cell_type": "code",
   "execution_count": 8,
   "metadata": {},
   "outputs": [],
   "source": [
    "hospitals = [\"JHH\", \"SH\", \"BMC\", \"HCGH\", \"SMH\"];\n",
    "N = length(hospitals);"
   ]
  },
  {
   "cell_type": "code",
   "execution_count": 9,
   "metadata": {},
   "outputs": [],
   "source": [
    "adj = BitArray(ones(N,N) - diagm(ones(N)));"
   ]
  },
  {
   "cell_type": "code",
   "execution_count": 10,
   "metadata": {},
   "outputs": [],
   "source": [
    "dist_matrix = diagm(fill(Inf, N));"
   ]
  },
  {
   "cell_type": "code",
   "execution_count": 11,
   "metadata": {},
   "outputs": [],
   "source": [
    "capacity_names_full = [\"Base Capacity\", \"Ramp-Up Capacity\", \"Surge Capacity\", \"Maximum Capacity\"];\n",
    "capacity_names_abbrev = [\"baselinecap\", \"rampupcap\", \"surgecap\", \"maxcap\"];"
   ]
  },
  {
   "cell_type": "code",
   "execution_count": 12,
   "metadata": {},
   "outputs": [],
   "source": [
    "function load_capacity_jhhs(hospitals, bedtype, capacity_levels=[:baseline])\n",
    "    beds_data = DataFrame(CSV.File(joinpath(data_dir, \"jhhs_beds.csv\")))\n",
    "\n",
    "    beds_dict = Dict(row.hospital => Dict(\n",
    "        \"icu_covid_baseline\" => row.icu_covid_baseline,\n",
    "        \"ward_covid_baseline\" => row.ward_covid_baseline,\n",
    "        \"allbeds_covid_baseline\" => row.icu_covid_baseline + row.ward_covid_baseline,\n",
    "        \"icu_covid_rampup\" => row.icu_covid_rampup,\n",
    "        \"ward_covid_rampup\" => row.ward_covid_rampup,\n",
    "        \"allbeds_covid_rampup\" => row.icu_covid_rampup + row.ward_covid_rampup,\n",
    "        \"icu_covid_surge\" => row.icu_covid_surge,\n",
    "        \"ward_covid_surge\" => row.ward_covid_surge,\n",
    "        \"allbeds_covid_surge\" => row.icu_covid_surge + row.ward_covid_surge,\n",
    "        \"icu_covid_surgeplus\" => row.icu_covid_surgeplus,\n",
    "        \"ward_covid_surgeplus\" => row.ward_covid_surgeplus,\n",
    "        \"allbeds_covid_surgeplus\" => row.icu_covid_surgeplus + row.ward_covid_surgeplus,\n",
    "        \"icu_covid_max\" => row.icu_covid_max,\n",
    "        \"ward_covid_max\" => row.ward_covid_max,\n",
    "        \"allbeds_covid_max\" => row.icu_covid_max + row.ward_covid_max,\n",
    "    ) for row in eachrow(beds_data))\n",
    "\n",
    "    if capacity_levels isa Symbol\n",
    "        capacity = [beds_dict[h][\"$(bedtype)_covid_$(capacity_levels)\"] for h in hospitals]\n",
    "    elseif capacity_levels isa AbstractArray\n",
    "        capacity = hcat([[beds_dict[h][\"$(bedtype)_covid_$(l)\"] for h in hospitals] for l in capacity_levels]...)\n",
    "    else\n",
    "        error(\"Invalid capacity_levels\")\n",
    "    end\n",
    "\n",
    "    return capacity\n",
    "end;"
   ]
  },
  {
   "cell_type": "code",
   "execution_count": 13,
   "metadata": {},
   "outputs": [],
   "source": [
    "function load_forecast_jhhs(scenario, bedtype)\n",
    "    @assert(bedtype in [:icu, :ward, :allbeds])\n",
    "    @assert(scenario in [:optimistic, :moderate, :pessimistic, :catastrophic])\n",
    "    \n",
    "    date_dir = \"forecasts-\" * replace(string(data_date), \"_\" => \"-\")\n",
    "\n",
    "    forecast_admitted = DataFrame(CSV.File(joinpath(data_dir, date_dir, \"jhhs_forecast_admitted_$(bedtype)_$(data_date).csv\")))\n",
    "    forecast_active   = DataFrame(CSV.File(joinpath(data_dir, date_dir, \"jhhs_forecast_active_$(bedtype)_$(data_date).csv\")))\n",
    "    forecast_admitted_dict = Dict(row.date => row for row in eachrow(forecast_admitted))\n",
    "    forecast_active_dict   = Dict(row.date => row for row in eachrow(forecast_active))\n",
    "\n",
    "    day0 = minimum(date_range) - Day(1)\n",
    "    forecast_admitted = [forecast_admitted_dict[d][c]  for c in (hospitals .* (\"_\" * string(scenario))), d in date_range]\n",
    "    forecast_active   = [forecast_active_dict[d][c] for c in (hospitals .* (\"_\" * string(scenario))), d in date_range]\n",
    "\n",
    "    beds = load_capacity_jhhs(hospitals, bedtype, :surge)\n",
    "    capacity = load_capacity_jhhs(hospitals, bedtype, [:baseline, :rampup, :surge, :max])\n",
    "\n",
    "    data = (\n",
    "        scenario = scenario,\n",
    "        bedtype = bedtype,\n",
    "\n",
    "        los_dist = los_dist[bedtype],\n",
    "\n",
    "        active = forecast_active,\n",
    "        admitted = forecast_admitted,\n",
    "\n",
    "        beds = beds,\n",
    "        capacity = capacity,\n",
    "    )\n",
    "\n",
    "    return data\n",
    "end;"
   ]
  },
  {
   "cell_type": "code",
   "execution_count": 14,
   "metadata": {},
   "outputs": [],
   "source": [
    "maindata = Dict()\n",
    "for scenario in SCENARIOS, bedtype in BEDTYPES\n",
    "    maindata[(scenario,bedtype)] = load_forecast_jhhs(scenario, bedtype)\n",
    "end"
   ]
  },
  {
   "cell_type": "code",
   "execution_count": 15,
   "metadata": {},
   "outputs": [],
   "source": [
    "hospital_positions = Dict(\n",
    "    \"JHH\"  => (lat = 39.2961773, long = -76.5939447),\n",
    "    \"SMH\"  => (lat = 38.9364687, long = -77.1091435),\n",
    "    \"HCGH\" => (lat = 39.2136187, long = -76.885917),\n",
    "    \"BMC\"  => (lat = 39.290101,  long = -76.5468383),\n",
    "    \"SH\"   => (lat = 38.9973285, long = -77.1105309),\n",
    ");"
   ]
  },
  {
   "cell_type": "code",
   "execution_count": 16,
   "metadata": {},
   "outputs": [],
   "source": [
    "completedata = (\n",
    "    location_names = hospitals,\n",
    "    location_names_short = hospitals,\n",
    "    start_date = start_date,\n",
    "    end_date = end_date,\n",
    "    counties = nothing,\n",
    "    states = nothing,\n",
    "    dist_matrix = dist_matrix,\n",
    "    locations_latlong = hospital_positions,\n",
    "    casesdata = maindata,\n",
    ");"
   ]
  },
  {
   "cell_type": "code",
   "execution_count": 17,
   "metadata": {},
   "outputs": [],
   "source": [
    "serialize(joinpath(outputdatapath, \"data_jhhs.jlser\"), completedata);"
   ]
  },
  {
   "cell_type": "code",
   "execution_count": null,
   "metadata": {},
   "outputs": [],
   "source": []
  }
 ],
 "metadata": {
  "kernelspec": {
   "display_name": "Julia 1.5.3",
   "language": "julia",
   "name": "julia-1.5"
  },
  "language_info": {
   "file_extension": ".jl",
   "mimetype": "application/julia",
   "name": "julia",
   "version": "1.5.3"
  }
 },
 "nbformat": 4,
 "nbformat_minor": 4
}
