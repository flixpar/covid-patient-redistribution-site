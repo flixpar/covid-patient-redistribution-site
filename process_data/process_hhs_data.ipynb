{
 "cells": [
  {
   "cell_type": "code",
   "execution_count": 1,
   "metadata": {},
   "outputs": [],
   "source": [
    "using CSV\n",
    "using DataFrames\n",
    "using Dates"
   ]
  },
  {
   "cell_type": "code",
   "execution_count": 2,
   "metadata": {},
   "outputs": [],
   "source": [
    "ENV[\"COLUMNS\"] = 1000;"
   ]
  },
  {
   "cell_type": "code",
   "execution_count": 3,
   "metadata": {},
   "outputs": [],
   "source": [
    "rawdata = DataFrame(CSV.File(\"../rawdata/reported_hospital_capacity_admissions_facility_level_weekly_average_timeseries_20201221_0.csv\"));"
   ]
  },
  {
   "cell_type": "code",
   "execution_count": 4,
   "metadata": {},
   "outputs": [],
   "source": [
    "data_weekly = select(rawdata,\n",
    "    :hospital_name => ByRow(titlecase) => :hospital,\n",
    "    :collection_week => :date,\n",
    "    :previous_day_admission_adult_covid_suspected_7_day_sum => ByRow(x -> (ismissing(x) || x == -999999) ? missing : x) => :admissions_weekly,\n",
    "    :total_adult_patients_hospitalized_confirmed_and_suspected_covid_7_day_sum => ByRow(x -> (ismissing(x) || x == -999999) ? missing : x) => :active_weekly,\n",
    ");\n",
    "sort!(data_weekly, [:hospital, :date]);"
   ]
  },
  {
   "cell_type": "code",
   "execution_count": 5,
   "metadata": {},
   "outputs": [
    {
     "data": {
      "text/html": [
       "<table class=\"data-frame\"><thead><tr><th></th><th>hospital</th><th>date</th><th>admissions_weekly</th><th>active_weekly</th></tr><tr><th></th><th>String</th><th>Date</th><th>Int64?</th><th>Int64?</th></tr></thead><tbody><p>5 rows × 4 columns</p><tr><th>1</th><td>Abbeville Area Medical Center</td><td>2020-07-31</td><td>0</td><td>22</td></tr><tr><th>2</th><td>Abbeville Area Medical Center</td><td>2020-08-07</td><td><em>missing</em></td><td>31</td></tr><tr><th>3</th><td>Abbeville Area Medical Center</td><td>2020-08-14</td><td>5</td><td><em>missing</em></td></tr><tr><th>4</th><td>Abbeville Area Medical Center</td><td>2020-08-21</td><td><em>missing</em></td><td>15</td></tr><tr><th>5</th><td>Abbeville Area Medical Center</td><td>2020-08-28</td><td>4</td><td>15</td></tr></tbody></table>"
      ],
      "text/latex": [
       "\\begin{tabular}{r|cccc}\n",
       "\t& hospital & date & admissions\\_weekly & active\\_weekly\\\\\n",
       "\t\\hline\n",
       "\t& String & Date & Int64? & Int64?\\\\\n",
       "\t\\hline\n",
       "\t1 & Abbeville Area Medical Center & 2020-07-31 & 0 & 22 \\\\\n",
       "\t2 & Abbeville Area Medical Center & 2020-08-07 & \\emph{missing} & 31 \\\\\n",
       "\t3 & Abbeville Area Medical Center & 2020-08-14 & 5 & \\emph{missing} \\\\\n",
       "\t4 & Abbeville Area Medical Center & 2020-08-21 & \\emph{missing} & 15 \\\\\n",
       "\t5 & Abbeville Area Medical Center & 2020-08-28 & 4 & 15 \\\\\n",
       "\\end{tabular}\n"
      ],
      "text/plain": [
       "5×4 DataFrame\n",
       "│ Row │ hospital                      │ date       │ admissions_weekly │ active_weekly │\n",
       "│     │ \u001b[90mString\u001b[39m                        │ \u001b[90mDate\u001b[39m       │ \u001b[90mInt64?\u001b[39m            │ \u001b[90mInt64?\u001b[39m        │\n",
       "├─────┼───────────────────────────────┼────────────┼───────────────────┼───────────────┤\n",
       "│ 1   │ Abbeville Area Medical Center │ 2020-07-31 │ 0                 │ 22            │\n",
       "│ 2   │ Abbeville Area Medical Center │ 2020-08-07 │ \u001b[90mmissing\u001b[39m           │ 31            │\n",
       "│ 3   │ Abbeville Area Medical Center │ 2020-08-14 │ 5                 │ \u001b[90mmissing\u001b[39m       │\n",
       "│ 4   │ Abbeville Area Medical Center │ 2020-08-21 │ \u001b[90mmissing\u001b[39m           │ 15            │\n",
       "│ 5   │ Abbeville Area Medical Center │ 2020-08-28 │ 4                 │ 15            │"
      ]
     },
     "execution_count": 5,
     "metadata": {},
     "output_type": "execute_result"
    }
   ],
   "source": [
    "first(data_weekly,5)"
   ]
  },
  {
   "cell_type": "code",
   "execution_count": 6,
   "metadata": {},
   "outputs": [],
   "source": [
    "function interpolate_timeseries_linear(xs, ys)\n",
    "    @assert all(sort(xs) .== xs)\n",
    "    @assert length(xs) == length(ys)\n",
    "    tx = length(xs)\n",
    "    \n",
    "    d_start, d_end = xs[1], xs[end]\n",
    "    ds = collect(d_start : Day(1) : d_end)\n",
    "    \n",
    "    td = length(ds)\n",
    "    zs = zeros(Union{Float64,Missing}, td)\n",
    "    \n",
    "    for (i,d) in enumerate(ds)\n",
    "        x1_ind = findfirst(xs .<= d)\n",
    "        x1_ind = isnothing(x1_ind) ? tx : x1_ind\n",
    "        \n",
    "        x1 = xs[x1_ind]\n",
    "        x2 = xs[min(x1_ind+1, tx)]\n",
    "        \n",
    "        y1 = ys[x1_ind]\n",
    "        y2 = ys[min(x1_ind+1, tx)]\n",
    "        \n",
    "        m = (y2-y1) / (x2-x1).value\n",
    "        z = (m * (d-x1).value) + y1\n",
    "        zs[i] = max(0, z)\n",
    "    end\n",
    "    \n",
    "    return zs\n",
    "end;"
   ]
  },
  {
   "cell_type": "code",
   "execution_count": 7,
   "metadata": {},
   "outputs": [],
   "source": [
    "data_daily_list = []\n",
    "for h in unique(data_weekly.hospital)\n",
    "    loc_df = filter(row -> row.hospital == h, data_weekly)\n",
    "    loc_df = sort(loc_df, :date)\n",
    "    \n",
    "    dates_w = loc_df.date\n",
    "    admissions_w = loc_df.admissions_weekly ./ 7\n",
    "    active_w = loc_df.active_weekly ./ 7\n",
    "    \n",
    "    admissions_d = interpolate_timeseries_linear(dates_w, admissions_w)\n",
    "    active_d = interpolate_timeseries_linear(dates_w, active_w)\n",
    "    \n",
    "    start_date = dates_w[1]\n",
    "    end_date   = dates_w[end]\n",
    "    dates_d = collect(start_date : Day(1) : end_date)\n",
    "    \n",
    "    t = length(dates_d)\n",
    "    loc_df_daily = DataFrame(\n",
    "        hospital = fill(h, t),\n",
    "        date = dates_d,\n",
    "        admissions_icu = admissions_d .* 0.3,\n",
    "        admissions_acute = admissions_d .* 0.7,\n",
    "        admissions_allbeds = admissions_d,\n",
    "        active_icu = active_d .* 0.3,\n",
    "        active_acute = active_d .* 0.7,\n",
    "        active_allbeds = active_d,\n",
    "    )\n",
    "    push!(data_daily_list, loc_df_daily)\n",
    "end\n",
    "data_daily = vcat(data_daily_list...);"
   ]
  },
  {
   "cell_type": "code",
   "execution_count": 8,
   "metadata": {},
   "outputs": [],
   "source": [
    "data_daily |> CSV.write(\"../data/hhs_data_2020_12_24.csv\");"
   ]
  },
  {
   "cell_type": "code",
   "execution_count": null,
   "metadata": {},
   "outputs": [],
   "source": []
  }
 ],
 "metadata": {
  "@webio": {
   "lastCommId": null,
   "lastKernelId": null
  },
  "kernelspec": {
   "display_name": "Julia 1.5.3",
   "language": "julia",
   "name": "julia-1.5"
  },
  "language_info": {
   "file_extension": ".jl",
   "mimetype": "application/julia",
   "name": "julia",
   "version": "1.5.3"
  }
 },
 "nbformat": 4,
 "nbformat_minor": 4
}
