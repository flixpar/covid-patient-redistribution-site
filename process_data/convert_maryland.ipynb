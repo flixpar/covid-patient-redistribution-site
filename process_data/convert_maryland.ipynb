{
 "cells": [
  {
   "cell_type": "code",
   "execution_count": 1,
   "metadata": {},
   "outputs": [],
   "source": [
    "using CSV\n",
    "using DataFrames\n",
    "using Dates\n",
    "using Distributions\n",
    "using Serialization\n",
    "using LinearAlgebra: diagm\n",
    "using JSON"
   ]
  },
  {
   "cell_type": "code",
   "execution_count": 2,
   "metadata": {},
   "outputs": [],
   "source": [
    "projectbasepath = \"../../covid-resource-allocation/\"\n",
    "include(joinpath(projectbasepath, \"src/processing/LocalDataCommon.jl\"));\n",
    "include(joinpath(projectbasepath, \"src/processing/GeographicData.jl\"));"
   ]
  },
  {
   "cell_type": "code",
   "execution_count": 3,
   "metadata": {},
   "outputs": [],
   "source": [
    "data_dir = \"../data/\";\n",
    "outputdatapath = \"../data/\";"
   ]
  },
  {
   "cell_type": "code",
   "execution_count": 4,
   "metadata": {},
   "outputs": [],
   "source": [
    "data_date = \"2020_12_10\";"
   ]
  },
  {
   "cell_type": "code",
   "execution_count": 5,
   "metadata": {},
   "outputs": [],
   "source": [
    "capacity_data = DataFrame(CSV.File(\"../data/capacity_maryland.csv\"));"
   ]
  },
  {
   "cell_type": "code",
   "execution_count": 6,
   "metadata": {},
   "outputs": [],
   "source": [
    "SCENARIOS = [:moderate, :pessimistic, :catastrophic];\n",
    "BEDTYPES  = [:allbeds, :icu, :acute];"
   ]
  },
  {
   "cell_type": "code",
   "execution_count": 7,
   "metadata": {},
   "outputs": [],
   "source": [
    "los_dist = (\n",
    "    icu = Weibull(1.58, 13.32),\n",
    "    acute = Weibull(1.38, 12.88),\n",
    "    allbeds = Weibull(1.38, 12.88),\n",
    ");"
   ]
  },
  {
   "cell_type": "code",
   "execution_count": 8,
   "metadata": {},
   "outputs": [],
   "source": [
    "start_date = Date(2020, 11, 25);\n",
    "end_date   = Date(2021, 2, 10);\n",
    "date_range = collect(start_date : Day(1) : end_date);"
   ]
  },
  {
   "cell_type": "code",
   "execution_count": 9,
   "metadata": {},
   "outputs": [],
   "source": [
    "hospitals = sort(capacity_data.hospital);\n",
    "N = length(hospitals);"
   ]
  },
  {
   "cell_type": "code",
   "execution_count": 10,
   "metadata": {},
   "outputs": [],
   "source": [
    "adj = BitArray(ones(N,N) - diagm(ones(N)));"
   ]
  },
  {
   "cell_type": "code",
   "execution_count": 11,
   "metadata": {},
   "outputs": [],
   "source": [
    "dist_matrix = diagm(fill(Inf, N));"
   ]
  },
  {
   "cell_type": "code",
   "execution_count": 12,
   "metadata": {},
   "outputs": [],
   "source": [
    "capacity_names_full = [\"Base Capacity\"];\n",
    "capacity_names_abbrev = [\"baselinecap\"];"
   ]
  },
  {
   "cell_type": "code",
   "execution_count": 13,
   "metadata": {},
   "outputs": [],
   "source": [
    "function load_capacity_md(hospitals, bedtype, capacity_levels=[:baseline])\n",
    "    beds_dict = Dict(row.hospital => Dict(\n",
    "        \"icu\" => row.capacity_icu,\n",
    "        \"acute\" => row.capacity_acute,\n",
    "        \"allbeds\" => row.capacity_icu + row.capacity_acute,\n",
    "    ) for row in eachrow(capacity_data))\n",
    "\n",
    "    if capacity_levels isa Symbol\n",
    "        capacity = [beds_dict[h][string(bedtype)] for h in hospitals]\n",
    "    elseif capacity_levels isa AbstractArray\n",
    "        capacity = hcat([[beds_dict[h][string(bedtype)] for h in hospitals] for l in capacity_levels]...)\n",
    "    else\n",
    "        error(\"Invalid capacity_levels\")\n",
    "    end\n",
    "\n",
    "    return capacity\n",
    "end;"
   ]
  },
  {
   "cell_type": "code",
   "execution_count": 14,
   "metadata": {},
   "outputs": [],
   "source": [
    "function load_forecast_maryland(scenario, bedtype)\n",
    "    @assert(bedtype in [:icu, :acute, :allbeds])\n",
    "    @assert(scenario in [:optimistic, :moderate, :pessimistic, :catastrophic])\n",
    "    \n",
    "    date_dir = \"forecasts-\" * replace(string(data_date), \"_\" => \"-\")\n",
    "\n",
    "    forecast = DataFrame(CSV.File(joinpath(data_dir, \"forecast_fake_$(data_date).csv\")))\n",
    "    forecast_dict = Dict((row.hospital, row.date) => row for row in eachrow(forecast))\n",
    "    \n",
    "    day0 = minimum(date_range) - Day(1)\n",
    "    forecast_admitted = [forecast_dict[(h,d)][\"admitted_$(bedtype)\"] for h in hospitals, d in date_range]\n",
    "    forecast_active   = [forecast_dict[(h,d)][\"admitted_$(bedtype)\"] for h in hospitals, d in date_range]\n",
    "\n",
    "    forecast_admitted_uncertainty = 0.1 .* forecast_admitted\n",
    "    \n",
    "    beds = load_capacity_md(hospitals, bedtype, :baseline)\n",
    "    capacity = load_capacity_md(hospitals, bedtype, [:baseline,])\n",
    "\n",
    "    data = (\n",
    "        scenario = scenario,\n",
    "        bedtype = bedtype,\n",
    "\n",
    "        los_dist = los_dist[bedtype],\n",
    "\n",
    "        active = forecast_active,\n",
    "        admitted = forecast_admitted,\n",
    "        admitted_uncertainty = forecast_admitted_uncertainty,\n",
    "\n",
    "        beds = beds,\n",
    "        capacity = capacity,\n",
    "    )\n",
    "\n",
    "    return data\n",
    "end;"
   ]
  },
  {
   "cell_type": "code",
   "execution_count": 15,
   "metadata": {},
   "outputs": [],
   "source": [
    "maindata = Dict()\n",
    "for scenario in SCENARIOS, bedtype in BEDTYPES\n",
    "    maindata[(scenario,bedtype)] = load_forecast_maryland(scenario, bedtype)\n",
    "end"
   ]
  },
  {
   "cell_type": "code",
   "execution_count": 16,
   "metadata": {},
   "outputs": [],
   "source": [
    "hospital_positions_raw = JSON.parsefile(\"../data/md_hospital_locs.json\");\n",
    "hospital_positions = Dict(h => (\n",
    "    lat  = hospital_positions_raw[h][\"lat\"],\n",
    "    long = hospital_positions_raw[h][\"lng\"],\n",
    ") for h in hospitals);"
   ]
  },
  {
   "cell_type": "code",
   "execution_count": 17,
   "metadata": {},
   "outputs": [],
   "source": [
    "completedata = (\n",
    "    location_names = hospitals,\n",
    "    location_names_short = hospitals,\n",
    "    start_date = start_date,\n",
    "    end_date = end_date,\n",
    "    counties = nothing,\n",
    "    states = nothing,\n",
    "    dist_matrix = dist_matrix,\n",
    "    locations_latlong = hospital_positions,\n",
    "    casesdata = maindata,\n",
    ");"
   ]
  },
  {
   "cell_type": "code",
   "execution_count": 18,
   "metadata": {},
   "outputs": [],
   "source": [
    "serialize(joinpath(outputdatapath, \"data_maryland.jlser\"), completedata);"
   ]
  },
  {
   "cell_type": "code",
   "execution_count": null,
   "metadata": {},
   "outputs": [],
   "source": []
  }
 ],
 "metadata": {
  "@webio": {
   "lastCommId": null,
   "lastKernelId": null
  },
  "kernelspec": {
   "display_name": "Julia 1.5.3",
   "language": "julia",
   "name": "julia-1.5"
  },
  "language_info": {
   "file_extension": ".jl",
   "mimetype": "application/julia",
   "name": "julia",
   "version": "1.5.3"
  }
 },
 "nbformat": 4,
 "nbformat_minor": 4
}
