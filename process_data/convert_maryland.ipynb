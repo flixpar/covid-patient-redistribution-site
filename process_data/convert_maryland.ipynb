{
 "cells": [
  {
   "cell_type": "code",
   "execution_count": 1,
   "metadata": {},
   "outputs": [],
   "source": [
    "using CSV\n",
    "using DataFrames\n",
    "using Dates\n",
    "using Distributions\n",
    "using Serialization\n",
    "using LinearAlgebra: diagm\n",
    "using JSON"
   ]
  },
  {
   "cell_type": "code",
   "execution_count": 2,
   "metadata": {},
   "outputs": [],
   "source": [
    "ENV[\"COLUMNS\"] = 1000;"
   ]
  },
  {
   "cell_type": "code",
   "execution_count": 3,
   "metadata": {},
   "outputs": [],
   "source": [
    "data_dir = \"../data/\";\n",
    "outputdatapath = \"../data/\";"
   ]
  },
  {
   "cell_type": "code",
   "execution_count": 4,
   "metadata": {},
   "outputs": [],
   "source": [
    "forecast_date = \"2020_12_10\";"
   ]
  },
  {
   "cell_type": "code",
   "execution_count": 5,
   "metadata": {},
   "outputs": [],
   "source": [
    "capacity_data = DataFrame(CSV.File(\"../data/capacity_maryland.csv\"));"
   ]
  },
  {
   "cell_type": "code",
   "execution_count": 6,
   "metadata": {},
   "outputs": [],
   "source": [
    "SCENARIOS = [:optimistic, :moderate, :pessimistic];\n",
    "BEDTYPES  = [:allbeds, :icu, :acute];"
   ]
  },
  {
   "cell_type": "code",
   "execution_count": 7,
   "metadata": {},
   "outputs": [],
   "source": [
    "los_dist = (\n",
    "    icu = Weibull(1.58, 13.32),\n",
    "    acute = Weibull(1.38, 12.88),\n",
    "    allbeds = Weibull(1.38, 12.88),\n",
    ");"
   ]
  },
  {
   "cell_type": "code",
   "execution_count": 8,
   "metadata": {},
   "outputs": [],
   "source": [
    "start_date = Date(2020, 03, 27);\n",
    "end_date   = Date(2021, 04, 01);\n",
    "date_range = collect(start_date : Day(1) : end_date);\n",
    "T = length(date_range);"
   ]
  },
  {
   "cell_type": "code",
   "execution_count": 9,
   "metadata": {},
   "outputs": [],
   "source": [
    "hospitals = sort(capacity_data.hospital);\n",
    "N = length(hospitals);"
   ]
  },
  {
   "cell_type": "code",
   "execution_count": 10,
   "metadata": {},
   "outputs": [],
   "source": [
    "adj = BitArray(ones(N,N) - diagm(ones(N)));"
   ]
  },
  {
   "cell_type": "code",
   "execution_count": 11,
   "metadata": {},
   "outputs": [],
   "source": [
    "dist_matrix = diagm(fill(Inf, N));"
   ]
  },
  {
   "cell_type": "code",
   "execution_count": 12,
   "metadata": {},
   "outputs": [],
   "source": [
    "capacity_names_full = [\"Base Capacity\"];\n",
    "capacity_names_abbrev = [\"baselinecap\"];"
   ]
  },
  {
   "cell_type": "code",
   "execution_count": 13,
   "metadata": {},
   "outputs": [],
   "source": [
    "function load_capacity_md(hospitals, bedtype, capacity_levels=[:baseline])\n",
    "    beds_dict = Dict(row.hospital => Dict(\n",
    "        \"icu\" => row.capacity_icu,\n",
    "        \"acute\" => row.capacity_acute,\n",
    "        \"allbeds\" => row.capacity_icu + row.capacity_acute,\n",
    "    ) for row in eachrow(capacity_data))\n",
    "\n",
    "    if capacity_levels isa Symbol\n",
    "        capacity = [beds_dict[h][string(bedtype)] for h in hospitals]\n",
    "    elseif capacity_levels isa AbstractArray\n",
    "        capacity = hcat([[beds_dict[h][string(bedtype)] for h in hospitals] for l in capacity_levels]...)\n",
    "    else\n",
    "        error(\"Invalid capacity_levels\")\n",
    "    end\n",
    "\n",
    "    return capacity\n",
    "end;"
   ]
  },
  {
   "cell_type": "code",
   "execution_count": 14,
   "metadata": {},
   "outputs": [],
   "source": [
    "function estimate_admitted(active, los_dist)\n",
    "    T = length(active)\n",
    "    \n",
    "    initial = active[1]\n",
    "    discharged = initial .* (pdf.(los_dist, 0:T-1))\n",
    "\n",
    "    L = 1.0 .- cdf.(los_dist, 0:T)\n",
    "\n",
    "    A = [(t′ ≤ t) ? L[t-t′+1] : 0 for t in 1:T, t′ in 1:T]\n",
    "    b = [active[t] - (initial - sum(discharged[1:t])) for t in 1:T]\n",
    "    admitted = A \\ b\n",
    "    \n",
    "    return admitted\n",
    "end;"
   ]
  },
  {
   "cell_type": "code",
   "execution_count": 15,
   "metadata": {},
   "outputs": [],
   "source": [
    "md_data = DataFrame(CSV.File(\"../rawdata/md_data_2020_12_01.csv\", dateformat=\"mm/dd/yy\", missingstring=\"null\"))\n",
    "rename!(md_data,\n",
    "    \"Facility Name\" => :hospital,\n",
    "    \"Modified Date\" => :date,\n",
    "    \"COVID-19 Patients in Acute Care Beds\" => :active_covid_acute,\n",
    "    \"COVID-19 Patients in ICU\" => :active_covid_icu,\n",
    ")\n",
    "md_data.date .+= Year(2000)\n",
    "md_data_dict = Dict((row.hospital,row.date) => \n",
    "        Dict(\n",
    "            \"active_icu\" => coalesce.(row.active_covid_icu, 0),\n",
    "            \"active_acute\" => coalesce.(row.active_covid_acute, 0),\n",
    "            \"active_allbeds\" => coalesce.(row.active_covid_icu, 0) + coalesce.(row.active_covid_acute, 0),\n",
    "        )\n",
    "    for row in eachrow(md_data)\n",
    ");"
   ]
  },
  {
   "cell_type": "code",
   "execution_count": 16,
   "metadata": {},
   "outputs": [],
   "source": [
    "forecast = DataFrame(CSV.File(joinpath(data_dir, \"forecast_fake_$(forecast_date).csv\")));"
   ]
  },
  {
   "cell_type": "code",
   "execution_count": 17,
   "metadata": {},
   "outputs": [],
   "source": [
    "function load_forecast_maryland(scenario, bedtype)\n",
    "    @assert(bedtype in [:icu, :acute, :allbeds])\n",
    "    @assert(scenario in [:optimistic, :moderate, :pessimistic, :catastrophic])\n",
    "\n",
    "    forecast_dict = Dict((row.hospital, row.date) => (\n",
    "        admitted = row[\"admitted_$(bedtype)\"],\n",
    "        active = row[\"active_$(bedtype)\"],\n",
    "    ) for row in eachrow(forecast))\n",
    "    \n",
    "    hist_dict = Dict(k => v[\"active_$(bedtype)\"] for (k,v) in pairs(md_data_dict))\n",
    "\n",
    "    hist_date_range = sort(intersect(date_range, md_data.date))\n",
    "    forecast_date_range = sort(setdiff(date_range, hist_date_range))\n",
    "\n",
    "    hist_date_range_t = [findfirst(date_range .== d) for d in hist_date_range]\n",
    "    forecast_date_range_t = [findfirst(date_range .== d) for d in forecast_date_range]\n",
    "\n",
    "    forecast_admitted = [forecast_dict[(h,d)].admitted for h in hospitals, d in forecast_date_range]\n",
    "    forecast_active   = [forecast_dict[(h,d)].active for h in hospitals, d in forecast_date_range]\n",
    "\n",
    "    hist_active = [haskey(hist_dict, (h,d)) ? hist_dict[(h,d)] : 0 for h in hospitals, d in hist_date_range]\n",
    "    hist_admitted = Array{Float64,2}(undef,N,length(hist_date_range))\n",
    "    for i in 1:N\n",
    "        hist_admitted[i,:] = estimate_admitted(hist_active[i,:], los_dist[bedtype])\n",
    "    end\n",
    "    \n",
    "    active = zeros(Float64, N, T)\n",
    "    active[:,forecast_date_range_t] = forecast_active\n",
    "    active[:,hist_date_range_t] = hist_active\n",
    "    \n",
    "    admitted = zeros(Float64, N, T)\n",
    "    admitted[:,forecast_date_range_t] = forecast_admitted\n",
    "    admitted[:,hist_date_range_t] = hist_admitted\n",
    "\n",
    "    admitted_uncertainty = 0.1 .* admitted\n",
    "\n",
    "    beds = load_capacity_md(hospitals, bedtype, :baseline)\n",
    "    capacity = load_capacity_md(hospitals, bedtype, [:baseline,])\n",
    "\n",
    "    data = (\n",
    "        scenario = scenario,\n",
    "        bedtype = bedtype,\n",
    "\n",
    "        los_dist = los_dist[bedtype],\n",
    "\n",
    "        active = active,\n",
    "        admitted = admitted,\n",
    "        admitted_uncertainty = admitted_uncertainty,\n",
    "\n",
    "        beds = beds,\n",
    "        capacity = capacity,\n",
    "    )\n",
    "\n",
    "    return data\n",
    "end;"
   ]
  },
  {
   "cell_type": "code",
   "execution_count": 18,
   "metadata": {},
   "outputs": [
    {
     "name": "stdout",
     "output_type": "stream",
     "text": [
      "(scenario, bedtype) = (:optimistic, :allbeds)\n",
      "(scenario, bedtype) = (:optimistic, :icu)\n",
      "(scenario, bedtype) = (:optimistic, :acute)\n",
      "(scenario, bedtype) = (:moderate, :allbeds)\n",
      "(scenario, bedtype) = (:moderate, :icu)\n",
      "(scenario, bedtype) = (:moderate, :acute)\n",
      "(scenario, bedtype) = (:pessimistic, :allbeds)\n",
      "(scenario, bedtype) = (:pessimistic, :icu)\n",
      "(scenario, bedtype) = (:pessimistic, :acute)\n"
     ]
    }
   ],
   "source": [
    "maindata = Dict()\n",
    "for scenario in SCENARIOS, bedtype in BEDTYPES\n",
    "    @show (scenario, bedtype)\n",
    "    maindata[(scenario,bedtype)] = load_forecast_maryland(scenario, bedtype)\n",
    "end"
   ]
  },
  {
   "cell_type": "code",
   "execution_count": 19,
   "metadata": {},
   "outputs": [],
   "source": [
    "hospital_positions_raw = JSON.parsefile(\"../data/md_hospital_locs.json\");\n",
    "hospital_positions = Dict(h => (\n",
    "    lat  = hospital_positions_raw[h][\"lat\"],\n",
    "    long = hospital_positions_raw[h][\"lng\"],\n",
    ") for h in hospitals);"
   ]
  },
  {
   "cell_type": "code",
   "execution_count": 20,
   "metadata": {},
   "outputs": [],
   "source": [
    "completedata = (\n",
    "    location_names = hospitals,\n",
    "    location_names_short = hospitals,\n",
    "    start_date = start_date,\n",
    "    end_date = end_date,\n",
    "    counties = nothing,\n",
    "    states = nothing,\n",
    "    dist_matrix = dist_matrix,\n",
    "    locations_latlong = hospital_positions,\n",
    "    casesdata = maindata,\n",
    ");"
   ]
  },
  {
   "cell_type": "code",
   "execution_count": 21,
   "metadata": {},
   "outputs": [],
   "source": [
    "serialize(joinpath(outputdatapath, \"data_maryland.jlser\"), completedata);"
   ]
  },
  {
   "cell_type": "code",
   "execution_count": null,
   "metadata": {},
   "outputs": [],
   "source": []
  }
 ],
 "metadata": {
  "@webio": {
   "lastCommId": null,
   "lastKernelId": null
  },
  "kernelspec": {
   "display_name": "Julia 1.5.3",
   "language": "julia",
   "name": "julia-1.5"
  },
  "language_info": {
   "file_extension": ".jl",
   "mimetype": "application/julia",
   "name": "julia",
   "version": "1.5.3"
  }
 },
 "nbformat": 4,
 "nbformat_minor": 4
}
