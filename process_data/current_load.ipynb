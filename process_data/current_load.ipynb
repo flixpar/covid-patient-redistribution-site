{
 "cells": [
  {
   "cell_type": "code",
   "execution_count": 1,
   "metadata": {},
   "outputs": [],
   "source": [
    "using CSV\n",
    "using DataFrames\n",
    "using Serialization\n",
    "using Dates"
   ]
  },
  {
   "cell_type": "code",
   "execution_count": 2,
   "metadata": {},
   "outputs": [],
   "source": [
    "ENV[\"COLUMNS\"] = 1000;"
   ]
  },
  {
   "cell_type": "code",
   "execution_count": 3,
   "metadata": {},
   "outputs": [],
   "source": [
    "rawdata = DataFrame(CSV.File(\"../rawdata/md_data_2020_12_01.csv\", missingstring=\"null\"));"
   ]
  },
  {
   "cell_type": "code",
   "execution_count": 4,
   "metadata": {},
   "outputs": [],
   "source": [
    "hospitals = sort(unique(rawdata[!,\"Facility Name\"]));\n",
    "get_hospital_id(h) = h |> hash |> string |> (x -> \"h\" * x[end-7:end]);\n",
    "convert_date(d) = Date(d, dateformat\"m/d/y\") + Year(2000);\n",
    "\n",
    "data = select(rawdata,\n",
    "    \"Facility Name\" => :hospital,\n",
    "    \"Facility Name\" => ByRow(get_hospital_id) => :hospital_id,\n",
    "\n",
    "    \"Occupied Adult Acute Care Beds\" => :acute_occupancy,\n",
    "    \"Occupied Adult ICU Beds\" => :icu_occupancy,\n",
    "    [\"Occupied Adult Acute Care Beds\", \"Occupied Adult ICU Beds\"] => ByRow((a,b) -> a+b) => :total_occupancy,\n",
    ");\n",
    "sort!(data, :hospital);"
   ]
  },
  {
   "cell_type": "code",
   "execution_count": 5,
   "metadata": {},
   "outputs": [],
   "source": [
    "function latest_val(xs)\n",
    "    xs = filter(x -> !ismissing(x), xs)\n",
    "    z = length(xs) == 0 ? missing : xs[end]\n",
    "    z = coalesce(z, 0)\n",
    "    return z\n",
    "end;"
   ]
  },
  {
   "cell_type": "code",
   "execution_count": 6,
   "metadata": {},
   "outputs": [],
   "source": [
    "data_latest = combine(groupby(data, :hospital), [\n",
    "    :hospital_id => latest_val => :hospital_id,\n",
    "    :total_occupancy => latest_val => :total_occupancy,\n",
    "    :icu_occupancy => latest_val => :icu_occupancy,\n",
    "    :acute_occupancy => latest_val => :acute_occupancy,\n",
    "]);"
   ]
  },
  {
   "cell_type": "code",
   "execution_count": 7,
   "metadata": {},
   "outputs": [],
   "source": [
    "capacity_rawdata = DataFrame(CSV.File(\"../data/capacity.csv\"));"
   ]
  },
  {
   "cell_type": "code",
   "execution_count": 8,
   "metadata": {},
   "outputs": [],
   "source": [
    "capacity_data = select(capacity_rawdata,\n",
    "    :hospital,\n",
    "    :capacity_icu => :icu_beds,\n",
    "    :capacity_acute => :acute_beds,\n",
    "    :capacity_allbeds => :total_beds,\n",
    ");"
   ]
  },
  {
   "cell_type": "code",
   "execution_count": 9,
   "metadata": {},
   "outputs": [],
   "source": [
    "data_latest = rightjoin(data_latest, capacity_data, on=:hospital);"
   ]
  },
  {
   "cell_type": "code",
   "execution_count": 10,
   "metadata": {},
   "outputs": [],
   "source": [
    "compute_load(a,b) = (a==0) ? 0.0 : (b==0) ? 1.0 : a/b;"
   ]
  },
  {
   "cell_type": "code",
   "execution_count": 11,
   "metadata": {},
   "outputs": [],
   "source": [
    "data_latest.total_load = compute_load.(data_latest.total_occupancy, data_latest.total_beds);\n",
    "data_latest.icu_load = compute_load.(data_latest.icu_occupancy, data_latest.icu_beds);\n",
    "data_latest.acute_load = compute_load.(data_latest.acute_occupancy, data_latest.acute_beds);"
   ]
  },
  {
   "cell_type": "code",
   "execution_count": 12,
   "metadata": {},
   "outputs": [],
   "source": [
    "metadata = DataFrame(CSV.File(\"../data/hospital_meta.csv\"));"
   ]
  },
  {
   "cell_type": "code",
   "execution_count": 13,
   "metadata": {},
   "outputs": [],
   "source": [
    "data_combined = leftjoin(data_latest, metadata, on=:hospital_id, makeunique=true);"
   ]
  },
  {
   "cell_type": "code",
   "execution_count": 14,
   "metadata": {},
   "outputs": [],
   "source": [
    "sort!(data_combined, :hospital);"
   ]
  },
  {
   "cell_type": "code",
   "execution_count": 15,
   "metadata": {},
   "outputs": [
    {
     "data": {
      "text/html": [
       "<table class=\"data-frame\"><thead><tr><th></th><th>hospital</th><th>hospital_id</th><th>total_occupancy</th><th>icu_occupancy</th><th>acute_occupancy</th><th>icu_beds</th><th>acute_beds</th><th>total_beds</th><th>total_load</th><th>icu_load</th><th>acute_load</th><th>hospital_1</th><th>in_forecast</th><th>address</th><th>county</th><th>healthcare_region</th><th>city</th><th>zipcode</th><th>lat</th><th>long</th><th>place_id</th><th>state</th><th>state_abbrev</th><th>hsa_id</th><th>hsa_name</th><th>hrr_id</th><th>hrr_name</th></tr><tr><th></th><th>String?</th><th>String?</th><th>Int64?</th><th>Int64?</th><th>Int64?</th><th>Int64</th><th>Int64</th><th>Int64</th><th>Float64</th><th>Float64</th><th>Float64</th><th>String?</th><th>Bool?</th><th>String?</th><th>String?</th><th>String?</th><th>String?</th><th>Int64?</th><th>Float64?</th><th>Float64?</th><th>String?</th><th>String?</th><th>String?</th><th>Int64?</th><th>String?</th><th>Int64?</th><th>String?</th></tr></thead><tbody><p>55 rows × 27 columns</p><tr><th>1</th><td>Anne Arundel Medical Center</td><td>h39740093</td><td>301</td><td>27</td><td>274</td><td>40</td><td>284</td><td>324</td><td>0.929012</td><td>0.675</td><td>0.964789</td><td>Anne Arundel Medical Center</td><td>1</td><td>2002 Medical Pkwy, Annapolis, MD 21401, USA</td><td>Anne Arundel County</td><td>Region III</td><td>Annapolis</td><td>21401</td><td>38.9904</td><td>-76.5374</td><td>ChIJwQbdhNf2t4kR9wSFLYAT0Go</td><td>Maryland</td><td>MD</td><td>21001</td><td>Annapolis, MD</td><td>113</td><td>Washington, DC</td></tr><tr><th>2</th><td>Atlantic General Hospital</td><td>h92616877</td><td>44</td><td>7</td><td>37</td><td>9</td><td>43</td><td>51</td><td>0.862745</td><td>0.777778</td><td>0.860465</td><td>Atlantic General Hospital</td><td>1</td><td>9733 Healthway Dr, Berlin, MD 21811, USA</td><td>Worcester County</td><td>Region IV</td><td>Berlin</td><td>21811</td><td>38.3396</td><td>-75.2115</td><td>ChIJrTSS5gInuYkRtT2krn-1-Jw</td><td>Maryland</td><td>MD</td><td>21029</td><td>Salisbury, MD</td><td>225</td><td>Salisbury, MD</td></tr><tr><th>3</th><td>Baltimore Convention Center Field Hospital</td><td>h94720559</td><td>32</td><td>0</td><td>32</td><td>0</td><td>26</td><td>23</td><td>1.3913</td><td>0.0</td><td>1.23077</td><td>Baltimore Convention Center Field Hospital</td><td>0</td><td>1 W Pratt St, Baltimore, MD 21201, USA</td><td>Baltimore City</td><td>Region III</td><td>Baltimore</td><td>21201</td><td>39.2854</td><td>-76.6171</td><td>ChIJqSGk9WADyIkRDVkLuWmZKdM</td><td>Maryland</td><td>MD</td><td>21002</td><td>Baltimore, MD</td><td>223</td><td>Baltimore, MD</td></tr><tr><th>4</th><td>Baltimore Washington Medical Center</td><td>h75227743</td><td>233</td><td>32</td><td>201</td><td>30</td><td>206</td><td>236</td><td>0.987288</td><td>1.06667</td><td>0.975728</td><td>Baltimore Washington Medical Center</td><td>1</td><td>301 Hospital Dr, Glen Burnie, MD 21061, USA</td><td>Anne Arundel County</td><td>Region III</td><td>Glen Burnie</td><td>21061</td><td>39.1379</td><td>-76.6218</td><td>ChIJofV1-bz8t4kRUG1GNyt_7cA</td><td>Maryland</td><td>MD</td><td>21016</td><td>Glen Burnie, MD</td><td>223</td><td>Baltimore, MD</td></tr><tr><th>5</th><td>Bowie Medical Center</td><td>h26261837</td><td>0</td><td>0</td><td>0</td><td>0</td><td>10</td><td>10</td><td>0.0</td><td>0.0</td><td>0.0</td><td>Bowie Medical Center</td><td>0</td><td>15001 Health Center Dr, Bowie, MD 20716, USA</td><td>Prince Georges County</td><td>Region V</td><td>Bowie</td><td>20716</td><td>38.9494</td><td>-76.746</td><td>ChIJn0x8bI7rt4kR2KeO6HUDCGY</td><td>Maryland</td><td>MD</td><td>21020</td><td>Lanham, MD</td><td>226</td><td>Takoma Park, MD</td></tr><tr><th>6</th><td>Calvert Memorial Hospital</td><td>h51968182</td><td>48</td><td>6</td><td>42</td><td>6</td><td>54</td><td>59</td><td>0.813559</td><td>1.0</td><td>0.777778</td><td>Calvert Memorial Hospital</td><td>1</td><td>100 Hospital Rd, Prince Frederick, MD 20678, USA</td><td>Calvert County</td><td>Region V</td><td>Prince Frederick</td><td>20678</td><td>38.5594</td><td>-76.5963</td><td>ChIJGf93tYmCt4kRUHcfYxctVoM</td><td>Maryland</td><td>MD</td><td>21025</td><td>Prince Frederick, MD</td><td>113</td><td>Washington, DC</td></tr><tr><th>7</th><td>Carroll Hospital Center</td><td>h73144964</td><td>129</td><td>7</td><td>122</td><td>10</td><td>112</td><td>123</td><td>1.04878</td><td>0.7</td><td>1.08929</td><td>Carroll Hospital Center</td><td>1</td><td>200 Memorial Ave, Westminster, MD 21157, USA</td><td>Carroll County</td><td>Region III</td><td>Westminster</td><td>21157</td><td>39.5576</td><td>-76.9903</td><td>ChIJX6DoR2s4yIkR_eqhMva6JnY</td><td>Maryland</td><td>MD</td><td>21033</td><td>Westminster, MD</td><td>223</td><td>Baltimore, MD</td></tr><tr><th>8</th><td>Charles Regional (UM)</td><td>h61059656</td><td>74</td><td>8</td><td>66</td><td>12</td><td>98</td><td>111</td><td>0.666667</td><td>0.666667</td><td>0.673469</td><td>Charles Regional (UM)</td><td>1</td><td>5 Garrett Ave, La Plata, MD 20646, USA</td><td>Charles County</td><td>Region V</td><td>La Plata</td><td>20646</td><td>38.529</td><td>-76.9722</td><td>ChIJL0cYbucIt4kR8Bh1L4nlJtc</td><td>Maryland</td><td>MD</td><td>21019</td><td>La Plata, MD</td><td>113</td><td>Washington, DC</td></tr><tr><th>9</th><td>Chestertown (UMSRH)</td><td>h95946725</td><td>10</td><td>1</td><td>9</td><td>2</td><td>11</td><td>13</td><td>0.769231</td><td>0.5</td><td>0.818182</td><td>Chestertown (UMSRH)</td><td>1</td><td>223 High St, Chestertown, MD 21620, USA</td><td>Kent County</td><td>Region IV</td><td>Chestertown</td><td>21620</td><td>39.2085</td><td>-76.0657</td><td>ChIJ_1Qaz0OLx4kRb8E80Y10zW0</td><td>Maryland</td><td>MD</td><td>21005</td><td>Chestertown, MD</td><td>223</td><td>Baltimore, MD</td></tr><tr><th>10</th><td>Doctors Community Hospital</td><td>h82233897</td><td>160</td><td>24</td><td>136</td><td>22</td><td>187</td><td>209</td><td>0.76555</td><td>1.09091</td><td>0.727273</td><td>Doctors Community Hospital</td><td>1</td><td>8118 Good Luck Rd, Lanham, MD 20706, USA</td><td>Prince Georges County</td><td>Region V</td><td>Lanham</td><td>20706</td><td>38.9823</td><td>-76.865</td><td>ChIJlxkz022lt4kR4BGhrREiUM0</td><td>Maryland</td><td>MD</td><td>21020</td><td>Lanham, MD</td><td>226</td><td>Takoma Park, MD</td></tr><tr><th>11</th><td>Dorchester (UMSRH)</td><td>h63139553</td><td>7</td><td>0</td><td>7</td><td>0</td><td>9</td><td>9</td><td>0.777778</td><td>0.0</td><td>0.777778</td><td>Dorchester (UMSRH)</td><td>1</td><td>300 Byrn St, Cambridge, MD 21613, USA</td><td>Dorchester County</td><td>Region IV</td><td>Cambridge</td><td>21613</td><td>38.5714</td><td>-76.0674</td><td>ChIJW8KAmPZJuIkReFPCqJWGcWw</td><td>Maryland</td><td>MD</td><td>21004</td><td>Cambridge, MD</td><td>225</td><td>Salisbury, MD</td></tr><tr><th>12</th><td>Easton (UMSRH)</td><td>h48881906</td><td>74</td><td>4</td><td>70</td><td>6</td><td>66</td><td>72</td><td>1.02778</td><td>0.666667</td><td>1.06061</td><td>Easton (UMSRH)</td><td>1</td><td>111 N W St, Easton, MD 21601, USA</td><td>Talbot County</td><td>Region IV</td><td>Easton</td><td>21601</td><td>38.7755</td><td>-76.0779</td><td>ChIJOYnetntAuIkR91bzxuuSudE</td><td>Maryland</td><td>MD</td><td>21011</td><td>Easton, MD</td><td>223</td><td>Baltimore, MD</td></tr><tr><th>13</th><td>Edward McCready Memorial Hospital</td><td>h55609821</td><td>0</td><td>0</td><td>0</td><td>0</td><td>0</td><td>0</td><td>0.0</td><td>0.0</td><td>0.0</td><td>Edward McCready Memorial Hospital</td><td>1</td><td>201 Hall Hwy, Crisfield, MD 21817, USA</td><td>Somerset County</td><td>Region IV</td><td>Crisfield</td><td>21817</td><td>37.9974</td><td>-75.8527</td><td>ChIJ-4yXGwKbuYkRZDZUn-zDK1c</td><td>Maryland</td><td>MD</td><td>21009</td><td>Crisfield, MD</td><td>225</td><td>Salisbury, MD</td></tr><tr><th>14</th><td>Fort Washington ACS</td><td>h30119195</td><td>12</td><td>6</td><td>6</td><td>3</td><td>1</td><td>5</td><td>2.4</td><td>2.0</td><td>6.0</td><td>Fort Washington ACS</td><td>0</td><td>11108 Fort Washington Rd, Fort Washington, MD 20744, USA</td><td>Prince Georges County</td><td>Region V</td><td>Fort Washington</td><td>20744</td><td>38.742</td><td>-76.9954</td><td>ChIJOU1vekOlt4kRbra8AmHuUao</td><td>Maryland</td><td>MD</td><td>9001</td><td>Washington, DC</td><td>113</td><td>Washington, DC</td></tr><tr><th>15</th><td>Fort Washington Hospital</td><td>h24459724</td><td>18</td><td>0</td><td>18</td><td>4</td><td>23</td><td>27</td><td>0.666667</td><td>0.0</td><td>0.782609</td><td>Fort Washington Hospital</td><td>1</td><td>11711 Livingston Rd, Fort Washington, MD 20744, USA</td><td>Prince Georges County</td><td>Region V</td><td>Fort Washington</td><td>20744</td><td>38.7285</td><td>-76.9926</td><td>ChIJ8Q-M0G2lt4kR5ZiIaMcPIn0</td><td>Maryland</td><td>MD</td><td>9001</td><td>Washington, DC</td><td>113</td><td>Washington, DC</td></tr><tr><th>16</th><td>Franklin Square (MedStar)</td><td>h41936996</td><td>308</td><td>38</td><td>270</td><td>43</td><td>269</td><td>313</td><td>0.984026</td><td>0.883721</td><td>1.00372</td><td>Franklin Square (MedStar)</td><td>1</td><td>9000 Franklin Square Dr, Baltimore, MD 21237, USA</td><td>Baltimore County</td><td>Region III</td><td>Baltimore</td><td>21237</td><td>39.3515</td><td>-76.4798</td><td>ChIJi94w0d8HyIkRLpjbeMfJ4Ag</td><td>Maryland</td><td>MD</td><td>21002</td><td>Baltimore, MD</td><td>223</td><td>Baltimore, MD</td></tr><tr><th>17</th><td>Frederick Memorial Hospital</td><td>h27068501</td><td>156</td><td>15</td><td>141</td><td>19</td><td>219</td><td>238</td><td>0.655462</td><td>0.789474</td><td>0.643836</td><td>Frederick Memorial Hospital</td><td>1</td><td>400 W 7th St, Frederick, MD 21701, USA</td><td>Frederick County</td><td>Region II</td><td>Frederick</td><td>21701</td><td>39.4233</td><td>-77.4147</td><td>ChIJ0YmlpfnayYkRAKI6gkl5Gy8</td><td>Maryland</td><td>MD</td><td>21014</td><td>Frederick, MD</td><td>113</td><td>Washington, DC</td></tr><tr><th>18</th><td>Garrett Memorial Hospital (WVU)</td><td>h89650230</td><td>36</td><td>4</td><td>32</td><td>4</td><td>41</td><td>46</td><td>0.782609</td><td>1.0</td><td>0.780488</td><td>Garrett Memorial Hospital (WVU)</td><td>1</td><td>251 N 4th St, Oakland, MD 21550, USA</td><td>Garrett County</td><td>Region I</td><td>Oakland</td><td>21550</td><td>39.4134</td><td>-79.4009</td><td>ChIJ3_RoFaCsSogRRR239GLaKHA</td><td>Maryland</td><td>MD</td><td>21023</td><td>Oakland, MD</td><td>445</td><td>Morgantown, WV</td></tr><tr><th>19</th><td>Germantown EC</td><td>h88962860</td><td>0</td><td>0</td><td>0</td><td>0</td><td>0</td><td>0</td><td>0.0</td><td>0.0</td><td>0.0</td><td>Germantown EC</td><td>0</td><td>Germantown, MD, USA</td><td>Montgomery County</td><td>Region V</td><td>Germantown</td><td><em>missing</em></td><td>39.1732</td><td>-77.2717</td><td>ChIJaVb1SHUrtokRhQqCsheruOE</td><td>Maryland</td><td>MD</td><td><em>missing</em></td><td><em>missing</em></td><td><em>missing</em></td><td><em>missing</em></td></tr><tr><th>20</th><td>Good Samaritan Hospital (MedStar)</td><td>h99606414</td><td>172</td><td>13</td><td>159</td><td>28</td><td>142</td><td>170</td><td>1.01176</td><td>0.464286</td><td>1.11972</td><td>Good Samaritan Hospital (MedStar)</td><td>1</td><td>5601 Loch Raven Blvd, Baltimore, MD 21239, USA</td><td>Baltimore City</td><td>Region III</td><td>Baltimore</td><td>21239</td><td>39.358</td><td>-76.5866</td><td>ChIJ63mL3IQFyIkRU6K4Sol0B3E</td><td>Maryland</td><td>MD</td><td>21002</td><td>Baltimore, MD</td><td>223</td><td>Baltimore, MD</td></tr><tr><th>21</th><td>Grace Medical Center</td><td>h55471441</td><td>3</td><td>0</td><td>3</td><td>0</td><td>8</td><td>8</td><td>0.375</td><td>0.0</td><td>0.375</td><td>Grace Medical Center</td><td>1</td><td>2000 W Baltimore St, Baltimore, MD 21223, USA</td><td>Baltimore City</td><td>Region III</td><td>Baltimore</td><td>21223</td><td>39.2893</td><td>-76.6496</td><td>ChIJb7ASF6kcyIkRXrwBvRMQcao</td><td>Maryland</td><td>MD</td><td>21002</td><td>Baltimore, MD</td><td>223</td><td>Baltimore, MD</td></tr><tr><th>22</th><td>Greater Baltimore Medical Center</td><td>h65349594</td><td>176</td><td>18</td><td>158</td><td>24</td><td>204</td><td>228</td><td>0.77193</td><td>0.75</td><td>0.77451</td><td>Greater Baltimore Medical Center</td><td>1</td><td>6701 N Charles St, Towson, MD 21204, USA</td><td>Baltimore County</td><td>Region III</td><td>Towson</td><td>21204</td><td>39.3918</td><td>-76.6242</td><td>ChIJU-Lnv-kPyIkRh_OAo-RyvuQ</td><td>Maryland</td><td>MD</td><td>21002</td><td>Baltimore, MD</td><td>223</td><td>Baltimore, MD</td></tr><tr><th>23</th><td>Harbor Hospital (MedStar)</td><td>h26221809</td><td>86</td><td>16</td><td>70</td><td>13</td><td>74</td><td>87</td><td>0.988506</td><td>1.23077</td><td>0.945946</td><td>Harbor Hospital (MedStar)</td><td>1</td><td>3001 S Hanover St, Baltimore, MD 21225, USA</td><td>Baltimore City</td><td>Region III</td><td>Baltimore</td><td>21225</td><td>39.2516</td><td>-76.6138</td><td>ChIJ85XEtx4DyIkRY9oxGMM1OAQ</td><td>Maryland</td><td>MD</td><td>21002</td><td>Baltimore, MD</td><td>223</td><td>Baltimore, MD</td></tr><tr><th>24</th><td>Harford Memorial Hospital (UMUCH)</td><td>h63170115</td><td>63</td><td>6</td><td>57</td><td>6</td><td>62</td><td>68</td><td>0.926471</td><td>1.0</td><td>0.919355</td><td>Harford Memorial Hospital (UMUCH)</td><td>1</td><td>501 S Union Ave, Havre De Grace, MD 21078, USA</td><td>Harford County</td><td>Region III</td><td>Havre de Grace</td><td>21078</td><td>39.543</td><td>-76.0909</td><td>ChIJ0-3S3ajAx4kR6YSZLPGiblQ</td><td>Maryland</td><td>MD</td><td>21018</td><td>Havre De Grace, MD</td><td>223</td><td>Baltimore, MD</td></tr><tr><th>25</th><td>Holy Cross Germantown</td><td>h47529315</td><td>49</td><td>11</td><td>38</td><td>12</td><td>55</td><td>67</td><td>0.731343</td><td>0.916667</td><td>0.690909</td><td>Holy Cross Germantown</td><td>1</td><td>19801 Observation Dr, Germantown, MD 20876, USA</td><td>Montgomery County</td><td>Region V</td><td>Germantown</td><td>20876</td><td>39.1817</td><td>-77.2425</td><td>ChIJU4d3KWIstokRWbzZoJ-lXrA</td><td>Maryland</td><td>MD</td><td>21028</td><td>Rockville, MD</td><td>113</td><td>Washington, DC</td></tr><tr><th>26</th><td>Holy Cross Hospital</td><td>h32841492</td><td>285</td><td>42</td><td>243</td><td>50</td><td>315</td><td>365</td><td>0.780822</td><td>0.84</td><td>0.771429</td><td>Holy Cross Hospital</td><td>1</td><td>19801 Observation Dr, Germantown, MD 20876, USA</td><td>Montgomery County</td><td>Region V</td><td>Germantown</td><td>20876</td><td>39.1817</td><td>-77.2425</td><td>ChIJU4d3KWIstokRWbzZoJ-lXrA</td><td>Maryland</td><td>MD</td><td>21028</td><td>Rockville, MD</td><td>113</td><td>Washington, DC</td></tr><tr><th>27</th><td>Howard County General Hospital (JHM)</td><td>h01871291</td><td>156</td><td>20</td><td>136</td><td>30</td><td>163</td><td>193</td><td>0.80829</td><td>0.666667</td><td>0.834356</td><td>Howard County General Hospital (JHM)</td><td>1</td><td>5755 Cedar Ln, Columbia, MD 21044, USA</td><td>Howard County</td><td>Region III</td><td>Columbia</td><td>21044</td><td>39.2133</td><td>-76.8836</td><td>ChIJSwHJPxLft4kR7rkSh1PsYP4</td><td>Maryland</td><td>MD</td><td>21008</td><td>Columbia, MD</td><td>223</td><td>Baltimore, MD</td></tr><tr><th>28</th><td>Jessup Corrections ACS</td><td>h81795503</td><td>0</td><td>0</td><td>0</td><td>0</td><td>15</td><td>0</td><td>0.0</td><td>0.0</td><td>0.0</td><td>Jessup Corrections ACS</td><td>0</td><td>131 Jennifer Rd, Annapolis, MD 21401, USA</td><td>Anne Arundel County</td><td>Region III</td><td>Annapolis</td><td>21401</td><td>38.9889</td><td>-76.5302</td><td>ChIJeXtn2N72t4kRAIvSKXAyxCQ</td><td>Maryland</td><td>MD</td><td>21001</td><td>Annapolis, MD</td><td>113</td><td>Washington, DC</td></tr><tr><th>29</th><td>Johns Hopkins Bayview Medical Center</td><td>h71848553</td><td>259</td><td>48</td><td>211</td><td>51</td><td>211</td><td>262</td><td>0.98855</td><td>0.941176</td><td>1.0</td><td>Johns Hopkins Bayview Medical Center</td><td>1</td><td>4940 Eastern Ave, Baltimore, MD 21224, USA</td><td>Baltimore City</td><td>Region III</td><td>Baltimore</td><td>21224</td><td>39.2902</td><td>-76.5471</td><td>ChIJY5YO5acGyIkRf4FQb5H8jz8</td><td>Maryland</td><td>MD</td><td>21002</td><td>Baltimore, MD</td><td>223</td><td>Baltimore, MD</td></tr><tr><th>30</th><td>Johns Hopkins Hospital</td><td>h31492371</td><td>578</td><td>89</td><td>489</td><td>124</td><td>553</td><td>677</td><td>0.853767</td><td>0.717742</td><td>0.884268</td><td>Johns Hopkins Hospital</td><td>1</td><td>1800 Orleans St, Baltimore, MD 21287, USA</td><td>Baltimore City</td><td>Region III</td><td>Baltimore</td><td>21287</td><td>39.2967</td><td>-76.5927</td><td>ChIJQZt_3WIEyIkRj4yKpDbd7ew</td><td>Maryland</td><td>MD</td><td>21002</td><td>Baltimore, MD</td><td>223</td><td>Baltimore, MD</td></tr><tr><th>&vellip;</th><td>&vellip;</td><td>&vellip;</td><td>&vellip;</td><td>&vellip;</td><td>&vellip;</td><td>&vellip;</td><td>&vellip;</td><td>&vellip;</td><td>&vellip;</td><td>&vellip;</td><td>&vellip;</td><td>&vellip;</td><td>&vellip;</td><td>&vellip;</td><td>&vellip;</td><td>&vellip;</td><td>&vellip;</td><td>&vellip;</td><td>&vellip;</td><td>&vellip;</td><td>&vellip;</td><td>&vellip;</td><td>&vellip;</td><td>&vellip;</td><td>&vellip;</td><td>&vellip;</td><td>&vellip;</td></tr></tbody></table>"
      ],
      "text/latex": [
       "\\begin{tabular}{r|ccccccccccccccccccccccccccc}\n",
       "\t& hospital & hospital\\_id & total\\_occupancy & icu\\_occupancy & acute\\_occupancy & icu\\_beds & acute\\_beds & total\\_beds & total\\_load & icu\\_load & acute\\_load & hospital\\_1 & in\\_forecast & address & county & healthcare\\_region & city & zipcode & lat & long & place\\_id & state & state\\_abbrev & hsa\\_id & hsa\\_name & hrr\\_id & hrr\\_name\\\\\n",
       "\t\\hline\n",
       "\t& String? & String? & Int64? & Int64? & Int64? & Int64 & Int64 & Int64 & Float64 & Float64 & Float64 & String? & Bool? & String? & String? & String? & String? & Int64? & Float64? & Float64? & String? & String? & String? & Int64? & String? & Int64? & String?\\\\\n",
       "\t\\hline\n",
       "\t1 & Anne Arundel Medical Center & h39740093 & 301 & 27 & 274 & 40 & 284 & 324 & 0.929012 & 0.675 & 0.964789 & Anne Arundel Medical Center & 1 & 2002 Medical Pkwy, Annapolis, MD 21401, USA & Anne Arundel County & Region III & Annapolis & 21401 & 38.9904 & -76.5374 & ChIJwQbdhNf2t4kR9wSFLYAT0Go & Maryland & MD & 21001 & Annapolis, MD & 113 & Washington, DC \\\\\n",
       "\t2 & Atlantic General Hospital & h92616877 & 44 & 7 & 37 & 9 & 43 & 51 & 0.862745 & 0.777778 & 0.860465 & Atlantic General Hospital & 1 & 9733 Healthway Dr, Berlin, MD 21811, USA & Worcester County & Region IV & Berlin & 21811 & 38.3396 & -75.2115 & ChIJrTSS5gInuYkRtT2krn-1-Jw & Maryland & MD & 21029 & Salisbury, MD & 225 & Salisbury, MD \\\\\n",
       "\t3 & Baltimore Convention Center Field Hospital & h94720559 & 32 & 0 & 32 & 0 & 26 & 23 & 1.3913 & 0.0 & 1.23077 & Baltimore Convention Center Field Hospital & 0 & 1 W Pratt St, Baltimore, MD 21201, USA & Baltimore City & Region III & Baltimore & 21201 & 39.2854 & -76.6171 & ChIJqSGk9WADyIkRDVkLuWmZKdM & Maryland & MD & 21002 & Baltimore, MD & 223 & Baltimore, MD \\\\\n",
       "\t4 & Baltimore Washington Medical Center & h75227743 & 233 & 32 & 201 & 30 & 206 & 236 & 0.987288 & 1.06667 & 0.975728 & Baltimore Washington Medical Center & 1 & 301 Hospital Dr, Glen Burnie, MD 21061, USA & Anne Arundel County & Region III & Glen Burnie & 21061 & 39.1379 & -76.6218 & ChIJofV1-bz8t4kRUG1GNyt\\_7cA & Maryland & MD & 21016 & Glen Burnie, MD & 223 & Baltimore, MD \\\\\n",
       "\t5 & Bowie Medical Center & h26261837 & 0 & 0 & 0 & 0 & 10 & 10 & 0.0 & 0.0 & 0.0 & Bowie Medical Center & 0 & 15001 Health Center Dr, Bowie, MD 20716, USA & Prince Georges County & Region V & Bowie & 20716 & 38.9494 & -76.746 & ChIJn0x8bI7rt4kR2KeO6HUDCGY & Maryland & MD & 21020 & Lanham, MD & 226 & Takoma Park, MD \\\\\n",
       "\t6 & Calvert Memorial Hospital & h51968182 & 48 & 6 & 42 & 6 & 54 & 59 & 0.813559 & 1.0 & 0.777778 & Calvert Memorial Hospital & 1 & 100 Hospital Rd, Prince Frederick, MD 20678, USA & Calvert County & Region V & Prince Frederick & 20678 & 38.5594 & -76.5963 & ChIJGf93tYmCt4kRUHcfYxctVoM & Maryland & MD & 21025 & Prince Frederick, MD & 113 & Washington, DC \\\\\n",
       "\t7 & Carroll Hospital Center & h73144964 & 129 & 7 & 122 & 10 & 112 & 123 & 1.04878 & 0.7 & 1.08929 & Carroll Hospital Center & 1 & 200 Memorial Ave, Westminster, MD 21157, USA & Carroll County & Region III & Westminster & 21157 & 39.5576 & -76.9903 & ChIJX6DoR2s4yIkR\\_eqhMva6JnY & Maryland & MD & 21033 & Westminster, MD & 223 & Baltimore, MD \\\\\n",
       "\t8 & Charles Regional (UM) & h61059656 & 74 & 8 & 66 & 12 & 98 & 111 & 0.666667 & 0.666667 & 0.673469 & Charles Regional (UM) & 1 & 5 Garrett Ave, La Plata, MD 20646, USA & Charles County & Region V & La Plata & 20646 & 38.529 & -76.9722 & ChIJL0cYbucIt4kR8Bh1L4nlJtc & Maryland & MD & 21019 & La Plata, MD & 113 & Washington, DC \\\\\n",
       "\t9 & Chestertown (UMSRH) & h95946725 & 10 & 1 & 9 & 2 & 11 & 13 & 0.769231 & 0.5 & 0.818182 & Chestertown (UMSRH) & 1 & 223 High St, Chestertown, MD 21620, USA & Kent County & Region IV & Chestertown & 21620 & 39.2085 & -76.0657 & ChIJ\\_1Qaz0OLx4kRb8E80Y10zW0 & Maryland & MD & 21005 & Chestertown, MD & 223 & Baltimore, MD \\\\\n",
       "\t10 & Doctors Community Hospital & h82233897 & 160 & 24 & 136 & 22 & 187 & 209 & 0.76555 & 1.09091 & 0.727273 & Doctors Community Hospital & 1 & 8118 Good Luck Rd, Lanham, MD 20706, USA & Prince Georges County & Region V & Lanham & 20706 & 38.9823 & -76.865 & ChIJlxkz022lt4kR4BGhrREiUM0 & Maryland & MD & 21020 & Lanham, MD & 226 & Takoma Park, MD \\\\\n",
       "\t11 & Dorchester (UMSRH) & h63139553 & 7 & 0 & 7 & 0 & 9 & 9 & 0.777778 & 0.0 & 0.777778 & Dorchester (UMSRH) & 1 & 300 Byrn St, Cambridge, MD 21613, USA & Dorchester County & Region IV & Cambridge & 21613 & 38.5714 & -76.0674 & ChIJW8KAmPZJuIkReFPCqJWGcWw & Maryland & MD & 21004 & Cambridge, MD & 225 & Salisbury, MD \\\\\n",
       "\t12 & Easton (UMSRH) & h48881906 & 74 & 4 & 70 & 6 & 66 & 72 & 1.02778 & 0.666667 & 1.06061 & Easton (UMSRH) & 1 & 111 N W St, Easton, MD 21601, USA & Talbot County & Region IV & Easton & 21601 & 38.7755 & -76.0779 & ChIJOYnetntAuIkR91bzxuuSudE & Maryland & MD & 21011 & Easton, MD & 223 & Baltimore, MD \\\\\n",
       "\t13 & Edward McCready Memorial Hospital & h55609821 & 0 & 0 & 0 & 0 & 0 & 0 & 0.0 & 0.0 & 0.0 & Edward McCready Memorial Hospital & 1 & 201 Hall Hwy, Crisfield, MD 21817, USA & Somerset County & Region IV & Crisfield & 21817 & 37.9974 & -75.8527 & ChIJ-4yXGwKbuYkRZDZUn-zDK1c & Maryland & MD & 21009 & Crisfield, MD & 225 & Salisbury, MD \\\\\n",
       "\t14 & Fort Washington ACS & h30119195 & 12 & 6 & 6 & 3 & 1 & 5 & 2.4 & 2.0 & 6.0 & Fort Washington ACS & 0 & 11108 Fort Washington Rd, Fort Washington, MD 20744, USA & Prince Georges County & Region V & Fort Washington & 20744 & 38.742 & -76.9954 & ChIJOU1vekOlt4kRbra8AmHuUao & Maryland & MD & 9001 & Washington, DC & 113 & Washington, DC \\\\\n",
       "\t15 & Fort Washington Hospital & h24459724 & 18 & 0 & 18 & 4 & 23 & 27 & 0.666667 & 0.0 & 0.782609 & Fort Washington Hospital & 1 & 11711 Livingston Rd, Fort Washington, MD 20744, USA & Prince Georges County & Region V & Fort Washington & 20744 & 38.7285 & -76.9926 & ChIJ8Q-M0G2lt4kR5ZiIaMcPIn0 & Maryland & MD & 9001 & Washington, DC & 113 & Washington, DC \\\\\n",
       "\t16 & Franklin Square (MedStar) & h41936996 & 308 & 38 & 270 & 43 & 269 & 313 & 0.984026 & 0.883721 & 1.00372 & Franklin Square (MedStar) & 1 & 9000 Franklin Square Dr, Baltimore, MD 21237, USA & Baltimore County & Region III & Baltimore & 21237 & 39.3515 & -76.4798 & ChIJi94w0d8HyIkRLpjbeMfJ4Ag & Maryland & MD & 21002 & Baltimore, MD & 223 & Baltimore, MD \\\\\n",
       "\t17 & Frederick Memorial Hospital & h27068501 & 156 & 15 & 141 & 19 & 219 & 238 & 0.655462 & 0.789474 & 0.643836 & Frederick Memorial Hospital & 1 & 400 W 7th St, Frederick, MD 21701, USA & Frederick County & Region II & Frederick & 21701 & 39.4233 & -77.4147 & ChIJ0YmlpfnayYkRAKI6gkl5Gy8 & Maryland & MD & 21014 & Frederick, MD & 113 & Washington, DC \\\\\n",
       "\t18 & Garrett Memorial Hospital (WVU) & h89650230 & 36 & 4 & 32 & 4 & 41 & 46 & 0.782609 & 1.0 & 0.780488 & Garrett Memorial Hospital (WVU) & 1 & 251 N 4th St, Oakland, MD 21550, USA & Garrett County & Region I & Oakland & 21550 & 39.4134 & -79.4009 & ChIJ3\\_RoFaCsSogRRR239GLaKHA & Maryland & MD & 21023 & Oakland, MD & 445 & Morgantown, WV \\\\\n",
       "\t19 & Germantown EC & h88962860 & 0 & 0 & 0 & 0 & 0 & 0 & 0.0 & 0.0 & 0.0 & Germantown EC & 0 & Germantown, MD, USA & Montgomery County & Region V & Germantown & \\emph{missing} & 39.1732 & -77.2717 & ChIJaVb1SHUrtokRhQqCsheruOE & Maryland & MD & \\emph{missing} & \\emph{missing} & \\emph{missing} & \\emph{missing} \\\\\n",
       "\t20 & Good Samaritan Hospital (MedStar) & h99606414 & 172 & 13 & 159 & 28 & 142 & 170 & 1.01176 & 0.464286 & 1.11972 & Good Samaritan Hospital (MedStar) & 1 & 5601 Loch Raven Blvd, Baltimore, MD 21239, USA & Baltimore City & Region III & Baltimore & 21239 & 39.358 & -76.5866 & ChIJ63mL3IQFyIkRU6K4Sol0B3E & Maryland & MD & 21002 & Baltimore, MD & 223 & Baltimore, MD \\\\\n",
       "\t21 & Grace Medical Center & h55471441 & 3 & 0 & 3 & 0 & 8 & 8 & 0.375 & 0.0 & 0.375 & Grace Medical Center & 1 & 2000 W Baltimore St, Baltimore, MD 21223, USA & Baltimore City & Region III & Baltimore & 21223 & 39.2893 & -76.6496 & ChIJb7ASF6kcyIkRXrwBvRMQcao & Maryland & MD & 21002 & Baltimore, MD & 223 & Baltimore, MD \\\\\n",
       "\t22 & Greater Baltimore Medical Center & h65349594 & 176 & 18 & 158 & 24 & 204 & 228 & 0.77193 & 0.75 & 0.77451 & Greater Baltimore Medical Center & 1 & 6701 N Charles St, Towson, MD 21204, USA & Baltimore County & Region III & Towson & 21204 & 39.3918 & -76.6242 & ChIJU-Lnv-kPyIkRh\\_OAo-RyvuQ & Maryland & MD & 21002 & Baltimore, MD & 223 & Baltimore, MD \\\\\n",
       "\t23 & Harbor Hospital (MedStar) & h26221809 & 86 & 16 & 70 & 13 & 74 & 87 & 0.988506 & 1.23077 & 0.945946 & Harbor Hospital (MedStar) & 1 & 3001 S Hanover St, Baltimore, MD 21225, USA & Baltimore City & Region III & Baltimore & 21225 & 39.2516 & -76.6138 & ChIJ85XEtx4DyIkRY9oxGMM1OAQ & Maryland & MD & 21002 & Baltimore, MD & 223 & Baltimore, MD \\\\\n",
       "\t24 & Harford Memorial Hospital (UMUCH) & h63170115 & 63 & 6 & 57 & 6 & 62 & 68 & 0.926471 & 1.0 & 0.919355 & Harford Memorial Hospital (UMUCH) & 1 & 501 S Union Ave, Havre De Grace, MD 21078, USA & Harford County & Region III & Havre de Grace & 21078 & 39.543 & -76.0909 & ChIJ0-3S3ajAx4kR6YSZLPGiblQ & Maryland & MD & 21018 & Havre De Grace, MD & 223 & Baltimore, MD \\\\\n",
       "\t25 & Holy Cross Germantown & h47529315 & 49 & 11 & 38 & 12 & 55 & 67 & 0.731343 & 0.916667 & 0.690909 & Holy Cross Germantown & 1 & 19801 Observation Dr, Germantown, MD 20876, USA & Montgomery County & Region V & Germantown & 20876 & 39.1817 & -77.2425 & ChIJU4d3KWIstokRWbzZoJ-lXrA & Maryland & MD & 21028 & Rockville, MD & 113 & Washington, DC \\\\\n",
       "\t26 & Holy Cross Hospital & h32841492 & 285 & 42 & 243 & 50 & 315 & 365 & 0.780822 & 0.84 & 0.771429 & Holy Cross Hospital & 1 & 19801 Observation Dr, Germantown, MD 20876, USA & Montgomery County & Region V & Germantown & 20876 & 39.1817 & -77.2425 & ChIJU4d3KWIstokRWbzZoJ-lXrA & Maryland & MD & 21028 & Rockville, MD & 113 & Washington, DC \\\\\n",
       "\t27 & Howard County General Hospital (JHM) & h01871291 & 156 & 20 & 136 & 30 & 163 & 193 & 0.80829 & 0.666667 & 0.834356 & Howard County General Hospital (JHM) & 1 & 5755 Cedar Ln, Columbia, MD 21044, USA & Howard County & Region III & Columbia & 21044 & 39.2133 & -76.8836 & ChIJSwHJPxLft4kR7rkSh1PsYP4 & Maryland & MD & 21008 & Columbia, MD & 223 & Baltimore, MD \\\\\n",
       "\t28 & Jessup Corrections ACS & h81795503 & 0 & 0 & 0 & 0 & 15 & 0 & 0.0 & 0.0 & 0.0 & Jessup Corrections ACS & 0 & 131 Jennifer Rd, Annapolis, MD 21401, USA & Anne Arundel County & Region III & Annapolis & 21401 & 38.9889 & -76.5302 & ChIJeXtn2N72t4kRAIvSKXAyxCQ & Maryland & MD & 21001 & Annapolis, MD & 113 & Washington, DC \\\\\n",
       "\t29 & Johns Hopkins Bayview Medical Center & h71848553 & 259 & 48 & 211 & 51 & 211 & 262 & 0.98855 & 0.941176 & 1.0 & Johns Hopkins Bayview Medical Center & 1 & 4940 Eastern Ave, Baltimore, MD 21224, USA & Baltimore City & Region III & Baltimore & 21224 & 39.2902 & -76.5471 & ChIJY5YO5acGyIkRf4FQb5H8jz8 & Maryland & MD & 21002 & Baltimore, MD & 223 & Baltimore, MD \\\\\n",
       "\t30 & Johns Hopkins Hospital & h31492371 & 578 & 89 & 489 & 124 & 553 & 677 & 0.853767 & 0.717742 & 0.884268 & Johns Hopkins Hospital & 1 & 1800 Orleans St, Baltimore, MD 21287, USA & Baltimore City & Region III & Baltimore & 21287 & 39.2967 & -76.5927 & ChIJQZt\\_3WIEyIkRj4yKpDbd7ew & Maryland & MD & 21002 & Baltimore, MD & 223 & Baltimore, MD \\\\\n",
       "\t$\\dots$ & $\\dots$ & $\\dots$ & $\\dots$ & $\\dots$ & $\\dots$ & $\\dots$ & $\\dots$ & $\\dots$ & $\\dots$ & $\\dots$ & $\\dots$ & $\\dots$ & $\\dots$ & $\\dots$ & $\\dots$ & $\\dots$ & $\\dots$ & $\\dots$ & $\\dots$ & $\\dots$ & $\\dots$ & $\\dots$ & $\\dots$ & $\\dots$ & $\\dots$ & $\\dots$ & $\\dots$ \\\\\n",
       "\\end{tabular}\n"
      ],
      "text/plain": [
       "\u001b[1m55×27 DataFrame\u001b[0m\n",
       "\u001b[1m Row \u001b[0m│\u001b[1m hospital                          \u001b[0m\u001b[1m hospital_id \u001b[0m\u001b[1m total_occupancy \u001b[0m\u001b[1m icu_occupancy \u001b[0m\u001b[1m acute_occupancy \u001b[0m\u001b[1m icu_beds \u001b[0m\u001b[1m acute_beds \u001b[0m\u001b[1m total_beds \u001b[0m\u001b[1m total_load \u001b[0m\u001b[1m icu_load \u001b[0m\u001b[1m acute_load \u001b[0m\u001b[1m hospital_1                        \u001b[0m\u001b[1m in_forecast \u001b[0m\u001b[1m address                           \u001b[0m\u001b[1m county                \u001b[0m\u001b[1m healthcare_region \u001b[0m\u001b[1m city             \u001b[0m\u001b[1m zipcode \u001b[0m\u001b[1m lat      \u001b[0m\u001b[1m long     \u001b[0m\u001b[1m place_id                    \u001b[0m\u001b[1m state    \u001b[0m\u001b[1m state_abbrev \u001b[0m\u001b[1m hsa_id \u001b[0m\u001b[1m hsa_name             \u001b[0m\u001b[1m hrr_id \u001b[0m\u001b[1m hrr_name        \u001b[0m\n",
       "\u001b[1m     \u001b[0m│\u001b[90m String?                           \u001b[0m\u001b[90m String?     \u001b[0m\u001b[90m Int64?          \u001b[0m\u001b[90m Int64?        \u001b[0m\u001b[90m Int64?          \u001b[0m\u001b[90m Int64    \u001b[0m\u001b[90m Int64      \u001b[0m\u001b[90m Int64      \u001b[0m\u001b[90m Float64    \u001b[0m\u001b[90m Float64  \u001b[0m\u001b[90m Float64    \u001b[0m\u001b[90m String?                           \u001b[0m\u001b[90m Bool?       \u001b[0m\u001b[90m String?                           \u001b[0m\u001b[90m String?               \u001b[0m\u001b[90m String?           \u001b[0m\u001b[90m String?          \u001b[0m\u001b[90m Int64?  \u001b[0m\u001b[90m Float64? \u001b[0m\u001b[90m Float64? \u001b[0m\u001b[90m String?                     \u001b[0m\u001b[90m String?  \u001b[0m\u001b[90m String?      \u001b[0m\u001b[90m Int64? \u001b[0m\u001b[90m String?              \u001b[0m\u001b[90m Int64? \u001b[0m\u001b[90m String?         \u001b[0m\n",
       "─────┼─────────────────────────────────────────────────────────────────────────────────────────────────────────────────────────────────────────────────────────────────────────────────────────────────────────────────────────────────────────────────────────────────────────────────────────────────────────────────────────────────────────────────────────────────────────────────────────────────────────────────────────────────────────────────────────────\n",
       "   1 │ Anne Arundel Medical Center        h39740093                301             27              274        40         284         324    0.929012  0.675       0.964789  Anne Arundel Medical Center               true  2002 Medical Pkwy, Annapolis, MD…  Anne Arundel County    Region III         Annapolis           21401   38.9904  -76.5374  ChIJwQbdhNf2t4kR9wSFLYAT0Go  Maryland  MD             21001  Annapolis, MD            113  Washington, DC\n",
       "   2 │ Atlantic General Hospital          h92616877                 44              7               37         9          43          51    0.862745  0.777778    0.860465  Atlantic General Hospital                 true  9733 Healthway Dr, Berlin, MD 21…  Worcester County       Region IV          Berlin              21811   38.3396  -75.2115  ChIJrTSS5gInuYkRtT2krn-1-Jw  Maryland  MD             21029  Salisbury, MD            225  Salisbury, MD\n",
       "   3 │ Baltimore Convention Center Fiel…  h94720559                 32              0               32         0          26          23    1.3913    0.0         1.23077   Baltimore Convention Center Fiel…        false  1 W Pratt St, Baltimore, MD 2120…  Baltimore City         Region III         Baltimore           21201   39.2854  -76.6171  ChIJqSGk9WADyIkRDVkLuWmZKdM  Maryland  MD             21002  Baltimore, MD            223  Baltimore, MD\n",
       "   4 │ Baltimore Washington Medical Cen…  h75227743                233             32              201        30         206         236    0.987288  1.06667     0.975728  Baltimore Washington Medical Cen…         true  301 Hospital Dr, Glen Burnie, MD…  Anne Arundel County    Region III         Glen Burnie         21061   39.1379  -76.6218  ChIJofV1-bz8t4kRUG1GNyt_7cA  Maryland  MD             21016  Glen Burnie, MD          223  Baltimore, MD\n",
       "   5 │ Bowie Medical Center               h26261837                  0              0                0         0          10          10    0.0       0.0         0.0       Bowie Medical Center                     false  15001 Health Center Dr, Bowie, M…  Prince Georges County  Region V           Bowie               20716   38.9494  -76.746   ChIJn0x8bI7rt4kR2KeO6HUDCGY  Maryland  MD             21020  Lanham, MD               226  Takoma Park, MD\n",
       "   6 │ Calvert Memorial Hospital          h51968182                 48              6               42         6          54          59    0.813559  1.0         0.777778  Calvert Memorial Hospital                 true  100 Hospital Rd, Prince Frederic…  Calvert County         Region V           Prince Frederick    20678   38.5594  -76.5963  ChIJGf93tYmCt4kRUHcfYxctVoM  Maryland  MD             21025  Prince Frederick, MD     113  Washington, DC\n",
       "   7 │ Carroll Hospital Center            h73144964                129              7              122        10         112         123    1.04878   0.7         1.08929   Carroll Hospital Center                   true  200 Memorial Ave, Westminster, M…  Carroll County         Region III         Westminster         21157   39.5576  -76.9903  ChIJX6DoR2s4yIkR_eqhMva6JnY  Maryland  MD             21033  Westminster, MD          223  Baltimore, MD\n",
       "   8 │ Charles Regional (UM)              h61059656                 74              8               66        12          98         111    0.666667  0.666667    0.673469  Charles Regional (UM)                     true  5 Garrett Ave, La Plata, MD 2064…  Charles County         Region V           La Plata            20646   38.529   -76.9722  ChIJL0cYbucIt4kR8Bh1L4nlJtc  Maryland  MD             21019  La Plata, MD             113  Washington, DC\n",
       "   9 │ Chestertown (UMSRH)                h95946725                 10              1                9         2          11          13    0.769231  0.5         0.818182  Chestertown (UMSRH)                       true  223 High St, Chestertown, MD 216…  Kent County            Region IV          Chestertown         21620   39.2085  -76.0657  ChIJ_1Qaz0OLx4kRb8E80Y10zW0  Maryland  MD             21005  Chestertown, MD          223  Baltimore, MD\n",
       "  10 │ Doctors Community Hospital         h82233897                160             24              136        22         187         209    0.76555   1.09091     0.727273  Doctors Community Hospital                true  8118 Good Luck Rd, Lanham, MD 20…  Prince Georges County  Region V           Lanham              20706   38.9823  -76.865   ChIJlxkz022lt4kR4BGhrREiUM0  Maryland  MD             21020  Lanham, MD               226  Takoma Park, MD\n",
       "  11 │ Dorchester (UMSRH)                 h63139553                  7              0                7         0           9           9    0.777778  0.0         0.777778  Dorchester (UMSRH)                        true  300 Byrn St, Cambridge, MD 21613…  Dorchester County      Region IV          Cambridge           21613   38.5714  -76.0674  ChIJW8KAmPZJuIkReFPCqJWGcWw  Maryland  MD             21004  Cambridge, MD            225  Salisbury, MD\n",
       "  ⋮  │                 ⋮                       ⋮              ⋮               ⋮               ⋮            ⋮          ⋮           ⋮           ⋮          ⋮          ⋮                       ⋮                       ⋮                       ⋮                            ⋮                    ⋮                 ⋮             ⋮        ⋮         ⋮                   ⋮                  ⋮           ⋮          ⋮              ⋮              ⋮            ⋮\n",
       "  46 │ St. Joseph's (UM)                  h04231605                146             17              129        22         126         147    0.993197  0.772727    1.02381   St. Joseph's (UM)                         true  7601 Osler Dr, Towson, MD 21204,…  Baltimore County       Region III         Towson              21204   39.3873  -76.6112  ChIJw2FgP5YPyIkRTJuyE6laXN4  Maryland  MD             21002  Baltimore, MD            223  Baltimore, MD\n",
       "  47 │ St. Mary's Hospital                h60750772                 72             10               62        12          85          97    0.742268  0.833333    0.729412  St. Mary's Hospital                       true  25500 Point Lookout Rd, Leonardt…  St. Marys County       Region V           Leonardtown         20650   38.3021  -76.6382  ChIJXVbxEKpot4kRykbUmmrLvn0  Maryland  MD             21022  Leonardtown, MD          113  Washington, DC\n",
       "  48 │ Suburban Hospital                  h44191077                168             21              147        26         151         177    0.949153  0.807692    0.97351   Suburban Hospital                         true  8600 Old Georgetown Rd, Bethesda…  Montgomery County      Region V           Bethesda            20814   38.9971  -77.1103  ChIJQV-qe-fLt4kRH8dxfFKdV1Q  Maryland  MD             21003  Bethesda, MD             113  Washington, DC\n",
       "  49 │ Union Hospital of Cecil County     h36169128                 86             14               72         9          77          86    1.0       1.55556     0.935065  Union Hospital of Cecil County            true  106 Bow St, Elkton, MD 21921, USA  Cecil County           Region IV          Elkton              21921   39.6082  -75.8332  ChIJ0-tSu2evx4kRazjVP4_OKgI  Maryland  MD             21012  Elkton, MD               112  Wilmington, DE\n",
       "  50 │ Union Memorial Hospital (MedStar)  h27405358                150             25              125        27         137         164    0.914634  0.925926    0.912409  Union Memorial Hospital (MedStar)         true  201 E University Pkwy, Baltimore…  Baltimore City         Region III         Baltimore           21218   39.3292  -76.6148  ChIJ2WERJB4FyIkRerEyosJUBbc  Maryland  MD             21002  Baltimore, MD            223  Baltimore, MD\n",
       "  51 │ University of Maryland Medical C…  h35874312                443            168              275       203         359         562    0.788256  0.827586    0.766017  University of Maryland Medical C…         true  22 S Greene St, Baltimore, MD 21…  Baltimore City         Region III         Baltimore           21201   39.288   -76.6248  ChIJaak3ulgDyIkRJBKO0-jW0mQ  Maryland  MD             21002  Baltimore, MD            223  Baltimore, MD\n",
       "  52 │ Upper Chesapeake Medical Center …  h05131983                166             23              143        23         178         200    0.83      1.0         0.803371  Upper Chesapeake Medical Center …         true  500 Upper Chesapeake Dr, Bel Air…  Harford County         Region III         Bel Air             21014   39.5193  -76.346   ChIJm1LiKOrdx4kR4AaT09y4ZD8  Maryland  MD             21013  Fallston, MD             223  Baltimore, MD\n",
       "  53 │ Washington Adventist ACS           h39760140                 44              0               44         0          19          19    2.31579   0.0         2.31579   Washington Adventist ACS                 false  7600 Flower Ave, Takoma Park, MD…  Montgomery County      Region V           Takoma Park         20912   38.986   -77.0006  ChIJfdY-XRjGt4kR6pXfRYMeo2s  Maryland  MD             21031  Takoma Park, MD          226  Takoma Park, MD\n",
       "  54 │ Western Maryland Medical Center …  h30194845                160             22              138        14         143         158    1.01266   1.57143     0.965035  Western Maryland Medical Center …         true  12502 Willowbrook Rd, Cumberland…  Allegany County        Region I           Cumberland          21502   39.6483  -78.7336  ChIJ43HqbDuJyokRoKuYAB1i5FQ  Maryland  MD             21010  Cumberland, MD           113  Washington, DC\n",
       "  55 │ White Oak Medical Center           h51938610                149             17              132        24         150         174    0.856322  0.708333    0.88      White Oak Medical Center                  true  11890 Healing Way, Silver Spring…  Montgomery County      Region V           Silver Spring       20904   39.0505  -76.9568  ChIJ05suE3PFt4kRg06lbgD_N60  Maryland  MD             21030  Silver Spring, MD        226  Takoma Park, MD\n",
       "\u001b[31m                                                                                                                                                                                                                                                                                                                                                                                                                                                    34 rows omitted\u001b[0m"
      ]
     },
     "execution_count": 15,
     "metadata": {},
     "output_type": "execute_result"
    }
   ],
   "source": [
    "data_combined"
   ]
  },
  {
   "cell_type": "code",
   "execution_count": 16,
   "metadata": {},
   "outputs": [],
   "source": [
    "data_combined |> CSV.write(\"../data/current_load.csv\");"
   ]
  },
  {
   "cell_type": "code",
   "execution_count": 17,
   "metadata": {},
   "outputs": [],
   "source": [
    "data_combined_list = collect([NamedTuple(h) for h in eachrow(data_combined)]);"
   ]
  },
  {
   "cell_type": "code",
   "execution_count": 18,
   "metadata": {},
   "outputs": [],
   "source": [
    "serialize(\"../data/current_load.jlser\", data_combined_list)"
   ]
  },
  {
   "cell_type": "code",
   "execution_count": null,
   "metadata": {},
   "outputs": [],
   "source": []
  }
 ],
 "metadata": {
  "@webio": {
   "lastCommId": null,
   "lastKernelId": null
  },
  "kernelspec": {
   "display_name": "Julia 1.5.3",
   "language": "julia",
   "name": "julia-1.5"
  },
  "language_info": {
   "file_extension": ".jl",
   "mimetype": "application/julia",
   "name": "julia",
   "version": "1.5.3"
  }
 },
 "nbformat": 4,
 "nbformat_minor": 4
}
