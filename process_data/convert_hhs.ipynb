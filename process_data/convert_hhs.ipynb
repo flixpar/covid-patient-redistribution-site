{
 "cells": [
  {
   "cell_type": "code",
   "execution_count": 1,
   "metadata": {},
   "outputs": [],
   "source": [
    "using CSV\n",
    "using DataFrames\n",
    "using Dates\n",
    "using Distributions\n",
    "using Serialization\n",
    "using LinearAlgebra: diagm\n",
    "using JSON"
   ]
  },
  {
   "cell_type": "code",
   "execution_count": 2,
   "metadata": {},
   "outputs": [],
   "source": [
    "ENV[\"COLUMNS\"] = 1000;"
   ]
  },
  {
   "cell_type": "code",
   "execution_count": 3,
   "metadata": {},
   "outputs": [],
   "source": [
    "data_dir = \"../data/\";\n",
    "outputdatapath = \"../data/\";"
   ]
  },
  {
   "cell_type": "code",
   "execution_count": 4,
   "metadata": {},
   "outputs": [],
   "source": [
    "forecast_date = \"2021_01_09\";\n",
    "data_date     = \"2021_01_08\";"
   ]
  },
  {
   "cell_type": "code",
   "execution_count": 5,
   "metadata": {},
   "outputs": [],
   "source": [
    "SCENARIOS = [:moderate];\n",
    "BEDTYPES  = [:allbeds, :icu, :acute];"
   ]
  },
  {
   "cell_type": "code",
   "execution_count": 6,
   "metadata": {},
   "outputs": [],
   "source": [
    "los_dist = (\n",
    "    icu = Weibull(1.58, 13.32),\n",
    "    acute = Weibull(1.38, 12.88),\n",
    "    allbeds = Weibull(1.38, 12.88),\n",
    ");"
   ]
  },
  {
   "cell_type": "code",
   "execution_count": 7,
   "metadata": {},
   "outputs": [],
   "source": [
    "start_date = Date(2020, 07, 31);\n",
    "end_date   = Date(2021, 01, 30);\n",
    "date_range = collect(start_date : Day(1) : end_date);\n",
    "T = length(date_range);"
   ]
  },
  {
   "cell_type": "code",
   "execution_count": 8,
   "metadata": {},
   "outputs": [],
   "source": [
    "capacity_data = DataFrame(CSV.File(\"../data/capacity_hhs.csv\"));"
   ]
  },
  {
   "cell_type": "code",
   "execution_count": 9,
   "metadata": {},
   "outputs": [
    {
     "name": "stdout",
     "output_type": "stream",
     "text": [
      "N = 4787\n"
     ]
    }
   ],
   "source": [
    "hospital_ids = capacity_data.hospital_id;\n",
    "N = length(hospital_ids);\n",
    "@show N;"
   ]
  },
  {
   "cell_type": "code",
   "execution_count": 10,
   "metadata": {},
   "outputs": [],
   "source": [
    "capacity_names_full = [\"Base Capacity\"];\n",
    "capacity_names_abbrev = [\"baselinecap\"];"
   ]
  },
  {
   "cell_type": "code",
   "execution_count": 11,
   "metadata": {},
   "outputs": [],
   "source": [
    "function load_capacity(hospitals, bedtype, capacity_levels=[:baseline])\n",
    "    beds_dict = Dict(row.hospital_id => Dict(\n",
    "        \"icu\" => row.capacity_icu,\n",
    "        \"acute\" => row.capacity_acute,\n",
    "        \"allbeds\" => row.capacity_allbeds,\n",
    "    ) for row in eachrow(capacity_data))\n",
    "\n",
    "    if capacity_levels isa Symbol\n",
    "        capacity = [beds_dict[h][string(bedtype)] for h in hospital_ids]\n",
    "    elseif capacity_levels isa AbstractArray\n",
    "        capacity = hcat([[beds_dict[h][string(bedtype)] for h in hospital_ids] for l in capacity_levels]...)\n",
    "    else\n",
    "        error(\"Invalid capacity_levels\")\n",
    "    end\n",
    "\n",
    "    return capacity\n",
    "end;"
   ]
  },
  {
   "cell_type": "code",
   "execution_count": 12,
   "metadata": {},
   "outputs": [],
   "source": [
    "function estimate_admitted(active, los_dist)\n",
    "    T = length(active)\n",
    "    \n",
    "    initial = active[1]\n",
    "    discharged = initial .* (pdf.(los_dist, 0:T-1))\n",
    "\n",
    "    L = 1.0 .- cdf.(los_dist, 0:T)\n",
    "\n",
    "    A = [(t′ ≤ t) ? L[t-t′+1] : 0 for t in 1:T, t′ in 1:T]\n",
    "    b = [active[t] - (initial - sum(discharged[1:t])) for t in 1:T]\n",
    "    admitted = A \\ b\n",
    "    \n",
    "    return admitted\n",
    "end;\n",
    "\n",
    "function estimate_active(initial, admitted, los_dist)\n",
    "    T = length(admitted)\n",
    "\n",
    "    discharged = initial .* (pdf.(los_dist, 0:T-1))\n",
    "\n",
    "    L = 1.0 .- cdf.(los_dist, 0:T)\n",
    "\n",
    "    active = [(\n",
    "        initial\n",
    "        - sum(discharged[1:t])\n",
    "        + sum(L[t-t₁+1] * admitted[t₁] for t₁ in 1:t)\n",
    "    ) for t in 1:T]\n",
    "    \n",
    "    return active\n",
    "end;"
   ]
  },
  {
   "cell_type": "code",
   "execution_count": 13,
   "metadata": {},
   "outputs": [],
   "source": [
    "isbad(x) = ismissing(x) || isnan(x) || isinf(x);\n",
    "isnbad(x) = !(isbad(x));"
   ]
  },
  {
   "cell_type": "code",
   "execution_count": 14,
   "metadata": {},
   "outputs": [],
   "source": [
    "function interpolate_missing(xs::Array{Union{Float64,Missing},2})\n",
    "    output = Array{Float64,2}(undef, size(xs)...)\n",
    "    for i in 1:size(xs,1)\n",
    "        output[i,:] = interpolate_missing(xs[i,:])\n",
    "    end\n",
    "    return output\n",
    "end;\n",
    "\n",
    "function interpolate_missing(xs::Array{Union{Float64,Missing},1})\n",
    "    if all(isbad.(xs))\n",
    "        return zeros(Float64, length(xs))\n",
    "    end\n",
    "    \n",
    "    xs = deepcopy(xs)\n",
    "    for i in 1:length(xs)\n",
    "        if isbad(xs[i])\n",
    "            a = findprev(isnbad, xs, i)\n",
    "            b = findnext(isnbad, xs, i)\n",
    "            \n",
    "            a = isnothing(a) ? b : a\n",
    "            b = isnothing(b) ? a : b\n",
    "            \n",
    "            m = (a==b) ? 0 : ((xs[b]-xs[a]) / (b-a))\n",
    "            xs[i] = (m * (i-a)) + xs[a]\n",
    "        end\n",
    "    end\n",
    "    return xs\n",
    "end;"
   ]
  },
  {
   "cell_type": "code",
   "execution_count": 15,
   "metadata": {},
   "outputs": [],
   "source": [
    "hhs_data = DataFrame(CSV.File(\"../data/hhs_data_$(data_date).csv\"))\n",
    "hhs_data_dict = Dict((row.hospital_id, row.date) => row for row in eachrow(hhs_data));"
   ]
  },
  {
   "cell_type": "code",
   "execution_count": 16,
   "metadata": {},
   "outputs": [],
   "source": [
    "forecast = DataFrame(CSV.File(joinpath(data_dir, \"hhs_forecast_$(forecast_date).csv\")));"
   ]
  },
  {
   "cell_type": "code",
   "execution_count": 17,
   "metadata": {},
   "outputs": [],
   "source": [
    "function load_data_hhs(scenario, bedtype)\n",
    "    @assert(bedtype in [:icu, :acute, :allbeds])\n",
    "    @assert(scenario in [:optimistic, :moderate, :pessimistic, :catastrophic])\n",
    "\n",
    "    forecast_dict = Dict((row.hospital_id, row.date) => (\n",
    "        admitted = row[\"admitted_$(scenario)_$(bedtype)\"],\n",
    "    ) for row in eachrow(forecast))\n",
    "    \n",
    "    hist_dict = Dict(k => (active = v[\"active_$(bedtype)\"], admitted = v[\"admissions_$(bedtype)\"]) for (k,v) in pairs(hhs_data_dict))\n",
    "\n",
    "    hist_date_range = sort(intersect(date_range, hhs_data.date))\n",
    "    forecast_date_range = sort(intersect(date_range, forecast.date))\n",
    "\n",
    "    hist_date_range_t = [findfirst(date_range .== d) for d in hist_date_range]\n",
    "    forecast_date_range_t = [findfirst(date_range .== d) for d in forecast_date_range]\n",
    "    \n",
    "    hist_active = [haskey(hist_dict,(h,d)) ? hist_dict[(h,d)].active : missing for h in hospital_ids, d in hist_date_range]\n",
    "    hist_admitted = [haskey(hist_dict,(h,d)) ? hist_dict[(h,d)].admitted : missing for h in hospital_ids, d in hist_date_range]\n",
    "    \n",
    "    forecast_initial = hist_active[:,end]\n",
    "    \n",
    "    forecast_admitted = [haskey(forecast_dict,(h,d)) ? forecast_dict[(h,d)].admitted : missing for h in hospital_ids, d in forecast_date_range]\n",
    "    forecast_active   = permutedims(hcat([estimate_active(forecast_initial[i], forecast_admitted[i,:], los_dist.allbeds) for i in 1:N]...), (2,1))\n",
    "\n",
    "    active = Array{Union{Float64,Missing},2}(undef, N, T)\n",
    "    fill!(active, missing)\n",
    "    \n",
    "    active[:,forecast_date_range_t] = forecast_active\n",
    "    active[:,hist_date_range_t] = hist_active\n",
    "    \n",
    "    admitted = Array{Union{Float64,Missing},2}(undef, N, T)\n",
    "    fill!(admitted, missing)\n",
    "    \n",
    "    admitted[:,forecast_date_range_t] = forecast_admitted\n",
    "    admitted[:,hist_date_range_t] = hist_admitted\n",
    "            \n",
    "    active = interpolate_missing(active)\n",
    "    admitted = interpolate_missing(admitted)\n",
    "        \n",
    "    admitted_uncertainty = 0.1 .* admitted\n",
    "\n",
    "    beds = load_capacity(hospital_ids, bedtype, :baseline)\n",
    "    capacity = load_capacity(hospital_ids, bedtype, [:baseline,])\n",
    "\n",
    "    data = (\n",
    "        scenario = scenario,\n",
    "        bedtype = bedtype,\n",
    "\n",
    "        los_dist = los_dist[bedtype],\n",
    "\n",
    "        active = active,\n",
    "        admitted = admitted,\n",
    "        admitted_uncertainty = admitted_uncertainty,\n",
    "\n",
    "        beds = beds,\n",
    "        capacity = capacity,\n",
    "    )\n",
    "\n",
    "    return data\n",
    "end;"
   ]
  },
  {
   "cell_type": "code",
   "execution_count": 18,
   "metadata": {},
   "outputs": [
    {
     "name": "stdout",
     "output_type": "stream",
     "text": [
      "(scenario, bedtype) = (:moderate, :allbeds)\n",
      "(scenario, bedtype) = (:moderate, :icu)\n",
      "(scenario, bedtype) = (:moderate, :acute)\n"
     ]
    }
   ],
   "source": [
    "maindata = Dict()\n",
    "for scenario in SCENARIOS, bedtype in BEDTYPES\n",
    "    @show (scenario, bedtype)\n",
    "    maindata[(scenario,bedtype)] = load_data_hhs(scenario, bedtype)\n",
    "end"
   ]
  },
  {
   "cell_type": "code",
   "execution_count": 19,
   "metadata": {},
   "outputs": [],
   "source": [
    "metadata = DataFrame(CSV.File(\"../data/hhs_hospital_meta.csv\"));\n",
    "hospital_meta = [(\n",
    "    name = row.hospitalname,\n",
    "    hhsname = row.hospital,\n",
    "    id = row.hospital_id,\n",
    "    index = findfirst(==(row.hospital_id), hospital_ids),\n",
    "    state = row.state,\n",
    "    state_abbrev = row.state_abbrev,\n",
    "    zipcode = row.zip,\n",
    "    city = row.city,\n",
    "    county = row.fips_code,\n",
    "    system_name = row.system_name,\n",
    "    system_id = row.system_id,\n",
    "    hsa_name = row.hsa_name,\n",
    "    hsa_id = string(row.hsa_id),\n",
    "    hrr_name = row.hrr_name,\n",
    "    hrr_id = string(row.hrr_id),\n",
    ") for row in eachrow(metadata)];"
   ]
  },
  {
   "cell_type": "code",
   "execution_count": 20,
   "metadata": {},
   "outputs": [],
   "source": [
    "filter!(h -> !isnothing(h.index), hospital_meta);\n",
    "sort!(hospital_meta, by=(h -> h.index));"
   ]
  },
  {
   "cell_type": "code",
   "execution_count": 21,
   "metadata": {},
   "outputs": [],
   "source": [
    "hospital_names = [h.name for h in hospital_meta];\n",
    "hospital_identifiers = [h.id for h in hospital_meta];"
   ]
  },
  {
   "cell_type": "code",
   "execution_count": 22,
   "metadata": {},
   "outputs": [],
   "source": [
    "hospital_positions_raw = DataFrame(CSV.File(\"../data/hhs_hospital_locations.csv\"))\n",
    "filter!(row -> row.hospital_id in hospital_ids, hospital_positions_raw)\n",
    "hospital_positions = Dict(row.hospital_id => (\n",
    "        lat  = row.lat,\n",
    "        long = row.long,\n",
    "    )\n",
    "    for row in eachrow(hospital_positions_raw)\n",
    ");"
   ]
  },
  {
   "cell_type": "code",
   "execution_count": 23,
   "metadata": {},
   "outputs": [],
   "source": [
    "completedata = (\n",
    "    location_ids = hospital_identifiers,\n",
    "    location_names = hospital_names,\n",
    "    location_meta = hospital_meta,\n",
    "    start_date = start_date,\n",
    "    end_date = end_date,\n",
    "    locations_latlong = hospital_positions,\n",
    "    casesdata = maindata,\n",
    ");"
   ]
  },
  {
   "cell_type": "code",
   "execution_count": 24,
   "metadata": {},
   "outputs": [],
   "source": [
    "serialize(joinpath(outputdatapath, \"data_hhs.jlser\"), completedata);"
   ]
  },
  {
   "cell_type": "code",
   "execution_count": null,
   "metadata": {},
   "outputs": [],
   "source": []
  }
 ],
 "metadata": {
  "@webio": {
   "lastCommId": null,
   "lastKernelId": null
  },
  "kernelspec": {
   "display_name": "Julia 1.5.3",
   "language": "julia",
   "name": "julia-1.5"
  },
  "language_info": {
   "file_extension": ".jl",
   "mimetype": "application/julia",
   "name": "julia",
   "version": "1.5.3"
  }
 },
 "nbformat": 4,
 "nbformat_minor": 4
}
