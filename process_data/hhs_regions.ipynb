{
 "cells": [
  {
   "cell_type": "code",
   "execution_count": 1,
   "metadata": {},
   "outputs": [],
   "source": [
    "using CSV\n",
    "using DataFrames\n",
    "using Serialization"
   ]
  },
  {
   "cell_type": "code",
   "execution_count": 2,
   "metadata": {},
   "outputs": [],
   "source": [
    "metadata = DataFrame(CSV.File(\"../data/hhs_hospital_meta.csv\"));"
   ]
  },
  {
   "cell_type": "code",
   "execution_count": 3,
   "metadata": {},
   "outputs": [
    {
     "name": "stdout",
     "output_type": "stream",
     "text": [
      "[(\"Alabama\", \"AL\"), (\"Alaska\", \"AK\"), (\"Arizona\", \"AZ\"), (\"Arkansas\", \"AR\"), (\"California\", \"CA\"), (\"Colorado\", \"CO\"), (\"Connecticut\", \"CT\"), (\"Delaware\", \"DE\"), (\"District of Columbia\", \"DC\"), (\"Florida\", \"FL\"), (\"Georgia\", \"GA\"), (\"Guam\", \"GU\"), (\"Hawaii\", \"HI\"), (\"Idaho\", \"ID\"), (\"Illinois\", \"IL\"), (\"Indiana\", \"IN\"), (\"Iowa\", \"IA\"), (\"Kansas\", \"KS\"), (\"Kentucky\", \"KY\"), (\"Louisiana\", \"LA\"), (\"Maine\", \"ME\"), (\"Maryland\", \"MD\"), (\"Massachusetts\", \"MA\"), (\"Michigan\", \"MI\"), (\"Minnesota\", \"MN\"), (\"Mississippi\", \"MS\"), (\"Missouri\", \"MO\"), (\"Montana\", \"MT\"), (\"Nebraska\", \"NE\"), (\"Nevada\", \"NV\"), (\"New Hampshire\", \"NH\"), (\"New Jersey\", \"NJ\"), (\"New Mexico\", \"NM\"), (\"New York\", \"NY\"), (\"North Carolina\", \"NC\"), (\"North Dakota\", \"ND\"), (\"Northern Mariana Islands\", \"MP\"), (\"Ohio\", \"OH\"), (\"Oklahoma\", \"OK\"), (\"Oregon\", \"OR\"), (\"Pennsylvania\", \"PA\"), (\"Puerto Rico\", \"PR\"), (\"Rhode Island\", \"RI\"), (\"South Carolina\", \"SC\"), (\"South Dakota\", \"SD\"), (\"Tennessee\", \"TN\"), (\"Texas\", \"TX\"), (\"US Virgin Islands\", \"VI\"), (\"Utah\", \"UT\"), (\"Vermont\", \"VT\"), (\"Virginia\", \"VA\"), (\"Washington\", \"WA\"), (\"West Virginia\", \"WV\"), (\"Wisconsin\", \"WI\"), (\"Wyoming\", \"WY\")]\n"
     ]
    }
   ],
   "source": [
    "states = sort(unique(collect(zip(metadata.state, metadata.state_abbrev))))\n",
    "println(states)"
   ]
  },
  {
   "cell_type": "code",
   "execution_count": 4,
   "metadata": {},
   "outputs": [
    {
     "data": {
      "text/plain": [
       "637-element Array{NamedTuple{(:name, :id),Tuple{String,String}},1}:\n",
       " (name = \"Adena Health System\", id = \"HSI00000008\")\n",
       " (name = \"Adventist Health\", id = \"HSI00000011\")\n",
       " (name = \"Adventist Health System\", id = \"HSI00000010\")\n",
       " (name = \"Adventist Healthcare\", id = \"HSI00000012\")\n",
       " (name = \"Advocate Aurora Health\", id = \"HSI00001277\")\n",
       " (name = \"Alameda Health System\", id = \"HSI00000018\")\n",
       " (name = \"Albany Medical Center\", id = \"HSI00000019\")\n",
       " (name = \"Albert Einstein Healthcare Network\", id = \"HSI00000020\")\n",
       " (name = \"Alecto Healthcare Services\", id = \"HSI00000021\")\n",
       " (name = \"Allegheny Health Network\", id = \"HSI00000025\")\n",
       " (name = \"Allina Health System\", id = \"HSI00000029\")\n",
       " (name = \"Altru Health System\", id = \"HSI00000032\")\n",
       " (name = \"American Academic Health System\", id = \"HSI00001278\")\n",
       " ⋮\n",
       " (name = \"Western Connecticut Health Network\", id = \"HSI00001253\")\n",
       " (name = \"Western Maryland Health System\", id = \"HSI00001255\")\n",
       " (name = \"Wheeling Hospital\", id = \"HSI00001259\")\n",
       " (name = \"White River Health System\", id = \"HSI00001260\")\n",
       " (name = \"Willis-Knighton Health System\", id = \"HSI00001263\")\n",
       " (name = \"Winona Health\", id = \"HSI00001264\")\n",
       " (name = \"Witham Health Services\", id = \"HSI00001269\")\n",
       " (name = \"Wyoming Medical Center\", id = \"HSI00001271\")\n",
       " (name = \"Yale New Haven Health System\", id = \"HSI00001272\")\n",
       " (name = \"Yavapai Regional Medical Center\", id = \"HSI00001273\")\n",
       " (name = \"York Hospital\", id = \"HSI00001274\")\n",
       " (name = \"Yuma Regional Medical Center\", id = \"HSI00001275\")"
      ]
     },
     "execution_count": 4,
     "metadata": {},
     "output_type": "execute_result"
    }
   ],
   "source": [
    "systems = collect(zip(metadata.system_name, metadata.system_id))\n",
    "systems = filter(s -> !(ismissing(s[1]) || ismissing(s[2])), systems)\n",
    "systems = map(s -> (name = s[1], id = s[2]), systems)\n",
    "systems = sort(unique(systems))"
   ]
  },
  {
   "cell_type": "code",
   "execution_count": 5,
   "metadata": {},
   "outputs": [
    {
     "data": {
      "text/plain": [
       "3085-element Array{NamedTuple{(:name, :id),Tuple{String,String}},1}:\n",
       " (name = \"Abbeville, LA\", id = \"19001\")\n",
       " (name = \"Abbeville, SC\", id = \"42001\")\n",
       " (name = \"Aberdeen, SD\", id = \"43001\")\n",
       " (name = \"Aberdeen, WA\", id = \"50001\")\n",
       " (name = \"Abilene, KS\", id = \"17001\")\n",
       " (name = \"Abilene, TX\", id = \"45001\")\n",
       " (name = \"Abingdon, VA\", id = \"49001\")\n",
       " (name = \"Abington, PA\", id = \"39001\")\n",
       " (name = \"Ackerman, MS\", id = \"25002\")\n",
       " (name = \"Ada, MN\", id = \"24001\")\n",
       " (name = \"Ada, OK\", id = \"37001\")\n",
       " (name = \"Adel, GA\", id = \"11001\")\n",
       " (name = \"Adrian, MI\", id = \"23002\")\n",
       " ⋮\n",
       " (name = \"York, ME\", id = \"20033\")\n",
       " (name = \"York, NE\", id = \"28080\")\n",
       " (name = \"York, PA\", id = \"39140\")\n",
       " (name = \"Youngstown, OH\", id = \"36123\")\n",
       " (name = \"Yreka, CA\", id = \"5277\")\n",
       " (name = \"Yuba City, CA\", id = \"5278\")\n",
       " (name = \"Yuma, AZ\", id = \"3037\")\n",
       " (name = \"Yuma, CO\", id = \"6055\")\n",
       " (name = \"Zachary, LA\", id = \"19093\")\n",
       " (name = \"Zanesville, OH\", id = \"36124\")\n",
       " (name = \"Zeeland, MI\", id = \"23127\")\n",
       " (name = \"Zephyrhills, FL\", id = \"10133\")"
      ]
     },
     "execution_count": 5,
     "metadata": {},
     "output_type": "execute_result"
    }
   ],
   "source": [
    "hsas = collect(zip(metadata.hsa_name, metadata.hsa_id))\n",
    "hsas = filter(s -> !(ismissing(s[1]) || ismissing(s[2])), hsas)\n",
    "hsas = map(s -> (name = s[1], id = string(s[2])), hsas)\n",
    "hsas = sort(unique(hsas))"
   ]
  },
  {
   "cell_type": "code",
   "execution_count": 6,
   "metadata": {},
   "outputs": [
    {
     "data": {
      "text/plain": [
       "306-element Array{NamedTuple{(:name, :id),Tuple{String,String}},1}:\n",
       " (name = \"Abilene, TX\", id = \"382\")\n",
       " (name = \"Akron, OH\", id = \"325\")\n",
       " (name = \"Alameda County, CA\", id = \"65\")\n",
       " (name = \"Albany, GA\", id = \"142\")\n",
       " (name = \"Albany, NY\", id = \"295\")\n",
       " (name = \"Albuquerque, NM\", id = \"293\")\n",
       " (name = \"Alexandria, LA\", id = \"209\")\n",
       " (name = \"Allentown, PA\", id = \"346\")\n",
       " (name = \"Altoona, PA\", id = \"347\")\n",
       " (name = \"Amarillo, TX\", id = \"383\")\n",
       " (name = \"Anchorage, AK\", id = \"10\")\n",
       " (name = \"Ann Arbor, MI\", id = \"232\")\n",
       " (name = \"Appleton, WI\", id = \"446\")\n",
       " ⋮\n",
       " (name = \"White Plains, NY\", id = \"308\")\n",
       " (name = \"Wichita Falls, TX\", id = \"420\")\n",
       " (name = \"Wichita, KS\", id = \"201\")\n",
       " (name = \"Wilkes-Barre, PA\", id = \"362\")\n",
       " (name = \"Wilmington, DE\", id = \"112\")\n",
       " (name = \"Wilmington, NC\", id = \"319\")\n",
       " (name = \"Winchester, VA\", id = \"435\")\n",
       " (name = \"Winston-Salem, NC\", id = \"320\")\n",
       " (name = \"Worcester, MA\", id = \"231\")\n",
       " (name = \"Yakima, WA\", id = \"442\")\n",
       " (name = \"York, PA\", id = \"363\")\n",
       " (name = \"Youngstown, OH\", id = \"335\")"
      ]
     },
     "execution_count": 6,
     "metadata": {},
     "output_type": "execute_result"
    }
   ],
   "source": [
    "hrrs = collect(zip(metadata.hrr_name, metadata.hrr_id))\n",
    "hrrs = filter(s -> !(ismissing(s[1]) || ismissing(s[2])), hrrs)\n",
    "hrrs = map(s -> (name = s[1], id = string(s[2])), hrrs)\n",
    "hrrs = sort(unique(hrrs))"
   ]
  },
  {
   "cell_type": "code",
   "execution_count": 7,
   "metadata": {},
   "outputs": [],
   "source": [
    "state_regions = [(region_type = :state, region_name = s[1], region_id = s[2]) for s in states];"
   ]
  },
  {
   "cell_type": "code",
   "execution_count": 8,
   "metadata": {},
   "outputs": [],
   "source": [
    "system_regions = [(region_type = :hospital_system, region_name = s.name, region_id = s.id) for s in systems];"
   ]
  },
  {
   "cell_type": "code",
   "execution_count": 9,
   "metadata": {},
   "outputs": [],
   "source": [
    "hsa_regions = [(region_type = :hsa, region_name = s.name, region_id = s.id) for s in hsas];\n",
    "hrr_regions = [(region_type = :hrr, region_name = s.name, region_id = s.id) for s in hrrs];"
   ]
  },
  {
   "cell_type": "code",
   "execution_count": 10,
   "metadata": {},
   "outputs": [],
   "source": [
    "regions = vcat(state_regions, system_regions, hsa_regions, hrr_regions);"
   ]
  },
  {
   "cell_type": "code",
   "execution_count": 11,
   "metadata": {},
   "outputs": [],
   "source": [
    "serialize(\"../data/regions_hhs.jlser\", regions)"
   ]
  },
  {
   "cell_type": "code",
   "execution_count": null,
   "metadata": {},
   "outputs": [],
   "source": []
  }
 ],
 "metadata": {
  "@webio": {
   "lastCommId": null,
   "lastKernelId": null
  },
  "kernelspec": {
   "display_name": "Julia 1.5.3",
   "language": "julia",
   "name": "julia-1.5"
  },
  "language_info": {
   "file_extension": ".jl",
   "mimetype": "application/julia",
   "name": "julia",
   "version": "1.5.3"
  }
 },
 "nbformat": 4,
 "nbformat_minor": 4
}
