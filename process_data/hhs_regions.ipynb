{
 "cells": [
  {
   "cell_type": "code",
   "execution_count": 1,
   "metadata": {},
   "outputs": [],
   "source": [
    "using CSV\n",
    "using DataFrames\n",
    "using Serialization"
   ]
  },
  {
   "cell_type": "code",
   "execution_count": 2,
   "metadata": {},
   "outputs": [],
   "source": [
    "metadata = DataFrame(CSV.File(\"../data/hhs_hospital_meta.csv\"));"
   ]
  },
  {
   "cell_type": "code",
   "execution_count": 3,
   "metadata": {},
   "outputs": [
    {
     "name": "stdout",
     "output_type": "stream",
     "text": [
      "[\"AK\", \"AL\", \"AR\", \"AZ\", \"CA\", \"CO\", \"CT\", \"DC\", \"DE\", \"FL\", \"GA\", \"GU\", \"HI\", \"IA\", \"ID\", \"IL\", \"IN\", \"KS\", \"KY\", \"LA\", \"MA\", \"MD\", \"ME\", \"MI\", \"MN\", \"MO\", \"MP\", \"MS\", \"MT\", \"NC\", \"ND\", \"NE\", \"NH\", \"NJ\", \"NM\", \"NV\", \"NY\", \"OH\", \"OK\", \"OR\", \"PA\", \"PR\", \"RI\", \"SC\", \"SD\", \"TN\", \"TX\", \"UT\", \"VA\", \"VI\", \"VT\", \"WA\", \"WI\", \"WV\", \"WY\"]\n"
     ]
    }
   ],
   "source": [
    "states = sort(unique(metadata.state))\n",
    "println(states)"
   ]
  },
  {
   "cell_type": "code",
   "execution_count": 4,
   "metadata": {},
   "outputs": [
    {
     "data": {
      "text/plain": [
       "637-element Array{NamedTuple{(:name, :id),Tuple{String,String}},1}:\n",
       " (name = \"Adena Health System\", id = \"HSI00000008\")\n",
       " (name = \"Adventist Health\", id = \"HSI00000011\")\n",
       " (name = \"Adventist Health System\", id = \"HSI00000010\")\n",
       " (name = \"Adventist Healthcare\", id = \"HSI00000012\")\n",
       " (name = \"Advocate Aurora Health\", id = \"HSI00001277\")\n",
       " (name = \"Alameda Health System\", id = \"HSI00000018\")\n",
       " (name = \"Albany Medical Center\", id = \"HSI00000019\")\n",
       " (name = \"Albert Einstein Healthcare Network\", id = \"HSI00000020\")\n",
       " (name = \"Alecto Healthcare Services\", id = \"HSI00000021\")\n",
       " (name = \"Allegheny Health Network\", id = \"HSI00000025\")\n",
       " (name = \"Allina Health System\", id = \"HSI00000029\")\n",
       " (name = \"Altru Health System\", id = \"HSI00000032\")\n",
       " (name = \"American Academic Health System\", id = \"HSI00001278\")\n",
       " ⋮\n",
       " (name = \"Western Connecticut Health Network\", id = \"HSI00001253\")\n",
       " (name = \"Western Maryland Health System\", id = \"HSI00001255\")\n",
       " (name = \"Wheeling Hospital\", id = \"HSI00001259\")\n",
       " (name = \"White River Health System\", id = \"HSI00001260\")\n",
       " (name = \"Willis-Knighton Health System\", id = \"HSI00001263\")\n",
       " (name = \"Winona Health\", id = \"HSI00001264\")\n",
       " (name = \"Witham Health Services\", id = \"HSI00001269\")\n",
       " (name = \"Wyoming Medical Center\", id = \"HSI00001271\")\n",
       " (name = \"Yale New Haven Health System\", id = \"HSI00001272\")\n",
       " (name = \"Yavapai Regional Medical Center\", id = \"HSI00001273\")\n",
       " (name = \"York Hospital\", id = \"HSI00001274\")\n",
       " (name = \"Yuma Regional Medical Center\", id = \"HSI00001275\")"
      ]
     },
     "execution_count": 4,
     "metadata": {},
     "output_type": "execute_result"
    }
   ],
   "source": [
    "systems = collect(zip(metadata.system_name, metadata.system_id))\n",
    "systems = filter(s -> !(ismissing(s[1]) || ismissing(s[2])), systems)\n",
    "systems = map(s -> (name = s[1], id = s[2]), systems)\n",
    "systems = sort(unique(systems))"
   ]
  },
  {
   "cell_type": "code",
   "execution_count": 5,
   "metadata": {},
   "outputs": [],
   "source": [
    "state_regions = [(region_type = :state, region_name = s) for s in states];"
   ]
  },
  {
   "cell_type": "code",
   "execution_count": 6,
   "metadata": {},
   "outputs": [],
   "source": [
    "system_regions = [(region_type = :hospital_system, region_name = s.name, region_id = s.id) for s in systems];"
   ]
  },
  {
   "cell_type": "code",
   "execution_count": 7,
   "metadata": {},
   "outputs": [],
   "source": [
    "regions = vcat(state_regions, system_regions);"
   ]
  },
  {
   "cell_type": "code",
   "execution_count": 8,
   "metadata": {},
   "outputs": [],
   "source": [
    "serialize(\"../data/regions_hhs.jlser\", regions)"
   ]
  },
  {
   "cell_type": "code",
   "execution_count": null,
   "metadata": {},
   "outputs": [],
   "source": []
  }
 ],
 "metadata": {
  "@webio": {
   "lastCommId": null,
   "lastKernelId": null
  },
  "kernelspec": {
   "display_name": "Julia 1.5.3",
   "language": "julia",
   "name": "julia-1.5"
  },
  "language_info": {
   "file_extension": ".jl",
   "mimetype": "application/julia",
   "name": "julia",
   "version": "1.5.3"
  }
 },
 "nbformat": 4,
 "nbformat_minor": 4
}
