{
 "cells": [
  {
   "cell_type": "code",
   "execution_count": 1,
   "metadata": {},
   "outputs": [],
   "source": [
    "using CSV\n",
    "using DataFrames\n",
    "using Serialization"
   ]
  },
  {
   "cell_type": "code",
   "execution_count": 2,
   "metadata": {},
   "outputs": [],
   "source": [
    "metadata = DataFrame(CSV.File(\"../data/hhs_hospital_meta.csv\"));"
   ]
  },
  {
   "cell_type": "code",
   "execution_count": 3,
   "metadata": {},
   "outputs": [
    {
     "name": "stdout",
     "output_type": "stream",
     "text": [
      "[(\"Alabama\", \"AL\"), (\"Alaska\", \"AK\"), (\"Arizona\", \"AZ\"), (\"Arkansas\", \"AR\"), (\"California\", \"CA\"), (\"Colorado\", \"CO\"), (\"Connecticut\", \"CT\"), (\"Delaware\", \"DE\"), (\"District of Columbia\", \"DC\"), (\"Florida\", \"FL\"), (\"Georgia\", \"GA\"), (\"Guam\", \"GU\"), (\"Hawaii\", \"HI\"), (\"Idaho\", \"ID\"), (\"Illinois\", \"IL\"), (\"Indiana\", \"IN\"), (\"Iowa\", \"IA\"), (\"Kansas\", \"KS\"), (\"Kentucky\", \"KY\"), (\"Louisiana\", \"LA\"), (\"Maine\", \"ME\"), (\"Maryland\", \"MD\"), (\"Massachusetts\", \"MA\"), (\"Michigan\", \"MI\"), (\"Minnesota\", \"MN\"), (\"Mississippi\", \"MS\"), (\"Missouri\", \"MO\"), (\"Montana\", \"MT\"), (\"Nebraska\", \"NE\"), (\"Nevada\", \"NV\"), (\"New Hampshire\", \"NH\"), (\"New Jersey\", \"NJ\"), (\"New Mexico\", \"NM\"), (\"New York\", \"NY\"), (\"North Carolina\", \"NC\"), (\"North Dakota\", \"ND\"), (\"Northern Mariana Islands\", \"MP\"), (\"Ohio\", \"OH\"), (\"Oklahoma\", \"OK\"), (\"Oregon\", \"OR\"), (\"Pennsylvania\", \"PA\"), (\"Puerto Rico\", \"PR\"), (\"Rhode Island\", \"RI\"), (\"South Carolina\", \"SC\"), (\"South Dakota\", \"SD\"), (\"Tennessee\", \"TN\"), (\"Texas\", \"TX\"), (\"US Virgin Islands\", \"VI\"), (\"Utah\", \"UT\"), (\"Vermont\", \"VT\"), (\"Virginia\", \"VA\"), (\"Washington\", \"WA\"), (\"West Virginia\", \"WV\"), (\"Wisconsin\", \"WI\"), (\"Wyoming\", \"WY\")]\n"
     ]
    }
   ],
   "source": [
    "states = sort(unique(collect(zip(metadata.state, metadata.state_abbrev))))\n",
    "println(states)"
   ]
  },
  {
   "cell_type": "code",
   "execution_count": 4,
   "metadata": {},
   "outputs": [],
   "source": [
    "function filter_regions(regions)\n",
    "    ids = [r.id for r in regions]\n",
    "    regions = [r for r in unique(regions) if sum(ids .== r.id) > 1]\n",
    "    return regions\n",
    "end;"
   ]
  },
  {
   "cell_type": "code",
   "execution_count": 5,
   "metadata": {},
   "outputs": [
    {
     "data": {
      "text/plain": [
       "357-element Array{NamedTuple{(:name, :id),Tuple{String,String}},1}:\n",
       " (name = \"Adena Health System\", id = \"HSI00000008\")\n",
       " (name = \"Adventist Health\", id = \"HSI00000011\")\n",
       " (name = \"Adventist Health System\", id = \"HSI00000010\")\n",
       " (name = \"Adventist Healthcare\", id = \"HSI00000012\")\n",
       " (name = \"Advocate Aurora Health\", id = \"HSI00001277\")\n",
       " (name = \"Alameda Health System\", id = \"HSI00000018\")\n",
       " (name = \"Albany Medical Center\", id = \"HSI00000019\")\n",
       " (name = \"Albert Einstein Healthcare Network\", id = \"HSI00000020\")\n",
       " (name = \"Alecto Healthcare Services\", id = \"HSI00000021\")\n",
       " (name = \"Allegheny Health Network\", id = \"HSI00000025\")\n",
       " (name = \"Allina Health System\", id = \"HSI00000029\")\n",
       " (name = \"Anderson Regional Health System\", id = \"HSI00000034\")\n",
       " (name = \"Appalachian Regional Healthcare\", id = \"HSI00000041\")\n",
       " ⋮\n",
       " (name = \"Wakemed Health and Hospitals\", id = \"HSI00001236\")\n",
       " (name = \"Washington Health System\", id = \"HSI00001238\")\n",
       " (name = \"WellStar Health System\", id = \"HSI00001244\")\n",
       " (name = \"Wellspan Health\", id = \"HSI00001243\")\n",
       " (name = \"West Tennessee Healthcare\", id = \"HSI00001250\")\n",
       " (name = \"West Virginia United Health System\", id = \"HSI00001251\")\n",
       " (name = \"Westchester Medical Center\", id = \"HSI00001252\")\n",
       " (name = \"Western Connecticut Health Network\", id = \"HSI00001253\")\n",
       " (name = \"Wheeling Hospital\", id = \"HSI00001259\")\n",
       " (name = \"White River Health System\", id = \"HSI00001260\")\n",
       " (name = \"Willis-Knighton Health System\", id = \"HSI00001263\")\n",
       " (name = \"Yale New Haven Health System\", id = \"HSI00001272\")"
      ]
     },
     "execution_count": 5,
     "metadata": {},
     "output_type": "execute_result"
    }
   ],
   "source": [
    "systems = collect(zip(metadata.system_name, metadata.system_id))\n",
    "systems = filter(s -> !(ismissing(s[1]) || ismissing(s[2])), systems)\n",
    "systems = map(s -> (name = s[1], id = s[2]), systems)\n",
    "systems = filter_regions(systems)\n",
    "systems = sort(systems)"
   ]
  },
  {
   "cell_type": "code",
   "execution_count": 6,
   "metadata": {},
   "outputs": [
    {
     "data": {
      "text/plain": [
       "607-element Array{NamedTuple{(:name, :id),Tuple{String,String}},1}:\n",
       " (name = \"Aberdeen, SD\", id = \"43001\")\n",
       " (name = \"Abilene, TX\", id = \"45001\")\n",
       " (name = \"Abington, PA\", id = \"39001\")\n",
       " (name = \"Akron, OH\", id = \"36001\")\n",
       " (name = \"Alabaster, AL\", id = \"1001\")\n",
       " (name = \"Alamosa, CO\", id = \"6002\")\n",
       " (name = \"Albany, GA\", id = \"11002\")\n",
       " (name = \"Albany, NY\", id = \"33001\")\n",
       " (name = \"Albuquerque, NM\", id = \"32002\")\n",
       " (name = \"Alexandria, LA\", id = \"19002\")\n",
       " (name = \"Alexandria, VA\", id = \"49002\")\n",
       " (name = \"Allentown, PA\", id = \"39003\")\n",
       " (name = \"Alton, IL\", id = \"14002\")\n",
       " ⋮\n",
       " (name = \"Willingboro, NJ\", id = \"31068\")\n",
       " (name = \"Williston, ND\", id = \"35045\")\n",
       " (name = \"Wilmington, DE\", id = \"8005\")\n",
       " (name = \"Winston-Salem, NC\", id = \"34100\")\n",
       " (name = \"Winter Haven, FL\", id = \"10131\")\n",
       " (name = \"Woodruff, WI\", id = \"52108\")\n",
       " (name = \"Worcester, MA\", id = \"22070\")\n",
       " (name = \"Worland, WY\", id = \"53026\")\n",
       " (name = \"Yonkers, NY\", id = \"33140\")\n",
       " (name = \"York, PA\", id = \"39140\")\n",
       " (name = \"Youngstown, OH\", id = \"36123\")\n",
       " (name = \"Zachary, LA\", id = \"19093\")"
      ]
     },
     "execution_count": 6,
     "metadata": {},
     "output_type": "execute_result"
    }
   ],
   "source": [
    "hsas = collect(zip(metadata.hsa_name, metadata.hsa_id))\n",
    "hsas = filter(s -> !(ismissing(s[1]) || ismissing(s[2])), hsas)\n",
    "hsas = map(s -> (name = s[1], id = string(s[2])), hsas)\n",
    "hsas = filter_regions(hsas)\n",
    "hsas = sort(hsas)"
   ]
  },
  {
   "cell_type": "code",
   "execution_count": 7,
   "metadata": {},
   "outputs": [
    {
     "data": {
      "text/plain": [
       "305-element Array{NamedTuple{(:name, :id),Tuple{String,String}},1}:\n",
       " (name = \"Abilene, TX\", id = \"382\")\n",
       " (name = \"Akron, OH\", id = \"325\")\n",
       " (name = \"Alameda County, CA\", id = \"65\")\n",
       " (name = \"Albany, GA\", id = \"142\")\n",
       " (name = \"Albany, NY\", id = \"295\")\n",
       " (name = \"Albuquerque, NM\", id = \"293\")\n",
       " (name = \"Alexandria, LA\", id = \"209\")\n",
       " (name = \"Allentown, PA\", id = \"346\")\n",
       " (name = \"Altoona, PA\", id = \"347\")\n",
       " (name = \"Amarillo, TX\", id = \"383\")\n",
       " (name = \"Anchorage, AK\", id = \"10\")\n",
       " (name = \"Ann Arbor, MI\", id = \"232\")\n",
       " (name = \"Appleton, WI\", id = \"446\")\n",
       " ⋮\n",
       " (name = \"White Plains, NY\", id = \"308\")\n",
       " (name = \"Wichita Falls, TX\", id = \"420\")\n",
       " (name = \"Wichita, KS\", id = \"201\")\n",
       " (name = \"Wilkes-Barre, PA\", id = \"362\")\n",
       " (name = \"Wilmington, DE\", id = \"112\")\n",
       " (name = \"Wilmington, NC\", id = \"319\")\n",
       " (name = \"Winchester, VA\", id = \"435\")\n",
       " (name = \"Winston-Salem, NC\", id = \"320\")\n",
       " (name = \"Worcester, MA\", id = \"231\")\n",
       " (name = \"Yakima, WA\", id = \"442\")\n",
       " (name = \"York, PA\", id = \"363\")\n",
       " (name = \"Youngstown, OH\", id = \"335\")"
      ]
     },
     "execution_count": 7,
     "metadata": {},
     "output_type": "execute_result"
    }
   ],
   "source": [
    "hrrs = collect(zip(metadata.hrr_name, metadata.hrr_id))\n",
    "hrrs = filter(s -> !(ismissing(s[1]) || ismissing(s[2])), hrrs)\n",
    "hrrs = map(s -> (name = s[1], id = string(s[2])), hrrs)\n",
    "hrrs = filter_regions(hrrs)\n",
    "hrrs = sort(hrrs)"
   ]
  },
  {
   "cell_type": "code",
   "execution_count": 8,
   "metadata": {},
   "outputs": [],
   "source": [
    "state_regions = [(region_type = :state, region_name = s[1], region_id = s[2]) for s in states];"
   ]
  },
  {
   "cell_type": "code",
   "execution_count": 9,
   "metadata": {},
   "outputs": [],
   "source": [
    "system_regions = [(region_type = :hospital_system, region_name = s.name, region_id = s.id) for s in systems];"
   ]
  },
  {
   "cell_type": "code",
   "execution_count": 10,
   "metadata": {},
   "outputs": [],
   "source": [
    "hsa_regions = [(region_type = :hsa, region_name = s.name, region_id = s.id) for s in hsas];\n",
    "hrr_regions = [(region_type = :hrr, region_name = s.name, region_id = s.id) for s in hrrs];"
   ]
  },
  {
   "cell_type": "code",
   "execution_count": 11,
   "metadata": {},
   "outputs": [],
   "source": [
    "regions = vcat(state_regions, system_regions, hsa_regions, hrr_regions);"
   ]
  },
  {
   "cell_type": "code",
   "execution_count": 12,
   "metadata": {},
   "outputs": [],
   "source": [
    "serialize(\"../data/regions_hhs.jlser\", regions)"
   ]
  },
  {
   "cell_type": "code",
   "execution_count": null,
   "metadata": {},
   "outputs": [],
   "source": []
  }
 ],
 "metadata": {
  "@webio": {
   "lastCommId": null,
   "lastKernelId": null
  },
  "kernelspec": {
   "display_name": "Julia 1.5.3",
   "language": "julia",
   "name": "julia-1.5"
  },
  "language_info": {
   "file_extension": ".jl",
   "mimetype": "application/julia",
   "name": "julia",
   "version": "1.5.3"
  }
 },
 "nbformat": 4,
 "nbformat_minor": 4
}
