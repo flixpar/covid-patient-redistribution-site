{
 "cells": [
  {
   "cell_type": "code",
   "execution_count": 1,
   "metadata": {},
   "outputs": [],
   "source": [
    "using CSV\n",
    "using DataFrames\n",
    "using Dates"
   ]
  },
  {
   "cell_type": "code",
   "execution_count": 2,
   "metadata": {},
   "outputs": [],
   "source": [
    "ENV[\"COLUMNS\"] = 1000;"
   ]
  },
  {
   "cell_type": "code",
   "execution_count": 3,
   "metadata": {},
   "outputs": [],
   "source": [
    "rawdata = DataFrame(CSV.File(\"../data/data_historical.csv\"));"
   ]
  },
  {
   "cell_type": "code",
   "execution_count": 4,
   "metadata": {},
   "outputs": [
    {
     "data": {
      "text/plain": [
       "2020-11-30"
      ]
     },
     "execution_count": 4,
     "metadata": {},
     "output_type": "execute_result"
    }
   ],
   "source": [
    "lastday = maximum(rawdata.date)"
   ]
  },
  {
   "cell_type": "code",
   "execution_count": 5,
   "metadata": {},
   "outputs": [
    {
     "data": {
      "text/html": [
       "<table class=\"data-frame\"><thead><tr><th></th><th>hospital</th><th>hospital_id</th><th>date</th><th>active_acute</th><th>active_icu</th><th>active_allbeds</th></tr><tr><th></th><th>String</th><th>String</th><th>Date</th><th>Int64?</th><th>Int64?</th><th>Int64?</th></tr></thead><tbody><p>3 rows × 6 columns</p><tr><th>1</th><td>Anne Arundel Medical Center</td><td>h39740093</td><td>2020-11-30</td><td>65</td><td>10</td><td>75</td></tr><tr><th>2</th><td>Atlantic General Hospital</td><td>h92616877</td><td>2020-11-30</td><td>5</td><td>0</td><td>5</td></tr><tr><th>3</th><td>Baltimore Convention Center Field Hospital</td><td>h94720559</td><td>2020-11-30</td><td>32</td><td>0</td><td>32</td></tr></tbody></table>"
      ],
      "text/latex": [
       "\\begin{tabular}{r|cccccc}\n",
       "\t& hospital & hospital\\_id & date & active\\_acute & active\\_icu & active\\_allbeds\\\\\n",
       "\t\\hline\n",
       "\t& String & String & Date & Int64? & Int64? & Int64?\\\\\n",
       "\t\\hline\n",
       "\t1 & Anne Arundel Medical Center & h39740093 & 2020-11-30 & 65 & 10 & 75 \\\\\n",
       "\t2 & Atlantic General Hospital & h92616877 & 2020-11-30 & 5 & 0 & 5 \\\\\n",
       "\t3 & Baltimore Convention Center Field Hospital & h94720559 & 2020-11-30 & 32 & 0 & 32 \\\\\n",
       "\\end{tabular}\n"
      ],
      "text/plain": [
       "\u001b[1m3×6 DataFrame\u001b[0m\n",
       "\u001b[1m Row \u001b[0m│\u001b[1m hospital                          \u001b[0m\u001b[1m hospital_id \u001b[0m\u001b[1m date       \u001b[0m\u001b[1m active_acute \u001b[0m\u001b[1m active_icu \u001b[0m\u001b[1m active_allbeds \u001b[0m\n",
       "\u001b[1m     \u001b[0m│\u001b[90m String                            \u001b[0m\u001b[90m String      \u001b[0m\u001b[90m Date       \u001b[0m\u001b[90m Int64?       \u001b[0m\u001b[90m Int64?     \u001b[0m\u001b[90m Int64?         \u001b[0m\n",
       "─────┼──────────────────────────────────────────────────────────────────────────────────────────────────────\n",
       "   1 │ Anne Arundel Medical Center        h39740093    2020-11-30            65          10              75\n",
       "   2 │ Atlantic General Hospital          h92616877    2020-11-30             5           0               5\n",
       "   3 │ Baltimore Convention Center Fiel…  h94720559    2020-11-30            32           0              32"
      ]
     },
     "execution_count": 5,
     "metadata": {},
     "output_type": "execute_result"
    }
   ],
   "source": [
    "data = filter(row -> row.date == lastday, rawdata)\n",
    "first(data, 3)"
   ]
  },
  {
   "cell_type": "code",
   "execution_count": 6,
   "metadata": {},
   "outputs": [],
   "source": [
    "initialday = Date(2020, 12, 31);"
   ]
  },
  {
   "cell_type": "code",
   "execution_count": 7,
   "metadata": {},
   "outputs": [],
   "source": [
    "statedata = DataFrame(CSV.File(\"../rawdata/statewide_hosp.csv\"));"
   ]
  },
  {
   "cell_type": "code",
   "execution_count": 8,
   "metadata": {},
   "outputs": [
    {
     "name": "stdout",
     "output_type": "stream",
     "text": [
      "state_lastday = (date = Date(\"2020-11-30\"), acute = 1183, icu = 344, total = 1527)\n",
      "state_initialday = (date = Date(\"2020-12-31\"), acute = 1374, icu = 399, total = 1773)\n"
     ]
    }
   ],
   "source": [
    "state_lastday = NamedTuple(statedata[findfirst(==(lastday), statedata.date),:]);\n",
    "state_initialday = NamedTuple(statedata[findfirst(==(initialday), statedata.date),:]);\n",
    "@show state_lastday;\n",
    "@show state_initialday;"
   ]
  },
  {
   "cell_type": "code",
   "execution_count": 9,
   "metadata": {},
   "outputs": [
    {
     "data": {
      "text/html": [
       "<table class=\"data-frame\"><thead><tr><th></th><th>hospital</th><th>hospital_id</th><th>date</th><th>active_acute</th><th>active_icu</th><th>active_allbeds</th></tr><tr><th></th><th>String</th><th>String</th><th>Date</th><th>Float64</th><th>Float64?</th><th>Float64?</th></tr></thead><tbody><p>55 rows × 6 columns</p><tr><th>1</th><td>Anne Arundel Medical Center</td><td>h39740093</td><td>2020-12-31</td><td>75.4945</td><td>11.5988</td><td>87.0825</td></tr><tr><th>2</th><td>Atlantic General Hospital</td><td>h92616877</td><td>2020-12-31</td><td>5.80727</td><td>0.0</td><td>5.8055</td></tr><tr><th>3</th><td>Baltimore Convention Center Field Hospital</td><td>h94720559</td><td>2020-12-31</td><td>37.1665</td><td>0.0</td><td>37.1552</td></tr><tr><th>4</th><td>Baltimore Washington Medical Center</td><td>h75227743</td><td>2020-12-31</td><td>37.1665</td><td>19.718</td><td>56.8939</td></tr><tr><th>5</th><td>Bowie Medical Center</td><td>h26261837</td><td>2020-12-31</td><td>0.0</td><td>0.0</td><td>0.0</td></tr><tr><th>6</th><td>Calvert Memorial Hospital</td><td>h51968182</td><td>2020-12-31</td><td>4.64582</td><td>4.63953</td><td>9.2888</td></tr><tr><th>7</th><td>Carroll Hospital Center</td><td>h73144964</td><td>2020-12-31</td><td>13.9374</td><td>4.63953</td><td>18.5776</td></tr><tr><th>8</th><td>Charles Regional (UM)</td><td>h61059656</td><td>2020-12-31</td><td>5.80727</td><td>2.31977</td><td>8.1277</td></tr><tr><th>9</th><td>Chestertown (UMSRH)</td><td>h95946725</td><td>2020-12-31</td><td>0.0</td><td>0.0</td><td>0.0</td></tr><tr><th>10</th><td>Doctors Community Hospital</td><td>h82233897</td><td>2020-12-31</td><td>45.2967</td><td>15.0785</td><td>60.3772</td></tr><tr><th>11</th><td>Dorchester (UMSRH)</td><td>h63139553</td><td>2020-12-31</td><td>0.0</td><td>0.0</td><td>0.0</td></tr><tr><th>12</th><td>Easton (UMSRH)</td><td>h48881906</td><td>2020-12-31</td><td>9.29163</td><td>0.0</td><td>9.2888</td></tr><tr><th>13</th><td>Edward McCready Memorial Hospital</td><td>h55609821</td><td>2020-12-31</td><td>0.0</td><td>0.0</td><td>0.0</td></tr><tr><th>14</th><td>Fort Washington ACS</td><td>h30119195</td><td>2020-12-31</td><td>1.16145</td><td>1.15988</td><td>2.3222</td></tr><tr><th>15</th><td>Fort Washington Hospital</td><td>h24459724</td><td>2020-12-31</td><td>3.48436</td><td>0.0</td><td>3.4833</td></tr><tr><th>16</th><td>Franklin Square (MedStar)</td><td>h41936996</td><td>2020-12-31</td><td>72.0101</td><td>19.718</td><td>91.7269</td></tr><tr><th>17</th><td>Frederick Memorial Hospital</td><td>h27068501</td><td>2020-12-31</td><td>37.1665</td><td>4.63953</td><td>41.7996</td></tr><tr><th>18</th><td>Garrett Memorial Hospital (WVU)</td><td>h89650230</td><td>2020-12-31</td><td>17.4218</td><td>3.47965</td><td>20.8998</td></tr><tr><th>19</th><td>Germantown EC</td><td>h88962860</td><td>2020-12-31</td><td>0.0</td><td>0.0</td><td>0.0</td></tr><tr><th>20</th><td>Good Samaritan Hospital (MedStar)</td><td>h99606414</td><td>2020-12-31</td><td>36.0051</td><td>6.9593</td><td>42.9607</td></tr><tr><th>21</th><td>Grace Medical Center</td><td>h55471441</td><td>2020-12-31</td><td>0.0</td><td>0.0</td><td>0.0</td></tr><tr><th>22</th><td>Greater Baltimore Medical Center</td><td>h65349594</td><td>2020-12-31</td><td>32.5207</td><td>11.5988</td><td>44.1218</td></tr><tr><th>23</th><td>Harbor Hospital (MedStar)</td><td>h26221809</td><td>2020-12-31</td><td>17.4218</td><td>8.11919</td><td>25.5442</td></tr><tr><th>24</th><td>Harford Memorial Hospital (UMUCH)</td><td>h63170115</td><td>2020-12-31</td><td>16.2604</td><td>0.0</td><td>16.2554</td></tr><tr><th>25</th><td>Holy Cross Germantown</td><td>h47529315</td><td>2020-12-31</td><td>9.29163</td><td>6.9593</td><td>16.2554</td></tr><tr><th>26</th><td>Holy Cross Hospital</td><td>h32841492</td><td>2020-12-31</td><td>55.7498</td><td>32.4767</td><td>88.2436</td></tr><tr><th>27</th><td>Howard County General Hospital (JHM)</td><td>h01871291</td><td>2020-12-31</td><td>38.328</td><td>10.439</td><td>48.7662</td></tr><tr><th>28</th><td>Jessup Corrections ACS</td><td>h81795503</td><td>2020-12-31</td><td>0.0</td><td><em>missing</em></td><td><em>missing</em></td></tr><tr><th>29</th><td>Johns Hopkins Bayview Medical Center</td><td>h71848553</td><td>2020-12-31</td><td>34.8436</td><td>13.9186</td><td>48.7662</td></tr><tr><th>30</th><td>Johns Hopkins Hospital</td><td>h31492371</td><td>2020-12-31</td><td>62.7185</td><td>22.0378</td><td>84.7603</td></tr><tr><th>&vellip;</th><td>&vellip;</td><td>&vellip;</td><td>&vellip;</td><td>&vellip;</td><td>&vellip;</td><td>&vellip;</td></tr></tbody></table>"
      ],
      "text/latex": [
       "\\begin{tabular}{r|cccccc}\n",
       "\t& hospital & hospital\\_id & date & active\\_acute & active\\_icu & active\\_allbeds\\\\\n",
       "\t\\hline\n",
       "\t& String & String & Date & Float64 & Float64? & Float64?\\\\\n",
       "\t\\hline\n",
       "\t1 & Anne Arundel Medical Center & h39740093 & 2020-12-31 & 75.4945 & 11.5988 & 87.0825 \\\\\n",
       "\t2 & Atlantic General Hospital & h92616877 & 2020-12-31 & 5.80727 & 0.0 & 5.8055 \\\\\n",
       "\t3 & Baltimore Convention Center Field Hospital & h94720559 & 2020-12-31 & 37.1665 & 0.0 & 37.1552 \\\\\n",
       "\t4 & Baltimore Washington Medical Center & h75227743 & 2020-12-31 & 37.1665 & 19.718 & 56.8939 \\\\\n",
       "\t5 & Bowie Medical Center & h26261837 & 2020-12-31 & 0.0 & 0.0 & 0.0 \\\\\n",
       "\t6 & Calvert Memorial Hospital & h51968182 & 2020-12-31 & 4.64582 & 4.63953 & 9.2888 \\\\\n",
       "\t7 & Carroll Hospital Center & h73144964 & 2020-12-31 & 13.9374 & 4.63953 & 18.5776 \\\\\n",
       "\t8 & Charles Regional (UM) & h61059656 & 2020-12-31 & 5.80727 & 2.31977 & 8.1277 \\\\\n",
       "\t9 & Chestertown (UMSRH) & h95946725 & 2020-12-31 & 0.0 & 0.0 & 0.0 \\\\\n",
       "\t10 & Doctors Community Hospital & h82233897 & 2020-12-31 & 45.2967 & 15.0785 & 60.3772 \\\\\n",
       "\t11 & Dorchester (UMSRH) & h63139553 & 2020-12-31 & 0.0 & 0.0 & 0.0 \\\\\n",
       "\t12 & Easton (UMSRH) & h48881906 & 2020-12-31 & 9.29163 & 0.0 & 9.2888 \\\\\n",
       "\t13 & Edward McCready Memorial Hospital & h55609821 & 2020-12-31 & 0.0 & 0.0 & 0.0 \\\\\n",
       "\t14 & Fort Washington ACS & h30119195 & 2020-12-31 & 1.16145 & 1.15988 & 2.3222 \\\\\n",
       "\t15 & Fort Washington Hospital & h24459724 & 2020-12-31 & 3.48436 & 0.0 & 3.4833 \\\\\n",
       "\t16 & Franklin Square (MedStar) & h41936996 & 2020-12-31 & 72.0101 & 19.718 & 91.7269 \\\\\n",
       "\t17 & Frederick Memorial Hospital & h27068501 & 2020-12-31 & 37.1665 & 4.63953 & 41.7996 \\\\\n",
       "\t18 & Garrett Memorial Hospital (WVU) & h89650230 & 2020-12-31 & 17.4218 & 3.47965 & 20.8998 \\\\\n",
       "\t19 & Germantown EC & h88962860 & 2020-12-31 & 0.0 & 0.0 & 0.0 \\\\\n",
       "\t20 & Good Samaritan Hospital (MedStar) & h99606414 & 2020-12-31 & 36.0051 & 6.9593 & 42.9607 \\\\\n",
       "\t21 & Grace Medical Center & h55471441 & 2020-12-31 & 0.0 & 0.0 & 0.0 \\\\\n",
       "\t22 & Greater Baltimore Medical Center & h65349594 & 2020-12-31 & 32.5207 & 11.5988 & 44.1218 \\\\\n",
       "\t23 & Harbor Hospital (MedStar) & h26221809 & 2020-12-31 & 17.4218 & 8.11919 & 25.5442 \\\\\n",
       "\t24 & Harford Memorial Hospital (UMUCH) & h63170115 & 2020-12-31 & 16.2604 & 0.0 & 16.2554 \\\\\n",
       "\t25 & Holy Cross Germantown & h47529315 & 2020-12-31 & 9.29163 & 6.9593 & 16.2554 \\\\\n",
       "\t26 & Holy Cross Hospital & h32841492 & 2020-12-31 & 55.7498 & 32.4767 & 88.2436 \\\\\n",
       "\t27 & Howard County General Hospital (JHM) & h01871291 & 2020-12-31 & 38.328 & 10.439 & 48.7662 \\\\\n",
       "\t28 & Jessup Corrections ACS & h81795503 & 2020-12-31 & 0.0 & \\emph{missing} & \\emph{missing} \\\\\n",
       "\t29 & Johns Hopkins Bayview Medical Center & h71848553 & 2020-12-31 & 34.8436 & 13.9186 & 48.7662 \\\\\n",
       "\t30 & Johns Hopkins Hospital & h31492371 & 2020-12-31 & 62.7185 & 22.0378 & 84.7603 \\\\\n",
       "\t$\\dots$ & $\\dots$ & $\\dots$ & $\\dots$ & $\\dots$ & $\\dots$ & $\\dots$ \\\\\n",
       "\\end{tabular}\n"
      ],
      "text/plain": [
       "\u001b[1m55×6 DataFrame\u001b[0m\n",
       "\u001b[1m Row \u001b[0m│\u001b[1m hospital                          \u001b[0m\u001b[1m hospital_id \u001b[0m\u001b[1m date       \u001b[0m\u001b[1m active_acute \u001b[0m\u001b[1m active_icu \u001b[0m\u001b[1m active_allbeds \u001b[0m\n",
       "\u001b[1m     \u001b[0m│\u001b[90m String                            \u001b[0m\u001b[90m String      \u001b[0m\u001b[90m Date       \u001b[0m\u001b[90m Float64      \u001b[0m\u001b[90m Float64?   \u001b[0m\u001b[90m Float64?       \u001b[0m\n",
       "─────┼──────────────────────────────────────────────────────────────────────────────────────────────────────\n",
       "   1 │ Anne Arundel Medical Center        h39740093    2020-12-31      75.4945     11.5988          87.0825\n",
       "   2 │ Atlantic General Hospital          h92616877    2020-12-31       5.80727     0.0              5.8055\n",
       "   3 │ Baltimore Convention Center Fiel…  h94720559    2020-12-31      37.1665      0.0             37.1552\n",
       "   4 │ Baltimore Washington Medical Cen…  h75227743    2020-12-31      37.1665     19.718           56.8939\n",
       "   5 │ Bowie Medical Center               h26261837    2020-12-31       0.0         0.0              0.0\n",
       "   6 │ Calvert Memorial Hospital          h51968182    2020-12-31       4.64582     4.63953          9.2888\n",
       "   7 │ Carroll Hospital Center            h73144964    2020-12-31      13.9374      4.63953         18.5776\n",
       "   8 │ Charles Regional (UM)              h61059656    2020-12-31       5.80727     2.31977          8.1277\n",
       "   9 │ Chestertown (UMSRH)                h95946725    2020-12-31       0.0         0.0              0.0\n",
       "  10 │ Doctors Community Hospital         h82233897    2020-12-31      45.2967     15.0785          60.3772\n",
       "  11 │ Dorchester (UMSRH)                 h63139553    2020-12-31       0.0         0.0              0.0\n",
       "  ⋮  │                 ⋮                       ⋮           ⋮            ⋮            ⋮             ⋮\n",
       "  46 │ St. Joseph's (UM)                  h04231605    2020-12-31      34.8436      4.63953         39.4774\n",
       "  47 │ St. Mary's Hospital                h60750772    2020-12-31      19.7447      5.79942         25.5442\n",
       "  48 │ Suburban Hospital                  h44191077    2020-12-31      36.0051      6.9593          42.9607\n",
       "  49 │ Union Hospital of Cecil County     h36169128    2020-12-31      18.5833      4.63953         23.222\n",
       "  50 │ Union Memorial Hospital (MedStar)  h27405358    2020-12-31      30.1978      9.27907         39.4774\n",
       "  51 │ University of Maryland Medical C…  h35874312    2020-12-31      25.552      12.7587          38.3163\n",
       "  52 │ Upper Chesapeake Medical Center …  h05131983    2020-12-31      42.9738      5.79942         48.7662\n",
       "  53 │ Washington Adventist ACS           h39760140    2020-12-31      51.104       0.0             51.0884\n",
       "  54 │ Western Maryland Medical Center …  h30194845    2020-12-31      80.1403     15.0785          95.2102\n",
       "  55 │ White Oak Medical Center           h51938610    2020-12-31      26.7134      5.79942         32.5108\n",
       "\u001b[31m                                                                                             34 rows omitted\u001b[0m"
      ]
     },
     "execution_count": 9,
     "metadata": {},
     "output_type": "execute_result"
    }
   ],
   "source": [
    "outdata = transform(data,\n",
    "    :date => ByRow(x -> initialday) => :date,\n",
    "    :active_allbeds => ByRow(x -> x / state_lastday.total * state_initialday.total) => :active_allbeds,\n",
    "    :active_acute => ByRow(x -> x / state_lastday.acute * state_initialday.acute) => :active_acute,\n",
    "    :active_icu => ByRow(x -> x / state_lastday.icu * state_initialday.icu) => :active_icu,\n",
    ")"
   ]
  },
  {
   "cell_type": "code",
   "execution_count": 10,
   "metadata": {},
   "outputs": [],
   "source": [
    "outdata |> CSV.write(\"../data/data_initial.csv\");"
   ]
  },
  {
   "cell_type": "code",
   "execution_count": null,
   "metadata": {},
   "outputs": [],
   "source": []
  }
 ],
 "metadata": {
  "kernelspec": {
   "display_name": "Julia 1.5.3",
   "language": "julia",
   "name": "julia-1.5"
  },
  "language_info": {
   "file_extension": ".jl",
   "mimetype": "application/julia",
   "name": "julia",
   "version": "1.5.3"
  }
 },
 "nbformat": 4,
 "nbformat_minor": 4
}
