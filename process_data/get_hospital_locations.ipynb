{
 "cells": [
  {
   "cell_type": "code",
   "execution_count": 1,
   "metadata": {},
   "outputs": [],
   "source": [
    "using HTTP\n",
    "using JSON\n",
    "using CSV, DataFrames"
   ]
  },
  {
   "cell_type": "code",
   "execution_count": 2,
   "metadata": {},
   "outputs": [],
   "source": [
    "hospitals_data = DataFrame(CSV.File(\"../data/capacity_maryland.csv\"))\n",
    "hospitals = sort(hospitals_data.hospital);"
   ]
  },
  {
   "cell_type": "code",
   "execution_count": 3,
   "metadata": {},
   "outputs": [],
   "source": [
    "hospital_meta = Dict();\n",
    "hospital_locs = Dict();"
   ]
  },
  {
   "cell_type": "code",
   "execution_count": null,
   "metadata": {},
   "outputs": [],
   "source": [
    "apikey = \"\"; # fill in API key"
   ]
  },
  {
   "cell_type": "code",
   "execution_count": 4,
   "metadata": {},
   "outputs": [],
   "source": [
    "urltemplate = x -> \"https://maps.googleapis.com/maps/api/place/findplacefromtext/json?input=$(HTTP.escapeuri(x))&inputtype=textquery&fields=geometry,name,place_id,types&locationbias=ipbias&key=$(apikey)\";"
   ]
  },
  {
   "cell_type": "code",
   "execution_count": 5,
   "metadata": {},
   "outputs": [
    {
     "name": "stdout",
     "output_type": "stream",
     "text": [
      "hospital = \"Anne Arundel Medical Center\"\n",
      "hospital = \"Atlantic General Hospital\"\n",
      "hospital = \"Baltimore Convention Center Field Hospital\"\n",
      "hospital = \"Baltimore Washington Medical Center\"\n",
      "hospital = \"Bowie Medical Center\"\n",
      "hospital = \"Calvert Memorial Hospital\"\n",
      "hospital = \"Carroll Hospital Center\"\n",
      "hospital = \"Charles Regional (UM)\"\n",
      "hospital = \"Chestertown (UMSRH)\"\n",
      "hospital = \"Doctors Community Hospital\"\n",
      "hospital = \"Dorchester (UMSRH)\"\n",
      "hospital = \"Easton (UMSRH)\"\n",
      "hospital = \"Fort Washington ACS\"\n",
      "hospital = \"Fort Washington Hospital\"\n",
      "hospital = \"Franklin Square (MedStar)\"\n",
      "hospital = \"Frederick Memorial Hospital\"\n",
      "hospital = \"Garrett Memorial Hospital (WVU)\"\n",
      "hospital = \"Good Samaritan Hospital (MedStar)\"\n",
      "hospital = \"Grace Medical Center\"\n",
      "hospital = \"Greater Baltimore Medical Center\"\n",
      "hospital = \"Harbor Hospital (MedStar)\"\n",
      "hospital = \"Harford Memorial Hospital (UMUCH)\"\n",
      "hospital = \"Holy Cross Germantown\"\n",
      "hospital = \"Holy Cross Hospital\"\n",
      "hospital = \"Howard County General Hospital (JHM)\"\n",
      "hospital = \"Jessup Corrections ACS\"\n",
      "hospital = \"Johns Hopkins Bayview Medical Center\"\n",
      "hospital = \"Johns Hopkins Hospital\"\n",
      "hospital = \"Laurel Regional Medical Center\"\n",
      "hospital = \"Maryland Corrections Hagerstown ACS\"\n",
      "hospital = \"Mercy Medical Center\"\n",
      "hospital = \"Meritus Medical Center\"\n",
      "hospital = \"Midtown (UM)\"\n",
      "hospital = \"Montgomery Medical Center (MedStar)\"\n",
      "hospital = \"Northwest Hospital\"\n",
      "hospital = \"Peninsula Regional Medical Center\"\n",
      "hospital = \"Prince George's ACS\"\n",
      "hospital = \"Prince George's Hospital Center\"\n",
      "hospital = \"Shady Grove Adventist Hospital\"\n",
      "hospital = \"Sinai Hospital of Baltimore\"\n",
      "hospital = \"Southern Maryland Hospital (MedStar)\"\n",
      "hospital = \"St. Agnes Hospital\"\n",
      "hospital = \"St. Joseph's (UM)\"\n",
      "hospital = \"St. Mary's Hospital\"\n",
      "hospital = \"Suburban Hospital\"\n",
      "hospital = \"Union Hospital of Cecil County\"\n",
      "hospital = \"Union Memorial Hospital (MedStar)\"\n",
      "hospital = \"University of Maryland Medical Center\"\n",
      "hospital = \"Upper Chesapeake Medical Center (UMUCH)\"\n",
      "hospital = \"Washington Adventist ACS\"\n",
      "hospital = \"Western Maryland Medical Center (UPMC)\"\n",
      "hospital = \"White Oak Medical Center\"\n"
     ]
    }
   ],
   "source": [
    "for hospital in hospitals\n",
    "    @show hospital\n",
    "    \n",
    "    query_str = hospital * \" hospital Maryland\"\n",
    "    url = urltemplate(query_str)\n",
    "    \n",
    "    r = HTTP.request(\"GET\", url)\n",
    "    rawcontent = String(r.body)\n",
    "    \n",
    "    response = JSON.parse(rawcontent)\n",
    "    hospital_meta[hospital] = response\n",
    "    \n",
    "    if !isempty(response[\"candidates\"])\n",
    "        place_info = response[\"candidates\"][1]\n",
    "        hospital_locs[hospital] = place_info[\"geometry\"][\"location\"]\n",
    "    else\n",
    "        println(\"Error! No matching place found for: $(hospital)\")\n",
    "    end\n",
    "end"
   ]
  },
  {
   "cell_type": "code",
   "execution_count": 6,
   "metadata": {},
   "outputs": [],
   "source": [
    "open(\"../rawdata/md_hospital_locs_raw.json\", \"w\") do f\n",
    "    JSON.print(f, hospital_meta, 4)\n",
    "end"
   ]
  },
  {
   "cell_type": "code",
   "execution_count": 7,
   "metadata": {},
   "outputs": [],
   "source": [
    "open(\"../data/md_hospital_locs.json\", \"w\") do f\n",
    "    JSON.print(f, hospital_locs, 4)\n",
    "end"
   ]
  },
  {
   "cell_type": "code",
   "execution_count": null,
   "metadata": {},
   "outputs": [],
   "source": []
  }
 ],
 "metadata": {
  "@webio": {
   "lastCommId": null,
   "lastKernelId": null
  },
  "kernelspec": {
   "display_name": "Julia 1.5.3",
   "language": "julia",
   "name": "julia-1.5"
  },
  "language_info": {
   "file_extension": ".jl",
   "mimetype": "application/julia",
   "name": "julia",
   "version": "1.5.3"
  }
 },
 "nbformat": 4,
 "nbformat_minor": 4
}
