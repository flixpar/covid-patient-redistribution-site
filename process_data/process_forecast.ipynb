{
 "cells": [
  {
   "cell_type": "code",
   "execution_count": 1,
   "metadata": {},
   "outputs": [],
   "source": [
    "using CSV\n",
    "using Dates\n",
    "using DataFrames\n",
    "using Dates"
   ]
  },
  {
   "cell_type": "code",
   "execution_count": 2,
   "metadata": {},
   "outputs": [],
   "source": [
    "ENV[\"COLUMNS\"] = 1000;"
   ]
  },
  {
   "cell_type": "code",
   "execution_count": 3,
   "metadata": {},
   "outputs": [
    {
     "data": {
      "text/html": [
       "<table class=\"data-frame\"><thead><tr><th></th><th>Column1</th><th>hospital_name</th><th>ccn</th><th>collection_week</th><th>fips_code</th><th>hospitalization_percentage</th><th>ICU_percentages</th><th>target_date</th><th>hospitalizations</th></tr><tr><th></th><th>Int64</th><th>String</th><th>String?</th><th>String</th><th>Int64</th><th>Float64?</th><th>Float64?</th><th>String</th><th>Float64?</th></tr></thead><tbody><p>120,500 rows × 9 columns</p><tr><th>1</th><td>10</td><td>PRATTVILLE BAPTIST HOSPITAL</td><td>10108</td><td>1/29/21</td><td>1001</td><td>1.0</td><td>0.189189</td><td>2/3/21</td><td>3.40048</td></tr><tr><th>2</th><td>11</td><td>SOUTH BALDWIN REGIONAL MEDICAL CENTER</td><td>10083</td><td>1/29/21</td><td>1003</td><td>0.323413</td><td>0.406061</td><td>2/3/21</td><td>4.03381</td></tr><tr><th>3</th><td>12</td><td>NORTH BALDWIN INFIRMARY</td><td>10129</td><td>1/29/21</td><td>1003</td><td>0.162858</td><td>0.348485</td><td>2/3/21</td><td>2.03127</td></tr><tr><th>4</th><td>13</td><td>THOMAS HOSPITAL</td><td>10100</td><td>1/29/21</td><td>1003</td><td>0.513729</td><td>0.197026</td><td>2/3/21</td><td>6.40756</td></tr><tr><th>5</th><td>14</td><td>MEDICAL CENTER BARBOUR</td><td>10069</td><td>1/29/21</td><td>1005</td><td>1.0</td><td>0.227273</td><td>2/3/21</td><td>1.59001</td></tr><tr><th>6</th><td>15</td><td>BIBB MEDICAL CENTER</td><td>10058</td><td>1/29/21</td><td>1007</td><td>0.814815</td><td>0.0</td><td>2/3/21</td><td>0.767816</td></tr><tr><th>7</th><td>16</td><td>ST VINCENTS BLOUNT</td><td>11305</td><td>1/29/21</td><td>1009</td><td>0.962963</td><td>0.0526316</td><td>2/3/21</td><td>2.62851</td></tr><tr><th>8</th><td>17</td><td>BULLOCK COUNTY HOSPITAL</td><td>10110</td><td>1/29/21</td><td>1011</td><td>0.0</td><td><em>missing</em></td><td>2/3/21</td><td>0.0</td></tr><tr><th>9</th><td>18</td><td>REGIONAL MEDICAL CENTER OF CENTRAL ALABAMA</td><td>10150</td><td>1/29/21</td><td>1013</td><td>0.962963</td><td>0.555556</td><td>2/3/21</td><td>0.840803</td></tr><tr><th>10</th><td>19</td><td>NORTHEAST ALABAMA REGIONAL MEDICAL CENTER</td><td>10078</td><td>1/29/21</td><td>1015</td><td>0.978215</td><td>0.208054</td><td>2/3/21</td><td>6.14725</td></tr><tr><th>11</th><td>20</td><td>NOLAND HOSPITAL ANNISTON II, LLC</td><td>12011</td><td>1/29/21</td><td>1015</td><td>0.0209385</td><td><em>missing</em></td><td>2/3/21</td><td>0.131581</td></tr><tr><th>12</th><td>21</td><td>STRINGFELLOW MEMORIAL HOSPITAL</td><td>10038</td><td>1/29/21</td><td>1015</td><td>0.0008464</td><td><em>missing</em></td><td>2/3/21</td><td>0.00531891</td></tr><tr><th>13</th><td>22</td><td>EAMC - LANIER</td><td>10175</td><td>1/29/21</td><td>1017</td><td>1.0</td><td>0.0</td><td>2/3/21</td><td>2.2225</td></tr><tr><th>14</th><td>23</td><td>FLOYD CHEROKEE MEDICAL CENTER</td><td>10022</td><td>1/29/21</td><td>1019</td><td>0.814815</td><td><em>missing</em></td><td>2/3/21</td><td>0.556075</td></tr><tr><th>15</th><td>24</td><td>ST VINCENT'S CHILTON</td><td>10173</td><td>1/29/21</td><td>1021</td><td>1.0</td><td>0.181818</td><td>2/3/21</td><td>1.32234</td></tr><tr><th>16</th><td>25</td><td>CHOCTAW GENERAL HOSPITAL</td><td>11304</td><td>1/29/21</td><td>1023</td><td>0.962963</td><td>0.0</td><td>2/3/21</td><td>0.176168</td></tr><tr><th>17</th><td>26</td><td>THOMASVILLE REGIONAL MEDICAL CENTER</td><td>10174</td><td>1/29/21</td><td>1025</td><td>0.308764</td><td>0.0</td><td>2/3/21</td><td>0.939413</td></tr><tr><th>18</th><td>27</td><td>GROVE HILL MEMORIAL HOSPITAL</td><td>10091</td><td>1/29/21</td><td>1025</td><td>0.229495</td><td>0.0</td><td>2/3/21</td><td>0.698238</td></tr><tr><th>19</th><td>28</td><td>JACKSON MEDICAL CENTER</td><td>10128</td><td>1/29/21</td><td>1025</td><td>0.461741</td><td>0.0</td><td>2/3/21</td><td>1.40485</td></tr><tr><th>20</th><td>29</td><td>CLAY COUNTY HOSPITAL</td><td>10073</td><td>1/29/21</td><td>1027</td><td>1.0</td><td>1.0</td><td>2/3/21</td><td>0.486035</td></tr><tr><th>21</th><td>30</td><td>MEDICAL CENTER ENTERPRISE</td><td>10049</td><td>1/29/21</td><td>1031</td><td>1.0</td><td>0.283582</td><td>2/3/21</td><td>3.39927</td></tr><tr><th>22</th><td>31</td><td>HELEN KELLER MEMORIAL HOSPITAL</td><td>10019</td><td>1/29/21</td><td>1033</td><td>0.834734</td><td>0.590517</td><td>2/3/21</td><td>2.30178</td></tr><tr><th>23</th><td>32</td><td>SHOALS HOSPITAL</td><td>10157</td><td>1/29/21</td><td>1033</td><td>0.165266</td><td>0.0</td><td>2/3/21</td><td>0.455723</td></tr><tr><th>24</th><td>33</td><td>EVERGREEN MEDICAL CENTER</td><td>10148</td><td>1/29/21</td><td>1035</td><td>1.0</td><td>0.0</td><td>2/3/21</td><td>0.448758</td></tr><tr><th>25</th><td>34</td><td>MIZELL MEMORIAL HOSPITAL</td><td>10007</td><td>1/29/21</td><td>1039</td><td>0.561205</td><td>0.193548</td><td>2/3/21</td><td>1.14311</td></tr><tr><th>26</th><td>35</td><td>ANDALUSIA HEALTH</td><td>10036</td><td>1/29/21</td><td>1039</td><td>0.438795</td><td>0.537037</td><td>2/3/21</td><td>0.893777</td></tr><tr><th>27</th><td>36</td><td>CRENSHAW COMMUNITY HOSPITAL</td><td>10008</td><td>1/29/21</td><td>1041</td><td>1.0</td><td>0.0</td><td>2/3/21</td><td>0.820094</td></tr><tr><th>28</th><td>37</td><td>CULLMAN REGIONAL MEDICAL CENTER</td><td>10035</td><td>1/29/21</td><td>1043</td><td>1.0</td><td>0.336207</td><td>2/3/21</td><td>3.48176</td></tr><tr><th>29</th><td>38</td><td>DALE MEDICAL CENTER</td><td>10021</td><td>1/29/21</td><td>1045</td><td>1.0</td><td>0.111111</td><td>2/3/21</td><td>2.29044</td></tr><tr><th>30</th><td>39</td><td>VAUGHAN REGIONAL MEDICAL CENTER PARKWAY CAMPUS</td><td>10118</td><td>1/29/21</td><td>1047</td><td>1.0</td><td>0.275862</td><td>2/3/21</td><td>1.32477</td></tr><tr><th>&vellip;</th><td>&vellip;</td><td>&vellip;</td><td>&vellip;</td><td>&vellip;</td><td>&vellip;</td><td>&vellip;</td><td>&vellip;</td><td>&vellip;</td><td>&vellip;</td></tr></tbody></table>"
      ],
      "text/latex": [
       "\\begin{tabular}{r|ccccccccc}\n",
       "\t& Column1 & hospital\\_name & ccn & collection\\_week & fips\\_code & hospitalization\\_percentage & ICU\\_percentages & target\\_date & hospitalizations\\\\\n",
       "\t\\hline\n",
       "\t& Int64 & String & String? & String & Int64 & Float64? & Float64? & String & Float64?\\\\\n",
       "\t\\hline\n",
       "\t1 & 10 & PRATTVILLE BAPTIST HOSPITAL & 10108 & 1/29/21 & 1001 & 1.0 & 0.189189 & 2/3/21 & 3.40048 \\\\\n",
       "\t2 & 11 & SOUTH BALDWIN REGIONAL MEDICAL CENTER & 10083 & 1/29/21 & 1003 & 0.323413 & 0.406061 & 2/3/21 & 4.03381 \\\\\n",
       "\t3 & 12 & NORTH BALDWIN INFIRMARY & 10129 & 1/29/21 & 1003 & 0.162858 & 0.348485 & 2/3/21 & 2.03127 \\\\\n",
       "\t4 & 13 & THOMAS HOSPITAL & 10100 & 1/29/21 & 1003 & 0.513729 & 0.197026 & 2/3/21 & 6.40756 \\\\\n",
       "\t5 & 14 & MEDICAL CENTER BARBOUR & 10069 & 1/29/21 & 1005 & 1.0 & 0.227273 & 2/3/21 & 1.59001 \\\\\n",
       "\t6 & 15 & BIBB MEDICAL CENTER & 10058 & 1/29/21 & 1007 & 0.814815 & 0.0 & 2/3/21 & 0.767816 \\\\\n",
       "\t7 & 16 & ST VINCENTS BLOUNT & 11305 & 1/29/21 & 1009 & 0.962963 & 0.0526316 & 2/3/21 & 2.62851 \\\\\n",
       "\t8 & 17 & BULLOCK COUNTY HOSPITAL & 10110 & 1/29/21 & 1011 & 0.0 & \\emph{missing} & 2/3/21 & 0.0 \\\\\n",
       "\t9 & 18 & REGIONAL MEDICAL CENTER OF CENTRAL ALABAMA & 10150 & 1/29/21 & 1013 & 0.962963 & 0.555556 & 2/3/21 & 0.840803 \\\\\n",
       "\t10 & 19 & NORTHEAST ALABAMA REGIONAL MEDICAL CENTER & 10078 & 1/29/21 & 1015 & 0.978215 & 0.208054 & 2/3/21 & 6.14725 \\\\\n",
       "\t11 & 20 & NOLAND HOSPITAL ANNISTON II, LLC & 12011 & 1/29/21 & 1015 & 0.0209385 & \\emph{missing} & 2/3/21 & 0.131581 \\\\\n",
       "\t12 & 21 & STRINGFELLOW MEMORIAL HOSPITAL & 10038 & 1/29/21 & 1015 & 0.0008464 & \\emph{missing} & 2/3/21 & 0.00531891 \\\\\n",
       "\t13 & 22 & EAMC - LANIER & 10175 & 1/29/21 & 1017 & 1.0 & 0.0 & 2/3/21 & 2.2225 \\\\\n",
       "\t14 & 23 & FLOYD CHEROKEE MEDICAL CENTER & 10022 & 1/29/21 & 1019 & 0.814815 & \\emph{missing} & 2/3/21 & 0.556075 \\\\\n",
       "\t15 & 24 & ST VINCENT'S CHILTON & 10173 & 1/29/21 & 1021 & 1.0 & 0.181818 & 2/3/21 & 1.32234 \\\\\n",
       "\t16 & 25 & CHOCTAW GENERAL HOSPITAL & 11304 & 1/29/21 & 1023 & 0.962963 & 0.0 & 2/3/21 & 0.176168 \\\\\n",
       "\t17 & 26 & THOMASVILLE REGIONAL MEDICAL CENTER & 10174 & 1/29/21 & 1025 & 0.308764 & 0.0 & 2/3/21 & 0.939413 \\\\\n",
       "\t18 & 27 & GROVE HILL MEMORIAL HOSPITAL & 10091 & 1/29/21 & 1025 & 0.229495 & 0.0 & 2/3/21 & 0.698238 \\\\\n",
       "\t19 & 28 & JACKSON MEDICAL CENTER & 10128 & 1/29/21 & 1025 & 0.461741 & 0.0 & 2/3/21 & 1.40485 \\\\\n",
       "\t20 & 29 & CLAY COUNTY HOSPITAL & 10073 & 1/29/21 & 1027 & 1.0 & 1.0 & 2/3/21 & 0.486035 \\\\\n",
       "\t21 & 30 & MEDICAL CENTER ENTERPRISE & 10049 & 1/29/21 & 1031 & 1.0 & 0.283582 & 2/3/21 & 3.39927 \\\\\n",
       "\t22 & 31 & HELEN KELLER MEMORIAL HOSPITAL & 10019 & 1/29/21 & 1033 & 0.834734 & 0.590517 & 2/3/21 & 2.30178 \\\\\n",
       "\t23 & 32 & SHOALS HOSPITAL & 10157 & 1/29/21 & 1033 & 0.165266 & 0.0 & 2/3/21 & 0.455723 \\\\\n",
       "\t24 & 33 & EVERGREEN MEDICAL CENTER & 10148 & 1/29/21 & 1035 & 1.0 & 0.0 & 2/3/21 & 0.448758 \\\\\n",
       "\t25 & 34 & MIZELL MEMORIAL HOSPITAL & 10007 & 1/29/21 & 1039 & 0.561205 & 0.193548 & 2/3/21 & 1.14311 \\\\\n",
       "\t26 & 35 & ANDALUSIA HEALTH & 10036 & 1/29/21 & 1039 & 0.438795 & 0.537037 & 2/3/21 & 0.893777 \\\\\n",
       "\t27 & 36 & CRENSHAW COMMUNITY HOSPITAL & 10008 & 1/29/21 & 1041 & 1.0 & 0.0 & 2/3/21 & 0.820094 \\\\\n",
       "\t28 & 37 & CULLMAN REGIONAL MEDICAL CENTER & 10035 & 1/29/21 & 1043 & 1.0 & 0.336207 & 2/3/21 & 3.48176 \\\\\n",
       "\t29 & 38 & DALE MEDICAL CENTER & 10021 & 1/29/21 & 1045 & 1.0 & 0.111111 & 2/3/21 & 2.29044 \\\\\n",
       "\t30 & 39 & VAUGHAN REGIONAL MEDICAL CENTER PARKWAY CAMPUS & 10118 & 1/29/21 & 1047 & 1.0 & 0.275862 & 2/3/21 & 1.32477 \\\\\n",
       "\t$\\dots$ & $\\dots$ & $\\dots$ & $\\dots$ & $\\dots$ & $\\dots$ & $\\dots$ & $\\dots$ & $\\dots$ & $\\dots$ \\\\\n",
       "\\end{tabular}\n"
      ],
      "text/plain": [
       "\u001b[1m120500×9 DataFrame\u001b[0m\n",
       "\u001b[1m    Row \u001b[0m│\u001b[1m Column1 \u001b[0m\u001b[1m hospital_name                     \u001b[0m\u001b[1m ccn     \u001b[0m\u001b[1m collection_week \u001b[0m\u001b[1m fips_code \u001b[0m\u001b[1m hospitalization_percentage \u001b[0m\u001b[1m ICU_percentages \u001b[0m\u001b[1m target_date \u001b[0m\u001b[1m hospitalizations \u001b[0m\n",
       "\u001b[1m        \u001b[0m│\u001b[90m Int64   \u001b[0m\u001b[90m String                            \u001b[0m\u001b[90m String? \u001b[0m\u001b[90m String          \u001b[0m\u001b[90m Int64     \u001b[0m\u001b[90m Union{Missing, Float64}    \u001b[0m\u001b[90m Float64?        \u001b[0m\u001b[90m String      \u001b[0m\u001b[90m Float64?         \u001b[0m\n",
       "────────┼─────────────────────────────────────────────────────────────────────────────────────────────────────────────────────────────────────────────────────────────\n",
       "      1 │      10  PRATTVILLE BAPTIST HOSPITAL        10108    1/29/21               1001                   1.0              0.189189   2/3/21             3.40048\n",
       "      2 │      11  SOUTH BALDWIN REGIONAL MEDICAL C…  10083    1/29/21               1003                   0.323413         0.406061   2/3/21             4.03381\n",
       "      3 │      12  NORTH BALDWIN INFIRMARY            10129    1/29/21               1003                   0.162858         0.348485   2/3/21             2.03127\n",
       "      4 │      13  THOMAS HOSPITAL                    10100    1/29/21               1003                   0.513729         0.197026   2/3/21             6.40756\n",
       "      5 │      14  MEDICAL CENTER BARBOUR             10069    1/29/21               1005                   1.0              0.227273   2/3/21             1.59001\n",
       "      6 │      15  BIBB MEDICAL CENTER                10058    1/29/21               1007                   0.814815         0.0        2/3/21             0.767816\n",
       "      7 │      16  ST VINCENTS BLOUNT                 11305    1/29/21               1009                   0.962963         0.0526316  2/3/21             2.62851\n",
       "      8 │      17  BULLOCK COUNTY HOSPITAL            10110    1/29/21               1011                   0.0       \u001b[90m missing         \u001b[0m 2/3/21             0.0\n",
       "      9 │      18  REGIONAL MEDICAL CENTER OF CENTR…  10150    1/29/21               1013                   0.962963         0.555556   2/3/21             0.840803\n",
       "     10 │      19  NORTHEAST ALABAMA REGIONAL MEDIC…  10078    1/29/21               1015                   0.978215         0.208054   2/3/21             6.14725\n",
       "     11 │      20  NOLAND HOSPITAL ANNISTON II, LLC   12011    1/29/21               1015                   0.0209385 \u001b[90m missing         \u001b[0m 2/3/21             0.131581\n",
       "   ⋮    │    ⋮                     ⋮                     ⋮            ⋮             ⋮                  ⋮                      ⋮              ⋮              ⋮\n",
       " 120491 │    4826  NIOBRARA HEALTH & LIFE CENTER      531314   1/29/21              56027                   0.222222  \u001b[90m missing         \u001b[0m 2/27/21            0.00168014\n",
       " 120492 │    4827  CODY REGIONAL HEALTH               531312   1/29/21              56029                   0.644841         0.4        2/27/21            0.168826\n",
       " 120493 │    4828  POWELL VALLEY HOSPITAL             531310   1/29/21              56029                   0.244048  \u001b[90m missing         \u001b[0m 2/27/21            0.0638942\n",
       " 120494 │    4829  PLATTE COUNTY MEMORIAL HOSPITAL    531305   1/29/21              56031                   0.814815         0.0        2/27/21            0.0717879\n",
       " 120495 │    4830  SHERIDAN MEMORIAL HOSPITAL         530006   1/29/21              56033                   1.0              0.0        2/27/21            0.274932\n",
       " 120496 │    4831  MEMORIAL HOSPITAL SWEETWATER COU…  530011   1/29/21              56037                   0.777778         0.4        2/27/21            0.337615\n",
       " 120497 │    4832  ST JOHNS MEDICAL CENTER            530015   1/29/21              56039                   1.0              0.0        2/27/21            0.866037\n",
       " 120498 │    4833  EVANSTON REGIONAL HOSPITAL         530032   1/29/21              56041                   0.518519         0.4        2/27/21            0.179169\n",
       " 120499 │    4834  WASHAKIE MEDICAL CENTER            531306   1/29/21              56043                   1.0              0.0        2/27/21            0.0536118\n",
       " 120500 │    4835  WESTON COUNTY HEALTH SERVICES      531303   1/29/21              56045                   0.296296  \u001b[90m missing         \u001b[0m 2/27/21            0.0118119\n",
       "\u001b[31m                                                                                                                                                   120479 rows omitted\u001b[0m"
      ]
     },
     "execution_count": 3,
     "metadata": {},
     "output_type": "execute_result"
    }
   ],
   "source": [
    "rawdata = DataFrame(CSV.File(\"../rawdata/output_HHS_US_2021-02-27_one_column.csv\"))"
   ]
  },
  {
   "cell_type": "code",
   "execution_count": 4,
   "metadata": {},
   "outputs": [],
   "source": [
    "function firstval(xs)\n",
    "    isbad(x) = isnothing(x) || ismissing(x)\n",
    "    if all(isbad.(xs))\n",
    "        return missing\n",
    "    else\n",
    "        return xs[findfirst(x -> !isbad(x), xs)]\n",
    "    end\n",
    "end;"
   ]
  },
  {
   "cell_type": "code",
   "execution_count": 5,
   "metadata": {},
   "outputs": [],
   "source": [
    "ccn_lookup_df = combine(groupby(rawdata, [:Column1, :hospital_name]), :ccn => firstval => :ccn)\n",
    "ccn_lookup = Dict(row.Column1 => row.ccn for row in eachrow(ccn_lookup_df));"
   ]
  },
  {
   "cell_type": "code",
   "execution_count": 6,
   "metadata": {},
   "outputs": [
    {
     "data": {
      "text/html": [
       "<table class=\"data-frame\"><thead><tr><th></th><th>hospital</th><th>hospital_id</th><th>date</th><th>admitted_moderate_icu</th><th>admitted_moderate_acute</th><th>admitted_moderate_allbeds</th></tr><tr><th></th><th>String</th><th>String?</th><th>Date</th><th>Float64?</th><th>Float64?</th><th>Float64?</th></tr></thead><tbody><p>120,500 rows × 6 columns</p><tr><th>1</th><td>ABBEVILLE AREA MEDICAL CENTER</td><td>421301</td><td>2021-02-03</td><td>0.0</td><td>1.29152</td><td>1.29152</td></tr><tr><th>2</th><td>ABBEVILLE AREA MEDICAL CENTER</td><td>421301</td><td>2021-02-04</td><td>0.0</td><td>1.32475</td><td>1.32475</td></tr><tr><th>3</th><td>ABBEVILLE AREA MEDICAL CENTER</td><td>421301</td><td>2021-02-05</td><td>0.0</td><td>1.27687</td><td>1.27687</td></tr><tr><th>4</th><td>ABBEVILLE AREA MEDICAL CENTER</td><td>421301</td><td>2021-02-06</td><td>0.0</td><td>1.26223</td><td>1.26223</td></tr><tr><th>5</th><td>ABBEVILLE AREA MEDICAL CENTER</td><td>421301</td><td>2021-02-07</td><td>0.0</td><td>1.28687</td><td>1.28687</td></tr><tr><th>6</th><td>ABBEVILLE AREA MEDICAL CENTER</td><td>421301</td><td>2021-02-08</td><td>0.0</td><td>1.25579</td><td>1.25579</td></tr><tr><th>7</th><td>ABBEVILLE AREA MEDICAL CENTER</td><td>421301</td><td>2021-02-09</td><td>0.0</td><td>1.23703</td><td>1.23703</td></tr><tr><th>8</th><td>ABBEVILLE AREA MEDICAL CENTER</td><td>421301</td><td>2021-02-10</td><td>0.0</td><td>1.19365</td><td>1.19365</td></tr><tr><th>9</th><td>ABBEVILLE AREA MEDICAL CENTER</td><td>421301</td><td>2021-02-11</td><td>0.0</td><td>1.22531</td><td>1.22531</td></tr><tr><th>10</th><td>ABBEVILLE AREA MEDICAL CENTER</td><td>421301</td><td>2021-02-12</td><td>0.0</td><td>1.18955</td><td>1.18955</td></tr><tr><th>11</th><td>ABBEVILLE AREA MEDICAL CENTER</td><td>421301</td><td>2021-02-13</td><td>0.0</td><td>1.16785</td><td>1.16785</td></tr><tr><th>12</th><td>ABBEVILLE AREA MEDICAL CENTER</td><td>421301</td><td>2021-02-14</td><td>0.0</td><td>1.18971</td><td>1.18971</td></tr><tr><th>13</th><td>ABBEVILLE AREA MEDICAL CENTER</td><td>421301</td><td>2021-02-15</td><td>0.0</td><td>1.15708</td><td>1.15708</td></tr><tr><th>14</th><td>ABBEVILLE AREA MEDICAL CENTER</td><td>421301</td><td>2021-02-16</td><td>0.0</td><td>1.12808</td><td>1.12808</td></tr><tr><th>15</th><td>ABBEVILLE AREA MEDICAL CENTER</td><td>421301</td><td>2021-02-17</td><td>0.0</td><td>1.09183</td><td>1.09183</td></tr><tr><th>16</th><td>ABBEVILLE AREA MEDICAL CENTER</td><td>421301</td><td>2021-02-18</td><td>0.0</td><td>1.13533</td><td>1.13533</td></tr><tr><th>17</th><td>ABBEVILLE AREA MEDICAL CENTER</td><td>421301</td><td>2021-02-19</td><td>0.0</td><td>1.09666</td><td>1.09666</td></tr><tr><th>18</th><td>ABBEVILLE AREA MEDICAL CENTER</td><td>421301</td><td>2021-02-20</td><td>0.0</td><td>1.07793</td><td>1.07793</td></tr><tr><th>19</th><td>ABBEVILLE AREA MEDICAL CENTER</td><td>421301</td><td>2021-02-21</td><td>0.0</td><td>1.04062</td><td>1.04062</td></tr><tr><th>20</th><td>ABBEVILLE AREA MEDICAL CENTER</td><td>421301</td><td>2021-02-22</td><td>0.0</td><td>1.01492</td><td>1.01492</td></tr><tr><th>21</th><td>ABBEVILLE AREA MEDICAL CENTER</td><td>421301</td><td>2021-02-23</td><td>0.0</td><td>0.996991</td><td>0.996991</td></tr><tr><th>22</th><td>ABBEVILLE AREA MEDICAL CENTER</td><td>421301</td><td>2021-02-24</td><td>0.0</td><td>0.956944</td><td>0.956944</td></tr><tr><th>23</th><td>ABBEVILLE AREA MEDICAL CENTER</td><td>421301</td><td>2021-02-25</td><td>0.0</td><td>0.999382</td><td>0.999382</td></tr><tr><th>24</th><td>ABBEVILLE AREA MEDICAL CENTER</td><td>421301</td><td>2021-02-26</td><td>0.0</td><td>0.966508</td><td>0.966508</td></tr><tr><th>25</th><td>ABBEVILLE AREA MEDICAL CENTER</td><td>421301</td><td>2021-02-27</td><td>0.0</td><td>0.941403</td><td>0.941403</td></tr><tr><th>26</th><td>ABBEVILLE GENERAL HOSPITAL</td><td>190034</td><td>2021-02-03</td><td>0.613916</td><td>0.613916</td><td>1.22783</td></tr><tr><th>27</th><td>ABBEVILLE GENERAL HOSPITAL</td><td>190034</td><td>2021-02-04</td><td>0.61794</td><td>0.61794</td><td>1.23588</td></tr><tr><th>28</th><td>ABBEVILLE GENERAL HOSPITAL</td><td>190034</td><td>2021-02-05</td><td>0.594469</td><td>0.594469</td><td>1.18894</td></tr><tr><th>29</th><td>ABBEVILLE GENERAL HOSPITAL</td><td>190034</td><td>2021-02-06</td><td>0.563958</td><td>0.563958</td><td>1.12792</td></tr><tr><th>30</th><td>ABBEVILLE GENERAL HOSPITAL</td><td>190034</td><td>2021-02-07</td><td>0.283343</td><td>0.283343</td><td>0.566687</td></tr><tr><th>&vellip;</th><td>&vellip;</td><td>&vellip;</td><td>&vellip;</td><td>&vellip;</td><td>&vellip;</td><td>&vellip;</td></tr></tbody></table>"
      ],
      "text/latex": [
       "\\begin{tabular}{r|cccccc}\n",
       "\t& hospital & hospital\\_id & date & admitted\\_moderate\\_icu & admitted\\_moderate\\_acute & admitted\\_moderate\\_allbeds\\\\\n",
       "\t\\hline\n",
       "\t& String & String? & Date & Float64? & Float64? & Float64?\\\\\n",
       "\t\\hline\n",
       "\t1 & ABBEVILLE AREA MEDICAL CENTER & 421301 & 2021-02-03 & 0.0 & 1.29152 & 1.29152 \\\\\n",
       "\t2 & ABBEVILLE AREA MEDICAL CENTER & 421301 & 2021-02-04 & 0.0 & 1.32475 & 1.32475 \\\\\n",
       "\t3 & ABBEVILLE AREA MEDICAL CENTER & 421301 & 2021-02-05 & 0.0 & 1.27687 & 1.27687 \\\\\n",
       "\t4 & ABBEVILLE AREA MEDICAL CENTER & 421301 & 2021-02-06 & 0.0 & 1.26223 & 1.26223 \\\\\n",
       "\t5 & ABBEVILLE AREA MEDICAL CENTER & 421301 & 2021-02-07 & 0.0 & 1.28687 & 1.28687 \\\\\n",
       "\t6 & ABBEVILLE AREA MEDICAL CENTER & 421301 & 2021-02-08 & 0.0 & 1.25579 & 1.25579 \\\\\n",
       "\t7 & ABBEVILLE AREA MEDICAL CENTER & 421301 & 2021-02-09 & 0.0 & 1.23703 & 1.23703 \\\\\n",
       "\t8 & ABBEVILLE AREA MEDICAL CENTER & 421301 & 2021-02-10 & 0.0 & 1.19365 & 1.19365 \\\\\n",
       "\t9 & ABBEVILLE AREA MEDICAL CENTER & 421301 & 2021-02-11 & 0.0 & 1.22531 & 1.22531 \\\\\n",
       "\t10 & ABBEVILLE AREA MEDICAL CENTER & 421301 & 2021-02-12 & 0.0 & 1.18955 & 1.18955 \\\\\n",
       "\t11 & ABBEVILLE AREA MEDICAL CENTER & 421301 & 2021-02-13 & 0.0 & 1.16785 & 1.16785 \\\\\n",
       "\t12 & ABBEVILLE AREA MEDICAL CENTER & 421301 & 2021-02-14 & 0.0 & 1.18971 & 1.18971 \\\\\n",
       "\t13 & ABBEVILLE AREA MEDICAL CENTER & 421301 & 2021-02-15 & 0.0 & 1.15708 & 1.15708 \\\\\n",
       "\t14 & ABBEVILLE AREA MEDICAL CENTER & 421301 & 2021-02-16 & 0.0 & 1.12808 & 1.12808 \\\\\n",
       "\t15 & ABBEVILLE AREA MEDICAL CENTER & 421301 & 2021-02-17 & 0.0 & 1.09183 & 1.09183 \\\\\n",
       "\t16 & ABBEVILLE AREA MEDICAL CENTER & 421301 & 2021-02-18 & 0.0 & 1.13533 & 1.13533 \\\\\n",
       "\t17 & ABBEVILLE AREA MEDICAL CENTER & 421301 & 2021-02-19 & 0.0 & 1.09666 & 1.09666 \\\\\n",
       "\t18 & ABBEVILLE AREA MEDICAL CENTER & 421301 & 2021-02-20 & 0.0 & 1.07793 & 1.07793 \\\\\n",
       "\t19 & ABBEVILLE AREA MEDICAL CENTER & 421301 & 2021-02-21 & 0.0 & 1.04062 & 1.04062 \\\\\n",
       "\t20 & ABBEVILLE AREA MEDICAL CENTER & 421301 & 2021-02-22 & 0.0 & 1.01492 & 1.01492 \\\\\n",
       "\t21 & ABBEVILLE AREA MEDICAL CENTER & 421301 & 2021-02-23 & 0.0 & 0.996991 & 0.996991 \\\\\n",
       "\t22 & ABBEVILLE AREA MEDICAL CENTER & 421301 & 2021-02-24 & 0.0 & 0.956944 & 0.956944 \\\\\n",
       "\t23 & ABBEVILLE AREA MEDICAL CENTER & 421301 & 2021-02-25 & 0.0 & 0.999382 & 0.999382 \\\\\n",
       "\t24 & ABBEVILLE AREA MEDICAL CENTER & 421301 & 2021-02-26 & 0.0 & 0.966508 & 0.966508 \\\\\n",
       "\t25 & ABBEVILLE AREA MEDICAL CENTER & 421301 & 2021-02-27 & 0.0 & 0.941403 & 0.941403 \\\\\n",
       "\t26 & ABBEVILLE GENERAL HOSPITAL & 190034 & 2021-02-03 & 0.613916 & 0.613916 & 1.22783 \\\\\n",
       "\t27 & ABBEVILLE GENERAL HOSPITAL & 190034 & 2021-02-04 & 0.61794 & 0.61794 & 1.23588 \\\\\n",
       "\t28 & ABBEVILLE GENERAL HOSPITAL & 190034 & 2021-02-05 & 0.594469 & 0.594469 & 1.18894 \\\\\n",
       "\t29 & ABBEVILLE GENERAL HOSPITAL & 190034 & 2021-02-06 & 0.563958 & 0.563958 & 1.12792 \\\\\n",
       "\t30 & ABBEVILLE GENERAL HOSPITAL & 190034 & 2021-02-07 & 0.283343 & 0.283343 & 0.566687 \\\\\n",
       "\t$\\dots$ & $\\dots$ & $\\dots$ & $\\dots$ & $\\dots$ & $\\dots$ & $\\dots$ \\\\\n",
       "\\end{tabular}\n"
      ],
      "text/plain": [
       "\u001b[1m120500×6 DataFrame\u001b[0m\n",
       "\u001b[1m    Row \u001b[0m│\u001b[1m hospital                          \u001b[0m\u001b[1m hospital_id \u001b[0m\u001b[1m date       \u001b[0m\u001b[1m admitted_moderate_icu \u001b[0m\u001b[1m admitted_moderate_acute \u001b[0m\u001b[1m admitted_moderate_allbeds \u001b[0m\n",
       "\u001b[1m        \u001b[0m│\u001b[90m String                            \u001b[0m\u001b[90m String?     \u001b[0m\u001b[90m Date       \u001b[0m\u001b[90m Float64?              \u001b[0m\u001b[90m Union{Missing, Float64} \u001b[0m\u001b[90m Union{Missing, Float64}   \u001b[0m\n",
       "────────┼───────────────────────────────────────────────────────────────────────────────────────────────────────────────────────────────────────\n",
       "      1 │ ABBEVILLE AREA MEDICAL CENTER      421301       2021-02-03               0.0                       1.29152                    1.29152\n",
       "      2 │ ABBEVILLE AREA MEDICAL CENTER      421301       2021-02-04               0.0                       1.32475                    1.32475\n",
       "      3 │ ABBEVILLE AREA MEDICAL CENTER      421301       2021-02-05               0.0                       1.27687                    1.27687\n",
       "      4 │ ABBEVILLE AREA MEDICAL CENTER      421301       2021-02-06               0.0                       1.26223                    1.26223\n",
       "      5 │ ABBEVILLE AREA MEDICAL CENTER      421301       2021-02-07               0.0                       1.28687                    1.28687\n",
       "      6 │ ABBEVILLE AREA MEDICAL CENTER      421301       2021-02-08               0.0                       1.25579                    1.25579\n",
       "      7 │ ABBEVILLE AREA MEDICAL CENTER      421301       2021-02-09               0.0                       1.23703                    1.23703\n",
       "      8 │ ABBEVILLE AREA MEDICAL CENTER      421301       2021-02-10               0.0                       1.19365                    1.19365\n",
       "      9 │ ABBEVILLE AREA MEDICAL CENTER      421301       2021-02-11               0.0                       1.22531                    1.22531\n",
       "     10 │ ABBEVILLE AREA MEDICAL CENTER      421301       2021-02-12               0.0                       1.18955                    1.18955\n",
       "     11 │ ABBEVILLE AREA MEDICAL CENTER      421301       2021-02-13               0.0                       1.16785                    1.16785\n",
       "   ⋮    │                 ⋮                       ⋮           ⋮                 ⋮                       ⋮                         ⋮\n",
       " 120491 │ ZUCKERBERG SAN FRANCISCO GENERAL…  50228        2021-02-18               0.893492                  2.11985                    3.01335\n",
       " 120492 │ ZUCKERBERG SAN FRANCISCO GENERAL…  50228        2021-02-19               0.899218                  2.13344                    3.03266\n",
       " 120493 │ ZUCKERBERG SAN FRANCISCO GENERAL…  50228        2021-02-20               0.874688                  2.07524                    2.94993\n",
       " 120494 │ ZUCKERBERG SAN FRANCISCO GENERAL…  50228        2021-02-21               0.907316                  2.15265                    3.05997\n",
       " 120495 │ ZUCKERBERG SAN FRANCISCO GENERAL…  50228        2021-02-22               0.878728                  2.08483                    2.96355\n",
       " 120496 │ ZUCKERBERG SAN FRANCISCO GENERAL…  50228        2021-02-23               0.897116                  2.12845                    3.02557\n",
       " 120497 │ ZUCKERBERG SAN FRANCISCO GENERAL…  50228        2021-02-24               0.898018                  2.13059                    3.02861\n",
       " 120498 │ ZUCKERBERG SAN FRANCISCO GENERAL…  50228        2021-02-25               0.863949                  2.04976                    2.91371\n",
       " 120499 │ ZUCKERBERG SAN FRANCISCO GENERAL…  50228        2021-02-26               0.870193                  2.06458                    2.93477\n",
       " 120500 │ ZUCKERBERG SAN FRANCISCO GENERAL…  50228        2021-02-27               0.855275                  2.02918                    2.88446\n",
       "\u001b[31m                                                                                                                             120479 rows omitted\u001b[0m"
      ]
     },
     "execution_count": 6,
     "metadata": {},
     "output_type": "execute_result"
    }
   ],
   "source": [
    "data = select(rawdata,\n",
    "    :hospital_name => :hospital,\n",
    "    :Column1 => ByRow(x -> ccn_lookup[x]) => :hospital_id,\n",
    "    :target_date => ByRow(d -> Date(d, dateformat\"m/d/y\")+Year(2000)) => :date,\n",
    "    [\"hospitalizations\", \"ICU_percentages\"] => ByRow((x,y) -> x*coalesce(y,0.3)) => :admitted_moderate_icu,\n",
    "    [\"hospitalizations\", \"ICU_percentages\"] => ByRow((x,y) -> x*(1.0-coalesce(y,0.3))) => :admitted_moderate_acute,\n",
    "    \"hospitalizations\" => :admitted_moderate_allbeds,\n",
    ")\n",
    "sort!(data, [:hospital, :hospital_id, :date])"
   ]
  },
  {
   "cell_type": "code",
   "execution_count": 7,
   "metadata": {},
   "outputs": [
    {
     "data": {
      "text/plain": [
       "\"../data/hhs_forecast_2021_02_08.csv\""
      ]
     },
     "execution_count": 7,
     "metadata": {},
     "output_type": "execute_result"
    }
   ],
   "source": [
    "data |> CSV.write(\"../data/hhs_forecast_2021_02_08.csv\")"
   ]
  },
  {
   "cell_type": "code",
   "execution_count": null,
   "metadata": {},
   "outputs": [],
   "source": []
  }
 ],
 "metadata": {
  "@webio": {
   "lastCommId": null,
   "lastKernelId": null
  },
  "kernelspec": {
   "display_name": "Julia 1.5.3",
   "language": "julia",
   "name": "julia-1.5"
  },
  "language_info": {
   "file_extension": ".jl",
   "mimetype": "application/julia",
   "name": "julia",
   "version": "1.5.3"
  }
 },
 "nbformat": 4,
 "nbformat_minor": 4
}
