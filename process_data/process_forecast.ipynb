{
 "cells": [
  {
   "cell_type": "code",
   "execution_count": 1,
   "metadata": {},
   "outputs": [],
   "source": [
    "using CSV\n",
    "using Dates\n",
    "using DataFrames\n",
    "using Dates"
   ]
  },
  {
   "cell_type": "code",
   "execution_count": 2,
   "metadata": {},
   "outputs": [],
   "source": [
    "ENV[\"COLUMNS\"] = 1000;"
   ]
  },
  {
   "cell_type": "code",
   "execution_count": 3,
   "metadata": {},
   "outputs": [],
   "source": [
    "pct_icu = 0.3;"
   ]
  },
  {
   "cell_type": "code",
   "execution_count": 4,
   "metadata": {},
   "outputs": [],
   "source": [
    "rawdata = DataFrame(CSV.File(\"../rawdata/HospitalAdmissionsAverage_20210121.csv\"));"
   ]
  },
  {
   "cell_type": "code",
   "execution_count": 5,
   "metadata": {},
   "outputs": [],
   "source": [
    "get_hospital_id(h) = h |> hash |> string |> (x -> \"h\" * x[end-7:end]);"
   ]
  },
  {
   "cell_type": "code",
   "execution_count": 6,
   "metadata": {},
   "outputs": [],
   "source": [
    "data = stack(rawdata, Not(\"  day\"))\n",
    "select!(data,\n",
    "    \"  day\" => ByRow(d -> Date(d, dateformat\"m/d/yyyy\")) => :date,\n",
    "    :variable => ByRow(h -> h[1:end-11]) => :hospital,\n",
    "    :variable => ByRow(h -> get_hospital_id(h[1:end-11])) => :hospital_id,\n",
    "    :value => :admissions_allbeds,\n",
    "    :value => ByRow(x -> x * (1-pct_icu)) => :admissions_acute,\n",
    "    :value => ByRow(x -> x * pct_icu) => :admissions_icu,\n",
    ");"
   ]
  },
  {
   "cell_type": "code",
   "execution_count": 7,
   "metadata": {},
   "outputs": [
    {
     "data": {
      "text/html": [
       "<table class=\"data-frame\"><thead><tr><th></th><th>date</th><th>hospital</th><th>hospital_id</th><th>admissions_allbeds</th><th>admissions_acute</th><th>admissions_icu</th></tr><tr><th></th><th>Date</th><th>String</th><th>String</th><th>Float64</th><th>Float64</th><th>Float64</th></tr></thead><tbody><p>10,317 rows × 6 columns</p><tr><th>1</th><td>2021-01-01</td><td>Anne Arundel Medical Center</td><td>h39740093</td><td>13.3226</td><td>9.32581</td><td>3.99677</td></tr><tr><th>2</th><td>2021-01-02</td><td>Anne Arundel Medical Center</td><td>h39740093</td><td>13.6452</td><td>9.55161</td><td>4.09355</td></tr><tr><th>3</th><td>2021-01-03</td><td>Anne Arundel Medical Center</td><td>h39740093</td><td>15.1935</td><td>10.6355</td><td>4.55806</td></tr><tr><th>4</th><td>2021-01-04</td><td>Anne Arundel Medical Center</td><td>h39740093</td><td>13.871</td><td>9.70968</td><td>4.16129</td></tr><tr><th>5</th><td>2021-01-05</td><td>Anne Arundel Medical Center</td><td>h39740093</td><td>12.8387</td><td>8.9871</td><td>3.85161</td></tr><tr><th>6</th><td>2021-01-06</td><td>Anne Arundel Medical Center</td><td>h39740093</td><td>12.3226</td><td>8.62581</td><td>3.69677</td></tr><tr><th>7</th><td>2021-01-07</td><td>Anne Arundel Medical Center</td><td>h39740093</td><td>12.9677</td><td>9.07742</td><td>3.89032</td></tr><tr><th>8</th><td>2021-01-08</td><td>Anne Arundel Medical Center</td><td>h39740093</td><td>13.1613</td><td>9.2129</td><td>3.94839</td></tr><tr><th>9</th><td>2021-01-09</td><td>Anne Arundel Medical Center</td><td>h39740093</td><td>12.3548</td><td>8.64839</td><td>3.70645</td></tr><tr><th>10</th><td>2021-01-10</td><td>Anne Arundel Medical Center</td><td>h39740093</td><td>12.2903</td><td>8.60323</td><td>3.6871</td></tr><tr><th>11</th><td>2021-01-11</td><td>Anne Arundel Medical Center</td><td>h39740093</td><td>12.5806</td><td>8.80645</td><td>3.77419</td></tr><tr><th>12</th><td>2021-01-12</td><td>Anne Arundel Medical Center</td><td>h39740093</td><td>11.3226</td><td>7.92581</td><td>3.39677</td></tr><tr><th>13</th><td>2021-01-13</td><td>Anne Arundel Medical Center</td><td>h39740093</td><td>11.129</td><td>7.79032</td><td>3.33871</td></tr><tr><th>14</th><td>2021-01-14</td><td>Anne Arundel Medical Center</td><td>h39740093</td><td>11.8387</td><td>8.2871</td><td>3.55161</td></tr><tr><th>15</th><td>2021-01-15</td><td>Anne Arundel Medical Center</td><td>h39740093</td><td>11.0323</td><td>7.72258</td><td>3.30968</td></tr><tr><th>16</th><td>2021-01-16</td><td>Anne Arundel Medical Center</td><td>h39740093</td><td>11.3871</td><td>7.97097</td><td>3.41613</td></tr><tr><th>17</th><td>2021-01-17</td><td>Anne Arundel Medical Center</td><td>h39740093</td><td>10.2258</td><td>7.15806</td><td>3.06774</td></tr><tr><th>18</th><td>2021-01-18</td><td>Anne Arundel Medical Center</td><td>h39740093</td><td>11.0645</td><td>7.74516</td><td>3.31935</td></tr><tr><th>19</th><td>2021-01-19</td><td>Anne Arundel Medical Center</td><td>h39740093</td><td>10.6194</td><td>7.43355</td><td>3.18581</td></tr><tr><th>20</th><td>2021-01-20</td><td>Anne Arundel Medical Center</td><td>h39740093</td><td>10.5387</td><td>7.3771</td><td>3.16161</td></tr><tr><th>21</th><td>2021-01-21</td><td>Anne Arundel Medical Center</td><td>h39740093</td><td>11.0387</td><td>7.7271</td><td>3.31161</td></tr><tr><th>22</th><td>2021-01-22</td><td>Anne Arundel Medical Center</td><td>h39740093</td><td>11.0129</td><td>7.70903</td><td>3.30387</td></tr><tr><th>23</th><td>2021-01-23</td><td>Anne Arundel Medical Center</td><td>h39740093</td><td>10.2032</td><td>7.14226</td><td>3.06097</td></tr><tr><th>24</th><td>2021-01-24</td><td>Anne Arundel Medical Center</td><td>h39740093</td><td>9.7</td><td>6.79</td><td>2.91</td></tr><tr><th>25</th><td>2021-01-25</td><td>Anne Arundel Medical Center</td><td>h39740093</td><td>11.3226</td><td>7.92581</td><td>3.39677</td></tr><tr><th>26</th><td>2021-01-26</td><td>Anne Arundel Medical Center</td><td>h39740093</td><td>11.8548</td><td>8.29839</td><td>3.55645</td></tr><tr><th>27</th><td>2021-01-27</td><td>Anne Arundel Medical Center</td><td>h39740093</td><td>11.229</td><td>7.86032</td><td>3.36871</td></tr><tr><th>28</th><td>2021-01-28</td><td>Anne Arundel Medical Center</td><td>h39740093</td><td>10.4548</td><td>7.31839</td><td>3.13645</td></tr><tr><th>29</th><td>2021-01-29</td><td>Anne Arundel Medical Center</td><td>h39740093</td><td>10.8935</td><td>7.62548</td><td>3.26806</td></tr><tr><th>30</th><td>2021-01-30</td><td>Anne Arundel Medical Center</td><td>h39740093</td><td>10.6323</td><td>7.44258</td><td>3.18968</td></tr><tr><th>&vellip;</th><td>&vellip;</td><td>&vellip;</td><td>&vellip;</td><td>&vellip;</td><td>&vellip;</td><td>&vellip;</td></tr></tbody></table>"
      ],
      "text/latex": [
       "\\begin{tabular}{r|cccccc}\n",
       "\t& date & hospital & hospital\\_id & admissions\\_allbeds & admissions\\_acute & admissions\\_icu\\\\\n",
       "\t\\hline\n",
       "\t& Date & String & String & Float64 & Float64 & Float64\\\\\n",
       "\t\\hline\n",
       "\t1 & 2021-01-01 & Anne Arundel Medical Center & h39740093 & 13.3226 & 9.32581 & 3.99677 \\\\\n",
       "\t2 & 2021-01-02 & Anne Arundel Medical Center & h39740093 & 13.6452 & 9.55161 & 4.09355 \\\\\n",
       "\t3 & 2021-01-03 & Anne Arundel Medical Center & h39740093 & 15.1935 & 10.6355 & 4.55806 \\\\\n",
       "\t4 & 2021-01-04 & Anne Arundel Medical Center & h39740093 & 13.871 & 9.70968 & 4.16129 \\\\\n",
       "\t5 & 2021-01-05 & Anne Arundel Medical Center & h39740093 & 12.8387 & 8.9871 & 3.85161 \\\\\n",
       "\t6 & 2021-01-06 & Anne Arundel Medical Center & h39740093 & 12.3226 & 8.62581 & 3.69677 \\\\\n",
       "\t7 & 2021-01-07 & Anne Arundel Medical Center & h39740093 & 12.9677 & 9.07742 & 3.89032 \\\\\n",
       "\t8 & 2021-01-08 & Anne Arundel Medical Center & h39740093 & 13.1613 & 9.2129 & 3.94839 \\\\\n",
       "\t9 & 2021-01-09 & Anne Arundel Medical Center & h39740093 & 12.3548 & 8.64839 & 3.70645 \\\\\n",
       "\t10 & 2021-01-10 & Anne Arundel Medical Center & h39740093 & 12.2903 & 8.60323 & 3.6871 \\\\\n",
       "\t11 & 2021-01-11 & Anne Arundel Medical Center & h39740093 & 12.5806 & 8.80645 & 3.77419 \\\\\n",
       "\t12 & 2021-01-12 & Anne Arundel Medical Center & h39740093 & 11.3226 & 7.92581 & 3.39677 \\\\\n",
       "\t13 & 2021-01-13 & Anne Arundel Medical Center & h39740093 & 11.129 & 7.79032 & 3.33871 \\\\\n",
       "\t14 & 2021-01-14 & Anne Arundel Medical Center & h39740093 & 11.8387 & 8.2871 & 3.55161 \\\\\n",
       "\t15 & 2021-01-15 & Anne Arundel Medical Center & h39740093 & 11.0323 & 7.72258 & 3.30968 \\\\\n",
       "\t16 & 2021-01-16 & Anne Arundel Medical Center & h39740093 & 11.3871 & 7.97097 & 3.41613 \\\\\n",
       "\t17 & 2021-01-17 & Anne Arundel Medical Center & h39740093 & 10.2258 & 7.15806 & 3.06774 \\\\\n",
       "\t18 & 2021-01-18 & Anne Arundel Medical Center & h39740093 & 11.0645 & 7.74516 & 3.31935 \\\\\n",
       "\t19 & 2021-01-19 & Anne Arundel Medical Center & h39740093 & 10.6194 & 7.43355 & 3.18581 \\\\\n",
       "\t20 & 2021-01-20 & Anne Arundel Medical Center & h39740093 & 10.5387 & 7.3771 & 3.16161 \\\\\n",
       "\t21 & 2021-01-21 & Anne Arundel Medical Center & h39740093 & 11.0387 & 7.7271 & 3.31161 \\\\\n",
       "\t22 & 2021-01-22 & Anne Arundel Medical Center & h39740093 & 11.0129 & 7.70903 & 3.30387 \\\\\n",
       "\t23 & 2021-01-23 & Anne Arundel Medical Center & h39740093 & 10.2032 & 7.14226 & 3.06097 \\\\\n",
       "\t24 & 2021-01-24 & Anne Arundel Medical Center & h39740093 & 9.7 & 6.79 & 2.91 \\\\\n",
       "\t25 & 2021-01-25 & Anne Arundel Medical Center & h39740093 & 11.3226 & 7.92581 & 3.39677 \\\\\n",
       "\t26 & 2021-01-26 & Anne Arundel Medical Center & h39740093 & 11.8548 & 8.29839 & 3.55645 \\\\\n",
       "\t27 & 2021-01-27 & Anne Arundel Medical Center & h39740093 & 11.229 & 7.86032 & 3.36871 \\\\\n",
       "\t28 & 2021-01-28 & Anne Arundel Medical Center & h39740093 & 10.4548 & 7.31839 & 3.13645 \\\\\n",
       "\t29 & 2021-01-29 & Anne Arundel Medical Center & h39740093 & 10.8935 & 7.62548 & 3.26806 \\\\\n",
       "\t30 & 2021-01-30 & Anne Arundel Medical Center & h39740093 & 10.6323 & 7.44258 & 3.18968 \\\\\n",
       "\t$\\dots$ & $\\dots$ & $\\dots$ & $\\dots$ & $\\dots$ & $\\dots$ & $\\dots$ \\\\\n",
       "\\end{tabular}\n"
      ],
      "text/plain": [
       "\u001b[1m10317×6 DataFrame\u001b[0m\n",
       "\u001b[1m   Row \u001b[0m│\u001b[1m date       \u001b[0m\u001b[1m hospital                    \u001b[0m\u001b[1m hospital_id \u001b[0m\u001b[1m admissions_allbeds \u001b[0m\u001b[1m admissions_acute \u001b[0m\u001b[1m admissions_icu \u001b[0m\n",
       "\u001b[1m       \u001b[0m│\u001b[90m Date       \u001b[0m\u001b[90m String                      \u001b[0m\u001b[90m String      \u001b[0m\u001b[90m Float64            \u001b[0m\u001b[90m Float64          \u001b[0m\u001b[90m Float64        \u001b[0m\n",
       "───────┼────────────────────────────────────────────────────────────────────────────────────────────────────────────\n",
       "     1 │ 2021-01-01  Anne Arundel Medical Center  h39740093            13.3226            9.32581         3.99677\n",
       "     2 │ 2021-01-02  Anne Arundel Medical Center  h39740093            13.6452            9.55161         4.09355\n",
       "     3 │ 2021-01-03  Anne Arundel Medical Center  h39740093            15.1935           10.6355          4.55806\n",
       "     4 │ 2021-01-04  Anne Arundel Medical Center  h39740093            13.871             9.70968         4.16129\n",
       "     5 │ 2021-01-05  Anne Arundel Medical Center  h39740093            12.8387            8.9871          3.85161\n",
       "     6 │ 2021-01-06  Anne Arundel Medical Center  h39740093            12.3226            8.62581         3.69677\n",
       "     7 │ 2021-01-07  Anne Arundel Medical Center  h39740093            12.9677            9.07742         3.89032\n",
       "     8 │ 2021-01-08  Anne Arundel Medical Center  h39740093            13.1613            9.2129          3.94839\n",
       "     9 │ 2021-01-09  Anne Arundel Medical Center  h39740093            12.3548            8.64839         3.70645\n",
       "    10 │ 2021-01-10  Anne Arundel Medical Center  h39740093            12.2903            8.60323         3.6871\n",
       "    11 │ 2021-01-11  Anne Arundel Medical Center  h39740093            12.5806            8.80645         3.77419\n",
       "   ⋮   │     ⋮                    ⋮                    ⋮               ⋮                  ⋮                ⋮\n",
       " 10308 │ 2021-06-21  White Oak Medical Center     h51938610             0.129032          0.0903226       0.0387097\n",
       " 10309 │ 2021-06-22  White Oak Medical Center     h51938610             0.116129          0.0812903       0.0348387\n",
       " 10310 │ 2021-06-23  White Oak Medical Center     h51938610             0.103226          0.0722581       0.0309677\n",
       " 10311 │ 2021-06-24  White Oak Medical Center     h51938610             0.103226          0.0722581       0.0309677\n",
       " 10312 │ 2021-06-25  White Oak Medical Center     h51938610             0.0677419         0.0474194       0.0203226\n",
       " 10313 │ 2021-06-26  White Oak Medical Center     h51938610             0.0774194         0.0541935       0.0232258\n",
       " 10314 │ 2021-06-27  White Oak Medical Center     h51938610             0.0548387         0.0383871       0.0164516\n",
       " 10315 │ 2021-06-28  White Oak Medical Center     h51938610             0.0709677         0.0496774       0.0212903\n",
       " 10316 │ 2021-06-29  White Oak Medical Center     h51938610             0.0580645         0.0406452       0.0174194\n",
       " 10317 │ 2021-06-30  White Oak Medical Center     h51938610             0.0677419         0.0474194       0.0203226\n",
       "\u001b[31m                                                                                                  10296 rows omitted\u001b[0m"
      ]
     },
     "execution_count": 7,
     "metadata": {},
     "output_type": "execute_result"
    }
   ],
   "source": [
    "sort!(data, [:hospital, :date])"
   ]
  },
  {
   "cell_type": "code",
   "execution_count": 8,
   "metadata": {},
   "outputs": [
    {
     "data": {
      "text/plain": [
       "\"../data/data_forecast.csv\""
      ]
     },
     "execution_count": 8,
     "metadata": {},
     "output_type": "execute_result"
    }
   ],
   "source": [
    "data |> CSV.write(\"../data/data_forecast.csv\")"
   ]
  },
  {
   "cell_type": "code",
   "execution_count": null,
   "metadata": {},
   "outputs": [],
   "source": []
  }
 ],
 "metadata": {
  "@webio": {
   "lastCommId": null,
   "lastKernelId": null
  },
  "kernelspec": {
   "display_name": "Julia 1.5.3",
   "language": "julia",
   "name": "julia-1.5"
  },
  "language_info": {
   "file_extension": ".jl",
   "mimetype": "application/julia",
   "name": "julia",
   "version": "1.5.3"
  }
 },
 "nbformat": 4,
 "nbformat_minor": 4
}
