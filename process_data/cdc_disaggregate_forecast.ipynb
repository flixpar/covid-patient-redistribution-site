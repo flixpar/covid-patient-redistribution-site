{
 "cells": [
  {
   "cell_type": "code",
   "execution_count": 1,
   "metadata": {},
   "outputs": [],
   "source": [
    "using CSV\n",
    "using Dates\n",
    "using DataFrames"
   ]
  },
  {
   "cell_type": "code",
   "execution_count": 3,
   "metadata": {},
   "outputs": [],
   "source": [
    "ENV[\"COLUMNS\"] = 1000;"
   ]
  },
  {
   "cell_type": "code",
   "execution_count": 30,
   "metadata": {},
   "outputs": [
    {
     "name": "stdout",
     "output_type": "stream",
     "text": [
      "nrow(forecast_rawdata) = 12564\n"
     ]
    },
    {
     "data": {
      "text/html": [
       "<table class=\"data-frame\"><thead><tr><th></th><th>model</th><th>forecast_date</th><th>target</th><th>target_end_date</th><th>location_name</th><th>State</th><th>fips</th><th>point</th><th>quantile_0.025</th><th>quantile_0.25</th><th>quantile_0.75</th><th>quantile_0.975</th></tr><tr><th></th><th>String</th><th>Date</th><th>String</th><th>Date</th><th>String</th><th>String</th><th>String</th><th>Int64</th><th>Int64</th><th>Int64</th><th>Int64</th><th>Int64</th></tr></thead><tbody><p>5 rows × 12 columns</p><tr><th>1</th><td>Ensemble</td><td>2021-02-01</td><td>1 wk ahead inc case</td><td>2021-02-06</td><td>Autauga County, Alabama</td><td>Alabama</td><td>01001</td><td>223</td><td>82</td><td>146</td><td>265</td><td>354</td></tr><tr><th>2</th><td>Ensemble</td><td>2021-02-01</td><td>1 wk ahead inc case</td><td>2021-02-06</td><td>Baldwin County, Alabama</td><td>Alabama</td><td>01003</td><td>814</td><td>477</td><td>670</td><td>916</td><td>1089</td></tr><tr><th>3</th><td>Ensemble</td><td>2021-02-01</td><td>1 wk ahead inc case</td><td>2021-02-06</td><td>Barbour County, Alabama</td><td>Alabama</td><td>01005</td><td>108</td><td>49</td><td>88</td><td>128</td><td>166</td></tr><tr><th>4</th><td>Ensemble</td><td>2021-02-01</td><td>1 wk ahead inc case</td><td>2021-02-06</td><td>Bibb County, Alabama</td><td>Alabama</td><td>01007</td><td>53</td><td>18</td><td>39</td><td>79</td><td>103</td></tr><tr><th>5</th><td>Ensemble</td><td>2021-02-01</td><td>1 wk ahead inc case</td><td>2021-02-06</td><td>Blount County, Alabama</td><td>Alabama</td><td>01009</td><td>184</td><td>83</td><td>142</td><td>207</td><td>271</td></tr></tbody></table>"
      ],
      "text/latex": [
       "\\begin{tabular}{r|cccccccccccc}\n",
       "\t& model & forecast\\_date & target & target\\_end\\_date & location\\_name & State & fips & point & quantile\\_0.025 & quantile\\_0.25 & quantile\\_0.75 & quantile\\_0.975\\\\\n",
       "\t\\hline\n",
       "\t& String & Date & String & Date & String & String & String & Int64 & Int64 & Int64 & Int64 & Int64\\\\\n",
       "\t\\hline\n",
       "\t1 & Ensemble & 2021-02-01 & 1 wk ahead inc case & 2021-02-06 & Autauga County, Alabama & Alabama & 01001 & 223 & 82 & 146 & 265 & 354 \\\\\n",
       "\t2 & Ensemble & 2021-02-01 & 1 wk ahead inc case & 2021-02-06 & Baldwin County, Alabama & Alabama & 01003 & 814 & 477 & 670 & 916 & 1089 \\\\\n",
       "\t3 & Ensemble & 2021-02-01 & 1 wk ahead inc case & 2021-02-06 & Barbour County, Alabama & Alabama & 01005 & 108 & 49 & 88 & 128 & 166 \\\\\n",
       "\t4 & Ensemble & 2021-02-01 & 1 wk ahead inc case & 2021-02-06 & Bibb County, Alabama & Alabama & 01007 & 53 & 18 & 39 & 79 & 103 \\\\\n",
       "\t5 & Ensemble & 2021-02-01 & 1 wk ahead inc case & 2021-02-06 & Blount County, Alabama & Alabama & 01009 & 184 & 83 & 142 & 207 & 271 \\\\\n",
       "\\end{tabular}\n"
      ],
      "text/plain": [
       "\u001b[1m5×12 DataFrame\u001b[0m\n",
       "\u001b[1m Row \u001b[0m│\u001b[1m model    \u001b[0m\u001b[1m forecast_date \u001b[0m\u001b[1m target              \u001b[0m\u001b[1m target_end_date \u001b[0m\u001b[1m location_name           \u001b[0m\u001b[1m State   \u001b[0m\u001b[1m fips   \u001b[0m\u001b[1m point \u001b[0m\u001b[1m quantile_0.025 \u001b[0m\u001b[1m quantile_0.25 \u001b[0m\u001b[1m quantile_0.75 \u001b[0m\u001b[1m quantile_0.975 \u001b[0m\n",
       "\u001b[1m     \u001b[0m│\u001b[90m String   \u001b[0m\u001b[90m Date          \u001b[0m\u001b[90m String              \u001b[0m\u001b[90m Date            \u001b[0m\u001b[90m String                  \u001b[0m\u001b[90m String  \u001b[0m\u001b[90m String \u001b[0m\u001b[90m Int64 \u001b[0m\u001b[90m Int64          \u001b[0m\u001b[90m Int64         \u001b[0m\u001b[90m Int64         \u001b[0m\u001b[90m Int64          \u001b[0m\n",
       "─────┼──────────────────────────────────────────────────────────────────────────────────────────────────────────────────────────────────────────────────────────────────────────────\n",
       "   1 │ Ensemble  2021-02-01     1 wk ahead inc case  2021-02-06       Autauga County, Alabama  Alabama  01001     223              82            146            265             354\n",
       "   2 │ Ensemble  2021-02-01     1 wk ahead inc case  2021-02-06       Baldwin County, Alabama  Alabama  01003     814             477            670            916            1089\n",
       "   3 │ Ensemble  2021-02-01     1 wk ahead inc case  2021-02-06       Barbour County, Alabama  Alabama  01005     108              49             88            128             166\n",
       "   4 │ Ensemble  2021-02-01     1 wk ahead inc case  2021-02-06       Bibb County, Alabama     Alabama  01007      53              18             39             79             103\n",
       "   5 │ Ensemble  2021-02-01     1 wk ahead inc case  2021-02-06       Blount County, Alabama   Alabama  01009     184              83            142            207             271"
      ]
     },
     "execution_count": 30,
     "metadata": {},
     "output_type": "execute_result"
    }
   ],
   "source": [
    "forecast_rawdata = DataFrame(CSV.File(\"../rawdata/2021-02-01-all-forecasted-cases-model-data.csv\"))\n",
    "filter!(row -> row.model == \"Ensemble\", forecast_rawdata)\n",
    "filter!(row -> row.location_name != row.State, forecast_rawdata)\n",
    "@show nrow(forecast_rawdata)\n",
    "first(forecast_rawdata, 5)"
   ]
  },
  {
   "cell_type": "code",
   "execution_count": 32,
   "metadata": {},
   "outputs": [
    {
     "name": "stdout",
     "output_type": "stream",
     "text": [
      "nrow(hhs_rawdata) = 824600\n"
     ]
    },
    {
     "data": {
      "text/html": [
       "<table class=\"data-frame\"><thead><tr><th></th><th>hospital</th><th>hospital_id</th><th>date</th><th>admissions_icu</th><th>admissions_acute</th><th>admissions_allbeds</th><th>active_icu</th><th>active_acute</th><th>active_allbeds</th></tr><tr><th></th><th>String</th><th>String</th><th>Date</th><th>Float64?</th><th>Float64?</th><th>Float64?</th><th>Float64?</th><th>Float64?</th><th>Float64?</th></tr></thead><tbody><p>5 rows × 9 columns</p><tr><th>1</th><td>ABBEVILLE AREA MEDICAL CENTER</td><td>421301</td><td>2020-07-31</td><td>0.471429</td><td>1.1</td><td>1.57143</td><td>1.71429</td><td>1.42857</td><td>3.14286</td></tr><tr><th>2</th><td>ABBEVILLE AREA MEDICAL CENTER</td><td>421301</td><td>2020-08-01</td><td>0.446939</td><td>1.04286</td><td>1.4898</td><td>1.59184</td><td>1.73469</td><td>3.32653</td></tr><tr><th>3</th><td>ABBEVILLE AREA MEDICAL CENTER</td><td>421301</td><td>2020-08-02</td><td>0.422449</td><td>0.985714</td><td>1.40816</td><td>1.46939</td><td>2.04082</td><td>3.5102</td></tr><tr><th>4</th><td>ABBEVILLE AREA MEDICAL CENTER</td><td>421301</td><td>2020-08-03</td><td>0.397959</td><td>0.928571</td><td>1.32653</td><td>1.34694</td><td>2.34694</td><td>3.69388</td></tr><tr><th>5</th><td>ABBEVILLE AREA MEDICAL CENTER</td><td>421301</td><td>2020-08-04</td><td>0.373469</td><td>0.871429</td><td>1.2449</td><td>1.22449</td><td>2.65306</td><td>3.87755</td></tr></tbody></table>"
      ],
      "text/latex": [
       "\\begin{tabular}{r|ccccccccc}\n",
       "\t& hospital & hospital\\_id & date & admissions\\_icu & admissions\\_acute & admissions\\_allbeds & active\\_icu & active\\_acute & active\\_allbeds\\\\\n",
       "\t\\hline\n",
       "\t& String & String & Date & Float64? & Float64? & Float64? & Float64? & Float64? & Float64?\\\\\n",
       "\t\\hline\n",
       "\t1 & ABBEVILLE AREA MEDICAL CENTER & 421301 & 2020-07-31 & 0.471429 & 1.1 & 1.57143 & 1.71429 & 1.42857 & 3.14286 \\\\\n",
       "\t2 & ABBEVILLE AREA MEDICAL CENTER & 421301 & 2020-08-01 & 0.446939 & 1.04286 & 1.4898 & 1.59184 & 1.73469 & 3.32653 \\\\\n",
       "\t3 & ABBEVILLE AREA MEDICAL CENTER & 421301 & 2020-08-02 & 0.422449 & 0.985714 & 1.40816 & 1.46939 & 2.04082 & 3.5102 \\\\\n",
       "\t4 & ABBEVILLE AREA MEDICAL CENTER & 421301 & 2020-08-03 & 0.397959 & 0.928571 & 1.32653 & 1.34694 & 2.34694 & 3.69388 \\\\\n",
       "\t5 & ABBEVILLE AREA MEDICAL CENTER & 421301 & 2020-08-04 & 0.373469 & 0.871429 & 1.2449 & 1.22449 & 2.65306 & 3.87755 \\\\\n",
       "\\end{tabular}\n"
      ],
      "text/plain": [
       "\u001b[1m5×9 DataFrame\u001b[0m\n",
       "\u001b[1m Row \u001b[0m│\u001b[1m hospital                      \u001b[0m\u001b[1m hospital_id \u001b[0m\u001b[1m date       \u001b[0m\u001b[1m admissions_icu \u001b[0m\u001b[1m admissions_acute \u001b[0m\u001b[1m admissions_allbeds \u001b[0m\u001b[1m active_icu \u001b[0m\u001b[1m active_acute \u001b[0m\u001b[1m active_allbeds \u001b[0m\n",
       "\u001b[1m     \u001b[0m│\u001b[90m String                        \u001b[0m\u001b[90m String      \u001b[0m\u001b[90m Date       \u001b[0m\u001b[90m Float64?       \u001b[0m\u001b[90m Float64?         \u001b[0m\u001b[90m Float64?           \u001b[0m\u001b[90m Float64?   \u001b[0m\u001b[90m Float64?     \u001b[0m\u001b[90m Float64?       \u001b[0m\n",
       "─────┼────────────────────────────────────────────────────────────────────────────────────────────────────────────────────────────────────────────────────────\n",
       "   1 │ ABBEVILLE AREA MEDICAL CENTER  421301       2020-07-31        0.471429          1.1                  1.57143     1.71429       1.42857         3.14286\n",
       "   2 │ ABBEVILLE AREA MEDICAL CENTER  421301       2020-08-01        0.446939          1.04286              1.4898      1.59184       1.73469         3.32653\n",
       "   3 │ ABBEVILLE AREA MEDICAL CENTER  421301       2020-08-02        0.422449          0.985714             1.40816     1.46939       2.04082         3.5102\n",
       "   4 │ ABBEVILLE AREA MEDICAL CENTER  421301       2020-08-03        0.397959          0.928571             1.32653     1.34694       2.34694         3.69388\n",
       "   5 │ ABBEVILLE AREA MEDICAL CENTER  421301       2020-08-04        0.373469          0.871429             1.2449      1.22449       2.65306         3.87755"
      ]
     },
     "execution_count": 32,
     "metadata": {},
     "output_type": "execute_result"
    }
   ],
   "source": [
    "hhs_rawdata = DataFrame(CSV.File(\"../data/hhs_data_2021_01_24.csv\"))\n",
    "@show nrow(hhs_rawdata)\n",
    "first(hhs_rawdata, 5)"
   ]
  },
  {
   "cell_type": "code",
   "execution_count": 12,
   "metadata": {},
   "outputs": [
    {
     "name": "stdout",
     "output_type": "stream",
     "text": [
      "nrow(hospital_metadata) = 4928\n"
     ]
    },
    {
     "data": {
      "text/html": [
       "<table class=\"data-frame\"><thead><tr><th></th><th>hospital</th><th>hospitalname</th><th>hospital_id</th><th>state</th><th>state_abbrev</th><th>city</th><th>zip</th><th>fips_code</th><th>system_id</th><th>system_name</th><th>hsa_id</th><th>hsa_name</th><th>hrr_id</th><th>hrr_name</th></tr><tr><th></th><th>String</th><th>String</th><th>String</th><th>String</th><th>String</th><th>String?</th><th>Int64?</th><th>Int64?</th><th>String?</th><th>String?</th><th>Int64?</th><th>String?</th><th>Int64?</th><th>String?</th></tr></thead><tbody><p>5 rows × 14 columns</p><tr><th>1</th><td>ABBEVILLE AREA MEDICAL CENTER</td><td>Abbeville Area Medical Center</td><td>421301</td><td>South Carolina</td><td>SC</td><td>Abbeville</td><td>29620</td><td>45001</td><td><em>missing</em></td><td><em>missing</em></td><td>42001</td><td>Abbeville, SC</td><td>366</td><td>Columbia, SC</td></tr><tr><th>2</th><td>ABBEVILLE GENERAL HOSPITAL</td><td>Abbeville General Hospital</td><td>190034</td><td>Louisiana</td><td>LA</td><td>Abbeville</td><td>70510</td><td>22113</td><td>HSI00000562</td><td>Lafayette General Health</td><td>19001</td><td>Abbeville, LA</td><td>213</td><td>Lafayette, LA</td></tr><tr><th>3</th><td>ABBOTT NORTHWESTERN HOSPITAL</td><td>Abbott Northwestern Hospital</td><td>240057</td><td>Minnesota</td><td>MN</td><td>Minneapolis</td><td>55407</td><td>27053</td><td>HSI00000029</td><td>Allina Health System</td><td>24076</td><td>Minneapolis, MN</td><td>251</td><td>Minneapolis, MN</td></tr><tr><th>4</th><td>ABILENE REGIONAL MEDICAL CENTER</td><td>Abilene Regional Medical Center</td><td>450558</td><td>Texas</td><td>TX</td><td>Abilene</td><td>79606</td><td>48441</td><td>HSI00000249</td><td>Community Health Systems</td><td>45001</td><td>Abilene, TX</td><td>382</td><td>Abilene, TX</td></tr><tr><th>5</th><td>ABINGTON MEMORIAL HOSPITAL</td><td>Abington Memorial Hospital</td><td>390231</td><td>Pennsylvania</td><td>PA</td><td>Abington</td><td>19001</td><td>42091</td><td>HSI00000048</td><td>Jefferson Health</td><td>39001</td><td>Abington, PA</td><td>356</td><td>Philadelphia, PA</td></tr></tbody></table>"
      ],
      "text/latex": [
       "\\begin{tabular}{r|cccccccccccccc}\n",
       "\t& hospital & hospitalname & hospital\\_id & state & state\\_abbrev & city & zip & fips\\_code & system\\_id & system\\_name & hsa\\_id & hsa\\_name & hrr\\_id & hrr\\_name\\\\\n",
       "\t\\hline\n",
       "\t& String & String & String & String & String & String? & Int64? & Int64? & String? & String? & Int64? & String? & Int64? & String?\\\\\n",
       "\t\\hline\n",
       "\t1 & ABBEVILLE AREA MEDICAL CENTER & Abbeville Area Medical Center & 421301 & South Carolina & SC & Abbeville & 29620 & 45001 & \\emph{missing} & \\emph{missing} & 42001 & Abbeville, SC & 366 & Columbia, SC \\\\\n",
       "\t2 & ABBEVILLE GENERAL HOSPITAL & Abbeville General Hospital & 190034 & Louisiana & LA & Abbeville & 70510 & 22113 & HSI00000562 & Lafayette General Health & 19001 & Abbeville, LA & 213 & Lafayette, LA \\\\\n",
       "\t3 & ABBOTT NORTHWESTERN HOSPITAL & Abbott Northwestern Hospital & 240057 & Minnesota & MN & Minneapolis & 55407 & 27053 & HSI00000029 & Allina Health System & 24076 & Minneapolis, MN & 251 & Minneapolis, MN \\\\\n",
       "\t4 & ABILENE REGIONAL MEDICAL CENTER & Abilene Regional Medical Center & 450558 & Texas & TX & Abilene & 79606 & 48441 & HSI00000249 & Community Health Systems & 45001 & Abilene, TX & 382 & Abilene, TX \\\\\n",
       "\t5 & ABINGTON MEMORIAL HOSPITAL & Abington Memorial Hospital & 390231 & Pennsylvania & PA & Abington & 19001 & 42091 & HSI00000048 & Jefferson Health & 39001 & Abington, PA & 356 & Philadelphia, PA \\\\\n",
       "\\end{tabular}\n"
      ],
      "text/plain": [
       "\u001b[1m5×14 DataFrame\u001b[0m\n",
       "\u001b[1m Row \u001b[0m│\u001b[1m hospital                        \u001b[0m\u001b[1m hospitalname                    \u001b[0m\u001b[1m hospital_id \u001b[0m\u001b[1m state          \u001b[0m\u001b[1m state_abbrev \u001b[0m\u001b[1m city        \u001b[0m\u001b[1m zip    \u001b[0m\u001b[1m fips_code \u001b[0m\u001b[1m system_id   \u001b[0m\u001b[1m system_name              \u001b[0m\u001b[1m hsa_id \u001b[0m\u001b[1m hsa_name        \u001b[0m\u001b[1m hrr_id \u001b[0m\u001b[1m hrr_name         \u001b[0m\n",
       "\u001b[1m     \u001b[0m│\u001b[90m String                          \u001b[0m\u001b[90m String                          \u001b[0m\u001b[90m String      \u001b[0m\u001b[90m String         \u001b[0m\u001b[90m String       \u001b[0m\u001b[90m String?     \u001b[0m\u001b[90m Int64? \u001b[0m\u001b[90m Int64?    \u001b[0m\u001b[90m String?     \u001b[0m\u001b[90m String?                  \u001b[0m\u001b[90m Int64? \u001b[0m\u001b[90m String?         \u001b[0m\u001b[90m Int64? \u001b[0m\u001b[90m String?          \u001b[0m\n",
       "─────┼───────────────────────────────────────────────────────────────────────────────────────────────────────────────────────────────────────────────────────────────────────────────────────────────────────────────────────────────────────\n",
       "   1 │ ABBEVILLE AREA MEDICAL CENTER    Abbeville Area Medical Center    421301       South Carolina  SC            Abbeville     29620      45001 \u001b[90m missing     \u001b[0m\u001b[90m missing                  \u001b[0m  42001  Abbeville, SC       366  Columbia, SC\n",
       "   2 │ ABBEVILLE GENERAL HOSPITAL       Abbeville General Hospital       190034       Louisiana       LA            Abbeville     70510      22113  HSI00000562  Lafayette General Health   19001  Abbeville, LA       213  Lafayette, LA\n",
       "   3 │ ABBOTT NORTHWESTERN HOSPITAL     Abbott Northwestern Hospital     240057       Minnesota       MN            Minneapolis   55407      27053  HSI00000029  Allina Health System       24076  Minneapolis, MN     251  Minneapolis, MN\n",
       "   4 │ ABILENE REGIONAL MEDICAL CENTER  Abilene Regional Medical Center  450558       Texas           TX            Abilene       79606      48441  HSI00000249  Community Health Systems   45001  Abilene, TX         382  Abilene, TX\n",
       "   5 │ ABINGTON MEMORIAL HOSPITAL       Abington Memorial Hospital       390231       Pennsylvania    PA            Abington      19001      42091  HSI00000048  Jefferson Health           39001  Abington, PA        356  Philadelphia, PA"
      ]
     },
     "execution_count": 12,
     "metadata": {},
     "output_type": "execute_result"
    }
   ],
   "source": [
    "hospital_metadata = DataFrame(CSV.File(\"../data/hhs_hospital_meta.csv\"))\n",
    "@show nrow(hospital_metadata)\n",
    "first(hospital_metadata, 5)"
   ]
  },
  {
   "cell_type": "code",
   "execution_count": 23,
   "metadata": {},
   "outputs": [],
   "source": [
    "zipcountydata = DataFrame(CSV.File(\"../rawdata/zip_to_county.csv\"))\n",
    "zip_to_fips = Dict(row.zip => row.stcountyfp for row in eachrow(zipcountydata));"
   ]
  },
  {
   "cell_type": "code",
   "execution_count": 25,
   "metadata": {},
   "outputs": [],
   "source": [
    "hospital_metadata.fips_code = map(row -> (ismissing(row.fips_code) && !ismissing(row.zip)) ? zip_to_fips[row.zip] : row.fips_code, eachrow(hospital_metadata));"
   ]
  },
  {
   "cell_type": "code",
   "execution_count": 33,
   "metadata": {},
   "outputs": [],
   "source": [
    "hospitals_by_fips = Dict(f => String[] for f in skipmissing(unique(hospital_metadata.fips_code)));\n",
    "for h in eachrow(hospital_metadata)\n",
    "    if ismissing(h.fips_code) continue end\n",
    "    push!(hospitals_by_fips[h.fips_code], h.hospital_id)\n",
    "end"
   ]
  },
  {
   "cell_type": "code",
   "execution_count": 35,
   "metadata": {},
   "outputs": [
    {
     "data": {
      "text/plain": [
       "Dict{Int64,Array{String,1}} with 2465 entries:\n",
       "  30027 => [\"271345\"]\n",
       "  9011  => [\"070007\", \"070024\"]\n",
       "  44005 => [\"410006\"]\n",
       "  16079 => [\"131314\"]\n",
       "  5055  => [\"040039\"]\n",
       "  17179 => [\"141330\", \"140120\"]\n",
       "  22035 => [\"190208\"]\n",
       "  16059 => [\"131305\"]\n",
       "  39001 => [\"361326\"]\n",
       "  46009 => [\"431317\", \"431327\"]\n",
       "  13019 => [\"110234\"]\n",
       "  28161 => [\"250061\"]\n",
       "  13047 => [\"110236\"]\n",
       "  17131 => [\"141304\"]\n",
       "  1131  => [\"010102\"]\n",
       "  47011 => [\"440185\"]\n",
       "  19187 => [\"160016\"]\n",
       "  46089 => [\"431308\"]\n",
       "  48087 => [\"451355\"]\n",
       "  19013 => [\"160110\", \"160040\", \"160067\"]\n",
       "  13077 => [\"110229\", \"110233\"]\n",
       "  13161 => [\"111333\"]\n",
       "  29147 => [\"260050\"]\n",
       "  48303 => [\"453306\", \"45C0001441\", \"450040\", \"452102\", \"450162\", \"450876\", \"450686\"]\n",
       "  40097 => [\"370015\"]\n",
       "  ⋮     => ⋮"
      ]
     },
     "execution_count": 35,
     "metadata": {},
     "output_type": "execute_result"
    }
   ],
   "source": [
    "hospitals_by_fips"
   ]
  },
  {
   "cell_type": "code",
   "execution_count": 39,
   "metadata": {},
   "outputs": [],
   "source": [
    "hsaf = DataFrame(CSV.File(\"../rawdata/HSAF_2019.csv\"));\n",
    "rename!(hsaf,\n",
    "    :MEDICARE_PROV_NUM => :hospital_id,\n",
    "    :ZIP_CD_OF_RESIDENCE => :zipcode,\n",
    "    :TOTAL_DAYS_OF_CARE => :total_daysofcare,\n",
    "    :TOTAL_CHARGES => :total_charges,\n",
    "    :TOTAL_CASES => :total_patients,\n",
    ");"
   ]
  },
  {
   "cell_type": "code",
   "execution_count": 40,
   "metadata": {},
   "outputs": [
    {
     "data": {
      "text/html": [
       "<table class=\"data-frame\"><thead><tr><th></th><th>hospital_id</th><th>zipcode</th><th>total_daysofcare</th><th>total_charges</th><th>total_patients</th></tr><tr><th></th><th>String</th><th>Int64?</th><th>Int64</th><th>Int64?</th><th>Int64?</th></tr></thead><tbody><p>5 rows × 5 columns</p><tr><th>1</th><td>010001</td><td>1913</td><td>2</td><td><em>missing</em></td><td><em>missing</em></td></tr><tr><th>2</th><td>010001</td><td>3811</td><td>8</td><td><em>missing</em></td><td><em>missing</em></td></tr><tr><th>3</th><td>010001</td><td>7206</td><td>6</td><td><em>missing</em></td><td><em>missing</em></td></tr><tr><th>4</th><td>010001</td><td>8066</td><td>2</td><td><em>missing</em></td><td><em>missing</em></td></tr><tr><th>5</th><td>010001</td><td>8234</td><td>4</td><td><em>missing</em></td><td><em>missing</em></td></tr></tbody></table>"
      ],
      "text/latex": [
       "\\begin{tabular}{r|ccccc}\n",
       "\t& hospital\\_id & zipcode & total\\_daysofcare & total\\_charges & total\\_patients\\\\\n",
       "\t\\hline\n",
       "\t& String & Int64? & Int64 & Int64? & Int64?\\\\\n",
       "\t\\hline\n",
       "\t1 & 010001 & 1913 & 2 & \\emph{missing} & \\emph{missing} \\\\\n",
       "\t2 & 010001 & 3811 & 8 & \\emph{missing} & \\emph{missing} \\\\\n",
       "\t3 & 010001 & 7206 & 6 & \\emph{missing} & \\emph{missing} \\\\\n",
       "\t4 & 010001 & 8066 & 2 & \\emph{missing} & \\emph{missing} \\\\\n",
       "\t5 & 010001 & 8234 & 4 & \\emph{missing} & \\emph{missing} \\\\\n",
       "\\end{tabular}\n"
      ],
      "text/plain": [
       "\u001b[1m5×5 DataFrame\u001b[0m\n",
       "\u001b[1m Row \u001b[0m│\u001b[1m hospital_id \u001b[0m\u001b[1m zipcode \u001b[0m\u001b[1m total_daysofcare \u001b[0m\u001b[1m total_charges \u001b[0m\u001b[1m total_patients \u001b[0m\n",
       "\u001b[1m     \u001b[0m│\u001b[90m String      \u001b[0m\u001b[90m Int64?  \u001b[0m\u001b[90m Int64            \u001b[0m\u001b[90m Int64?        \u001b[0m\u001b[90m Int64?         \u001b[0m\n",
       "─────┼───────────────────────────────────────────────────────────────────────\n",
       "   1 │ 010001          1913                 2 \u001b[90m       missing \u001b[0m\u001b[90m        missing \u001b[0m\n",
       "   2 │ 010001          3811                 8 \u001b[90m       missing \u001b[0m\u001b[90m        missing \u001b[0m\n",
       "   3 │ 010001          7206                 6 \u001b[90m       missing \u001b[0m\u001b[90m        missing \u001b[0m\n",
       "   4 │ 010001          8066                 2 \u001b[90m       missing \u001b[0m\u001b[90m        missing \u001b[0m\n",
       "   5 │ 010001          8234                 4 \u001b[90m       missing \u001b[0m\u001b[90m        missing \u001b[0m"
      ]
     },
     "execution_count": 40,
     "metadata": {},
     "output_type": "execute_result"
    }
   ],
   "source": [
    "first(hsaf, 5)"
   ]
  },
  {
   "cell_type": "code",
   "execution_count": 43,
   "metadata": {},
   "outputs": [],
   "source": [
    "hsaf_hospitalids = sort(unique(hsaf.hospital_id));\n",
    "hhs_hospitalids = sort(unique(hospital_metadata.hospital_id));"
   ]
  },
  {
   "cell_type": "code",
   "execution_count": 44,
   "metadata": {},
   "outputs": [
    {
     "data": {
      "text/plain": [
       "1175-element Array{String,1}:\n",
       " \"010018\"\n",
       " \"010032\"\n",
       " \"010047\"\n",
       " \"010109\"\n",
       " \"013025\"\n",
       " \"013028\"\n",
       " \"013029\"\n",
       " \"013030\"\n",
       " \"013031\"\n",
       " \"013032\"\n",
       " \"013033\"\n",
       " \"014000\"\n",
       " \"014006\"\n",
       " ⋮\n",
       " \"673064\"\n",
       " \"673065\"\n",
       " \"673066\"\n",
       " \"673067\"\n",
       " \"673068\"\n",
       " \"673069\"\n",
       " \"673070\"\n",
       " \"673071\"\n",
       " \"673072\"\n",
       " \"673073\"\n",
       " \"673074\"\n",
       " \"713025\""
      ]
     },
     "execution_count": 44,
     "metadata": {},
     "output_type": "execute_result"
    }
   ],
   "source": [
    "setdiff(hsaf_hospitalids, hhs_hospitalids)"
   ]
  },
  {
   "cell_type": "code",
   "execution_count": null,
   "metadata": {},
   "outputs": [],
   "source": []
  }
 ],
 "metadata": {
  "kernelspec": {
   "display_name": "Julia 1.5.3",
   "language": "julia",
   "name": "julia-1.5"
  },
  "language_info": {
   "file_extension": ".jl",
   "mimetype": "application/julia",
   "name": "julia",
   "version": "1.5.3"
  }
 },
 "nbformat": 4,
 "nbformat_minor": 4
}
