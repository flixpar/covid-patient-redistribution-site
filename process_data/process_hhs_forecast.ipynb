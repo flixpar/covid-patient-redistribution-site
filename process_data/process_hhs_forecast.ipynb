{
 "cells": [
  {
   "cell_type": "code",
   "execution_count": 1,
   "metadata": {},
   "outputs": [],
   "source": [
    "using CSV\n",
    "using DataFrames\n",
    "using Dates"
   ]
  },
  {
   "cell_type": "code",
   "execution_count": 2,
   "metadata": {},
   "outputs": [],
   "source": [
    "ENV[\"COLUMNS\"] = 1000;"
   ]
  },
  {
   "cell_type": "code",
   "execution_count": 3,
   "metadata": {},
   "outputs": [
    {
     "data": {
      "text/html": [
       "<table class=\"data-frame\"><thead><tr><th></th><th>Column1</th><th>hospital_name</th><th>collection_week</th><th>fips_code</th><th>hospitalization_percentage</th><th>hospitalization</th><th>target_date</th></tr><tr><th></th><th>Int64</th><th>String</th><th>String</th><th>Int64</th><th>Float64?</th><th>Float64?</th><th>String</th></tr></thead><tbody><p>125,112 rows × 7 columns</p><tr><th>1</th><td>10</td><td>PRATTVILLE BAPTIST HOSPITAL</td><td>12/4/2020</td><td>1001</td><td>1.0</td><td>2.89626</td><td>12/15/2020</td></tr><tr><th>2</th><td>11</td><td>SOUTH BALDWIN REGIONAL MEDICAL CENTER</td><td>12/4/2020</td><td>1003</td><td>0.36965</td><td>3.69112</td><td>12/15/2020</td></tr><tr><th>3</th><td>12</td><td>THOMAS HOSPITAL</td><td>12/4/2020</td><td>1003</td><td>0.552529</td><td>5.51725</td><td>12/15/2020</td></tr><tr><th>4</th><td>13</td><td>NORTH BALDWIN INFIRMARY</td><td>12/4/2020</td><td>1003</td><td>0.077821</td><td>0.777078</td><td>12/15/2020</td></tr><tr><th>5</th><td>14</td><td>MEDICAL CENTER BARBOUR</td><td>12/4/2020</td><td>1005</td><td>1.0</td><td>0.565098</td><td>12/15/2020</td></tr><tr><th>6</th><td>15</td><td>BIBB MEDICAL CENTER</td><td>12/4/2020</td><td>1007</td><td>1.0</td><td>1.14839</td><td>12/15/2020</td></tr><tr><th>7</th><td>16</td><td>ST VINCENTS BLOUNT</td><td>12/4/2020</td><td>1009</td><td>1.0</td><td>4.16832</td><td>12/15/2020</td></tr><tr><th>8</th><td>17</td><td>BULLOCK COUNTY HOSPITAL</td><td>12/4/2020</td><td>1011</td><td>1.0</td><td>0.195106</td><td>12/15/2020</td></tr><tr><th>9</th><td>18</td><td>REGIONAL MEDICAL CENTER OF CENTRAL ALABAMA</td><td>12/4/2020</td><td>1013</td><td>1.0</td><td>0.760204</td><td>12/15/2020</td></tr><tr><th>10</th><td>19</td><td>STRINGFELLOW MEMORIAL HOSPITAL</td><td>12/4/2020</td><td>1015</td><td>0.0386847</td><td>0.285544</td><td>12/15/2020</td></tr><tr><th>11</th><td>20</td><td>NOLAND HOSPITAL ANNISTON II, LLC</td><td>12/4/2020</td><td>1015</td><td>0.0386847</td><td>0.285544</td><td>12/15/2020</td></tr><tr><th>12</th><td>21</td><td>NORTHEAST ALABAMA REGIONAL MEDICAL CENTER</td><td>12/4/2020</td><td>1015</td><td>0.922631</td><td>6.81024</td><td>12/15/2020</td></tr><tr><th>13</th><td>22</td><td>FLOYD CHEROKEE MEDICAL CENTER</td><td>12/4/2020</td><td>1019</td><td>1.0</td><td>0.973506</td><td>12/15/2020</td></tr><tr><th>14</th><td>23</td><td>ST VINCENT'S CHILTON</td><td>12/4/2020</td><td>1021</td><td>1.0</td><td>1.61914</td><td>12/15/2020</td></tr><tr><th>15</th><td>24</td><td>CHOCTAW GENERAL HOSPITAL</td><td>12/4/2020</td><td>1023</td><td>1.0</td><td>0.209258</td><td>12/15/2020</td></tr><tr><th>16</th><td>25</td><td>THOMASVILLE REGIONAL MEDICAL CENTER</td><td>12/4/2020</td><td>1025</td><td>0.333333</td><td>0.499389</td><td>12/15/2020</td></tr><tr><th>17</th><td>26</td><td>GROVE HILL MEMORIAL HOSPITAL</td><td>12/4/2020</td><td>1025</td><td>0.333333</td><td>0.499389</td><td>12/15/2020</td></tr><tr><th>18</th><td>27</td><td>JACKSON MEDICAL CENTER</td><td>12/4/2020</td><td>1025</td><td>0.333333</td><td>0.499389</td><td>12/15/2020</td></tr><tr><th>19</th><td>28</td><td>CLAY COUNTY HOSPITAL</td><td>12/4/2020</td><td>1027</td><td>1.0</td><td>0.509498</td><td>12/15/2020</td></tr><tr><th>20</th><td>29</td><td>MEDICAL CENTER ENTERPRISE</td><td>12/4/2020</td><td>1031</td><td>1.0</td><td>2.42281</td><td>12/15/2020</td></tr><tr><th>21</th><td>30</td><td>HELEN KELLER MEMORIAL HOSPITAL</td><td>12/4/2020</td><td>1033</td><td>0.822816</td><td>2.45171</td><td>12/15/2020</td></tr><tr><th>22</th><td>31</td><td>SHOALS HOSPITAL</td><td>12/4/2020</td><td>1033</td><td>0.177184</td><td>0.527949</td><td>12/15/2020</td></tr><tr><th>23</th><td>32</td><td>EVERGREEN MEDICAL CENTER</td><td>12/4/2020</td><td>1035</td><td>1.0</td><td>0.475127</td><td>12/15/2020</td></tr><tr><th>24</th><td>33</td><td>ANDALUSIA HEALTH</td><td>12/4/2020</td><td>1039</td><td>0.298507</td><td>0.426242</td><td>12/15/2020</td></tr><tr><th>25</th><td>34</td><td>MIZELL MEMORIAL HOSPITAL</td><td>12/4/2020</td><td>1039</td><td>0.701493</td><td>1.00167</td><td>12/15/2020</td></tr><tr><th>26</th><td>35</td><td>CRENSHAW COMMUNITY HOSPITAL</td><td>12/4/2020</td><td>1041</td><td>1.0</td><td>0.3336</td><td>12/15/2020</td></tr><tr><th>27</th><td>36</td><td>CULLMAN REGIONAL MEDICAL CENTER</td><td>12/4/2020</td><td>1043</td><td>1.0</td><td>6.33503</td><td>12/15/2020</td></tr><tr><th>28</th><td>37</td><td>DALE MEDICAL CENTER</td><td>12/4/2020</td><td>1045</td><td>1.0</td><td>2.18272</td><td>12/15/2020</td></tr><tr><th>29</th><td>38</td><td>VAUGHAN REGIONAL MEDICAL CENTER PARKWAY CAMPUS</td><td>12/4/2020</td><td>1047</td><td>1.0</td><td>1.02523</td><td>12/15/2020</td></tr><tr><th>30</th><td>39</td><td>DEKALB REGIONAL MEDICAL CENTER</td><td>12/4/2020</td><td>1049</td><td>1.0</td><td>4.6982</td><td>12/15/2020</td></tr><tr><th>&vellip;</th><td>&vellip;</td><td>&vellip;</td><td>&vellip;</td><td>&vellip;</td><td>&vellip;</td><td>&vellip;</td><td>&vellip;</td></tr></tbody></table>"
      ],
      "text/latex": [
       "\\begin{tabular}{r|ccccccc}\n",
       "\t& Column1 & hospital\\_name & collection\\_week & fips\\_code & hospitalization\\_percentage & hospitalization & target\\_date\\\\\n",
       "\t\\hline\n",
       "\t& Int64 & String & String & Int64 & Float64? & Float64? & String\\\\\n",
       "\t\\hline\n",
       "\t1 & 10 & PRATTVILLE BAPTIST HOSPITAL & 12/4/2020 & 1001 & 1.0 & 2.89626 & 12/15/2020 \\\\\n",
       "\t2 & 11 & SOUTH BALDWIN REGIONAL MEDICAL CENTER & 12/4/2020 & 1003 & 0.36965 & 3.69112 & 12/15/2020 \\\\\n",
       "\t3 & 12 & THOMAS HOSPITAL & 12/4/2020 & 1003 & 0.552529 & 5.51725 & 12/15/2020 \\\\\n",
       "\t4 & 13 & NORTH BALDWIN INFIRMARY & 12/4/2020 & 1003 & 0.077821 & 0.777078 & 12/15/2020 \\\\\n",
       "\t5 & 14 & MEDICAL CENTER BARBOUR & 12/4/2020 & 1005 & 1.0 & 0.565098 & 12/15/2020 \\\\\n",
       "\t6 & 15 & BIBB MEDICAL CENTER & 12/4/2020 & 1007 & 1.0 & 1.14839 & 12/15/2020 \\\\\n",
       "\t7 & 16 & ST VINCENTS BLOUNT & 12/4/2020 & 1009 & 1.0 & 4.16832 & 12/15/2020 \\\\\n",
       "\t8 & 17 & BULLOCK COUNTY HOSPITAL & 12/4/2020 & 1011 & 1.0 & 0.195106 & 12/15/2020 \\\\\n",
       "\t9 & 18 & REGIONAL MEDICAL CENTER OF CENTRAL ALABAMA & 12/4/2020 & 1013 & 1.0 & 0.760204 & 12/15/2020 \\\\\n",
       "\t10 & 19 & STRINGFELLOW MEMORIAL HOSPITAL & 12/4/2020 & 1015 & 0.0386847 & 0.285544 & 12/15/2020 \\\\\n",
       "\t11 & 20 & NOLAND HOSPITAL ANNISTON II, LLC & 12/4/2020 & 1015 & 0.0386847 & 0.285544 & 12/15/2020 \\\\\n",
       "\t12 & 21 & NORTHEAST ALABAMA REGIONAL MEDICAL CENTER & 12/4/2020 & 1015 & 0.922631 & 6.81024 & 12/15/2020 \\\\\n",
       "\t13 & 22 & FLOYD CHEROKEE MEDICAL CENTER & 12/4/2020 & 1019 & 1.0 & 0.973506 & 12/15/2020 \\\\\n",
       "\t14 & 23 & ST VINCENT'S CHILTON & 12/4/2020 & 1021 & 1.0 & 1.61914 & 12/15/2020 \\\\\n",
       "\t15 & 24 & CHOCTAW GENERAL HOSPITAL & 12/4/2020 & 1023 & 1.0 & 0.209258 & 12/15/2020 \\\\\n",
       "\t16 & 25 & THOMASVILLE REGIONAL MEDICAL CENTER & 12/4/2020 & 1025 & 0.333333 & 0.499389 & 12/15/2020 \\\\\n",
       "\t17 & 26 & GROVE HILL MEMORIAL HOSPITAL & 12/4/2020 & 1025 & 0.333333 & 0.499389 & 12/15/2020 \\\\\n",
       "\t18 & 27 & JACKSON MEDICAL CENTER & 12/4/2020 & 1025 & 0.333333 & 0.499389 & 12/15/2020 \\\\\n",
       "\t19 & 28 & CLAY COUNTY HOSPITAL & 12/4/2020 & 1027 & 1.0 & 0.509498 & 12/15/2020 \\\\\n",
       "\t20 & 29 & MEDICAL CENTER ENTERPRISE & 12/4/2020 & 1031 & 1.0 & 2.42281 & 12/15/2020 \\\\\n",
       "\t21 & 30 & HELEN KELLER MEMORIAL HOSPITAL & 12/4/2020 & 1033 & 0.822816 & 2.45171 & 12/15/2020 \\\\\n",
       "\t22 & 31 & SHOALS HOSPITAL & 12/4/2020 & 1033 & 0.177184 & 0.527949 & 12/15/2020 \\\\\n",
       "\t23 & 32 & EVERGREEN MEDICAL CENTER & 12/4/2020 & 1035 & 1.0 & 0.475127 & 12/15/2020 \\\\\n",
       "\t24 & 33 & ANDALUSIA HEALTH & 12/4/2020 & 1039 & 0.298507 & 0.426242 & 12/15/2020 \\\\\n",
       "\t25 & 34 & MIZELL MEMORIAL HOSPITAL & 12/4/2020 & 1039 & 0.701493 & 1.00167 & 12/15/2020 \\\\\n",
       "\t26 & 35 & CRENSHAW COMMUNITY HOSPITAL & 12/4/2020 & 1041 & 1.0 & 0.3336 & 12/15/2020 \\\\\n",
       "\t27 & 36 & CULLMAN REGIONAL MEDICAL CENTER & 12/4/2020 & 1043 & 1.0 & 6.33503 & 12/15/2020 \\\\\n",
       "\t28 & 37 & DALE MEDICAL CENTER & 12/4/2020 & 1045 & 1.0 & 2.18272 & 12/15/2020 \\\\\n",
       "\t29 & 38 & VAUGHAN REGIONAL MEDICAL CENTER PARKWAY CAMPUS & 12/4/2020 & 1047 & 1.0 & 1.02523 & 12/15/2020 \\\\\n",
       "\t30 & 39 & DEKALB REGIONAL MEDICAL CENTER & 12/4/2020 & 1049 & 1.0 & 4.6982 & 12/15/2020 \\\\\n",
       "\t$\\dots$ & $\\dots$ & $\\dots$ & $\\dots$ & $\\dots$ & $\\dots$ & $\\dots$ & $\\dots$ \\\\\n",
       "\\end{tabular}\n"
      ],
      "text/plain": [
       "125112×7 DataFrame\n",
       "│ Row    │ Column1 │ hospital_name                              │ collection_week │ fips_code │ hospitalization_percentage │ hospitalization │ target_date │\n",
       "│        │ \u001b[90mInt64\u001b[39m   │ \u001b[90mString\u001b[39m                                     │ \u001b[90mString\u001b[39m          │ \u001b[90mInt64\u001b[39m     │ \u001b[90mUnion{Missing, Float64}\u001b[39m    │ \u001b[90mFloat64?\u001b[39m        │ \u001b[90mString\u001b[39m      │\n",
       "├────────┼─────────┼────────────────────────────────────────────┼─────────────────┼───────────┼────────────────────────────┼─────────────────┼─────────────┤\n",
       "│ 1      │ 10      │ PRATTVILLE BAPTIST HOSPITAL                │ 12/4/2020       │ 1001      │ 1.0                        │ 2.89626         │ 12/15/2020  │\n",
       "│ 2      │ 11      │ SOUTH BALDWIN REGIONAL MEDICAL CENTER      │ 12/4/2020       │ 1003      │ 0.36965                    │ 3.69112         │ 12/15/2020  │\n",
       "│ 3      │ 12      │ THOMAS HOSPITAL                            │ 12/4/2020       │ 1003      │ 0.552529                   │ 5.51725         │ 12/15/2020  │\n",
       "│ 4      │ 13      │ NORTH BALDWIN INFIRMARY                    │ 12/4/2020       │ 1003      │ 0.077821                   │ 0.777078        │ 12/15/2020  │\n",
       "│ 5      │ 14      │ MEDICAL CENTER BARBOUR                     │ 12/4/2020       │ 1005      │ 1.0                        │ 0.565098        │ 12/15/2020  │\n",
       "│ 6      │ 15      │ BIBB MEDICAL CENTER                        │ 12/4/2020       │ 1007      │ 1.0                        │ 1.14839         │ 12/15/2020  │\n",
       "│ 7      │ 16      │ ST VINCENTS BLOUNT                         │ 12/4/2020       │ 1009      │ 1.0                        │ 4.16832         │ 12/15/2020  │\n",
       "│ 8      │ 17      │ BULLOCK COUNTY HOSPITAL                    │ 12/4/2020       │ 1011      │ 1.0                        │ 0.195106        │ 12/15/2020  │\n",
       "│ 9      │ 18      │ REGIONAL MEDICAL CENTER OF CENTRAL ALABAMA │ 12/4/2020       │ 1013      │ 1.0                        │ 0.760204        │ 12/15/2020  │\n",
       "│ 10     │ 19      │ STRINGFELLOW MEMORIAL HOSPITAL             │ 12/4/2020       │ 1015      │ 0.0386847                  │ 0.285544        │ 12/15/2020  │\n",
       "⋮\n",
       "│ 125102 │ 4827    │ WYOMING MEDICAL CENTER                     │ 12/4/2020       │ 56025     │ 0.954955                   │ 2.84129         │ 1/9/2021    │\n",
       "│ 125103 │ 4828    │ NIOBRARA HEALTH & LIFE CENTER              │ 12/4/2020       │ 56027     │ 1.0                        │ 0.0543712       │ 1/9/2021    │\n",
       "│ 125104 │ 4829    │ CODY REGIONAL HEALTH                       │ 12/4/2020       │ 56029     │ 0.602941                   │ 0.641993        │ 1/9/2021    │\n",
       "│ 125105 │ 4830    │ POWELL VALLEY HOSPITAL                     │ 12/4/2020       │ 56029     │ 0.397059                   │ 0.422776        │ 1/9/2021    │\n",
       "│ 125106 │ 4831    │ PLATTE COUNTY MEMORIAL HOSPITAL            │ 12/4/2020       │ 56031     │ 1.0                        │ 0.191054        │ 1/9/2021    │\n",
       "│ 125107 │ 4832    │ SHERIDAN MEMORIAL HOSPITAL                 │ 12/4/2020       │ 56033     │ 1.0                        │ 0.80487         │ 1/9/2021    │\n",
       "│ 125108 │ 4833    │ MEMORIAL HOSPITAL SWEETWATER COUNTY        │ 12/4/2020       │ 56037     │ 1.0                        │ 1.77524         │ 1/9/2021    │\n",
       "│ 125109 │ 4834    │ ST JOHNS MEDICAL CENTER                    │ 12/4/2020       │ 56039     │ 1.0                        │ 0.604124        │ 1/9/2021    │\n",
       "│ 125110 │ 4835    │ EVANSTON REGIONAL HOSPITAL                 │ 12/4/2020       │ 56041     │ 1.0                        │ 0.558815        │ 1/9/2021    │\n",
       "│ 125111 │ 4836    │ WASHAKIE MEDICAL CENTER                    │ 12/4/2020       │ 56043     │ 1.0                        │ 0.389325        │ 1/9/2021    │\n",
       "│ 125112 │ 4837    │ WESTON COUNTY HEALTH SERVICES              │ 12/4/2020       │ 56045     │ 1.0                        │ 0.101526        │ 1/9/2021    │"
      ]
     },
     "execution_count": 3,
     "metadata": {},
     "output_type": "execute_result"
    }
   ],
   "source": [
    "rawdata = DataFrame(CSV.File(\"../rawdata/output_HHS_US_2021-01-09_one_column.csv\"))"
   ]
  },
  {
   "cell_type": "code",
   "execution_count": 4,
   "metadata": {},
   "outputs": [
    {
     "data": {
      "text/html": [
       "<table class=\"data-frame\"><thead><tr><th></th><th>hospital</th><th>date</th><th>admitted_moderate_icu</th><th>admitted_moderate_acute</th><th>admitted_moderate_allbeds</th></tr><tr><th></th><th>String</th><th>Date</th><th>Float64?</th><th>Float64?</th><th>Float64?</th></tr></thead><tbody><p>125,112 rows × 5 columns</p><tr><th>1</th><td>Prattville Baptist Hospital</td><td>2020-12-15</td><td>0.868877</td><td>2.02738</td><td>2.89626</td></tr><tr><th>2</th><td>South Baldwin Regional Medical Center</td><td>2020-12-15</td><td>1.10734</td><td>2.58378</td><td>3.69112</td></tr><tr><th>3</th><td>Thomas Hospital</td><td>2020-12-15</td><td>1.65518</td><td>3.86208</td><td>5.51725</td></tr><tr><th>4</th><td>North Baldwin Infirmary</td><td>2020-12-15</td><td>0.233123</td><td>0.543955</td><td>0.777078</td></tr><tr><th>5</th><td>Medical Center Barbour</td><td>2020-12-15</td><td>0.16953</td><td>0.395569</td><td>0.565098</td></tr><tr><th>6</th><td>Bibb Medical Center</td><td>2020-12-15</td><td>0.344518</td><td>0.803875</td><td>1.14839</td></tr><tr><th>7</th><td>St Vincents Blount</td><td>2020-12-15</td><td>1.2505</td><td>2.91782</td><td>4.16832</td></tr><tr><th>8</th><td>Bullock County Hospital</td><td>2020-12-15</td><td>0.0585317</td><td>0.136574</td><td>0.195106</td></tr><tr><th>9</th><td>Regional Medical Center Of Central Alabama</td><td>2020-12-15</td><td>0.228061</td><td>0.532143</td><td>0.760204</td></tr><tr><th>10</th><td>Stringfellow Memorial Hospital</td><td>2020-12-15</td><td>0.0856633</td><td>0.199881</td><td>0.285544</td></tr><tr><th>11</th><td>Noland Hospital Anniston Ii, Llc</td><td>2020-12-15</td><td>0.0856633</td><td>0.199881</td><td>0.285544</td></tr><tr><th>12</th><td>Northeast Alabama Regional Medical Center</td><td>2020-12-15</td><td>2.04307</td><td>4.76716</td><td>6.81024</td></tr><tr><th>13</th><td>Floyd Cherokee Medical Center</td><td>2020-12-15</td><td>0.292052</td><td>0.681454</td><td>0.973506</td></tr><tr><th>14</th><td>St Vincent'S Chilton</td><td>2020-12-15</td><td>0.485742</td><td>1.1334</td><td>1.61914</td></tr><tr><th>15</th><td>Choctaw General Hospital</td><td>2020-12-15</td><td>0.0627775</td><td>0.146481</td><td>0.209258</td></tr><tr><th>16</th><td>Thomasville Regional Medical Center</td><td>2020-12-15</td><td>0.149817</td><td>0.349573</td><td>0.499389</td></tr><tr><th>17</th><td>Grove Hill Memorial Hospital</td><td>2020-12-15</td><td>0.149817</td><td>0.349573</td><td>0.499389</td></tr><tr><th>18</th><td>Jackson Medical Center</td><td>2020-12-15</td><td>0.149817</td><td>0.349573</td><td>0.499389</td></tr><tr><th>19</th><td>Clay County Hospital</td><td>2020-12-15</td><td>0.15285</td><td>0.356649</td><td>0.509498</td></tr><tr><th>20</th><td>Medical Center Enterprise</td><td>2020-12-15</td><td>0.726844</td><td>1.69597</td><td>2.42281</td></tr><tr><th>21</th><td>Helen Keller Memorial Hospital</td><td>2020-12-15</td><td>0.735512</td><td>1.71619</td><td>2.45171</td></tr><tr><th>22</th><td>Shoals Hospital</td><td>2020-12-15</td><td>0.158385</td><td>0.369564</td><td>0.527949</td></tr><tr><th>23</th><td>Evergreen Medical Center</td><td>2020-12-15</td><td>0.142538</td><td>0.332589</td><td>0.475127</td></tr><tr><th>24</th><td>Andalusia Health</td><td>2020-12-15</td><td>0.127873</td><td>0.298369</td><td>0.426242</td></tr><tr><th>25</th><td>Mizell Memorial Hospital</td><td>2020-12-15</td><td>0.3005</td><td>0.701168</td><td>1.00167</td></tr><tr><th>26</th><td>Crenshaw Community Hospital</td><td>2020-12-15</td><td>0.10008</td><td>0.23352</td><td>0.3336</td></tr><tr><th>27</th><td>Cullman Regional Medical Center</td><td>2020-12-15</td><td>1.90051</td><td>4.43452</td><td>6.33503</td></tr><tr><th>28</th><td>Dale Medical Center</td><td>2020-12-15</td><td>0.654817</td><td>1.52791</td><td>2.18272</td></tr><tr><th>29</th><td>Vaughan Regional Medical Center Parkway Campus</td><td>2020-12-15</td><td>0.307569</td><td>0.717662</td><td>1.02523</td></tr><tr><th>30</th><td>Dekalb Regional Medical Center</td><td>2020-12-15</td><td>1.40946</td><td>3.28874</td><td>4.6982</td></tr><tr><th>&vellip;</th><td>&vellip;</td><td>&vellip;</td><td>&vellip;</td><td>&vellip;</td><td>&vellip;</td></tr></tbody></table>"
      ],
      "text/latex": [
       "\\begin{tabular}{r|ccccc}\n",
       "\t& hospital & date & admitted\\_moderate\\_icu & admitted\\_moderate\\_acute & admitted\\_moderate\\_allbeds\\\\\n",
       "\t\\hline\n",
       "\t& String & Date & Float64? & Float64? & Float64?\\\\\n",
       "\t\\hline\n",
       "\t1 & Prattville Baptist Hospital & 2020-12-15 & 0.868877 & 2.02738 & 2.89626 \\\\\n",
       "\t2 & South Baldwin Regional Medical Center & 2020-12-15 & 1.10734 & 2.58378 & 3.69112 \\\\\n",
       "\t3 & Thomas Hospital & 2020-12-15 & 1.65518 & 3.86208 & 5.51725 \\\\\n",
       "\t4 & North Baldwin Infirmary & 2020-12-15 & 0.233123 & 0.543955 & 0.777078 \\\\\n",
       "\t5 & Medical Center Barbour & 2020-12-15 & 0.16953 & 0.395569 & 0.565098 \\\\\n",
       "\t6 & Bibb Medical Center & 2020-12-15 & 0.344518 & 0.803875 & 1.14839 \\\\\n",
       "\t7 & St Vincents Blount & 2020-12-15 & 1.2505 & 2.91782 & 4.16832 \\\\\n",
       "\t8 & Bullock County Hospital & 2020-12-15 & 0.0585317 & 0.136574 & 0.195106 \\\\\n",
       "\t9 & Regional Medical Center Of Central Alabama & 2020-12-15 & 0.228061 & 0.532143 & 0.760204 \\\\\n",
       "\t10 & Stringfellow Memorial Hospital & 2020-12-15 & 0.0856633 & 0.199881 & 0.285544 \\\\\n",
       "\t11 & Noland Hospital Anniston Ii, Llc & 2020-12-15 & 0.0856633 & 0.199881 & 0.285544 \\\\\n",
       "\t12 & Northeast Alabama Regional Medical Center & 2020-12-15 & 2.04307 & 4.76716 & 6.81024 \\\\\n",
       "\t13 & Floyd Cherokee Medical Center & 2020-12-15 & 0.292052 & 0.681454 & 0.973506 \\\\\n",
       "\t14 & St Vincent'S Chilton & 2020-12-15 & 0.485742 & 1.1334 & 1.61914 \\\\\n",
       "\t15 & Choctaw General Hospital & 2020-12-15 & 0.0627775 & 0.146481 & 0.209258 \\\\\n",
       "\t16 & Thomasville Regional Medical Center & 2020-12-15 & 0.149817 & 0.349573 & 0.499389 \\\\\n",
       "\t17 & Grove Hill Memorial Hospital & 2020-12-15 & 0.149817 & 0.349573 & 0.499389 \\\\\n",
       "\t18 & Jackson Medical Center & 2020-12-15 & 0.149817 & 0.349573 & 0.499389 \\\\\n",
       "\t19 & Clay County Hospital & 2020-12-15 & 0.15285 & 0.356649 & 0.509498 \\\\\n",
       "\t20 & Medical Center Enterprise & 2020-12-15 & 0.726844 & 1.69597 & 2.42281 \\\\\n",
       "\t21 & Helen Keller Memorial Hospital & 2020-12-15 & 0.735512 & 1.71619 & 2.45171 \\\\\n",
       "\t22 & Shoals Hospital & 2020-12-15 & 0.158385 & 0.369564 & 0.527949 \\\\\n",
       "\t23 & Evergreen Medical Center & 2020-12-15 & 0.142538 & 0.332589 & 0.475127 \\\\\n",
       "\t24 & Andalusia Health & 2020-12-15 & 0.127873 & 0.298369 & 0.426242 \\\\\n",
       "\t25 & Mizell Memorial Hospital & 2020-12-15 & 0.3005 & 0.701168 & 1.00167 \\\\\n",
       "\t26 & Crenshaw Community Hospital & 2020-12-15 & 0.10008 & 0.23352 & 0.3336 \\\\\n",
       "\t27 & Cullman Regional Medical Center & 2020-12-15 & 1.90051 & 4.43452 & 6.33503 \\\\\n",
       "\t28 & Dale Medical Center & 2020-12-15 & 0.654817 & 1.52791 & 2.18272 \\\\\n",
       "\t29 & Vaughan Regional Medical Center Parkway Campus & 2020-12-15 & 0.307569 & 0.717662 & 1.02523 \\\\\n",
       "\t30 & Dekalb Regional Medical Center & 2020-12-15 & 1.40946 & 3.28874 & 4.6982 \\\\\n",
       "\t$\\dots$ & $\\dots$ & $\\dots$ & $\\dots$ & $\\dots$ & $\\dots$ \\\\\n",
       "\\end{tabular}\n"
      ],
      "text/plain": [
       "125112×5 DataFrame\n",
       "│ Row    │ hospital                                   │ date       │ admitted_moderate_icu │ admitted_moderate_acute │ admitted_moderate_allbeds │\n",
       "│        │ \u001b[90mString\u001b[39m                                     │ \u001b[90mDate\u001b[39m       │ \u001b[90mFloat64?\u001b[39m              │ \u001b[90mUnion{Missing, Float64}\u001b[39m │ \u001b[90mUnion{Missing, Float64}\u001b[39m   │\n",
       "├────────┼────────────────────────────────────────────┼────────────┼───────────────────────┼─────────────────────────┼───────────────────────────┤\n",
       "│ 1      │ Prattville Baptist Hospital                │ 2020-12-15 │ 0.868877              │ 2.02738                 │ 2.89626                   │\n",
       "│ 2      │ South Baldwin Regional Medical Center      │ 2020-12-15 │ 1.10734               │ 2.58378                 │ 3.69112                   │\n",
       "│ 3      │ Thomas Hospital                            │ 2020-12-15 │ 1.65518               │ 3.86208                 │ 5.51725                   │\n",
       "│ 4      │ North Baldwin Infirmary                    │ 2020-12-15 │ 0.233123              │ 0.543955                │ 0.777078                  │\n",
       "│ 5      │ Medical Center Barbour                     │ 2020-12-15 │ 0.16953               │ 0.395569                │ 0.565098                  │\n",
       "│ 6      │ Bibb Medical Center                        │ 2020-12-15 │ 0.344518              │ 0.803875                │ 1.14839                   │\n",
       "│ 7      │ St Vincents Blount                         │ 2020-12-15 │ 1.2505                │ 2.91782                 │ 4.16832                   │\n",
       "│ 8      │ Bullock County Hospital                    │ 2020-12-15 │ 0.0585317             │ 0.136574                │ 0.195106                  │\n",
       "│ 9      │ Regional Medical Center Of Central Alabama │ 2020-12-15 │ 0.228061              │ 0.532143                │ 0.760204                  │\n",
       "│ 10     │ Stringfellow Memorial Hospital             │ 2020-12-15 │ 0.0856633             │ 0.199881                │ 0.285544                  │\n",
       "⋮\n",
       "│ 125102 │ Wyoming Medical Center                     │ 2021-01-09 │ 0.852387              │ 1.9889                  │ 2.84129                   │\n",
       "│ 125103 │ Niobrara Health & Life Center              │ 2021-01-09 │ 0.0163114             │ 0.0380598               │ 0.0543712                 │\n",
       "│ 125104 │ Cody Regional Health                       │ 2021-01-09 │ 0.192598              │ 0.449395                │ 0.641993                  │\n",
       "│ 125105 │ Powell Valley Hospital                     │ 2021-01-09 │ 0.126833              │ 0.295943                │ 0.422776                  │\n",
       "│ 125106 │ Platte County Memorial Hospital            │ 2021-01-09 │ 0.0573163             │ 0.133738                │ 0.191054                  │\n",
       "│ 125107 │ Sheridan Memorial Hospital                 │ 2021-01-09 │ 0.241461              │ 0.563409                │ 0.80487                   │\n",
       "│ 125108 │ Memorial Hospital Sweetwater County        │ 2021-01-09 │ 0.532573              │ 1.24267                 │ 1.77524                   │\n",
       "│ 125109 │ St Johns Medical Center                    │ 2021-01-09 │ 0.181237              │ 0.422887                │ 0.604124                  │\n",
       "│ 125110 │ Evanston Regional Hospital                 │ 2021-01-09 │ 0.167644              │ 0.39117                 │ 0.558815                  │\n",
       "│ 125111 │ Washakie Medical Center                    │ 2021-01-09 │ 0.116797              │ 0.272527                │ 0.389325                  │\n",
       "│ 125112 │ Weston County Health Services              │ 2021-01-09 │ 0.0304579             │ 0.0710685               │ 0.101526                  │"
      ]
     },
     "execution_count": 4,
     "metadata": {},
     "output_type": "execute_result"
    }
   ],
   "source": [
    "data = select(rawdata,\n",
    "    :hospital_name => ByRow(titlecase) => :hospital,\n",
    "    :target_date => ByRow(x -> Date(x, dateformat\"mm/dd/yy\")) => :date,\n",
    "    :hospitalization => ByRow(x -> x*0.3) => :admitted_moderate_icu,\n",
    "    :hospitalization => ByRow(x -> x*0.7) => :admitted_moderate_acute,\n",
    "    :hospitalization => :admitted_moderate_allbeds,\n",
    ")"
   ]
  },
  {
   "cell_type": "code",
   "execution_count": 5,
   "metadata": {},
   "outputs": [
    {
     "data": {
      "text/plain": [
       "\"../data/hhs_forecast_2020_12_24.csv\""
      ]
     },
     "execution_count": 5,
     "metadata": {},
     "output_type": "execute_result"
    }
   ],
   "source": [
    "data |> CSV.write(\"../data/hhs_forecast_2020_12_24.csv\")"
   ]
  },
  {
   "cell_type": "code",
   "execution_count": null,
   "metadata": {},
   "outputs": [],
   "source": []
  }
 ],
 "metadata": {
  "@webio": {
   "lastCommId": null,
   "lastKernelId": null
  },
  "kernelspec": {
   "display_name": "Julia 1.5.3",
   "language": "julia",
   "name": "julia-1.5"
  },
  "language_info": {
   "file_extension": ".jl",
   "mimetype": "application/julia",
   "name": "julia",
   "version": "1.5.3"
  }
 },
 "nbformat": 4,
 "nbformat_minor": 4
}
