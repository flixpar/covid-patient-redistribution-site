{
 "cells": [
  {
   "cell_type": "code",
   "execution_count": 1,
   "metadata": {},
   "outputs": [],
   "source": [
    "using CSV\n",
    "using DataFrames\n",
    "using Dates"
   ]
  },
  {
   "cell_type": "code",
   "execution_count": 2,
   "metadata": {},
   "outputs": [],
   "source": [
    "ENV[\"COLUMNS\"] = 1000;"
   ]
  },
  {
   "cell_type": "code",
   "execution_count": 3,
   "metadata": {},
   "outputs": [
    {
     "data": {
      "text/html": [
       "<table class=\"data-frame\"><thead><tr><th></th><th>Column1</th><th>hospital_name</th><th>ccn</th><th>collection_week</th><th>fips_code</th><th>hospitalization_percentage</th><th>ICU_percentages</th><th>hospitalization_2021-01-19</th><th>target_date</th></tr><tr><th></th><th>Int64</th><th>String</th><th>String?</th><th>Date</th><th>Float64</th><th>Float64?</th><th>Float64?</th><th>Float64?</th><th>Date</th></tr></thead><tbody><p>125,294 rows × 9 columns</p><tr><th>1</th><td>10</td><td>PRATTVILLE BAPTIST HOSPITAL</td><td>010108</td><td>2021-01-08</td><td>1001.0</td><td>1.0</td><td>0.130584</td><td>5.39817</td><td>2021-01-19</td></tr><tr><th>2</th><td>11</td><td>THOMAS HOSPITAL</td><td>010100</td><td>2021-01-08</td><td>1003.0</td><td>0.516628</td><td>0.265781</td><td>7.5387</td><td>2021-01-19</td></tr><tr><th>3</th><td>12</td><td>NORTH BALDWIN INFIRMARY</td><td>010129</td><td>2021-01-08</td><td>1003.0</td><td>0.165797</td><td>0.135714</td><td>2.41933</td><td>2021-01-19</td></tr><tr><th>4</th><td>13</td><td>SOUTH BALDWIN REGIONAL MEDICAL CENTER</td><td>010083</td><td>2021-01-08</td><td>1003.0</td><td>0.317575</td><td>0.292683</td><td>4.6341</td><td>2021-01-19</td></tr><tr><th>5</th><td>14</td><td>MEDICAL CENTER BARBOUR</td><td>010069</td><td>2021-01-08</td><td>1005.0</td><td>1.0</td><td>0.277778</td><td>1.34824</td><td>2021-01-19</td></tr><tr><th>6</th><td>15</td><td>BIBB MEDICAL CENTER</td><td>010058</td><td>2021-01-08</td><td>1007.0</td><td>0.791667</td><td><em>missing</em></td><td>1.33872</td><td>2021-01-19</td></tr><tr><th>7</th><td>16</td><td>ST VINCENTS BLOUNT</td><td>011305</td><td>2021-01-08</td><td>1009.0</td><td>0.958333</td><td>0.102041</td><td>3.82677</td><td>2021-01-19</td></tr><tr><th>8</th><td>17</td><td>BULLOCK COUNTY HOSPITAL</td><td>010110</td><td>2021-01-08</td><td>1011.0</td><td>0.0</td><td><em>missing</em></td><td>0.0</td><td>2021-01-19</td></tr><tr><th>9</th><td>18</td><td>REGIONAL MEDICAL CENTER OF CENTRAL ALABAMA</td><td>010150</td><td>2021-01-08</td><td>1013.0</td><td>0.958333</td><td>0.262295</td><td>1.08509</td><td>2021-01-19</td></tr><tr><th>10</th><td>19</td><td>NORTHEAST ALABAMA REGIONAL MEDICAL CENTER</td><td>010078</td><td>2021-01-08</td><td>1015.0</td><td>0.975492</td><td>0.285047</td><td>9.97842</td><td>2021-01-19</td></tr><tr><th>11</th><td>20</td><td>STRINGFELLOW MEMORIAL HOSPITAL</td><td>010038</td><td>2021-01-08</td><td>1015.0</td><td>0.0009522</td><td><em>missing</em></td><td>0.00974017</td><td>2021-01-19</td></tr><tr><th>12</th><td>21</td><td>NOLAND HOSPITAL ANNISTON II, LLC</td><td>012011</td><td>2021-01-08</td><td>1015.0</td><td>0.0235559</td><td>0.0</td><td>0.240956</td><td>2021-01-19</td></tr><tr><th>13</th><td>22</td><td>EAMC - LANIER</td><td>010175</td><td>2021-01-08</td><td>1017.0</td><td>1.0</td><td>0.0</td><td>2.87768</td><td>2021-01-19</td></tr><tr><th>14</th><td>23</td><td>FLOYD CHEROKEE MEDICAL CENTER</td><td>010022</td><td>2021-01-08</td><td>1019.0</td><td>0.833333</td><td>0.0</td><td>1.08733</td><td>2021-01-19</td></tr><tr><th>15</th><td>24</td><td>ST VINCENT'S CHILTON</td><td>010173</td><td>2021-01-08</td><td>1021.0</td><td>1.0</td><td>0.480519</td><td>2.25468</td><td>2021-01-19</td></tr><tr><th>16</th><td>25</td><td>CHOCTAW GENERAL HOSPITAL</td><td>011304</td><td>2021-01-08</td><td>1023.0</td><td>0.958333</td><td>0.0</td><td>0.260863</td><td>2021-01-19</td></tr><tr><th>17</th><td>26</td><td>JACKSON MEDICAL CENTER</td><td>010128</td><td>2021-01-08</td><td>1025.0</td><td>0.448067</td><td>0.0</td><td>1.19316</td><td>2021-01-19</td></tr><tr><th>18</th><td>27</td><td>GROVE HILL MEMORIAL HOSPITAL</td><td>010091</td><td>2021-01-08</td><td>1025.0</td><td>0.238495</td><td>0.0</td><td>0.635086</td><td>2021-01-19</td></tr><tr><th>19</th><td>28</td><td>THOMASVILLE REGIONAL MEDICAL CENTER</td><td>010174</td><td>2021-01-08</td><td>1025.0</td><td>0.313438</td><td>0.0</td><td>0.834653</td><td>2021-01-19</td></tr><tr><th>20</th><td>29</td><td>CLAY COUNTY HOSPITAL</td><td>010073</td><td>2021-01-08</td><td>1027.0</td><td>1.0</td><td>1.0</td><td>0.766773</td><td>2021-01-19</td></tr><tr><th>21</th><td>30</td><td>MEDICAL CENTER ENTERPRISE</td><td>010049</td><td>2021-01-08</td><td>1031.0</td><td>1.0</td><td>0.315476</td><td>4.77636</td><td>2021-01-19</td></tr><tr><th>22</th><td>31</td><td>SHOALS HOSPITAL</td><td>010157</td><td>2021-01-08</td><td>1033.0</td><td>0.178288</td><td>0.0</td><td>0.704313</td><td>2021-01-19</td></tr><tr><th>23</th><td>32</td><td>HELEN KELLER MEMORIAL HOSPITAL</td><td>010019</td><td>2021-01-08</td><td>1033.0</td><td>0.821712</td><td>0.460648</td><td>3.24612</td><td>2021-01-19</td></tr><tr><th>24</th><td>33</td><td>EVERGREEN MEDICAL CENTER</td><td>010148</td><td>2021-01-08</td><td>1035.0</td><td>1.0</td><td>0.0</td><td>0.619808</td><td>2021-01-19</td></tr><tr><th>25</th><td>34</td><td>MIZELL MEMORIAL HOSPITAL</td><td>010007</td><td>2021-01-08</td><td>1039.0</td><td>0.570872</td><td>0.285714</td><td>1.31423</td><td>2021-01-19</td></tr><tr><th>26</th><td>35</td><td>ANDALUSIA HEALTH</td><td>010036</td><td>2021-01-08</td><td>1039.0</td><td>0.429128</td><td>0.5</td><td>0.987915</td><td>2021-01-19</td></tr><tr><th>27</th><td>36</td><td>CRENSHAW COMMUNITY HOSPITAL</td><td>010008</td><td>2021-01-08</td><td>1041.0</td><td>1.0</td><td>0.0</td><td>1.30735</td><td>2021-01-19</td></tr><tr><th>28</th><td>37</td><td>CULLMAN REGIONAL MEDICAL CENTER</td><td>010035</td><td>2021-01-08</td><td>1043.0</td><td>1.0</td><td>0.250482</td><td>5.61771</td><td>2021-01-19</td></tr><tr><th>29</th><td>38</td><td>DALE MEDICAL CENTER</td><td>010021</td><td>2021-01-08</td><td>1045.0</td><td>1.0</td><td>0.149425</td><td>3.98722</td><td>2021-01-19</td></tr><tr><th>30</th><td>39</td><td>VAUGHAN REGIONAL MEDICAL CENTER PARKWAY CAMPUS</td><td>010118</td><td>2021-01-08</td><td>1047.0</td><td>1.0</td><td>0.170886</td><td>1.69694</td><td>2021-01-19</td></tr><tr><th>&vellip;</th><td>&vellip;</td><td>&vellip;</td><td>&vellip;</td><td>&vellip;</td><td>&vellip;</td><td>&vellip;</td><td>&vellip;</td><td>&vellip;</td><td>&vellip;</td></tr></tbody></table>"
      ],
      "text/latex": [
       "\\begin{tabular}{r|ccccccccc}\n",
       "\t& Column1 & hospital\\_name & ccn & collection\\_week & fips\\_code & hospitalization\\_percentage & ICU\\_percentages & hospitalization\\_2021-01-19 & target\\_date\\\\\n",
       "\t\\hline\n",
       "\t& Int64 & String & String? & Date & Float64 & Float64? & Float64? & Float64? & Date\\\\\n",
       "\t\\hline\n",
       "\t1 & 10 & PRATTVILLE BAPTIST HOSPITAL & 010108 & 2021-01-08 & 1001.0 & 1.0 & 0.130584 & 5.39817 & 2021-01-19 \\\\\n",
       "\t2 & 11 & THOMAS HOSPITAL & 010100 & 2021-01-08 & 1003.0 & 0.516628 & 0.265781 & 7.5387 & 2021-01-19 \\\\\n",
       "\t3 & 12 & NORTH BALDWIN INFIRMARY & 010129 & 2021-01-08 & 1003.0 & 0.165797 & 0.135714 & 2.41933 & 2021-01-19 \\\\\n",
       "\t4 & 13 & SOUTH BALDWIN REGIONAL MEDICAL CENTER & 010083 & 2021-01-08 & 1003.0 & 0.317575 & 0.292683 & 4.6341 & 2021-01-19 \\\\\n",
       "\t5 & 14 & MEDICAL CENTER BARBOUR & 010069 & 2021-01-08 & 1005.0 & 1.0 & 0.277778 & 1.34824 & 2021-01-19 \\\\\n",
       "\t6 & 15 & BIBB MEDICAL CENTER & 010058 & 2021-01-08 & 1007.0 & 0.791667 & \\emph{missing} & 1.33872 & 2021-01-19 \\\\\n",
       "\t7 & 16 & ST VINCENTS BLOUNT & 011305 & 2021-01-08 & 1009.0 & 0.958333 & 0.102041 & 3.82677 & 2021-01-19 \\\\\n",
       "\t8 & 17 & BULLOCK COUNTY HOSPITAL & 010110 & 2021-01-08 & 1011.0 & 0.0 & \\emph{missing} & 0.0 & 2021-01-19 \\\\\n",
       "\t9 & 18 & REGIONAL MEDICAL CENTER OF CENTRAL ALABAMA & 010150 & 2021-01-08 & 1013.0 & 0.958333 & 0.262295 & 1.08509 & 2021-01-19 \\\\\n",
       "\t10 & 19 & NORTHEAST ALABAMA REGIONAL MEDICAL CENTER & 010078 & 2021-01-08 & 1015.0 & 0.975492 & 0.285047 & 9.97842 & 2021-01-19 \\\\\n",
       "\t11 & 20 & STRINGFELLOW MEMORIAL HOSPITAL & 010038 & 2021-01-08 & 1015.0 & 0.0009522 & \\emph{missing} & 0.00974017 & 2021-01-19 \\\\\n",
       "\t12 & 21 & NOLAND HOSPITAL ANNISTON II, LLC & 012011 & 2021-01-08 & 1015.0 & 0.0235559 & 0.0 & 0.240956 & 2021-01-19 \\\\\n",
       "\t13 & 22 & EAMC - LANIER & 010175 & 2021-01-08 & 1017.0 & 1.0 & 0.0 & 2.87768 & 2021-01-19 \\\\\n",
       "\t14 & 23 & FLOYD CHEROKEE MEDICAL CENTER & 010022 & 2021-01-08 & 1019.0 & 0.833333 & 0.0 & 1.08733 & 2021-01-19 \\\\\n",
       "\t15 & 24 & ST VINCENT'S CHILTON & 010173 & 2021-01-08 & 1021.0 & 1.0 & 0.480519 & 2.25468 & 2021-01-19 \\\\\n",
       "\t16 & 25 & CHOCTAW GENERAL HOSPITAL & 011304 & 2021-01-08 & 1023.0 & 0.958333 & 0.0 & 0.260863 & 2021-01-19 \\\\\n",
       "\t17 & 26 & JACKSON MEDICAL CENTER & 010128 & 2021-01-08 & 1025.0 & 0.448067 & 0.0 & 1.19316 & 2021-01-19 \\\\\n",
       "\t18 & 27 & GROVE HILL MEMORIAL HOSPITAL & 010091 & 2021-01-08 & 1025.0 & 0.238495 & 0.0 & 0.635086 & 2021-01-19 \\\\\n",
       "\t19 & 28 & THOMASVILLE REGIONAL MEDICAL CENTER & 010174 & 2021-01-08 & 1025.0 & 0.313438 & 0.0 & 0.834653 & 2021-01-19 \\\\\n",
       "\t20 & 29 & CLAY COUNTY HOSPITAL & 010073 & 2021-01-08 & 1027.0 & 1.0 & 1.0 & 0.766773 & 2021-01-19 \\\\\n",
       "\t21 & 30 & MEDICAL CENTER ENTERPRISE & 010049 & 2021-01-08 & 1031.0 & 1.0 & 0.315476 & 4.77636 & 2021-01-19 \\\\\n",
       "\t22 & 31 & SHOALS HOSPITAL & 010157 & 2021-01-08 & 1033.0 & 0.178288 & 0.0 & 0.704313 & 2021-01-19 \\\\\n",
       "\t23 & 32 & HELEN KELLER MEMORIAL HOSPITAL & 010019 & 2021-01-08 & 1033.0 & 0.821712 & 0.460648 & 3.24612 & 2021-01-19 \\\\\n",
       "\t24 & 33 & EVERGREEN MEDICAL CENTER & 010148 & 2021-01-08 & 1035.0 & 1.0 & 0.0 & 0.619808 & 2021-01-19 \\\\\n",
       "\t25 & 34 & MIZELL MEMORIAL HOSPITAL & 010007 & 2021-01-08 & 1039.0 & 0.570872 & 0.285714 & 1.31423 & 2021-01-19 \\\\\n",
       "\t26 & 35 & ANDALUSIA HEALTH & 010036 & 2021-01-08 & 1039.0 & 0.429128 & 0.5 & 0.987915 & 2021-01-19 \\\\\n",
       "\t27 & 36 & CRENSHAW COMMUNITY HOSPITAL & 010008 & 2021-01-08 & 1041.0 & 1.0 & 0.0 & 1.30735 & 2021-01-19 \\\\\n",
       "\t28 & 37 & CULLMAN REGIONAL MEDICAL CENTER & 010035 & 2021-01-08 & 1043.0 & 1.0 & 0.250482 & 5.61771 & 2021-01-19 \\\\\n",
       "\t29 & 38 & DALE MEDICAL CENTER & 010021 & 2021-01-08 & 1045.0 & 1.0 & 0.149425 & 3.98722 & 2021-01-19 \\\\\n",
       "\t30 & 39 & VAUGHAN REGIONAL MEDICAL CENTER PARKWAY CAMPUS & 010118 & 2021-01-08 & 1047.0 & 1.0 & 0.170886 & 1.69694 & 2021-01-19 \\\\\n",
       "\t$\\dots$ & $\\dots$ & $\\dots$ & $\\dots$ & $\\dots$ & $\\dots$ & $\\dots$ & $\\dots$ & $\\dots$ & $\\dots$ \\\\\n",
       "\\end{tabular}\n"
      ],
      "text/plain": [
       "\u001b[1m125294×9 DataFrame\u001b[0m\n",
       "\u001b[1m    Row \u001b[0m│\u001b[1m Column1 \u001b[0m\u001b[1m hospital_name                     \u001b[0m\u001b[1m ccn     \u001b[0m\u001b[1m collection_week \u001b[0m\u001b[1m fips_code \u001b[0m\u001b[1m hospitalization_percentage \u001b[0m\u001b[1m ICU_percentages \u001b[0m\u001b[1m hospitalization_2021-01-19 \u001b[0m\u001b[1m target_date \u001b[0m\n",
       "\u001b[1m        \u001b[0m│\u001b[90m Int64   \u001b[0m\u001b[90m String                            \u001b[0m\u001b[90m String? \u001b[0m\u001b[90m Date            \u001b[0m\u001b[90m Float64   \u001b[0m\u001b[90m Union{Missing, Float64}    \u001b[0m\u001b[90m Float64?        \u001b[0m\u001b[90m Union{Missing, Float64}    \u001b[0m\u001b[90m Date        \u001b[0m\n",
       "────────┼───────────────────────────────────────────────────────────────────────────────────────────────────────────────────────────────────────────────────────────────────────\n",
       "      1 │      10  PRATTVILLE BAPTIST HOSPITAL        010108   2021-01-08          1001.0                   1.0              0.130584                   5.39817     2021-01-19\n",
       "      2 │      11  THOMAS HOSPITAL                    010100   2021-01-08          1003.0                   0.516628         0.265781                   7.5387      2021-01-19\n",
       "      3 │      12  NORTH BALDWIN INFIRMARY            010129   2021-01-08          1003.0                   0.165797         0.135714                   2.41933     2021-01-19\n",
       "      4 │      13  SOUTH BALDWIN REGIONAL MEDICAL C…  010083   2021-01-08          1003.0                   0.317575         0.292683                   4.6341      2021-01-19\n",
       "      5 │      14  MEDICAL CENTER BARBOUR             010069   2021-01-08          1005.0                   1.0              0.277778                   1.34824     2021-01-19\n",
       "      6 │      15  BIBB MEDICAL CENTER                010058   2021-01-08          1007.0                   0.791667  \u001b[90m missing         \u001b[0m                 1.33872     2021-01-19\n",
       "      7 │      16  ST VINCENTS BLOUNT                 011305   2021-01-08          1009.0                   0.958333         0.102041                   3.82677     2021-01-19\n",
       "      8 │      17  BULLOCK COUNTY HOSPITAL            010110   2021-01-08          1011.0                   0.0       \u001b[90m missing         \u001b[0m                 0.0         2021-01-19\n",
       "      9 │      18  REGIONAL MEDICAL CENTER OF CENTR…  010150   2021-01-08          1013.0                   0.958333         0.262295                   1.08509     2021-01-19\n",
       "     10 │      19  NORTHEAST ALABAMA REGIONAL MEDIC…  010078   2021-01-08          1015.0                   0.975492         0.285047                   9.97842     2021-01-19\n",
       "     11 │      20  STRINGFELLOW MEMORIAL HOSPITAL     010038   2021-01-08          1015.0                   0.0009522 \u001b[90m missing         \u001b[0m                 0.00974017  2021-01-19\n",
       "   ⋮    │    ⋮                     ⋮                     ⋮            ⋮             ⋮                  ⋮                      ⋮                     ⋮                    ⋮\n",
       " 125285 │    4825  NIOBRARA HEALTH & LIFE CENTER     \u001b[90m missing \u001b[0m 2021-01-08         56027.0                   0.25      \u001b[90m missing         \u001b[0m                 0.00745775  2021-02-13\n",
       " 125286 │    4826  POWELL VALLEY HOSPITAL            \u001b[90m missing \u001b[0m 2021-01-08         56029.0                   0.257812         0.142857                   0.264186    2021-02-13\n",
       " 125287 │    4827  CODY REGIONAL HEALTH              \u001b[90m missing \u001b[0m 2021-01-08         56029.0                   0.617188         0.241935                   0.632445    2021-02-13\n",
       " 125288 │    4828  PLATTE COUNTY MEMORIAL HOSPITAL   \u001b[90m missing \u001b[0m 2021-01-08         56031.0                   0.791667         0.0                        0.164485    2021-02-13\n",
       " 125289 │    4829  SHERIDAN MEMORIAL HOSPITAL        \u001b[90m missing \u001b[0m 2021-01-08         56033.0                   1.0              0.08                       0.641964    2021-02-13\n",
       " 125290 │    4830  MEMORIAL HOSPITAL SWEETWATER COU… \u001b[90m missing \u001b[0m 2021-01-08         56037.0                   0.75             0.9                        0.667356    2021-02-13\n",
       " 125291 │    4831  ST JOHNS MEDICAL CENTER           \u001b[90m missing \u001b[0m 2021-01-08         56039.0                   1.0              0.131148                   1.52886     2021-02-13\n",
       " 125292 │    4832  EVANSTON REGIONAL HOSPITAL        \u001b[90m missing \u001b[0m 2021-01-08         56041.0                   0.5              0.8                        0.424176    2021-02-13\n",
       " 125293 │    4833  WASHAKIE MEDICAL CENTER           \u001b[90m missing \u001b[0m 2021-01-08         56043.0                   1.0              0.0                        0.154214    2021-02-13\n",
       " 125294 │    4834  WESTON COUNTY HEALTH SERVICES     \u001b[90m missing \u001b[0m 2021-01-08         56045.0                   0.333333  \u001b[90m missing         \u001b[0m                 0.161584    2021-02-13\n",
       "\u001b[31m                                                                                                                                                             125273 rows omitted\u001b[0m"
      ]
     },
     "execution_count": 3,
     "metadata": {},
     "output_type": "execute_result"
    }
   ],
   "source": [
    "rawdata = DataFrame(CSV.File(\"../rawdata/output_HHS_US_2021-02-13_one_column.csv\"))"
   ]
  },
  {
   "cell_type": "code",
   "execution_count": 4,
   "metadata": {},
   "outputs": [],
   "source": [
    "function firstval(xs)\n",
    "    isbad(x) = isnothing(x) || ismissing(x)\n",
    "    if all(isbad.(xs))\n",
    "        return missing\n",
    "    else\n",
    "        return xs[findfirst(x -> !isbad(x), xs)]\n",
    "    end\n",
    "end;"
   ]
  },
  {
   "cell_type": "code",
   "execution_count": 5,
   "metadata": {},
   "outputs": [],
   "source": [
    "ccn_lookup_df = combine(groupby(rawdata, [:Column1, :hospital_name]), :ccn => firstval => :ccn)\n",
    "ccn_lookup = Dict(row.Column1 => row.ccn for row in eachrow(ccn_lookup_df));"
   ]
  },
  {
   "cell_type": "code",
   "execution_count": 6,
   "metadata": {},
   "outputs": [
    {
     "data": {
      "text/html": [
       "<table class=\"data-frame\"><thead><tr><th></th><th>hospital</th><th>hospital_id</th><th>date</th><th>admitted_moderate_icu</th><th>admitted_moderate_acute</th><th>admitted_moderate_allbeds</th></tr><tr><th></th><th>String</th><th>String?</th><th>Date</th><th>Float64?</th><th>Float64?</th><th>Float64?</th></tr></thead><tbody><p>125,294 rows × 6 columns</p><tr><th>1</th><td>ABBEVILLE AREA MEDICAL CENTER</td><td>421301</td><td>2021-01-19</td><td>0.0</td><td>0.898606</td><td>0.898606</td></tr><tr><th>2</th><td>ABBEVILLE AREA MEDICAL CENTER</td><td>421301</td><td>2021-01-20</td><td>0.0</td><td>0.899638</td><td>0.899638</td></tr><tr><th>3</th><td>ABBEVILLE AREA MEDICAL CENTER</td><td>421301</td><td>2021-01-21</td><td>0.0</td><td>0.972093</td><td>0.972093</td></tr><tr><th>4</th><td>ABBEVILLE AREA MEDICAL CENTER</td><td>421301</td><td>2021-01-22</td><td>0.0</td><td>0.955333</td><td>0.955333</td></tr><tr><th>5</th><td>ABBEVILLE AREA MEDICAL CENTER</td><td>421301</td><td>2021-01-23</td><td>0.0</td><td>0.972609</td><td>0.972609</td></tr><tr><th>6</th><td>ABBEVILLE AREA MEDICAL CENTER</td><td>421301</td><td>2021-01-24</td><td>0.0</td><td>1.06283</td><td>1.06283</td></tr><tr><th>7</th><td>ABBEVILLE AREA MEDICAL CENTER</td><td>421301</td><td>2021-01-25</td><td>0.0</td><td>1.07168</td><td>1.07168</td></tr><tr><th>8</th><td>ABBEVILLE AREA MEDICAL CENTER</td><td>421301</td><td>2021-01-26</td><td>0.0</td><td>1.03571</td><td>1.03571</td></tr><tr><th>9</th><td>ABBEVILLE AREA MEDICAL CENTER</td><td>421301</td><td>2021-01-27</td><td>0.0</td><td>1.03516</td><td>1.03516</td></tr><tr><th>10</th><td>ABBEVILLE AREA MEDICAL CENTER</td><td>421301</td><td>2021-01-28</td><td>0.0</td><td>1.07777</td><td>1.07777</td></tr><tr><th>11</th><td>ABBEVILLE AREA MEDICAL CENTER</td><td>421301</td><td>2021-01-29</td><td>0.0</td><td>1.06421</td><td>1.06421</td></tr><tr><th>12</th><td>ABBEVILLE AREA MEDICAL CENTER</td><td>421301</td><td>2021-01-30</td><td>0.0</td><td>1.09603</td><td>1.09603</td></tr><tr><th>13</th><td>ABBEVILLE AREA MEDICAL CENTER</td><td>421301</td><td>2021-01-31</td><td>0.0</td><td>1.05705</td><td>1.05705</td></tr><tr><th>14</th><td>ABBEVILLE AREA MEDICAL CENTER</td><td>421301</td><td>2021-02-01</td><td>0.0</td><td>1.07285</td><td>1.07285</td></tr><tr><th>15</th><td>ABBEVILLE AREA MEDICAL CENTER</td><td>421301</td><td>2021-02-02</td><td>0.0</td><td>1.01283</td><td>1.01283</td></tr><tr><th>16</th><td>ABBEVILLE AREA MEDICAL CENTER</td><td>421301</td><td>2021-02-03</td><td>0.0</td><td>1.00533</td><td>1.00533</td></tr><tr><th>17</th><td>ABBEVILLE AREA MEDICAL CENTER</td><td>421301</td><td>2021-02-04</td><td>0.0</td><td>1.05115</td><td>1.05115</td></tr><tr><th>18</th><td>ABBEVILLE AREA MEDICAL CENTER</td><td>421301</td><td>2021-02-05</td><td>0.0</td><td>1.05249</td><td>1.05249</td></tr><tr><th>19</th><td>ABBEVILLE AREA MEDICAL CENTER</td><td>421301</td><td>2021-02-06</td><td>0.0</td><td>1.0549</td><td>1.0549</td></tr><tr><th>20</th><td>ABBEVILLE AREA MEDICAL CENTER</td><td>421301</td><td>2021-02-07</td><td>0.0</td><td>1.13514</td><td>1.13514</td></tr><tr><th>21</th><td>ABBEVILLE AREA MEDICAL CENTER</td><td>421301</td><td>2021-02-08</td><td>0.0</td><td>1.14598</td><td>1.14598</td></tr><tr><th>22</th><td>ABBEVILLE AREA MEDICAL CENTER</td><td>421301</td><td>2021-02-09</td><td>0.0</td><td>1.10318</td><td>1.10318</td></tr><tr><th>23</th><td>ABBEVILLE AREA MEDICAL CENTER</td><td>421301</td><td>2021-02-10</td><td>0.0</td><td>1.08778</td><td>1.08778</td></tr><tr><th>24</th><td>ABBEVILLE AREA MEDICAL CENTER</td><td>421301</td><td>2021-02-11</td><td>0.0</td><td>1.12487</td><td>1.12487</td></tr><tr><th>25</th><td>ABBEVILLE AREA MEDICAL CENTER</td><td>421301</td><td>2021-02-12</td><td>0.0</td><td>1.1146</td><td>1.1146</td></tr><tr><th>26</th><td>ABBEVILLE AREA MEDICAL CENTER</td><td>421301</td><td>2021-02-13</td><td>0.0</td><td>1.11602</td><td>1.11602</td></tr><tr><th>27</th><td>ABBEVILLE GENERAL HOSPITAL</td><td>190034</td><td>2021-01-19</td><td>0.350297</td><td>1.80987</td><td>2.16016</td></tr><tr><th>28</th><td>ABBEVILLE GENERAL HOSPITAL</td><td>190034</td><td>2021-01-20</td><td>0.388047</td><td>2.00491</td><td>2.39295</td></tr><tr><th>29</th><td>ABBEVILLE GENERAL HOSPITAL</td><td>190034</td><td>2021-01-21</td><td>0.390324</td><td>2.01667</td><td>2.407</td></tr><tr><th>30</th><td>ABBEVILLE GENERAL HOSPITAL</td><td>190034</td><td>2021-01-22</td><td>0.395477</td><td>2.0433</td><td>2.43877</td></tr><tr><th>&vellip;</th><td>&vellip;</td><td>&vellip;</td><td>&vellip;</td><td>&vellip;</td><td>&vellip;</td><td>&vellip;</td></tr></tbody></table>"
      ],
      "text/latex": [
       "\\begin{tabular}{r|cccccc}\n",
       "\t& hospital & hospital\\_id & date & admitted\\_moderate\\_icu & admitted\\_moderate\\_acute & admitted\\_moderate\\_allbeds\\\\\n",
       "\t\\hline\n",
       "\t& String & String? & Date & Float64? & Float64? & Float64?\\\\\n",
       "\t\\hline\n",
       "\t1 & ABBEVILLE AREA MEDICAL CENTER & 421301 & 2021-01-19 & 0.0 & 0.898606 & 0.898606 \\\\\n",
       "\t2 & ABBEVILLE AREA MEDICAL CENTER & 421301 & 2021-01-20 & 0.0 & 0.899638 & 0.899638 \\\\\n",
       "\t3 & ABBEVILLE AREA MEDICAL CENTER & 421301 & 2021-01-21 & 0.0 & 0.972093 & 0.972093 \\\\\n",
       "\t4 & ABBEVILLE AREA MEDICAL CENTER & 421301 & 2021-01-22 & 0.0 & 0.955333 & 0.955333 \\\\\n",
       "\t5 & ABBEVILLE AREA MEDICAL CENTER & 421301 & 2021-01-23 & 0.0 & 0.972609 & 0.972609 \\\\\n",
       "\t6 & ABBEVILLE AREA MEDICAL CENTER & 421301 & 2021-01-24 & 0.0 & 1.06283 & 1.06283 \\\\\n",
       "\t7 & ABBEVILLE AREA MEDICAL CENTER & 421301 & 2021-01-25 & 0.0 & 1.07168 & 1.07168 \\\\\n",
       "\t8 & ABBEVILLE AREA MEDICAL CENTER & 421301 & 2021-01-26 & 0.0 & 1.03571 & 1.03571 \\\\\n",
       "\t9 & ABBEVILLE AREA MEDICAL CENTER & 421301 & 2021-01-27 & 0.0 & 1.03516 & 1.03516 \\\\\n",
       "\t10 & ABBEVILLE AREA MEDICAL CENTER & 421301 & 2021-01-28 & 0.0 & 1.07777 & 1.07777 \\\\\n",
       "\t11 & ABBEVILLE AREA MEDICAL CENTER & 421301 & 2021-01-29 & 0.0 & 1.06421 & 1.06421 \\\\\n",
       "\t12 & ABBEVILLE AREA MEDICAL CENTER & 421301 & 2021-01-30 & 0.0 & 1.09603 & 1.09603 \\\\\n",
       "\t13 & ABBEVILLE AREA MEDICAL CENTER & 421301 & 2021-01-31 & 0.0 & 1.05705 & 1.05705 \\\\\n",
       "\t14 & ABBEVILLE AREA MEDICAL CENTER & 421301 & 2021-02-01 & 0.0 & 1.07285 & 1.07285 \\\\\n",
       "\t15 & ABBEVILLE AREA MEDICAL CENTER & 421301 & 2021-02-02 & 0.0 & 1.01283 & 1.01283 \\\\\n",
       "\t16 & ABBEVILLE AREA MEDICAL CENTER & 421301 & 2021-02-03 & 0.0 & 1.00533 & 1.00533 \\\\\n",
       "\t17 & ABBEVILLE AREA MEDICAL CENTER & 421301 & 2021-02-04 & 0.0 & 1.05115 & 1.05115 \\\\\n",
       "\t18 & ABBEVILLE AREA MEDICAL CENTER & 421301 & 2021-02-05 & 0.0 & 1.05249 & 1.05249 \\\\\n",
       "\t19 & ABBEVILLE AREA MEDICAL CENTER & 421301 & 2021-02-06 & 0.0 & 1.0549 & 1.0549 \\\\\n",
       "\t20 & ABBEVILLE AREA MEDICAL CENTER & 421301 & 2021-02-07 & 0.0 & 1.13514 & 1.13514 \\\\\n",
       "\t21 & ABBEVILLE AREA MEDICAL CENTER & 421301 & 2021-02-08 & 0.0 & 1.14598 & 1.14598 \\\\\n",
       "\t22 & ABBEVILLE AREA MEDICAL CENTER & 421301 & 2021-02-09 & 0.0 & 1.10318 & 1.10318 \\\\\n",
       "\t23 & ABBEVILLE AREA MEDICAL CENTER & 421301 & 2021-02-10 & 0.0 & 1.08778 & 1.08778 \\\\\n",
       "\t24 & ABBEVILLE AREA MEDICAL CENTER & 421301 & 2021-02-11 & 0.0 & 1.12487 & 1.12487 \\\\\n",
       "\t25 & ABBEVILLE AREA MEDICAL CENTER & 421301 & 2021-02-12 & 0.0 & 1.1146 & 1.1146 \\\\\n",
       "\t26 & ABBEVILLE AREA MEDICAL CENTER & 421301 & 2021-02-13 & 0.0 & 1.11602 & 1.11602 \\\\\n",
       "\t27 & ABBEVILLE GENERAL HOSPITAL & 190034 & 2021-01-19 & 0.350297 & 1.80987 & 2.16016 \\\\\n",
       "\t28 & ABBEVILLE GENERAL HOSPITAL & 190034 & 2021-01-20 & 0.388047 & 2.00491 & 2.39295 \\\\\n",
       "\t29 & ABBEVILLE GENERAL HOSPITAL & 190034 & 2021-01-21 & 0.390324 & 2.01667 & 2.407 \\\\\n",
       "\t30 & ABBEVILLE GENERAL HOSPITAL & 190034 & 2021-01-22 & 0.395477 & 2.0433 & 2.43877 \\\\\n",
       "\t$\\dots$ & $\\dots$ & $\\dots$ & $\\dots$ & $\\dots$ & $\\dots$ & $\\dots$ \\\\\n",
       "\\end{tabular}\n"
      ],
      "text/plain": [
       "\u001b[1m125294×6 DataFrame\u001b[0m\n",
       "\u001b[1m    Row \u001b[0m│\u001b[1m hospital                          \u001b[0m\u001b[1m hospital_id \u001b[0m\u001b[1m date       \u001b[0m\u001b[1m admitted_moderate_icu \u001b[0m\u001b[1m admitted_moderate_acute \u001b[0m\u001b[1m admitted_moderate_allbeds \u001b[0m\n",
       "\u001b[1m        \u001b[0m│\u001b[90m String                            \u001b[0m\u001b[90m String?     \u001b[0m\u001b[90m Date       \u001b[0m\u001b[90m Float64?              \u001b[0m\u001b[90m Union{Missing, Float64} \u001b[0m\u001b[90m Union{Missing, Float64}   \u001b[0m\n",
       "────────┼───────────────────────────────────────────────────────────────────────────────────────────────────────────────────────────────────────\n",
       "      1 │ ABBEVILLE AREA MEDICAL CENTER      421301       2021-01-19               0.0                      0.898606                   0.898606\n",
       "      2 │ ABBEVILLE AREA MEDICAL CENTER      421301       2021-01-20               0.0                      0.899638                   0.899638\n",
       "      3 │ ABBEVILLE AREA MEDICAL CENTER      421301       2021-01-21               0.0                      0.972093                   0.972093\n",
       "      4 │ ABBEVILLE AREA MEDICAL CENTER      421301       2021-01-22               0.0                      0.955333                   0.955333\n",
       "      5 │ ABBEVILLE AREA MEDICAL CENTER      421301       2021-01-23               0.0                      0.972609                   0.972609\n",
       "      6 │ ABBEVILLE AREA MEDICAL CENTER      421301       2021-01-24               0.0                      1.06283                    1.06283\n",
       "      7 │ ABBEVILLE AREA MEDICAL CENTER      421301       2021-01-25               0.0                      1.07168                    1.07168\n",
       "      8 │ ABBEVILLE AREA MEDICAL CENTER      421301       2021-01-26               0.0                      1.03571                    1.03571\n",
       "      9 │ ABBEVILLE AREA MEDICAL CENTER      421301       2021-01-27               0.0                      1.03516                    1.03516\n",
       "     10 │ ABBEVILLE AREA MEDICAL CENTER      421301       2021-01-28               0.0                      1.07777                    1.07777\n",
       "     11 │ ABBEVILLE AREA MEDICAL CENTER      421301       2021-01-29               0.0                      1.06421                    1.06421\n",
       "   ⋮    │                 ⋮                       ⋮           ⋮                 ⋮                       ⋮                         ⋮\n",
       " 125285 │ ZUCKERBERG SAN FRANCISCO GENERAL…  050228       2021-02-04               0.974358                 3.05221                    4.02656\n",
       " 125286 │ ZUCKERBERG SAN FRANCISCO GENERAL…  050228       2021-02-05               0.980952                 3.07286                    4.05381\n",
       " 125287 │ ZUCKERBERG SAN FRANCISCO GENERAL…  050228       2021-02-06               0.976092                 3.05764                    4.03373\n",
       " 125288 │ ZUCKERBERG SAN FRANCISCO GENERAL…  050228       2021-02-07               0.959068                 3.00431                    3.96338\n",
       " 125289 │ ZUCKERBERG SAN FRANCISCO GENERAL…  050228       2021-02-08               0.953747                 2.98764                    3.94139\n",
       " 125290 │ ZUCKERBERG SAN FRANCISCO GENERAL…  050228       2021-02-09               0.950189                 2.9765                     3.92669\n",
       " 125291 │ ZUCKERBERG SAN FRANCISCO GENERAL…  050228       2021-02-10               0.940307                 2.94554                    3.88585\n",
       " 125292 │ ZUCKERBERG SAN FRANCISCO GENERAL…  050228       2021-02-11               0.93757                  2.93697                    3.87454\n",
       " 125293 │ ZUCKERBERG SAN FRANCISCO GENERAL…  050228       2021-02-12               0.929999                 2.91325                    3.84325\n",
       " 125294 │ ZUCKERBERG SAN FRANCISCO GENERAL…  050228       2021-02-13               0.929573                 2.91192                    3.84149\n",
       "\u001b[31m                                                                                                                             125273 rows omitted\u001b[0m"
      ]
     },
     "execution_count": 6,
     "metadata": {},
     "output_type": "execute_result"
    }
   ],
   "source": [
    "data = select(rawdata,\n",
    "    :hospital_name => :hospital,\n",
    "    :Column1 => ByRow(x -> ccn_lookup[x]) => :hospital_id,\n",
    "    :target_date => :date,\n",
    "    [\"hospitalization_2021-01-19\", \"ICU_percentages\"] => ByRow((x,y) -> x*coalesce(y,0.3)) => :admitted_moderate_icu,\n",
    "    [\"hospitalization_2021-01-19\", \"ICU_percentages\"] => ByRow((x,y) -> x*(1.0-coalesce(y,0.3))) => :admitted_moderate_acute,\n",
    "    \"hospitalization_2021-01-19\" => :admitted_moderate_allbeds,\n",
    ")\n",
    "sort!(data, [:hospital, :hospital_id, :date])"
   ]
  },
  {
   "cell_type": "code",
   "execution_count": 7,
   "metadata": {},
   "outputs": [
    {
     "data": {
      "text/plain": [
       "\"../data/hhs_forecast_2021_01_19.csv\""
      ]
     },
     "execution_count": 7,
     "metadata": {},
     "output_type": "execute_result"
    }
   ],
   "source": [
    "data |> CSV.write(\"../data/hhs_forecast_2021_01_19.csv\")"
   ]
  },
  {
   "cell_type": "code",
   "execution_count": null,
   "metadata": {},
   "outputs": [],
   "source": []
  }
 ],
 "metadata": {
  "@webio": {
   "lastCommId": null,
   "lastKernelId": null
  },
  "kernelspec": {
   "display_name": "Julia 1.5.3",
   "language": "julia",
   "name": "julia-1.5"
  },
  "language_info": {
   "file_extension": ".jl",
   "mimetype": "application/julia",
   "name": "julia",
   "version": "1.5.3"
  }
 },
 "nbformat": 4,
 "nbformat_minor": 4
}
