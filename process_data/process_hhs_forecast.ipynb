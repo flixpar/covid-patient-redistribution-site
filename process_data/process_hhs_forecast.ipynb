{
 "cells": [
  {
   "cell_type": "code",
   "execution_count": 1,
   "metadata": {},
   "outputs": [],
   "source": [
    "using CSV\n",
    "using DataFrames\n",
    "using Dates"
   ]
  },
  {
   "cell_type": "code",
   "execution_count": 2,
   "metadata": {},
   "outputs": [],
   "source": [
    "ENV[\"COLUMNS\"] = 1000;"
   ]
  },
  {
   "cell_type": "code",
   "execution_count": 3,
   "metadata": {},
   "outputs": [],
   "source": [
    "forecast_date = \"2020_12_21\";"
   ]
  },
  {
   "cell_type": "code",
   "execution_count": 4,
   "metadata": {},
   "outputs": [],
   "source": [
    "rawdata = DataFrame(CSV.File(\"../rawdata/forecast_hhs_$(forecast_date).csv\"));"
   ]
  },
  {
   "cell_type": "code",
   "execution_count": 5,
   "metadata": {},
   "outputs": [
    {
     "data": {
      "text/html": [
       "<table class=\"data-frame\"><thead><tr><th></th><th>hospital_name</th><th>collection_week</th><th>fips_code</th><th>hospitalization_percentage</th><th>hospitalization_2020-12-15</th><th>target_date</th></tr><tr><th></th><th>String</th><th>String</th><th>Int64</th><th>Float64</th><th>Float64</th><th>String</th></tr></thead><tbody><p>3 rows × 6 columns</p><tr><th>1</th><td>U P M C WESTERN MARYLAND</td><td>12/4/20</td><td>24001</td><td>1.0</td><td>5.57596</td><td>12/15/20</td></tr><tr><th>2</th><td>UMD BALTIMORE WASHINGTON  MEDICAL CENTER</td><td>12/4/20</td><td>24003</td><td>0.521651</td><td>10.3602</td><td>12/15/20</td></tr><tr><th>3</th><td>ANNE ARUNDEL MEDICAL CENTER</td><td>12/4/20</td><td>24003</td><td>0.478349</td><td>9.50021</td><td>12/15/20</td></tr></tbody></table>"
      ],
      "text/latex": [
       "\\begin{tabular}{r|cccccc}\n",
       "\t& hospital\\_name & collection\\_week & fips\\_code & hospitalization\\_percentage & hospitalization\\_2020-12-15 & target\\_date\\\\\n",
       "\t\\hline\n",
       "\t& String & String & Int64 & Float64 & Float64 & String\\\\\n",
       "\t\\hline\n",
       "\t1 & U P M C WESTERN MARYLAND & 12/4/20 & 24001 & 1.0 & 5.57596 & 12/15/20 \\\\\n",
       "\t2 & UMD BALTIMORE WASHINGTON  MEDICAL CENTER & 12/4/20 & 24003 & 0.521651 & 10.3602 & 12/15/20 \\\\\n",
       "\t3 & ANNE ARUNDEL MEDICAL CENTER & 12/4/20 & 24003 & 0.478349 & 9.50021 & 12/15/20 \\\\\n",
       "\\end{tabular}\n"
      ],
      "text/plain": [
       "3×6 DataFrame\n",
       "│ Row │ hospital_name                            │ collection_week │ fips_code │ hospitalization_percentage │ hospitalization_2020-12-15 │ target_date │\n",
       "│     │ \u001b[90mString\u001b[39m                                   │ \u001b[90mString\u001b[39m          │ \u001b[90mInt64\u001b[39m     │ \u001b[90mFloat64\u001b[39m                    │ \u001b[90mFloat64\u001b[39m                    │ \u001b[90mString\u001b[39m      │\n",
       "├─────┼──────────────────────────────────────────┼─────────────────┼───────────┼────────────────────────────┼────────────────────────────┼─────────────┤\n",
       "│ 1   │ U P M C WESTERN MARYLAND                 │ 12/4/20         │ 24001     │ 1.0                        │ 5.57596                    │ 12/15/20    │\n",
       "│ 2   │ UMD BALTIMORE WASHINGTON  MEDICAL CENTER │ 12/4/20         │ 24003     │ 0.521651                   │ 10.3602                    │ 12/15/20    │\n",
       "│ 3   │ ANNE ARUNDEL MEDICAL CENTER              │ 12/4/20         │ 24003     │ 0.478349                   │ 9.50021                    │ 12/15/20    │"
      ]
     },
     "execution_count": 5,
     "metadata": {},
     "output_type": "execute_result"
    }
   ],
   "source": [
    "first(rawdata,3)"
   ]
  },
  {
   "cell_type": "code",
   "execution_count": 6,
   "metadata": {},
   "outputs": [],
   "source": [
    "abbrevs = [\"MD\", \"UMD\"]\n",
    "function fixname(x)\n",
    "    words = split(x, \" \")\n",
    "    words = [(w in abbrevs) ? w : titlecase(w) for w in words]\n",
    "    x = join(words, \" \")\n",
    "    x = replace(x, \"'S\" => \"'s\")\n",
    "    return x\n",
    "end;"
   ]
  },
  {
   "cell_type": "code",
   "execution_count": 7,
   "metadata": {},
   "outputs": [
    {
     "data": {
      "text/html": [
       "<table class=\"data-frame\"><thead><tr><th></th><th>hospital</th><th>date</th><th>admissions</th></tr><tr><th></th><th>String</th><th>Date</th><th>Float64</th></tr></thead><tbody><p>5 rows × 3 columns</p><tr><th>1</th><td>Adventist Healthcare Fort Washington Medical Ctr</td><td>2020-12-15</td><td>1.37423</td></tr><tr><th>2</th><td>Adventist Healthcare Fort Washington Medical Ctr</td><td>2020-12-16</td><td>1.42605</td></tr><tr><th>3</th><td>Adventist Healthcare Fort Washington Medical Ctr</td><td>2020-12-17</td><td>1.42248</td></tr><tr><th>4</th><td>Adventist Healthcare Fort Washington Medical Ctr</td><td>2020-12-18</td><td>1.46596</td></tr><tr><th>5</th><td>Adventist Healthcare Fort Washington Medical Ctr</td><td>2020-12-19</td><td>1.48681</td></tr></tbody></table>"
      ],
      "text/latex": [
       "\\begin{tabular}{r|ccc}\n",
       "\t& hospital & date & admissions\\\\\n",
       "\t\\hline\n",
       "\t& String & Date & Float64\\\\\n",
       "\t\\hline\n",
       "\t1 & Adventist Healthcare Fort Washington Medical Ctr & 2020-12-15 & 1.37423 \\\\\n",
       "\t2 & Adventist Healthcare Fort Washington Medical Ctr & 2020-12-16 & 1.42605 \\\\\n",
       "\t3 & Adventist Healthcare Fort Washington Medical Ctr & 2020-12-17 & 1.42248 \\\\\n",
       "\t4 & Adventist Healthcare Fort Washington Medical Ctr & 2020-12-18 & 1.46596 \\\\\n",
       "\t5 & Adventist Healthcare Fort Washington Medical Ctr & 2020-12-19 & 1.48681 \\\\\n",
       "\\end{tabular}\n"
      ],
      "text/plain": [
       "5×3 DataFrame\n",
       "│ Row │ hospital                                         │ date       │ admissions │\n",
       "│     │ \u001b[90mString\u001b[39m                                           │ \u001b[90mDate\u001b[39m       │ \u001b[90mFloat64\u001b[39m    │\n",
       "├─────┼──────────────────────────────────────────────────┼────────────┼────────────┤\n",
       "│ 1   │ Adventist Healthcare Fort Washington Medical Ctr │ 2020-12-15 │ 1.37423    │\n",
       "│ 2   │ Adventist Healthcare Fort Washington Medical Ctr │ 2020-12-16 │ 1.42605    │\n",
       "│ 3   │ Adventist Healthcare Fort Washington Medical Ctr │ 2020-12-17 │ 1.42248    │\n",
       "│ 4   │ Adventist Healthcare Fort Washington Medical Ctr │ 2020-12-18 │ 1.46596    │\n",
       "│ 5   │ Adventist Healthcare Fort Washington Medical Ctr │ 2020-12-19 │ 1.48681    │"
      ]
     },
     "execution_count": 7,
     "metadata": {},
     "output_type": "execute_result"
    }
   ],
   "source": [
    "data = select(rawdata,\n",
    "    :hospital_name => ByRow(fixname) => :hospital,\n",
    "    :target_date => ByRow(x -> Date(x, dateformat\"mm/dd/yy\")+Year(2000)) => :date,\n",
    "    \"hospitalization_2020-12-15\" => :admissions,\n",
    ")\n",
    "sort!(data, [:hospital, :date])\n",
    "first(data, 5)"
   ]
  },
  {
   "cell_type": "code",
   "execution_count": 8,
   "metadata": {},
   "outputs": [
    {
     "name": "stdout",
     "output_type": "stream",
     "text": [
      "[\"Adventist Healthcare Fort Washington Medical Ctr\", \"Adventist Healthcare Shady Grove Medical Center\", \"Adventist Healthcare White Oak Medical Center\", \"Anne Arundel Medical Center\", \"Atlantic General Hospital\", \"Baltimore Convention Center Alternate Care Site\", \"Calverthealth Medical Center\", \"Carroll Hospital Center\", \"Doctors'  Community Hospital\", \"Frederick Health Hospital\", \"Garrett County Memorial Hospital\", \"Grace Medical Center, Inc\", \"Greater Baltimore Medical Center\", \"Holy Cross Germantown Hospital\", \"Holy Cross Hospital\", \"Howard County General Hospital\", \"Johns Hopkins Bayview Medical Center\", \"Johns Hopkins Hospital, The\", \"Medstar Franklin Square Medical Center\", \"Medstar Good Samaritan Hospital\", \"Medstar Harbor Hospital\", \"Medstar Montgomery Medical Center\", \"Medstar Saint Mary's Hospital\", \"Medstar Southern Maryland Hospital Center\", \"Medstar Union Memorial Hospital\", \"Mercy Medical Center Inc\", \"Meritus Medical Center\", \"Northwest Hospital Center\", \"Saint Agnes Hospital\", \"Sinai Hospital Of Baltimore\", \"Suburban Hospital\", \"Tidalhealth Peninsula Regional, Inc\", \"U P M C Western Maryland\", \"UMD Baltimore Washington  Medical Center\", \"UMD Charles Regional  Medical Center\", \"UMD Prince George's Hospital Ctr\", \"UMD Shore Medical Center At Easton\", \"UMD Shore Medical Ctr At Chestertown\", \"UMD Upper Chesapeake Medical Center\", \"Union Hospital Of Cecil County\", \"University Of MD Harford Memorial Hospital\", \"University Of MD Medical Center Midtown Campus\", \"University Of MD St Joseph Medical Center\", \"University Of Maryland Medical Center\"]\n"
     ]
    }
   ],
   "source": [
    "println(unique(data.hospital))"
   ]
  },
  {
   "cell_type": "code",
   "execution_count": 9,
   "metadata": {},
   "outputs": [],
   "source": [
    "data |> CSV.write(\"../data/forecast_hhs_$(forecast_date).csv\");"
   ]
  },
  {
   "cell_type": "code",
   "execution_count": null,
   "metadata": {},
   "outputs": [],
   "source": []
  }
 ],
 "metadata": {
  "@webio": {
   "lastCommId": null,
   "lastKernelId": null
  },
  "kernelspec": {
   "display_name": "Julia 1.5.3",
   "language": "julia",
   "name": "julia-1.5"
  },
  "language_info": {
   "file_extension": ".jl",
   "mimetype": "application/julia",
   "name": "julia",
   "version": "1.5.3"
  }
 },
 "nbformat": 4,
 "nbformat_minor": 4
}
