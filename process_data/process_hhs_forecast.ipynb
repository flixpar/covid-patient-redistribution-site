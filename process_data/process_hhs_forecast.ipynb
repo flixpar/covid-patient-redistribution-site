{
 "cells": [
  {
   "cell_type": "code",
   "execution_count": 1,
   "metadata": {},
   "outputs": [],
   "source": [
    "using CSV\n",
    "using Dates\n",
    "using DataFrames\n",
    "using Dates"
   ]
  },
  {
   "cell_type": "code",
   "execution_count": 2,
   "metadata": {},
   "outputs": [],
   "source": [
    "ENV[\"COLUMNS\"] = 1000;"
   ]
  },
  {
   "cell_type": "code",
   "execution_count": 3,
   "metadata": {},
   "outputs": [
    {
     "data": {
      "text/html": [
       "<table class=\"data-frame\"><thead><tr><th></th><th>Column1</th><th>hospital_name</th><th>ccn</th><th>collection_week</th><th>fips_code</th><th>hospitalization_percentage</th><th>ICU_percentages</th><th>hospitalization_2021-03-02</th><th>target_date</th><th>hospitalizations</th></tr><tr><th></th><th>Int64</th><th>String</th><th>String?</th><th>Date</th><th>Float64</th><th>Float64?</th><th>Float64?</th><th>Float64?</th><th>Date</th><th>Float64?</th></tr></thead><tbody><p>125,242 rows × 10 columns</p><tr><th>1</th><td>10</td><td>PRATTVILLE BAPTIST HOSPITAL</td><td>010108</td><td>2021-02-19</td><td>1001.0</td><td>1.0</td><td>0.21875</td><td>1.70004</td><td>2021-03-01</td><td><em>missing</em></td></tr><tr><th>2</th><td>11</td><td>NORTH BALDWIN INFIRMARY</td><td>010129</td><td>2021-02-19</td><td>1003.0</td><td>0.160221</td><td>0.0526316</td><td>0.655209</td><td>2021-03-01</td><td><em>missing</em></td></tr><tr><th>3</th><td>12</td><td>SOUTH BALDWIN REGIONAL MEDICAL CENTER</td><td>010083</td><td>2021-02-19</td><td>1003.0</td><td>0.329912</td><td>0.370787</td><td>1.34915</td><td>2021-03-01</td><td><em>missing</em></td></tr><tr><th>4</th><td>13</td><td>THOMAS HOSPITAL</td><td>010100</td><td>2021-02-19</td><td>1003.0</td><td>0.509867</td><td>0.337209</td><td>2.08506</td><td>2021-03-01</td><td><em>missing</em></td></tr><tr><th>5</th><td>14</td><td>MEDICAL CENTER BARBOUR</td><td>010069</td><td>2021-02-19</td><td>1005.0</td><td>1.0</td><td>0.684211</td><td>0.505463</td><td>2021-03-01</td><td><em>missing</em></td></tr><tr><th>6</th><td>15</td><td>BIBB MEDICAL CENTER</td><td>010058</td><td>2021-02-19</td><td>1007.0</td><td>0.833333</td><td>0.0</td><td>0.320396</td><td>2021-03-01</td><td><em>missing</em></td></tr><tr><th>7</th><td>16</td><td>ST VINCENTS BLOUNT</td><td>011305</td><td>2021-02-19</td><td>1009.0</td><td>0.966667</td><td>0.2</td><td>0.920051</td><td>2021-03-01</td><td><em>missing</em></td></tr><tr><th>8</th><td>17</td><td>BULLOCK COUNTY HOSPITAL</td><td>010110</td><td>2021-02-19</td><td>1011.0</td><td>0.0666667</td><td>0.0</td><td>0.0123677</td><td>2021-03-01</td><td><em>missing</em></td></tr><tr><th>9</th><td>18</td><td>REGIONAL MEDICAL CENTER OF CENTRAL ALABAMA</td><td>010150</td><td>2021-02-19</td><td>1013.0</td><td>0.966667</td><td>0.0</td><td>0.326176</td><td>2021-03-01</td><td><em>missing</em></td></tr><tr><th>10</th><td>19</td><td>NOLAND HOSPITAL ANNISTON II, LLC</td><td>012011</td><td>2021-02-19</td><td>1015.0</td><td>0.0188447</td><td><em>missing</em></td><td>0.0690311</td><td>2021-03-01</td><td><em>missing</em></td></tr><tr><th>11</th><td>20</td><td>STRINGFELLOW MEMORIAL HOSPITAL</td><td>010038</td><td>2021-02-19</td><td>1015.0</td><td>0.00076176</td><td><em>missing</em></td><td>0.00279045</td><td>2021-03-01</td><td><em>missing</em></td></tr><tr><th>12</th><td>21</td><td>NORTHEAST ALABAMA REGIONAL MEDICAL CENTER</td><td>010078</td><td>2021-02-19</td><td>1015.0</td><td>0.980394</td><td>0.395683</td><td>3.59134</td><td>2021-03-01</td><td><em>missing</em></td></tr><tr><th>13</th><td>22</td><td>EAMC - LANIER</td><td>010175</td><td>2021-02-19</td><td>1017.0</td><td>0.909091</td><td><em>missing</em></td><td>0.539231</td><td>2021-03-01</td><td><em>missing</em></td></tr><tr><th>14</th><td>23</td><td>FLOYD CHEROKEE MEDICAL CENTER</td><td>010022</td><td>2021-02-19</td><td>1019.0</td><td>0.833333</td><td>0.0</td><td>0.187084</td><td>2021-03-01</td><td><em>missing</em></td></tr><tr><th>15</th><td>24</td><td>ST VINCENT'S CHILTON</td><td>010173</td><td>2021-02-19</td><td>1021.0</td><td>0.933333</td><td><em>missing</em></td><td>0.909172</td><td>2021-03-01</td><td><em>missing</em></td></tr><tr><th>16</th><td>25</td><td>CHOCTAW GENERAL HOSPITAL</td><td>011304</td><td>2021-02-19</td><td>1023.0</td><td>0.933333</td><td><em>missing</em></td><td>0.0752817</td><td>2021-03-01</td><td><em>missing</em></td></tr><tr><th>17</th><td>26</td><td>THOMASVILLE REGIONAL MEDICAL CENTER</td><td>010174</td><td>2021-02-19</td><td>1025.0</td><td>0.295181</td><td>0.0</td><td>0.0944423</td><td>2021-03-01</td><td><em>missing</em></td></tr><tr><th>18</th><td>27</td><td>GROVE HILL MEMORIAL HOSPITAL</td><td>010091</td><td>2021-02-19</td><td>1025.0</td><td>0.21391</td><td><em>missing</em></td><td>0.0684399</td><td>2021-03-01</td><td><em>missing</em></td></tr><tr><th>19</th><td>28</td><td>JACKSON MEDICAL CENTER</td><td>010128</td><td>2021-02-19</td><td>1025.0</td><td>0.49091</td><td>0.0</td><td>0.157065</td><td>2021-03-01</td><td><em>missing</em></td></tr><tr><th>20</th><td>29</td><td>CLAY COUNTY HOSPITAL</td><td>010073</td><td>2021-02-19</td><td>1027.0</td><td>1.0</td><td>1.0</td><td>0.321292</td><td>2021-03-01</td><td><em>missing</em></td></tr><tr><th>21</th><td>30</td><td>MEDICAL CENTER ENTERPRISE</td><td>010049</td><td>2021-02-19</td><td>1031.0</td><td>1.0</td><td>0.147059</td><td>0.728413</td><td>2021-03-01</td><td><em>missing</em></td></tr><tr><th>22</th><td>31</td><td>SHOALS HOSPITAL</td><td>010157</td><td>2021-02-19</td><td>1033.0</td><td>0.15111</td><td><em>missing</em></td><td>0.0911316</td><td>2021-03-01</td><td><em>missing</em></td></tr><tr><th>23</th><td>32</td><td>HELEN KELLER MEMORIAL HOSPITAL</td><td>010019</td><td>2021-02-19</td><td>1033.0</td><td>0.84889</td><td>0.53125</td><td>0.51195</td><td>2021-03-01</td><td><em>missing</em></td></tr><tr><th>24</th><td>33</td><td>EVERGREEN MEDICAL CENTER</td><td>010148</td><td>2021-02-19</td><td>1035.0</td><td>1.0</td><td>0.0</td><td>0.107545</td><td>2021-03-01</td><td><em>missing</em></td></tr><tr><th>25</th><td>34</td><td>ANDALUSIA HEALTH</td><td>010036</td><td>2021-02-19</td><td>1039.0</td><td>0.42531</td><td>0.875</td><td>0.337773</td><td>2021-03-01</td><td><em>missing</em></td></tr><tr><th>26</th><td>35</td><td>MIZELL MEMORIAL HOSPITAL</td><td>010007</td><td>2021-02-19</td><td>1039.0</td><td>0.57469</td><td>0.204082</td><td>0.456408</td><td>2021-03-01</td><td><em>missing</em></td></tr><tr><th>27</th><td>36</td><td>CRENSHAW COMMUNITY HOSPITAL</td><td>010008</td><td>2021-02-19</td><td>1041.0</td><td>1.0</td><td>0.0</td><td>0.301127</td><td>2021-03-01</td><td><em>missing</em></td></tr><tr><th>28</th><td>37</td><td>CULLMAN REGIONAL MEDICAL CENTER</td><td>010035</td><td>2021-02-19</td><td>1043.0</td><td>1.0</td><td>0.282828</td><td>0.992726</td><td>2021-03-01</td><td><em>missing</em></td></tr><tr><th>29</th><td>38</td><td>DALE MEDICAL CENTER</td><td>010021</td><td>2021-02-19</td><td>1045.0</td><td>1.0</td><td>0.4</td><td>0.845058</td><td>2021-03-01</td><td><em>missing</em></td></tr><tr><th>30</th><td>39</td><td>VAUGHAN REGIONAL MEDICAL CENTER PARKWAY CAMPUS</td><td>010118</td><td>2021-02-19</td><td>1047.0</td><td>1.0</td><td>0.34375</td><td>0.917031</td><td>2021-03-01</td><td><em>missing</em></td></tr><tr><th>&vellip;</th><td>&vellip;</td><td>&vellip;</td><td>&vellip;</td><td>&vellip;</td><td>&vellip;</td><td>&vellip;</td><td>&vellip;</td><td>&vellip;</td><td>&vellip;</td><td>&vellip;</td></tr></tbody></table>"
      ],
      "text/latex": [
       "\\begin{tabular}{r|cccccccccc}\n",
       "\t& Column1 & hospital\\_name & ccn & collection\\_week & fips\\_code & hospitalization\\_percentage & ICU\\_percentages & hospitalization\\_2021-03-02 & target\\_date & hospitalizations\\\\\n",
       "\t\\hline\n",
       "\t& Int64 & String & String? & Date & Float64 & Float64? & Float64? & Float64? & Date & Float64?\\\\\n",
       "\t\\hline\n",
       "\t1 & 10 & PRATTVILLE BAPTIST HOSPITAL & 010108 & 2021-02-19 & 1001.0 & 1.0 & 0.21875 & 1.70004 & 2021-03-01 & \\emph{missing} \\\\\n",
       "\t2 & 11 & NORTH BALDWIN INFIRMARY & 010129 & 2021-02-19 & 1003.0 & 0.160221 & 0.0526316 & 0.655209 & 2021-03-01 & \\emph{missing} \\\\\n",
       "\t3 & 12 & SOUTH BALDWIN REGIONAL MEDICAL CENTER & 010083 & 2021-02-19 & 1003.0 & 0.329912 & 0.370787 & 1.34915 & 2021-03-01 & \\emph{missing} \\\\\n",
       "\t4 & 13 & THOMAS HOSPITAL & 010100 & 2021-02-19 & 1003.0 & 0.509867 & 0.337209 & 2.08506 & 2021-03-01 & \\emph{missing} \\\\\n",
       "\t5 & 14 & MEDICAL CENTER BARBOUR & 010069 & 2021-02-19 & 1005.0 & 1.0 & 0.684211 & 0.505463 & 2021-03-01 & \\emph{missing} \\\\\n",
       "\t6 & 15 & BIBB MEDICAL CENTER & 010058 & 2021-02-19 & 1007.0 & 0.833333 & 0.0 & 0.320396 & 2021-03-01 & \\emph{missing} \\\\\n",
       "\t7 & 16 & ST VINCENTS BLOUNT & 011305 & 2021-02-19 & 1009.0 & 0.966667 & 0.2 & 0.920051 & 2021-03-01 & \\emph{missing} \\\\\n",
       "\t8 & 17 & BULLOCK COUNTY HOSPITAL & 010110 & 2021-02-19 & 1011.0 & 0.0666667 & 0.0 & 0.0123677 & 2021-03-01 & \\emph{missing} \\\\\n",
       "\t9 & 18 & REGIONAL MEDICAL CENTER OF CENTRAL ALABAMA & 010150 & 2021-02-19 & 1013.0 & 0.966667 & 0.0 & 0.326176 & 2021-03-01 & \\emph{missing} \\\\\n",
       "\t10 & 19 & NOLAND HOSPITAL ANNISTON II, LLC & 012011 & 2021-02-19 & 1015.0 & 0.0188447 & \\emph{missing} & 0.0690311 & 2021-03-01 & \\emph{missing} \\\\\n",
       "\t11 & 20 & STRINGFELLOW MEMORIAL HOSPITAL & 010038 & 2021-02-19 & 1015.0 & 0.00076176 & \\emph{missing} & 0.00279045 & 2021-03-01 & \\emph{missing} \\\\\n",
       "\t12 & 21 & NORTHEAST ALABAMA REGIONAL MEDICAL CENTER & 010078 & 2021-02-19 & 1015.0 & 0.980394 & 0.395683 & 3.59134 & 2021-03-01 & \\emph{missing} \\\\\n",
       "\t13 & 22 & EAMC - LANIER & 010175 & 2021-02-19 & 1017.0 & 0.909091 & \\emph{missing} & 0.539231 & 2021-03-01 & \\emph{missing} \\\\\n",
       "\t14 & 23 & FLOYD CHEROKEE MEDICAL CENTER & 010022 & 2021-02-19 & 1019.0 & 0.833333 & 0.0 & 0.187084 & 2021-03-01 & \\emph{missing} \\\\\n",
       "\t15 & 24 & ST VINCENT'S CHILTON & 010173 & 2021-02-19 & 1021.0 & 0.933333 & \\emph{missing} & 0.909172 & 2021-03-01 & \\emph{missing} \\\\\n",
       "\t16 & 25 & CHOCTAW GENERAL HOSPITAL & 011304 & 2021-02-19 & 1023.0 & 0.933333 & \\emph{missing} & 0.0752817 & 2021-03-01 & \\emph{missing} \\\\\n",
       "\t17 & 26 & THOMASVILLE REGIONAL MEDICAL CENTER & 010174 & 2021-02-19 & 1025.0 & 0.295181 & 0.0 & 0.0944423 & 2021-03-01 & \\emph{missing} \\\\\n",
       "\t18 & 27 & GROVE HILL MEMORIAL HOSPITAL & 010091 & 2021-02-19 & 1025.0 & 0.21391 & \\emph{missing} & 0.0684399 & 2021-03-01 & \\emph{missing} \\\\\n",
       "\t19 & 28 & JACKSON MEDICAL CENTER & 010128 & 2021-02-19 & 1025.0 & 0.49091 & 0.0 & 0.157065 & 2021-03-01 & \\emph{missing} \\\\\n",
       "\t20 & 29 & CLAY COUNTY HOSPITAL & 010073 & 2021-02-19 & 1027.0 & 1.0 & 1.0 & 0.321292 & 2021-03-01 & \\emph{missing} \\\\\n",
       "\t21 & 30 & MEDICAL CENTER ENTERPRISE & 010049 & 2021-02-19 & 1031.0 & 1.0 & 0.147059 & 0.728413 & 2021-03-01 & \\emph{missing} \\\\\n",
       "\t22 & 31 & SHOALS HOSPITAL & 010157 & 2021-02-19 & 1033.0 & 0.15111 & \\emph{missing} & 0.0911316 & 2021-03-01 & \\emph{missing} \\\\\n",
       "\t23 & 32 & HELEN KELLER MEMORIAL HOSPITAL & 010019 & 2021-02-19 & 1033.0 & 0.84889 & 0.53125 & 0.51195 & 2021-03-01 & \\emph{missing} \\\\\n",
       "\t24 & 33 & EVERGREEN MEDICAL CENTER & 010148 & 2021-02-19 & 1035.0 & 1.0 & 0.0 & 0.107545 & 2021-03-01 & \\emph{missing} \\\\\n",
       "\t25 & 34 & ANDALUSIA HEALTH & 010036 & 2021-02-19 & 1039.0 & 0.42531 & 0.875 & 0.337773 & 2021-03-01 & \\emph{missing} \\\\\n",
       "\t26 & 35 & MIZELL MEMORIAL HOSPITAL & 010007 & 2021-02-19 & 1039.0 & 0.57469 & 0.204082 & 0.456408 & 2021-03-01 & \\emph{missing} \\\\\n",
       "\t27 & 36 & CRENSHAW COMMUNITY HOSPITAL & 010008 & 2021-02-19 & 1041.0 & 1.0 & 0.0 & 0.301127 & 2021-03-01 & \\emph{missing} \\\\\n",
       "\t28 & 37 & CULLMAN REGIONAL MEDICAL CENTER & 010035 & 2021-02-19 & 1043.0 & 1.0 & 0.282828 & 0.992726 & 2021-03-01 & \\emph{missing} \\\\\n",
       "\t29 & 38 & DALE MEDICAL CENTER & 010021 & 2021-02-19 & 1045.0 & 1.0 & 0.4 & 0.845058 & 2021-03-01 & \\emph{missing} \\\\\n",
       "\t30 & 39 & VAUGHAN REGIONAL MEDICAL CENTER PARKWAY CAMPUS & 010118 & 2021-02-19 & 1047.0 & 1.0 & 0.34375 & 0.917031 & 2021-03-01 & \\emph{missing} \\\\\n",
       "\t$\\dots$ & $\\dots$ & $\\dots$ & $\\dots$ & $\\dots$ & $\\dots$ & $\\dots$ & $\\dots$ & $\\dots$ & $\\dots$ & $\\dots$ \\\\\n",
       "\\end{tabular}\n"
      ],
      "text/plain": [
       "\u001b[1m125242×10 DataFrame\u001b[0m\n",
       "\u001b[1m    Row \u001b[0m│\u001b[1m Column1 \u001b[0m\u001b[1m hospital_name                     \u001b[0m\u001b[1m ccn     \u001b[0m\u001b[1m collection_week \u001b[0m\u001b[1m fips_code \u001b[0m\u001b[1m hospitalization_percentage \u001b[0m\u001b[1m ICU_percentages \u001b[0m\u001b[1m hospitalization_2021-03-02 \u001b[0m\u001b[1m target_date \u001b[0m\u001b[1m hospitalizations \u001b[0m\n",
       "\u001b[1m        \u001b[0m│\u001b[90m Int64   \u001b[0m\u001b[90m String                            \u001b[0m\u001b[90m String? \u001b[0m\u001b[90m Date            \u001b[0m\u001b[90m Float64   \u001b[0m\u001b[90m Union{Missing, Float64}    \u001b[0m\u001b[90m Float64?        \u001b[0m\u001b[90m Union{Missing, Float64}    \u001b[0m\u001b[90m Date        \u001b[0m\u001b[90m Float64?         \u001b[0m\n",
       "────────┼─────────────────────────────────────────────────────────────────────────────────────────────────────────────────────────────────────────────────────────────────────────────────────────\n",
       "      1 │      10  PRATTVILLE BAPTIST HOSPITAL        010108   2021-02-19          1001.0                  1.0               0.21875                    1.70004     2021-03-01  \u001b[90m missing          \u001b[0m\n",
       "      2 │      11  NORTH BALDWIN INFIRMARY            010129   2021-02-19          1003.0                  0.160221          0.0526316                  0.655209    2021-03-01  \u001b[90m missing          \u001b[0m\n",
       "      3 │      12  SOUTH BALDWIN REGIONAL MEDICAL C…  010083   2021-02-19          1003.0                  0.329912          0.370787                   1.34915     2021-03-01  \u001b[90m missing          \u001b[0m\n",
       "      4 │      13  THOMAS HOSPITAL                    010100   2021-02-19          1003.0                  0.509867          0.337209                   2.08506     2021-03-01  \u001b[90m missing          \u001b[0m\n",
       "      5 │      14  MEDICAL CENTER BARBOUR             010069   2021-02-19          1005.0                  1.0               0.684211                   0.505463    2021-03-01  \u001b[90m missing          \u001b[0m\n",
       "      6 │      15  BIBB MEDICAL CENTER                010058   2021-02-19          1007.0                  0.833333          0.0                        0.320396    2021-03-01  \u001b[90m missing          \u001b[0m\n",
       "      7 │      16  ST VINCENTS BLOUNT                 011305   2021-02-19          1009.0                  0.966667          0.2                        0.920051    2021-03-01  \u001b[90m missing          \u001b[0m\n",
       "      8 │      17  BULLOCK COUNTY HOSPITAL            010110   2021-02-19          1011.0                  0.0666667         0.0                        0.0123677   2021-03-01  \u001b[90m missing          \u001b[0m\n",
       "      9 │      18  REGIONAL MEDICAL CENTER OF CENTR…  010150   2021-02-19          1013.0                  0.966667          0.0                        0.326176    2021-03-01  \u001b[90m missing          \u001b[0m\n",
       "     10 │      19  NOLAND HOSPITAL ANNISTON II, LLC   012011   2021-02-19          1015.0                  0.0188447  \u001b[90m missing         \u001b[0m                 0.0690311   2021-03-01  \u001b[90m missing          \u001b[0m\n",
       "     11 │      20  STRINGFELLOW MEMORIAL HOSPITAL     010038   2021-02-19          1015.0                  0.00076176 \u001b[90m missing         \u001b[0m                 0.00279045  2021-03-01  \u001b[90m missing          \u001b[0m\n",
       "   ⋮    │    ⋮                     ⋮                     ⋮            ⋮             ⋮                  ⋮                      ⋮                     ⋮                    ⋮              ⋮\n",
       " 125233 │    4823  NIOBRARA HEALTH & LIFE CENTER     \u001b[90m missing \u001b[0m 2021-02-19         56027.0                  0.2        \u001b[90m missing         \u001b[0m\u001b[90m           missing          \u001b[0m 2021-03-27         0.00457843\n",
       " 125234 │    4824  CODY REGIONAL HEALTH              \u001b[90m missing \u001b[0m 2021-02-19         56029.0                  0.666889          0.555556  \u001b[90m           missing          \u001b[0m 2021-03-27         0.130614\n",
       " 125235 │    4825  POWELL VALLEY HOSPITAL            \u001b[90m missing \u001b[0m 2021-02-19         56029.0                  0.233111          0.0       \u001b[90m           missing          \u001b[0m 2021-03-27         0.0456559\n",
       " 125236 │    4826  PLATTE COUNTY MEMORIAL HOSPITAL   \u001b[90m missing \u001b[0m 2021-02-19         56031.0                  0.833333          0.0       \u001b[90m           missing          \u001b[0m 2021-03-27         0.0683585\n",
       " 125237 │    4827  SHERIDAN MEMORIAL HOSPITAL        \u001b[90m missing \u001b[0m 2021-02-19         56033.0                  1.0               0.333333  \u001b[90m           missing          \u001b[0m 2021-03-27         0.146745\n",
       " 125238 │    4828  MEMORIAL HOSPITAL SWEETWATER COU… \u001b[90m missing \u001b[0m 2021-02-19         56037.0                  0.8               1.0       \u001b[90m           missing          \u001b[0m 2021-03-27         0.424972\n",
       " 125239 │    4829  ST JOHNS MEDICAL CENTER           \u001b[90m missing \u001b[0m 2021-02-19         56039.0                  1.0               0.166667  \u001b[90m           missing          \u001b[0m 2021-03-27         0.141804\n",
       " 125240 │    4830  EVANSTON REGIONAL HOSPITAL        \u001b[90m missing \u001b[0m 2021-02-19         56041.0                  0.533333   \u001b[90m missing         \u001b[0m\u001b[90m           missing          \u001b[0m 2021-03-27         0.111239\n",
       " 125241 │    4831  WASHAKIE MEDICAL CENTER           \u001b[90m missing \u001b[0m 2021-02-19         56043.0                  0.9        \u001b[90m missing         \u001b[0m\u001b[90m           missing          \u001b[0m 2021-03-27         0.0446397\n",
       " 125242 │    4832  WESTON COUNTY HEALTH SERVICES     \u001b[90m missing \u001b[0m 2021-02-19         56045.0                  0.3        \u001b[90m missing         \u001b[0m\u001b[90m           missing          \u001b[0m 2021-03-27         0.00770008\n",
       "\u001b[31m                                                                                                                                                                               125221 rows omitted\u001b[0m"
      ]
     },
     "execution_count": 3,
     "metadata": {},
     "output_type": "execute_result"
    }
   ],
   "source": [
    "rawdata = DataFrame(CSV.File(\"../rawdata/output_HHS_US_2021-03-01_one_column.csv\"))"
   ]
  },
  {
   "cell_type": "code",
   "execution_count": 4,
   "metadata": {},
   "outputs": [],
   "source": [
    "function firstval(xs)\n",
    "    isbad(x) = isnothing(x) || ismissing(x)\n",
    "    if all(isbad.(xs))\n",
    "        return missing\n",
    "    else\n",
    "        return xs[findfirst(x -> !isbad(x), xs)]\n",
    "    end\n",
    "end;"
   ]
  },
  {
   "cell_type": "code",
   "execution_count": 5,
   "metadata": {},
   "outputs": [],
   "source": [
    "ccn_lookup_df = combine(groupby(rawdata, [:Column1, :hospital_name]), :ccn => firstval => :ccn)\n",
    "ccn_lookup = Dict(row.Column1 => row.ccn for row in eachrow(ccn_lookup_df));"
   ]
  },
  {
   "cell_type": "code",
   "execution_count": 6,
   "metadata": {},
   "outputs": [],
   "source": [
    "filter!(row -> ismissing(row[\"hospitalization_2021-03-02\"]), rawdata);\n",
    "filter!(row -> row.target_date != Date(2021, 03, 01), rawdata);"
   ]
  },
  {
   "cell_type": "code",
   "execution_count": 7,
   "metadata": {},
   "outputs": [
    {
     "data": {
      "text/html": [
       "<table class=\"data-frame\"><thead><tr><th></th><th>hospital</th><th>hospital_id</th><th>date</th><th>admitted_moderate_icu</th><th>admitted_moderate_acute</th><th>admitted_moderate_allbeds</th></tr><tr><th></th><th>String</th><th>String?</th><th>Date</th><th>Float64?</th><th>Float64?</th><th>Float64?</th></tr></thead><tbody><p>120,425 rows × 6 columns</p><tr><th>1</th><td>ABBEVILLE AREA MEDICAL CENTER</td><td>421301</td><td>2021-03-03</td><td>0.0</td><td>0.309348</td><td>0.309348</td></tr><tr><th>2</th><td>ABBEVILLE AREA MEDICAL CENTER</td><td>421301</td><td>2021-03-04</td><td>0.0</td><td>0.305027</td><td>0.305027</td></tr><tr><th>3</th><td>ABBEVILLE AREA MEDICAL CENTER</td><td>421301</td><td>2021-03-05</td><td>0.0</td><td>0.295876</td><td>0.295876</td></tr><tr><th>4</th><td>ABBEVILLE AREA MEDICAL CENTER</td><td>421301</td><td>2021-03-06</td><td>0.0</td><td>0.294351</td><td>0.294351</td></tr><tr><th>5</th><td>ABBEVILLE AREA MEDICAL CENTER</td><td>421301</td><td>2021-03-07</td><td>0.0</td><td>0.259991</td><td>0.259991</td></tr><tr><th>6</th><td>ABBEVILLE AREA MEDICAL CENTER</td><td>421301</td><td>2021-03-08</td><td>0.0</td><td>0.266955</td><td>0.266955</td></tr><tr><th>7</th><td>ABBEVILLE AREA MEDICAL CENTER</td><td>421301</td><td>2021-03-09</td><td>0.0</td><td>0.253955</td><td>0.253955</td></tr><tr><th>8</th><td>ABBEVILLE AREA MEDICAL CENTER</td><td>421301</td><td>2021-03-10</td><td>0.0</td><td>0.243277</td><td>0.243277</td></tr><tr><th>9</th><td>ABBEVILLE AREA MEDICAL CENTER</td><td>421301</td><td>2021-03-11</td><td>0.0</td><td>0.240259</td><td>0.240259</td></tr><tr><th>10</th><td>ABBEVILLE AREA MEDICAL CENTER</td><td>421301</td><td>2021-03-12</td><td>0.0</td><td>0.23376</td><td>0.23376</td></tr><tr><th>11</th><td>ABBEVILLE AREA MEDICAL CENTER</td><td>421301</td><td>2021-03-13</td><td>0.0</td><td>0.227724</td><td>0.227724</td></tr><tr><th>12</th><td>ABBEVILLE AREA MEDICAL CENTER</td><td>421301</td><td>2021-03-14</td><td>0.0</td><td>0.214808</td><td>0.214808</td></tr><tr><th>13</th><td>ABBEVILLE AREA MEDICAL CENTER</td><td>421301</td><td>2021-03-15</td><td>0.0</td><td>0.220229</td><td>0.220229</td></tr><tr><th>14</th><td>ABBEVILLE AREA MEDICAL CENTER</td><td>421301</td><td>2021-03-16</td><td>0.0</td><td>0.214582</td><td>0.214582</td></tr><tr><th>15</th><td>ABBEVILLE AREA MEDICAL CENTER</td><td>421301</td><td>2021-03-17</td><td>0.0</td><td>0.206224</td><td>0.206224</td></tr><tr><th>16</th><td>ABBEVILLE AREA MEDICAL CENTER</td><td>421301</td><td>2021-03-18</td><td>0.0</td><td>0.203514</td><td>0.203514</td></tr><tr><th>17</th><td>ABBEVILLE AREA MEDICAL CENTER</td><td>421301</td><td>2021-03-19</td><td>0.0</td><td>0.19877</td><td>0.19877</td></tr><tr><th>18</th><td>ABBEVILLE AREA MEDICAL CENTER</td><td>421301</td><td>2021-03-20</td><td>0.0</td><td>0.197415</td><td>0.197415</td></tr><tr><th>19</th><td>ABBEVILLE AREA MEDICAL CENTER</td><td>421301</td><td>2021-03-21</td><td>0.0</td><td>0.192216</td><td>0.192216</td></tr><tr><th>20</th><td>ABBEVILLE AREA MEDICAL CENTER</td><td>421301</td><td>2021-03-22</td><td>0.0</td><td>0.206421</td><td>0.206421</td></tr><tr><th>21</th><td>ABBEVILLE AREA MEDICAL CENTER</td><td>421301</td><td>2021-03-23</td><td>0.0</td><td>0.195195</td><td>0.195195</td></tr><tr><th>22</th><td>ABBEVILLE AREA MEDICAL CENTER</td><td>421301</td><td>2021-03-24</td><td>0.0</td><td>0.187634</td><td>0.187634</td></tr><tr><th>23</th><td>ABBEVILLE AREA MEDICAL CENTER</td><td>421301</td><td>2021-03-25</td><td>0.0</td><td>0.185573</td><td>0.185573</td></tr><tr><th>24</th><td>ABBEVILLE AREA MEDICAL CENTER</td><td>421301</td><td>2021-03-26</td><td>0.0</td><td>0.179616</td><td>0.179616</td></tr><tr><th>25</th><td>ABBEVILLE AREA MEDICAL CENTER</td><td>421301</td><td>2021-03-27</td><td>0.0</td><td>0.185114</td><td>0.185114</td></tr><tr><th>26</th><td>ABBEVILLE GENERAL HOSPITAL</td><td>190034</td><td>2021-03-03</td><td>0.0</td><td>0.430471</td><td>0.430471</td></tr><tr><th>27</th><td>ABBEVILLE GENERAL HOSPITAL</td><td>190034</td><td>2021-03-04</td><td>0.0</td><td>0.398726</td><td>0.398726</td></tr><tr><th>28</th><td>ABBEVILLE GENERAL HOSPITAL</td><td>190034</td><td>2021-03-05</td><td>0.0</td><td>0.424757</td><td>0.424757</td></tr><tr><th>29</th><td>ABBEVILLE GENERAL HOSPITAL</td><td>190034</td><td>2021-03-06</td><td>0.0</td><td>0.36444</td><td>0.36444</td></tr><tr><th>30</th><td>ABBEVILLE GENERAL HOSPITAL</td><td>190034</td><td>2021-03-07</td><td>0.0</td><td>0.273844</td><td>0.273844</td></tr><tr><th>&vellip;</th><td>&vellip;</td><td>&vellip;</td><td>&vellip;</td><td>&vellip;</td><td>&vellip;</td><td>&vellip;</td></tr></tbody></table>"
      ],
      "text/latex": [
       "\\begin{tabular}{r|cccccc}\n",
       "\t& hospital & hospital\\_id & date & admitted\\_moderate\\_icu & admitted\\_moderate\\_acute & admitted\\_moderate\\_allbeds\\\\\n",
       "\t\\hline\n",
       "\t& String & String? & Date & Float64? & Float64? & Float64?\\\\\n",
       "\t\\hline\n",
       "\t1 & ABBEVILLE AREA MEDICAL CENTER & 421301 & 2021-03-03 & 0.0 & 0.309348 & 0.309348 \\\\\n",
       "\t2 & ABBEVILLE AREA MEDICAL CENTER & 421301 & 2021-03-04 & 0.0 & 0.305027 & 0.305027 \\\\\n",
       "\t3 & ABBEVILLE AREA MEDICAL CENTER & 421301 & 2021-03-05 & 0.0 & 0.295876 & 0.295876 \\\\\n",
       "\t4 & ABBEVILLE AREA MEDICAL CENTER & 421301 & 2021-03-06 & 0.0 & 0.294351 & 0.294351 \\\\\n",
       "\t5 & ABBEVILLE AREA MEDICAL CENTER & 421301 & 2021-03-07 & 0.0 & 0.259991 & 0.259991 \\\\\n",
       "\t6 & ABBEVILLE AREA MEDICAL CENTER & 421301 & 2021-03-08 & 0.0 & 0.266955 & 0.266955 \\\\\n",
       "\t7 & ABBEVILLE AREA MEDICAL CENTER & 421301 & 2021-03-09 & 0.0 & 0.253955 & 0.253955 \\\\\n",
       "\t8 & ABBEVILLE AREA MEDICAL CENTER & 421301 & 2021-03-10 & 0.0 & 0.243277 & 0.243277 \\\\\n",
       "\t9 & ABBEVILLE AREA MEDICAL CENTER & 421301 & 2021-03-11 & 0.0 & 0.240259 & 0.240259 \\\\\n",
       "\t10 & ABBEVILLE AREA MEDICAL CENTER & 421301 & 2021-03-12 & 0.0 & 0.23376 & 0.23376 \\\\\n",
       "\t11 & ABBEVILLE AREA MEDICAL CENTER & 421301 & 2021-03-13 & 0.0 & 0.227724 & 0.227724 \\\\\n",
       "\t12 & ABBEVILLE AREA MEDICAL CENTER & 421301 & 2021-03-14 & 0.0 & 0.214808 & 0.214808 \\\\\n",
       "\t13 & ABBEVILLE AREA MEDICAL CENTER & 421301 & 2021-03-15 & 0.0 & 0.220229 & 0.220229 \\\\\n",
       "\t14 & ABBEVILLE AREA MEDICAL CENTER & 421301 & 2021-03-16 & 0.0 & 0.214582 & 0.214582 \\\\\n",
       "\t15 & ABBEVILLE AREA MEDICAL CENTER & 421301 & 2021-03-17 & 0.0 & 0.206224 & 0.206224 \\\\\n",
       "\t16 & ABBEVILLE AREA MEDICAL CENTER & 421301 & 2021-03-18 & 0.0 & 0.203514 & 0.203514 \\\\\n",
       "\t17 & ABBEVILLE AREA MEDICAL CENTER & 421301 & 2021-03-19 & 0.0 & 0.19877 & 0.19877 \\\\\n",
       "\t18 & ABBEVILLE AREA MEDICAL CENTER & 421301 & 2021-03-20 & 0.0 & 0.197415 & 0.197415 \\\\\n",
       "\t19 & ABBEVILLE AREA MEDICAL CENTER & 421301 & 2021-03-21 & 0.0 & 0.192216 & 0.192216 \\\\\n",
       "\t20 & ABBEVILLE AREA MEDICAL CENTER & 421301 & 2021-03-22 & 0.0 & 0.206421 & 0.206421 \\\\\n",
       "\t21 & ABBEVILLE AREA MEDICAL CENTER & 421301 & 2021-03-23 & 0.0 & 0.195195 & 0.195195 \\\\\n",
       "\t22 & ABBEVILLE AREA MEDICAL CENTER & 421301 & 2021-03-24 & 0.0 & 0.187634 & 0.187634 \\\\\n",
       "\t23 & ABBEVILLE AREA MEDICAL CENTER & 421301 & 2021-03-25 & 0.0 & 0.185573 & 0.185573 \\\\\n",
       "\t24 & ABBEVILLE AREA MEDICAL CENTER & 421301 & 2021-03-26 & 0.0 & 0.179616 & 0.179616 \\\\\n",
       "\t25 & ABBEVILLE AREA MEDICAL CENTER & 421301 & 2021-03-27 & 0.0 & 0.185114 & 0.185114 \\\\\n",
       "\t26 & ABBEVILLE GENERAL HOSPITAL & 190034 & 2021-03-03 & 0.0 & 0.430471 & 0.430471 \\\\\n",
       "\t27 & ABBEVILLE GENERAL HOSPITAL & 190034 & 2021-03-04 & 0.0 & 0.398726 & 0.398726 \\\\\n",
       "\t28 & ABBEVILLE GENERAL HOSPITAL & 190034 & 2021-03-05 & 0.0 & 0.424757 & 0.424757 \\\\\n",
       "\t29 & ABBEVILLE GENERAL HOSPITAL & 190034 & 2021-03-06 & 0.0 & 0.36444 & 0.36444 \\\\\n",
       "\t30 & ABBEVILLE GENERAL HOSPITAL & 190034 & 2021-03-07 & 0.0 & 0.273844 & 0.273844 \\\\\n",
       "\t$\\dots$ & $\\dots$ & $\\dots$ & $\\dots$ & $\\dots$ & $\\dots$ & $\\dots$ \\\\\n",
       "\\end{tabular}\n"
      ],
      "text/plain": [
       "\u001b[1m120425×6 DataFrame\u001b[0m\n",
       "\u001b[1m    Row \u001b[0m│\u001b[1m hospital                          \u001b[0m\u001b[1m hospital_id \u001b[0m\u001b[1m date       \u001b[0m\u001b[1m admitted_moderate_icu \u001b[0m\u001b[1m admitted_moderate_acute \u001b[0m\u001b[1m admitted_moderate_allbeds \u001b[0m\n",
       "\u001b[1m        \u001b[0m│\u001b[90m String                            \u001b[0m\u001b[90m String?     \u001b[0m\u001b[90m Date       \u001b[0m\u001b[90m Float64?              \u001b[0m\u001b[90m Union{Missing, Float64} \u001b[0m\u001b[90m Union{Missing, Float64}   \u001b[0m\n",
       "────────┼───────────────────────────────────────────────────────────────────────────────────────────────────────────────────────────────────────\n",
       "      1 │ ABBEVILLE AREA MEDICAL CENTER      421301       2021-03-03               0.0                      0.309348                   0.309348\n",
       "      2 │ ABBEVILLE AREA MEDICAL CENTER      421301       2021-03-04               0.0                      0.305027                   0.305027\n",
       "      3 │ ABBEVILLE AREA MEDICAL CENTER      421301       2021-03-05               0.0                      0.295876                   0.295876\n",
       "      4 │ ABBEVILLE AREA MEDICAL CENTER      421301       2021-03-06               0.0                      0.294351                   0.294351\n",
       "      5 │ ABBEVILLE AREA MEDICAL CENTER      421301       2021-03-07               0.0                      0.259991                   0.259991\n",
       "      6 │ ABBEVILLE AREA MEDICAL CENTER      421301       2021-03-08               0.0                      0.266955                   0.266955\n",
       "      7 │ ABBEVILLE AREA MEDICAL CENTER      421301       2021-03-09               0.0                      0.253955                   0.253955\n",
       "      8 │ ABBEVILLE AREA MEDICAL CENTER      421301       2021-03-10               0.0                      0.243277                   0.243277\n",
       "      9 │ ABBEVILLE AREA MEDICAL CENTER      421301       2021-03-11               0.0                      0.240259                   0.240259\n",
       "     10 │ ABBEVILLE AREA MEDICAL CENTER      421301       2021-03-12               0.0                      0.23376                    0.23376\n",
       "     11 │ ABBEVILLE AREA MEDICAL CENTER      421301       2021-03-13               0.0                      0.227724                   0.227724\n",
       "   ⋮    │                 ⋮                       ⋮           ⋮                 ⋮                       ⋮                         ⋮\n",
       " 120416 │ ZUCKERBERG SAN FRANCISCO GENERAL…  050228       2021-03-18               0.182782                 0.528038                   0.71082\n",
       " 120417 │ ZUCKERBERG SAN FRANCISCO GENERAL…  050228       2021-03-19               0.179041                 0.517228                   0.696269\n",
       " 120418 │ ZUCKERBERG SAN FRANCISCO GENERAL…  050228       2021-03-20               0.18021                  0.520606                   0.700816\n",
       " 120419 │ ZUCKERBERG SAN FRANCISCO GENERAL…  050228       2021-03-21               0.168608                 0.487088                   0.655696\n",
       " 120420 │ ZUCKERBERG SAN FRANCISCO GENERAL…  050228       2021-03-22               0.167387                 0.483564                   0.650951\n",
       " 120421 │ ZUCKERBERG SAN FRANCISCO GENERAL…  050228       2021-03-23               0.171545                 0.495574                   0.667119\n",
       " 120422 │ ZUCKERBERG SAN FRANCISCO GENERAL…  050228       2021-03-24               0.172313                 0.497794                   0.670107\n",
       " 120423 │ ZUCKERBERG SAN FRANCISCO GENERAL…  050228       2021-03-25               0.168924                 0.488002                   0.656926\n",
       " 120424 │ ZUCKERBERG SAN FRANCISCO GENERAL…  050228       2021-03-26               0.172449                 0.498185                   0.670634\n",
       " 120425 │ ZUCKERBERG SAN FRANCISCO GENERAL…  050228       2021-03-27               0.175115                 0.505888                   0.681003\n",
       "\u001b[31m                                                                                                                             120404 rows omitted\u001b[0m"
      ]
     },
     "execution_count": 7,
     "metadata": {},
     "output_type": "execute_result"
    }
   ],
   "source": [
    "data = select(rawdata,\n",
    "    :hospital_name => :hospital,\n",
    "    :Column1 => ByRow(x -> ccn_lookup[x]) => :hospital_id,\n",
    "    :target_date => :date,\n",
    "    [\"hospitalizations\", \"ICU_percentages\"] => ByRow((x,y) -> x*coalesce(y,0.3)) => :admitted_moderate_icu,\n",
    "    [\"hospitalizations\", \"ICU_percentages\"] => ByRow((x,y) -> x*(1.0-coalesce(y,0.3))) => :admitted_moderate_acute,\n",
    "    \"hospitalizations\" => :admitted_moderate_allbeds,\n",
    ")\n",
    "sort!(data, [:hospital, :hospital_id, :date])"
   ]
  },
  {
   "cell_type": "code",
   "execution_count": 8,
   "metadata": {},
   "outputs": [
    {
     "data": {
      "text/plain": [
       "\"../data/hhs_forecast_2021_03_01.csv\""
      ]
     },
     "execution_count": 8,
     "metadata": {},
     "output_type": "execute_result"
    }
   ],
   "source": [
    "data |> CSV.write(\"../data/hhs_forecast_2021_03_01.csv\")"
   ]
  },
  {
   "cell_type": "code",
   "execution_count": null,
   "metadata": {},
   "outputs": [],
   "source": []
  }
 ],
 "metadata": {
  "@webio": {
   "lastCommId": null,
   "lastKernelId": null
  },
  "kernelspec": {
   "display_name": "Julia 1.5.3",
   "language": "julia",
   "name": "julia-1.5"
  },
  "language_info": {
   "file_extension": ".jl",
   "mimetype": "application/julia",
   "name": "julia",
   "version": "1.5.3"
  }
 },
 "nbformat": 4,
 "nbformat_minor": 4
}
