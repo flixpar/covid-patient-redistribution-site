{
 "cells": [
  {
   "cell_type": "code",
   "execution_count": 1,
   "metadata": {},
   "outputs": [],
   "source": [
    "using CSV\n",
    "using DataFrames\n",
    "using Dates"
   ]
  },
  {
   "cell_type": "code",
   "execution_count": 2,
   "metadata": {},
   "outputs": [],
   "source": [
    "ENV[\"COLUMNS\"] = 1000;"
   ]
  },
  {
   "cell_type": "code",
   "execution_count": 3,
   "metadata": {},
   "outputs": [
    {
     "data": {
      "text/html": [
       "<table class=\"data-frame\"><thead><tr><th></th><th>Column1</th><th>hospital_name</th><th>ccn</th><th>collection_week</th><th>fips_code</th><th>hospitalization_percentage</th><th>ICU_percentages</th><th>hospitalization_2021-01-12</th><th>target_date</th></tr><tr><th></th><th>Int64</th><th>String</th><th>String?</th><th>Date</th><th>Float64</th><th>Float64?</th><th>Float64?</th><th>Float64?</th><th>Date</th></tr></thead><tbody><p>125,294 rows × 9 columns</p><tr><th>1</th><td>10</td><td>PRATTVILLE BAPTIST HOSPITAL</td><td>010108</td><td>2021-01-08</td><td>1001.0</td><td>1.0</td><td>0.130584</td><td>3.53556</td><td>2021-01-12</td></tr><tr><th>2</th><td>11</td><td>THOMAS HOSPITAL</td><td>010100</td><td>2021-01-08</td><td>1003.0</td><td>0.516628</td><td>0.265781</td><td>5.52325</td><td>2021-01-12</td></tr><tr><th>3</th><td>12</td><td>NORTH BALDWIN INFIRMARY</td><td>010129</td><td>2021-01-08</td><td>1003.0</td><td>0.165797</td><td>0.135714</td><td>1.77253</td><td>2021-01-12</td></tr><tr><th>4</th><td>13</td><td>SOUTH BALDWIN REGIONAL MEDICAL CENTER</td><td>010083</td><td>2021-01-08</td><td>1003.0</td><td>0.317575</td><td>0.292683</td><td>3.39518</td><td>2021-01-12</td></tr><tr><th>5</th><td>14</td><td>MEDICAL CENTER BARBOUR</td><td>010069</td><td>2021-01-08</td><td>1005.0</td><td>1.0</td><td>0.277778</td><td>0.94236</td><td>2021-01-12</td></tr><tr><th>6</th><td>15</td><td>BIBB MEDICAL CENTER</td><td>010058</td><td>2021-01-08</td><td>1007.0</td><td>0.791667</td><td><em>missing</em></td><td>1.27754</td><td>2021-01-12</td></tr><tr><th>7</th><td>16</td><td>ST VINCENTS BLOUNT</td><td>011305</td><td>2021-01-08</td><td>1009.0</td><td>0.958333</td><td>0.102041</td><td>3.26347</td><td>2021-01-12</td></tr><tr><th>8</th><td>17</td><td>BULLOCK COUNTY HOSPITAL</td><td>010110</td><td>2021-01-08</td><td>1011.0</td><td>0.0</td><td><em>missing</em></td><td>0.0</td><td>2021-01-12</td></tr><tr><th>9</th><td>18</td><td>REGIONAL MEDICAL CENTER OF CENTRAL ALABAMA</td><td>010150</td><td>2021-01-08</td><td>1013.0</td><td>0.958333</td><td>0.262295</td><td>0.664965</td><td>2021-01-12</td></tr><tr><th>10</th><td>19</td><td>NORTHEAST ALABAMA REGIONAL MEDICAL CENTER</td><td>010078</td><td>2021-01-08</td><td>1015.0</td><td>0.975492</td><td>0.285047</td><td>6.22748</td><td>2021-01-12</td></tr><tr><th>11</th><td>20</td><td>STRINGFELLOW MEMORIAL HOSPITAL</td><td>010038</td><td>2021-01-08</td><td>1015.0</td><td>0.0009522</td><td><em>missing</em></td><td>0.00607879</td><td>2021-01-12</td></tr><tr><th>12</th><td>21</td><td>NOLAND HOSPITAL ANNISTON II, LLC</td><td>012011</td><td>2021-01-08</td><td>1015.0</td><td>0.0235559</td><td>0.0</td><td>0.150379</td><td>2021-01-12</td></tr><tr><th>13</th><td>22</td><td>EAMC - LANIER</td><td>010175</td><td>2021-01-08</td><td>1017.0</td><td>1.0</td><td>0.0</td><td>1.10431</td><td>2021-01-12</td></tr><tr><th>14</th><td>23</td><td>FLOYD CHEROKEE MEDICAL CENTER</td><td>010022</td><td>2021-01-08</td><td>1019.0</td><td>0.833333</td><td>0.0</td><td>0.926732</td><td>2021-01-12</td></tr><tr><th>15</th><td>24</td><td>ST VINCENT'S CHILTON</td><td>010173</td><td>2021-01-08</td><td>1021.0</td><td>1.0</td><td>0.480519</td><td>1.60261</td><td>2021-01-12</td></tr><tr><th>16</th><td>25</td><td>CHOCTAW GENERAL HOSPITAL</td><td>011304</td><td>2021-01-08</td><td>1023.0</td><td>0.958333</td><td>0.0</td><td>0.257899</td><td>2021-01-12</td></tr><tr><th>17</th><td>26</td><td>JACKSON MEDICAL CENTER</td><td>010128</td><td>2021-01-08</td><td>1025.0</td><td>0.448067</td><td>0.0</td><td>0.5732</td><td>2021-01-12</td></tr><tr><th>18</th><td>27</td><td>GROVE HILL MEMORIAL HOSPITAL</td><td>010091</td><td>2021-01-08</td><td>1025.0</td><td>0.238495</td><td>0.0</td><td>0.3051</td><td>2021-01-12</td></tr><tr><th>19</th><td>28</td><td>THOMASVILLE REGIONAL MEDICAL CENTER</td><td>010174</td><td>2021-01-08</td><td>1025.0</td><td>0.313438</td><td>0.0</td><td>0.400973</td><td>2021-01-12</td></tr><tr><th>20</th><td>29</td><td>CLAY COUNTY HOSPITAL</td><td>010073</td><td>2021-01-08</td><td>1027.0</td><td>1.0</td><td>1.0</td><td>0.649806</td><td>2021-01-12</td></tr><tr><th>21</th><td>30</td><td>MEDICAL CENTER ENTERPRISE</td><td>010049</td><td>2021-01-08</td><td>1031.0</td><td>1.0</td><td>0.315476</td><td>2.66433</td><td>2021-01-12</td></tr><tr><th>22</th><td>31</td><td>SHOALS HOSPITAL</td><td>010157</td><td>2021-01-08</td><td>1033.0</td><td>0.178288</td><td>0.0</td><td>0.591657</td><td>2021-01-12</td></tr><tr><th>23</th><td>32</td><td>HELEN KELLER MEMORIAL HOSPITAL</td><td>010019</td><td>2021-01-08</td><td>1033.0</td><td>0.821712</td><td>0.460648</td><td>2.7269</td><td>2021-01-12</td></tr><tr><th>24</th><td>33</td><td>EVERGREEN MEDICAL CENTER</td><td>010148</td><td>2021-01-08</td><td>1035.0</td><td>1.0</td><td>0.0</td><td>0.296881</td><td>2021-01-12</td></tr><tr><th>25</th><td>34</td><td>MIZELL MEMORIAL HOSPITAL</td><td>010007</td><td>2021-01-08</td><td>1039.0</td><td>0.570872</td><td>0.285714</td><td>0.737844</td><td>2021-01-12</td></tr><tr><th>26</th><td>35</td><td>ANDALUSIA HEALTH</td><td>010036</td><td>2021-01-08</td><td>1039.0</td><td>0.429128</td><td>0.5</td><td>0.554642</td><td>2021-01-12</td></tr><tr><th>27</th><td>36</td><td>CRENSHAW COMMUNITY HOSPITAL</td><td>010008</td><td>2021-01-08</td><td>1041.0</td><td>1.0</td><td>0.0</td><td>0.688972</td><td>2021-01-12</td></tr><tr><th>28</th><td>37</td><td>CULLMAN REGIONAL MEDICAL CENTER</td><td>010035</td><td>2021-01-08</td><td>1043.0</td><td>1.0</td><td>0.250482</td><td>5.56902</td><td>2021-01-12</td></tr><tr><th>29</th><td>38</td><td>DALE MEDICAL CENTER</td><td>010021</td><td>2021-01-08</td><td>1045.0</td><td>1.0</td><td>0.149425</td><td>2.2114</td><td>2021-01-12</td></tr><tr><th>30</th><td>39</td><td>VAUGHAN REGIONAL MEDICAL CENTER PARKWAY CAMPUS</td><td>010118</td><td>2021-01-08</td><td>1047.0</td><td>1.0</td><td>0.170886</td><td>1.09145</td><td>2021-01-12</td></tr><tr><th>&vellip;</th><td>&vellip;</td><td>&vellip;</td><td>&vellip;</td><td>&vellip;</td><td>&vellip;</td><td>&vellip;</td><td>&vellip;</td><td>&vellip;</td><td>&vellip;</td></tr></tbody></table>"
      ],
      "text/latex": [
       "\\begin{tabular}{r|ccccccccc}\n",
       "\t& Column1 & hospital\\_name & ccn & collection\\_week & fips\\_code & hospitalization\\_percentage & ICU\\_percentages & hospitalization\\_2021-01-12 & target\\_date\\\\\n",
       "\t\\hline\n",
       "\t& Int64 & String & String? & Date & Float64 & Float64? & Float64? & Float64? & Date\\\\\n",
       "\t\\hline\n",
       "\t1 & 10 & PRATTVILLE BAPTIST HOSPITAL & 010108 & 2021-01-08 & 1001.0 & 1.0 & 0.130584 & 3.53556 & 2021-01-12 \\\\\n",
       "\t2 & 11 & THOMAS HOSPITAL & 010100 & 2021-01-08 & 1003.0 & 0.516628 & 0.265781 & 5.52325 & 2021-01-12 \\\\\n",
       "\t3 & 12 & NORTH BALDWIN INFIRMARY & 010129 & 2021-01-08 & 1003.0 & 0.165797 & 0.135714 & 1.77253 & 2021-01-12 \\\\\n",
       "\t4 & 13 & SOUTH BALDWIN REGIONAL MEDICAL CENTER & 010083 & 2021-01-08 & 1003.0 & 0.317575 & 0.292683 & 3.39518 & 2021-01-12 \\\\\n",
       "\t5 & 14 & MEDICAL CENTER BARBOUR & 010069 & 2021-01-08 & 1005.0 & 1.0 & 0.277778 & 0.94236 & 2021-01-12 \\\\\n",
       "\t6 & 15 & BIBB MEDICAL CENTER & 010058 & 2021-01-08 & 1007.0 & 0.791667 & \\emph{missing} & 1.27754 & 2021-01-12 \\\\\n",
       "\t7 & 16 & ST VINCENTS BLOUNT & 011305 & 2021-01-08 & 1009.0 & 0.958333 & 0.102041 & 3.26347 & 2021-01-12 \\\\\n",
       "\t8 & 17 & BULLOCK COUNTY HOSPITAL & 010110 & 2021-01-08 & 1011.0 & 0.0 & \\emph{missing} & 0.0 & 2021-01-12 \\\\\n",
       "\t9 & 18 & REGIONAL MEDICAL CENTER OF CENTRAL ALABAMA & 010150 & 2021-01-08 & 1013.0 & 0.958333 & 0.262295 & 0.664965 & 2021-01-12 \\\\\n",
       "\t10 & 19 & NORTHEAST ALABAMA REGIONAL MEDICAL CENTER & 010078 & 2021-01-08 & 1015.0 & 0.975492 & 0.285047 & 6.22748 & 2021-01-12 \\\\\n",
       "\t11 & 20 & STRINGFELLOW MEMORIAL HOSPITAL & 010038 & 2021-01-08 & 1015.0 & 0.0009522 & \\emph{missing} & 0.00607879 & 2021-01-12 \\\\\n",
       "\t12 & 21 & NOLAND HOSPITAL ANNISTON II, LLC & 012011 & 2021-01-08 & 1015.0 & 0.0235559 & 0.0 & 0.150379 & 2021-01-12 \\\\\n",
       "\t13 & 22 & EAMC - LANIER & 010175 & 2021-01-08 & 1017.0 & 1.0 & 0.0 & 1.10431 & 2021-01-12 \\\\\n",
       "\t14 & 23 & FLOYD CHEROKEE MEDICAL CENTER & 010022 & 2021-01-08 & 1019.0 & 0.833333 & 0.0 & 0.926732 & 2021-01-12 \\\\\n",
       "\t15 & 24 & ST VINCENT'S CHILTON & 010173 & 2021-01-08 & 1021.0 & 1.0 & 0.480519 & 1.60261 & 2021-01-12 \\\\\n",
       "\t16 & 25 & CHOCTAW GENERAL HOSPITAL & 011304 & 2021-01-08 & 1023.0 & 0.958333 & 0.0 & 0.257899 & 2021-01-12 \\\\\n",
       "\t17 & 26 & JACKSON MEDICAL CENTER & 010128 & 2021-01-08 & 1025.0 & 0.448067 & 0.0 & 0.5732 & 2021-01-12 \\\\\n",
       "\t18 & 27 & GROVE HILL MEMORIAL HOSPITAL & 010091 & 2021-01-08 & 1025.0 & 0.238495 & 0.0 & 0.3051 & 2021-01-12 \\\\\n",
       "\t19 & 28 & THOMASVILLE REGIONAL MEDICAL CENTER & 010174 & 2021-01-08 & 1025.0 & 0.313438 & 0.0 & 0.400973 & 2021-01-12 \\\\\n",
       "\t20 & 29 & CLAY COUNTY HOSPITAL & 010073 & 2021-01-08 & 1027.0 & 1.0 & 1.0 & 0.649806 & 2021-01-12 \\\\\n",
       "\t21 & 30 & MEDICAL CENTER ENTERPRISE & 010049 & 2021-01-08 & 1031.0 & 1.0 & 0.315476 & 2.66433 & 2021-01-12 \\\\\n",
       "\t22 & 31 & SHOALS HOSPITAL & 010157 & 2021-01-08 & 1033.0 & 0.178288 & 0.0 & 0.591657 & 2021-01-12 \\\\\n",
       "\t23 & 32 & HELEN KELLER MEMORIAL HOSPITAL & 010019 & 2021-01-08 & 1033.0 & 0.821712 & 0.460648 & 2.7269 & 2021-01-12 \\\\\n",
       "\t24 & 33 & EVERGREEN MEDICAL CENTER & 010148 & 2021-01-08 & 1035.0 & 1.0 & 0.0 & 0.296881 & 2021-01-12 \\\\\n",
       "\t25 & 34 & MIZELL MEMORIAL HOSPITAL & 010007 & 2021-01-08 & 1039.0 & 0.570872 & 0.285714 & 0.737844 & 2021-01-12 \\\\\n",
       "\t26 & 35 & ANDALUSIA HEALTH & 010036 & 2021-01-08 & 1039.0 & 0.429128 & 0.5 & 0.554642 & 2021-01-12 \\\\\n",
       "\t27 & 36 & CRENSHAW COMMUNITY HOSPITAL & 010008 & 2021-01-08 & 1041.0 & 1.0 & 0.0 & 0.688972 & 2021-01-12 \\\\\n",
       "\t28 & 37 & CULLMAN REGIONAL MEDICAL CENTER & 010035 & 2021-01-08 & 1043.0 & 1.0 & 0.250482 & 5.56902 & 2021-01-12 \\\\\n",
       "\t29 & 38 & DALE MEDICAL CENTER & 010021 & 2021-01-08 & 1045.0 & 1.0 & 0.149425 & 2.2114 & 2021-01-12 \\\\\n",
       "\t30 & 39 & VAUGHAN REGIONAL MEDICAL CENTER PARKWAY CAMPUS & 010118 & 2021-01-08 & 1047.0 & 1.0 & 0.170886 & 1.09145 & 2021-01-12 \\\\\n",
       "\t$\\dots$ & $\\dots$ & $\\dots$ & $\\dots$ & $\\dots$ & $\\dots$ & $\\dots$ & $\\dots$ & $\\dots$ & $\\dots$ \\\\\n",
       "\\end{tabular}\n"
      ],
      "text/plain": [
       "\u001b[1m125294×9 DataFrame\u001b[0m\n",
       "\u001b[1m    Row \u001b[0m│\u001b[1m Column1 \u001b[0m\u001b[1m hospital_name                     \u001b[0m\u001b[1m ccn     \u001b[0m\u001b[1m collection_week \u001b[0m\u001b[1m fips_code \u001b[0m\u001b[1m hospitalization_percentage \u001b[0m\u001b[1m ICU_percentages \u001b[0m\u001b[1m hospitalization_2021-01-12 \u001b[0m\u001b[1m target_date \u001b[0m\n",
       "\u001b[1m        \u001b[0m│\u001b[90m Int64   \u001b[0m\u001b[90m String                            \u001b[0m\u001b[90m String? \u001b[0m\u001b[90m Date            \u001b[0m\u001b[90m Float64   \u001b[0m\u001b[90m Union{Missing, Float64}    \u001b[0m\u001b[90m Float64?        \u001b[0m\u001b[90m Union{Missing, Float64}    \u001b[0m\u001b[90m Date        \u001b[0m\n",
       "────────┼───────────────────────────────────────────────────────────────────────────────────────────────────────────────────────────────────────────────────────────────────────\n",
       "      1 │      10  PRATTVILLE BAPTIST HOSPITAL        010108   2021-01-08          1001.0                   1.0              0.130584                   3.53556     2021-01-12\n",
       "      2 │      11  THOMAS HOSPITAL                    010100   2021-01-08          1003.0                   0.516628         0.265781                   5.52325     2021-01-12\n",
       "      3 │      12  NORTH BALDWIN INFIRMARY            010129   2021-01-08          1003.0                   0.165797         0.135714                   1.77253     2021-01-12\n",
       "      4 │      13  SOUTH BALDWIN REGIONAL MEDICAL C…  010083   2021-01-08          1003.0                   0.317575         0.292683                   3.39518     2021-01-12\n",
       "      5 │      14  MEDICAL CENTER BARBOUR             010069   2021-01-08          1005.0                   1.0              0.277778                   0.94236     2021-01-12\n",
       "      6 │      15  BIBB MEDICAL CENTER                010058   2021-01-08          1007.0                   0.791667  \u001b[90m missing         \u001b[0m                 1.27754     2021-01-12\n",
       "      7 │      16  ST VINCENTS BLOUNT                 011305   2021-01-08          1009.0                   0.958333         0.102041                   3.26347     2021-01-12\n",
       "      8 │      17  BULLOCK COUNTY HOSPITAL            010110   2021-01-08          1011.0                   0.0       \u001b[90m missing         \u001b[0m                 0.0         2021-01-12\n",
       "      9 │      18  REGIONAL MEDICAL CENTER OF CENTR…  010150   2021-01-08          1013.0                   0.958333         0.262295                   0.664965    2021-01-12\n",
       "     10 │      19  NORTHEAST ALABAMA REGIONAL MEDIC…  010078   2021-01-08          1015.0                   0.975492         0.285047                   6.22748     2021-01-12\n",
       "     11 │      20  STRINGFELLOW MEMORIAL HOSPITAL     010038   2021-01-08          1015.0                   0.0009522 \u001b[90m missing         \u001b[0m                 0.00607879  2021-01-12\n",
       "   ⋮    │    ⋮                     ⋮                     ⋮            ⋮             ⋮                  ⋮                      ⋮                     ⋮                    ⋮\n",
       " 125285 │    4825  NIOBRARA HEALTH & LIFE CENTER     \u001b[90m missing \u001b[0m 2021-01-08         56027.0                   0.25      \u001b[90m missing         \u001b[0m                 0.00812952  2021-02-06\n",
       " 125286 │    4826  POWELL VALLEY HOSPITAL            \u001b[90m missing \u001b[0m 2021-01-08         56029.0                   0.257812         0.142857                   0.187827    2021-02-06\n",
       " 125287 │    4827  CODY REGIONAL HEALTH              \u001b[90m missing \u001b[0m 2021-01-08         56029.0                   0.617188         0.241935                   0.449648    2021-02-06\n",
       " 125288 │    4828  PLATTE COUNTY MEMORIAL HOSPITAL   \u001b[90m missing \u001b[0m 2021-01-08         56031.0                   0.791667         0.0                        0.0750395   2021-02-06\n",
       " 125289 │    4829  SHERIDAN MEMORIAL HOSPITAL        \u001b[90m missing \u001b[0m 2021-01-08         56033.0                   1.0              0.08                       0.362772    2021-02-06\n",
       " 125290 │    4830  MEMORIAL HOSPITAL SWEETWATER COU… \u001b[90m missing \u001b[0m 2021-01-08         56037.0                   0.75             0.9                        0.808143    2021-02-06\n",
       " 125291 │    4831  ST JOHNS MEDICAL CENTER           \u001b[90m missing \u001b[0m 2021-01-08         56039.0                   1.0              0.131148                   0.383298    2021-02-06\n",
       " 125292 │    4832  EVANSTON REGIONAL HOSPITAL        \u001b[90m missing \u001b[0m 2021-01-08         56041.0                   0.5              0.8                        0.21794     2021-02-06\n",
       " 125293 │    4833  WASHAKIE MEDICAL CENTER           \u001b[90m missing \u001b[0m 2021-01-08         56043.0                   1.0              0.0                        0.204622    2021-02-06\n",
       " 125294 │    4834  WESTON COUNTY HEALTH SERVICES     \u001b[90m missing \u001b[0m 2021-01-08         56045.0                   0.333333  \u001b[90m missing         \u001b[0m                 0.0404746   2021-02-06\n",
       "\u001b[31m                                                                                                                                                             125273 rows omitted\u001b[0m"
      ]
     },
     "execution_count": 3,
     "metadata": {},
     "output_type": "execute_result"
    }
   ],
   "source": [
    "rawdata = DataFrame(CSV.File(\"../rawdata/output_HHS_US_2021-02-06_one_column.csv\"))"
   ]
  },
  {
   "cell_type": "code",
   "execution_count": 4,
   "metadata": {},
   "outputs": [
    {
     "data": {
      "text/html": [
       "<table class=\"data-frame\"><thead><tr><th></th><th>hospital</th><th>hospital_id</th><th>date</th><th>admitted_moderate_icu</th><th>admitted_moderate_acute</th><th>admitted_moderate_allbeds</th></tr><tr><th></th><th>String</th><th>String?</th><th>Date</th><th>Float64?</th><th>Float64?</th><th>Float64?</th></tr></thead><tbody><p>125,294 rows × 6 columns</p><tr><th>1</th><td>ABBEVILLE AREA MEDICAL CENTER</td><td>421301</td><td>2021-01-12</td><td>0.0</td><td>0.554505</td><td>0.554505</td></tr><tr><th>2</th><td>ABBEVILLE AREA MEDICAL CENTER</td><td><em>missing</em></td><td>2021-01-13</td><td>0.0</td><td>0.573475</td><td>0.573475</td></tr><tr><th>3</th><td>ABBEVILLE AREA MEDICAL CENTER</td><td><em>missing</em></td><td>2021-01-14</td><td>0.0</td><td>0.612186</td><td>0.612186</td></tr><tr><th>4</th><td>ABBEVILLE AREA MEDICAL CENTER</td><td><em>missing</em></td><td>2021-01-15</td><td>0.0</td><td>0.603726</td><td>0.603726</td></tr><tr><th>5</th><td>ABBEVILLE AREA MEDICAL CENTER</td><td><em>missing</em></td><td>2021-01-16</td><td>0.0</td><td>0.617056</td><td>0.617056</td></tr><tr><th>6</th><td>ABBEVILLE AREA MEDICAL CENTER</td><td><em>missing</em></td><td>2021-01-17</td><td>0.0</td><td>0.581469</td><td>0.581469</td></tr><tr><th>7</th><td>ABBEVILLE AREA MEDICAL CENTER</td><td><em>missing</em></td><td>2021-01-18</td><td>0.0</td><td>0.55883</td><td>0.55883</td></tr><tr><th>8</th><td>ABBEVILLE AREA MEDICAL CENTER</td><td><em>missing</em></td><td>2021-01-19</td><td>0.0</td><td>0.555632</td><td>0.555632</td></tr><tr><th>9</th><td>ABBEVILLE AREA MEDICAL CENTER</td><td><em>missing</em></td><td>2021-01-20</td><td>0.0</td><td>0.566951</td><td>0.566951</td></tr><tr><th>10</th><td>ABBEVILLE AREA MEDICAL CENTER</td><td><em>missing</em></td><td>2021-01-21</td><td>0.0</td><td>0.582207</td><td>0.582207</td></tr><tr><th>11</th><td>ABBEVILLE AREA MEDICAL CENTER</td><td><em>missing</em></td><td>2021-01-22</td><td>0.0</td><td>0.5827</td><td>0.5827</td></tr><tr><th>12</th><td>ABBEVILLE AREA MEDICAL CENTER</td><td><em>missing</em></td><td>2021-01-23</td><td>0.0</td><td>0.606076</td><td>0.606076</td></tr><tr><th>13</th><td>ABBEVILLE AREA MEDICAL CENTER</td><td><em>missing</em></td><td>2021-01-24</td><td>0.0</td><td>0.525098</td><td>0.525098</td></tr><tr><th>14</th><td>ABBEVILLE AREA MEDICAL CENTER</td><td><em>missing</em></td><td>2021-01-25</td><td>0.0</td><td>0.505594</td><td>0.505594</td></tr><tr><th>15</th><td>ABBEVILLE AREA MEDICAL CENTER</td><td><em>missing</em></td><td>2021-01-26</td><td>0.0</td><td>0.503427</td><td>0.503427</td></tr><tr><th>16</th><td>ABBEVILLE AREA MEDICAL CENTER</td><td><em>missing</em></td><td>2021-01-27</td><td>0.0</td><td>0.504077</td><td>0.504077</td></tr><tr><th>17</th><td>ABBEVILLE AREA MEDICAL CENTER</td><td><em>missing</em></td><td>2021-01-28</td><td>0.0</td><td>0.513396</td><td>0.513396</td></tr><tr><th>18</th><td>ABBEVILLE AREA MEDICAL CENTER</td><td><em>missing</em></td><td>2021-01-29</td><td>0.0</td><td>0.511445</td><td>0.511445</td></tr><tr><th>19</th><td>ABBEVILLE AREA MEDICAL CENTER</td><td><em>missing</em></td><td>2021-01-30</td><td>0.0</td><td>0.522498</td><td>0.522498</td></tr><tr><th>20</th><td>ABBEVILLE AREA MEDICAL CENTER</td><td><em>missing</em></td><td>2021-01-31</td><td>0.0</td><td>0.434057</td><td>0.434057</td></tr><tr><th>21</th><td>ABBEVILLE AREA MEDICAL CENTER</td><td><em>missing</em></td><td>2021-02-01</td><td>0.0</td><td>0.417117</td><td>0.417117</td></tr><tr><th>22</th><td>ABBEVILLE AREA MEDICAL CENTER</td><td><em>missing</em></td><td>2021-02-02</td><td>0.0</td><td>0.416206</td><td>0.416206</td></tr><tr><th>23</th><td>ABBEVILLE AREA MEDICAL CENTER</td><td><em>missing</em></td><td>2021-02-03</td><td>0.0</td><td>0.422946</td><td>0.422946</td></tr><tr><th>24</th><td>ABBEVILLE AREA MEDICAL CENTER</td><td><em>missing</em></td><td>2021-02-04</td><td>0.0</td><td>0.429503</td><td>0.429503</td></tr><tr><th>25</th><td>ABBEVILLE AREA MEDICAL CENTER</td><td><em>missing</em></td><td>2021-02-05</td><td>0.0</td><td>0.424403</td><td>0.424403</td></tr><tr><th>26</th><td>ABBEVILLE AREA MEDICAL CENTER</td><td><em>missing</em></td><td>2021-02-06</td><td>0.0</td><td>0.435878</td><td>0.435878</td></tr><tr><th>27</th><td>ABBEVILLE GENERAL HOSPITAL</td><td>190034</td><td>2021-01-12</td><td>0.16275</td><td>0.840877</td><td>1.00363</td></tr><tr><th>28</th><td>ABBEVILLE GENERAL HOSPITAL</td><td><em>missing</em></td><td>2021-01-13</td><td>0.174283</td><td>0.900461</td><td>1.07474</td></tr><tr><th>29</th><td>ABBEVILLE GENERAL HOSPITAL</td><td><em>missing</em></td><td>2021-01-14</td><td>0.180698</td><td>0.933605</td><td>1.1143</td></tr><tr><th>30</th><td>ABBEVILLE GENERAL HOSPITAL</td><td><em>missing</em></td><td>2021-01-15</td><td>0.173778</td><td>0.897854</td><td>1.07163</td></tr><tr><th>&vellip;</th><td>&vellip;</td><td>&vellip;</td><td>&vellip;</td><td>&vellip;</td><td>&vellip;</td><td>&vellip;</td></tr></tbody></table>"
      ],
      "text/latex": [
       "\\begin{tabular}{r|cccccc}\n",
       "\t& hospital & hospital\\_id & date & admitted\\_moderate\\_icu & admitted\\_moderate\\_acute & admitted\\_moderate\\_allbeds\\\\\n",
       "\t\\hline\n",
       "\t& String & String? & Date & Float64? & Float64? & Float64?\\\\\n",
       "\t\\hline\n",
       "\t1 & ABBEVILLE AREA MEDICAL CENTER & 421301 & 2021-01-12 & 0.0 & 0.554505 & 0.554505 \\\\\n",
       "\t2 & ABBEVILLE AREA MEDICAL CENTER & \\emph{missing} & 2021-01-13 & 0.0 & 0.573475 & 0.573475 \\\\\n",
       "\t3 & ABBEVILLE AREA MEDICAL CENTER & \\emph{missing} & 2021-01-14 & 0.0 & 0.612186 & 0.612186 \\\\\n",
       "\t4 & ABBEVILLE AREA MEDICAL CENTER & \\emph{missing} & 2021-01-15 & 0.0 & 0.603726 & 0.603726 \\\\\n",
       "\t5 & ABBEVILLE AREA MEDICAL CENTER & \\emph{missing} & 2021-01-16 & 0.0 & 0.617056 & 0.617056 \\\\\n",
       "\t6 & ABBEVILLE AREA MEDICAL CENTER & \\emph{missing} & 2021-01-17 & 0.0 & 0.581469 & 0.581469 \\\\\n",
       "\t7 & ABBEVILLE AREA MEDICAL CENTER & \\emph{missing} & 2021-01-18 & 0.0 & 0.55883 & 0.55883 \\\\\n",
       "\t8 & ABBEVILLE AREA MEDICAL CENTER & \\emph{missing} & 2021-01-19 & 0.0 & 0.555632 & 0.555632 \\\\\n",
       "\t9 & ABBEVILLE AREA MEDICAL CENTER & \\emph{missing} & 2021-01-20 & 0.0 & 0.566951 & 0.566951 \\\\\n",
       "\t10 & ABBEVILLE AREA MEDICAL CENTER & \\emph{missing} & 2021-01-21 & 0.0 & 0.582207 & 0.582207 \\\\\n",
       "\t11 & ABBEVILLE AREA MEDICAL CENTER & \\emph{missing} & 2021-01-22 & 0.0 & 0.5827 & 0.5827 \\\\\n",
       "\t12 & ABBEVILLE AREA MEDICAL CENTER & \\emph{missing} & 2021-01-23 & 0.0 & 0.606076 & 0.606076 \\\\\n",
       "\t13 & ABBEVILLE AREA MEDICAL CENTER & \\emph{missing} & 2021-01-24 & 0.0 & 0.525098 & 0.525098 \\\\\n",
       "\t14 & ABBEVILLE AREA MEDICAL CENTER & \\emph{missing} & 2021-01-25 & 0.0 & 0.505594 & 0.505594 \\\\\n",
       "\t15 & ABBEVILLE AREA MEDICAL CENTER & \\emph{missing} & 2021-01-26 & 0.0 & 0.503427 & 0.503427 \\\\\n",
       "\t16 & ABBEVILLE AREA MEDICAL CENTER & \\emph{missing} & 2021-01-27 & 0.0 & 0.504077 & 0.504077 \\\\\n",
       "\t17 & ABBEVILLE AREA MEDICAL CENTER & \\emph{missing} & 2021-01-28 & 0.0 & 0.513396 & 0.513396 \\\\\n",
       "\t18 & ABBEVILLE AREA MEDICAL CENTER & \\emph{missing} & 2021-01-29 & 0.0 & 0.511445 & 0.511445 \\\\\n",
       "\t19 & ABBEVILLE AREA MEDICAL CENTER & \\emph{missing} & 2021-01-30 & 0.0 & 0.522498 & 0.522498 \\\\\n",
       "\t20 & ABBEVILLE AREA MEDICAL CENTER & \\emph{missing} & 2021-01-31 & 0.0 & 0.434057 & 0.434057 \\\\\n",
       "\t21 & ABBEVILLE AREA MEDICAL CENTER & \\emph{missing} & 2021-02-01 & 0.0 & 0.417117 & 0.417117 \\\\\n",
       "\t22 & ABBEVILLE AREA MEDICAL CENTER & \\emph{missing} & 2021-02-02 & 0.0 & 0.416206 & 0.416206 \\\\\n",
       "\t23 & ABBEVILLE AREA MEDICAL CENTER & \\emph{missing} & 2021-02-03 & 0.0 & 0.422946 & 0.422946 \\\\\n",
       "\t24 & ABBEVILLE AREA MEDICAL CENTER & \\emph{missing} & 2021-02-04 & 0.0 & 0.429503 & 0.429503 \\\\\n",
       "\t25 & ABBEVILLE AREA MEDICAL CENTER & \\emph{missing} & 2021-02-05 & 0.0 & 0.424403 & 0.424403 \\\\\n",
       "\t26 & ABBEVILLE AREA MEDICAL CENTER & \\emph{missing} & 2021-02-06 & 0.0 & 0.435878 & 0.435878 \\\\\n",
       "\t27 & ABBEVILLE GENERAL HOSPITAL & 190034 & 2021-01-12 & 0.16275 & 0.840877 & 1.00363 \\\\\n",
       "\t28 & ABBEVILLE GENERAL HOSPITAL & \\emph{missing} & 2021-01-13 & 0.174283 & 0.900461 & 1.07474 \\\\\n",
       "\t29 & ABBEVILLE GENERAL HOSPITAL & \\emph{missing} & 2021-01-14 & 0.180698 & 0.933605 & 1.1143 \\\\\n",
       "\t30 & ABBEVILLE GENERAL HOSPITAL & \\emph{missing} & 2021-01-15 & 0.173778 & 0.897854 & 1.07163 \\\\\n",
       "\t$\\dots$ & $\\dots$ & $\\dots$ & $\\dots$ & $\\dots$ & $\\dots$ & $\\dots$ \\\\\n",
       "\\end{tabular}\n"
      ],
      "text/plain": [
       "\u001b[1m125294×6 DataFrame\u001b[0m\n",
       "\u001b[1m    Row \u001b[0m│\u001b[1m hospital                          \u001b[0m\u001b[1m hospital_id \u001b[0m\u001b[1m date       \u001b[0m\u001b[1m admitted_moderate_icu \u001b[0m\u001b[1m admitted_moderate_acute \u001b[0m\u001b[1m admitted_moderate_allbeds \u001b[0m\n",
       "\u001b[1m        \u001b[0m│\u001b[90m String                            \u001b[0m\u001b[90m String?     \u001b[0m\u001b[90m Date       \u001b[0m\u001b[90m Float64?              \u001b[0m\u001b[90m Union{Missing, Float64} \u001b[0m\u001b[90m Union{Missing, Float64}   \u001b[0m\n",
       "────────┼───────────────────────────────────────────────────────────────────────────────────────────────────────────────────────────────────────\n",
       "      1 │ ABBEVILLE AREA MEDICAL CENTER      421301       2021-01-12               0.0                      0.554505                   0.554505\n",
       "      2 │ ABBEVILLE AREA MEDICAL CENTER     \u001b[90m missing     \u001b[0m 2021-01-13               0.0                      0.573475                   0.573475\n",
       "      3 │ ABBEVILLE AREA MEDICAL CENTER     \u001b[90m missing     \u001b[0m 2021-01-14               0.0                      0.612186                   0.612186\n",
       "      4 │ ABBEVILLE AREA MEDICAL CENTER     \u001b[90m missing     \u001b[0m 2021-01-15               0.0                      0.603726                   0.603726\n",
       "      5 │ ABBEVILLE AREA MEDICAL CENTER     \u001b[90m missing     \u001b[0m 2021-01-16               0.0                      0.617056                   0.617056\n",
       "      6 │ ABBEVILLE AREA MEDICAL CENTER     \u001b[90m missing     \u001b[0m 2021-01-17               0.0                      0.581469                   0.581469\n",
       "      7 │ ABBEVILLE AREA MEDICAL CENTER     \u001b[90m missing     \u001b[0m 2021-01-18               0.0                      0.55883                    0.55883\n",
       "      8 │ ABBEVILLE AREA MEDICAL CENTER     \u001b[90m missing     \u001b[0m 2021-01-19               0.0                      0.555632                   0.555632\n",
       "      9 │ ABBEVILLE AREA MEDICAL CENTER     \u001b[90m missing     \u001b[0m 2021-01-20               0.0                      0.566951                   0.566951\n",
       "     10 │ ABBEVILLE AREA MEDICAL CENTER     \u001b[90m missing     \u001b[0m 2021-01-21               0.0                      0.582207                   0.582207\n",
       "     11 │ ABBEVILLE AREA MEDICAL CENTER     \u001b[90m missing     \u001b[0m 2021-01-22               0.0                      0.5827                     0.5827\n",
       "   ⋮    │                 ⋮                       ⋮           ⋮                 ⋮                       ⋮                         ⋮\n",
       " 125285 │ ZUCKERBERG SAN FRANCISCO GENERAL… \u001b[90m missing     \u001b[0m 2021-01-28               0.675144                 2.11491                    2.79005\n",
       " 125286 │ ZUCKERBERG SAN FRANCISCO GENERAL… \u001b[90m missing     \u001b[0m 2021-01-29               0.676324                 2.11861                    2.79493\n",
       " 125287 │ ZUCKERBERG SAN FRANCISCO GENERAL… \u001b[90m missing     \u001b[0m 2021-01-30               0.674827                 2.11392                    2.78874\n",
       " 125288 │ ZUCKERBERG SAN FRANCISCO GENERAL… \u001b[90m missing     \u001b[0m 2021-01-31               0.583216                 1.82694                    2.41016\n",
       " 125289 │ ZUCKERBERG SAN FRANCISCO GENERAL… \u001b[90m missing     \u001b[0m 2021-02-01               0.580036                 1.81698                    2.39701\n",
       " 125290 │ ZUCKERBERG SAN FRANCISCO GENERAL… \u001b[90m missing     \u001b[0m 2021-02-02               0.57824                  1.81135                    2.38959\n",
       " 125291 │ ZUCKERBERG SAN FRANCISCO GENERAL… \u001b[90m missing     \u001b[0m 2021-02-03               0.56736                  1.77727                    2.34463\n",
       " 125292 │ ZUCKERBERG SAN FRANCISCO GENERAL… \u001b[90m missing     \u001b[0m 2021-02-04               0.576855                 1.80702                    2.38387\n",
       " 125293 │ ZUCKERBERG SAN FRANCISCO GENERAL… \u001b[90m missing     \u001b[0m 2021-02-05               0.57719                  1.80807                    2.38526\n",
       " 125294 │ ZUCKERBERG SAN FRANCISCO GENERAL… \u001b[90m missing     \u001b[0m 2021-02-06               0.573979                 1.79801                    2.37199\n",
       "\u001b[31m                                                                                                                             125273 rows omitted\u001b[0m"
      ]
     },
     "execution_count": 4,
     "metadata": {},
     "output_type": "execute_result"
    }
   ],
   "source": [
    "data = select(rawdata,\n",
    "    :hospital_name => :hospital,\n",
    "    :ccn => :hospital_id,\n",
    "    :target_date => :date,\n",
    "    [\"hospitalization_2021-01-12\", \"ICU_percentages\"] => ByRow((x,y) -> x*coalesce(y,0.3)) => :admitted_moderate_icu,\n",
    "    [\"hospitalization_2021-01-12\", \"ICU_percentages\"] => ByRow((x,y) -> x*(1.0-coalesce(y,0.3))) => :admitted_moderate_acute,\n",
    "    \"hospitalization_2021-01-12\" => :admitted_moderate_allbeds,\n",
    ")\n",
    "sort!(data, [:hospital, :hospital_id, :date])"
   ]
  },
  {
   "cell_type": "code",
   "execution_count": 5,
   "metadata": {},
   "outputs": [
    {
     "data": {
      "text/plain": [
       "\"../data/hhs_forecast_2021_01_12.csv\""
      ]
     },
     "execution_count": 5,
     "metadata": {},
     "output_type": "execute_result"
    }
   ],
   "source": [
    "data |> CSV.write(\"../data/hhs_forecast_2021_01_12.csv\")"
   ]
  },
  {
   "cell_type": "code",
   "execution_count": null,
   "metadata": {},
   "outputs": [],
   "source": []
  }
 ],
 "metadata": {
  "@webio": {
   "lastCommId": null,
   "lastKernelId": null
  },
  "kernelspec": {
   "display_name": "Julia 1.5.3",
   "language": "julia",
   "name": "julia-1.5"
  },
  "language_info": {
   "file_extension": ".jl",
   "mimetype": "application/julia",
   "name": "julia",
   "version": "1.5.3"
  }
 },
 "nbformat": 4,
 "nbformat_minor": 4
}
