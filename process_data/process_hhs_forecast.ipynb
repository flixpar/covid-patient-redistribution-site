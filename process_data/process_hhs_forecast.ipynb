{
 "cells": [
  {
   "cell_type": "code",
   "execution_count": 1,
   "metadata": {},
   "outputs": [],
   "source": [
    "using CSV\n",
    "using DataFrames\n",
    "using Dates"
   ]
  },
  {
   "cell_type": "code",
   "execution_count": 2,
   "metadata": {},
   "outputs": [],
   "source": [
    "ENV[\"COLUMNS\"] = 1000;"
   ]
  },
  {
   "cell_type": "code",
   "execution_count": 3,
   "metadata": {},
   "outputs": [
    {
     "data": {
      "text/html": [
       "<table class=\"data-frame\"><thead><tr><th></th><th>Column1</th><th>hospital_name</th><th>collection_week</th><th>fips_code</th><th>hospitalization_percentage</th><th>hospitalization_2020-12-22</th><th>target_date</th></tr><tr><th></th><th>Int64</th><th>String</th><th>Date</th><th>Float64</th><th>Float64</th><th>Float64</th><th>Date</th></tr></thead><tbody><p>125,112 rows × 7 columns</p><tr><th>1</th><td>10</td><td>PRATTVILLE BAPTIST HOSPITAL</td><td>2020-12-11</td><td>1001.0</td><td>1.0</td><td>3.69904</td><td>2020-12-22</td></tr><tr><th>2</th><td>11</td><td>THOMAS HOSPITAL</td><td>2020-12-11</td><td>1003.0</td><td>0.568556</td><td>5.64175</td><td>2020-12-22</td></tr><tr><th>3</th><td>12</td><td>SOUTH BALDWIN REGIONAL MEDICAL CENTER</td><td>2020-12-11</td><td>1003.0</td><td>0.305302</td><td>3.02949</td><td>2020-12-22</td></tr><tr><th>4</th><td>13</td><td>NORTH BALDWIN INFIRMARY</td><td>2020-12-11</td><td>1003.0</td><td>0.126143</td><td>1.25171</td><td>2020-12-22</td></tr><tr><th>5</th><td>14</td><td>MEDICAL CENTER BARBOUR</td><td>2020-12-11</td><td>1005.0</td><td>1.0</td><td>0.640395</td><td>2020-12-22</td></tr><tr><th>6</th><td>15</td><td>BIBB MEDICAL CENTER</td><td>2020-12-11</td><td>1007.0</td><td>0.0</td><td>0.0</td><td>2020-12-22</td></tr><tr><th>7</th><td>16</td><td>ST VINCENTS BLOUNT</td><td>2020-12-11</td><td>1009.0</td><td>1.0</td><td>4.11525</td><td>2020-12-22</td></tr><tr><th>8</th><td>17</td><td>BULLOCK COUNTY HOSPITAL</td><td>2020-12-11</td><td>1011.0</td><td>0.0</td><td>0.0</td><td>2020-12-22</td></tr><tr><th>9</th><td>18</td><td>REGIONAL MEDICAL CENTER OF CENTRAL ALABAMA</td><td>2020-12-11</td><td>1013.0</td><td>1.0</td><td>0.746617</td><td>2020-12-22</td></tr><tr><th>10</th><td>19</td><td>NOLAND HOSPITAL ANNISTON II, LLC</td><td>2020-12-11</td><td>1015.0</td><td>0.0333333</td><td>0.241751</td><td>2020-12-22</td></tr><tr><th>11</th><td>20</td><td>STRINGFELLOW MEMORIAL HOSPITAL</td><td>2020-12-11</td><td>1015.0</td><td>0.0</td><td>0.0</td><td>2020-12-22</td></tr><tr><th>12</th><td>21</td><td>NORTHEAST ALABAMA REGIONAL MEDICAL CENTER</td><td>2020-12-11</td><td>1015.0</td><td>0.966667</td><td>7.01078</td><td>2020-12-22</td></tr><tr><th>13</th><td>22</td><td>EAMC - LANIER</td><td>2020-12-11</td><td>1017.0</td><td>1.0</td><td>1.14021</td><td>2020-12-22</td></tr><tr><th>14</th><td>23</td><td>FLOYD CHEROKEE MEDICAL CENTER</td><td>2020-12-11</td><td>1019.0</td><td>1.0</td><td>0.996851</td><td>2020-12-22</td></tr><tr><th>15</th><td>24</td><td>ST VINCENT'S CHILTON</td><td>2020-12-11</td><td>1021.0</td><td>1.0</td><td>1.53545</td><td>2020-12-22</td></tr><tr><th>16</th><td>25</td><td>CHOCTAW GENERAL HOSPITAL</td><td>2020-12-11</td><td>1023.0</td><td>1.0</td><td>0.236956</td><td>2020-12-22</td></tr><tr><th>17</th><td>26</td><td>GROVE HILL MEMORIAL HOSPITAL</td><td>2020-12-11</td><td>1025.0</td><td>0.333333</td><td>1.37327</td><td>2020-12-22</td></tr><tr><th>18</th><td>27</td><td>THOMASVILLE REGIONAL MEDICAL CENTER</td><td>2020-12-11</td><td>1025.0</td><td>0.333333</td><td>1.37327</td><td>2020-12-22</td></tr><tr><th>19</th><td>28</td><td>JACKSON MEDICAL CENTER</td><td>2020-12-11</td><td>1025.0</td><td>0.333333</td><td>1.37327</td><td>2020-12-22</td></tr><tr><th>20</th><td>29</td><td>CLAY COUNTY HOSPITAL</td><td>2020-12-11</td><td>1027.0</td><td>1.0</td><td>0.515789</td><td>2020-12-22</td></tr><tr><th>21</th><td>30</td><td>MEDICAL CENTER ENTERPRISE</td><td>2020-12-11</td><td>1031.0</td><td>1.0</td><td>2.55256</td><td>2020-12-22</td></tr><tr><th>22</th><td>31</td><td>SHOALS HOSPITAL</td><td>2020-12-11</td><td>1033.0</td><td>0.136986</td><td>0.378931</td><td>2020-12-22</td></tr><tr><th>23</th><td>32</td><td>HELEN KELLER MEMORIAL HOSPITAL</td><td>2020-12-11</td><td>1033.0</td><td>0.863014</td><td>2.38726</td><td>2020-12-22</td></tr><tr><th>24</th><td>33</td><td>EVERGREEN MEDICAL CENTER</td><td>2020-12-11</td><td>1035.0</td><td>1.0</td><td>0.406503</td><td>2020-12-22</td></tr><tr><th>25</th><td>34</td><td>MIZELL MEMORIAL HOSPITAL</td><td>2020-12-11</td><td>1039.0</td><td>0.8</td><td>1.23789</td><td>2020-12-22</td></tr><tr><th>26</th><td>35</td><td>ANDALUSIA HEALTH</td><td>2020-12-11</td><td>1039.0</td><td>0.2</td><td>0.309473</td><td>2020-12-22</td></tr><tr><th>27</th><td>36</td><td>CRENSHAW COMMUNITY HOSPITAL</td><td>2020-12-11</td><td>1041.0</td><td>1.0</td><td>0.54643</td><td>2020-12-22</td></tr><tr><th>28</th><td>37</td><td>CULLMAN REGIONAL MEDICAL CENTER</td><td>2020-12-11</td><td>1043.0</td><td>1.0</td><td>5.37663</td><td>2020-12-22</td></tr><tr><th>29</th><td>38</td><td>DALE MEDICAL CENTER</td><td>2020-12-11</td><td>1045.0</td><td>1.0</td><td>2.37212</td><td>2020-12-22</td></tr><tr><th>30</th><td>39</td><td>VAUGHAN REGIONAL MEDICAL CENTER PARKWAY CAMPUS</td><td>2020-12-11</td><td>1047.0</td><td>1.0</td><td>1.0869</td><td>2020-12-22</td></tr><tr><th>&vellip;</th><td>&vellip;</td><td>&vellip;</td><td>&vellip;</td><td>&vellip;</td><td>&vellip;</td><td>&vellip;</td><td>&vellip;</td></tr></tbody></table>"
      ],
      "text/latex": [
       "\\begin{tabular}{r|ccccccc}\n",
       "\t& Column1 & hospital\\_name & collection\\_week & fips\\_code & hospitalization\\_percentage & hospitalization\\_2020-12-22 & target\\_date\\\\\n",
       "\t\\hline\n",
       "\t& Int64 & String & Date & Float64 & Float64 & Float64 & Date\\\\\n",
       "\t\\hline\n",
       "\t1 & 10 & PRATTVILLE BAPTIST HOSPITAL & 2020-12-11 & 1001.0 & 1.0 & 3.69904 & 2020-12-22 \\\\\n",
       "\t2 & 11 & THOMAS HOSPITAL & 2020-12-11 & 1003.0 & 0.568556 & 5.64175 & 2020-12-22 \\\\\n",
       "\t3 & 12 & SOUTH BALDWIN REGIONAL MEDICAL CENTER & 2020-12-11 & 1003.0 & 0.305302 & 3.02949 & 2020-12-22 \\\\\n",
       "\t4 & 13 & NORTH BALDWIN INFIRMARY & 2020-12-11 & 1003.0 & 0.126143 & 1.25171 & 2020-12-22 \\\\\n",
       "\t5 & 14 & MEDICAL CENTER BARBOUR & 2020-12-11 & 1005.0 & 1.0 & 0.640395 & 2020-12-22 \\\\\n",
       "\t6 & 15 & BIBB MEDICAL CENTER & 2020-12-11 & 1007.0 & 0.0 & 0.0 & 2020-12-22 \\\\\n",
       "\t7 & 16 & ST VINCENTS BLOUNT & 2020-12-11 & 1009.0 & 1.0 & 4.11525 & 2020-12-22 \\\\\n",
       "\t8 & 17 & BULLOCK COUNTY HOSPITAL & 2020-12-11 & 1011.0 & 0.0 & 0.0 & 2020-12-22 \\\\\n",
       "\t9 & 18 & REGIONAL MEDICAL CENTER OF CENTRAL ALABAMA & 2020-12-11 & 1013.0 & 1.0 & 0.746617 & 2020-12-22 \\\\\n",
       "\t10 & 19 & NOLAND HOSPITAL ANNISTON II, LLC & 2020-12-11 & 1015.0 & 0.0333333 & 0.241751 & 2020-12-22 \\\\\n",
       "\t11 & 20 & STRINGFELLOW MEMORIAL HOSPITAL & 2020-12-11 & 1015.0 & 0.0 & 0.0 & 2020-12-22 \\\\\n",
       "\t12 & 21 & NORTHEAST ALABAMA REGIONAL MEDICAL CENTER & 2020-12-11 & 1015.0 & 0.966667 & 7.01078 & 2020-12-22 \\\\\n",
       "\t13 & 22 & EAMC - LANIER & 2020-12-11 & 1017.0 & 1.0 & 1.14021 & 2020-12-22 \\\\\n",
       "\t14 & 23 & FLOYD CHEROKEE MEDICAL CENTER & 2020-12-11 & 1019.0 & 1.0 & 0.996851 & 2020-12-22 \\\\\n",
       "\t15 & 24 & ST VINCENT'S CHILTON & 2020-12-11 & 1021.0 & 1.0 & 1.53545 & 2020-12-22 \\\\\n",
       "\t16 & 25 & CHOCTAW GENERAL HOSPITAL & 2020-12-11 & 1023.0 & 1.0 & 0.236956 & 2020-12-22 \\\\\n",
       "\t17 & 26 & GROVE HILL MEMORIAL HOSPITAL & 2020-12-11 & 1025.0 & 0.333333 & 1.37327 & 2020-12-22 \\\\\n",
       "\t18 & 27 & THOMASVILLE REGIONAL MEDICAL CENTER & 2020-12-11 & 1025.0 & 0.333333 & 1.37327 & 2020-12-22 \\\\\n",
       "\t19 & 28 & JACKSON MEDICAL CENTER & 2020-12-11 & 1025.0 & 0.333333 & 1.37327 & 2020-12-22 \\\\\n",
       "\t20 & 29 & CLAY COUNTY HOSPITAL & 2020-12-11 & 1027.0 & 1.0 & 0.515789 & 2020-12-22 \\\\\n",
       "\t21 & 30 & MEDICAL CENTER ENTERPRISE & 2020-12-11 & 1031.0 & 1.0 & 2.55256 & 2020-12-22 \\\\\n",
       "\t22 & 31 & SHOALS HOSPITAL & 2020-12-11 & 1033.0 & 0.136986 & 0.378931 & 2020-12-22 \\\\\n",
       "\t23 & 32 & HELEN KELLER MEMORIAL HOSPITAL & 2020-12-11 & 1033.0 & 0.863014 & 2.38726 & 2020-12-22 \\\\\n",
       "\t24 & 33 & EVERGREEN MEDICAL CENTER & 2020-12-11 & 1035.0 & 1.0 & 0.406503 & 2020-12-22 \\\\\n",
       "\t25 & 34 & MIZELL MEMORIAL HOSPITAL & 2020-12-11 & 1039.0 & 0.8 & 1.23789 & 2020-12-22 \\\\\n",
       "\t26 & 35 & ANDALUSIA HEALTH & 2020-12-11 & 1039.0 & 0.2 & 0.309473 & 2020-12-22 \\\\\n",
       "\t27 & 36 & CRENSHAW COMMUNITY HOSPITAL & 2020-12-11 & 1041.0 & 1.0 & 0.54643 & 2020-12-22 \\\\\n",
       "\t28 & 37 & CULLMAN REGIONAL MEDICAL CENTER & 2020-12-11 & 1043.0 & 1.0 & 5.37663 & 2020-12-22 \\\\\n",
       "\t29 & 38 & DALE MEDICAL CENTER & 2020-12-11 & 1045.0 & 1.0 & 2.37212 & 2020-12-22 \\\\\n",
       "\t30 & 39 & VAUGHAN REGIONAL MEDICAL CENTER PARKWAY CAMPUS & 2020-12-11 & 1047.0 & 1.0 & 1.0869 & 2020-12-22 \\\\\n",
       "\t$\\dots$ & $\\dots$ & $\\dots$ & $\\dots$ & $\\dots$ & $\\dots$ & $\\dots$ & $\\dots$ \\\\\n",
       "\\end{tabular}\n"
      ],
      "text/plain": [
       "125112×7 DataFrame\n",
       "│ Row    │ Column1 │ hospital_name                              │ collection_week │ fips_code │ hospitalization_percentage │ hospitalization_2020-12-22 │ target_date │\n",
       "│        │ \u001b[90mInt64\u001b[39m   │ \u001b[90mString\u001b[39m                                     │ \u001b[90mDate\u001b[39m            │ \u001b[90mFloat64\u001b[39m   │ \u001b[90mFloat64\u001b[39m                    │ \u001b[90mFloat64\u001b[39m                    │ \u001b[90mDate\u001b[39m        │\n",
       "├────────┼─────────┼────────────────────────────────────────────┼─────────────────┼───────────┼────────────────────────────┼────────────────────────────┼─────────────┤\n",
       "│ 1      │ 10      │ PRATTVILLE BAPTIST HOSPITAL                │ 2020-12-11      │ 1001.0    │ 1.0                        │ 3.69904                    │ 2020-12-22  │\n",
       "│ 2      │ 11      │ THOMAS HOSPITAL                            │ 2020-12-11      │ 1003.0    │ 0.568556                   │ 5.64175                    │ 2020-12-22  │\n",
       "│ 3      │ 12      │ SOUTH BALDWIN REGIONAL MEDICAL CENTER      │ 2020-12-11      │ 1003.0    │ 0.305302                   │ 3.02949                    │ 2020-12-22  │\n",
       "│ 4      │ 13      │ NORTH BALDWIN INFIRMARY                    │ 2020-12-11      │ 1003.0    │ 0.126143                   │ 1.25171                    │ 2020-12-22  │\n",
       "│ 5      │ 14      │ MEDICAL CENTER BARBOUR                     │ 2020-12-11      │ 1005.0    │ 1.0                        │ 0.640395                   │ 2020-12-22  │\n",
       "│ 6      │ 15      │ BIBB MEDICAL CENTER                        │ 2020-12-11      │ 1007.0    │ 0.0                        │ 0.0                        │ 2020-12-22  │\n",
       "│ 7      │ 16      │ ST VINCENTS BLOUNT                         │ 2020-12-11      │ 1009.0    │ 1.0                        │ 4.11525                    │ 2020-12-22  │\n",
       "│ 8      │ 17      │ BULLOCK COUNTY HOSPITAL                    │ 2020-12-11      │ 1011.0    │ 0.0                        │ 0.0                        │ 2020-12-22  │\n",
       "│ 9      │ 18      │ REGIONAL MEDICAL CENTER OF CENTRAL ALABAMA │ 2020-12-11      │ 1013.0    │ 1.0                        │ 0.746617                   │ 2020-12-22  │\n",
       "│ 10     │ 19      │ NOLAND HOSPITAL ANNISTON II, LLC           │ 2020-12-11      │ 1015.0    │ 0.0333333                  │ 0.241751                   │ 2020-12-22  │\n",
       "⋮\n",
       "│ 125102 │ 4827    │ SUMMIT MEDICAL CENTER                      │ 2020-12-11      │ 56025.0   │ 0.0                        │ 0.0                        │ 2021-01-16  │\n",
       "│ 125103 │ 4828    │ NIOBRARA HEALTH & LIFE CENTER              │ 2020-12-11      │ 56027.0   │ 0.0                        │ 0.0                        │ 2021-01-16  │\n",
       "│ 125104 │ 4829    │ CODY REGIONAL HEALTH                       │ 2020-12-11      │ 56029.0   │ 0.552                      │ 0.523547                   │ 2021-01-16  │\n",
       "│ 125105 │ 4830    │ POWELL VALLEY HOSPITAL                     │ 2020-12-11      │ 56029.0   │ 0.448                      │ 0.424907                   │ 2021-01-16  │\n",
       "│ 125106 │ 4831    │ PLATTE COUNTY MEMORIAL HOSPITAL            │ 2020-12-11      │ 56031.0   │ 1.0                        │ 0.152338                   │ 2021-01-16  │\n",
       "│ 125107 │ 4832    │ SHERIDAN MEMORIAL HOSPITAL                 │ 2020-12-11      │ 56033.0   │ 1.0                        │ 0.565888                   │ 2021-01-16  │\n",
       "│ 125108 │ 4833    │ MEMORIAL HOSPITAL SWEETWATER COUNTY        │ 2020-12-11      │ 56037.0   │ 1.0                        │ 1.8949                     │ 2021-01-16  │\n",
       "│ 125109 │ 4834    │ ST JOHNS MEDICAL CENTER                    │ 2020-12-11      │ 56039.0   │ 1.0                        │ 0.486276                   │ 2021-01-16  │\n",
       "│ 125110 │ 4835    │ EVANSTON REGIONAL HOSPITAL                 │ 2020-12-11      │ 56041.0   │ 1.0                        │ 0.681648                   │ 2021-01-16  │\n",
       "│ 125111 │ 4836    │ WASHAKIE MEDICAL CENTER                    │ 2020-12-11      │ 56043.0   │ 1.0                        │ 0.284976                   │ 2021-01-16  │\n",
       "│ 125112 │ 4837    │ WESTON COUNTY HEALTH SERVICES              │ 2020-12-11      │ 56045.0   │ 0.0                        │ 0.0                        │ 2021-01-16  │"
      ]
     },
     "execution_count": 3,
     "metadata": {},
     "output_type": "execute_result"
    }
   ],
   "source": [
    "rawdata = DataFrame(CSV.File(\"../rawdata/output_HHS_US_2021-01-16_one_column.csv\"))"
   ]
  },
  {
   "cell_type": "code",
   "execution_count": 4,
   "metadata": {},
   "outputs": [
    {
     "data": {
      "text/html": [
       "<table class=\"data-frame\"><thead><tr><th></th><th>hospital</th><th>date</th><th>admitted_moderate_icu</th><th>admitted_moderate_acute</th><th>admitted_moderate_allbeds</th></tr><tr><th></th><th>String</th><th>Date</th><th>Float64</th><th>Float64</th><th>Float64</th></tr></thead><tbody><p>125,112 rows × 5 columns</p><tr><th>1</th><td>Abbeville Area Medical Center</td><td>2020-12-22</td><td>0.161116</td><td>0.375937</td><td>0.537053</td></tr><tr><th>2</th><td>Abbeville Area Medical Center</td><td>2020-12-23</td><td>0.166556</td><td>0.388631</td><td>0.555188</td></tr><tr><th>3</th><td>Abbeville Area Medical Center</td><td>2020-12-24</td><td>0.170661</td><td>0.398208</td><td>0.568869</td></tr><tr><th>4</th><td>Abbeville Area Medical Center</td><td>2020-12-25</td><td>0.172856</td><td>0.40333</td><td>0.576186</td></tr><tr><th>5</th><td>Abbeville Area Medical Center</td><td>2020-12-26</td><td>0.182401</td><td>0.425602</td><td>0.608002</td></tr><tr><th>6</th><td>Abbeville Area Medical Center</td><td>2020-12-27</td><td>0.173352</td><td>0.404488</td><td>0.577841</td></tr><tr><th>7</th><td>Abbeville Area Medical Center</td><td>2020-12-28</td><td>0.16806</td><td>0.392141</td><td>0.560201</td></tr><tr><th>8</th><td>Abbeville Area Medical Center</td><td>2020-12-29</td><td>0.167787</td><td>0.391502</td><td>0.559289</td></tr><tr><th>9</th><td>Abbeville Area Medical Center</td><td>2020-12-30</td><td>0.168517</td><td>0.393205</td><td>0.561722</td></tr><tr><th>10</th><td>Abbeville Area Medical Center</td><td>2020-12-31</td><td>0.171619</td><td>0.400444</td><td>0.572062</td></tr><tr><th>11</th><td>Abbeville Area Medical Center</td><td>2021-01-01</td><td>0.174356</td><td>0.40683</td><td>0.581186</td></tr><tr><th>12</th><td>Abbeville Area Medical Center</td><td>2021-01-02</td><td>0.183753</td><td>0.428758</td><td>0.612511</td></tr><tr><th>13</th><td>Abbeville Area Medical Center</td><td>2021-01-03</td><td>0.184961</td><td>0.431576</td><td>0.616537</td></tr><tr><th>14</th><td>Abbeville Area Medical Center</td><td>2021-01-04</td><td>0.179022</td><td>0.417717</td><td>0.596739</td></tr><tr><th>15</th><td>Abbeville Area Medical Center</td><td>2021-01-05</td><td>0.179022</td><td>0.417717</td><td>0.596739</td></tr><tr><th>16</th><td>Abbeville Area Medical Center</td><td>2021-01-06</td><td>0.181249</td><td>0.422914</td><td>0.604163</td></tr><tr><th>17</th><td>Abbeville Area Medical Center</td><td>2021-01-07</td><td>0.183755</td><td>0.428761</td><td>0.612516</td></tr><tr><th>18</th><td>Abbeville Area Medical Center</td><td>2021-01-08</td><td>0.185147</td><td>0.432009</td><td>0.617156</td></tr><tr><th>19</th><td>Abbeville Area Medical Center</td><td>2021-01-09</td><td>0.19285</td><td>0.449982</td><td>0.642832</td></tr><tr><th>20</th><td>Abbeville Area Medical Center</td><td>2021-01-10</td><td>0.180153</td><td>0.420356</td><td>0.600509</td></tr><tr><th>21</th><td>Abbeville Area Medical Center</td><td>2021-01-11</td><td>0.174701</td><td>0.407637</td><td>0.582338</td></tr><tr><th>22</th><td>Abbeville Area Medical Center</td><td>2021-01-12</td><td>0.17391</td><td>0.40579</td><td>0.5797</td></tr><tr><th>23</th><td>Abbeville Area Medical Center</td><td>2021-01-13</td><td>0.175229</td><td>0.408868</td><td>0.584097</td></tr><tr><th>24</th><td>Abbeville Area Medical Center</td><td>2021-01-14</td><td>0.177691</td><td>0.414612</td><td>0.592303</td></tr><tr><th>25</th><td>Abbeville Area Medical Center</td><td>2021-01-15</td><td>0.177779</td><td>0.414817</td><td>0.592596</td></tr><tr><th>26</th><td>Abbeville Area Medical Center</td><td>2021-01-16</td><td>0.186043</td><td>0.434101</td><td>0.620145</td></tr><tr><th>27</th><td>Abbeville General Hospital</td><td>2020-12-22</td><td>0.377038</td><td>0.879756</td><td>1.25679</td></tr><tr><th>28</th><td>Abbeville General Hospital</td><td>2020-12-23</td><td>0.401307</td><td>0.936384</td><td>1.33769</td></tr><tr><th>29</th><td>Abbeville General Hospital</td><td>2020-12-24</td><td>0.415175</td><td>0.968743</td><td>1.38392</td></tr><tr><th>30</th><td>Abbeville General Hospital</td><td>2020-12-25</td><td>0.402608</td><td>0.939418</td><td>1.34203</td></tr><tr><th>&vellip;</th><td>&vellip;</td><td>&vellip;</td><td>&vellip;</td><td>&vellip;</td><td>&vellip;</td></tr></tbody></table>"
      ],
      "text/latex": [
       "\\begin{tabular}{r|ccccc}\n",
       "\t& hospital & date & admitted\\_moderate\\_icu & admitted\\_moderate\\_acute & admitted\\_moderate\\_allbeds\\\\\n",
       "\t\\hline\n",
       "\t& String & Date & Float64 & Float64 & Float64\\\\\n",
       "\t\\hline\n",
       "\t1 & Abbeville Area Medical Center & 2020-12-22 & 0.161116 & 0.375937 & 0.537053 \\\\\n",
       "\t2 & Abbeville Area Medical Center & 2020-12-23 & 0.166556 & 0.388631 & 0.555188 \\\\\n",
       "\t3 & Abbeville Area Medical Center & 2020-12-24 & 0.170661 & 0.398208 & 0.568869 \\\\\n",
       "\t4 & Abbeville Area Medical Center & 2020-12-25 & 0.172856 & 0.40333 & 0.576186 \\\\\n",
       "\t5 & Abbeville Area Medical Center & 2020-12-26 & 0.182401 & 0.425602 & 0.608002 \\\\\n",
       "\t6 & Abbeville Area Medical Center & 2020-12-27 & 0.173352 & 0.404488 & 0.577841 \\\\\n",
       "\t7 & Abbeville Area Medical Center & 2020-12-28 & 0.16806 & 0.392141 & 0.560201 \\\\\n",
       "\t8 & Abbeville Area Medical Center & 2020-12-29 & 0.167787 & 0.391502 & 0.559289 \\\\\n",
       "\t9 & Abbeville Area Medical Center & 2020-12-30 & 0.168517 & 0.393205 & 0.561722 \\\\\n",
       "\t10 & Abbeville Area Medical Center & 2020-12-31 & 0.171619 & 0.400444 & 0.572062 \\\\\n",
       "\t11 & Abbeville Area Medical Center & 2021-01-01 & 0.174356 & 0.40683 & 0.581186 \\\\\n",
       "\t12 & Abbeville Area Medical Center & 2021-01-02 & 0.183753 & 0.428758 & 0.612511 \\\\\n",
       "\t13 & Abbeville Area Medical Center & 2021-01-03 & 0.184961 & 0.431576 & 0.616537 \\\\\n",
       "\t14 & Abbeville Area Medical Center & 2021-01-04 & 0.179022 & 0.417717 & 0.596739 \\\\\n",
       "\t15 & Abbeville Area Medical Center & 2021-01-05 & 0.179022 & 0.417717 & 0.596739 \\\\\n",
       "\t16 & Abbeville Area Medical Center & 2021-01-06 & 0.181249 & 0.422914 & 0.604163 \\\\\n",
       "\t17 & Abbeville Area Medical Center & 2021-01-07 & 0.183755 & 0.428761 & 0.612516 \\\\\n",
       "\t18 & Abbeville Area Medical Center & 2021-01-08 & 0.185147 & 0.432009 & 0.617156 \\\\\n",
       "\t19 & Abbeville Area Medical Center & 2021-01-09 & 0.19285 & 0.449982 & 0.642832 \\\\\n",
       "\t20 & Abbeville Area Medical Center & 2021-01-10 & 0.180153 & 0.420356 & 0.600509 \\\\\n",
       "\t21 & Abbeville Area Medical Center & 2021-01-11 & 0.174701 & 0.407637 & 0.582338 \\\\\n",
       "\t22 & Abbeville Area Medical Center & 2021-01-12 & 0.17391 & 0.40579 & 0.5797 \\\\\n",
       "\t23 & Abbeville Area Medical Center & 2021-01-13 & 0.175229 & 0.408868 & 0.584097 \\\\\n",
       "\t24 & Abbeville Area Medical Center & 2021-01-14 & 0.177691 & 0.414612 & 0.592303 \\\\\n",
       "\t25 & Abbeville Area Medical Center & 2021-01-15 & 0.177779 & 0.414817 & 0.592596 \\\\\n",
       "\t26 & Abbeville Area Medical Center & 2021-01-16 & 0.186043 & 0.434101 & 0.620145 \\\\\n",
       "\t27 & Abbeville General Hospital & 2020-12-22 & 0.377038 & 0.879756 & 1.25679 \\\\\n",
       "\t28 & Abbeville General Hospital & 2020-12-23 & 0.401307 & 0.936384 & 1.33769 \\\\\n",
       "\t29 & Abbeville General Hospital & 2020-12-24 & 0.415175 & 0.968743 & 1.38392 \\\\\n",
       "\t30 & Abbeville General Hospital & 2020-12-25 & 0.402608 & 0.939418 & 1.34203 \\\\\n",
       "\t$\\dots$ & $\\dots$ & $\\dots$ & $\\dots$ & $\\dots$ & $\\dots$ \\\\\n",
       "\\end{tabular}\n"
      ],
      "text/plain": [
       "125112×5 DataFrame\n",
       "│ Row    │ hospital                                           │ date       │ admitted_moderate_icu │ admitted_moderate_acute │ admitted_moderate_allbeds │\n",
       "│        │ \u001b[90mString\u001b[39m                                             │ \u001b[90mDate\u001b[39m       │ \u001b[90mFloat64\u001b[39m               │ \u001b[90mFloat64\u001b[39m                 │ \u001b[90mFloat64\u001b[39m                   │\n",
       "├────────┼────────────────────────────────────────────────────┼────────────┼───────────────────────┼─────────────────────────┼───────────────────────────┤\n",
       "│ 1      │ Abbeville Area Medical Center                      │ 2020-12-22 │ 0.161116              │ 0.375937                │ 0.537053                  │\n",
       "│ 2      │ Abbeville Area Medical Center                      │ 2020-12-23 │ 0.166556              │ 0.388631                │ 0.555188                  │\n",
       "│ 3      │ Abbeville Area Medical Center                      │ 2020-12-24 │ 0.170661              │ 0.398208                │ 0.568869                  │\n",
       "│ 4      │ Abbeville Area Medical Center                      │ 2020-12-25 │ 0.172856              │ 0.40333                 │ 0.576186                  │\n",
       "│ 5      │ Abbeville Area Medical Center                      │ 2020-12-26 │ 0.182401              │ 0.425602                │ 0.608002                  │\n",
       "│ 6      │ Abbeville Area Medical Center                      │ 2020-12-27 │ 0.173352              │ 0.404488                │ 0.577841                  │\n",
       "│ 7      │ Abbeville Area Medical Center                      │ 2020-12-28 │ 0.16806               │ 0.392141                │ 0.560201                  │\n",
       "│ 8      │ Abbeville Area Medical Center                      │ 2020-12-29 │ 0.167787              │ 0.391502                │ 0.559289                  │\n",
       "│ 9      │ Abbeville Area Medical Center                      │ 2020-12-30 │ 0.168517              │ 0.393205                │ 0.561722                  │\n",
       "│ 10     │ Abbeville Area Medical Center                      │ 2020-12-31 │ 0.171619              │ 0.400444                │ 0.572062                  │\n",
       "⋮\n",
       "│ 125102 │ Zuckerberg San Francisco General Hosp & Trauma Ctr │ 2021-01-06 │ 0.822763              │ 1.91978                 │ 2.74254                   │\n",
       "│ 125103 │ Zuckerberg San Francisco General Hosp & Trauma Ctr │ 2021-01-07 │ 0.851821              │ 1.98758                 │ 2.8394                    │\n",
       "│ 125104 │ Zuckerberg San Francisco General Hosp & Trauma Ctr │ 2021-01-08 │ 0.863665              │ 2.01522                 │ 2.87888                   │\n",
       "│ 125105 │ Zuckerberg San Francisco General Hosp & Trauma Ctr │ 2021-01-09 │ 0.872689              │ 2.03627                 │ 2.90896                   │\n",
       "│ 125106 │ Zuckerberg San Francisco General Hosp & Trauma Ctr │ 2021-01-10 │ 0.890273              │ 2.0773                  │ 2.96758                   │\n",
       "│ 125107 │ Zuckerberg San Francisco General Hosp & Trauma Ctr │ 2021-01-11 │ 0.888565              │ 2.07332                 │ 2.96188                   │\n",
       "│ 125108 │ Zuckerberg San Francisco General Hosp & Trauma Ctr │ 2021-01-12 │ 0.894729              │ 2.0877                  │ 2.98243                   │\n",
       "│ 125109 │ Zuckerberg San Francisco General Hosp & Trauma Ctr │ 2021-01-13 │ 0.884902              │ 2.06477                 │ 2.94967                   │\n",
       "│ 125110 │ Zuckerberg San Francisco General Hosp & Trauma Ctr │ 2021-01-14 │ 0.909209              │ 2.12149                 │ 3.0307                    │\n",
       "│ 125111 │ Zuckerberg San Francisco General Hosp & Trauma Ctr │ 2021-01-15 │ 0.916486              │ 2.13847                 │ 3.05495                   │\n",
       "│ 125112 │ Zuckerberg San Francisco General Hosp & Trauma Ctr │ 2021-01-16 │ 0.924283              │ 2.15666                 │ 3.08094                   │"
      ]
     },
     "execution_count": 4,
     "metadata": {},
     "output_type": "execute_result"
    }
   ],
   "source": [
    "data = select(rawdata,\n",
    "    :hospital_name => ByRow(titlecase) => :hospital,\n",
    "    :target_date => :date,\n",
    "    \"hospitalization_2020-12-22\" => ByRow(x -> x*0.3) => :admitted_moderate_icu,\n",
    "    \"hospitalization_2020-12-22\" => ByRow(x -> x*0.7) => :admitted_moderate_acute,\n",
    "    \"hospitalization_2020-12-22\" => :admitted_moderate_allbeds,\n",
    ")\n",
    "sort!(data, [:hospital, :date])"
   ]
  },
  {
   "cell_type": "code",
   "execution_count": 5,
   "metadata": {},
   "outputs": [
    {
     "data": {
      "text/plain": [
       "\"../data/hhs_forecast_2020_12_26.csv\""
      ]
     },
     "execution_count": 5,
     "metadata": {},
     "output_type": "execute_result"
    }
   ],
   "source": [
    "data |> CSV.write(\"../data/hhs_forecast_2020_12_26.csv\")"
   ]
  },
  {
   "cell_type": "code",
   "execution_count": null,
   "metadata": {},
   "outputs": [],
   "source": []
  }
 ],
 "metadata": {
  "@webio": {
   "lastCommId": null,
   "lastKernelId": null
  },
  "kernelspec": {
   "display_name": "Julia 1.5.3",
   "language": "julia",
   "name": "julia-1.5"
  },
  "language_info": {
   "file_extension": ".jl",
   "mimetype": "application/julia",
   "name": "julia",
   "version": "1.5.3"
  }
 },
 "nbformat": 4,
 "nbformat_minor": 4
}
