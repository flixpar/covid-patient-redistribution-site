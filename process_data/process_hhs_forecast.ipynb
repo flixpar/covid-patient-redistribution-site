{
 "cells": [
  {
   "cell_type": "code",
   "execution_count": 1,
   "metadata": {},
   "outputs": [],
   "source": [
    "using CSV\n",
    "using Dates\n",
    "using DataFrames\n",
    "using Dates"
   ]
  },
  {
   "cell_type": "code",
   "execution_count": 2,
   "metadata": {},
   "outputs": [],
   "source": [
    "ENV[\"COLUMNS\"] = 1000;"
   ]
  },
  {
   "cell_type": "code",
   "execution_count": 3,
   "metadata": {},
   "outputs": [
    {
     "data": {
      "text/html": [
       "<table class=\"data-frame\"><thead><tr><th></th><th>Column1</th><th>hospital_name</th><th>ccn</th><th>collection_week</th><th>fips_code</th><th>hospitalization_percentage</th><th>ICU_percentages</th><th>hospitalization_2021-02-09</th><th>target_date</th><th>hospitalizations</th></tr><tr><th></th><th>Int64</th><th>String</th><th>String?</th><th>Date</th><th>Float64</th><th>Float64?</th><th>Float64?</th><th>Float64?</th><th>Date</th><th>Float64?</th></tr></thead><tbody><p>125,268 rows × 10 columns</p><tr><th>1</th><td>10</td><td>PRATTVILLE BAPTIST HOSPITAL</td><td>010108</td><td>2021-02-05</td><td>1001.0</td><td>1.0</td><td>0.234043</td><td>2.82857</td><td>2021-02-15</td><td><em>missing</em></td></tr><tr><th>2</th><td>11</td><td>NORTH BALDWIN INFIRMARY</td><td>010129</td><td>2021-02-05</td><td>1003.0</td><td>0.161404</td><td>0.1875</td><td>1.3636</td><td>2021-02-15</td><td><em>missing</em></td></tr><tr><th>3</th><td>12</td><td>THOMAS HOSPITAL</td><td>010100</td><td>2021-02-05</td><td>1003.0</td><td>0.515011</td><td>0.203704</td><td>4.35101</td><td>2021-02-15</td><td><em>missing</em></td></tr><tr><th>4</th><td>13</td><td>SOUTH BALDWIN REGIONAL MEDICAL CENTER</td><td>010083</td><td>2021-02-05</td><td>1003.0</td><td>0.323585</td><td>0.55814</td><td>2.73378</td><td>2021-02-15</td><td><em>missing</em></td></tr><tr><th>5</th><td>14</td><td>MEDICAL CENTER BARBOUR</td><td>010069</td><td>2021-02-05</td><td>1005.0</td><td>1.0</td><td>0.333333</td><td>1.18964</td><td>2021-02-15</td><td><em>missing</em></td></tr><tr><th>6</th><td>15</td><td>BIBB MEDICAL CENTER</td><td>010058</td><td>2021-02-05</td><td>1007.0</td><td>0.821429</td><td>0.0</td><td>0.556252</td><td>2021-02-15</td><td><em>missing</em></td></tr><tr><th>7</th><td>16</td><td>ST VINCENTS BLOUNT</td><td>011305</td><td>2021-02-05</td><td>1009.0</td><td>0.964286</td><td>0.4</td><td>2.55036</td><td>2021-02-15</td><td><em>missing</em></td></tr><tr><th>8</th><td>17</td><td>BULLOCK COUNTY HOSPITAL</td><td>010110</td><td>2021-02-05</td><td>1011.0</td><td>0.0</td><td><em>missing</em></td><td>0.0</td><td>2021-02-15</td><td><em>missing</em></td></tr><tr><th>9</th><td>18</td><td>REGIONAL MEDICAL CENTER OF CENTRAL ALABAMA</td><td>010150</td><td>2021-02-05</td><td>1013.0</td><td>0.964286</td><td>0.466667</td><td>0.719357</td><td>2021-02-15</td><td><em>missing</em></td></tr><tr><th>10</th><td>19</td><td>NOLAND HOSPITAL ANNISTON II, LLC</td><td>012011</td><td>2021-02-05</td><td>1015.0</td><td>0.0201907</td><td><em>missing</em></td><td>0.104249</td><td>2021-02-15</td><td><em>missing</em></td></tr><tr><th>11</th><td>20</td><td>STRINGFELLOW MEMORIAL HOSPITAL</td><td>010038</td><td>2021-02-05</td><td>1015.0</td><td>0.000816172</td><td><em>missing</em></td><td>0.00421408</td><td>2021-02-15</td><td><em>missing</em></td></tr><tr><th>12</th><td>21</td><td>NORTHEAST ALABAMA REGIONAL MEDICAL CENTER</td><td>010078</td><td>2021-02-05</td><td>1015.0</td><td>0.978993</td><td>0.289593</td><td>5.05476</td><td>2021-02-15</td><td><em>missing</em></td></tr><tr><th>13</th><td>22</td><td>EAMC - LANIER</td><td>010175</td><td>2021-02-05</td><td>1017.0</td><td>1.0</td><td>0.0</td><td>1.1344</td><td>2021-02-15</td><td><em>missing</em></td></tr><tr><th>14</th><td>23</td><td>FLOYD CHEROKEE MEDICAL CENTER</td><td>010022</td><td>2021-02-05</td><td>1019.0</td><td>0.821429</td><td>0.0</td><td>0.459081</td><td>2021-02-15</td><td><em>missing</em></td></tr><tr><th>15</th><td>24</td><td>ST VINCENT'S CHILTON</td><td>010173</td><td>2021-02-05</td><td>1021.0</td><td>1.0</td><td>0.0</td><td>1.06005</td><td>2021-02-15</td><td><em>missing</em></td></tr><tr><th>16</th><td>25</td><td>CHOCTAW GENERAL HOSPITAL</td><td>011304</td><td>2021-02-05</td><td>1023.0</td><td>0.964286</td><td>0.0</td><td>0.193581</td><td>2021-02-15</td><td><em>missing</em></td></tr><tr><th>17</th><td>26</td><td>THOMASVILLE REGIONAL MEDICAL CENTER</td><td>010174</td><td>2021-02-05</td><td>1025.0</td><td>0.309238</td><td>0.0</td><td>0.57552</td><td>2021-02-15</td><td><em>missing</em></td></tr><tr><th>18</th><td>27</td><td>GROVE HILL MEMORIAL HOSPITAL</td><td>010091</td><td>2021-02-05</td><td>1025.0</td><td>0.227957</td><td>0.0</td><td>0.42425</td><td>2021-02-15</td><td><em>missing</em></td></tr><tr><th>19</th><td>28</td><td>JACKSON MEDICAL CENTER</td><td>010128</td><td>2021-02-05</td><td>1025.0</td><td>0.462805</td><td>0.0</td><td>0.861322</td><td>2021-02-15</td><td><em>missing</em></td></tr><tr><th>20</th><td>29</td><td>CLAY COUNTY HOSPITAL</td><td>010073</td><td>2021-02-05</td><td>1027.0</td><td>1.0</td><td>1.0</td><td>0.425047</td><td>2021-02-15</td><td><em>missing</em></td></tr><tr><th>21</th><td>30</td><td>MEDICAL CENTER ENTERPRISE</td><td>010049</td><td>2021-02-05</td><td>1031.0</td><td>1.0</td><td>0.179487</td><td>2.64056</td><td>2021-02-15</td><td><em>missing</em></td></tr><tr><th>22</th><td>31</td><td>SHOALS HOSPITAL</td><td>010157</td><td>2021-02-05</td><td>1033.0</td><td>0.161904</td><td>0.0</td><td>0.350818</td><td>2021-02-15</td><td><em>missing</em></td></tr><tr><th>23</th><td>32</td><td>HELEN KELLER MEMORIAL HOSPITAL</td><td>010019</td><td>2021-02-05</td><td>1033.0</td><td>0.838096</td><td>0.588517</td><td>1.81602</td><td>2021-02-15</td><td><em>missing</em></td></tr><tr><th>24</th><td>33</td><td>EVERGREEN MEDICAL CENTER</td><td>010148</td><td>2021-02-05</td><td>1035.0</td><td>1.0</td><td>0.0</td><td>0.360608</td><td>2021-02-15</td><td><em>missing</em></td></tr><tr><th>25</th><td>34</td><td>ANDALUSIA HEALTH</td><td>010036</td><td>2021-02-05</td><td>1039.0</td><td>0.438004</td><td>0.2</td><td>0.931869</td><td>2021-02-15</td><td><em>missing</em></td></tr><tr><th>26</th><td>35</td><td>MIZELL MEMORIAL HOSPITAL</td><td>010007</td><td>2021-02-05</td><td>1039.0</td><td>0.561996</td><td>0.392857</td><td>1.19567</td><td>2021-02-15</td><td><em>missing</em></td></tr><tr><th>27</th><td>36</td><td>CRENSHAW COMMUNITY HOSPITAL</td><td>010008</td><td>2021-02-05</td><td>1041.0</td><td>1.0</td><td>0.0</td><td>0.63695</td><td>2021-02-15</td><td><em>missing</em></td></tr><tr><th>28</th><td>37</td><td>CULLMAN REGIONAL MEDICAL CENTER</td><td>010035</td><td>2021-02-05</td><td>1043.0</td><td>1.0</td><td>0.241379</td><td>2.77015</td><td>2021-02-15</td><td><em>missing</em></td></tr><tr><th>29</th><td>38</td><td>DALE MEDICAL CENTER</td><td>010021</td><td>2021-02-05</td><td>1045.0</td><td>1.0</td><td>0.25</td><td>1.64425</td><td>2021-02-15</td><td><em>missing</em></td></tr><tr><th>30</th><td>39</td><td>VAUGHAN REGIONAL MEDICAL CENTER PARKWAY CAMPUS</td><td>010118</td><td>2021-02-05</td><td>1047.0</td><td>1.0</td><td>0.189189</td><td>0.897537</td><td>2021-02-15</td><td><em>missing</em></td></tr><tr><th>&vellip;</th><td>&vellip;</td><td>&vellip;</td><td>&vellip;</td><td>&vellip;</td><td>&vellip;</td><td>&vellip;</td><td>&vellip;</td><td>&vellip;</td><td>&vellip;</td><td>&vellip;</td></tr></tbody></table>"
      ],
      "text/latex": [
       "\\begin{tabular}{r|cccccccccc}\n",
       "\t& Column1 & hospital\\_name & ccn & collection\\_week & fips\\_code & hospitalization\\_percentage & ICU\\_percentages & hospitalization\\_2021-02-09 & target\\_date & hospitalizations\\\\\n",
       "\t\\hline\n",
       "\t& Int64 & String & String? & Date & Float64 & Float64? & Float64? & Float64? & Date & Float64?\\\\\n",
       "\t\\hline\n",
       "\t1 & 10 & PRATTVILLE BAPTIST HOSPITAL & 010108 & 2021-02-05 & 1001.0 & 1.0 & 0.234043 & 2.82857 & 2021-02-15 & \\emph{missing} \\\\\n",
       "\t2 & 11 & NORTH BALDWIN INFIRMARY & 010129 & 2021-02-05 & 1003.0 & 0.161404 & 0.1875 & 1.3636 & 2021-02-15 & \\emph{missing} \\\\\n",
       "\t3 & 12 & THOMAS HOSPITAL & 010100 & 2021-02-05 & 1003.0 & 0.515011 & 0.203704 & 4.35101 & 2021-02-15 & \\emph{missing} \\\\\n",
       "\t4 & 13 & SOUTH BALDWIN REGIONAL MEDICAL CENTER & 010083 & 2021-02-05 & 1003.0 & 0.323585 & 0.55814 & 2.73378 & 2021-02-15 & \\emph{missing} \\\\\n",
       "\t5 & 14 & MEDICAL CENTER BARBOUR & 010069 & 2021-02-05 & 1005.0 & 1.0 & 0.333333 & 1.18964 & 2021-02-15 & \\emph{missing} \\\\\n",
       "\t6 & 15 & BIBB MEDICAL CENTER & 010058 & 2021-02-05 & 1007.0 & 0.821429 & 0.0 & 0.556252 & 2021-02-15 & \\emph{missing} \\\\\n",
       "\t7 & 16 & ST VINCENTS BLOUNT & 011305 & 2021-02-05 & 1009.0 & 0.964286 & 0.4 & 2.55036 & 2021-02-15 & \\emph{missing} \\\\\n",
       "\t8 & 17 & BULLOCK COUNTY HOSPITAL & 010110 & 2021-02-05 & 1011.0 & 0.0 & \\emph{missing} & 0.0 & 2021-02-15 & \\emph{missing} \\\\\n",
       "\t9 & 18 & REGIONAL MEDICAL CENTER OF CENTRAL ALABAMA & 010150 & 2021-02-05 & 1013.0 & 0.964286 & 0.466667 & 0.719357 & 2021-02-15 & \\emph{missing} \\\\\n",
       "\t10 & 19 & NOLAND HOSPITAL ANNISTON II, LLC & 012011 & 2021-02-05 & 1015.0 & 0.0201907 & \\emph{missing} & 0.104249 & 2021-02-15 & \\emph{missing} \\\\\n",
       "\t11 & 20 & STRINGFELLOW MEMORIAL HOSPITAL & 010038 & 2021-02-05 & 1015.0 & 0.000816172 & \\emph{missing} & 0.00421408 & 2021-02-15 & \\emph{missing} \\\\\n",
       "\t12 & 21 & NORTHEAST ALABAMA REGIONAL MEDICAL CENTER & 010078 & 2021-02-05 & 1015.0 & 0.978993 & 0.289593 & 5.05476 & 2021-02-15 & \\emph{missing} \\\\\n",
       "\t13 & 22 & EAMC - LANIER & 010175 & 2021-02-05 & 1017.0 & 1.0 & 0.0 & 1.1344 & 2021-02-15 & \\emph{missing} \\\\\n",
       "\t14 & 23 & FLOYD CHEROKEE MEDICAL CENTER & 010022 & 2021-02-05 & 1019.0 & 0.821429 & 0.0 & 0.459081 & 2021-02-15 & \\emph{missing} \\\\\n",
       "\t15 & 24 & ST VINCENT'S CHILTON & 010173 & 2021-02-05 & 1021.0 & 1.0 & 0.0 & 1.06005 & 2021-02-15 & \\emph{missing} \\\\\n",
       "\t16 & 25 & CHOCTAW GENERAL HOSPITAL & 011304 & 2021-02-05 & 1023.0 & 0.964286 & 0.0 & 0.193581 & 2021-02-15 & \\emph{missing} \\\\\n",
       "\t17 & 26 & THOMASVILLE REGIONAL MEDICAL CENTER & 010174 & 2021-02-05 & 1025.0 & 0.309238 & 0.0 & 0.57552 & 2021-02-15 & \\emph{missing} \\\\\n",
       "\t18 & 27 & GROVE HILL MEMORIAL HOSPITAL & 010091 & 2021-02-05 & 1025.0 & 0.227957 & 0.0 & 0.42425 & 2021-02-15 & \\emph{missing} \\\\\n",
       "\t19 & 28 & JACKSON MEDICAL CENTER & 010128 & 2021-02-05 & 1025.0 & 0.462805 & 0.0 & 0.861322 & 2021-02-15 & \\emph{missing} \\\\\n",
       "\t20 & 29 & CLAY COUNTY HOSPITAL & 010073 & 2021-02-05 & 1027.0 & 1.0 & 1.0 & 0.425047 & 2021-02-15 & \\emph{missing} \\\\\n",
       "\t21 & 30 & MEDICAL CENTER ENTERPRISE & 010049 & 2021-02-05 & 1031.0 & 1.0 & 0.179487 & 2.64056 & 2021-02-15 & \\emph{missing} \\\\\n",
       "\t22 & 31 & SHOALS HOSPITAL & 010157 & 2021-02-05 & 1033.0 & 0.161904 & 0.0 & 0.350818 & 2021-02-15 & \\emph{missing} \\\\\n",
       "\t23 & 32 & HELEN KELLER MEMORIAL HOSPITAL & 010019 & 2021-02-05 & 1033.0 & 0.838096 & 0.588517 & 1.81602 & 2021-02-15 & \\emph{missing} \\\\\n",
       "\t24 & 33 & EVERGREEN MEDICAL CENTER & 010148 & 2021-02-05 & 1035.0 & 1.0 & 0.0 & 0.360608 & 2021-02-15 & \\emph{missing} \\\\\n",
       "\t25 & 34 & ANDALUSIA HEALTH & 010036 & 2021-02-05 & 1039.0 & 0.438004 & 0.2 & 0.931869 & 2021-02-15 & \\emph{missing} \\\\\n",
       "\t26 & 35 & MIZELL MEMORIAL HOSPITAL & 010007 & 2021-02-05 & 1039.0 & 0.561996 & 0.392857 & 1.19567 & 2021-02-15 & \\emph{missing} \\\\\n",
       "\t27 & 36 & CRENSHAW COMMUNITY HOSPITAL & 010008 & 2021-02-05 & 1041.0 & 1.0 & 0.0 & 0.63695 & 2021-02-15 & \\emph{missing} \\\\\n",
       "\t28 & 37 & CULLMAN REGIONAL MEDICAL CENTER & 010035 & 2021-02-05 & 1043.0 & 1.0 & 0.241379 & 2.77015 & 2021-02-15 & \\emph{missing} \\\\\n",
       "\t29 & 38 & DALE MEDICAL CENTER & 010021 & 2021-02-05 & 1045.0 & 1.0 & 0.25 & 1.64425 & 2021-02-15 & \\emph{missing} \\\\\n",
       "\t30 & 39 & VAUGHAN REGIONAL MEDICAL CENTER PARKWAY CAMPUS & 010118 & 2021-02-05 & 1047.0 & 1.0 & 0.189189 & 0.897537 & 2021-02-15 & \\emph{missing} \\\\\n",
       "\t$\\dots$ & $\\dots$ & $\\dots$ & $\\dots$ & $\\dots$ & $\\dots$ & $\\dots$ & $\\dots$ & $\\dots$ & $\\dots$ & $\\dots$ \\\\\n",
       "\\end{tabular}\n"
      ],
      "text/plain": [
       "\u001b[1m125268×10 DataFrame\u001b[0m\n",
       "\u001b[1m    Row \u001b[0m│\u001b[1m Column1 \u001b[0m\u001b[1m hospital_name                     \u001b[0m\u001b[1m ccn     \u001b[0m\u001b[1m collection_week \u001b[0m\u001b[1m fips_code \u001b[0m\u001b[1m hospitalization_percentage \u001b[0m\u001b[1m ICU_percentages \u001b[0m\u001b[1m hospitalization_2021-02-09 \u001b[0m\u001b[1m target_date \u001b[0m\u001b[1m hospitalizations \u001b[0m\n",
       "\u001b[1m        \u001b[0m│\u001b[90m Int64   \u001b[0m\u001b[90m String                            \u001b[0m\u001b[90m String? \u001b[0m\u001b[90m Date            \u001b[0m\u001b[90m Float64   \u001b[0m\u001b[90m Union{Missing, Float64}    \u001b[0m\u001b[90m Float64?        \u001b[0m\u001b[90m Union{Missing, Float64}    \u001b[0m\u001b[90m Date        \u001b[0m\u001b[90m Float64?         \u001b[0m\n",
       "────────┼─────────────────────────────────────────────────────────────────────────────────────────────────────────────────────────────────────────────────────────────────────────────────────────\n",
       "      1 │      10  PRATTVILLE BAPTIST HOSPITAL        010108   2021-02-05          1001.0                 1.0                0.234043                   2.82857     2021-02-15  \u001b[90m missing          \u001b[0m\n",
       "      2 │      11  NORTH BALDWIN INFIRMARY            010129   2021-02-05          1003.0                 0.161404           0.1875                     1.3636      2021-02-15  \u001b[90m missing          \u001b[0m\n",
       "      3 │      12  THOMAS HOSPITAL                    010100   2021-02-05          1003.0                 0.515011           0.203704                   4.35101     2021-02-15  \u001b[90m missing          \u001b[0m\n",
       "      4 │      13  SOUTH BALDWIN REGIONAL MEDICAL C…  010083   2021-02-05          1003.0                 0.323585           0.55814                    2.73378     2021-02-15  \u001b[90m missing          \u001b[0m\n",
       "      5 │      14  MEDICAL CENTER BARBOUR             010069   2021-02-05          1005.0                 1.0                0.333333                   1.18964     2021-02-15  \u001b[90m missing          \u001b[0m\n",
       "      6 │      15  BIBB MEDICAL CENTER                010058   2021-02-05          1007.0                 0.821429           0.0                        0.556252    2021-02-15  \u001b[90m missing          \u001b[0m\n",
       "      7 │      16  ST VINCENTS BLOUNT                 011305   2021-02-05          1009.0                 0.964286           0.4                        2.55036     2021-02-15  \u001b[90m missing          \u001b[0m\n",
       "      8 │      17  BULLOCK COUNTY HOSPITAL            010110   2021-02-05          1011.0                 0.0         \u001b[90m missing         \u001b[0m                 0.0         2021-02-15  \u001b[90m missing          \u001b[0m\n",
       "      9 │      18  REGIONAL MEDICAL CENTER OF CENTR…  010150   2021-02-05          1013.0                 0.964286           0.466667                   0.719357    2021-02-15  \u001b[90m missing          \u001b[0m\n",
       "     10 │      19  NOLAND HOSPITAL ANNISTON II, LLC   012011   2021-02-05          1015.0                 0.0201907   \u001b[90m missing         \u001b[0m                 0.104249    2021-02-15  \u001b[90m missing          \u001b[0m\n",
       "     11 │      20  STRINGFELLOW MEMORIAL HOSPITAL     010038   2021-02-05          1015.0                 0.000816172 \u001b[90m missing         \u001b[0m                 0.00421408  2021-02-15  \u001b[90m missing          \u001b[0m\n",
       "   ⋮    │    ⋮                     ⋮                     ⋮            ⋮             ⋮                  ⋮                      ⋮                     ⋮                    ⋮              ⋮\n",
       " 125259 │    4824  NIOBRARA HEALTH & LIFE CENTER     \u001b[90m missing \u001b[0m 2021-02-05         56027.0                 0.214286    \u001b[90m missing         \u001b[0m\u001b[90m           missing          \u001b[0m 2021-03-06         0.00332186\n",
       " 125260 │    4825  POWELL VALLEY HOSPITAL            \u001b[90m missing \u001b[0m 2021-02-05         56029.0                 0.235332    \u001b[90m missing         \u001b[0m\u001b[90m           missing          \u001b[0m 2021-03-06         0.0436558\n",
       " 125261 │    4826  CODY REGIONAL HEALTH              \u001b[90m missing \u001b[0m 2021-02-05         56029.0                 0.657526           0.0       \u001b[90m           missing          \u001b[0m 2021-03-06         0.121976\n",
       " 125262 │    4827  PLATTE COUNTY MEMORIAL HOSPITAL   \u001b[90m missing \u001b[0m 2021-02-05         56031.0                 0.821429           0.0       \u001b[90m           missing          \u001b[0m 2021-03-06         0.058151\n",
       " 125263 │    4828  SHERIDAN MEMORIAL HOSPITAL        \u001b[90m missing \u001b[0m 2021-02-05         56033.0                 1.0                0.142857  \u001b[90m           missing          \u001b[0m 2021-03-06         0.302511\n",
       " 125264 │    4829  MEMORIAL HOSPITAL SWEETWATER COU… \u001b[90m missing \u001b[0m 2021-02-05         56037.0                 0.785714           0.857143  \u001b[90m           missing          \u001b[0m 2021-03-06         0.285712\n",
       " 125265 │    4830  ST JOHNS MEDICAL CENTER           \u001b[90m missing \u001b[0m 2021-02-05         56039.0                 1.0                0.0       \u001b[90m           missing          \u001b[0m 2021-03-06         0.508466\n",
       " 125266 │    4831  EVANSTON REGIONAL HOSPITAL        \u001b[90m missing \u001b[0m 2021-02-05         56041.0                 0.535714           1.0       \u001b[90m           missing          \u001b[0m 2021-03-06         0.091628\n",
       " 125267 │    4832  WASHAKIE MEDICAL CENTER           \u001b[90m missing \u001b[0m 2021-02-05         56043.0                 0.964286    \u001b[90m missing         \u001b[0m\u001b[90m           missing          \u001b[0m 2021-03-06         0.0554449\n",
       " 125268 │    4833  WESTON COUNTY HEALTH SERVICES     \u001b[90m missing \u001b[0m 2021-02-05         56045.0                 0.321429           0.0       \u001b[90m           missing          \u001b[0m 2021-03-06         0.017938\n",
       "\u001b[31m                                                                                                                                                                               125247 rows omitted\u001b[0m"
      ]
     },
     "execution_count": 3,
     "metadata": {},
     "output_type": "execute_result"
    }
   ],
   "source": [
    "rawdata = DataFrame(CSV.File(\"../rawdata/output_HHS_US_2021-02-15_one_column.csv\"))"
   ]
  },
  {
   "cell_type": "code",
   "execution_count": 4,
   "metadata": {},
   "outputs": [],
   "source": [
    "function firstval(xs)\n",
    "    isbad(x) = isnothing(x) || ismissing(x)\n",
    "    if all(isbad.(xs))\n",
    "        return missing\n",
    "    else\n",
    "        return xs[findfirst(x -> !isbad(x), xs)]\n",
    "    end\n",
    "end;"
   ]
  },
  {
   "cell_type": "code",
   "execution_count": 5,
   "metadata": {},
   "outputs": [],
   "source": [
    "ccn_lookup_df = combine(groupby(rawdata, [:Column1, :hospital_name]), :ccn => firstval => :ccn)\n",
    "ccn_lookup = Dict(row.Column1 => row.ccn for row in eachrow(ccn_lookup_df));"
   ]
  },
  {
   "cell_type": "code",
   "execution_count": 6,
   "metadata": {},
   "outputs": [],
   "source": [
    "filter!(row -> ismissing(row[\"hospitalization_2021-02-09\"]), rawdata);"
   ]
  },
  {
   "cell_type": "code",
   "execution_count": 7,
   "metadata": {},
   "outputs": [
    {
     "data": {
      "text/html": [
       "<table class=\"data-frame\"><thead><tr><th></th><th>hospital</th><th>hospital_id</th><th>date</th><th>admitted_moderate_icu</th><th>admitted_moderate_acute</th><th>admitted_moderate_allbeds</th></tr><tr><th></th><th>String</th><th>String?</th><th>Date</th><th>Float64?</th><th>Float64?</th><th>Float64?</th></tr></thead><tbody><p>120,455 rows × 6 columns</p><tr><th>1</th><td>ABBEVILLE AREA MEDICAL CENTER</td><td>421301</td><td>2021-02-10</td><td>0.0</td><td>0.932182</td><td>0.932182</td></tr><tr><th>2</th><td>ABBEVILLE AREA MEDICAL CENTER</td><td>421301</td><td>2021-02-11</td><td>0.0</td><td>0.927556</td><td>0.927556</td></tr><tr><th>3</th><td>ABBEVILLE AREA MEDICAL CENTER</td><td>421301</td><td>2021-02-12</td><td>0.0</td><td>0.906275</td><td>0.906275</td></tr><tr><th>4</th><td>ABBEVILLE AREA MEDICAL CENTER</td><td>421301</td><td>2021-02-13</td><td>0.0</td><td>0.882219</td><td>0.882219</td></tr><tr><th>5</th><td>ABBEVILLE AREA MEDICAL CENTER</td><td>421301</td><td>2021-02-14</td><td>0.0</td><td>0.828106</td><td>0.828106</td></tr><tr><th>6</th><td>ABBEVILLE AREA MEDICAL CENTER</td><td>421301</td><td>2021-02-15</td><td>0.0</td><td>0.856132</td><td>0.856132</td></tr><tr><th>7</th><td>ABBEVILLE AREA MEDICAL CENTER</td><td>421301</td><td>2021-02-16</td><td>0.0</td><td>0.81319</td><td>0.81319</td></tr><tr><th>8</th><td>ABBEVILLE AREA MEDICAL CENTER</td><td>421301</td><td>2021-02-17</td><td>0.0</td><td>0.805505</td><td>0.805505</td></tr><tr><th>9</th><td>ABBEVILLE AREA MEDICAL CENTER</td><td>421301</td><td>2021-02-18</td><td>0.0</td><td>0.800081</td><td>0.800081</td></tr><tr><th>10</th><td>ABBEVILLE AREA MEDICAL CENTER</td><td>421301</td><td>2021-02-19</td><td>0.0</td><td>0.77748</td><td>0.77748</td></tr><tr><th>11</th><td>ABBEVILLE AREA MEDICAL CENTER</td><td>421301</td><td>2021-02-20</td><td>0.0</td><td>0.766179</td><td>0.766179</td></tr><tr><th>12</th><td>ABBEVILLE AREA MEDICAL CENTER</td><td>421301</td><td>2021-02-21</td><td>0.0</td><td>0.716061</td><td>0.716061</td></tr><tr><th>13</th><td>ABBEVILLE AREA MEDICAL CENTER</td><td>421301</td><td>2021-02-22</td><td>0.0</td><td>0.736182</td><td>0.736182</td></tr><tr><th>14</th><td>ABBEVILLE AREA MEDICAL CENTER</td><td>421301</td><td>2021-02-23</td><td>0.0</td><td>0.713874</td><td>0.713874</td></tr><tr><th>15</th><td>ABBEVILLE AREA MEDICAL CENTER</td><td>421301</td><td>2021-02-24</td><td>0.0</td><td>0.70425</td><td>0.70425</td></tr><tr><th>16</th><td>ABBEVILLE AREA MEDICAL CENTER</td><td>421301</td><td>2021-02-25</td><td>0.0</td><td>0.699876</td><td>0.699876</td></tr><tr><th>17</th><td>ABBEVILLE AREA MEDICAL CENTER</td><td>421301</td><td>2021-02-26</td><td>0.0</td><td>0.685879</td><td>0.685879</td></tr><tr><th>18</th><td>ABBEVILLE AREA MEDICAL CENTER</td><td>421301</td><td>2021-02-27</td><td>0.0</td><td>0.67538</td><td>0.67538</td></tr><tr><th>19</th><td>ABBEVILLE AREA MEDICAL CENTER</td><td>421301</td><td>2021-02-28</td><td>0.0</td><td>0.633372</td><td>0.633372</td></tr><tr><th>20</th><td>ABBEVILLE AREA MEDICAL CENTER</td><td>421301</td><td>2021-03-01</td><td>0.0</td><td>0.658284</td><td>0.658284</td></tr><tr><th>21</th><td>ABBEVILLE AREA MEDICAL CENTER</td><td>421301</td><td>2021-03-02</td><td>0.0</td><td>0.634639</td><td>0.634639</td></tr><tr><th>22</th><td>ABBEVILLE AREA MEDICAL CENTER</td><td>421301</td><td>2021-03-03</td><td>0.0</td><td>0.62366</td><td>0.62366</td></tr><tr><th>23</th><td>ABBEVILLE AREA MEDICAL CENTER</td><td>421301</td><td>2021-03-04</td><td>0.0</td><td>0.627883</td><td>0.627883</td></tr><tr><th>24</th><td>ABBEVILLE AREA MEDICAL CENTER</td><td>421301</td><td>2021-03-05</td><td>0.0</td><td>0.617326</td><td>0.617326</td></tr><tr><th>25</th><td>ABBEVILLE AREA MEDICAL CENTER</td><td>421301</td><td>2021-03-06</td><td>0.0</td><td>0.609304</td><td>0.609304</td></tr><tr><th>26</th><td>ABBEVILLE GENERAL HOSPITAL</td><td>190034</td><td>2021-02-10</td><td>0.126459</td><td>0.189688</td><td>0.316147</td></tr><tr><th>27</th><td>ABBEVILLE GENERAL HOSPITAL</td><td>190034</td><td>2021-02-11</td><td>0.123512</td><td>0.185268</td><td>0.30878</td></tr><tr><th>28</th><td>ABBEVILLE GENERAL HOSPITAL</td><td>190034</td><td>2021-02-12</td><td>0.12384</td><td>0.185759</td><td>0.309599</td></tr><tr><th>29</th><td>ABBEVILLE GENERAL HOSPITAL</td><td>190034</td><td>2021-02-13</td><td>0.111153</td><td>0.166729</td><td>0.277882</td></tr><tr><th>30</th><td>ABBEVILLE GENERAL HOSPITAL</td><td>190034</td><td>2021-02-14</td><td>0.155186</td><td>0.232779</td><td>0.387966</td></tr><tr><th>&vellip;</th><td>&vellip;</td><td>&vellip;</td><td>&vellip;</td><td>&vellip;</td><td>&vellip;</td><td>&vellip;</td></tr></tbody></table>"
      ],
      "text/latex": [
       "\\begin{tabular}{r|cccccc}\n",
       "\t& hospital & hospital\\_id & date & admitted\\_moderate\\_icu & admitted\\_moderate\\_acute & admitted\\_moderate\\_allbeds\\\\\n",
       "\t\\hline\n",
       "\t& String & String? & Date & Float64? & Float64? & Float64?\\\\\n",
       "\t\\hline\n",
       "\t1 & ABBEVILLE AREA MEDICAL CENTER & 421301 & 2021-02-10 & 0.0 & 0.932182 & 0.932182 \\\\\n",
       "\t2 & ABBEVILLE AREA MEDICAL CENTER & 421301 & 2021-02-11 & 0.0 & 0.927556 & 0.927556 \\\\\n",
       "\t3 & ABBEVILLE AREA MEDICAL CENTER & 421301 & 2021-02-12 & 0.0 & 0.906275 & 0.906275 \\\\\n",
       "\t4 & ABBEVILLE AREA MEDICAL CENTER & 421301 & 2021-02-13 & 0.0 & 0.882219 & 0.882219 \\\\\n",
       "\t5 & ABBEVILLE AREA MEDICAL CENTER & 421301 & 2021-02-14 & 0.0 & 0.828106 & 0.828106 \\\\\n",
       "\t6 & ABBEVILLE AREA MEDICAL CENTER & 421301 & 2021-02-15 & 0.0 & 0.856132 & 0.856132 \\\\\n",
       "\t7 & ABBEVILLE AREA MEDICAL CENTER & 421301 & 2021-02-16 & 0.0 & 0.81319 & 0.81319 \\\\\n",
       "\t8 & ABBEVILLE AREA MEDICAL CENTER & 421301 & 2021-02-17 & 0.0 & 0.805505 & 0.805505 \\\\\n",
       "\t9 & ABBEVILLE AREA MEDICAL CENTER & 421301 & 2021-02-18 & 0.0 & 0.800081 & 0.800081 \\\\\n",
       "\t10 & ABBEVILLE AREA MEDICAL CENTER & 421301 & 2021-02-19 & 0.0 & 0.77748 & 0.77748 \\\\\n",
       "\t11 & ABBEVILLE AREA MEDICAL CENTER & 421301 & 2021-02-20 & 0.0 & 0.766179 & 0.766179 \\\\\n",
       "\t12 & ABBEVILLE AREA MEDICAL CENTER & 421301 & 2021-02-21 & 0.0 & 0.716061 & 0.716061 \\\\\n",
       "\t13 & ABBEVILLE AREA MEDICAL CENTER & 421301 & 2021-02-22 & 0.0 & 0.736182 & 0.736182 \\\\\n",
       "\t14 & ABBEVILLE AREA MEDICAL CENTER & 421301 & 2021-02-23 & 0.0 & 0.713874 & 0.713874 \\\\\n",
       "\t15 & ABBEVILLE AREA MEDICAL CENTER & 421301 & 2021-02-24 & 0.0 & 0.70425 & 0.70425 \\\\\n",
       "\t16 & ABBEVILLE AREA MEDICAL CENTER & 421301 & 2021-02-25 & 0.0 & 0.699876 & 0.699876 \\\\\n",
       "\t17 & ABBEVILLE AREA MEDICAL CENTER & 421301 & 2021-02-26 & 0.0 & 0.685879 & 0.685879 \\\\\n",
       "\t18 & ABBEVILLE AREA MEDICAL CENTER & 421301 & 2021-02-27 & 0.0 & 0.67538 & 0.67538 \\\\\n",
       "\t19 & ABBEVILLE AREA MEDICAL CENTER & 421301 & 2021-02-28 & 0.0 & 0.633372 & 0.633372 \\\\\n",
       "\t20 & ABBEVILLE AREA MEDICAL CENTER & 421301 & 2021-03-01 & 0.0 & 0.658284 & 0.658284 \\\\\n",
       "\t21 & ABBEVILLE AREA MEDICAL CENTER & 421301 & 2021-03-02 & 0.0 & 0.634639 & 0.634639 \\\\\n",
       "\t22 & ABBEVILLE AREA MEDICAL CENTER & 421301 & 2021-03-03 & 0.0 & 0.62366 & 0.62366 \\\\\n",
       "\t23 & ABBEVILLE AREA MEDICAL CENTER & 421301 & 2021-03-04 & 0.0 & 0.627883 & 0.627883 \\\\\n",
       "\t24 & ABBEVILLE AREA MEDICAL CENTER & 421301 & 2021-03-05 & 0.0 & 0.617326 & 0.617326 \\\\\n",
       "\t25 & ABBEVILLE AREA MEDICAL CENTER & 421301 & 2021-03-06 & 0.0 & 0.609304 & 0.609304 \\\\\n",
       "\t26 & ABBEVILLE GENERAL HOSPITAL & 190034 & 2021-02-10 & 0.126459 & 0.189688 & 0.316147 \\\\\n",
       "\t27 & ABBEVILLE GENERAL HOSPITAL & 190034 & 2021-02-11 & 0.123512 & 0.185268 & 0.30878 \\\\\n",
       "\t28 & ABBEVILLE GENERAL HOSPITAL & 190034 & 2021-02-12 & 0.12384 & 0.185759 & 0.309599 \\\\\n",
       "\t29 & ABBEVILLE GENERAL HOSPITAL & 190034 & 2021-02-13 & 0.111153 & 0.166729 & 0.277882 \\\\\n",
       "\t30 & ABBEVILLE GENERAL HOSPITAL & 190034 & 2021-02-14 & 0.155186 & 0.232779 & 0.387966 \\\\\n",
       "\t$\\dots$ & $\\dots$ & $\\dots$ & $\\dots$ & $\\dots$ & $\\dots$ & $\\dots$ \\\\\n",
       "\\end{tabular}\n"
      ],
      "text/plain": [
       "\u001b[1m120455×6 DataFrame\u001b[0m\n",
       "\u001b[1m    Row \u001b[0m│\u001b[1m hospital                          \u001b[0m\u001b[1m hospital_id \u001b[0m\u001b[1m date       \u001b[0m\u001b[1m admitted_moderate_icu \u001b[0m\u001b[1m admitted_moderate_acute \u001b[0m\u001b[1m admitted_moderate_allbeds \u001b[0m\n",
       "\u001b[1m        \u001b[0m│\u001b[90m String                            \u001b[0m\u001b[90m String?     \u001b[0m\u001b[90m Date       \u001b[0m\u001b[90m Float64?              \u001b[0m\u001b[90m Union{Missing, Float64} \u001b[0m\u001b[90m Union{Missing, Float64}   \u001b[0m\n",
       "────────┼───────────────────────────────────────────────────────────────────────────────────────────────────────────────────────────────────────\n",
       "      1 │ ABBEVILLE AREA MEDICAL CENTER      421301       2021-02-10               0.0                      0.932182                   0.932182\n",
       "      2 │ ABBEVILLE AREA MEDICAL CENTER      421301       2021-02-11               0.0                      0.927556                   0.927556\n",
       "      3 │ ABBEVILLE AREA MEDICAL CENTER      421301       2021-02-12               0.0                      0.906275                   0.906275\n",
       "      4 │ ABBEVILLE AREA MEDICAL CENTER      421301       2021-02-13               0.0                      0.882219                   0.882219\n",
       "      5 │ ABBEVILLE AREA MEDICAL CENTER      421301       2021-02-14               0.0                      0.828106                   0.828106\n",
       "      6 │ ABBEVILLE AREA MEDICAL CENTER      421301       2021-02-15               0.0                      0.856132                   0.856132\n",
       "      7 │ ABBEVILLE AREA MEDICAL CENTER      421301       2021-02-16               0.0                      0.81319                    0.81319\n",
       "      8 │ ABBEVILLE AREA MEDICAL CENTER      421301       2021-02-17               0.0                      0.805505                   0.805505\n",
       "      9 │ ABBEVILLE AREA MEDICAL CENTER      421301       2021-02-18               0.0                      0.800081                   0.800081\n",
       "     10 │ ABBEVILLE AREA MEDICAL CENTER      421301       2021-02-19               0.0                      0.77748                    0.77748\n",
       "     11 │ ABBEVILLE AREA MEDICAL CENTER      421301       2021-02-20               0.0                      0.766179                   0.766179\n",
       "   ⋮    │                 ⋮                       ⋮           ⋮                 ⋮                       ⋮                         ⋮\n",
       " 120446 │ ZUCKERBERG SAN FRANCISCO GENERAL…  050228       2021-02-25               0.498378                 1.54044                    2.03882\n",
       " 120447 │ ZUCKERBERG SAN FRANCISCO GENERAL…  050228       2021-02-26               0.50102                  1.54861                    2.04963\n",
       " 120448 │ ZUCKERBERG SAN FRANCISCO GENERAL…  050228       2021-02-27               0.483444                 1.49428                    1.97772\n",
       " 120449 │ ZUCKERBERG SAN FRANCISCO GENERAL…  050228       2021-02-28               0.513418                 1.58693                    2.10035\n",
       " 120450 │ ZUCKERBERG SAN FRANCISCO GENERAL…  050228       2021-03-01               0.516633                 1.59687                    2.1135\n",
       " 120451 │ ZUCKERBERG SAN FRANCISCO GENERAL…  050228       2021-03-02               0.529014                 1.63514                    2.16415\n",
       " 120452 │ ZUCKERBERG SAN FRANCISCO GENERAL…  050228       2021-03-03               0.521276                 1.61122                    2.13249\n",
       " 120453 │ ZUCKERBERG SAN FRANCISCO GENERAL…  050228       2021-03-04               0.517585                 1.59981                    2.11739\n",
       " 120454 │ ZUCKERBERG SAN FRANCISCO GENERAL…  050228       2021-03-05               0.533538                 1.64912                    2.18266\n",
       " 120455 │ ZUCKERBERG SAN FRANCISCO GENERAL…  050228       2021-03-06               0.539313                 1.66697                    2.20628\n",
       "\u001b[31m                                                                                                                             120434 rows omitted\u001b[0m"
      ]
     },
     "execution_count": 7,
     "metadata": {},
     "output_type": "execute_result"
    }
   ],
   "source": [
    "data = select(rawdata,\n",
    "    :hospital_name => :hospital,\n",
    "    :Column1 => ByRow(x -> ccn_lookup[x]) => :hospital_id,\n",
    "    :target_date => :date,\n",
    "    [\"hospitalizations\", \"ICU_percentages\"] => ByRow((x,y) -> x*coalesce(y,0.3)) => :admitted_moderate_icu,\n",
    "    [\"hospitalizations\", \"ICU_percentages\"] => ByRow((x,y) -> x*(1.0-coalesce(y,0.3))) => :admitted_moderate_acute,\n",
    "    \"hospitalizations\" => :admitted_moderate_allbeds,\n",
    ")\n",
    "sort!(data, [:hospital, :hospital_id, :date])"
   ]
  },
  {
   "cell_type": "code",
   "execution_count": 8,
   "metadata": {},
   "outputs": [
    {
     "data": {
      "text/plain": [
       "\"../data/hhs_forecast_2021_02_15.csv\""
      ]
     },
     "execution_count": 8,
     "metadata": {},
     "output_type": "execute_result"
    }
   ],
   "source": [
    "data |> CSV.write(\"../data/hhs_forecast_2021_02_15.csv\")"
   ]
  },
  {
   "cell_type": "code",
   "execution_count": null,
   "metadata": {},
   "outputs": [],
   "source": []
  }
 ],
 "metadata": {
  "@webio": {
   "lastCommId": null,
   "lastKernelId": null
  },
  "kernelspec": {
   "display_name": "Julia 1.5.3",
   "language": "julia",
   "name": "julia-1.5"
  },
  "language_info": {
   "file_extension": ".jl",
   "mimetype": "application/julia",
   "name": "julia",
   "version": "1.5.3"
  }
 },
 "nbformat": 4,
 "nbformat_minor": 4
}
