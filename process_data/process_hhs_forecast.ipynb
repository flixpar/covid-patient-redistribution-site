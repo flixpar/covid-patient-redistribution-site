{
 "cells": [
  {
   "cell_type": "code",
   "execution_count": 1,
   "metadata": {},
   "outputs": [],
   "source": [
    "using CSV\n",
    "using DataFrames\n",
    "using Dates"
   ]
  },
  {
   "cell_type": "code",
   "execution_count": 2,
   "metadata": {},
   "outputs": [],
   "source": [
    "ENV[\"COLUMNS\"] = 1000;"
   ]
  },
  {
   "cell_type": "code",
   "execution_count": 3,
   "metadata": {},
   "outputs": [
    {
     "data": {
      "text/html": [
       "<table class=\"data-frame\"><thead><tr><th></th><th>Column1</th><th>hospital_name</th><th>ccn</th><th>collection_week</th><th>fips_code</th><th>hospitalization_percentage</th><th>ICU_percentages</th><th>hospitalization_2020-12-29</th><th>target_date</th></tr><tr><th></th><th>Int64</th><th>String</th><th>String?</th><th>Date</th><th>Float64</th><th>Float64?</th><th>Float64?</th><th>Float64?</th><th>Date</th></tr></thead><tbody><p>125,424 rows × 9 columns</p><tr><th>1</th><td>10</td><td>PRATTVILLE BAPTIST HOSPITAL</td><td>010108</td><td>2020-12-25</td><td>1001.0</td><td>1.0</td><td>0.0944056</td><td>3.53556</td><td>2020-12-29</td></tr><tr><th>2</th><td>11</td><td>NORTH BALDWIN INFIRMARY</td><td>010129</td><td>2020-12-25</td><td>1003.0</td><td>0.164736</td><td>0.0795455</td><td>1.76119</td><td>2020-12-29</td></tr><tr><th>3</th><td>12</td><td>THOMAS HOSPITAL</td><td>010100</td><td>2020-12-25</td><td>1003.0</td><td>0.520986</td><td>0.195402</td><td>5.56984</td><td>2020-12-29</td></tr><tr><th>4</th><td>13</td><td>SOUTH BALDWIN REGIONAL MEDICAL CENTER</td><td>010083</td><td>2020-12-25</td><td>1003.0</td><td>0.314278</td><td>0.441718</td><td>3.35993</td><td>2020-12-29</td></tr><tr><th>5</th><td>14</td><td>MEDICAL CENTER BARBOUR</td><td>010069</td><td>2020-12-25</td><td>1005.0</td><td>1.0</td><td>0.328125</td><td>0.94236</td><td>2020-12-29</td></tr><tr><th>6</th><td>15</td><td>BIBB MEDICAL CENTER</td><td>010058</td><td>2020-12-25</td><td>1007.0</td><td>0.863636</td><td><em>missing</em></td><td>1.39368</td><td>2020-12-29</td></tr><tr><th>7</th><td>16</td><td>ST VINCENTS BLOUNT</td><td>011305</td><td>2020-12-25</td><td>1009.0</td><td>0.954545</td><td>0.238636</td><td>3.25057</td><td>2020-12-29</td></tr><tr><th>8</th><td>17</td><td>BULLOCK COUNTY HOSPITAL</td><td>010110</td><td>2020-12-25</td><td>1011.0</td><td>0.0</td><td><em>missing</em></td><td>0.0</td><td>2020-12-29</td></tr><tr><th>9</th><td>18</td><td>REGIONAL MEDICAL CENTER OF CENTRAL ALABAMA</td><td>010150</td><td>2020-12-25</td><td>1013.0</td><td>0.954545</td><td>0.32</td><td>0.662337</td><td>2020-12-29</td></tr><tr><th>10</th><td>19</td><td>NOLAND HOSPITAL ANNISTON II, LLC</td><td>012011</td><td>2020-12-25</td><td>1015.0</td><td>0.0246009</td><td>0.0</td><td>0.15705</td><td>2020-12-29</td></tr><tr><th>11</th><td>20</td><td>STRINGFELLOW MEMORIAL HOSPITAL</td><td>010038</td><td>2020-12-25</td><td>1015.0</td><td>0.00103876</td><td><em>missing</em></td><td>0.0066314</td><td>2020-12-29</td></tr><tr><th>12</th><td>21</td><td>NORTHEAST ALABAMA REGIONAL MEDICAL CENTER</td><td>010078</td><td>2020-12-25</td><td>1015.0</td><td>0.97436</td><td>0.220624</td><td>6.22025</td><td>2020-12-29</td></tr><tr><th>13</th><td>22</td><td>EAMC - LANIER</td><td>010175</td><td>2020-12-25</td><td>1017.0</td><td>1.0</td><td>0.0</td><td>1.10431</td><td>2020-12-29</td></tr><tr><th>14</th><td>23</td><td>FLOYD CHEROKEE MEDICAL CENTER</td><td>010022</td><td>2020-12-25</td><td>1019.0</td><td>0.818182</td><td>0.0</td><td>0.909882</td><td>2020-12-29</td></tr><tr><th>15</th><td>24</td><td>ST VINCENT'S CHILTON</td><td>010173</td><td>2020-12-25</td><td>1021.0</td><td>1.0</td><td>0.348837</td><td>1.60261</td><td>2020-12-29</td></tr><tr><th>16</th><td>25</td><td>CHOCTAW GENERAL HOSPITAL</td><td>011304</td><td>2020-12-25</td><td>1023.0</td><td>0.954545</td><td>0.0</td><td>0.256879</td><td>2020-12-29</td></tr><tr><th>17</th><td>26</td><td>JACKSON MEDICAL CENTER</td><td>010128</td><td>2020-12-25</td><td>1025.0</td><td>0.441783</td><td>0.0</td><td>0.56516</td><td>2020-12-29</td></tr><tr><th>18</th><td>27</td><td>GROVE HILL MEMORIAL HOSPITAL</td><td>010091</td><td>2020-12-25</td><td>1025.0</td><td>0.251483</td><td>0.0</td><td>0.321715</td><td>2020-12-29</td></tr><tr><th>19</th><td>28</td><td>THOMASVILLE REGIONAL MEDICAL CENTER</td><td>010174</td><td>2020-12-25</td><td>1025.0</td><td>0.306734</td><td>0.0</td><td>0.392397</td><td>2020-12-29</td></tr><tr><th>20</th><td>29</td><td>CLAY COUNTY HOSPITAL</td><td>010073</td><td>2020-12-25</td><td>1027.0</td><td>1.0</td><td>0.957447</td><td>0.649806</td><td>2020-12-29</td></tr><tr><th>21</th><td>30</td><td>MEDICAL CENTER ENTERPRISE</td><td>010049</td><td>2020-12-25</td><td>1031.0</td><td>1.0</td><td>0.193548</td><td>2.66433</td><td>2020-12-29</td></tr><tr><th>22</th><td>31</td><td>HELEN KELLER MEMORIAL HOSPITAL</td><td>010019</td><td>2020-12-25</td><td>1033.0</td><td>0.812684</td><td>0.428916</td><td>2.69694</td><td>2020-12-29</td></tr><tr><th>23</th><td>32</td><td>SHOALS HOSPITAL</td><td>010157</td><td>2020-12-25</td><td>1033.0</td><td>0.187316</td><td>0.0</td><td>0.621617</td><td>2020-12-29</td></tr><tr><th>24</th><td>33</td><td>EVERGREEN MEDICAL CENTER</td><td>010148</td><td>2020-12-25</td><td>1035.0</td><td>1.0</td><td>0.0</td><td>0.296881</td><td>2020-12-29</td></tr><tr><th>25</th><td>34</td><td>MIZELL MEMORIAL HOSPITAL</td><td>010007</td><td>2020-12-25</td><td>1039.0</td><td>0.578223</td><td>0.179487</td><td>0.747345</td><td>2020-12-29</td></tr><tr><th>26</th><td>35</td><td>ANDALUSIA HEALTH</td><td>010036</td><td>2020-12-25</td><td>1039.0</td><td>0.421777</td><td>0.375</td><td>0.545141</td><td>2020-12-29</td></tr><tr><th>27</th><td>36</td><td>CRENSHAW COMMUNITY HOSPITAL</td><td>010008</td><td>2020-12-25</td><td>1041.0</td><td>1.0</td><td>0.0</td><td>0.688972</td><td>2020-12-29</td></tr><tr><th>28</th><td>37</td><td>CULLMAN REGIONAL MEDICAL CENTER</td><td>010035</td><td>2020-12-25</td><td>1043.0</td><td>1.0</td><td>0.276923</td><td>5.56902</td><td>2020-12-29</td></tr><tr><th>29</th><td>38</td><td>DALE MEDICAL CENTER</td><td>010021</td><td>2020-12-25</td><td>1045.0</td><td>1.0</td><td>0.157895</td><td>2.2114</td><td>2020-12-29</td></tr><tr><th>30</th><td>39</td><td>VAUGHAN REGIONAL MEDICAL CENTER PARKWAY CAMPUS</td><td>010118</td><td>2020-12-25</td><td>1047.0</td><td>1.0</td><td>0.341463</td><td>1.09145</td><td>2020-12-29</td></tr><tr><th>&vellip;</th><td>&vellip;</td><td>&vellip;</td><td>&vellip;</td><td>&vellip;</td><td>&vellip;</td><td>&vellip;</td><td>&vellip;</td><td>&vellip;</td><td>&vellip;</td></tr></tbody></table>"
      ],
      "text/latex": [
       "\\begin{tabular}{r|ccccccccc}\n",
       "\t& Column1 & hospital\\_name & ccn & collection\\_week & fips\\_code & hospitalization\\_percentage & ICU\\_percentages & hospitalization\\_2020-12-29 & target\\_date\\\\\n",
       "\t\\hline\n",
       "\t& Int64 & String & String? & Date & Float64 & Float64? & Float64? & Float64? & Date\\\\\n",
       "\t\\hline\n",
       "\t1 & 10 & PRATTVILLE BAPTIST HOSPITAL & 010108 & 2020-12-25 & 1001.0 & 1.0 & 0.0944056 & 3.53556 & 2020-12-29 \\\\\n",
       "\t2 & 11 & NORTH BALDWIN INFIRMARY & 010129 & 2020-12-25 & 1003.0 & 0.164736 & 0.0795455 & 1.76119 & 2020-12-29 \\\\\n",
       "\t3 & 12 & THOMAS HOSPITAL & 010100 & 2020-12-25 & 1003.0 & 0.520986 & 0.195402 & 5.56984 & 2020-12-29 \\\\\n",
       "\t4 & 13 & SOUTH BALDWIN REGIONAL MEDICAL CENTER & 010083 & 2020-12-25 & 1003.0 & 0.314278 & 0.441718 & 3.35993 & 2020-12-29 \\\\\n",
       "\t5 & 14 & MEDICAL CENTER BARBOUR & 010069 & 2020-12-25 & 1005.0 & 1.0 & 0.328125 & 0.94236 & 2020-12-29 \\\\\n",
       "\t6 & 15 & BIBB MEDICAL CENTER & 010058 & 2020-12-25 & 1007.0 & 0.863636 & \\emph{missing} & 1.39368 & 2020-12-29 \\\\\n",
       "\t7 & 16 & ST VINCENTS BLOUNT & 011305 & 2020-12-25 & 1009.0 & 0.954545 & 0.238636 & 3.25057 & 2020-12-29 \\\\\n",
       "\t8 & 17 & BULLOCK COUNTY HOSPITAL & 010110 & 2020-12-25 & 1011.0 & 0.0 & \\emph{missing} & 0.0 & 2020-12-29 \\\\\n",
       "\t9 & 18 & REGIONAL MEDICAL CENTER OF CENTRAL ALABAMA & 010150 & 2020-12-25 & 1013.0 & 0.954545 & 0.32 & 0.662337 & 2020-12-29 \\\\\n",
       "\t10 & 19 & NOLAND HOSPITAL ANNISTON II, LLC & 012011 & 2020-12-25 & 1015.0 & 0.0246009 & 0.0 & 0.15705 & 2020-12-29 \\\\\n",
       "\t11 & 20 & STRINGFELLOW MEMORIAL HOSPITAL & 010038 & 2020-12-25 & 1015.0 & 0.00103876 & \\emph{missing} & 0.0066314 & 2020-12-29 \\\\\n",
       "\t12 & 21 & NORTHEAST ALABAMA REGIONAL MEDICAL CENTER & 010078 & 2020-12-25 & 1015.0 & 0.97436 & 0.220624 & 6.22025 & 2020-12-29 \\\\\n",
       "\t13 & 22 & EAMC - LANIER & 010175 & 2020-12-25 & 1017.0 & 1.0 & 0.0 & 1.10431 & 2020-12-29 \\\\\n",
       "\t14 & 23 & FLOYD CHEROKEE MEDICAL CENTER & 010022 & 2020-12-25 & 1019.0 & 0.818182 & 0.0 & 0.909882 & 2020-12-29 \\\\\n",
       "\t15 & 24 & ST VINCENT'S CHILTON & 010173 & 2020-12-25 & 1021.0 & 1.0 & 0.348837 & 1.60261 & 2020-12-29 \\\\\n",
       "\t16 & 25 & CHOCTAW GENERAL HOSPITAL & 011304 & 2020-12-25 & 1023.0 & 0.954545 & 0.0 & 0.256879 & 2020-12-29 \\\\\n",
       "\t17 & 26 & JACKSON MEDICAL CENTER & 010128 & 2020-12-25 & 1025.0 & 0.441783 & 0.0 & 0.56516 & 2020-12-29 \\\\\n",
       "\t18 & 27 & GROVE HILL MEMORIAL HOSPITAL & 010091 & 2020-12-25 & 1025.0 & 0.251483 & 0.0 & 0.321715 & 2020-12-29 \\\\\n",
       "\t19 & 28 & THOMASVILLE REGIONAL MEDICAL CENTER & 010174 & 2020-12-25 & 1025.0 & 0.306734 & 0.0 & 0.392397 & 2020-12-29 \\\\\n",
       "\t20 & 29 & CLAY COUNTY HOSPITAL & 010073 & 2020-12-25 & 1027.0 & 1.0 & 0.957447 & 0.649806 & 2020-12-29 \\\\\n",
       "\t21 & 30 & MEDICAL CENTER ENTERPRISE & 010049 & 2020-12-25 & 1031.0 & 1.0 & 0.193548 & 2.66433 & 2020-12-29 \\\\\n",
       "\t22 & 31 & HELEN KELLER MEMORIAL HOSPITAL & 010019 & 2020-12-25 & 1033.0 & 0.812684 & 0.428916 & 2.69694 & 2020-12-29 \\\\\n",
       "\t23 & 32 & SHOALS HOSPITAL & 010157 & 2020-12-25 & 1033.0 & 0.187316 & 0.0 & 0.621617 & 2020-12-29 \\\\\n",
       "\t24 & 33 & EVERGREEN MEDICAL CENTER & 010148 & 2020-12-25 & 1035.0 & 1.0 & 0.0 & 0.296881 & 2020-12-29 \\\\\n",
       "\t25 & 34 & MIZELL MEMORIAL HOSPITAL & 010007 & 2020-12-25 & 1039.0 & 0.578223 & 0.179487 & 0.747345 & 2020-12-29 \\\\\n",
       "\t26 & 35 & ANDALUSIA HEALTH & 010036 & 2020-12-25 & 1039.0 & 0.421777 & 0.375 & 0.545141 & 2020-12-29 \\\\\n",
       "\t27 & 36 & CRENSHAW COMMUNITY HOSPITAL & 010008 & 2020-12-25 & 1041.0 & 1.0 & 0.0 & 0.688972 & 2020-12-29 \\\\\n",
       "\t28 & 37 & CULLMAN REGIONAL MEDICAL CENTER & 010035 & 2020-12-25 & 1043.0 & 1.0 & 0.276923 & 5.56902 & 2020-12-29 \\\\\n",
       "\t29 & 38 & DALE MEDICAL CENTER & 010021 & 2020-12-25 & 1045.0 & 1.0 & 0.157895 & 2.2114 & 2020-12-29 \\\\\n",
       "\t30 & 39 & VAUGHAN REGIONAL MEDICAL CENTER PARKWAY CAMPUS & 010118 & 2020-12-25 & 1047.0 & 1.0 & 0.341463 & 1.09145 & 2020-12-29 \\\\\n",
       "\t$\\dots$ & $\\dots$ & $\\dots$ & $\\dots$ & $\\dots$ & $\\dots$ & $\\dots$ & $\\dots$ & $\\dots$ & $\\dots$ \\\\\n",
       "\\end{tabular}\n"
      ],
      "text/plain": [
       "125424×9 DataFrame\n",
       "│ Row    │ Column1 │ hospital_name                              │ ccn     │ collection_week │ fips_code │ hospitalization_percentage │ ICU_percentages │ hospitalization_2020-12-29 │ target_date │\n",
       "│        │ \u001b[90mInt64\u001b[39m   │ \u001b[90mString\u001b[39m                                     │ \u001b[90mString?\u001b[39m │ \u001b[90mDate\u001b[39m            │ \u001b[90mFloat64\u001b[39m   │ \u001b[90mUnion{Missing, Float64}\u001b[39m    │ \u001b[90mFloat64?\u001b[39m        │ \u001b[90mUnion{Missing, Float64}\u001b[39m    │ \u001b[90mDate\u001b[39m        │\n",
       "├────────┼─────────┼────────────────────────────────────────────┼─────────┼─────────────────┼───────────┼────────────────────────────┼─────────────────┼────────────────────────────┼─────────────┤\n",
       "│ 1      │ 10      │ PRATTVILLE BAPTIST HOSPITAL                │ 010108  │ 2020-12-25      │ 1001.0    │ 1.0                        │ 0.0944056       │ 3.53556                    │ 2020-12-29  │\n",
       "│ 2      │ 11      │ NORTH BALDWIN INFIRMARY                    │ 010129  │ 2020-12-25      │ 1003.0    │ 0.164736                   │ 0.0795455       │ 1.76119                    │ 2020-12-29  │\n",
       "│ 3      │ 12      │ THOMAS HOSPITAL                            │ 010100  │ 2020-12-25      │ 1003.0    │ 0.520986                   │ 0.195402        │ 5.56984                    │ 2020-12-29  │\n",
       "│ 4      │ 13      │ SOUTH BALDWIN REGIONAL MEDICAL CENTER      │ 010083  │ 2020-12-25      │ 1003.0    │ 0.314278                   │ 0.441718        │ 3.35993                    │ 2020-12-29  │\n",
       "│ 5      │ 14      │ MEDICAL CENTER BARBOUR                     │ 010069  │ 2020-12-25      │ 1005.0    │ 1.0                        │ 0.328125        │ 0.94236                    │ 2020-12-29  │\n",
       "│ 6      │ 15      │ BIBB MEDICAL CENTER                        │ 010058  │ 2020-12-25      │ 1007.0    │ 0.863636                   │ \u001b[90mmissing\u001b[39m         │ 1.39368                    │ 2020-12-29  │\n",
       "│ 7      │ 16      │ ST VINCENTS BLOUNT                         │ 011305  │ 2020-12-25      │ 1009.0    │ 0.954545                   │ 0.238636        │ 3.25057                    │ 2020-12-29  │\n",
       "│ 8      │ 17      │ BULLOCK COUNTY HOSPITAL                    │ 010110  │ 2020-12-25      │ 1011.0    │ 0.0                        │ \u001b[90mmissing\u001b[39m         │ 0.0                        │ 2020-12-29  │\n",
       "│ 9      │ 18      │ REGIONAL MEDICAL CENTER OF CENTRAL ALABAMA │ 010150  │ 2020-12-25      │ 1013.0    │ 0.954545                   │ 0.32            │ 0.662337                   │ 2020-12-29  │\n",
       "│ 10     │ 19      │ NOLAND HOSPITAL ANNISTON II, LLC           │ 012011  │ 2020-12-25      │ 1015.0    │ 0.0246009                  │ 0.0             │ 0.15705                    │ 2020-12-29  │\n",
       "⋮\n",
       "│ 125414 │ 4829    │ SUMMIT MEDICAL CENTER                      │ \u001b[90mmissing\u001b[39m │ 2020-12-25      │ 56025.0   │ 0.0                        │ \u001b[90mmissing\u001b[39m         │ 0.0                        │ 2021-01-23  │\n",
       "│ 125415 │ 4830    │ NIOBRARA HEALTH & LIFE CENTER              │ \u001b[90mmissing\u001b[39m │ 2020-12-25      │ 56027.0   │ 0.272727                   │ \u001b[90mmissing\u001b[39m         │ 0.00886856                 │ 2021-01-23  │\n",
       "│ 125416 │ 4831    │ CODY REGIONAL HEALTH                       │ \u001b[90mmissing\u001b[39m │ 2020-12-25      │ 56029.0   │ 0.610514                   │ 0.193548        │ 0.444786                   │ 2021-01-23  │\n",
       "│ 125417 │ 4832    │ POWELL VALLEY HOSPITAL                     │ \u001b[90mmissing\u001b[39m │ 2020-12-25      │ 56029.0   │ 0.253123                   │ 0.0             │ 0.184411                   │ 2021-01-23  │\n",
       "│ 125418 │ 4833    │ PLATTE COUNTY MEMORIAL HOSPITAL            │ \u001b[90mmissing\u001b[39m │ 2020-12-25      │ 56031.0   │ 0.772727                   │ \u001b[90mmissing\u001b[39m         │ 0.0732443                  │ 2021-01-23  │\n",
       "│ 125419 │ 4834    │ SHERIDAN MEMORIAL HOSPITAL                 │ \u001b[90mmissing\u001b[39m │ 2020-12-25      │ 56033.0   │ 1.0                        │ 0.0             │ 0.362772                   │ 2021-01-23  │\n",
       "│ 125420 │ 4835    │ MEMORIAL HOSPITAL SWEETWATER COUNTY        │ \u001b[90mmissing\u001b[39m │ 2020-12-25      │ 56037.0   │ 0.727273                   │ 0.931818        │ 0.783654                   │ 2021-01-23  │\n",
       "│ 125421 │ 4836    │ ST JOHNS MEDICAL CENTER                    │ \u001b[90mmissing\u001b[39m │ 2020-12-25      │ 56039.0   │ 1.0                        │ 0.181818        │ 0.383298                   │ 2021-01-23  │\n",
       "│ 125422 │ 4837    │ EVANSTON REGIONAL HOSPITAL                 │ \u001b[90mmissing\u001b[39m │ 2020-12-25      │ 56041.0   │ 0.454545                   │ 1.0             │ 0.198127                   │ 2021-01-23  │\n",
       "│ 125423 │ 4838    │ WASHAKIE MEDICAL CENTER                    │ \u001b[90mmissing\u001b[39m │ 2020-12-25      │ 56043.0   │ 1.0                        │ 0.0             │ 0.204622                   │ 2021-01-23  │\n",
       "│ 125424 │ 4839    │ WESTON COUNTY HEALTH SERVICES              │ \u001b[90mmissing\u001b[39m │ 2020-12-25      │ 56045.0   │ 0.363636                   │ 0.0             │ 0.0441541                  │ 2021-01-23  │"
      ]
     },
     "execution_count": 3,
     "metadata": {},
     "output_type": "execute_result"
    }
   ],
   "source": [
    "rawdata = DataFrame(CSV.File(\"../rawdata/output_HHS_US_2021-01-23_one_column.csv\"))"
   ]
  },
  {
   "cell_type": "code",
   "execution_count": 4,
   "metadata": {},
   "outputs": [
    {
     "data": {
      "text/html": [
       "<table class=\"data-frame\"><thead><tr><th></th><th>hospital</th><th>hospital_id</th><th>date</th><th>admitted_moderate_icu</th><th>admitted_moderate_acute</th><th>admitted_moderate_allbeds</th></tr><tr><th></th><th>String</th><th>String?</th><th>Date</th><th>Float64?</th><th>Float64?</th><th>Float64?</th></tr></thead><tbody><p>125,424 rows × 6 columns</p><tr><th>1</th><td>ABBEVILLE AREA MEDICAL CENTER</td><td>421301</td><td>2020-12-29</td><td>0.0</td><td>0.554505</td><td>0.554505</td></tr><tr><th>2</th><td>ABBEVILLE AREA MEDICAL CENTER</td><td><em>missing</em></td><td>2020-12-30</td><td>0.0</td><td>0.573475</td><td>0.573475</td></tr><tr><th>3</th><td>ABBEVILLE AREA MEDICAL CENTER</td><td><em>missing</em></td><td>2020-12-31</td><td>0.0</td><td>0.612186</td><td>0.612186</td></tr><tr><th>4</th><td>ABBEVILLE AREA MEDICAL CENTER</td><td><em>missing</em></td><td>2021-01-01</td><td>0.0</td><td>0.603726</td><td>0.603726</td></tr><tr><th>5</th><td>ABBEVILLE AREA MEDICAL CENTER</td><td><em>missing</em></td><td>2021-01-02</td><td>0.0</td><td>0.617056</td><td>0.617056</td></tr><tr><th>6</th><td>ABBEVILLE AREA MEDICAL CENTER</td><td><em>missing</em></td><td>2021-01-03</td><td>0.0</td><td>0.581469</td><td>0.581469</td></tr><tr><th>7</th><td>ABBEVILLE AREA MEDICAL CENTER</td><td><em>missing</em></td><td>2021-01-04</td><td>0.0</td><td>0.55883</td><td>0.55883</td></tr><tr><th>8</th><td>ABBEVILLE AREA MEDICAL CENTER</td><td><em>missing</em></td><td>2021-01-05</td><td>0.0</td><td>0.555632</td><td>0.555632</td></tr><tr><th>9</th><td>ABBEVILLE AREA MEDICAL CENTER</td><td><em>missing</em></td><td>2021-01-06</td><td>0.0</td><td>0.566951</td><td>0.566951</td></tr><tr><th>10</th><td>ABBEVILLE AREA MEDICAL CENTER</td><td><em>missing</em></td><td>2021-01-07</td><td>0.0</td><td>0.582207</td><td>0.582207</td></tr><tr><th>11</th><td>ABBEVILLE AREA MEDICAL CENTER</td><td><em>missing</em></td><td>2021-01-08</td><td>0.0</td><td>0.5827</td><td>0.5827</td></tr><tr><th>12</th><td>ABBEVILLE AREA MEDICAL CENTER</td><td><em>missing</em></td><td>2021-01-09</td><td>0.0</td><td>0.606076</td><td>0.606076</td></tr><tr><th>13</th><td>ABBEVILLE AREA MEDICAL CENTER</td><td><em>missing</em></td><td>2021-01-10</td><td>0.0</td><td>0.525098</td><td>0.525098</td></tr><tr><th>14</th><td>ABBEVILLE AREA MEDICAL CENTER</td><td><em>missing</em></td><td>2021-01-11</td><td>0.0</td><td>0.505594</td><td>0.505594</td></tr><tr><th>15</th><td>ABBEVILLE AREA MEDICAL CENTER</td><td><em>missing</em></td><td>2021-01-12</td><td>0.0</td><td>0.503427</td><td>0.503427</td></tr><tr><th>16</th><td>ABBEVILLE AREA MEDICAL CENTER</td><td><em>missing</em></td><td>2021-01-13</td><td>0.0</td><td>0.504077</td><td>0.504077</td></tr><tr><th>17</th><td>ABBEVILLE AREA MEDICAL CENTER</td><td><em>missing</em></td><td>2021-01-14</td><td>0.0</td><td>0.513396</td><td>0.513396</td></tr><tr><th>18</th><td>ABBEVILLE AREA MEDICAL CENTER</td><td><em>missing</em></td><td>2021-01-15</td><td>0.0</td><td>0.511445</td><td>0.511445</td></tr><tr><th>19</th><td>ABBEVILLE AREA MEDICAL CENTER</td><td><em>missing</em></td><td>2021-01-16</td><td>0.0</td><td>0.522498</td><td>0.522498</td></tr><tr><th>20</th><td>ABBEVILLE AREA MEDICAL CENTER</td><td><em>missing</em></td><td>2021-01-17</td><td>0.0</td><td>0.434057</td><td>0.434057</td></tr><tr><th>21</th><td>ABBEVILLE AREA MEDICAL CENTER</td><td><em>missing</em></td><td>2021-01-18</td><td>0.0</td><td>0.417117</td><td>0.417117</td></tr><tr><th>22</th><td>ABBEVILLE AREA MEDICAL CENTER</td><td><em>missing</em></td><td>2021-01-19</td><td>0.0</td><td>0.416206</td><td>0.416206</td></tr><tr><th>23</th><td>ABBEVILLE AREA MEDICAL CENTER</td><td><em>missing</em></td><td>2021-01-20</td><td>0.0</td><td>0.422946</td><td>0.422946</td></tr><tr><th>24</th><td>ABBEVILLE AREA MEDICAL CENTER</td><td><em>missing</em></td><td>2021-01-21</td><td>0.0</td><td>0.429503</td><td>0.429503</td></tr><tr><th>25</th><td>ABBEVILLE AREA MEDICAL CENTER</td><td><em>missing</em></td><td>2021-01-22</td><td>0.0</td><td>0.424403</td><td>0.424403</td></tr><tr><th>26</th><td>ABBEVILLE AREA MEDICAL CENTER</td><td><em>missing</em></td><td>2021-01-23</td><td>0.0</td><td>0.435878</td><td>0.435878</td></tr><tr><th>27</th><td>ABBEVILLE GENERAL HOSPITAL</td><td>190034</td><td>2020-12-29</td><td>0.0789771</td><td>0.908237</td><td>0.987214</td></tr><tr><th>28</th><td>ABBEVILLE GENERAL HOSPITAL</td><td><em>missing</em></td><td>2020-12-30</td><td>0.0845734</td><td>0.972594</td><td>1.05717</td></tr><tr><th>29</th><td>ABBEVILLE GENERAL HOSPITAL</td><td><em>missing</em></td><td>2020-12-31</td><td>0.0876863</td><td>1.00839</td><td>1.09608</td></tr><tr><th>30</th><td>ABBEVILLE GENERAL HOSPITAL</td><td><em>missing</em></td><td>2021-01-01</td><td>0.0843286</td><td>0.969778</td><td>1.05411</td></tr><tr><th>&vellip;</th><td>&vellip;</td><td>&vellip;</td><td>&vellip;</td><td>&vellip;</td><td>&vellip;</td><td>&vellip;</td></tr></tbody></table>"
      ],
      "text/latex": [
       "\\begin{tabular}{r|cccccc}\n",
       "\t& hospital & hospital\\_id & date & admitted\\_moderate\\_icu & admitted\\_moderate\\_acute & admitted\\_moderate\\_allbeds\\\\\n",
       "\t\\hline\n",
       "\t& String & String? & Date & Float64? & Float64? & Float64?\\\\\n",
       "\t\\hline\n",
       "\t1 & ABBEVILLE AREA MEDICAL CENTER & 421301 & 2020-12-29 & 0.0 & 0.554505 & 0.554505 \\\\\n",
       "\t2 & ABBEVILLE AREA MEDICAL CENTER & \\emph{missing} & 2020-12-30 & 0.0 & 0.573475 & 0.573475 \\\\\n",
       "\t3 & ABBEVILLE AREA MEDICAL CENTER & \\emph{missing} & 2020-12-31 & 0.0 & 0.612186 & 0.612186 \\\\\n",
       "\t4 & ABBEVILLE AREA MEDICAL CENTER & \\emph{missing} & 2021-01-01 & 0.0 & 0.603726 & 0.603726 \\\\\n",
       "\t5 & ABBEVILLE AREA MEDICAL CENTER & \\emph{missing} & 2021-01-02 & 0.0 & 0.617056 & 0.617056 \\\\\n",
       "\t6 & ABBEVILLE AREA MEDICAL CENTER & \\emph{missing} & 2021-01-03 & 0.0 & 0.581469 & 0.581469 \\\\\n",
       "\t7 & ABBEVILLE AREA MEDICAL CENTER & \\emph{missing} & 2021-01-04 & 0.0 & 0.55883 & 0.55883 \\\\\n",
       "\t8 & ABBEVILLE AREA MEDICAL CENTER & \\emph{missing} & 2021-01-05 & 0.0 & 0.555632 & 0.555632 \\\\\n",
       "\t9 & ABBEVILLE AREA MEDICAL CENTER & \\emph{missing} & 2021-01-06 & 0.0 & 0.566951 & 0.566951 \\\\\n",
       "\t10 & ABBEVILLE AREA MEDICAL CENTER & \\emph{missing} & 2021-01-07 & 0.0 & 0.582207 & 0.582207 \\\\\n",
       "\t11 & ABBEVILLE AREA MEDICAL CENTER & \\emph{missing} & 2021-01-08 & 0.0 & 0.5827 & 0.5827 \\\\\n",
       "\t12 & ABBEVILLE AREA MEDICAL CENTER & \\emph{missing} & 2021-01-09 & 0.0 & 0.606076 & 0.606076 \\\\\n",
       "\t13 & ABBEVILLE AREA MEDICAL CENTER & \\emph{missing} & 2021-01-10 & 0.0 & 0.525098 & 0.525098 \\\\\n",
       "\t14 & ABBEVILLE AREA MEDICAL CENTER & \\emph{missing} & 2021-01-11 & 0.0 & 0.505594 & 0.505594 \\\\\n",
       "\t15 & ABBEVILLE AREA MEDICAL CENTER & \\emph{missing} & 2021-01-12 & 0.0 & 0.503427 & 0.503427 \\\\\n",
       "\t16 & ABBEVILLE AREA MEDICAL CENTER & \\emph{missing} & 2021-01-13 & 0.0 & 0.504077 & 0.504077 \\\\\n",
       "\t17 & ABBEVILLE AREA MEDICAL CENTER & \\emph{missing} & 2021-01-14 & 0.0 & 0.513396 & 0.513396 \\\\\n",
       "\t18 & ABBEVILLE AREA MEDICAL CENTER & \\emph{missing} & 2021-01-15 & 0.0 & 0.511445 & 0.511445 \\\\\n",
       "\t19 & ABBEVILLE AREA MEDICAL CENTER & \\emph{missing} & 2021-01-16 & 0.0 & 0.522498 & 0.522498 \\\\\n",
       "\t20 & ABBEVILLE AREA MEDICAL CENTER & \\emph{missing} & 2021-01-17 & 0.0 & 0.434057 & 0.434057 \\\\\n",
       "\t21 & ABBEVILLE AREA MEDICAL CENTER & \\emph{missing} & 2021-01-18 & 0.0 & 0.417117 & 0.417117 \\\\\n",
       "\t22 & ABBEVILLE AREA MEDICAL CENTER & \\emph{missing} & 2021-01-19 & 0.0 & 0.416206 & 0.416206 \\\\\n",
       "\t23 & ABBEVILLE AREA MEDICAL CENTER & \\emph{missing} & 2021-01-20 & 0.0 & 0.422946 & 0.422946 \\\\\n",
       "\t24 & ABBEVILLE AREA MEDICAL CENTER & \\emph{missing} & 2021-01-21 & 0.0 & 0.429503 & 0.429503 \\\\\n",
       "\t25 & ABBEVILLE AREA MEDICAL CENTER & \\emph{missing} & 2021-01-22 & 0.0 & 0.424403 & 0.424403 \\\\\n",
       "\t26 & ABBEVILLE AREA MEDICAL CENTER & \\emph{missing} & 2021-01-23 & 0.0 & 0.435878 & 0.435878 \\\\\n",
       "\t27 & ABBEVILLE GENERAL HOSPITAL & 190034 & 2020-12-29 & 0.0789771 & 0.908237 & 0.987214 \\\\\n",
       "\t28 & ABBEVILLE GENERAL HOSPITAL & \\emph{missing} & 2020-12-30 & 0.0845734 & 0.972594 & 1.05717 \\\\\n",
       "\t29 & ABBEVILLE GENERAL HOSPITAL & \\emph{missing} & 2020-12-31 & 0.0876863 & 1.00839 & 1.09608 \\\\\n",
       "\t30 & ABBEVILLE GENERAL HOSPITAL & \\emph{missing} & 2021-01-01 & 0.0843286 & 0.969778 & 1.05411 \\\\\n",
       "\t$\\dots$ & $\\dots$ & $\\dots$ & $\\dots$ & $\\dots$ & $\\dots$ & $\\dots$ \\\\\n",
       "\\end{tabular}\n"
      ],
      "text/plain": [
       "125424×6 DataFrame\n",
       "│ Row    │ hospital                                           │ hospital_id │ date       │ admitted_moderate_icu │ admitted_moderate_acute │ admitted_moderate_allbeds │\n",
       "│        │ \u001b[90mString\u001b[39m                                             │ \u001b[90mString?\u001b[39m     │ \u001b[90mDate\u001b[39m       │ \u001b[90mFloat64?\u001b[39m              │ \u001b[90mUnion{Missing, Float64}\u001b[39m │ \u001b[90mUnion{Missing, Float64}\u001b[39m   │\n",
       "├────────┼────────────────────────────────────────────────────┼─────────────┼────────────┼───────────────────────┼─────────────────────────┼───────────────────────────┤\n",
       "│ 1      │ ABBEVILLE AREA MEDICAL CENTER                      │ 421301      │ 2020-12-29 │ 0.0                   │ 0.554505                │ 0.554505                  │\n",
       "│ 2      │ ABBEVILLE AREA MEDICAL CENTER                      │ \u001b[90mmissing\u001b[39m     │ 2020-12-30 │ 0.0                   │ 0.573475                │ 0.573475                  │\n",
       "│ 3      │ ABBEVILLE AREA MEDICAL CENTER                      │ \u001b[90mmissing\u001b[39m     │ 2020-12-31 │ 0.0                   │ 0.612186                │ 0.612186                  │\n",
       "│ 4      │ ABBEVILLE AREA MEDICAL CENTER                      │ \u001b[90mmissing\u001b[39m     │ 2021-01-01 │ 0.0                   │ 0.603726                │ 0.603726                  │\n",
       "│ 5      │ ABBEVILLE AREA MEDICAL CENTER                      │ \u001b[90mmissing\u001b[39m     │ 2021-01-02 │ 0.0                   │ 0.617056                │ 0.617056                  │\n",
       "│ 6      │ ABBEVILLE AREA MEDICAL CENTER                      │ \u001b[90mmissing\u001b[39m     │ 2021-01-03 │ 0.0                   │ 0.581469                │ 0.581469                  │\n",
       "│ 7      │ ABBEVILLE AREA MEDICAL CENTER                      │ \u001b[90mmissing\u001b[39m     │ 2021-01-04 │ 0.0                   │ 0.55883                 │ 0.55883                   │\n",
       "│ 8      │ ABBEVILLE AREA MEDICAL CENTER                      │ \u001b[90mmissing\u001b[39m     │ 2021-01-05 │ 0.0                   │ 0.555632                │ 0.555632                  │\n",
       "│ 9      │ ABBEVILLE AREA MEDICAL CENTER                      │ \u001b[90mmissing\u001b[39m     │ 2021-01-06 │ 0.0                   │ 0.566951                │ 0.566951                  │\n",
       "│ 10     │ ABBEVILLE AREA MEDICAL CENTER                      │ \u001b[90mmissing\u001b[39m     │ 2021-01-07 │ 0.0                   │ 0.582207                │ 0.582207                  │\n",
       "⋮\n",
       "│ 125414 │ ZUCKERBERG SAN FRANCISCO GENERAL HOSP & TRAUMA CTR │ \u001b[90mmissing\u001b[39m     │ 2021-01-13 │ 0.832087              │ 1.94981                 │ 2.7819                    │\n",
       "│ 125415 │ ZUCKERBERG SAN FRANCISCO GENERAL HOSP & TRAUMA CTR │ \u001b[90mmissing\u001b[39m     │ 2021-01-14 │ 0.841702              │ 1.97235                 │ 2.81405                   │\n",
       "│ 125416 │ ZUCKERBERG SAN FRANCISCO GENERAL HOSP & TRAUMA CTR │ \u001b[90mmissing\u001b[39m     │ 2021-01-15 │ 0.843173              │ 1.97579                 │ 2.81897                   │\n",
       "│ 125417 │ ZUCKERBERG SAN FRANCISCO GENERAL HOSP & TRAUMA CTR │ \u001b[90mmissing\u001b[39m     │ 2021-01-16 │ 0.841307              │ 1.97142                 │ 2.81273                   │\n",
       "│ 125418 │ ZUCKERBERG SAN FRANCISCO GENERAL HOSP & TRAUMA CTR │ \u001b[90mmissing\u001b[39m     │ 2021-01-17 │ 0.727095              │ 1.70379                 │ 2.43088                   │\n",
       "│ 125419 │ ZUCKERBERG SAN FRANCISCO GENERAL HOSP & TRAUMA CTR │ \u001b[90mmissing\u001b[39m     │ 2021-01-18 │ 0.72313               │ 1.6945                  │ 2.41763                   │\n",
       "│ 125420 │ ZUCKERBERG SAN FRANCISCO GENERAL HOSP & TRAUMA CTR │ \u001b[90mmissing\u001b[39m     │ 2021-01-19 │ 0.720892              │ 1.68925                 │ 2.41014                   │\n",
       "│ 125421 │ ZUCKERBERG SAN FRANCISCO GENERAL HOSP & TRAUMA CTR │ \u001b[90mmissing\u001b[39m     │ 2021-01-20 │ 0.707327              │ 1.65747                 │ 2.3648                    │\n",
       "│ 125422 │ ZUCKERBERG SAN FRANCISCO GENERAL HOSP & TRAUMA CTR │ \u001b[90mmissing\u001b[39m     │ 2021-01-21 │ 0.719165              │ 1.68521                 │ 2.40437                   │\n",
       "│ 125423 │ ZUCKERBERG SAN FRANCISCO GENERAL HOSP & TRAUMA CTR │ \u001b[90mmissing\u001b[39m     │ 2021-01-22 │ 0.719583              │ 1.68619                 │ 2.40577                   │\n",
       "│ 125424 │ ZUCKERBERG SAN FRANCISCO GENERAL HOSP & TRAUMA CTR │ \u001b[90mmissing\u001b[39m     │ 2021-01-23 │ 0.71558               │ 1.67681                 │ 2.39239                   │"
      ]
     },
     "execution_count": 4,
     "metadata": {},
     "output_type": "execute_result"
    }
   ],
   "source": [
    "data = select(rawdata,\n",
    "    :hospital_name => :hospital,\n",
    "    :ccn => :hospital_id,\n",
    "    :target_date => :date,\n",
    "    [\"hospitalization_2020-12-29\", \"ICU_percentages\"] => ByRow((x,y) -> x*coalesce(y,0.3)) => :admitted_moderate_icu,\n",
    "    [\"hospitalization_2020-12-29\", \"ICU_percentages\"] => ByRow((x,y) -> x*(1.0-coalesce(y,0.3))) => :admitted_moderate_acute,\n",
    "    \"hospitalization_2020-12-29\" => :admitted_moderate_allbeds,\n",
    ")\n",
    "sort!(data, [:hospital, :hospital_id, :date])"
   ]
  },
  {
   "cell_type": "code",
   "execution_count": 5,
   "metadata": {},
   "outputs": [
    {
     "data": {
      "text/plain": [
       "\"../data/hhs_forecast_2021_01_08.csv\""
      ]
     },
     "execution_count": 5,
     "metadata": {},
     "output_type": "execute_result"
    }
   ],
   "source": [
    "data |> CSV.write(\"../data/hhs_forecast_2021_01_08.csv\")"
   ]
  },
  {
   "cell_type": "code",
   "execution_count": null,
   "metadata": {},
   "outputs": [],
   "source": []
  }
 ],
 "metadata": {
  "@webio": {
   "lastCommId": null,
   "lastKernelId": null
  },
  "kernelspec": {
   "display_name": "Julia 1.5.3",
   "language": "julia",
   "name": "julia-1.5"
  },
  "language_info": {
   "file_extension": ".jl",
   "mimetype": "application/julia",
   "name": "julia",
   "version": "1.5.3"
  }
 },
 "nbformat": 4,
 "nbformat_minor": 4
}
