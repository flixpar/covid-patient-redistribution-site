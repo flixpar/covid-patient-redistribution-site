{
 "cells": [
  {
   "cell_type": "code",
   "execution_count": 1,
   "metadata": {},
   "outputs": [],
   "source": [
    "using CSV\n",
    "using DataFrames\n",
    "using Dates"
   ]
  },
  {
   "cell_type": "code",
   "execution_count": 2,
   "metadata": {},
   "outputs": [],
   "source": [
    "ENV[\"COLUMNS\"] = 1000;"
   ]
  },
  {
   "cell_type": "code",
   "execution_count": 3,
   "metadata": {},
   "outputs": [
    {
     "data": {
      "text/html": [
       "<table class=\"data-frame\"><thead><tr><th></th><th>Column1</th><th>hospital_name</th><th>collection_week</th><th>fips_code</th><th>hospitalization_percentage</th><th>hospitalization_2020-12-22</th><th>target_date</th></tr><tr><th></th><th>Int64</th><th>String</th><th>Date</th><th>Float64</th><th>Float64</th><th>Float64</th><th>Date</th></tr></thead><tbody><p>125,112 rows × 7 columns</p><tr><th>1</th><td>10</td><td>PRATTVILLE BAPTIST HOSPITAL</td><td>2020-12-11</td><td>1001.0</td><td>1.0</td><td>3.69904</td><td>2020-12-22</td></tr><tr><th>2</th><td>11</td><td>THOMAS HOSPITAL</td><td>2020-12-11</td><td>1003.0</td><td>0.568556</td><td>5.64175</td><td>2020-12-22</td></tr><tr><th>3</th><td>12</td><td>SOUTH BALDWIN REGIONAL MEDICAL CENTER</td><td>2020-12-11</td><td>1003.0</td><td>0.305302</td><td>3.02949</td><td>2020-12-22</td></tr><tr><th>4</th><td>13</td><td>NORTH BALDWIN INFIRMARY</td><td>2020-12-11</td><td>1003.0</td><td>0.126143</td><td>1.25171</td><td>2020-12-22</td></tr><tr><th>5</th><td>14</td><td>MEDICAL CENTER BARBOUR</td><td>2020-12-11</td><td>1005.0</td><td>1.0</td><td>0.640395</td><td>2020-12-22</td></tr><tr><th>6</th><td>15</td><td>BIBB MEDICAL CENTER</td><td>2020-12-11</td><td>1007.0</td><td>0.0</td><td>0.0</td><td>2020-12-22</td></tr><tr><th>7</th><td>16</td><td>ST VINCENTS BLOUNT</td><td>2020-12-11</td><td>1009.0</td><td>1.0</td><td>4.11525</td><td>2020-12-22</td></tr><tr><th>8</th><td>17</td><td>BULLOCK COUNTY HOSPITAL</td><td>2020-12-11</td><td>1011.0</td><td>0.0</td><td>0.0</td><td>2020-12-22</td></tr><tr><th>9</th><td>18</td><td>REGIONAL MEDICAL CENTER OF CENTRAL ALABAMA</td><td>2020-12-11</td><td>1013.0</td><td>1.0</td><td>0.746617</td><td>2020-12-22</td></tr><tr><th>10</th><td>19</td><td>NOLAND HOSPITAL ANNISTON II, LLC</td><td>2020-12-11</td><td>1015.0</td><td>0.0333333</td><td>0.241751</td><td>2020-12-22</td></tr><tr><th>11</th><td>20</td><td>STRINGFELLOW MEMORIAL HOSPITAL</td><td>2020-12-11</td><td>1015.0</td><td>0.0</td><td>0.0</td><td>2020-12-22</td></tr><tr><th>12</th><td>21</td><td>NORTHEAST ALABAMA REGIONAL MEDICAL CENTER</td><td>2020-12-11</td><td>1015.0</td><td>0.966667</td><td>7.01078</td><td>2020-12-22</td></tr><tr><th>13</th><td>22</td><td>EAMC - LANIER</td><td>2020-12-11</td><td>1017.0</td><td>1.0</td><td>1.14021</td><td>2020-12-22</td></tr><tr><th>14</th><td>23</td><td>FLOYD CHEROKEE MEDICAL CENTER</td><td>2020-12-11</td><td>1019.0</td><td>1.0</td><td>0.996851</td><td>2020-12-22</td></tr><tr><th>15</th><td>24</td><td>ST VINCENT'S CHILTON</td><td>2020-12-11</td><td>1021.0</td><td>1.0</td><td>1.53545</td><td>2020-12-22</td></tr><tr><th>16</th><td>25</td><td>CHOCTAW GENERAL HOSPITAL</td><td>2020-12-11</td><td>1023.0</td><td>1.0</td><td>0.236956</td><td>2020-12-22</td></tr><tr><th>17</th><td>26</td><td>GROVE HILL MEMORIAL HOSPITAL</td><td>2020-12-11</td><td>1025.0</td><td>0.333333</td><td>1.37327</td><td>2020-12-22</td></tr><tr><th>18</th><td>27</td><td>THOMASVILLE REGIONAL MEDICAL CENTER</td><td>2020-12-11</td><td>1025.0</td><td>0.333333</td><td>1.37327</td><td>2020-12-22</td></tr><tr><th>19</th><td>28</td><td>JACKSON MEDICAL CENTER</td><td>2020-12-11</td><td>1025.0</td><td>0.333333</td><td>1.37327</td><td>2020-12-22</td></tr><tr><th>20</th><td>29</td><td>CLAY COUNTY HOSPITAL</td><td>2020-12-11</td><td>1027.0</td><td>1.0</td><td>0.515789</td><td>2020-12-22</td></tr><tr><th>21</th><td>30</td><td>MEDICAL CENTER ENTERPRISE</td><td>2020-12-11</td><td>1031.0</td><td>1.0</td><td>2.55256</td><td>2020-12-22</td></tr><tr><th>22</th><td>31</td><td>SHOALS HOSPITAL</td><td>2020-12-11</td><td>1033.0</td><td>0.136986</td><td>0.378931</td><td>2020-12-22</td></tr><tr><th>23</th><td>32</td><td>HELEN KELLER MEMORIAL HOSPITAL</td><td>2020-12-11</td><td>1033.0</td><td>0.863014</td><td>2.38726</td><td>2020-12-22</td></tr><tr><th>24</th><td>33</td><td>EVERGREEN MEDICAL CENTER</td><td>2020-12-11</td><td>1035.0</td><td>1.0</td><td>0.406503</td><td>2020-12-22</td></tr><tr><th>25</th><td>34</td><td>MIZELL MEMORIAL HOSPITAL</td><td>2020-12-11</td><td>1039.0</td><td>0.8</td><td>1.23789</td><td>2020-12-22</td></tr><tr><th>26</th><td>35</td><td>ANDALUSIA HEALTH</td><td>2020-12-11</td><td>1039.0</td><td>0.2</td><td>0.309473</td><td>2020-12-22</td></tr><tr><th>27</th><td>36</td><td>CRENSHAW COMMUNITY HOSPITAL</td><td>2020-12-11</td><td>1041.0</td><td>1.0</td><td>0.54643</td><td>2020-12-22</td></tr><tr><th>28</th><td>37</td><td>CULLMAN REGIONAL MEDICAL CENTER</td><td>2020-12-11</td><td>1043.0</td><td>1.0</td><td>5.37663</td><td>2020-12-22</td></tr><tr><th>29</th><td>38</td><td>DALE MEDICAL CENTER</td><td>2020-12-11</td><td>1045.0</td><td>1.0</td><td>2.37212</td><td>2020-12-22</td></tr><tr><th>30</th><td>39</td><td>VAUGHAN REGIONAL MEDICAL CENTER PARKWAY CAMPUS</td><td>2020-12-11</td><td>1047.0</td><td>1.0</td><td>1.0869</td><td>2020-12-22</td></tr><tr><th>&vellip;</th><td>&vellip;</td><td>&vellip;</td><td>&vellip;</td><td>&vellip;</td><td>&vellip;</td><td>&vellip;</td><td>&vellip;</td></tr></tbody></table>"
      ],
      "text/latex": [
       "\\begin{tabular}{r|ccccccc}\n",
       "\t& Column1 & hospital\\_name & collection\\_week & fips\\_code & hospitalization\\_percentage & hospitalization\\_2020-12-22 & target\\_date\\\\\n",
       "\t\\hline\n",
       "\t& Int64 & String & Date & Float64 & Float64 & Float64 & Date\\\\\n",
       "\t\\hline\n",
       "\t1 & 10 & PRATTVILLE BAPTIST HOSPITAL & 2020-12-11 & 1001.0 & 1.0 & 3.69904 & 2020-12-22 \\\\\n",
       "\t2 & 11 & THOMAS HOSPITAL & 2020-12-11 & 1003.0 & 0.568556 & 5.64175 & 2020-12-22 \\\\\n",
       "\t3 & 12 & SOUTH BALDWIN REGIONAL MEDICAL CENTER & 2020-12-11 & 1003.0 & 0.305302 & 3.02949 & 2020-12-22 \\\\\n",
       "\t4 & 13 & NORTH BALDWIN INFIRMARY & 2020-12-11 & 1003.0 & 0.126143 & 1.25171 & 2020-12-22 \\\\\n",
       "\t5 & 14 & MEDICAL CENTER BARBOUR & 2020-12-11 & 1005.0 & 1.0 & 0.640395 & 2020-12-22 \\\\\n",
       "\t6 & 15 & BIBB MEDICAL CENTER & 2020-12-11 & 1007.0 & 0.0 & 0.0 & 2020-12-22 \\\\\n",
       "\t7 & 16 & ST VINCENTS BLOUNT & 2020-12-11 & 1009.0 & 1.0 & 4.11525 & 2020-12-22 \\\\\n",
       "\t8 & 17 & BULLOCK COUNTY HOSPITAL & 2020-12-11 & 1011.0 & 0.0 & 0.0 & 2020-12-22 \\\\\n",
       "\t9 & 18 & REGIONAL MEDICAL CENTER OF CENTRAL ALABAMA & 2020-12-11 & 1013.0 & 1.0 & 0.746617 & 2020-12-22 \\\\\n",
       "\t10 & 19 & NOLAND HOSPITAL ANNISTON II, LLC & 2020-12-11 & 1015.0 & 0.0333333 & 0.241751 & 2020-12-22 \\\\\n",
       "\t11 & 20 & STRINGFELLOW MEMORIAL HOSPITAL & 2020-12-11 & 1015.0 & 0.0 & 0.0 & 2020-12-22 \\\\\n",
       "\t12 & 21 & NORTHEAST ALABAMA REGIONAL MEDICAL CENTER & 2020-12-11 & 1015.0 & 0.966667 & 7.01078 & 2020-12-22 \\\\\n",
       "\t13 & 22 & EAMC - LANIER & 2020-12-11 & 1017.0 & 1.0 & 1.14021 & 2020-12-22 \\\\\n",
       "\t14 & 23 & FLOYD CHEROKEE MEDICAL CENTER & 2020-12-11 & 1019.0 & 1.0 & 0.996851 & 2020-12-22 \\\\\n",
       "\t15 & 24 & ST VINCENT'S CHILTON & 2020-12-11 & 1021.0 & 1.0 & 1.53545 & 2020-12-22 \\\\\n",
       "\t16 & 25 & CHOCTAW GENERAL HOSPITAL & 2020-12-11 & 1023.0 & 1.0 & 0.236956 & 2020-12-22 \\\\\n",
       "\t17 & 26 & GROVE HILL MEMORIAL HOSPITAL & 2020-12-11 & 1025.0 & 0.333333 & 1.37327 & 2020-12-22 \\\\\n",
       "\t18 & 27 & THOMASVILLE REGIONAL MEDICAL CENTER & 2020-12-11 & 1025.0 & 0.333333 & 1.37327 & 2020-12-22 \\\\\n",
       "\t19 & 28 & JACKSON MEDICAL CENTER & 2020-12-11 & 1025.0 & 0.333333 & 1.37327 & 2020-12-22 \\\\\n",
       "\t20 & 29 & CLAY COUNTY HOSPITAL & 2020-12-11 & 1027.0 & 1.0 & 0.515789 & 2020-12-22 \\\\\n",
       "\t21 & 30 & MEDICAL CENTER ENTERPRISE & 2020-12-11 & 1031.0 & 1.0 & 2.55256 & 2020-12-22 \\\\\n",
       "\t22 & 31 & SHOALS HOSPITAL & 2020-12-11 & 1033.0 & 0.136986 & 0.378931 & 2020-12-22 \\\\\n",
       "\t23 & 32 & HELEN KELLER MEMORIAL HOSPITAL & 2020-12-11 & 1033.0 & 0.863014 & 2.38726 & 2020-12-22 \\\\\n",
       "\t24 & 33 & EVERGREEN MEDICAL CENTER & 2020-12-11 & 1035.0 & 1.0 & 0.406503 & 2020-12-22 \\\\\n",
       "\t25 & 34 & MIZELL MEMORIAL HOSPITAL & 2020-12-11 & 1039.0 & 0.8 & 1.23789 & 2020-12-22 \\\\\n",
       "\t26 & 35 & ANDALUSIA HEALTH & 2020-12-11 & 1039.0 & 0.2 & 0.309473 & 2020-12-22 \\\\\n",
       "\t27 & 36 & CRENSHAW COMMUNITY HOSPITAL & 2020-12-11 & 1041.0 & 1.0 & 0.54643 & 2020-12-22 \\\\\n",
       "\t28 & 37 & CULLMAN REGIONAL MEDICAL CENTER & 2020-12-11 & 1043.0 & 1.0 & 5.37663 & 2020-12-22 \\\\\n",
       "\t29 & 38 & DALE MEDICAL CENTER & 2020-12-11 & 1045.0 & 1.0 & 2.37212 & 2020-12-22 \\\\\n",
       "\t30 & 39 & VAUGHAN REGIONAL MEDICAL CENTER PARKWAY CAMPUS & 2020-12-11 & 1047.0 & 1.0 & 1.0869 & 2020-12-22 \\\\\n",
       "\t$\\dots$ & $\\dots$ & $\\dots$ & $\\dots$ & $\\dots$ & $\\dots$ & $\\dots$ & $\\dots$ \\\\\n",
       "\\end{tabular}\n"
      ],
      "text/plain": [
       "125112×7 DataFrame\n",
       "│ Row    │ Column1 │ hospital_name                              │ collection_week │ fips_code │ hospitalization_percentage │ hospitalization_2020-12-22 │ target_date │\n",
       "│        │ \u001b[90mInt64\u001b[39m   │ \u001b[90mString\u001b[39m                                     │ \u001b[90mDate\u001b[39m            │ \u001b[90mFloat64\u001b[39m   │ \u001b[90mFloat64\u001b[39m                    │ \u001b[90mFloat64\u001b[39m                    │ \u001b[90mDate\u001b[39m        │\n",
       "├────────┼─────────┼────────────────────────────────────────────┼─────────────────┼───────────┼────────────────────────────┼────────────────────────────┼─────────────┤\n",
       "│ 1      │ 10      │ PRATTVILLE BAPTIST HOSPITAL                │ 2020-12-11      │ 1001.0    │ 1.0                        │ 3.69904                    │ 2020-12-22  │\n",
       "│ 2      │ 11      │ THOMAS HOSPITAL                            │ 2020-12-11      │ 1003.0    │ 0.568556                   │ 5.64175                    │ 2020-12-22  │\n",
       "│ 3      │ 12      │ SOUTH BALDWIN REGIONAL MEDICAL CENTER      │ 2020-12-11      │ 1003.0    │ 0.305302                   │ 3.02949                    │ 2020-12-22  │\n",
       "│ 4      │ 13      │ NORTH BALDWIN INFIRMARY                    │ 2020-12-11      │ 1003.0    │ 0.126143                   │ 1.25171                    │ 2020-12-22  │\n",
       "│ 5      │ 14      │ MEDICAL CENTER BARBOUR                     │ 2020-12-11      │ 1005.0    │ 1.0                        │ 0.640395                   │ 2020-12-22  │\n",
       "│ 6      │ 15      │ BIBB MEDICAL CENTER                        │ 2020-12-11      │ 1007.0    │ 0.0                        │ 0.0                        │ 2020-12-22  │\n",
       "│ 7      │ 16      │ ST VINCENTS BLOUNT                         │ 2020-12-11      │ 1009.0    │ 1.0                        │ 4.11525                    │ 2020-12-22  │\n",
       "│ 8      │ 17      │ BULLOCK COUNTY HOSPITAL                    │ 2020-12-11      │ 1011.0    │ 0.0                        │ 0.0                        │ 2020-12-22  │\n",
       "│ 9      │ 18      │ REGIONAL MEDICAL CENTER OF CENTRAL ALABAMA │ 2020-12-11      │ 1013.0    │ 1.0                        │ 0.746617                   │ 2020-12-22  │\n",
       "│ 10     │ 19      │ NOLAND HOSPITAL ANNISTON II, LLC           │ 2020-12-11      │ 1015.0    │ 0.0333333                  │ 0.241751                   │ 2020-12-22  │\n",
       "⋮\n",
       "│ 125102 │ 4827    │ SUMMIT MEDICAL CENTER                      │ 2020-12-11      │ 56025.0   │ 0.0                        │ 0.0                        │ 2021-01-16  │\n",
       "│ 125103 │ 4828    │ NIOBRARA HEALTH & LIFE CENTER              │ 2020-12-11      │ 56027.0   │ 0.0                        │ 0.0                        │ 2021-01-16  │\n",
       "│ 125104 │ 4829    │ CODY REGIONAL HEALTH                       │ 2020-12-11      │ 56029.0   │ 0.552                      │ 0.523547                   │ 2021-01-16  │\n",
       "│ 125105 │ 4830    │ POWELL VALLEY HOSPITAL                     │ 2020-12-11      │ 56029.0   │ 0.448                      │ 0.424907                   │ 2021-01-16  │\n",
       "│ 125106 │ 4831    │ PLATTE COUNTY MEMORIAL HOSPITAL            │ 2020-12-11      │ 56031.0   │ 1.0                        │ 0.152338                   │ 2021-01-16  │\n",
       "│ 125107 │ 4832    │ SHERIDAN MEMORIAL HOSPITAL                 │ 2020-12-11      │ 56033.0   │ 1.0                        │ 0.565888                   │ 2021-01-16  │\n",
       "│ 125108 │ 4833    │ MEMORIAL HOSPITAL SWEETWATER COUNTY        │ 2020-12-11      │ 56037.0   │ 1.0                        │ 1.8949                     │ 2021-01-16  │\n",
       "│ 125109 │ 4834    │ ST JOHNS MEDICAL CENTER                    │ 2020-12-11      │ 56039.0   │ 1.0                        │ 0.486276                   │ 2021-01-16  │\n",
       "│ 125110 │ 4835    │ EVANSTON REGIONAL HOSPITAL                 │ 2020-12-11      │ 56041.0   │ 1.0                        │ 0.681648                   │ 2021-01-16  │\n",
       "│ 125111 │ 4836    │ WASHAKIE MEDICAL CENTER                    │ 2020-12-11      │ 56043.0   │ 1.0                        │ 0.284976                   │ 2021-01-16  │\n",
       "│ 125112 │ 4837    │ WESTON COUNTY HEALTH SERVICES              │ 2020-12-11      │ 56045.0   │ 0.0                        │ 0.0                        │ 2021-01-16  │"
      ]
     },
     "execution_count": 3,
     "metadata": {},
     "output_type": "execute_result"
    }
   ],
   "source": [
    "rawdata = DataFrame(CSV.File(\"../rawdata/output_HHS_US_2021-01-16_one_column.csv\"))"
   ]
  },
  {
   "cell_type": "code",
   "execution_count": 4,
   "metadata": {},
   "outputs": [
    {
     "data": {
      "text/html": [
       "<table class=\"data-frame\"><thead><tr><th></th><th>hospital</th><th>date</th><th>admitted_moderate_icu</th><th>admitted_moderate_acute</th><th>admitted_moderate_allbeds</th></tr><tr><th></th><th>String</th><th>Date</th><th>Float64</th><th>Float64</th><th>Float64</th></tr></thead><tbody><p>125,112 rows × 5 columns</p><tr><th>1</th><td>Prattville Baptist Hospital</td><td>2020-12-22</td><td>1.10971</td><td>2.58933</td><td>3.69904</td></tr><tr><th>2</th><td>Thomas Hospital</td><td>2020-12-22</td><td>1.69252</td><td>3.94922</td><td>5.64175</td></tr><tr><th>3</th><td>South Baldwin Regional Medical Center</td><td>2020-12-22</td><td>0.908847</td><td>2.12064</td><td>3.02949</td></tr><tr><th>4</th><td>North Baldwin Infirmary</td><td>2020-12-22</td><td>0.375512</td><td>0.876194</td><td>1.25171</td></tr><tr><th>5</th><td>Medical Center Barbour</td><td>2020-12-22</td><td>0.192119</td><td>0.448277</td><td>0.640395</td></tr><tr><th>6</th><td>Bibb Medical Center</td><td>2020-12-22</td><td>0.0</td><td>0.0</td><td>0.0</td></tr><tr><th>7</th><td>St Vincents Blount</td><td>2020-12-22</td><td>1.23457</td><td>2.88067</td><td>4.11525</td></tr><tr><th>8</th><td>Bullock County Hospital</td><td>2020-12-22</td><td>0.0</td><td>0.0</td><td>0.0</td></tr><tr><th>9</th><td>Regional Medical Center Of Central Alabama</td><td>2020-12-22</td><td>0.223985</td><td>0.522632</td><td>0.746617</td></tr><tr><th>10</th><td>Noland Hospital Anniston Ii, Llc</td><td>2020-12-22</td><td>0.0725253</td><td>0.169226</td><td>0.241751</td></tr><tr><th>11</th><td>Stringfellow Memorial Hospital</td><td>2020-12-22</td><td>0.0</td><td>0.0</td><td>0.0</td></tr><tr><th>12</th><td>Northeast Alabama Regional Medical Center</td><td>2020-12-22</td><td>2.10323</td><td>4.90755</td><td>7.01078</td></tr><tr><th>13</th><td>Eamc - Lanier</td><td>2020-12-22</td><td>0.342064</td><td>0.798149</td><td>1.14021</td></tr><tr><th>14</th><td>Floyd Cherokee Medical Center</td><td>2020-12-22</td><td>0.299055</td><td>0.697796</td><td>0.996851</td></tr><tr><th>15</th><td>St Vincent'S Chilton</td><td>2020-12-22</td><td>0.460635</td><td>1.07482</td><td>1.53545</td></tr><tr><th>16</th><td>Choctaw General Hospital</td><td>2020-12-22</td><td>0.0710869</td><td>0.165869</td><td>0.236956</td></tr><tr><th>17</th><td>Grove Hill Memorial Hospital</td><td>2020-12-22</td><td>0.411981</td><td>0.961289</td><td>1.37327</td></tr><tr><th>18</th><td>Thomasville Regional Medical Center</td><td>2020-12-22</td><td>0.411981</td><td>0.961289</td><td>1.37327</td></tr><tr><th>19</th><td>Jackson Medical Center</td><td>2020-12-22</td><td>0.411981</td><td>0.961289</td><td>1.37327</td></tr><tr><th>20</th><td>Clay County Hospital</td><td>2020-12-22</td><td>0.154737</td><td>0.361052</td><td>0.515789</td></tr><tr><th>21</th><td>Medical Center Enterprise</td><td>2020-12-22</td><td>0.765768</td><td>1.78679</td><td>2.55256</td></tr><tr><th>22</th><td>Shoals Hospital</td><td>2020-12-22</td><td>0.113679</td><td>0.265251</td><td>0.378931</td></tr><tr><th>23</th><td>Helen Keller Memorial Hospital</td><td>2020-12-22</td><td>0.716179</td><td>1.67108</td><td>2.38726</td></tr><tr><th>24</th><td>Evergreen Medical Center</td><td>2020-12-22</td><td>0.121951</td><td>0.284552</td><td>0.406503</td></tr><tr><th>25</th><td>Mizell Memorial Hospital</td><td>2020-12-22</td><td>0.371368</td><td>0.866525</td><td>1.23789</td></tr><tr><th>26</th><td>Andalusia Health</td><td>2020-12-22</td><td>0.092842</td><td>0.216631</td><td>0.309473</td></tr><tr><th>27</th><td>Crenshaw Community Hospital</td><td>2020-12-22</td><td>0.163929</td><td>0.382501</td><td>0.54643</td></tr><tr><th>28</th><td>Cullman Regional Medical Center</td><td>2020-12-22</td><td>1.61299</td><td>3.76364</td><td>5.37663</td></tr><tr><th>29</th><td>Dale Medical Center</td><td>2020-12-22</td><td>0.711635</td><td>1.66048</td><td>2.37212</td></tr><tr><th>30</th><td>Vaughan Regional Medical Center Parkway Campus</td><td>2020-12-22</td><td>0.32607</td><td>0.760831</td><td>1.0869</td></tr><tr><th>&vellip;</th><td>&vellip;</td><td>&vellip;</td><td>&vellip;</td><td>&vellip;</td><td>&vellip;</td></tr></tbody></table>"
      ],
      "text/latex": [
       "\\begin{tabular}{r|ccccc}\n",
       "\t& hospital & date & admitted\\_moderate\\_icu & admitted\\_moderate\\_acute & admitted\\_moderate\\_allbeds\\\\\n",
       "\t\\hline\n",
       "\t& String & Date & Float64 & Float64 & Float64\\\\\n",
       "\t\\hline\n",
       "\t1 & Prattville Baptist Hospital & 2020-12-22 & 1.10971 & 2.58933 & 3.69904 \\\\\n",
       "\t2 & Thomas Hospital & 2020-12-22 & 1.69252 & 3.94922 & 5.64175 \\\\\n",
       "\t3 & South Baldwin Regional Medical Center & 2020-12-22 & 0.908847 & 2.12064 & 3.02949 \\\\\n",
       "\t4 & North Baldwin Infirmary & 2020-12-22 & 0.375512 & 0.876194 & 1.25171 \\\\\n",
       "\t5 & Medical Center Barbour & 2020-12-22 & 0.192119 & 0.448277 & 0.640395 \\\\\n",
       "\t6 & Bibb Medical Center & 2020-12-22 & 0.0 & 0.0 & 0.0 \\\\\n",
       "\t7 & St Vincents Blount & 2020-12-22 & 1.23457 & 2.88067 & 4.11525 \\\\\n",
       "\t8 & Bullock County Hospital & 2020-12-22 & 0.0 & 0.0 & 0.0 \\\\\n",
       "\t9 & Regional Medical Center Of Central Alabama & 2020-12-22 & 0.223985 & 0.522632 & 0.746617 \\\\\n",
       "\t10 & Noland Hospital Anniston Ii, Llc & 2020-12-22 & 0.0725253 & 0.169226 & 0.241751 \\\\\n",
       "\t11 & Stringfellow Memorial Hospital & 2020-12-22 & 0.0 & 0.0 & 0.0 \\\\\n",
       "\t12 & Northeast Alabama Regional Medical Center & 2020-12-22 & 2.10323 & 4.90755 & 7.01078 \\\\\n",
       "\t13 & Eamc - Lanier & 2020-12-22 & 0.342064 & 0.798149 & 1.14021 \\\\\n",
       "\t14 & Floyd Cherokee Medical Center & 2020-12-22 & 0.299055 & 0.697796 & 0.996851 \\\\\n",
       "\t15 & St Vincent'S Chilton & 2020-12-22 & 0.460635 & 1.07482 & 1.53545 \\\\\n",
       "\t16 & Choctaw General Hospital & 2020-12-22 & 0.0710869 & 0.165869 & 0.236956 \\\\\n",
       "\t17 & Grove Hill Memorial Hospital & 2020-12-22 & 0.411981 & 0.961289 & 1.37327 \\\\\n",
       "\t18 & Thomasville Regional Medical Center & 2020-12-22 & 0.411981 & 0.961289 & 1.37327 \\\\\n",
       "\t19 & Jackson Medical Center & 2020-12-22 & 0.411981 & 0.961289 & 1.37327 \\\\\n",
       "\t20 & Clay County Hospital & 2020-12-22 & 0.154737 & 0.361052 & 0.515789 \\\\\n",
       "\t21 & Medical Center Enterprise & 2020-12-22 & 0.765768 & 1.78679 & 2.55256 \\\\\n",
       "\t22 & Shoals Hospital & 2020-12-22 & 0.113679 & 0.265251 & 0.378931 \\\\\n",
       "\t23 & Helen Keller Memorial Hospital & 2020-12-22 & 0.716179 & 1.67108 & 2.38726 \\\\\n",
       "\t24 & Evergreen Medical Center & 2020-12-22 & 0.121951 & 0.284552 & 0.406503 \\\\\n",
       "\t25 & Mizell Memorial Hospital & 2020-12-22 & 0.371368 & 0.866525 & 1.23789 \\\\\n",
       "\t26 & Andalusia Health & 2020-12-22 & 0.092842 & 0.216631 & 0.309473 \\\\\n",
       "\t27 & Crenshaw Community Hospital & 2020-12-22 & 0.163929 & 0.382501 & 0.54643 \\\\\n",
       "\t28 & Cullman Regional Medical Center & 2020-12-22 & 1.61299 & 3.76364 & 5.37663 \\\\\n",
       "\t29 & Dale Medical Center & 2020-12-22 & 0.711635 & 1.66048 & 2.37212 \\\\\n",
       "\t30 & Vaughan Regional Medical Center Parkway Campus & 2020-12-22 & 0.32607 & 0.760831 & 1.0869 \\\\\n",
       "\t$\\dots$ & $\\dots$ & $\\dots$ & $\\dots$ & $\\dots$ & $\\dots$ \\\\\n",
       "\\end{tabular}\n"
      ],
      "text/plain": [
       "125112×5 DataFrame\n",
       "│ Row    │ hospital                                   │ date       │ admitted_moderate_icu │ admitted_moderate_acute │ admitted_moderate_allbeds │\n",
       "│        │ \u001b[90mString\u001b[39m                                     │ \u001b[90mDate\u001b[39m       │ \u001b[90mFloat64\u001b[39m               │ \u001b[90mFloat64\u001b[39m                 │ \u001b[90mFloat64\u001b[39m                   │\n",
       "├────────┼────────────────────────────────────────────┼────────────┼───────────────────────┼─────────────────────────┼───────────────────────────┤\n",
       "│ 1      │ Prattville Baptist Hospital                │ 2020-12-22 │ 1.10971               │ 2.58933                 │ 3.69904                   │\n",
       "│ 2      │ Thomas Hospital                            │ 2020-12-22 │ 1.69252               │ 3.94922                 │ 5.64175                   │\n",
       "│ 3      │ South Baldwin Regional Medical Center      │ 2020-12-22 │ 0.908847              │ 2.12064                 │ 3.02949                   │\n",
       "│ 4      │ North Baldwin Infirmary                    │ 2020-12-22 │ 0.375512              │ 0.876194                │ 1.25171                   │\n",
       "│ 5      │ Medical Center Barbour                     │ 2020-12-22 │ 0.192119              │ 0.448277                │ 0.640395                  │\n",
       "│ 6      │ Bibb Medical Center                        │ 2020-12-22 │ 0.0                   │ 0.0                     │ 0.0                       │\n",
       "│ 7      │ St Vincents Blount                         │ 2020-12-22 │ 1.23457               │ 2.88067                 │ 4.11525                   │\n",
       "│ 8      │ Bullock County Hospital                    │ 2020-12-22 │ 0.0                   │ 0.0                     │ 0.0                       │\n",
       "│ 9      │ Regional Medical Center Of Central Alabama │ 2020-12-22 │ 0.223985              │ 0.522632                │ 0.746617                  │\n",
       "│ 10     │ Noland Hospital Anniston Ii, Llc           │ 2020-12-22 │ 0.0725253             │ 0.169226                │ 0.241751                  │\n",
       "⋮\n",
       "│ 125102 │ Summit Medical Center                      │ 2021-01-16 │ 0.0                   │ 0.0                     │ 0.0                       │\n",
       "│ 125103 │ Niobrara Health & Life Center              │ 2021-01-16 │ 0.0                   │ 0.0                     │ 0.0                       │\n",
       "│ 125104 │ Cody Regional Health                       │ 2021-01-16 │ 0.157064              │ 0.366483                │ 0.523547                  │\n",
       "│ 125105 │ Powell Valley Hospital                     │ 2021-01-16 │ 0.127472              │ 0.297435                │ 0.424907                  │\n",
       "│ 125106 │ Platte County Memorial Hospital            │ 2021-01-16 │ 0.0457014             │ 0.106637                │ 0.152338                  │\n",
       "│ 125107 │ Sheridan Memorial Hospital                 │ 2021-01-16 │ 0.169766              │ 0.396122                │ 0.565888                  │\n",
       "│ 125108 │ Memorial Hospital Sweetwater County        │ 2021-01-16 │ 0.56847               │ 1.32643                 │ 1.8949                    │\n",
       "│ 125109 │ St Johns Medical Center                    │ 2021-01-16 │ 0.145883              │ 0.340393                │ 0.486276                  │\n",
       "│ 125110 │ Evanston Regional Hospital                 │ 2021-01-16 │ 0.204494              │ 0.477153                │ 0.681648                  │\n",
       "│ 125111 │ Washakie Medical Center                    │ 2021-01-16 │ 0.0854928             │ 0.199483                │ 0.284976                  │\n",
       "│ 125112 │ Weston County Health Services              │ 2021-01-16 │ 0.0                   │ 0.0                     │ 0.0                       │"
      ]
     },
     "execution_count": 4,
     "metadata": {},
     "output_type": "execute_result"
    }
   ],
   "source": [
    "data = select(rawdata,\n",
    "    :hospital_name => ByRow(titlecase) => :hospital,\n",
    "    :target_date => :date,\n",
    "    \"hospitalization_2020-12-22\" => ByRow(x -> x*0.3) => :admitted_moderate_icu,\n",
    "    \"hospitalization_2020-12-22\" => ByRow(x -> x*0.7) => :admitted_moderate_acute,\n",
    "    \"hospitalization_2020-12-22\" => :admitted_moderate_allbeds,\n",
    ")"
   ]
  },
  {
   "cell_type": "code",
   "execution_count": 5,
   "metadata": {},
   "outputs": [
    {
     "data": {
      "text/plain": [
       "\"../data/hhs_forecast_2020_12_26.csv\""
      ]
     },
     "execution_count": 5,
     "metadata": {},
     "output_type": "execute_result"
    }
   ],
   "source": [
    "data |> CSV.write(\"../data/hhs_forecast_2020_12_26.csv\")"
   ]
  },
  {
   "cell_type": "code",
   "execution_count": null,
   "metadata": {},
   "outputs": [],
   "source": []
  }
 ],
 "metadata": {
  "@webio": {
   "lastCommId": null,
   "lastKernelId": null
  },
  "kernelspec": {
   "display_name": "Julia 1.5.3",
   "language": "julia",
   "name": "julia-1.5"
  },
  "language_info": {
   "file_extension": ".jl",
   "mimetype": "application/julia",
   "name": "julia",
   "version": "1.5.3"
  }
 },
 "nbformat": 4,
 "nbformat_minor": 4
}
