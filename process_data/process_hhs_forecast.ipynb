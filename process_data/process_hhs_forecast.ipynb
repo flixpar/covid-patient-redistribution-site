{
 "cells": [
  {
   "cell_type": "code",
   "execution_count": 1,
   "metadata": {},
   "outputs": [],
   "source": [
    "using CSV\n",
    "using DataFrames\n",
    "using Dates"
   ]
  },
  {
   "cell_type": "code",
   "execution_count": 2,
   "metadata": {},
   "outputs": [],
   "source": [
    "ENV[\"COLUMNS\"] = 1000;"
   ]
  },
  {
   "cell_type": "code",
   "execution_count": 3,
   "metadata": {},
   "outputs": [
    {
     "data": {
      "text/html": [
       "<table class=\"data-frame\"><thead><tr><th></th><th>Column1</th><th>hospital_name</th><th>ccn</th><th>collection_week</th><th>fips_code</th><th>hospitalization_percentage</th><th>ICU_percentages</th><th>hospitalization_2020-12-22</th><th>target_date</th></tr><tr><th></th><th>Int64</th><th>String</th><th>String?</th><th>Date</th><th>Float64</th><th>Float64?</th><th>Float64?</th><th>Float64?</th><th>Date</th></tr></thead><tbody><p>125,372 rows × 9 columns</p><tr><th>1</th><td>10</td><td>PRATTVILLE BAPTIST HOSPITAL</td><td>010108</td><td>2020-12-11</td><td>1001.0</td><td>1.0</td><td>0.122066</td><td>3.69904</td><td>2020-12-22</td></tr><tr><th>2</th><td>11</td><td>THOMAS HOSPITAL</td><td>010100</td><td>2020-12-11</td><td>1003.0</td><td>0.522534</td><td>0.16055</td><td>5.18507</td><td>2020-12-22</td></tr><tr><th>3</th><td>12</td><td>SOUTH BALDWIN REGIONAL MEDICAL CENTER</td><td>010083</td><td>2020-12-11</td><td>1003.0</td><td>0.314044</td><td>0.444444</td><td>3.11624</td><td>2020-12-22</td></tr><tr><th>4</th><td>13</td><td>NORTH BALDWIN INFIRMARY</td><td>010129</td><td>2020-12-11</td><td>1003.0</td><td>0.163422</td><td>0.104167</td><td>1.62163</td><td>2020-12-22</td></tr><tr><th>5</th><td>14</td><td>MEDICAL CENTER BARBOUR</td><td>010069</td><td>2020-12-11</td><td>1005.0</td><td>1.0</td><td>0.178571</td><td>0.640395</td><td>2020-12-22</td></tr><tr><th>6</th><td>15</td><td>BIBB MEDICAL CENTER</td><td>010058</td><td>2020-12-11</td><td>1007.0</td><td>0.9</td><td><em>missing</em></td><td>1.39263</td><td>2020-12-22</td></tr><tr><th>7</th><td>16</td><td>ST VINCENTS BLOUNT</td><td>011305</td><td>2020-12-11</td><td>1009.0</td><td>0.95</td><td>0.25641</td><td>3.90948</td><td>2020-12-22</td></tr><tr><th>8</th><td>17</td><td>BULLOCK COUNTY HOSPITAL</td><td>010110</td><td>2020-12-11</td><td>1011.0</td><td>0.0</td><td><em>missing</em></td><td>0.0</td><td>2020-12-22</td></tr><tr><th>9</th><td>18</td><td>REGIONAL MEDICAL CENTER OF CENTRAL ALABAMA</td><td>010150</td><td>2020-12-11</td><td>1013.0</td><td>0.95</td><td>0.322581</td><td>0.709286</td><td>2020-12-22</td></tr><tr><th>10</th><td>19</td><td>NOLAND HOSPITAL ANNISTON II, LLC</td><td>012011</td><td>2020-12-11</td><td>1015.0</td><td>0.0253942</td><td>0.0</td><td>0.184172</td><td>2020-12-22</td></tr><tr><th>11</th><td>20</td><td>STRINGFELLOW MEMORIAL HOSPITAL</td><td>010038</td><td>2020-12-11</td><td>1015.0</td><td>0.000902256</td><td><em>missing</em></td><td>0.00654364</td><td>2020-12-22</td></tr><tr><th>12</th><td>21</td><td>NORTHEAST ALABAMA REGIONAL MEDICAL CENTER</td><td>010078</td><td>2020-12-11</td><td>1015.0</td><td>0.973704</td><td>0.20197</td><td>7.06182</td><td>2020-12-22</td></tr><tr><th>13</th><td>22</td><td>EAMC - LANIER</td><td>010175</td><td>2020-12-11</td><td>1017.0</td><td>1.0</td><td>0.0</td><td>1.14021</td><td>2020-12-22</td></tr><tr><th>14</th><td>23</td><td>FLOYD CHEROKEE MEDICAL CENTER</td><td>010022</td><td>2020-12-11</td><td>1019.0</td><td>0.8</td><td>0.0</td><td>0.797481</td><td>2020-12-22</td></tr><tr><th>15</th><td>24</td><td>ST VINCENT'S CHILTON</td><td>010173</td><td>2020-12-11</td><td>1021.0</td><td>1.0</td><td>0.153846</td><td>1.53545</td><td>2020-12-22</td></tr><tr><th>16</th><td>25</td><td>CHOCTAW GENERAL HOSPITAL</td><td>011304</td><td>2020-12-11</td><td>1023.0</td><td>0.95</td><td>0.0</td><td>0.225109</td><td>2020-12-22</td></tr><tr><th>17</th><td>26</td><td>GROVE HILL MEMORIAL HOSPITAL</td><td>010091</td><td>2020-12-11</td><td>1025.0</td><td>0.260787</td><td>0.0</td><td>1.07439</td><td>2020-12-22</td></tr><tr><th>18</th><td>27</td><td>THOMASVILLE REGIONAL MEDICAL CENTER</td><td>010174</td><td>2020-12-11</td><td>1025.0</td><td>0.299991</td><td>0.0</td><td>1.23591</td><td>2020-12-22</td></tr><tr><th>19</th><td>28</td><td>JACKSON MEDICAL CENTER</td><td>010128</td><td>2020-12-11</td><td>1025.0</td><td>0.439222</td><td>0.0</td><td>1.80951</td><td>2020-12-22</td></tr><tr><th>20</th><td>29</td><td>CLAY COUNTY HOSPITAL</td><td>010073</td><td>2020-12-11</td><td>1027.0</td><td>1.0</td><td>1.0</td><td>0.515789</td><td>2020-12-22</td></tr><tr><th>21</th><td>30</td><td>MEDICAL CENTER ENTERPRISE</td><td>010049</td><td>2020-12-11</td><td>1031.0</td><td>1.0</td><td>0.319444</td><td>2.55256</td><td>2020-12-22</td></tr><tr><th>22</th><td>31</td><td>SHOALS HOSPITAL</td><td>010157</td><td>2020-12-11</td><td>1033.0</td><td>0.196985</td><td>0.0</td><td>0.544899</td><td>2020-12-22</td></tr><tr><th>23</th><td>32</td><td>HELEN KELLER MEMORIAL HOSPITAL</td><td>010019</td><td>2020-12-11</td><td>1033.0</td><td>0.803015</td><td>0.394822</td><td>2.22129</td><td>2020-12-22</td></tr><tr><th>24</th><td>33</td><td>EVERGREEN MEDICAL CENTER</td><td>010148</td><td>2020-12-11</td><td>1035.0</td><td>1.0</td><td>0.0</td><td>0.406503</td><td>2020-12-22</td></tr><tr><th>25</th><td>34</td><td>MIZELL MEMORIAL HOSPITAL</td><td>010007</td><td>2020-12-11</td><td>1039.0</td><td>0.582349</td><td>0.333333</td><td>0.901108</td><td>2020-12-22</td></tr><tr><th>26</th><td>35</td><td>ANDALUSIA HEALTH</td><td>010036</td><td>2020-12-11</td><td>1039.0</td><td>0.417651</td><td>0.133333</td><td>0.646259</td><td>2020-12-22</td></tr><tr><th>27</th><td>36</td><td>CRENSHAW COMMUNITY HOSPITAL</td><td>010008</td><td>2020-12-11</td><td>1041.0</td><td>1.0</td><td>0.0</td><td>0.54643</td><td>2020-12-22</td></tr><tr><th>28</th><td>37</td><td>CULLMAN REGIONAL MEDICAL CENTER</td><td>010035</td><td>2020-12-11</td><td>1043.0</td><td>1.0</td><td>0.242788</td><td>5.37663</td><td>2020-12-22</td></tr><tr><th>29</th><td>38</td><td>DALE MEDICAL CENTER</td><td>010021</td><td>2020-12-11</td><td>1045.0</td><td>1.0</td><td>0.226415</td><td>2.37212</td><td>2020-12-22</td></tr><tr><th>30</th><td>39</td><td>VAUGHAN REGIONAL MEDICAL CENTER PARKWAY CAMPUS</td><td>010118</td><td>2020-12-11</td><td>1047.0</td><td>1.0</td><td>0.198895</td><td>1.0869</td><td>2020-12-22</td></tr><tr><th>&vellip;</th><td>&vellip;</td><td>&vellip;</td><td>&vellip;</td><td>&vellip;</td><td>&vellip;</td><td>&vellip;</td><td>&vellip;</td><td>&vellip;</td><td>&vellip;</td></tr></tbody></table>"
      ],
      "text/latex": [
       "\\begin{tabular}{r|ccccccccc}\n",
       "\t& Column1 & hospital\\_name & ccn & collection\\_week & fips\\_code & hospitalization\\_percentage & ICU\\_percentages & hospitalization\\_2020-12-22 & target\\_date\\\\\n",
       "\t\\hline\n",
       "\t& Int64 & String & String? & Date & Float64 & Float64? & Float64? & Float64? & Date\\\\\n",
       "\t\\hline\n",
       "\t1 & 10 & PRATTVILLE BAPTIST HOSPITAL & 010108 & 2020-12-11 & 1001.0 & 1.0 & 0.122066 & 3.69904 & 2020-12-22 \\\\\n",
       "\t2 & 11 & THOMAS HOSPITAL & 010100 & 2020-12-11 & 1003.0 & 0.522534 & 0.16055 & 5.18507 & 2020-12-22 \\\\\n",
       "\t3 & 12 & SOUTH BALDWIN REGIONAL MEDICAL CENTER & 010083 & 2020-12-11 & 1003.0 & 0.314044 & 0.444444 & 3.11624 & 2020-12-22 \\\\\n",
       "\t4 & 13 & NORTH BALDWIN INFIRMARY & 010129 & 2020-12-11 & 1003.0 & 0.163422 & 0.104167 & 1.62163 & 2020-12-22 \\\\\n",
       "\t5 & 14 & MEDICAL CENTER BARBOUR & 010069 & 2020-12-11 & 1005.0 & 1.0 & 0.178571 & 0.640395 & 2020-12-22 \\\\\n",
       "\t6 & 15 & BIBB MEDICAL CENTER & 010058 & 2020-12-11 & 1007.0 & 0.9 & \\emph{missing} & 1.39263 & 2020-12-22 \\\\\n",
       "\t7 & 16 & ST VINCENTS BLOUNT & 011305 & 2020-12-11 & 1009.0 & 0.95 & 0.25641 & 3.90948 & 2020-12-22 \\\\\n",
       "\t8 & 17 & BULLOCK COUNTY HOSPITAL & 010110 & 2020-12-11 & 1011.0 & 0.0 & \\emph{missing} & 0.0 & 2020-12-22 \\\\\n",
       "\t9 & 18 & REGIONAL MEDICAL CENTER OF CENTRAL ALABAMA & 010150 & 2020-12-11 & 1013.0 & 0.95 & 0.322581 & 0.709286 & 2020-12-22 \\\\\n",
       "\t10 & 19 & NOLAND HOSPITAL ANNISTON II, LLC & 012011 & 2020-12-11 & 1015.0 & 0.0253942 & 0.0 & 0.184172 & 2020-12-22 \\\\\n",
       "\t11 & 20 & STRINGFELLOW MEMORIAL HOSPITAL & 010038 & 2020-12-11 & 1015.0 & 0.000902256 & \\emph{missing} & 0.00654364 & 2020-12-22 \\\\\n",
       "\t12 & 21 & NORTHEAST ALABAMA REGIONAL MEDICAL CENTER & 010078 & 2020-12-11 & 1015.0 & 0.973704 & 0.20197 & 7.06182 & 2020-12-22 \\\\\n",
       "\t13 & 22 & EAMC - LANIER & 010175 & 2020-12-11 & 1017.0 & 1.0 & 0.0 & 1.14021 & 2020-12-22 \\\\\n",
       "\t14 & 23 & FLOYD CHEROKEE MEDICAL CENTER & 010022 & 2020-12-11 & 1019.0 & 0.8 & 0.0 & 0.797481 & 2020-12-22 \\\\\n",
       "\t15 & 24 & ST VINCENT'S CHILTON & 010173 & 2020-12-11 & 1021.0 & 1.0 & 0.153846 & 1.53545 & 2020-12-22 \\\\\n",
       "\t16 & 25 & CHOCTAW GENERAL HOSPITAL & 011304 & 2020-12-11 & 1023.0 & 0.95 & 0.0 & 0.225109 & 2020-12-22 \\\\\n",
       "\t17 & 26 & GROVE HILL MEMORIAL HOSPITAL & 010091 & 2020-12-11 & 1025.0 & 0.260787 & 0.0 & 1.07439 & 2020-12-22 \\\\\n",
       "\t18 & 27 & THOMASVILLE REGIONAL MEDICAL CENTER & 010174 & 2020-12-11 & 1025.0 & 0.299991 & 0.0 & 1.23591 & 2020-12-22 \\\\\n",
       "\t19 & 28 & JACKSON MEDICAL CENTER & 010128 & 2020-12-11 & 1025.0 & 0.439222 & 0.0 & 1.80951 & 2020-12-22 \\\\\n",
       "\t20 & 29 & CLAY COUNTY HOSPITAL & 010073 & 2020-12-11 & 1027.0 & 1.0 & 1.0 & 0.515789 & 2020-12-22 \\\\\n",
       "\t21 & 30 & MEDICAL CENTER ENTERPRISE & 010049 & 2020-12-11 & 1031.0 & 1.0 & 0.319444 & 2.55256 & 2020-12-22 \\\\\n",
       "\t22 & 31 & SHOALS HOSPITAL & 010157 & 2020-12-11 & 1033.0 & 0.196985 & 0.0 & 0.544899 & 2020-12-22 \\\\\n",
       "\t23 & 32 & HELEN KELLER MEMORIAL HOSPITAL & 010019 & 2020-12-11 & 1033.0 & 0.803015 & 0.394822 & 2.22129 & 2020-12-22 \\\\\n",
       "\t24 & 33 & EVERGREEN MEDICAL CENTER & 010148 & 2020-12-11 & 1035.0 & 1.0 & 0.0 & 0.406503 & 2020-12-22 \\\\\n",
       "\t25 & 34 & MIZELL MEMORIAL HOSPITAL & 010007 & 2020-12-11 & 1039.0 & 0.582349 & 0.333333 & 0.901108 & 2020-12-22 \\\\\n",
       "\t26 & 35 & ANDALUSIA HEALTH & 010036 & 2020-12-11 & 1039.0 & 0.417651 & 0.133333 & 0.646259 & 2020-12-22 \\\\\n",
       "\t27 & 36 & CRENSHAW COMMUNITY HOSPITAL & 010008 & 2020-12-11 & 1041.0 & 1.0 & 0.0 & 0.54643 & 2020-12-22 \\\\\n",
       "\t28 & 37 & CULLMAN REGIONAL MEDICAL CENTER & 010035 & 2020-12-11 & 1043.0 & 1.0 & 0.242788 & 5.37663 & 2020-12-22 \\\\\n",
       "\t29 & 38 & DALE MEDICAL CENTER & 010021 & 2020-12-11 & 1045.0 & 1.0 & 0.226415 & 2.37212 & 2020-12-22 \\\\\n",
       "\t30 & 39 & VAUGHAN REGIONAL MEDICAL CENTER PARKWAY CAMPUS & 010118 & 2020-12-11 & 1047.0 & 1.0 & 0.198895 & 1.0869 & 2020-12-22 \\\\\n",
       "\t$\\dots$ & $\\dots$ & $\\dots$ & $\\dots$ & $\\dots$ & $\\dots$ & $\\dots$ & $\\dots$ & $\\dots$ & $\\dots$ \\\\\n",
       "\\end{tabular}\n"
      ],
      "text/plain": [
       "125372×9 DataFrame\n",
       "│ Row    │ Column1 │ hospital_name                              │ ccn     │ collection_week │ fips_code │ hospitalization_percentage │ ICU_percentages │ hospitalization_2020-12-22 │ target_date │\n",
       "│        │ \u001b[90mInt64\u001b[39m   │ \u001b[90mString\u001b[39m                                     │ \u001b[90mString?\u001b[39m │ \u001b[90mDate\u001b[39m            │ \u001b[90mFloat64\u001b[39m   │ \u001b[90mUnion{Missing, Float64}\u001b[39m    │ \u001b[90mFloat64?\u001b[39m        │ \u001b[90mUnion{Missing, Float64}\u001b[39m    │ \u001b[90mDate\u001b[39m        │\n",
       "├────────┼─────────┼────────────────────────────────────────────┼─────────┼─────────────────┼───────────┼────────────────────────────┼─────────────────┼────────────────────────────┼─────────────┤\n",
       "│ 1      │ 10      │ PRATTVILLE BAPTIST HOSPITAL                │ 010108  │ 2020-12-11      │ 1001.0    │ 1.0                        │ 0.122066        │ 3.69904                    │ 2020-12-22  │\n",
       "│ 2      │ 11      │ THOMAS HOSPITAL                            │ 010100  │ 2020-12-11      │ 1003.0    │ 0.522534                   │ 0.16055         │ 5.18507                    │ 2020-12-22  │\n",
       "│ 3      │ 12      │ SOUTH BALDWIN REGIONAL MEDICAL CENTER      │ 010083  │ 2020-12-11      │ 1003.0    │ 0.314044                   │ 0.444444        │ 3.11624                    │ 2020-12-22  │\n",
       "│ 4      │ 13      │ NORTH BALDWIN INFIRMARY                    │ 010129  │ 2020-12-11      │ 1003.0    │ 0.163422                   │ 0.104167        │ 1.62163                    │ 2020-12-22  │\n",
       "│ 5      │ 14      │ MEDICAL CENTER BARBOUR                     │ 010069  │ 2020-12-11      │ 1005.0    │ 1.0                        │ 0.178571        │ 0.640395                   │ 2020-12-22  │\n",
       "│ 6      │ 15      │ BIBB MEDICAL CENTER                        │ 010058  │ 2020-12-11      │ 1007.0    │ 0.9                        │ \u001b[90mmissing\u001b[39m         │ 1.39263                    │ 2020-12-22  │\n",
       "│ 7      │ 16      │ ST VINCENTS BLOUNT                         │ 011305  │ 2020-12-11      │ 1009.0    │ 0.95                       │ 0.25641         │ 3.90948                    │ 2020-12-22  │\n",
       "│ 8      │ 17      │ BULLOCK COUNTY HOSPITAL                    │ 010110  │ 2020-12-11      │ 1011.0    │ 0.0                        │ \u001b[90mmissing\u001b[39m         │ 0.0                        │ 2020-12-22  │\n",
       "│ 9      │ 18      │ REGIONAL MEDICAL CENTER OF CENTRAL ALABAMA │ 010150  │ 2020-12-11      │ 1013.0    │ 0.95                       │ 0.322581        │ 0.709286                   │ 2020-12-22  │\n",
       "│ 10     │ 19      │ NOLAND HOSPITAL ANNISTON II, LLC           │ 012011  │ 2020-12-11      │ 1015.0    │ 0.0253942                  │ 0.0             │ 0.184172                   │ 2020-12-22  │\n",
       "⋮\n",
       "│ 125362 │ 4827    │ SUMMIT MEDICAL CENTER                      │ \u001b[90mmissing\u001b[39m │ 2020-12-11      │ 56025.0   │ 0.0                        │ \u001b[90mmissing\u001b[39m         │ 0.0                        │ 2021-01-16  │\n",
       "│ 125363 │ 4828    │ NIOBRARA HEALTH & LIFE CENTER              │ \u001b[90mmissing\u001b[39m │ 2020-12-11      │ 56027.0   │ 0.3                        │ \u001b[90mmissing\u001b[39m         │ 0.010328                   │ 2021-01-16  │\n",
       "│ 125364 │ 4829    │ CODY REGIONAL HEALTH                       │ \u001b[90mmissing\u001b[39m │ 2020-12-11      │ 56029.0   │ 0.62349                    │ 0.3125          │ 0.591352                   │ 2021-01-16  │\n",
       "│ 125365 │ 4830    │ POWELL VALLEY HOSPITAL                     │ \u001b[90mmissing\u001b[39m │ 2020-12-11      │ 56029.0   │ 0.22651                    │ 0.0512821       │ 0.214834                   │ 2021-01-16  │\n",
       "│ 125366 │ 4831    │ PLATTE COUNTY MEMORIAL HOSPITAL            │ \u001b[90mmissing\u001b[39m │ 2020-12-11      │ 56031.0   │ 0.85                       │ 0.0             │ 0.129487                   │ 2021-01-16  │\n",
       "│ 125367 │ 4832    │ SHERIDAN MEMORIAL HOSPITAL                 │ \u001b[90mmissing\u001b[39m │ 2020-12-11      │ 56033.0   │ 1.0                        │ 0.166667        │ 0.565888                   │ 2021-01-16  │\n",
       "│ 125368 │ 4833    │ MEMORIAL HOSPITAL SWEETWATER COUNTY        │ \u001b[90mmissing\u001b[39m │ 2020-12-11      │ 56037.0   │ 0.7                        │ 0.916667        │ 1.32643                    │ 2021-01-16  │\n",
       "│ 125369 │ 4834    │ ST JOHNS MEDICAL CENTER                    │ \u001b[90mmissing\u001b[39m │ 2020-12-11      │ 56039.0   │ 1.0                        │ 0.27027         │ 0.486276                   │ 2021-01-16  │\n",
       "│ 125370 │ 4835    │ EVANSTON REGIONAL HOSPITAL                 │ \u001b[90mmissing\u001b[39m │ 2020-12-11      │ 56041.0   │ 0.4                        │ 0.0             │ 0.272659                   │ 2021-01-16  │\n",
       "│ 125371 │ 4836    │ WASHAKIE MEDICAL CENTER                    │ \u001b[90mmissing\u001b[39m │ 2020-12-11      │ 56043.0   │ 1.0                        │ 0.0             │ 0.284976                   │ 2021-01-16  │\n",
       "│ 125372 │ 4837    │ WESTON COUNTY HEALTH SERVICES              │ \u001b[90mmissing\u001b[39m │ 2020-12-11      │ 56045.0   │ 0.3                        │ \u001b[90mmissing\u001b[39m         │ 0.0325332                  │ 2021-01-16  │"
      ]
     },
     "execution_count": 3,
     "metadata": {},
     "output_type": "execute_result"
    }
   ],
   "source": [
    "rawdata = DataFrame(CSV.File(\"../rawdata/output_HHS_US_2021-01-16_one_column.csv\"))"
   ]
  },
  {
   "cell_type": "code",
   "execution_count": 4,
   "metadata": {},
   "outputs": [
    {
     "data": {
      "text/html": [
       "<table class=\"data-frame\"><thead><tr><th></th><th>hospital</th><th>hospital_id</th><th>date</th><th>admitted_moderate_icu</th><th>admitted_moderate_acute</th><th>admitted_moderate_allbeds</th></tr><tr><th></th><th>String</th><th>String?</th><th>Date</th><th>Float64?</th><th>Float64?</th><th>Float64?</th></tr></thead><tbody><p>125,372 rows × 6 columns</p><tr><th>1</th><td>Abbeville Area Medical Center</td><td>421301</td><td>2020-12-22</td><td>0.0</td><td>0.537053</td><td>0.537053</td></tr><tr><th>2</th><td>Abbeville Area Medical Center</td><td><em>missing</em></td><td>2020-12-23</td><td>0.0</td><td>0.555188</td><td>0.555188</td></tr><tr><th>3</th><td>Abbeville Area Medical Center</td><td><em>missing</em></td><td>2020-12-24</td><td>0.0</td><td>0.568869</td><td>0.568869</td></tr><tr><th>4</th><td>Abbeville Area Medical Center</td><td><em>missing</em></td><td>2020-12-25</td><td>0.0</td><td>0.576186</td><td>0.576186</td></tr><tr><th>5</th><td>Abbeville Area Medical Center</td><td><em>missing</em></td><td>2020-12-26</td><td>0.0</td><td>0.608002</td><td>0.608002</td></tr><tr><th>6</th><td>Abbeville Area Medical Center</td><td><em>missing</em></td><td>2020-12-27</td><td>0.0</td><td>0.577841</td><td>0.577841</td></tr><tr><th>7</th><td>Abbeville Area Medical Center</td><td><em>missing</em></td><td>2020-12-28</td><td>0.0</td><td>0.560201</td><td>0.560201</td></tr><tr><th>8</th><td>Abbeville Area Medical Center</td><td><em>missing</em></td><td>2020-12-29</td><td>0.0</td><td>0.559289</td><td>0.559289</td></tr><tr><th>9</th><td>Abbeville Area Medical Center</td><td><em>missing</em></td><td>2020-12-30</td><td>0.0</td><td>0.561722</td><td>0.561722</td></tr><tr><th>10</th><td>Abbeville Area Medical Center</td><td><em>missing</em></td><td>2020-12-31</td><td>0.0</td><td>0.572062</td><td>0.572062</td></tr><tr><th>11</th><td>Abbeville Area Medical Center</td><td><em>missing</em></td><td>2021-01-01</td><td>0.0</td><td>0.581186</td><td>0.581186</td></tr><tr><th>12</th><td>Abbeville Area Medical Center</td><td><em>missing</em></td><td>2021-01-02</td><td>0.0</td><td>0.612511</td><td>0.612511</td></tr><tr><th>13</th><td>Abbeville Area Medical Center</td><td><em>missing</em></td><td>2021-01-03</td><td>0.0</td><td>0.616537</td><td>0.616537</td></tr><tr><th>14</th><td>Abbeville Area Medical Center</td><td><em>missing</em></td><td>2021-01-04</td><td>0.0</td><td>0.596739</td><td>0.596739</td></tr><tr><th>15</th><td>Abbeville Area Medical Center</td><td><em>missing</em></td><td>2021-01-05</td><td>0.0</td><td>0.596739</td><td>0.596739</td></tr><tr><th>16</th><td>Abbeville Area Medical Center</td><td><em>missing</em></td><td>2021-01-06</td><td>0.0</td><td>0.604163</td><td>0.604163</td></tr><tr><th>17</th><td>Abbeville Area Medical Center</td><td><em>missing</em></td><td>2021-01-07</td><td>0.0</td><td>0.612516</td><td>0.612516</td></tr><tr><th>18</th><td>Abbeville Area Medical Center</td><td><em>missing</em></td><td>2021-01-08</td><td>0.0</td><td>0.617156</td><td>0.617156</td></tr><tr><th>19</th><td>Abbeville Area Medical Center</td><td><em>missing</em></td><td>2021-01-09</td><td>0.0</td><td>0.642832</td><td>0.642832</td></tr><tr><th>20</th><td>Abbeville Area Medical Center</td><td><em>missing</em></td><td>2021-01-10</td><td>0.0</td><td>0.600509</td><td>0.600509</td></tr><tr><th>21</th><td>Abbeville Area Medical Center</td><td><em>missing</em></td><td>2021-01-11</td><td>0.0</td><td>0.582338</td><td>0.582338</td></tr><tr><th>22</th><td>Abbeville Area Medical Center</td><td><em>missing</em></td><td>2021-01-12</td><td>0.0</td><td>0.5797</td><td>0.5797</td></tr><tr><th>23</th><td>Abbeville Area Medical Center</td><td><em>missing</em></td><td>2021-01-13</td><td>0.0</td><td>0.584097</td><td>0.584097</td></tr><tr><th>24</th><td>Abbeville Area Medical Center</td><td><em>missing</em></td><td>2021-01-14</td><td>0.0</td><td>0.592303</td><td>0.592303</td></tr><tr><th>25</th><td>Abbeville Area Medical Center</td><td><em>missing</em></td><td>2021-01-15</td><td>0.0</td><td>0.592596</td><td>0.592596</td></tr><tr><th>26</th><td>Abbeville Area Medical Center</td><td><em>missing</em></td><td>2021-01-16</td><td>0.0</td><td>0.620145</td><td>0.620145</td></tr><tr><th>27</th><td>Abbeville General Hospital</td><td>190034</td><td>2020-12-22</td><td>0.380886</td><td>0.652947</td><td>1.03383</td></tr><tr><th>28</th><td>Abbeville General Hospital</td><td><em>missing</em></td><td>2020-12-23</td><td>0.405403</td><td>0.694976</td><td>1.10038</td></tr><tr><th>29</th><td>Abbeville General Hospital</td><td><em>missing</em></td><td>2020-12-24</td><td>0.419412</td><td>0.718992</td><td>1.1384</td></tr><tr><th>30</th><td>Abbeville General Hospital</td><td><em>missing</em></td><td>2020-12-25</td><td>0.406716</td><td>0.697227</td><td>1.10394</td></tr><tr><th>&vellip;</th><td>&vellip;</td><td>&vellip;</td><td>&vellip;</td><td>&vellip;</td><td>&vellip;</td><td>&vellip;</td></tr></tbody></table>"
      ],
      "text/latex": [
       "\\begin{tabular}{r|cccccc}\n",
       "\t& hospital & hospital\\_id & date & admitted\\_moderate\\_icu & admitted\\_moderate\\_acute & admitted\\_moderate\\_allbeds\\\\\n",
       "\t\\hline\n",
       "\t& String & String? & Date & Float64? & Float64? & Float64?\\\\\n",
       "\t\\hline\n",
       "\t1 & Abbeville Area Medical Center & 421301 & 2020-12-22 & 0.0 & 0.537053 & 0.537053 \\\\\n",
       "\t2 & Abbeville Area Medical Center & \\emph{missing} & 2020-12-23 & 0.0 & 0.555188 & 0.555188 \\\\\n",
       "\t3 & Abbeville Area Medical Center & \\emph{missing} & 2020-12-24 & 0.0 & 0.568869 & 0.568869 \\\\\n",
       "\t4 & Abbeville Area Medical Center & \\emph{missing} & 2020-12-25 & 0.0 & 0.576186 & 0.576186 \\\\\n",
       "\t5 & Abbeville Area Medical Center & \\emph{missing} & 2020-12-26 & 0.0 & 0.608002 & 0.608002 \\\\\n",
       "\t6 & Abbeville Area Medical Center & \\emph{missing} & 2020-12-27 & 0.0 & 0.577841 & 0.577841 \\\\\n",
       "\t7 & Abbeville Area Medical Center & \\emph{missing} & 2020-12-28 & 0.0 & 0.560201 & 0.560201 \\\\\n",
       "\t8 & Abbeville Area Medical Center & \\emph{missing} & 2020-12-29 & 0.0 & 0.559289 & 0.559289 \\\\\n",
       "\t9 & Abbeville Area Medical Center & \\emph{missing} & 2020-12-30 & 0.0 & 0.561722 & 0.561722 \\\\\n",
       "\t10 & Abbeville Area Medical Center & \\emph{missing} & 2020-12-31 & 0.0 & 0.572062 & 0.572062 \\\\\n",
       "\t11 & Abbeville Area Medical Center & \\emph{missing} & 2021-01-01 & 0.0 & 0.581186 & 0.581186 \\\\\n",
       "\t12 & Abbeville Area Medical Center & \\emph{missing} & 2021-01-02 & 0.0 & 0.612511 & 0.612511 \\\\\n",
       "\t13 & Abbeville Area Medical Center & \\emph{missing} & 2021-01-03 & 0.0 & 0.616537 & 0.616537 \\\\\n",
       "\t14 & Abbeville Area Medical Center & \\emph{missing} & 2021-01-04 & 0.0 & 0.596739 & 0.596739 \\\\\n",
       "\t15 & Abbeville Area Medical Center & \\emph{missing} & 2021-01-05 & 0.0 & 0.596739 & 0.596739 \\\\\n",
       "\t16 & Abbeville Area Medical Center & \\emph{missing} & 2021-01-06 & 0.0 & 0.604163 & 0.604163 \\\\\n",
       "\t17 & Abbeville Area Medical Center & \\emph{missing} & 2021-01-07 & 0.0 & 0.612516 & 0.612516 \\\\\n",
       "\t18 & Abbeville Area Medical Center & \\emph{missing} & 2021-01-08 & 0.0 & 0.617156 & 0.617156 \\\\\n",
       "\t19 & Abbeville Area Medical Center & \\emph{missing} & 2021-01-09 & 0.0 & 0.642832 & 0.642832 \\\\\n",
       "\t20 & Abbeville Area Medical Center & \\emph{missing} & 2021-01-10 & 0.0 & 0.600509 & 0.600509 \\\\\n",
       "\t21 & Abbeville Area Medical Center & \\emph{missing} & 2021-01-11 & 0.0 & 0.582338 & 0.582338 \\\\\n",
       "\t22 & Abbeville Area Medical Center & \\emph{missing} & 2021-01-12 & 0.0 & 0.5797 & 0.5797 \\\\\n",
       "\t23 & Abbeville Area Medical Center & \\emph{missing} & 2021-01-13 & 0.0 & 0.584097 & 0.584097 \\\\\n",
       "\t24 & Abbeville Area Medical Center & \\emph{missing} & 2021-01-14 & 0.0 & 0.592303 & 0.592303 \\\\\n",
       "\t25 & Abbeville Area Medical Center & \\emph{missing} & 2021-01-15 & 0.0 & 0.592596 & 0.592596 \\\\\n",
       "\t26 & Abbeville Area Medical Center & \\emph{missing} & 2021-01-16 & 0.0 & 0.620145 & 0.620145 \\\\\n",
       "\t27 & Abbeville General Hospital & 190034 & 2020-12-22 & 0.380886 & 0.652947 & 1.03383 \\\\\n",
       "\t28 & Abbeville General Hospital & \\emph{missing} & 2020-12-23 & 0.405403 & 0.694976 & 1.10038 \\\\\n",
       "\t29 & Abbeville General Hospital & \\emph{missing} & 2020-12-24 & 0.419412 & 0.718992 & 1.1384 \\\\\n",
       "\t30 & Abbeville General Hospital & \\emph{missing} & 2020-12-25 & 0.406716 & 0.697227 & 1.10394 \\\\\n",
       "\t$\\dots$ & $\\dots$ & $\\dots$ & $\\dots$ & $\\dots$ & $\\dots$ & $\\dots$ \\\\\n",
       "\\end{tabular}\n"
      ],
      "text/plain": [
       "125372×6 DataFrame\n",
       "│ Row    │ hospital                                           │ hospital_id │ date       │ admitted_moderate_icu │ admitted_moderate_acute │ admitted_moderate_allbeds │\n",
       "│        │ \u001b[90mString\u001b[39m                                             │ \u001b[90mString?\u001b[39m     │ \u001b[90mDate\u001b[39m       │ \u001b[90mFloat64?\u001b[39m              │ \u001b[90mUnion{Missing, Float64}\u001b[39m │ \u001b[90mUnion{Missing, Float64}\u001b[39m   │\n",
       "├────────┼────────────────────────────────────────────────────┼─────────────┼────────────┼───────────────────────┼─────────────────────────┼───────────────────────────┤\n",
       "│ 1      │ Abbeville Area Medical Center                      │ 421301      │ 2020-12-22 │ 0.0                   │ 0.537053                │ 0.537053                  │\n",
       "│ 2      │ Abbeville Area Medical Center                      │ \u001b[90mmissing\u001b[39m     │ 2020-12-23 │ 0.0                   │ 0.555188                │ 0.555188                  │\n",
       "│ 3      │ Abbeville Area Medical Center                      │ \u001b[90mmissing\u001b[39m     │ 2020-12-24 │ 0.0                   │ 0.568869                │ 0.568869                  │\n",
       "│ 4      │ Abbeville Area Medical Center                      │ \u001b[90mmissing\u001b[39m     │ 2020-12-25 │ 0.0                   │ 0.576186                │ 0.576186                  │\n",
       "│ 5      │ Abbeville Area Medical Center                      │ \u001b[90mmissing\u001b[39m     │ 2020-12-26 │ 0.0                   │ 0.608002                │ 0.608002                  │\n",
       "│ 6      │ Abbeville Area Medical Center                      │ \u001b[90mmissing\u001b[39m     │ 2020-12-27 │ 0.0                   │ 0.577841                │ 0.577841                  │\n",
       "│ 7      │ Abbeville Area Medical Center                      │ \u001b[90mmissing\u001b[39m     │ 2020-12-28 │ 0.0                   │ 0.560201                │ 0.560201                  │\n",
       "│ 8      │ Abbeville Area Medical Center                      │ \u001b[90mmissing\u001b[39m     │ 2020-12-29 │ 0.0                   │ 0.559289                │ 0.559289                  │\n",
       "│ 9      │ Abbeville Area Medical Center                      │ \u001b[90mmissing\u001b[39m     │ 2020-12-30 │ 0.0                   │ 0.561722                │ 0.561722                  │\n",
       "│ 10     │ Abbeville Area Medical Center                      │ \u001b[90mmissing\u001b[39m     │ 2020-12-31 │ 0.0                   │ 0.572062                │ 0.572062                  │\n",
       "⋮\n",
       "│ 125362 │ Zuckerberg San Francisco General Hosp & Trauma Ctr │ \u001b[90mmissing\u001b[39m     │ 2021-01-06 │ 1.26218               │ 2.69264                 │ 3.95482                   │\n",
       "│ 125363 │ Zuckerberg San Francisco General Hosp & Trauma Ctr │ \u001b[90mmissing\u001b[39m     │ 2021-01-07 │ 1.30675               │ 2.78774                 │ 4.0945                    │\n",
       "│ 125364 │ Zuckerberg San Francisco General Hosp & Trauma Ctr │ \u001b[90mmissing\u001b[39m     │ 2021-01-08 │ 1.32492               │ 2.8265                  │ 4.15143                   │\n",
       "│ 125365 │ Zuckerberg San Francisco General Hosp & Trauma Ctr │ \u001b[90mmissing\u001b[39m     │ 2021-01-09 │ 1.33877               │ 2.85603                 │ 4.1948                    │\n",
       "│ 125366 │ Zuckerberg San Francisco General Hosp & Trauma Ctr │ \u001b[90mmissing\u001b[39m     │ 2021-01-10 │ 1.36574               │ 2.91358                 │ 4.27933                   │\n",
       "│ 125367 │ Zuckerberg San Francisco General Hosp & Trauma Ctr │ \u001b[90mmissing\u001b[39m     │ 2021-01-11 │ 1.36312               │ 2.90799                 │ 4.27112                   │\n",
       "│ 125368 │ Zuckerberg San Francisco General Hosp & Trauma Ctr │ \u001b[90mmissing\u001b[39m     │ 2021-01-12 │ 1.37258               │ 2.92816                 │ 4.30074                   │\n",
       "│ 125369 │ Zuckerberg San Francisco General Hosp & Trauma Ctr │ \u001b[90mmissing\u001b[39m     │ 2021-01-13 │ 1.3575                │ 2.896                   │ 4.25351                   │\n",
       "│ 125370 │ Zuckerberg San Francisco General Hosp & Trauma Ctr │ \u001b[90mmissing\u001b[39m     │ 2021-01-14 │ 1.39479               │ 2.97555                 │ 4.37034                   │\n",
       "│ 125371 │ Zuckerberg San Francisco General Hosp & Trauma Ctr │ \u001b[90mmissing\u001b[39m     │ 2021-01-15 │ 1.40595               │ 2.99937                 │ 4.40532                   │\n",
       "│ 125372 │ Zuckerberg San Francisco General Hosp & Trauma Ctr │ \u001b[90mmissing\u001b[39m     │ 2021-01-16 │ 1.41792               │ 3.02489                 │ 4.4428                    │"
      ]
     },
     "execution_count": 4,
     "metadata": {},
     "output_type": "execute_result"
    }
   ],
   "source": [
    "data = select(rawdata,\n",
    "    :hospital_name => ByRow(titlecase) => :hospital,\n",
    "    :ccn => :hospital_id,\n",
    "    :target_date => :date,\n",
    "    [\"hospitalization_2020-12-22\", \"ICU_percentages\"] => ByRow((x,y) -> x*coalesce(y,0.3)) => :admitted_moderate_icu,\n",
    "    [\"hospitalization_2020-12-22\", \"ICU_percentages\"] => ByRow((x,y) -> x*(1.0-coalesce(y,0.3))) => :admitted_moderate_acute,\n",
    "    \"hospitalization_2020-12-22\" => :admitted_moderate_allbeds,\n",
    ")\n",
    "sort!(data, [:hospital, :hospital_id, :date])"
   ]
  },
  {
   "cell_type": "code",
   "execution_count": 5,
   "metadata": {},
   "outputs": [
    {
     "data": {
      "text/plain": [
       "\"../data/hhs_forecast_2020_12_26.csv\""
      ]
     },
     "execution_count": 5,
     "metadata": {},
     "output_type": "execute_result"
    }
   ],
   "source": [
    "data |> CSV.write(\"../data/hhs_forecast_2020_12_26.csv\")"
   ]
  },
  {
   "cell_type": "code",
   "execution_count": null,
   "metadata": {},
   "outputs": [],
   "source": []
  }
 ],
 "metadata": {
  "@webio": {
   "lastCommId": null,
   "lastKernelId": null
  },
  "kernelspec": {
   "display_name": "Julia 1.5.3",
   "language": "julia",
   "name": "julia-1.5"
  },
  "language_info": {
   "file_extension": ".jl",
   "mimetype": "application/julia",
   "name": "julia",
   "version": "1.5.3"
  }
 },
 "nbformat": 4,
 "nbformat_minor": 4
}
