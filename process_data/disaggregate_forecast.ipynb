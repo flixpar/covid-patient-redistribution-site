{
 "cells": [
  {
   "cell_type": "code",
   "execution_count": 2,
   "metadata": {},
   "outputs": [],
   "source": [
    "import pandas as pd\n",
    "import numpy as np\n",
    "import matplotlib.pyplot as plt\n",
    "import seaborn as sns\n",
    "from sklearn.preprocessing import MinMaxScaler\n",
    "from sklearn.linear_model import LinearRegression\n",
    "from sklearn.metrics import mean_squared_error, mean_absolute_error, r2_score\n",
    "from sklearn.ensemble import RandomForestRegressor"
   ]
  },
  {
   "cell_type": "code",
   "execution_count": 4,
   "metadata": {},
   "outputs": [],
   "source": [
    "CDC_forecasts_counties = pd.read_csv(\"../rawdata/2021-02-01-all-forecasted-cases-model-data.csv\")\n",
    "CDC_hospitalizations_states = pd.read_csv(\"../rawdata/2021-02-01-all-hospitalizations-model-data.csv\")\n",
    "HHS_data = pd.read_csv(\"../rawdata/reported_hospital_capacity_admissions_facility_level_weekly_average_timeseries_20210131.csv\")\n",
    "HHS_data = HHS_data.replace({-999999.0: 2})\n",
    "MD_data  = HHS_data"
   ]
  },
  {
   "cell_type": "markdown",
   "metadata": {},
   "source": [
    "# Achieving the number of hospitalizations in the dates that CDC forecasts cases"
   ]
  },
  {
   "cell_type": "code",
   "execution_count": 5,
   "metadata": {},
   "outputs": [],
   "source": [
    "template_df_state = pd.DataFrame({'county_name': [], 'fips': []})\n",
    "count = 2\n",
    "for collection_date in CDC_forecasts_counties.target_end_date.unique():    \n",
    "    template_df_state.insert(count, 'forecasted_hospitalizations_' +collection_date, [], True) \n",
    "    count += 1\n",
    "output_CDC_US = template_df_state.copy()\n",
    "for state in CDC_forecasts_counties.State.unique():\n",
    "    state_forecast_mean = CDC_forecasts_counties[(CDC_forecasts_counties.location_name == state) & (CDC_forecasts_counties.target_end_date == CDC_forecasts_counties.target_end_date.unique()[0])].point.mean() / 7\n",
    "    state_hospitalizations_mean = CDC_hospitalizations_states[CDC_hospitalizations_states.target_end_date == CDC_forecasts_counties.target_end_date.unique()[0]].point.mean() \n",
    "    if (state_forecast_mean != 0) and (state_forecast_mean != 0):\n",
    "        state_ratio_of_hospitalizations = state_hospitalizations_mean / state_forecast_mean \n",
    "    else:\n",
    "        state_ratio_of_hospitalizations = 1\n",
    "    state_forecast_data = CDC_forecasts_counties[CDC_forecasts_counties.State == state]\n",
    "    temp_output_df = pd.DataFrame({'county_name': state_forecast_data.location_name.unique(), 'fips': state_forecast_data.fips.unique()[0:state_forecast_data.location_name.unique().shape[0]]})\n",
    "    for collection_date in state_forecast_data.target_end_date.unique():\n",
    "        state_forecast_mean = np.zeros(state_forecast_data.location_name.unique().shape[0])\n",
    "        state_hospitalizations_mean = np.zeros(state_forecast_data.location_name.unique().shape[0])    \n",
    "        count = 0\n",
    "        for location in state_forecast_data.location_name.unique():\n",
    "            state_forecast_mean [count] = state_forecast_data[(state_forecast_data.location_name == location) & (state_forecast_data.target_end_date == collection_date)].point.mean() / 7\n",
    "            state_hospitalizations_mean[count] = state_forecast_mean[count] * state_ratio_of_hospitalizations\n",
    "            count += 1\n",
    "        temp_output_df['forecasted_hospitalizations_' +collection_date] = state_forecast_mean  \n",
    "    output_CDC_US = output_CDC_US.append(temp_output_df)\n",
    "states_array = np.zeros (output_CDC_US.fips.shape[0],dtype ='object')\n",
    "count = 0\n",
    "for fips in np.array(output_CDC_US.fips):\n",
    "    states_array[count] = CDC_forecasts_counties[CDC_forecasts_counties.fips == fips[0:2]].State.unique()[0]   \n",
    "    count+=1\n",
    "output_CDC_US['state'] = states_array"
   ]
  },
  {
   "cell_type": "code",
   "execution_count": 6,
   "metadata": {},
   "outputs": [
    {
     "name": "stderr",
     "output_type": "stream",
     "text": [
      "<ipython-input-6-fd3c5914a0d0>:12: RuntimeWarning: invalid value encountered in double_scalars\n",
      "  US_hospitalizations_mean[count_2] = CDC_hospitalizations_states[(CDC_hospitalizations_states.target_end_date == collection_date) &\n",
      "<ipython-input-6-fd3c5914a0d0>:21: RuntimeWarning: invalid value encountered in double_scalars\n",
      "  US_hospitalizations_mean[count_2] = CDC_hospitalizations_states[(CDC_hospitalizations_states.target_end_date == collection_date) &\n",
      "<ipython-input-6-fd3c5914a0d0>:30: RuntimeWarning: invalid value encountered in double_scalars\n",
      "  US_hospitalizations_mean[count_2] = CDC_hospitalizations_states[(CDC_hospitalizations_states.target_end_date == collection_date) &\n",
      "<ipython-input-6-fd3c5914a0d0>:39: RuntimeWarning: invalid value encountered in double_scalars\n",
      "  US_hospitalizations_mean[count_2] = CDC_hospitalizations_states[(CDC_hospitalizations_states.target_end_date == collection_date) &\n"
     ]
    }
   ],
   "source": [
    "output_CDC_US_hospitalizations = pd.DataFrame({'county_name': output_CDC_US.county_name.unique(),\n",
    "                                               'state': output_CDC_US.state,\n",
    "                                         'fips': output_CDC_US.fips})\n",
    "week_dates = CDC_forecasts_counties.target_end_date.unique()\n",
    "US_hospitalizations_mean = np.zeros(output_CDC_US_hospitalizations.county_name.unique().shape[0])\n",
    "count = 0\n",
    "for collection_date in CDC_hospitalizations_states.target_end_date.unique():\n",
    "    if count <= 4:\n",
    "        count_2 = 0\n",
    "        for county in output_CDC_US_hospitalizations.county_name.unique():\n",
    "            state = np.array(output_CDC_US_hospitalizations[output_CDC_US_hospitalizations.county_name == county].state)[0]\n",
    "            US_hospitalizations_mean[count_2] = CDC_hospitalizations_states[(CDC_hospitalizations_states.target_end_date == collection_date) & \n",
    "                                                                            (CDC_hospitalizations_states.location_name   == state)].point.mean() * np.array(output_CDC_US[output_CDC_US.county_name == county]['forecasted_hospitalizations_' + week_dates[0]])[0]/np.array(output_CDC_US[output_CDC_US.county_name == state]['forecasted_hospitalizations_' + week_dates[0]])[0]\n",
    "            count_2 +=1\n",
    "        output_CDC_US_hospitalizations['forecasted_hospitalizations_' +collection_date] = US_hospitalizations_mean\n",
    "        count += 1 \n",
    "    elif ((count >= 5) and (count <= 11)):\n",
    "        count_2 = 0\n",
    "        for county in output_CDC_US_hospitalizations.county_name.unique():\n",
    "            state = np.array(output_CDC_US_hospitalizations[output_CDC_US_hospitalizations.county_name == county].state)[0]\n",
    "            US_hospitalizations_mean[count_2] = CDC_hospitalizations_states[(CDC_hospitalizations_states.target_end_date == collection_date) & \n",
    "                                                                            (CDC_hospitalizations_states.location_name   == state)].point.mean() * np.array(output_CDC_US[output_CDC_US.county_name == county]['forecasted_hospitalizations_' + week_dates[1]])[0]/np.array(output_CDC_US[output_CDC_US.county_name == state]['forecasted_hospitalizations_' + week_dates[1]])[0]\n",
    "            count_2 +=1\n",
    "        output_CDC_US_hospitalizations['forecasted_hospitalizations_' +collection_date] = US_hospitalizations_mean\n",
    "        count += 1 \n",
    "    elif (count >= 12) & (count <= 18):\n",
    "        count_2 = 0\n",
    "        for county in output_CDC_US_hospitalizations.county_name.unique():\n",
    "            state = np.array(output_CDC_US_hospitalizations[output_CDC_US_hospitalizations.county_name == county].state)[0]\n",
    "            US_hospitalizations_mean[count_2] = CDC_hospitalizations_states[(CDC_hospitalizations_states.target_end_date == collection_date) & \n",
    "                                                                            (CDC_hospitalizations_states.location_name   == state)].point.mean() * np.array(output_CDC_US[output_CDC_US.county_name == county]['forecasted_hospitalizations_' + week_dates[2]])[0]/np.array(output_CDC_US[output_CDC_US.county_name == state]['forecasted_hospitalizations_' + week_dates[2]])[0]\n",
    "            count_2 +=1\n",
    "        output_CDC_US_hospitalizations['forecasted_hospitalizations_' +collection_date] = US_hospitalizations_mean\n",
    "        count += 1   \n",
    "    elif (count >= 19) & (count <= 25):\n",
    "        count_2 = 0\n",
    "        for county in output_CDC_US_hospitalizations.county_name.unique():\n",
    "            state = np.array(output_CDC_US_hospitalizations[output_CDC_US_hospitalizations.county_name == county].state)[0]\n",
    "            US_hospitalizations_mean[count_2] = CDC_hospitalizations_states[(CDC_hospitalizations_states.target_end_date == collection_date) & \n",
    "                                                                            (CDC_hospitalizations_states.location_name   == state)].point.mean() * np.array(output_CDC_US[output_CDC_US.county_name == county]['forecasted_hospitalizations_' + week_dates[3]])[0]/np.array(output_CDC_US[output_CDC_US.county_name == state]['forecasted_hospitalizations_' + week_dates[3]])[0]\n",
    "            count_2 +=1\n",
    "        output_CDC_US_hospitalizations['forecasted_hospitalizations_' +collection_date] = US_hospitalizations_mean\n",
    "        count += 1    "
   ]
  },
  {
   "cell_type": "code",
   "execution_count": 7,
   "metadata": {},
   "outputs": [
    {
     "ename": "KeyboardInterrupt",
     "evalue": "",
     "output_type": "error",
     "traceback": [
      "\u001b[0;31m---------------------------------------------------------------------------\u001b[0m",
      "\u001b[0;31mKeyboardInterrupt\u001b[0m                         Traceback (most recent call last)",
      "\u001b[0;32m<ipython-input-7-dbfac67bff53>\u001b[0m in \u001b[0;36m<module>\u001b[0;34m\u001b[0m\n\u001b[1;32m     25\u001b[0m     \u001b[0;32mreturn\u001b[0m \u001b[0mMD_latest_hospitalization_percentages_county_level\u001b[0m\u001b[0;34m\u001b[0m\u001b[0;34m\u001b[0m\u001b[0m\n\u001b[1;32m     26\u001b[0m \u001b[0mattribute\u001b[0m \u001b[0;34m=\u001b[0m \u001b[0;34m'total_adult_patients_hospitalized_confirmed_and_suspected_covid_7_day_sum'\u001b[0m\u001b[0;34m\u001b[0m\u001b[0;34m\u001b[0m\u001b[0m\n\u001b[0;32m---> 27\u001b[0;31m \u001b[0mMD_latest_hospitalization_percentages_county_level\u001b[0m \u001b[0;34m=\u001b[0m \u001b[0mget_percentages\u001b[0m \u001b[0;34m(\u001b[0m\u001b[0mMD_data\u001b[0m\u001b[0;34m,\u001b[0m \u001b[0mattribute\u001b[0m\u001b[0;34m)\u001b[0m\u001b[0;34m\u001b[0m\u001b[0;34m\u001b[0m\u001b[0m\n\u001b[0m",
      "\u001b[0;32m<ipython-input-7-dbfac67bff53>\u001b[0m in \u001b[0;36mget_percentages\u001b[0;34m(MD_data, attribute)\u001b[0m\n\u001b[1;32m      3\u001b[0m     \u001b[0mcount\u001b[0m \u001b[0;34m=\u001b[0m \u001b[0;36m0\u001b[0m\u001b[0;34m\u001b[0m\u001b[0;34m\u001b[0m\u001b[0m\n\u001b[1;32m      4\u001b[0m     \u001b[0;32mfor\u001b[0m \u001b[0mindex\u001b[0m\u001b[0;34m,\u001b[0m \u001b[0mrow\u001b[0m \u001b[0;32min\u001b[0m \u001b[0mMD_data\u001b[0m\u001b[0;34m.\u001b[0m\u001b[0miterrows\u001b[0m\u001b[0;34m(\u001b[0m\u001b[0;34m)\u001b[0m\u001b[0;34m:\u001b[0m\u001b[0;34m\u001b[0m\u001b[0;34m\u001b[0m\u001b[0m\n\u001b[0;32m----> 5\u001b[0;31m         temp_df_0 = MD_data[(MD_data.collection_week == np.array(MD_data[MD_data.index == index].collection_week)[0]) &\n\u001b[0m\u001b[1;32m      6\u001b[0m                         (MD_data.fips_code == np.array(MD_data[MD_data.index == index].fips_code)[0])] \n\u001b[1;32m      7\u001b[0m         \u001b[0msum_hospitalizations\u001b[0m \u001b[0;34m=\u001b[0m \u001b[0mtemp_df_0\u001b[0m\u001b[0;34m[\u001b[0m\u001b[0mattribute\u001b[0m\u001b[0;34m]\u001b[0m\u001b[0;34m.\u001b[0m\u001b[0msum\u001b[0m\u001b[0;34m(\u001b[0m\u001b[0;34m)\u001b[0m\u001b[0;34m\u001b[0m\u001b[0;34m\u001b[0m\u001b[0m\n",
      "\u001b[0;32m/usr/local/lib/python3.9/site-packages/pandas/core/ops/common.py\u001b[0m in \u001b[0;36mnew_method\u001b[0;34m(self, other)\u001b[0m\n\u001b[1;32m     63\u001b[0m         \u001b[0mother\u001b[0m \u001b[0;34m=\u001b[0m \u001b[0mitem_from_zerodim\u001b[0m\u001b[0;34m(\u001b[0m\u001b[0mother\u001b[0m\u001b[0;34m)\u001b[0m\u001b[0;34m\u001b[0m\u001b[0;34m\u001b[0m\u001b[0m\n\u001b[1;32m     64\u001b[0m \u001b[0;34m\u001b[0m\u001b[0m\n\u001b[0;32m---> 65\u001b[0;31m         \u001b[0;32mreturn\u001b[0m \u001b[0mmethod\u001b[0m\u001b[0;34m(\u001b[0m\u001b[0mself\u001b[0m\u001b[0;34m,\u001b[0m \u001b[0mother\u001b[0m\u001b[0;34m)\u001b[0m\u001b[0;34m\u001b[0m\u001b[0;34m\u001b[0m\u001b[0m\n\u001b[0m\u001b[1;32m     66\u001b[0m \u001b[0;34m\u001b[0m\u001b[0m\n\u001b[1;32m     67\u001b[0m     \u001b[0;32mreturn\u001b[0m \u001b[0mnew_method\u001b[0m\u001b[0;34m\u001b[0m\u001b[0;34m\u001b[0m\u001b[0m\n",
      "\u001b[0;32m/usr/local/lib/python3.9/site-packages/pandas/core/ops/__init__.py\u001b[0m in \u001b[0;36mwrapper\u001b[0;34m(self, other)\u001b[0m\n\u001b[1;32m    368\u001b[0m         \u001b[0mrvalues\u001b[0m \u001b[0;34m=\u001b[0m \u001b[0mextract_array\u001b[0m\u001b[0;34m(\u001b[0m\u001b[0mother\u001b[0m\u001b[0;34m,\u001b[0m \u001b[0mextract_numpy\u001b[0m\u001b[0;34m=\u001b[0m\u001b[0;32mTrue\u001b[0m\u001b[0;34m)\u001b[0m\u001b[0;34m\u001b[0m\u001b[0;34m\u001b[0m\u001b[0m\n\u001b[1;32m    369\u001b[0m \u001b[0;34m\u001b[0m\u001b[0m\n\u001b[0;32m--> 370\u001b[0;31m         \u001b[0mres_values\u001b[0m \u001b[0;34m=\u001b[0m \u001b[0mcomparison_op\u001b[0m\u001b[0;34m(\u001b[0m\u001b[0mlvalues\u001b[0m\u001b[0;34m,\u001b[0m \u001b[0mrvalues\u001b[0m\u001b[0;34m,\u001b[0m \u001b[0mop\u001b[0m\u001b[0;34m)\u001b[0m\u001b[0;34m\u001b[0m\u001b[0;34m\u001b[0m\u001b[0m\n\u001b[0m\u001b[1;32m    371\u001b[0m \u001b[0;34m\u001b[0m\u001b[0m\n\u001b[1;32m    372\u001b[0m         \u001b[0;32mreturn\u001b[0m \u001b[0mself\u001b[0m\u001b[0;34m.\u001b[0m\u001b[0m_construct_result\u001b[0m\u001b[0;34m(\u001b[0m\u001b[0mres_values\u001b[0m\u001b[0;34m,\u001b[0m \u001b[0mname\u001b[0m\u001b[0;34m=\u001b[0m\u001b[0mres_name\u001b[0m\u001b[0;34m)\u001b[0m\u001b[0;34m\u001b[0m\u001b[0;34m\u001b[0m\u001b[0m\n",
      "\u001b[0;32m/usr/local/lib/python3.9/site-packages/pandas/core/ops/array_ops.py\u001b[0m in \u001b[0;36mcomparison_op\u001b[0;34m(left, right, op)\u001b[0m\n\u001b[1;32m    242\u001b[0m \u001b[0;34m\u001b[0m\u001b[0m\n\u001b[1;32m    243\u001b[0m     \u001b[0;32melif\u001b[0m \u001b[0mis_object_dtype\u001b[0m\u001b[0;34m(\u001b[0m\u001b[0mlvalues\u001b[0m\u001b[0;34m.\u001b[0m\u001b[0mdtype\u001b[0m\u001b[0;34m)\u001b[0m\u001b[0;34m:\u001b[0m\u001b[0;34m\u001b[0m\u001b[0;34m\u001b[0m\u001b[0m\n\u001b[0;32m--> 244\u001b[0;31m         \u001b[0mres_values\u001b[0m \u001b[0;34m=\u001b[0m \u001b[0mcomp_method_OBJECT_ARRAY\u001b[0m\u001b[0;34m(\u001b[0m\u001b[0mop\u001b[0m\u001b[0;34m,\u001b[0m \u001b[0mlvalues\u001b[0m\u001b[0;34m,\u001b[0m \u001b[0mrvalues\u001b[0m\u001b[0;34m)\u001b[0m\u001b[0;34m\u001b[0m\u001b[0;34m\u001b[0m\u001b[0m\n\u001b[0m\u001b[1;32m    245\u001b[0m \u001b[0;34m\u001b[0m\u001b[0m\n\u001b[1;32m    246\u001b[0m     \u001b[0;32melse\u001b[0m\u001b[0;34m:\u001b[0m\u001b[0;34m\u001b[0m\u001b[0;34m\u001b[0m\u001b[0m\n",
      "\u001b[0;32m/usr/local/lib/python3.9/site-packages/pandas/core/ops/array_ops.py\u001b[0m in \u001b[0;36mcomp_method_OBJECT_ARRAY\u001b[0;34m(op, x, y)\u001b[0m\n\u001b[1;32m     54\u001b[0m         \u001b[0mresult\u001b[0m \u001b[0;34m=\u001b[0m \u001b[0mlibops\u001b[0m\u001b[0;34m.\u001b[0m\u001b[0mvec_compare\u001b[0m\u001b[0;34m(\u001b[0m\u001b[0mx\u001b[0m\u001b[0;34m.\u001b[0m\u001b[0mravel\u001b[0m\u001b[0;34m(\u001b[0m\u001b[0;34m)\u001b[0m\u001b[0;34m,\u001b[0m \u001b[0my\u001b[0m\u001b[0;34m.\u001b[0m\u001b[0mravel\u001b[0m\u001b[0;34m(\u001b[0m\u001b[0;34m)\u001b[0m\u001b[0;34m,\u001b[0m \u001b[0mop\u001b[0m\u001b[0;34m)\u001b[0m\u001b[0;34m\u001b[0m\u001b[0;34m\u001b[0m\u001b[0m\n\u001b[1;32m     55\u001b[0m     \u001b[0;32melse\u001b[0m\u001b[0;34m:\u001b[0m\u001b[0;34m\u001b[0m\u001b[0;34m\u001b[0m\u001b[0m\n\u001b[0;32m---> 56\u001b[0;31m         \u001b[0mresult\u001b[0m \u001b[0;34m=\u001b[0m \u001b[0mlibops\u001b[0m\u001b[0;34m.\u001b[0m\u001b[0mscalar_compare\u001b[0m\u001b[0;34m(\u001b[0m\u001b[0mx\u001b[0m\u001b[0;34m.\u001b[0m\u001b[0mravel\u001b[0m\u001b[0;34m(\u001b[0m\u001b[0;34m)\u001b[0m\u001b[0;34m,\u001b[0m \u001b[0my\u001b[0m\u001b[0;34m,\u001b[0m \u001b[0mop\u001b[0m\u001b[0;34m)\u001b[0m\u001b[0;34m\u001b[0m\u001b[0;34m\u001b[0m\u001b[0m\n\u001b[0m\u001b[1;32m     57\u001b[0m     \u001b[0;32mreturn\u001b[0m \u001b[0mresult\u001b[0m\u001b[0;34m.\u001b[0m\u001b[0mreshape\u001b[0m\u001b[0;34m(\u001b[0m\u001b[0mx\u001b[0m\u001b[0;34m.\u001b[0m\u001b[0mshape\u001b[0m\u001b[0;34m)\u001b[0m\u001b[0;34m\u001b[0m\u001b[0;34m\u001b[0m\u001b[0m\n\u001b[1;32m     58\u001b[0m \u001b[0;34m\u001b[0m\u001b[0m\n",
      "\u001b[0;31mKeyboardInterrupt\u001b[0m: "
     ]
    }
   ],
   "source": [
    "def get_percentages (MD_data, attribute):\n",
    "    hospitalization_percentage = np.zeros([MD_data.collection_week.shape[0]])\n",
    "    count = 0\n",
    "    for index, row in MD_data.iterrows():\n",
    "        temp_df_0 = MD_data[(MD_data.collection_week == np.array(MD_data[MD_data.index == index].collection_week)[0]) &\n",
    "                        (MD_data.fips_code == np.array(MD_data[MD_data.index == index].fips_code)[0])] \n",
    "        sum_hospitalizations = temp_df_0[attribute].sum()\n",
    "        if sum_hospitalizations == 0: sum_hospitalizations = 1\n",
    "        hospitalization_percentage [count] = MD_data[attribute][index] / sum_hospitalizations\n",
    "        count += 1\n",
    "    MD_data ['hospitalization_percentage'] = hospitalization_percentage\n",
    "    ICU_percentages = MD_data.staffed_icu_adult_patients_confirmed_and_suspected_covid_7_day_sum / MD_data.total_adult_patients_hospitalized_confirmed_and_suspected_covid_7_day_sum\n",
    "    MD_data ['ICU_percentages'] = ICU_percentages\n",
    "    MD_latest_hospitalization_percentages_county_level = MD_data[MD_data.collection_week == MD_data ['collection_week'].unique()[0]][['hospital_name', 'ccn' ,'collection_week', 'fips_code' , 'hospitalization_percentage', 'ICU_percentages']]\n",
    "    count = 0\n",
    "    for hospital in MD_latest_hospitalization_percentages_county_level.hospital_name:\n",
    "        MD_latest_hospitalization_percentages_county_level.hospitalization_percentage[count] = MD_data[MD_data.ccn == MD_latest_hospitalization_percentages_county_level.ccn[count]].hospitalization_percentage.mean()\n",
    "        count += 1\n",
    "    plt.figure(figsize=(15,5))\n",
    "    plt.barh(MD_latest_hospitalization_percentages_county_level[MD_latest_hospitalization_percentages_county_level.fips_code == 24510].hospital_name,\n",
    "            MD_latest_hospitalization_percentages_county_level[MD_latest_hospitalization_percentages_county_level.fips_code == 24510].hospitalization_percentage)\n",
    "    plt.tick_params(axis='x', rotation=0)\n",
    "    plt.title('Latest Hospitalization Precentages in County: 24510')\n",
    "    MD_latest_hospitalization_percentages_county_level[MD_latest_hospitalization_percentages_county_level.fips_code == 24510]    \n",
    "    return MD_latest_hospitalization_percentages_county_level\n",
    "attribute = 'total_adult_patients_hospitalized_confirmed_and_suspected_covid_7_day_sum'\n",
    "MD_latest_hospitalization_percentages_county_level = get_percentages (MD_data, attribute)"
   ]
  },
  {
   "cell_type": "code",
   "execution_count": 23,
   "metadata": {},
   "outputs": [],
   "source": [
    "output_CDC_US_hospitalizations.to_csv(\"output_CDC_MD.csv\")  \n",
    "output_CDC_MD = pd.read_csv(\"output_CDC_US.csv\")\n",
    "#output_CDC_MD = output_CDC_US_hospitalizations\n",
    "output_CDC_MD = output_CDC_MD.drop(output_CDC_MD[output_CDC_MD.fips == 'US'].index[0])\n",
    "output_CDC_MD.at[output_CDC_MD['fips'][output_CDC_MD.state == 'District of Columbia'].index[0], 'fips'] = 11001\n",
    "output_CDC_MD.fips = output_CDC_MD.fips.astype('int64')\n",
    "mapping_dates_df = pd.DataFrame({'column_name' : output_CDC_MD.columns[4:],\n",
    "    'collection_date': CDC_hospitalizations_states.target_end_date.unique()[0:output_CDC_MD.columns[4:].shape[0]]})\n",
    "MD_latest_hospitalization_percentages_county_level = MD_latest_hospitalization_percentages_county_level[MD_latest_hospitalization_percentages_county_level.fips_code.isin(output_CDC_MD.fips)]\n",
    "#MD_latest_hospitalization_percentages_county_level[MD_latest_hospitalization_percentages_county_level.fips_code == 11001]\n",
    "hospitalizations = np.zeros(MD_latest_hospitalization_percentages_county_level.hospital_name.shape)\n",
    "for collection_date in mapping_dates_df.collection_date.unique():\n",
    "    count = 0\n",
    "    for hospital in MD_latest_hospitalization_percentages_county_level.hospital_name:\n",
    "        temp_df = MD_latest_hospitalization_percentages_county_level[MD_latest_hospitalization_percentages_county_level.hospital_name == hospital]\n",
    "        date_temp_df = mapping_dates_df[mapping_dates_df.collection_date == collection_date]\n",
    "        hospitalizations[count] = np.array(temp_df.hospitalization_percentage)[0] * np.array(output_CDC_MD[output_CDC_MD['fips'] == np.array(temp_df.fips_code)[0]][np.array(date_temp_df.column_name)[0]])[0]\n",
    "        count += 1\n",
    "    MD_latest_hospitalization_percentages_county_level['hospitalization_' + collection_date] = hospitalizations\n",
    "#MD_latest_hospitalization_percentages_county_level.to_csv(r'C:\\Users\\farzi\\OneDrive - Johns Hopkins\\Research\\COVID-19\\Resource Allocation\\Code - HHS histroical data\\output_HHS_US_2021-01-30.csv') \n",
    "#MD_latest_hospitalization_percentages_county_level[MD_latest_hospitalization_percentages_county_level.fips_code == 11001]\n",
    "\n",
    "MD_hospitalizations_one_column = MD_latest_hospitalization_percentages_county_level[['hospital_name', 'ccn', 'collection_week', 'fips_code', 'hospitalization_percentage', 'ICU_percentages' ,MD_latest_hospitalization_percentages_county_level.columns[6]]].copy()\n",
    "MD_hospitalizations_one_column['target_date'] = np.full((MD_latest_hospitalization_percentages_county_level.hospital_name.shape[0]), '2021-01-19')\n",
    "for collection_date in mapping_dates_df.collection_date[1:]:\n",
    "    temp_df = MD_latest_hospitalization_percentages_county_level[['hospital_name', 'collection_week', 'fips_code', 'hospitalization_percentage', 'ICU_percentages' ,'hospitalization_' + collection_date]].copy()\n",
    "    temp_df['target_date'] = np.full((MD_latest_hospitalization_percentages_county_level.hospital_name.shape[0]), collection_date)\n",
    "    temp_df = temp_df.rename(columns={\"hospitalization_\" + collection_date: \"hospitalization_2021-01-19\"})\n",
    "    MD_hospitalizations_one_column = MD_hospitalizations_one_column.append (temp_df)\n"
   ]
  },
  {
   "cell_type": "code",
   "execution_count": null,
   "metadata": {},
   "outputs": [],
   "source": [
    "MD_latest_hospitalization_percentages_county_level.to_csv(\"output_HHS_US.csv\") \n",
    "MD_hospitalizations_one_column.to_csv(\"output_HHS_US_Q_one_column.csv\") "
   ]
  },
  {
   "cell_type": "code",
   "execution_count": null,
   "metadata": {},
   "outputs": [],
   "source": []
  }
 ],
 "metadata": {
  "@webio": {
   "lastCommId": null,
   "lastKernelId": null
  },
  "kernelspec": {
   "display_name": "Python 3",
   "language": "python",
   "name": "python3"
  },
  "language_info": {
   "codemirror_mode": {
    "name": "ipython",
    "version": 3
   },
   "file_extension": ".py",
   "mimetype": "text/x-python",
   "name": "python",
   "nbconvert_exporter": "python",
   "pygments_lexer": "ipython3",
   "version": "3.9.1"
  }
 },
 "nbformat": 4,
 "nbformat_minor": 4
}
