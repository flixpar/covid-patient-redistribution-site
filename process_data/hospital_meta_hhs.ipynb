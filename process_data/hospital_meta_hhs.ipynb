{
 "cells": [
  {
   "cell_type": "code",
   "execution_count": 1,
   "metadata": {},
   "outputs": [],
   "source": [
    "using CSV\n",
    "using DataFrames\n",
    "using JSON"
   ]
  },
  {
   "cell_type": "code",
   "execution_count": 2,
   "metadata": {},
   "outputs": [],
   "source": [
    "ENV[\"COLUMNS\"] = 1000;"
   ]
  },
  {
   "cell_type": "code",
   "execution_count": 3,
   "metadata": {},
   "outputs": [],
   "source": [
    "rawdata = DataFrame(CSV.File(\"../rawdata/reported_hospital_capacity_admissions_facility_level_weekly_average_timeseries_20210117.csv\"));"
   ]
  },
  {
   "cell_type": "code",
   "execution_count": 4,
   "metadata": {},
   "outputs": [],
   "source": [
    "bad_ids = begin\n",
    "    id_counts = combine(groupby(rawdata, :hospital_pk), :hospital_name => (x -> length(unique(x))) => :n_names)\n",
    "    filter!(x -> x.n_names > 1, id_counts)\n",
    "    unique(id_counts.hospital_pk)\n",
    "end\n",
    "filter!(row -> !(row.hospital_pk in bad_ids), rawdata);"
   ]
  },
  {
   "cell_type": "code",
   "execution_count": 5,
   "metadata": {},
   "outputs": [],
   "source": [
    "unique!(rawdata, :hospital_pk);"
   ]
  },
  {
   "cell_type": "code",
   "execution_count": 6,
   "metadata": {},
   "outputs": [],
   "source": [
    "data = select(rawdata,\n",
    "    :hospital_name => :hospital,\n",
    "    :hospital_pk => :hospital_id,\n",
    "    :state,\n",
    "    :city => ByRow(x -> ismissing(x) ? x : titlecase(x)) => :city,\n",
    "    :zip,\n",
    "    :fips_code,\n",
    ")\n",
    "sort!(data, [:hospital, :hospital_id]);"
   ]
  },
  {
   "cell_type": "code",
   "execution_count": 7,
   "metadata": {},
   "outputs": [],
   "source": [
    "states_data = DataFrame(CSV.File(\"../rawdata/states.csv\"));\n",
    "state_data_dict = Dict(row.abbrev => row.state for row in eachrow(states_data))\n",
    "state_data_dict[\"GU\"] = \"Guam\";\n",
    "state_data_dict[\"MP\"] = \"Northern Mariana Islands\";\n",
    "state_data_dict[\"VI\"] = \"US Virgin Islands\";"
   ]
  },
  {
   "cell_type": "code",
   "execution_count": 8,
   "metadata": {},
   "outputs": [],
   "source": [
    "insertcols!(data, 4, :state_abbrev => deepcopy(data.state));\n",
    "data.state = [haskey(state_data_dict, s) ? state_data_dict[s] : s for s in data.state];"
   ]
  },
  {
   "cell_type": "code",
   "execution_count": 9,
   "metadata": {},
   "outputs": [],
   "source": [
    "hospitalsystem_rawdata = DataFrame(CSV.File(\"../rawdata/chsp-hospital-linkage-2018.csv\"))\n",
    "hospitalsystem_dict = Dict(row.ccn => (\n",
    "    hospital_name = row.hospital_name,\n",
    "    health_system_id = row.health_sys_id,\n",
    "    health_system_name = row.health_sys_name,\n",
    ") for row in eachrow(hospitalsystem_rawdata));"
   ]
  },
  {
   "cell_type": "code",
   "execution_count": 10,
   "metadata": {},
   "outputs": [],
   "source": [
    "data.system_id = [haskey(hospitalsystem_dict, h) ? hospitalsystem_dict[h].health_system_id : missing for h in data.hospital_id];\n",
    "data.system_name = [haskey(hospitalsystem_dict, h) ? hospitalsystem_dict[h].health_system_name : missing for h in data.hospital_id];"
   ]
  },
  {
   "cell_type": "code",
   "execution_count": 11,
   "metadata": {},
   "outputs": [],
   "source": [
    "nyt_metadata = JSON.parsefile(\"../rawdata/nyt_hospital_metadata.json\");\n",
    "nyt_metadata_dict = Dict(h[\"ccn\"] => h for h in nyt_metadata);"
   ]
  },
  {
   "cell_type": "code",
   "execution_count": 12,
   "metadata": {},
   "outputs": [],
   "source": [
    "nyt_names = [haskey(nyt_metadata_dict, row.hospital_id) ? nyt_metadata_dict[row.hospital_id][\"nyt_hospital_name\"] : titlecase(row.hospital) for row in eachrow(data)];\n",
    "insertcols!(data, 2, :hospitalname =>  nyt_names);"
   ]
  },
  {
   "cell_type": "code",
   "execution_count": 13,
   "metadata": {},
   "outputs": [],
   "source": [
    "hsahrr_data = DataFrame(CSV.File(\"../rawdata/ZipHsaHrr18.csv\"))\n",
    "hsahrr_dict = Dict(row.zipcode18 => row for row in eachrow(hsahrr_data));\n",
    "\n",
    "missing_row = (hsanum=missing, hsacity=missing, hsastate=missing, hrrnum=missing, hrrcity=missing, hrrstate=missing)\n",
    "hsahrrs = [haskey(hsahrr_dict,z) ? hsahrr_dict[z] : missing_row for z in data.zip];\n",
    "\n",
    "data.hsa_id = [h.hsanum for h in hsahrrs];\n",
    "data.hsa_name = [h.hsacity * \", \" * h.hsastate for h in hsahrrs];\n",
    "data.hrr_id = [h.hrrnum for h in hsahrrs];\n",
    "data.hrr_name = [h.hrrcity * \", \" * h.hrrstate for h in hsahrrs];"
   ]
  },
  {
   "cell_type": "code",
   "execution_count": 14,
   "metadata": {},
   "outputs": [
    {
     "data": {
      "text/html": [
       "<table class=\"data-frame\"><thead><tr><th></th><th>hospital</th><th>hospitalname</th><th>hospital_id</th><th>state</th><th>state_abbrev</th><th>city</th><th>zip</th><th>fips_code</th><th>system_id</th><th>system_name</th><th>hsa_id</th><th>hsa_name</th><th>hrr_id</th><th>hrr_name</th></tr><tr><th></th><th>String</th><th>String</th><th>String</th><th>String</th><th>String</th><th>String?</th><th>Int64?</th><th>Int64?</th><th>String?</th><th>String?</th><th>Int64?</th><th>String?</th><th>Int64?</th><th>String?</th></tr></thead><tbody><p>4,925 rows × 14 columns</p><tr><th>1</th><td>ABBEVILLE AREA MEDICAL CENTER</td><td>Abbeville Area Medical Center</td><td>421301</td><td>South Carolina</td><td>SC</td><td>Abbeville</td><td>29620</td><td>45001</td><td><em>missing</em></td><td><em>missing</em></td><td>42001</td><td>Abbeville, SC</td><td>366</td><td>Columbia, SC</td></tr><tr><th>2</th><td>ABBEVILLE GENERAL HOSPITAL</td><td>Abbeville General Hospital</td><td>190034</td><td>Louisiana</td><td>LA</td><td>Abbeville</td><td>70510</td><td>22113</td><td>HSI00000562</td><td>Lafayette General Health</td><td>19001</td><td>Abbeville, LA</td><td>213</td><td>Lafayette, LA</td></tr><tr><th>3</th><td>ABBOTT NORTHWESTERN HOSPITAL</td><td>Abbott Northwestern Hospital</td><td>240057</td><td>Minnesota</td><td>MN</td><td>Minneapolis</td><td>55407</td><td>27053</td><td>HSI00000029</td><td>Allina Health System</td><td>24076</td><td>Minneapolis, MN</td><td>251</td><td>Minneapolis, MN</td></tr><tr><th>4</th><td>ABILENE REGIONAL MEDICAL CENTER</td><td>Abilene Regional Medical Center</td><td>450558</td><td>Texas</td><td>TX</td><td>Abilene</td><td>79606</td><td>48441</td><td>HSI00000249</td><td>Community Health Systems</td><td>45001</td><td>Abilene, TX</td><td>382</td><td>Abilene, TX</td></tr><tr><th>5</th><td>ABINGTON MEMORIAL HOSPITAL</td><td>Abington Memorial Hospital</td><td>390231</td><td>Pennsylvania</td><td>PA</td><td>Abington</td><td>19001</td><td>42091</td><td>HSI00000048</td><td>Jefferson Health</td><td>39001</td><td>Abington, PA</td><td>356</td><td>Philadelphia, PA</td></tr><tr><th>6</th><td>ABRAHAM LINCOLN MEMORIAL HOSPITAL</td><td>Abraham Lincoln Memorial Hospital</td><td>141322</td><td>Illinois</td><td>IL</td><td>Lincoln</td><td>62656</td><td>17107</td><td>HSI00000648</td><td>Memorial Health System</td><td>14075</td><td>Lincoln, IL</td><td>172</td><td>Springfield, IL</td></tr><tr><th>7</th><td>ABRAZO ARROWHEAD CAMPUS</td><td>Abrazo Arrowhead Campus</td><td>030094</td><td>Arizona</td><td>AZ</td><td>Glendale</td><td>85308</td><td>4013</td><td>HSI00001066</td><td>Tenet Healthcare Corporation</td><td>3022</td><td>Phoenix, AZ</td><td>12</td><td>Phoenix, AZ</td></tr><tr><th>8</th><td>ABRAZO CENTRAL CAMPUS</td><td>Abrazo Central Campus</td><td>030030</td><td>Arizona</td><td>AZ</td><td>Phoenix</td><td>85015</td><td>4013</td><td>HSI00001066</td><td>Tenet Healthcare Corporation</td><td>3022</td><td>Phoenix, AZ</td><td>12</td><td>Phoenix, AZ</td></tr><tr><th>9</th><td>ABRAZO SCOTTSDALE CAMPUS</td><td>Abrazo Scottsdale Campus</td><td>030083</td><td>Arizona</td><td>AZ</td><td>Phoenix</td><td>85032</td><td>4013</td><td>HSI00001066</td><td>Tenet Healthcare Corporation</td><td>3022</td><td>Phoenix, AZ</td><td>12</td><td>Phoenix, AZ</td></tr><tr><th>10</th><td>ABRAZO WEST CAMPUS</td><td>Abrazo West Campus</td><td>030110</td><td>Arizona</td><td>AZ</td><td>Goodyear</td><td>85395</td><td>4013</td><td>HSI00001066</td><td>Tenet Healthcare Corporation</td><td>3022</td><td>Phoenix, AZ</td><td>12</td><td>Phoenix, AZ</td></tr><tr><th>11</th><td>ABROM KAPLAN MEMORIAL HOSPITAL</td><td>Abrom Kaplan Memorial Hospital</td><td>191322</td><td>Louisiana</td><td>LA</td><td>Kaplan</td><td>70548</td><td>22113</td><td>HSI00000562</td><td>Lafayette General Health</td><td>19042</td><td>Kaplan, LA</td><td>213</td><td>Lafayette, LA</td></tr><tr><th>12</th><td>ACADIA GENERAL HOSPITAL</td><td>Acadia General Hospital</td><td>190044</td><td>Louisiana</td><td>LA</td><td>Crowley</td><td>70526</td><td>22001</td><td>HSI00000562</td><td>Lafayette General Health</td><td>19019</td><td>Crowley, LA</td><td>213</td><td>Lafayette, LA</td></tr><tr><th>13</th><td>ACADIA ST LANDRY</td><td>Acadia St. Landry</td><td>191319</td><td>Louisiana</td><td>LA</td><td>Church Point</td><td>70525</td><td>22001</td><td><em>missing</em></td><td><em>missing</em></td><td>19046</td><td>Lafayette, LA</td><td>213</td><td>Lafayette, LA</td></tr><tr><th>14</th><td>ACADIAN MEDICAL CENTER</td><td>Acadian Medical Center</td><td>190318</td><td>Louisiana</td><td>LA</td><td>Eunice</td><td>70535</td><td>22097</td><td><em>missing</em></td><td><em>missing</em></td><td>19024</td><td>Eunice, LA</td><td>213</td><td>Lafayette, LA</td></tr><tr><th>15</th><td>ACMH HOSPITAL</td><td>A.C.M.H. Hospital</td><td>390163</td><td>Pennsylvania</td><td>PA</td><td>Kittanning</td><td>16201</td><td>42005</td><td>HSI00000051</td><td>Armstrong County Memorial Hospital</td><td>39062</td><td>Kittanning, PA</td><td>357</td><td>Pittsburgh, PA</td></tr><tr><th>16</th><td>ACUITY SPECIALTY HOSPITAL OF MORGANTOWN</td><td>Acuity Specialty Hospital Of Morgantown</td><td>512004</td><td>West Virginia</td><td>WV</td><td>Morgantown</td><td>26505</td><td>54061</td><td><em>missing</em></td><td><em>missing</em></td><td>51024</td><td>Morgantown, WV</td><td>445</td><td>Morgantown, WV</td></tr><tr><th>17</th><td>ACUITY SPECIALTY HOSPITAL OF NEW JERSEY</td><td>Acuity Specialty Hospital of New Jersey</td><td>312023</td><td>New Jersey</td><td>NJ</td><td>Atlantic City</td><td>8401</td><td>34001</td><td><em>missing</em></td><td><em>missing</em></td><td>31001</td><td>Atlantic City, NJ</td><td>283</td><td>Camden, NJ</td></tr><tr><th>18</th><td>ACUITY SPECIALTY HOSPITAL OF SOUTHERN NEW JERSEY</td><td>Acuity Specialty Hospital of Southern New Jersey</td><td>312022</td><td>New Jersey</td><td>NJ</td><td>Willingboro</td><td>8046</td><td>34005</td><td><em>missing</em></td><td><em>missing</em></td><td>31068</td><td>Willingboro, NJ</td><td>283</td><td>Camden, NJ</td></tr><tr><th>19</th><td>ACUITY SPECIALTY HOSPITAL OHIO VALLEY</td><td>Acuity Specialty Hospital Ohio Valley</td><td>512005</td><td>West Virginia</td><td>WV</td><td>Weirton</td><td>26062</td><td>54029</td><td><em>missing</em></td><td><em>missing</em></td><td>51042</td><td>Weirton, WV</td><td>357</td><td>Pittsburgh, PA</td></tr><tr><th>20</th><td>AD HOSPITAL EAST, LLC</td><td>AD Hospital East, L.L.C.</td><td>670102</td><td>Texas</td><td>TX</td><td>Houston</td><td>77015</td><td>48201</td><td><em>missing</em></td><td><em>missing</em></td><td>45131</td><td>Houston, TX</td><td>397</td><td>Houston, TX</td></tr><tr><th>21</th><td>ADAIR COUNTY MEMORIAL HOSPITAL</td><td>Adair County Memorial Hospital</td><td>161310</td><td>Iowa</td><td>IA</td><td>Greenfield</td><td>50849</td><td>19001</td><td>HSI00000183</td><td>Catholic Health Initiatives</td><td>16041</td><td>Greenfield, IA</td><td>192</td><td>Des Moines, IA</td></tr><tr><th>22</th><td>ADAMS COUNTY REGIONAL MEDICAL CENTER</td><td>Adams County Regional Medical Center</td><td>361326</td><td>Ohio</td><td>OH</td><td>Seaman</td><td>45679</td><td>39001</td><td><em>missing</em></td><td><em>missing</em></td><td>36009</td><td>Batavia, OH</td><td>327</td><td>Cincinnati, OH</td></tr><tr><th>23</th><td>ADAMS MEMORIAL HOSPITAL</td><td>Adams Memorial Hospital</td><td>151330</td><td>Indiana</td><td>IN</td><td>Decatur</td><td>46733</td><td>18001</td><td><em>missing</em></td><td><em>missing</em></td><td>15021</td><td>Decatur, IN</td><td>180</td><td>Fort Wayne, IN</td></tr><tr><th>24</th><td>ADENA PIKE MEDICAL CENTER</td><td>Adena Pike Medical Center</td><td>361334</td><td>Ohio</td><td>OH</td><td>Waverly</td><td>45690</td><td>39131</td><td>HSI00000008</td><td>Adena Health System</td><td>36114</td><td>Waverly, OH</td><td>329</td><td>Columbus, OH</td></tr><tr><th>25</th><td>ADENA REGIONAL MEDICAL CENTER</td><td>Adena Regional Medical Center</td><td>360159</td><td>Ohio</td><td>OH</td><td>Chillicothe</td><td>45601</td><td>39141</td><td>HSI00000008</td><td>Adena Health System</td><td>36022</td><td>Chillicothe, OH</td><td>329</td><td>Columbus, OH</td></tr><tr><th>26</th><td>ADIRONDACK MEDICAL CENTER - SARANAC LAKE</td><td>Adirondack Medical Center – Saranac Lake</td><td>330079</td><td>New York</td><td>NY</td><td>Saranac Lake</td><td>12983</td><td>36033</td><td><em>missing</em></td><td><em>missing</em></td><td>33111</td><td>Saranac Lake, NY</td><td>424</td><td>Burlington, VT</td></tr><tr><th>27</th><td>ADMIN DE SERVICIOS MEDICOS  PUERTO RIC</td><td>Admin De Servicios Médicos Puerto Rico</td><td>400127</td><td>Puerto Rico</td><td>PR</td><td>San Juan</td><td>935</td><td>72127</td><td><em>missing</em></td><td><em>missing</em></td><td><em>missing</em></td><td><em>missing</em></td><td><em>missing</em></td><td><em>missing</em></td></tr><tr><th>28</th><td>ADVANCED CARE HOSPITAL OF MONTANA</td><td>Advanced Care Hospital of Montana</td><td>272001</td><td>Montana</td><td>MT</td><td>Billings</td><td>59102</td><td>30111</td><td><em>missing</em></td><td><em>missing</em></td><td>27005</td><td>Billings, MT</td><td>274</td><td>Billings, MT</td></tr><tr><th>29</th><td>ADVANCED CARE HOSPITAL OF SOUTHERN NEW MEXICO LLC</td><td>Advanced Care Hospital of Southern New Mexico</td><td>322004</td><td>New Mexico</td><td>NM</td><td>Las Cruces</td><td>88011</td><td>35013</td><td><em>missing</em></td><td><em>missing</em></td><td>32015</td><td>Las Cruces, NM</td><td>393</td><td>El Paso, TX</td></tr><tr><th>30</th><td>ADVANCED CARE HOSPITAL WHITE COUNTY</td><td>Advanced Care Hospital of White County</td><td>042011</td><td>Arkansas</td><td>AR</td><td>Searcy</td><td>72143</td><td>5145</td><td>HSI00001145</td><td>Unity Health</td><td>4066</td><td>Searcy, AR</td><td>19</td><td>Little Rock, AR</td></tr><tr><th>&vellip;</th><td>&vellip;</td><td>&vellip;</td><td>&vellip;</td><td>&vellip;</td><td>&vellip;</td><td>&vellip;</td><td>&vellip;</td><td>&vellip;</td><td>&vellip;</td><td>&vellip;</td><td>&vellip;</td><td>&vellip;</td><td>&vellip;</td><td>&vellip;</td></tr></tbody></table>"
      ],
      "text/latex": [
       "\\begin{tabular}{r|cccccccccccccc}\n",
       "\t& hospital & hospitalname & hospital\\_id & state & state\\_abbrev & city & zip & fips\\_code & system\\_id & system\\_name & hsa\\_id & hsa\\_name & hrr\\_id & hrr\\_name\\\\\n",
       "\t\\hline\n",
       "\t& String & String & String & String & String & String? & Int64? & Int64? & String? & String? & Int64? & String? & Int64? & String?\\\\\n",
       "\t\\hline\n",
       "\t1 & ABBEVILLE AREA MEDICAL CENTER & Abbeville Area Medical Center & 421301 & South Carolina & SC & Abbeville & 29620 & 45001 & \\emph{missing} & \\emph{missing} & 42001 & Abbeville, SC & 366 & Columbia, SC \\\\\n",
       "\t2 & ABBEVILLE GENERAL HOSPITAL & Abbeville General Hospital & 190034 & Louisiana & LA & Abbeville & 70510 & 22113 & HSI00000562 & Lafayette General Health & 19001 & Abbeville, LA & 213 & Lafayette, LA \\\\\n",
       "\t3 & ABBOTT NORTHWESTERN HOSPITAL & Abbott Northwestern Hospital & 240057 & Minnesota & MN & Minneapolis & 55407 & 27053 & HSI00000029 & Allina Health System & 24076 & Minneapolis, MN & 251 & Minneapolis, MN \\\\\n",
       "\t4 & ABILENE REGIONAL MEDICAL CENTER & Abilene Regional Medical Center & 450558 & Texas & TX & Abilene & 79606 & 48441 & HSI00000249 & Community Health Systems & 45001 & Abilene, TX & 382 & Abilene, TX \\\\\n",
       "\t5 & ABINGTON MEMORIAL HOSPITAL & Abington Memorial Hospital & 390231 & Pennsylvania & PA & Abington & 19001 & 42091 & HSI00000048 & Jefferson Health & 39001 & Abington, PA & 356 & Philadelphia, PA \\\\\n",
       "\t6 & ABRAHAM LINCOLN MEMORIAL HOSPITAL & Abraham Lincoln Memorial Hospital & 141322 & Illinois & IL & Lincoln & 62656 & 17107 & HSI00000648 & Memorial Health System & 14075 & Lincoln, IL & 172 & Springfield, IL \\\\\n",
       "\t7 & ABRAZO ARROWHEAD CAMPUS & Abrazo Arrowhead Campus & 030094 & Arizona & AZ & Glendale & 85308 & 4013 & HSI00001066 & Tenet Healthcare Corporation & 3022 & Phoenix, AZ & 12 & Phoenix, AZ \\\\\n",
       "\t8 & ABRAZO CENTRAL CAMPUS & Abrazo Central Campus & 030030 & Arizona & AZ & Phoenix & 85015 & 4013 & HSI00001066 & Tenet Healthcare Corporation & 3022 & Phoenix, AZ & 12 & Phoenix, AZ \\\\\n",
       "\t9 & ABRAZO SCOTTSDALE CAMPUS & Abrazo Scottsdale Campus & 030083 & Arizona & AZ & Phoenix & 85032 & 4013 & HSI00001066 & Tenet Healthcare Corporation & 3022 & Phoenix, AZ & 12 & Phoenix, AZ \\\\\n",
       "\t10 & ABRAZO WEST CAMPUS & Abrazo West Campus & 030110 & Arizona & AZ & Goodyear & 85395 & 4013 & HSI00001066 & Tenet Healthcare Corporation & 3022 & Phoenix, AZ & 12 & Phoenix, AZ \\\\\n",
       "\t11 & ABROM KAPLAN MEMORIAL HOSPITAL & Abrom Kaplan Memorial Hospital & 191322 & Louisiana & LA & Kaplan & 70548 & 22113 & HSI00000562 & Lafayette General Health & 19042 & Kaplan, LA & 213 & Lafayette, LA \\\\\n",
       "\t12 & ACADIA GENERAL HOSPITAL & Acadia General Hospital & 190044 & Louisiana & LA & Crowley & 70526 & 22001 & HSI00000562 & Lafayette General Health & 19019 & Crowley, LA & 213 & Lafayette, LA \\\\\n",
       "\t13 & ACADIA ST LANDRY & Acadia St. Landry & 191319 & Louisiana & LA & Church Point & 70525 & 22001 & \\emph{missing} & \\emph{missing} & 19046 & Lafayette, LA & 213 & Lafayette, LA \\\\\n",
       "\t14 & ACADIAN MEDICAL CENTER & Acadian Medical Center & 190318 & Louisiana & LA & Eunice & 70535 & 22097 & \\emph{missing} & \\emph{missing} & 19024 & Eunice, LA & 213 & Lafayette, LA \\\\\n",
       "\t15 & ACMH HOSPITAL & A.C.M.H. Hospital & 390163 & Pennsylvania & PA & Kittanning & 16201 & 42005 & HSI00000051 & Armstrong County Memorial Hospital & 39062 & Kittanning, PA & 357 & Pittsburgh, PA \\\\\n",
       "\t16 & ACUITY SPECIALTY HOSPITAL OF MORGANTOWN & Acuity Specialty Hospital Of Morgantown & 512004 & West Virginia & WV & Morgantown & 26505 & 54061 & \\emph{missing} & \\emph{missing} & 51024 & Morgantown, WV & 445 & Morgantown, WV \\\\\n",
       "\t17 & ACUITY SPECIALTY HOSPITAL OF NEW JERSEY & Acuity Specialty Hospital of New Jersey & 312023 & New Jersey & NJ & Atlantic City & 8401 & 34001 & \\emph{missing} & \\emph{missing} & 31001 & Atlantic City, NJ & 283 & Camden, NJ \\\\\n",
       "\t18 & ACUITY SPECIALTY HOSPITAL OF SOUTHERN NEW JERSEY & Acuity Specialty Hospital of Southern New Jersey & 312022 & New Jersey & NJ & Willingboro & 8046 & 34005 & \\emph{missing} & \\emph{missing} & 31068 & Willingboro, NJ & 283 & Camden, NJ \\\\\n",
       "\t19 & ACUITY SPECIALTY HOSPITAL OHIO VALLEY & Acuity Specialty Hospital Ohio Valley & 512005 & West Virginia & WV & Weirton & 26062 & 54029 & \\emph{missing} & \\emph{missing} & 51042 & Weirton, WV & 357 & Pittsburgh, PA \\\\\n",
       "\t20 & AD HOSPITAL EAST, LLC & AD Hospital East, L.L.C. & 670102 & Texas & TX & Houston & 77015 & 48201 & \\emph{missing} & \\emph{missing} & 45131 & Houston, TX & 397 & Houston, TX \\\\\n",
       "\t21 & ADAIR COUNTY MEMORIAL HOSPITAL & Adair County Memorial Hospital & 161310 & Iowa & IA & Greenfield & 50849 & 19001 & HSI00000183 & Catholic Health Initiatives & 16041 & Greenfield, IA & 192 & Des Moines, IA \\\\\n",
       "\t22 & ADAMS COUNTY REGIONAL MEDICAL CENTER & Adams County Regional Medical Center & 361326 & Ohio & OH & Seaman & 45679 & 39001 & \\emph{missing} & \\emph{missing} & 36009 & Batavia, OH & 327 & Cincinnati, OH \\\\\n",
       "\t23 & ADAMS MEMORIAL HOSPITAL & Adams Memorial Hospital & 151330 & Indiana & IN & Decatur & 46733 & 18001 & \\emph{missing} & \\emph{missing} & 15021 & Decatur, IN & 180 & Fort Wayne, IN \\\\\n",
       "\t24 & ADENA PIKE MEDICAL CENTER & Adena Pike Medical Center & 361334 & Ohio & OH & Waverly & 45690 & 39131 & HSI00000008 & Adena Health System & 36114 & Waverly, OH & 329 & Columbus, OH \\\\\n",
       "\t25 & ADENA REGIONAL MEDICAL CENTER & Adena Regional Medical Center & 360159 & Ohio & OH & Chillicothe & 45601 & 39141 & HSI00000008 & Adena Health System & 36022 & Chillicothe, OH & 329 & Columbus, OH \\\\\n",
       "\t26 & ADIRONDACK MEDICAL CENTER - SARANAC LAKE & Adirondack Medical Center – Saranac Lake & 330079 & New York & NY & Saranac Lake & 12983 & 36033 & \\emph{missing} & \\emph{missing} & 33111 & Saranac Lake, NY & 424 & Burlington, VT \\\\\n",
       "\t27 & ADMIN DE SERVICIOS MEDICOS  PUERTO RIC & Admin De Servicios Médicos Puerto Rico & 400127 & Puerto Rico & PR & San Juan & 935 & 72127 & \\emph{missing} & \\emph{missing} & \\emph{missing} & \\emph{missing} & \\emph{missing} & \\emph{missing} \\\\\n",
       "\t28 & ADVANCED CARE HOSPITAL OF MONTANA & Advanced Care Hospital of Montana & 272001 & Montana & MT & Billings & 59102 & 30111 & \\emph{missing} & \\emph{missing} & 27005 & Billings, MT & 274 & Billings, MT \\\\\n",
       "\t29 & ADVANCED CARE HOSPITAL OF SOUTHERN NEW MEXICO LLC & Advanced Care Hospital of Southern New Mexico & 322004 & New Mexico & NM & Las Cruces & 88011 & 35013 & \\emph{missing} & \\emph{missing} & 32015 & Las Cruces, NM & 393 & El Paso, TX \\\\\n",
       "\t30 & ADVANCED CARE HOSPITAL WHITE COUNTY & Advanced Care Hospital of White County & 042011 & Arkansas & AR & Searcy & 72143 & 5145 & HSI00001145 & Unity Health & 4066 & Searcy, AR & 19 & Little Rock, AR \\\\\n",
       "\t$\\dots$ & $\\dots$ & $\\dots$ & $\\dots$ & $\\dots$ & $\\dots$ & $\\dots$ & $\\dots$ & $\\dots$ & $\\dots$ & $\\dots$ & $\\dots$ & $\\dots$ & $\\dots$ & $\\dots$ \\\\\n",
       "\\end{tabular}\n"
      ],
      "text/plain": [
       "\u001b[1m4925×14 DataFrame\u001b[0m\n",
       "\u001b[1m  Row \u001b[0m│\u001b[1m hospital                          \u001b[0m\u001b[1m hospitalname                      \u001b[0m\u001b[1m hospital_id \u001b[0m\u001b[1m state          \u001b[0m\u001b[1m state_abbrev \u001b[0m\u001b[1m city          \u001b[0m\u001b[1m zip    \u001b[0m\u001b[1m fips_code \u001b[0m\u001b[1m system_id   \u001b[0m\u001b[1m system_name                     \u001b[0m\u001b[1m hsa_id \u001b[0m\u001b[1m hsa_name          \u001b[0m\u001b[1m hrr_id \u001b[0m\u001b[1m hrr_name          \u001b[0m\n",
       "\u001b[1m      \u001b[0m│\u001b[90m String                            \u001b[0m\u001b[90m String                            \u001b[0m\u001b[90m String      \u001b[0m\u001b[90m String         \u001b[0m\u001b[90m String       \u001b[0m\u001b[90m String?       \u001b[0m\u001b[90m Int64? \u001b[0m\u001b[90m Int64?    \u001b[0m\u001b[90m String?     \u001b[0m\u001b[90m String?                         \u001b[0m\u001b[90m Int64? \u001b[0m\u001b[90m String?           \u001b[0m\u001b[90m Int64? \u001b[0m\u001b[90m String?           \u001b[0m\n",
       "──────┼───────────────────────────────────────────────────────────────────────────────────────────────────────────────────────────────────────────────────────────────────────────────────────────────────────────────────────────────────────────────────────\n",
       "    1 │ ABBEVILLE AREA MEDICAL CENTER      Abbeville Area Medical Center      421301       South Carolina  SC            Abbeville       29620      45001 \u001b[90m missing     \u001b[0m\u001b[90m missing                         \u001b[0m  42001  Abbeville, SC         366  Columbia, SC\n",
       "    2 │ ABBEVILLE GENERAL HOSPITAL         Abbeville General Hospital         190034       Louisiana       LA            Abbeville       70510      22113  HSI00000562  Lafayette General Health          19001  Abbeville, LA         213  Lafayette, LA\n",
       "    3 │ ABBOTT NORTHWESTERN HOSPITAL       Abbott Northwestern Hospital       240057       Minnesota       MN            Minneapolis     55407      27053  HSI00000029  Allina Health System              24076  Minneapolis, MN       251  Minneapolis, MN\n",
       "    4 │ ABILENE REGIONAL MEDICAL CENTER    Abilene Regional Medical Center    450558       Texas           TX            Abilene         79606      48441  HSI00000249  Community Health Systems          45001  Abilene, TX           382  Abilene, TX\n",
       "    5 │ ABINGTON MEMORIAL HOSPITAL         Abington Memorial Hospital         390231       Pennsylvania    PA            Abington        19001      42091  HSI00000048  Jefferson Health                  39001  Abington, PA          356  Philadelphia, PA\n",
       "    6 │ ABRAHAM LINCOLN MEMORIAL HOSPITAL  Abraham Lincoln Memorial Hospital  141322       Illinois        IL            Lincoln         62656      17107  HSI00000648  Memorial Health System            14075  Lincoln, IL           172  Springfield, IL\n",
       "    7 │ ABRAZO ARROWHEAD CAMPUS            Abrazo Arrowhead Campus            030094       Arizona         AZ            Glendale        85308       4013  HSI00001066  Tenet Healthcare Corporation       3022  Phoenix, AZ            12  Phoenix, AZ\n",
       "    8 │ ABRAZO CENTRAL CAMPUS              Abrazo Central Campus              030030       Arizona         AZ            Phoenix         85015       4013  HSI00001066  Tenet Healthcare Corporation       3022  Phoenix, AZ            12  Phoenix, AZ\n",
       "    9 │ ABRAZO SCOTTSDALE CAMPUS           Abrazo Scottsdale Campus           030083       Arizona         AZ            Phoenix         85032       4013  HSI00001066  Tenet Healthcare Corporation       3022  Phoenix, AZ            12  Phoenix, AZ\n",
       "   10 │ ABRAZO WEST CAMPUS                 Abrazo West Campus                 030110       Arizona         AZ            Goodyear        85395       4013  HSI00001066  Tenet Healthcare Corporation       3022  Phoenix, AZ            12  Phoenix, AZ\n",
       "   11 │ ABROM KAPLAN MEMORIAL HOSPITAL     Abrom Kaplan Memorial Hospital     191322       Louisiana       LA            Kaplan          70548      22113  HSI00000562  Lafayette General Health          19042  Kaplan, LA            213  Lafayette, LA\n",
       "  ⋮   │                 ⋮                                  ⋮                       ⋮             ⋮              ⋮              ⋮          ⋮         ⋮           ⋮                      ⋮                   ⋮             ⋮            ⋮             ⋮\n",
       " 4916 │ YAVAPAI REGIONAL MEDICAL CENTER    Yavapai Regional Medical Center    030012       Arizona         AZ            Prescott        86301       4025  HSI00001273  Yavapai Regional Medical Center    3023  Prescott, AZ           12  Phoenix, AZ\n",
       " 4917 │ YOAKUM COMMUNITY HOSPITAL          Yoakum Community Hospital          451346       Texas           TX            Yoakum          77995      48123  HSI00000251  Community Hospital Corporation    45264  Victoria, TX          417  Victoria, TX\n",
       " 4918 │ YOAKUM COUNTY HOSPITAL             Yoakum County Hospital             451308       Texas           TX            Denver City     79323      48501 \u001b[90m missing     \u001b[0m\u001b[90m missing                         \u001b[0m  45168  Lubbock, TX           400  Lubbock, TX\n",
       " 4919 │ YORK GENERAL HOSPITAL              York General Hospital              281336       Nebraska        NE            York            68467      31185 \u001b[90m missing     \u001b[0m\u001b[90m missing                         \u001b[0m  28080  York, NE              277  Lincoln, NE\n",
       " 4920 │ YORK HOSPITAL                      York Hospital                      200020       Maine           ME            York             3909      23031  HSI00001274  York Hospital                     20033  York, ME              222  Portland, ME\n",
       " 4921 │ YORK HOSPITAL                      York Hospital                      390046       Pennsylvania    PA            York            17403      42133  HSI00001243  Wellspan Health                   39140  York, PA              363  York, PA\n",
       " 4922 │ YUMA DISTRICT HOSPITAL             Yuma District Hospital             061315       Colorado        CO            Yuma            80759       8125 \u001b[90m missing     \u001b[0m\u001b[90m missing                         \u001b[0m   6055  Yuma, CO              106  Greeley, CO\n",
       " 4923 │ YUMA REGIONAL MEDICAL CENTER       Yuma Regional Medical Center       030013       Arizona         AZ            Yuma            85364       4027  HSI00001275  Yuma Regional Medical Center       3037  Yuma, AZ               12  Phoenix, AZ\n",
       " 4924 │ ZACHARY - A M G SPECIALTY HOSPIT…  Zachary – A.M.G. Specialty Hospi…  192041       Louisiana       LA            Zachary         70791      22033 \u001b[90m missing     \u001b[0m\u001b[90m missing                         \u001b[0m  19093  Zachary, LA           210  Baton Rouge, LA\n",
       " 4925 │ ZUCKERBERG SAN FRANCISCO GENERAL…  Zuckerberg San Francisco General…  050228       California      CA            San Francisco   94110       6075  HSI00001351  San Francisco Health Network       5208  San Francisco, CA      81  San Francisco, CA\n",
       "\u001b[31m                                                                                                                                                                                                                                             4904 rows omitted\u001b[0m"
      ]
     },
     "execution_count": 14,
     "metadata": {},
     "output_type": "execute_result"
    }
   ],
   "source": [
    "data"
   ]
  },
  {
   "cell_type": "code",
   "execution_count": 15,
   "metadata": {},
   "outputs": [
    {
     "data": {
      "text/plain": [
       "\"../data/hhs_hospital_meta.csv\""
      ]
     },
     "execution_count": 15,
     "metadata": {},
     "output_type": "execute_result"
    }
   ],
   "source": [
    "data |> CSV.write(\"../data/hhs_hospital_meta.csv\")"
   ]
  },
  {
   "cell_type": "code",
   "execution_count": null,
   "metadata": {},
   "outputs": [],
   "source": []
  }
 ],
 "metadata": {
  "@webio": {
   "lastCommId": null,
   "lastKernelId": null
  },
  "kernelspec": {
   "display_name": "Julia 1.5.3",
   "language": "julia",
   "name": "julia-1.5"
  },
  "language_info": {
   "file_extension": ".jl",
   "mimetype": "application/julia",
   "name": "julia",
   "version": "1.5.3"
  }
 },
 "nbformat": 4,
 "nbformat_minor": 4
}
