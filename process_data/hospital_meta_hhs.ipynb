{
 "cells": [
  {
   "cell_type": "code",
   "execution_count": 1,
   "metadata": {},
   "outputs": [],
   "source": [
    "using CSV\n",
    "using DataFrames"
   ]
  },
  {
   "cell_type": "code",
   "execution_count": 2,
   "metadata": {},
   "outputs": [],
   "source": [
    "ENV[\"COLUMNS\"] = 1000;"
   ]
  },
  {
   "cell_type": "code",
   "execution_count": 3,
   "metadata": {},
   "outputs": [],
   "source": [
    "rawdata = DataFrame(CSV.File(\"../rawdata/reported_hospital_capacity_admissions_facility_level_weekly_average_timeseries_20201221_0.csv\"));"
   ]
  },
  {
   "cell_type": "code",
   "execution_count": 4,
   "metadata": {},
   "outputs": [],
   "source": [
    "unique!(rawdata, :hospital_pk);"
   ]
  },
  {
   "cell_type": "code",
   "execution_count": 5,
   "metadata": {},
   "outputs": [
    {
     "data": {
      "text/html": [
       "<table class=\"data-frame\"><thead><tr><th></th><th>hospital</th><th>hospital_id</th><th>state</th><th>city</th><th>zip</th><th>fips_code</th></tr><tr><th></th><th>String</th><th>String</th><th>String</th><th>String?</th><th>Int64?</th><th>Int64?</th></tr></thead><tbody><p>4,922 rows × 6 columns</p><tr><th>1</th><td>Abbeville Area Medical Center</td><td>421301</td><td>SC</td><td>Abbeville</td><td>29620</td><td>45001</td></tr><tr><th>2</th><td>Abbeville General Hospital</td><td>190034</td><td>LA</td><td>Abbeville</td><td>70510</td><td>22113</td></tr><tr><th>3</th><td>Abbott Northwestern Hospital</td><td>240057</td><td>MN</td><td>Minneapolis</td><td>55407</td><td>27053</td></tr><tr><th>4</th><td>Abilene Regional Medical Center</td><td>450558</td><td>TX</td><td>Abilene</td><td>79606</td><td>48441</td></tr><tr><th>5</th><td>Abington Memorial Hospital</td><td>390231</td><td>PA</td><td>Abington</td><td>19001</td><td>42091</td></tr><tr><th>6</th><td>Abraham Lincoln Memorial Hospital</td><td>141322</td><td>IL</td><td>Lincoln</td><td>62656</td><td>17107</td></tr><tr><th>7</th><td>Abrazo Arrowhead Campus</td><td>030094</td><td>AZ</td><td>Glendale</td><td>85308</td><td>4013</td></tr><tr><th>8</th><td>Abrazo Central Campus</td><td>030030</td><td>AZ</td><td>Phoenix</td><td>85015</td><td>4013</td></tr><tr><th>9</th><td>Abrazo Scottsdale Campus</td><td>030083</td><td>AZ</td><td>Phoenix</td><td>85032</td><td>4013</td></tr><tr><th>10</th><td>Abrazo West Campus</td><td>030110</td><td>AZ</td><td>Goodyear</td><td>85395</td><td>4013</td></tr><tr><th>11</th><td>Abrom Kaplan Memorial Hospital</td><td>191322</td><td>LA</td><td>Kaplan</td><td>70548</td><td>22113</td></tr><tr><th>12</th><td>Acadia General Hospital</td><td>190044</td><td>LA</td><td>Crowley</td><td>70526</td><td>22001</td></tr><tr><th>13</th><td>Acadia St Landry</td><td>191319</td><td>LA</td><td>Church Point</td><td>70525</td><td>22001</td></tr><tr><th>14</th><td>Acadian Medical Center</td><td>190318</td><td>LA</td><td>Eunice</td><td>70535</td><td>22097</td></tr><tr><th>15</th><td>Acmh Hospital</td><td>390163</td><td>PA</td><td>Kittanning</td><td>16201</td><td>42005</td></tr><tr><th>16</th><td>Acuity Specialty Hospital Of Morgantown</td><td>510092</td><td>WV</td><td>Morgantown</td><td>26505</td><td>54061</td></tr><tr><th>17</th><td>Acuity Specialty Hospital Of New Jersey</td><td>312023</td><td>NJ</td><td>Atlantic City</td><td>8401</td><td>34001</td></tr><tr><th>18</th><td>Acuity Specialty Hospital Of Southern New Jersey</td><td>312022</td><td>NJ</td><td>Willingboro</td><td>8046</td><td>34005</td></tr><tr><th>19</th><td>Acuity Specialty Hospital Ohio Valley</td><td>512005</td><td>WV</td><td>Weirton</td><td>26062</td><td>54029</td></tr><tr><th>20</th><td>Ad Hospital East, Llc</td><td>670102</td><td>TX</td><td>Houston</td><td>77015</td><td>48201</td></tr><tr><th>21</th><td>Adair County Memorial Hospital</td><td>161310</td><td>IA</td><td>Greenfield</td><td>50849</td><td>19001</td></tr><tr><th>22</th><td>Adams County Regional Medical Center</td><td>361326</td><td>OH</td><td>Seaman</td><td>45679</td><td>39001</td></tr><tr><th>23</th><td>Adams Memorial Hospital</td><td>151330</td><td>IN</td><td>Decatur</td><td>46733</td><td>18001</td></tr><tr><th>24</th><td>Adena Pike Medical Center</td><td>361334</td><td>OH</td><td>Waverly</td><td>45690</td><td>39131</td></tr><tr><th>25</th><td>Adena Regional Medical Center</td><td>360159</td><td>OH</td><td>Chillicothe</td><td>45601</td><td>39141</td></tr><tr><th>26</th><td>Adirondack Medical Center - Saranac Lake</td><td>330079</td><td>NY</td><td>Saranac Lake</td><td>12983</td><td>36033</td></tr><tr><th>27</th><td>Admin De Servicios Medicos  Puerto Ric</td><td>400127</td><td>PR</td><td>San Juan</td><td>935</td><td>72127</td></tr><tr><th>28</th><td>Advanced Care Hospital Of Montana</td><td>272001</td><td>MT</td><td>Billings</td><td>59102</td><td>30111</td></tr><tr><th>29</th><td>Advanced Care Hospital Of Southern New Mexico Llc</td><td>322004</td><td>NM</td><td>Las Cruces</td><td>88011</td><td>35013</td></tr><tr><th>30</th><td>Advanced Care Hospital White County</td><td>042011</td><td>AR</td><td>Searcy</td><td>72143</td><td>5145</td></tr><tr><th>&vellip;</th><td>&vellip;</td><td>&vellip;</td><td>&vellip;</td><td>&vellip;</td><td>&vellip;</td><td>&vellip;</td></tr></tbody></table>"
      ],
      "text/latex": [
       "\\begin{tabular}{r|cccccc}\n",
       "\t& hospital & hospital\\_id & state & city & zip & fips\\_code\\\\\n",
       "\t\\hline\n",
       "\t& String & String & String & String? & Int64? & Int64?\\\\\n",
       "\t\\hline\n",
       "\t1 & Abbeville Area Medical Center & 421301 & SC & Abbeville & 29620 & 45001 \\\\\n",
       "\t2 & Abbeville General Hospital & 190034 & LA & Abbeville & 70510 & 22113 \\\\\n",
       "\t3 & Abbott Northwestern Hospital & 240057 & MN & Minneapolis & 55407 & 27053 \\\\\n",
       "\t4 & Abilene Regional Medical Center & 450558 & TX & Abilene & 79606 & 48441 \\\\\n",
       "\t5 & Abington Memorial Hospital & 390231 & PA & Abington & 19001 & 42091 \\\\\n",
       "\t6 & Abraham Lincoln Memorial Hospital & 141322 & IL & Lincoln & 62656 & 17107 \\\\\n",
       "\t7 & Abrazo Arrowhead Campus & 030094 & AZ & Glendale & 85308 & 4013 \\\\\n",
       "\t8 & Abrazo Central Campus & 030030 & AZ & Phoenix & 85015 & 4013 \\\\\n",
       "\t9 & Abrazo Scottsdale Campus & 030083 & AZ & Phoenix & 85032 & 4013 \\\\\n",
       "\t10 & Abrazo West Campus & 030110 & AZ & Goodyear & 85395 & 4013 \\\\\n",
       "\t11 & Abrom Kaplan Memorial Hospital & 191322 & LA & Kaplan & 70548 & 22113 \\\\\n",
       "\t12 & Acadia General Hospital & 190044 & LA & Crowley & 70526 & 22001 \\\\\n",
       "\t13 & Acadia St Landry & 191319 & LA & Church Point & 70525 & 22001 \\\\\n",
       "\t14 & Acadian Medical Center & 190318 & LA & Eunice & 70535 & 22097 \\\\\n",
       "\t15 & Acmh Hospital & 390163 & PA & Kittanning & 16201 & 42005 \\\\\n",
       "\t16 & Acuity Specialty Hospital Of Morgantown & 510092 & WV & Morgantown & 26505 & 54061 \\\\\n",
       "\t17 & Acuity Specialty Hospital Of New Jersey & 312023 & NJ & Atlantic City & 8401 & 34001 \\\\\n",
       "\t18 & Acuity Specialty Hospital Of Southern New Jersey & 312022 & NJ & Willingboro & 8046 & 34005 \\\\\n",
       "\t19 & Acuity Specialty Hospital Ohio Valley & 512005 & WV & Weirton & 26062 & 54029 \\\\\n",
       "\t20 & Ad Hospital East, Llc & 670102 & TX & Houston & 77015 & 48201 \\\\\n",
       "\t21 & Adair County Memorial Hospital & 161310 & IA & Greenfield & 50849 & 19001 \\\\\n",
       "\t22 & Adams County Regional Medical Center & 361326 & OH & Seaman & 45679 & 39001 \\\\\n",
       "\t23 & Adams Memorial Hospital & 151330 & IN & Decatur & 46733 & 18001 \\\\\n",
       "\t24 & Adena Pike Medical Center & 361334 & OH & Waverly & 45690 & 39131 \\\\\n",
       "\t25 & Adena Regional Medical Center & 360159 & OH & Chillicothe & 45601 & 39141 \\\\\n",
       "\t26 & Adirondack Medical Center - Saranac Lake & 330079 & NY & Saranac Lake & 12983 & 36033 \\\\\n",
       "\t27 & Admin De Servicios Medicos  Puerto Ric & 400127 & PR & San Juan & 935 & 72127 \\\\\n",
       "\t28 & Advanced Care Hospital Of Montana & 272001 & MT & Billings & 59102 & 30111 \\\\\n",
       "\t29 & Advanced Care Hospital Of Southern New Mexico Llc & 322004 & NM & Las Cruces & 88011 & 35013 \\\\\n",
       "\t30 & Advanced Care Hospital White County & 042011 & AR & Searcy & 72143 & 5145 \\\\\n",
       "\t$\\dots$ & $\\dots$ & $\\dots$ & $\\dots$ & $\\dots$ & $\\dots$ & $\\dots$ \\\\\n",
       "\\end{tabular}\n"
      ],
      "text/plain": [
       "4922×6 DataFrame\n",
       "│ Row  │ hospital                                           │ hospital_id │ state  │ city          │ zip    │ fips_code │\n",
       "│      │ \u001b[90mString\u001b[39m                                             │ \u001b[90mString\u001b[39m      │ \u001b[90mString\u001b[39m │ \u001b[90mString?\u001b[39m       │ \u001b[90mInt64?\u001b[39m │ \u001b[90mInt64?\u001b[39m    │\n",
       "├──────┼────────────────────────────────────────────────────┼─────────────┼────────┼───────────────┼────────┼───────────┤\n",
       "│ 1    │ Abbeville Area Medical Center                      │ 421301      │ SC     │ Abbeville     │ 29620  │ 45001     │\n",
       "│ 2    │ Abbeville General Hospital                         │ 190034      │ LA     │ Abbeville     │ 70510  │ 22113     │\n",
       "│ 3    │ Abbott Northwestern Hospital                       │ 240057      │ MN     │ Minneapolis   │ 55407  │ 27053     │\n",
       "│ 4    │ Abilene Regional Medical Center                    │ 450558      │ TX     │ Abilene       │ 79606  │ 48441     │\n",
       "│ 5    │ Abington Memorial Hospital                         │ 390231      │ PA     │ Abington      │ 19001  │ 42091     │\n",
       "│ 6    │ Abraham Lincoln Memorial Hospital                  │ 141322      │ IL     │ Lincoln       │ 62656  │ 17107     │\n",
       "│ 7    │ Abrazo Arrowhead Campus                            │ 030094      │ AZ     │ Glendale      │ 85308  │ 4013      │\n",
       "│ 8    │ Abrazo Central Campus                              │ 030030      │ AZ     │ Phoenix       │ 85015  │ 4013      │\n",
       "│ 9    │ Abrazo Scottsdale Campus                           │ 030083      │ AZ     │ Phoenix       │ 85032  │ 4013      │\n",
       "│ 10   │ Abrazo West Campus                                 │ 030110      │ AZ     │ Goodyear      │ 85395  │ 4013      │\n",
       "⋮\n",
       "│ 4912 │ Yalobusha General Hospital                         │ 250061      │ MS     │ Water Valley  │ 38965  │ 28161     │\n",
       "│ 4913 │ Yavapai Regional Medical Center                    │ 030012      │ AZ     │ Prescott      │ 86301  │ 4025      │\n",
       "│ 4914 │ Yoakum Community Hospital                          │ 451346      │ TX     │ Yoakum        │ 77995  │ 48123     │\n",
       "│ 4915 │ Yoakum County Hospital                             │ 451308      │ TX     │ Denver City   │ 79323  │ 48501     │\n",
       "│ 4916 │ York General Hospital                              │ 281336      │ NE     │ York          │ 68467  │ 31185     │\n",
       "│ 4917 │ York Hospital                                      │ 200020      │ ME     │ York          │ 3909   │ 23031     │\n",
       "│ 4918 │ York Hospital                                      │ 390046      │ PA     │ York          │ 17403  │ 42133     │\n",
       "│ 4919 │ Yuma District Hospital                             │ 061315      │ CO     │ Yuma          │ 80759  │ 8125      │\n",
       "│ 4920 │ Yuma Regional Medical Center                       │ 030013      │ AZ     │ Yuma          │ 85364  │ 4027      │\n",
       "│ 4921 │ Zachary - A M G Specialty Hospital                 │ 192041      │ LA     │ Zachary       │ 70791  │ 22033     │\n",
       "│ 4922 │ Zuckerberg San Francisco General Hosp & Trauma Ctr │ 050228      │ CA     │ San Francisco │ 94110  │ 6075      │"
      ]
     },
     "execution_count": 5,
     "metadata": {},
     "output_type": "execute_result"
    }
   ],
   "source": [
    "data = select(rawdata,\n",
    "    :hospital_name => ByRow(titlecase) => :hospital,\n",
    "    :hospital_pk => :hospital_id,\n",
    "    :state,\n",
    "    :city => ByRow(x -> ismissing(x) ? x : titlecase(x)) => :city,\n",
    "    :zip,\n",
    "    :fips_code,\n",
    ")\n",
    "sort!(data, :hospital)"
   ]
  },
  {
   "cell_type": "code",
   "execution_count": 6,
   "metadata": {},
   "outputs": [
    {
     "data": {
      "text/plain": [
       "\"../data/hhs_hospital_meta.csv\""
      ]
     },
     "execution_count": 6,
     "metadata": {},
     "output_type": "execute_result"
    }
   ],
   "source": [
    "data |> CSV.write(\"../data/hhs_hospital_meta.csv\")"
   ]
  },
  {
   "cell_type": "code",
   "execution_count": null,
   "metadata": {},
   "outputs": [],
   "source": []
  }
 ],
 "metadata": {
  "@webio": {
   "lastCommId": null,
   "lastKernelId": null
  },
  "kernelspec": {
   "display_name": "Julia 1.5.3",
   "language": "julia",
   "name": "julia-1.5"
  },
  "language_info": {
   "file_extension": ".jl",
   "mimetype": "application/julia",
   "name": "julia",
   "version": "1.5.3"
  }
 },
 "nbformat": 4,
 "nbformat_minor": 4
}
