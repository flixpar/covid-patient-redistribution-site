{
 "cells": [
  {
   "cell_type": "code",
   "execution_count": 1,
   "metadata": {},
   "outputs": [],
   "source": [
    "using CSV\n",
    "using DataFrames\n",
    "using Dates\n",
    "using Distributions\n",
    "using Serialization\n",
    "using LinearAlgebra: diagm\n",
    "using JSON"
   ]
  },
  {
   "cell_type": "code",
   "execution_count": 2,
   "metadata": {},
   "outputs": [],
   "source": [
    "ENV[\"COLUMNS\"] = 1000;"
   ]
  },
  {
   "cell_type": "code",
   "execution_count": 3,
   "metadata": {},
   "outputs": [],
   "source": [
    "data_dir = \"../data/\";\n",
    "outputdatapath = \"../data/\";"
   ]
  },
  {
   "cell_type": "code",
   "execution_count": 4,
   "metadata": {},
   "outputs": [],
   "source": [
    "SCENARIOS = [:moderate];\n",
    "BEDTYPES  = [:allbeds, :icu, :acute];"
   ]
  },
  {
   "cell_type": "code",
   "execution_count": 5,
   "metadata": {},
   "outputs": [],
   "source": [
    "los_dist = (\n",
    "    allbeds = Gamma(2.244, 4.4988),\n",
    "    acute = Gamma(2.601, 3.8046),\n",
    "    icu = Gamma(1.77595, 5.9512),\n",
    ");"
   ]
  },
  {
   "cell_type": "code",
   "execution_count": 6,
   "metadata": {},
   "outputs": [],
   "source": [
    "hist_data = DataFrame(CSV.File(\"../data/data_historical.csv\"));\n",
    "initial_data = DataFrame(CSV.File(\"../data/data_initial.csv\"));\n",
    "forecast_data = DataFrame(CSV.File(\"../data/data_forecast.csv\"));\n",
    "capacity_data = DataFrame(CSV.File(\"../data/capacity.csv\"));\n",
    "metadata = DataFrame(CSV.File(\"../data/hospital_meta.csv\"));"
   ]
  },
  {
   "cell_type": "code",
   "execution_count": 7,
   "metadata": {},
   "outputs": [
    {
     "name": "stdout",
     "output_type": "stream",
     "text": [
      "(start_date, end_date) = (Date(\"2021-01-01\"), Date(\"2021-06-30\"))\n"
     ]
    }
   ],
   "source": [
    "start_date = minimum(forecast_data.date);\n",
    "end_date   = maximum(forecast_data.date);\n",
    "date_range = collect(start_date : Day(1) : end_date);\n",
    "T = length(date_range);\n",
    "@show (start_date, end_date);"
   ]
  },
  {
   "cell_type": "code",
   "execution_count": 8,
   "metadata": {},
   "outputs": [
    {
     "name": "stdout",
     "output_type": "stream",
     "text": [
      "N = 45\n"
     ]
    }
   ],
   "source": [
    "filter!(row -> row.in_forecast, metadata)\n",
    "sort!(metadata, :hospital)\n",
    "hospital_ids = metadata.hospital_id\n",
    "N = length(hospital_ids)\n",
    "@show N;"
   ]
  },
  {
   "cell_type": "code",
   "execution_count": 9,
   "metadata": {},
   "outputs": [],
   "source": [
    "capacity_names_full = [\"Base Capacity\"];\n",
    "capacity_names_abbrev = [\"baselinecap\"];"
   ]
  },
  {
   "cell_type": "code",
   "execution_count": 10,
   "metadata": {},
   "outputs": [],
   "source": [
    "function load_capacity(hospitals, bedtype, capacity_levels=[:baseline])\n",
    "    beds_dict = Dict(row.hospital_id => Dict(\n",
    "        \"icu\" => row.capacity_icu,\n",
    "        \"acute\" => row.capacity_acute,\n",
    "        \"allbeds\" => row.capacity_allbeds,\n",
    "    ) for row in eachrow(capacity_data))\n",
    "\n",
    "    if capacity_levels isa Symbol\n",
    "        capacity = [beds_dict[h][string(bedtype)] for h in hospital_ids]\n",
    "    elseif capacity_levels isa AbstractArray\n",
    "        capacity = hcat([[beds_dict[h][string(bedtype)] for h in hospital_ids] for l in capacity_levels]...)\n",
    "    else\n",
    "        error(\"Invalid capacity_levels\")\n",
    "    end\n",
    "\n",
    "    return capacity\n",
    "end;"
   ]
  },
  {
   "cell_type": "code",
   "execution_count": 11,
   "metadata": {},
   "outputs": [],
   "source": [
    "function estimate_admitted(active, los_dist)\n",
    "    T = length(active)\n",
    "    \n",
    "    initial = active[1]\n",
    "    discharged = initial .* (pdf.(los_dist, 0:T-1))\n",
    "\n",
    "    L = 1.0 .- cdf.(los_dist, 0:T)\n",
    "\n",
    "    A = [(t′ ≤ t) ? L[t-t′+1] : 0 for t in 1:T, t′ in 1:T]\n",
    "    b = [active[t] - (initial - sum(discharged[1:t])) for t in 1:T]\n",
    "    admitted = A \\ b\n",
    "    \n",
    "    return admitted\n",
    "end;\n",
    "\n",
    "function estimate_active(initial::Real, admitted::Array{<:Real,1}, los_dist)\n",
    "    T = length(admitted)\n",
    "\n",
    "    discharged = initial .* (pdf.(los_dist, 0:T-1))\n",
    "\n",
    "    L = 1.0 .- cdf.(los_dist, 0:T)\n",
    "\n",
    "    active = [(\n",
    "        initial\n",
    "        - sum(discharged[1:t])\n",
    "        + sum(L[t-t₁+1] * admitted[t₁] for t₁ in 1:t)\n",
    "    ) for t in 1:T]\n",
    "    \n",
    "    return active\n",
    "end;"
   ]
  },
  {
   "cell_type": "code",
   "execution_count": 12,
   "metadata": {},
   "outputs": [],
   "source": [
    "function estimate_active(initial::Array{<:Real,1}, admitted::Array{<:Real,2}, los_dist)\n",
    "    N, T = size(admitted)\n",
    "    active = Array{Float64,2}(undef, N, T)\n",
    "    for i in 1:N\n",
    "        active[i,:] = estimate_active(initial[i], admitted[i,:], los_dist)\n",
    "    end\n",
    "    return active\n",
    "end;"
   ]
  },
  {
   "cell_type": "code",
   "execution_count": 13,
   "metadata": {},
   "outputs": [],
   "source": [
    "isbad(x) = isnothing(x) || ismissing(x) || isnan(x) || isinf(x);\n",
    "isnbad(x) = !(isbad(x));"
   ]
  },
  {
   "cell_type": "code",
   "execution_count": 14,
   "metadata": {},
   "outputs": [],
   "source": [
    "skipbad(xs) = filter(isnbad, xs);"
   ]
  },
  {
   "cell_type": "code",
   "execution_count": 15,
   "metadata": {},
   "outputs": [],
   "source": [
    "firstval(xs) = xs[findfirst(isnbad, xs)];\n",
    "lastval(xs) = xs[findlast(isnbad, xs)];"
   ]
  },
  {
   "cell_type": "code",
   "execution_count": 16,
   "metadata": {},
   "outputs": [],
   "source": [
    "function interpolate_missing(xs::Array{Union{Float64,Missing},2})\n",
    "    output = Array{Float64,2}(undef, size(xs)...)\n",
    "    for i in 1:size(xs,1)\n",
    "        output[i,:] = interpolate_missing(xs[i,:])\n",
    "    end\n",
    "    return output\n",
    "end;\n",
    "\n",
    "function interpolate_missing(xs::Array{Union{Float64,Missing},1})\n",
    "    if all(isbad.(xs))\n",
    "        return zeros(Float64, length(xs))\n",
    "    end\n",
    "    \n",
    "    xs = deepcopy(xs)\n",
    "    for i in 1:length(xs)\n",
    "        if isbad(xs[i])\n",
    "            a = findprev(isnbad, xs, i)\n",
    "            b = findnext(isnbad, xs, i)\n",
    "            \n",
    "            a = isnothing(a) ? b : a\n",
    "            b = isnothing(b) ? a : b\n",
    "            \n",
    "            m = (a==b) ? 0 : ((xs[b]-xs[a]) / (b-a))\n",
    "            xs[i] = (m * (i-a)) + xs[a]\n",
    "        end\n",
    "    end\n",
    "    return xs\n",
    "end;"
   ]
  },
  {
   "cell_type": "code",
   "execution_count": 17,
   "metadata": {},
   "outputs": [],
   "source": [
    "function load_data(scenario, bedtype)\n",
    "    @assert(bedtype in [:icu, :acute, :allbeds])\n",
    "    @assert(scenario in [:optimistic, :moderate, :pessimistic, :catastrophic])\n",
    "\n",
    "    forecast_dict = Dict((row.hospital_id, row.date) => row[\"admissions_$(bedtype)\"] for row in eachrow(forecast_data))\n",
    "    initial_dict = Dict(row.hospital_id => row[\"active_$(bedtype)\"] for row in eachrow(initial_data))\n",
    "    \n",
    "    admitted = [forecast_dict[(h,d)] for h in hospital_ids, d in date_range]\n",
    "    initial = [initial_dict[h] for h in hospital_ids]\n",
    "    \n",
    "    active = estimate_active(initial, admitted, los_dist[bedtype])\n",
    "\n",
    "    admitted_uncertainty = 0.15 .* admitted\n",
    "\n",
    "    beds = load_capacity(hospital_ids, bedtype, :baseline)\n",
    "    capacity = load_capacity(hospital_ids, bedtype, [:baseline,])\n",
    "\n",
    "    data = (\n",
    "        scenario = scenario,\n",
    "        bedtype = bedtype,\n",
    "\n",
    "        los_dist = los_dist[bedtype],\n",
    "\n",
    "        active = active,\n",
    "        admitted = admitted,\n",
    "        admitted_uncertainty = admitted_uncertainty,\n",
    "\n",
    "        beds = beds,\n",
    "        capacity = capacity,\n",
    "    )\n",
    "\n",
    "    return data\n",
    "end;"
   ]
  },
  {
   "cell_type": "code",
   "execution_count": 18,
   "metadata": {},
   "outputs": [
    {
     "name": "stdout",
     "output_type": "stream",
     "text": [
      "(scenario, bedtype) = (:moderate, :allbeds)\n",
      "(scenario, bedtype) = (:moderate, :icu)\n",
      "(scenario, bedtype) = (:moderate, :acute)\n"
     ]
    }
   ],
   "source": [
    "maindata = Dict()\n",
    "for scenario in SCENARIOS, bedtype in BEDTYPES\n",
    "    @show (scenario, bedtype)\n",
    "    maindata[(scenario,bedtype)] = load_data(scenario, bedtype)\n",
    "end"
   ]
  },
  {
   "cell_type": "code",
   "execution_count": 19,
   "metadata": {},
   "outputs": [],
   "source": [
    "hospital_meta = [(\n",
    "    name = row.hospital,\n",
    "    id = row.hospital_id,\n",
    "    index = findfirst(==(row.hospital_id), hospital_ids),\n",
    "    state = row.state,\n",
    "    state_abbrev = row.state_abbrev,\n",
    "    zipcode = row.zipcode,\n",
    "    city = row.city,\n",
    "    county = row.county,\n",
    "    lat = row.lat, long = row.long,\n",
    "    hsa_name = row.hsa_name,\n",
    "    hsa_id = string(row.hsa_id),\n",
    "    hrr_name = row.hrr_name,\n",
    "    hrr_id = string(row.hrr_id),\n",
    "    healthcare_region = row.healthcare_region,\n",
    ") for row in eachrow(metadata)];"
   ]
  },
  {
   "cell_type": "code",
   "execution_count": 20,
   "metadata": {},
   "outputs": [],
   "source": [
    "hospital_names = [h.name for h in hospital_meta];\n",
    "hospital_identifiers = [h.id for h in hospital_meta];"
   ]
  },
  {
   "cell_type": "code",
   "execution_count": 21,
   "metadata": {},
   "outputs": [],
   "source": [
    "hospital_positions = Dict(h.id => (\n",
    "        lat  = h.lat,\n",
    "        long = h.long,\n",
    "    )\n",
    "    for h in hospital_meta\n",
    ");"
   ]
  },
  {
   "cell_type": "code",
   "execution_count": 22,
   "metadata": {},
   "outputs": [],
   "source": [
    "completedata = (\n",
    "    location_ids = hospital_identifiers,\n",
    "    location_names = hospital_names,\n",
    "    location_meta = hospital_meta,\n",
    "    start_date = start_date,\n",
    "    end_date = end_date,\n",
    "    locations_latlong = hospital_positions,\n",
    "    casesdata = maindata,\n",
    ");"
   ]
  },
  {
   "cell_type": "code",
   "execution_count": 23,
   "metadata": {},
   "outputs": [],
   "source": [
    "serialize(joinpath(outputdatapath, \"data.jlser\"), completedata);"
   ]
  },
  {
   "cell_type": "code",
   "execution_count": null,
   "metadata": {},
   "outputs": [],
   "source": []
  }
 ],
 "metadata": {
  "@webio": {
   "lastCommId": null,
   "lastKernelId": null
  },
  "kernelspec": {
   "display_name": "Julia 1.5.3",
   "language": "julia",
   "name": "julia-1.5"
  },
  "language_info": {
   "file_extension": ".jl",
   "mimetype": "application/julia",
   "name": "julia",
   "version": "1.5.3"
  }
 },
 "nbformat": 4,
 "nbformat_minor": 4
}
