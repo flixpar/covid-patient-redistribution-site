{
 "cells": [
  {
   "cell_type": "code",
   "execution_count": 1,
   "metadata": {},
   "outputs": [],
   "source": [
    "using DataFrames\n",
    "using CSV"
   ]
  },
  {
   "cell_type": "code",
   "execution_count": 2,
   "metadata": {},
   "outputs": [],
   "source": [
    "ENV[\"COLUMNS\"] = 1000;"
   ]
  },
  {
   "cell_type": "code",
   "execution_count": 3,
   "metadata": {},
   "outputs": [
    {
     "data": {
      "text/html": [
       "<table class=\"data-frame\"><thead><tr><th></th><th>hospital</th><th>zipcode</th></tr><tr><th></th><th>String</th><th>Int64?</th></tr></thead><tbody><p>4,769 rows × 2 columns</p><tr><th>1</th><td>Surgery Center Of Zachary</td><td>70791</td></tr><tr><th>2</th><td>Healthpromed</td><td>775</td></tr><tr><th>3</th><td>Hospital San Antonio</td><td>680</td></tr><tr><th>4</th><td>Cdt Susana Centeno</td><td>765</td></tr><tr><th>5</th><td>Centro Medico Correccional De Bayamon</td><td>960</td></tr><tr><th>6</th><td>Crescent City Surgical Centre</td><td>70118</td></tr><tr><th>7</th><td>El Paso Ltac Hospital</td><td>79902</td></tr><tr><th>8</th><td>Alexandria Emergency Hospital</td><td>71303</td></tr><tr><th>9</th><td>Hospital Industrial C.F.S.E</td><td>935</td></tr><tr><th>10</th><td>Elite Medical Center</td><td>89109</td></tr><tr><th>11</th><td>Prattville Baptist Hospital</td><td>36067</td></tr><tr><th>12</th><td>Thomas Hospital</td><td>36532</td></tr><tr><th>13</th><td>South Baldwin Regional Medical Center</td><td>36535</td></tr><tr><th>14</th><td>North Baldwin Infirmary</td><td>36507</td></tr><tr><th>15</th><td>Medical Center Barbour</td><td>36027</td></tr><tr><th>16</th><td>Bibb Medical Center</td><td>35042</td></tr><tr><th>17</th><td>St Vincents Blount</td><td>35121</td></tr><tr><th>18</th><td>Bullock County Hospital</td><td>36089</td></tr><tr><th>19</th><td>Regional Medical Center Of Central Alabama</td><td>36037</td></tr><tr><th>20</th><td>Noland Hospital Anniston Ii, Llc</td><td>36202</td></tr><tr><th>21</th><td>Stringfellow Memorial Hospital</td><td>36201</td></tr><tr><th>22</th><td>Northeast Alabama Regional Medical Center</td><td>36207</td></tr><tr><th>23</th><td>Eamc - Lanier</td><td>36854</td></tr><tr><th>24</th><td>Floyd Cherokee Medical Center</td><td>35960</td></tr><tr><th>25</th><td>St Vincent'S Chilton</td><td>35045</td></tr><tr><th>26</th><td>Choctaw General Hospital</td><td>36904</td></tr><tr><th>27</th><td>Grove Hill Memorial Hospital</td><td>36451</td></tr><tr><th>28</th><td>Thomasville Regional Medical Center</td><td>36784</td></tr><tr><th>29</th><td>Jackson Medical Center</td><td>36545</td></tr><tr><th>30</th><td>Clay County Hospital</td><td>36251</td></tr><tr><th>&vellip;</th><td>&vellip;</td><td>&vellip;</td></tr></tbody></table>"
      ],
      "text/latex": [
       "\\begin{tabular}{r|cc}\n",
       "\t& hospital & zipcode\\\\\n",
       "\t\\hline\n",
       "\t& String & Int64?\\\\\n",
       "\t\\hline\n",
       "\t1 & Surgery Center Of Zachary & 70791 \\\\\n",
       "\t2 & Healthpromed & 775 \\\\\n",
       "\t3 & Hospital San Antonio & 680 \\\\\n",
       "\t4 & Cdt Susana Centeno & 765 \\\\\n",
       "\t5 & Centro Medico Correccional De Bayamon & 960 \\\\\n",
       "\t6 & Crescent City Surgical Centre & 70118 \\\\\n",
       "\t7 & El Paso Ltac Hospital & 79902 \\\\\n",
       "\t8 & Alexandria Emergency Hospital & 71303 \\\\\n",
       "\t9 & Hospital Industrial C.F.S.E & 935 \\\\\n",
       "\t10 & Elite Medical Center & 89109 \\\\\n",
       "\t11 & Prattville Baptist Hospital & 36067 \\\\\n",
       "\t12 & Thomas Hospital & 36532 \\\\\n",
       "\t13 & South Baldwin Regional Medical Center & 36535 \\\\\n",
       "\t14 & North Baldwin Infirmary & 36507 \\\\\n",
       "\t15 & Medical Center Barbour & 36027 \\\\\n",
       "\t16 & Bibb Medical Center & 35042 \\\\\n",
       "\t17 & St Vincents Blount & 35121 \\\\\n",
       "\t18 & Bullock County Hospital & 36089 \\\\\n",
       "\t19 & Regional Medical Center Of Central Alabama & 36037 \\\\\n",
       "\t20 & Noland Hospital Anniston Ii, Llc & 36202 \\\\\n",
       "\t21 & Stringfellow Memorial Hospital & 36201 \\\\\n",
       "\t22 & Northeast Alabama Regional Medical Center & 36207 \\\\\n",
       "\t23 & Eamc - Lanier & 36854 \\\\\n",
       "\t24 & Floyd Cherokee Medical Center & 35960 \\\\\n",
       "\t25 & St Vincent'S Chilton & 35045 \\\\\n",
       "\t26 & Choctaw General Hospital & 36904 \\\\\n",
       "\t27 & Grove Hill Memorial Hospital & 36451 \\\\\n",
       "\t28 & Thomasville Regional Medical Center & 36784 \\\\\n",
       "\t29 & Jackson Medical Center & 36545 \\\\\n",
       "\t30 & Clay County Hospital & 36251 \\\\\n",
       "\t$\\dots$ & $\\dots$ & $\\dots$ \\\\\n",
       "\\end{tabular}\n"
      ],
      "text/plain": [
       "4769×2 DataFrame\n",
       "│ Row  │ hospital                                     │ zipcode │\n",
       "│      │ \u001b[90mString\u001b[39m                                       │ \u001b[90mInt64?\u001b[39m  │\n",
       "├──────┼──────────────────────────────────────────────┼─────────┤\n",
       "│ 1    │ Surgery Center Of Zachary                    │ 70791   │\n",
       "│ 2    │ Healthpromed                                 │ 775     │\n",
       "│ 3    │ Hospital San Antonio                         │ 680     │\n",
       "│ 4    │ Cdt Susana Centeno                           │ 765     │\n",
       "│ 5    │ Centro Medico Correccional De Bayamon        │ 960     │\n",
       "│ 6    │ Crescent City Surgical Centre                │ 70118   │\n",
       "│ 7    │ El Paso Ltac Hospital                        │ 79902   │\n",
       "│ 8    │ Alexandria Emergency Hospital                │ 71303   │\n",
       "│ 9    │ Hospital Industrial C.F.S.E                  │ 935     │\n",
       "│ 10   │ Elite Medical Center                         │ 89109   │\n",
       "⋮\n",
       "│ 4759 │ Honorhealth Sonoran Emergency Center         │ \u001b[90mmissing\u001b[39m │\n",
       "│ 4760 │ Elmendorf                                    │ 99506   │\n",
       "│ 4761 │ Promedica Herrick Hospital                   │ 49286   │\n",
       "│ 4762 │ Orthopedic Specialty Hospital Of Nevada      │ 89148   │\n",
       "│ 4763 │ Care One At Hackensack Umc At Pascack Valley │ \u001b[90mmissing\u001b[39m │\n",
       "│ 4764 │ Kaiser Permanente San Diego Medical Center   │ 92123   │\n",
       "│ 4765 │ Glendora Oaks Behavioral Health Hospital     │ 91740   │\n",
       "│ 4766 │ Southwest Georgia Regional Medical Center    │ 39840   │\n",
       "│ 4767 │ Encompass Health Rehabilitation Center       │ 79606   │\n",
       "│ 4768 │ Knox Co. Hospital District                   │ 79529   │\n",
       "│ 4769 │ Sanford Childrens Hospital - Fargo           │ 58104   │"
      ]
     },
     "execution_count": 3,
     "metadata": {},
     "output_type": "execute_result"
    }
   ],
   "source": [
    "rawdata = DataFrame(CSV.File(\"../rawdata/reported_hospital_capacity_admissions_facility_level_weekly_average_timeseries_20201221_0.csv\"));\n",
    "data = select(rawdata,\n",
    "    :hospital_name => ByRow(titlecase) => :hospital,\n",
    "    :zip => :zipcode,\n",
    ");\n",
    "data = combine(groupby(data, :hospital), :zipcode => (x -> x[1]) => :zipcode)"
   ]
  },
  {
   "cell_type": "code",
   "execution_count": 4,
   "metadata": {},
   "outputs": [],
   "source": [
    "zipcodedata = DataFrame(CSV.File(\"../rawdata/zipcodes.csv\"))\n",
    "zipcode_lookup = Dict(row.ZIP => (lat=row.LAT, long=row.LNG) for row in eachrow(zipcodedata));"
   ]
  },
  {
   "cell_type": "code",
   "execution_count": 5,
   "metadata": {},
   "outputs": [],
   "source": [
    "latlongs = [haskey(zipcode_lookup,z) ? zipcode_lookup[z] : (lat=-1,long=-1) for z in data.zipcode];\n",
    "lats = [l.lat for l in latlongs];\n",
    "longs = [l.long for l in latlongs];"
   ]
  },
  {
   "cell_type": "code",
   "execution_count": 6,
   "metadata": {},
   "outputs": [
    {
     "data": {
      "text/plain": [
       "0.03292094778779618"
      ]
     },
     "execution_count": 6,
     "metadata": {},
     "output_type": "execute_result"
    }
   ],
   "source": [
    "count(lats .== -1) / length(lats)"
   ]
  },
  {
   "cell_type": "code",
   "execution_count": 7,
   "metadata": {},
   "outputs": [],
   "source": [
    "mean(xs) = sum(xs) / length(xs);"
   ]
  },
  {
   "cell_type": "code",
   "execution_count": 8,
   "metadata": {},
   "outputs": [],
   "source": [
    "lats = [(l == -1) ? mean(lats) : l for l in lats];\n",
    "longs = [(l == -1) ? mean(longs) : l for l in longs];"
   ]
  },
  {
   "cell_type": "code",
   "execution_count": 9,
   "metadata": {},
   "outputs": [],
   "source": [
    "data.lat = lats;\n",
    "data.long = longs;"
   ]
  },
  {
   "cell_type": "code",
   "execution_count": 10,
   "metadata": {},
   "outputs": [
    {
     "data": {
      "text/plain": [
       "\"../data/hhs_locations.csv\""
      ]
     },
     "execution_count": 10,
     "metadata": {},
     "output_type": "execute_result"
    }
   ],
   "source": [
    "data |> CSV.write(\"../data/hhs_locations.csv\")"
   ]
  },
  {
   "cell_type": "code",
   "execution_count": null,
   "metadata": {},
   "outputs": [],
   "source": []
  }
 ],
 "metadata": {
  "@webio": {
   "lastCommId": null,
   "lastKernelId": null
  },
  "kernelspec": {
   "display_name": "Julia 1.5.3",
   "language": "julia",
   "name": "julia-1.5"
  },
  "language_info": {
   "file_extension": ".jl",
   "mimetype": "application/julia",
   "name": "julia",
   "version": "1.5.3"
  }
 },
 "nbformat": 4,
 "nbformat_minor": 4
}
