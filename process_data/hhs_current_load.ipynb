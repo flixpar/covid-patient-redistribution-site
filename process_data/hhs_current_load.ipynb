{
 "cells": [
  {
   "cell_type": "code",
   "execution_count": 1,
   "metadata": {},
   "outputs": [],
   "source": [
    "using CSV\n",
    "using DataFrames\n",
    "using Serialization\n",
    "using Dates"
   ]
  },
  {
   "cell_type": "code",
   "execution_count": 2,
   "metadata": {},
   "outputs": [],
   "source": [
    "ENV[\"COLUMNS\"] = 1000;"
   ]
  },
  {
   "cell_type": "code",
   "execution_count": 3,
   "metadata": {},
   "outputs": [],
   "source": [
    "rawdata = DataFrame(CSV.File(\"../rawdata/reported_hospital_capacity_admissions_facility_level_weekly_average_timeseries_20210214.csv\"));"
   ]
  },
  {
   "cell_type": "code",
   "execution_count": 4,
   "metadata": {},
   "outputs": [],
   "source": [
    "bad_ids = begin\n",
    "    id_counts = combine(groupby(rawdata, :hospital_pk), :hospital_name => (x -> length(unique(x))) => :n_names)\n",
    "    filter!(x -> x.n_names > 1, id_counts)\n",
    "    unique(id_counts.hospital_pk)\n",
    "end\n",
    "filter!(row -> !(row.hospital_pk in bad_ids), rawdata);"
   ]
  },
  {
   "cell_type": "code",
   "execution_count": 5,
   "metadata": {},
   "outputs": [],
   "source": [
    "findmissing(x) = (ismissing(x) || x == -999999) ? missing : x;"
   ]
  },
  {
   "cell_type": "code",
   "execution_count": 6,
   "metadata": {},
   "outputs": [],
   "source": [
    "data_weekly = select(rawdata,\n",
    "    :hospital_name => :hospital,\n",
    "    :hospital_pk => :hospital_id,\n",
    "    :collection_week => :date,\n",
    "    \n",
    "    :all_adult_hospital_inpatient_beds_7_day_avg => ByRow(findmissing) => :total_beds,\n",
    "    :all_adult_hospital_inpatient_bed_occupied_7_day_avg => ByRow(findmissing) => :total_occupancy,\n",
    "    \n",
    "    :total_staffed_adult_icu_beds_7_day_avg => ByRow(findmissing) => :icu_beds,\n",
    "    :staffed_adult_icu_bed_occupancy_7_day_avg => ByRow(findmissing) => :icu_occupancy,\n",
    ");\n",
    "sort!(data_weekly, [:hospital, :hospital_id, :date]);"
   ]
  },
  {
   "cell_type": "code",
   "execution_count": 7,
   "metadata": {},
   "outputs": [],
   "source": [
    "function latest_val(xs)\n",
    "    xs = filter(x -> !ismissing(x), xs)\n",
    "    z = length(xs) == 0 ? missing : xs[end]\n",
    "    z = coalesce(z, 0)\n",
    "    return z\n",
    "end;"
   ]
  },
  {
   "cell_type": "code",
   "execution_count": 8,
   "metadata": {},
   "outputs": [],
   "source": [
    "data_latest = combine(groupby(data_weekly, [:hospital, :hospital_id]), [\n",
    "    :total_beds => latest_val => :total_beds,\n",
    "    :total_occupancy => latest_val => :total_occupancy,\n",
    "    :icu_beds => latest_val => :icu_beds,\n",
    "    :icu_occupancy => latest_val => :icu_occupancy,\n",
    "]);"
   ]
  },
  {
   "cell_type": "code",
   "execution_count": 9,
   "metadata": {},
   "outputs": [],
   "source": [
    "compute_load(a,b) = (a==0) ? 0.0 : (b==0) ? 1.0 : a/b;"
   ]
  },
  {
   "cell_type": "code",
   "execution_count": 10,
   "metadata": {},
   "outputs": [],
   "source": [
    "insertcols!(data_latest, 5, :total_load => compute_load.(data_latest.total_occupancy, data_latest.total_beds));\n",
    "insertcols!(data_latest, 8, :icu_load => compute_load.(data_latest.icu_occupancy, data_latest.icu_beds));"
   ]
  },
  {
   "cell_type": "code",
   "execution_count": 11,
   "metadata": {},
   "outputs": [],
   "source": [
    "metadata = DataFrame(CSV.File(\"../data/hhs_hospital_meta.csv\"));"
   ]
  },
  {
   "cell_type": "code",
   "execution_count": 12,
   "metadata": {},
   "outputs": [],
   "source": [
    "hospital_locations_data = DataFrame(CSV.File(\"../data/hhs_hospital_locations.csv\"))\n",
    "select!(hospital_locations_data, :hospital_id, :lat, :long);"
   ]
  },
  {
   "cell_type": "code",
   "execution_count": 13,
   "metadata": {},
   "outputs": [],
   "source": [
    "data_combined_all = leftjoin(data_latest, metadata, on=:hospital_id, makeunique=true);\n",
    "data_combined_all = leftjoin(data_combined_all, hospital_locations_data, on=:hospital_id);"
   ]
  },
  {
   "cell_type": "code",
   "execution_count": 14,
   "metadata": {},
   "outputs": [],
   "source": [
    "data_combined_all.lat = coalesce.(data_combined_all.lat, 0.0);\n",
    "data_combined_all.long = coalesce.(data_combined_all.long, 0.0);"
   ]
  },
  {
   "cell_type": "code",
   "execution_count": 15,
   "metadata": {},
   "outputs": [
    {
     "data": {
      "text/html": [
       "<table class=\"data-frame\"><thead><tr><th></th><th>hospital</th><th>hhsname</th><th>hospital_id</th><th>lat</th><th>long</th><th>total_beds</th><th>total_occupancy</th><th>total_load</th><th>icu_beds</th><th>icu_occupancy</th><th>icu_load</th></tr><tr><th></th><th>String?</th><th>String</th><th>String</th><th>Float64</th><th>Float64</th><th>Float64</th><th>Float64</th><th>Float64</th><th>Float64</th><th>Float64</th><th>Float64</th></tr></thead><tbody><p>4,923 rows × 11 columns</p><tr><th>1</th><td>Abbeville Area Medical Center</td><td>ABBEVILLE AREA MEDICAL CENTER</td><td>421301</td><td>34.1579</td><td>-82.3815</td><td>18.0</td><td>10.9</td><td>0.605556</td><td>0.0</td><td>0.0</td><td>0.0</td></tr><tr><th>2</th><td>Abbeville General Hospital</td><td>ABBEVILLE GENERAL HOSPITAL</td><td>190034</td><td>29.9737</td><td>-92.1077</td><td>34.3</td><td>18.9</td><td>0.55102</td><td>6.3</td><td>5.0</td><td>0.793651</td></tr><tr><th>3</th><td>Abbott Northwestern Hospital</td><td>ABBOTT NORTHWESTERN HOSPITAL</td><td>240057</td><td>44.9526</td><td>-93.262</td><td>419.1</td><td>383.0</td><td>0.913863</td><td>39.4</td><td>39.3</td><td>0.997462</td></tr><tr><th>4</th><td>Abilene Regional Medical Center</td><td>ABILENE REGIONAL MEDICAL CENTER</td><td>450558</td><td>32.3747</td><td>-99.744</td><td>103.6</td><td>98.6</td><td>0.951737</td><td>16.7</td><td>16.7</td><td>1.0</td></tr><tr><th>5</th><td>Abington Memorial Hospital</td><td>ABINGTON MEMORIAL HOSPITAL</td><td>390231</td><td>40.1191</td><td>-75.1199</td><td>525.0</td><td>432.7</td><td>0.82419</td><td>60.1</td><td>49.0</td><td>0.815308</td></tr><tr><th>6</th><td>Abraham Lincoln Memorial Hospital</td><td>ABRAHAM LINCOLN MEMORIAL HOSPITAL</td><td>141322</td><td>40.1535</td><td>-89.39</td><td>25.0</td><td>16.7</td><td>0.668</td><td>0.0</td><td>0.0</td><td>0.0</td></tr><tr><th>7</th><td>Abrazo Arrowhead Campus</td><td>ABRAZO ARROWHEAD CAMPUS</td><td>030094</td><td>33.6544</td><td>-112.202</td><td>218.4</td><td>218.4</td><td>1.0</td><td>42.1</td><td>41.3</td><td>0.980998</td></tr><tr><th>8</th><td>Abrazo Central Campus</td><td>ABRAZO CENTRAL CAMPUS</td><td>030030</td><td>33.5256</td><td>-112.102</td><td>130.0</td><td>130.0</td><td>1.0</td><td>31.7</td><td>31.4</td><td>0.990536</td></tr><tr><th>9</th><td>Abrazo Scottsdale Campus</td><td>ABRAZO SCOTTSDALE CAMPUS</td><td>030083</td><td>33.6393</td><td>-111.998</td><td>73.1</td><td>73.1</td><td>1.0</td><td>13.9</td><td>10.4</td><td>0.748201</td></tr><tr><th>10</th><td>Abrazo West Campus</td><td>ABRAZO WEST CAMPUS</td><td>030110</td><td>33.4626</td><td>-112.352</td><td>196.1</td><td>196.1</td><td>1.0</td><td>49.0</td><td>30.7</td><td>0.626531</td></tr><tr><th>11</th><td>Abrom Kaplan Memorial Hospital</td><td>ABROM KAPLAN MEMORIAL HOSPITAL</td><td>191322</td><td>30.0081</td><td>-92.2971</td><td>29.0</td><td>8.0</td><td>0.275862</td><td>0.0</td><td>0.0</td><td>0.0</td></tr><tr><th>12</th><td>Acadia General Hospital</td><td>ACADIA GENERAL HOSPITAL</td><td>190044</td><td>30.226</td><td>-92.3636</td><td>82.0</td><td>52.9</td><td>0.645122</td><td>8.0</td><td>7.4</td><td>0.925</td></tr><tr><th>13</th><td>Acadia St. Landry</td><td>ACADIA ST LANDRY</td><td>191319</td><td>30.3953</td><td>-92.2112</td><td>15.0</td><td>7.0</td><td>0.466667</td><td>0.0</td><td>0.0</td><td>0.0</td></tr><tr><th>14</th><td>Acadian Medical Center</td><td>ACADIAN MEDICAL CENTER</td><td>190318</td><td>30.4967</td><td>-92.3863</td><td>32.0</td><td>22.9</td><td>0.715625</td><td>4.0</td><td>4.0</td><td>1.0</td></tr><tr><th>15</th><td>A.C.M.H. Hospital</td><td>ACMH HOSPITAL</td><td>390163</td><td>40.8086</td><td>-79.5615</td><td>45.3</td><td>42.7</td><td>0.942605</td><td>6.4</td><td>6.1</td><td>0.953125</td></tr><tr><th>16</th><td>Acuity Specialty Hospital Of Morgantown</td><td>ACUITY SPECIALTY HOSPITAL OF MORGANTOWN</td><td>512004</td><td>0.0</td><td>0.0</td><td>22.0</td><td>22.0</td><td>1.0</td><td>10.0</td><td>10.0</td><td>1.0</td></tr><tr><th>17</th><td>Acuity Specialty Hospital of New Jersey</td><td>ACUITY SPECIALTY HOSPITAL OF NEW JERSEY</td><td>312023</td><td>39.3583</td><td>-74.4343</td><td>30.0</td><td>20.7</td><td>0.69</td><td>0.0</td><td>0.0</td><td>0.0</td></tr><tr><th>18</th><td>Acuity Specialty Hospital of Southern New Jersey</td><td>ACUITY SPECIALTY HOSPITAL OF SOUTHERN NEW JERSEY</td><td>312022</td><td>40.0466</td><td>-74.8808</td><td>69.0</td><td>41.0</td><td>0.594203</td><td>0.0</td><td>0.0</td><td>0.0</td></tr><tr><th>19</th><td>Acuity Specialty Hospital Ohio Valley</td><td>ACUITY SPECIALTY HOSPITAL OHIO VALLEY</td><td>512005</td><td>40.3956</td><td>-80.528</td><td>19.0</td><td>6.0</td><td>0.315789</td><td>9.0</td><td>0.0</td><td>0.0</td></tr><tr><th>20</th><td>AD Hospital East, L.L.C.</td><td>AD HOSPITAL EAST, LLC</td><td>670102</td><td>29.7706</td><td>-95.2004</td><td>19.7</td><td>7.1</td><td>0.360406</td><td>0.0</td><td>0.0</td><td>0.0</td></tr><tr><th>21</th><td>Adair County Memorial Hospital</td><td>ADAIR COUNTY MEMORIAL HOSPITAL</td><td>161310</td><td>41.3037</td><td>-94.4518</td><td>5.0</td><td>0.0</td><td>0.0</td><td>0.0</td><td>0.0</td><td>0.0</td></tr><tr><th>22</th><td>Adams County Regional Medical Center</td><td>ADAMS COUNTY REGIONAL MEDICAL CENTER</td><td>361326</td><td>38.9338</td><td>-83.5846</td><td>25.0</td><td>15.3</td><td>0.612</td><td>0.0</td><td>0.0</td><td>0.0</td></tr><tr><th>23</th><td>Adams Memorial Hospital</td><td>ADAMS MEMORIAL HOSPITAL</td><td>151330</td><td>40.8169</td><td>-84.9144</td><td>36.0</td><td>14.6</td><td>0.405556</td><td>6.0</td><td>4.4</td><td>0.733333</td></tr><tr><th>24</th><td>Adena Pike Medical Center</td><td>ADENA PIKE MEDICAL CENTER</td><td>361334</td><td>39.1163</td><td>-83.0042</td><td>25.0</td><td>22.9</td><td>0.916</td><td>0.0</td><td>0.0</td><td>0.0</td></tr><tr><th>25</th><td>Adena Regional Medical Center</td><td>ADENA REGIONAL MEDICAL CENTER</td><td>360159</td><td>39.3962</td><td>-82.9683</td><td>182.0</td><td>146.9</td><td>0.807143</td><td>12.0</td><td>11.0</td><td>0.916667</td></tr><tr><th>26</th><td>Adirondack Medical Center – Saranac Lake</td><td>ADIRONDACK MEDICAL CENTER - SARANAC LAKE</td><td>330079</td><td>44.3455</td><td>-74.1435</td><td>60.0</td><td>24.0</td><td>0.4</td><td>8.0</td><td>4.0</td><td>0.5</td></tr><tr><th>27</th><td>Admin De Servicios Médicos Puerto Rico</td><td>ADMIN DE SERVICIOS MEDICOS  PUERTO RIC</td><td>400127</td><td>18.45</td><td>-66.06</td><td>83.6</td><td>67.3</td><td>0.805024</td><td>26.4</td><td>26.4</td><td>1.0</td></tr><tr><th>28</th><td>Advanced Care Hospital of Montana</td><td>ADVANCED CARE HOSPITAL OF MONTANA</td><td>272001</td><td>45.7432</td><td>-108.605</td><td>40.0</td><td>38.9</td><td>0.9725</td><td>0.0</td><td>0.0</td><td>0.0</td></tr><tr><th>29</th><td>Advanced Care Hospital of Southern New Mexico</td><td>ADVANCED CARE HOSPITAL OF SOUTHERN NEW MEXICO LLC</td><td>322004</td><td>32.3261</td><td>-106.725</td><td>20.0</td><td>18.7</td><td>0.935</td><td>0.0</td><td>0.0</td><td>0.0</td></tr><tr><th>30</th><td>Advanced Care Hospital of White County</td><td>ADVANCED CARE HOSPITAL WHITE COUNTY</td><td>042011</td><td>35.2339</td><td>-91.732</td><td>27.0</td><td>11.3</td><td>0.418519</td><td>27.0</td><td>11.3</td><td>0.418519</td></tr><tr><th>&vellip;</th><td>&vellip;</td><td>&vellip;</td><td>&vellip;</td><td>&vellip;</td><td>&vellip;</td><td>&vellip;</td><td>&vellip;</td><td>&vellip;</td><td>&vellip;</td><td>&vellip;</td><td>&vellip;</td></tr></tbody></table>"
      ],
      "text/latex": [
       "\\begin{tabular}{r|ccccccccccc}\n",
       "\t& hospital & hhsname & hospital\\_id & lat & long & total\\_beds & total\\_occupancy & total\\_load & icu\\_beds & icu\\_occupancy & icu\\_load\\\\\n",
       "\t\\hline\n",
       "\t& String? & String & String & Float64 & Float64 & Float64 & Float64 & Float64 & Float64 & Float64 & Float64\\\\\n",
       "\t\\hline\n",
       "\t1 & Abbeville Area Medical Center & ABBEVILLE AREA MEDICAL CENTER & 421301 & 34.1579 & -82.3815 & 18.0 & 10.9 & 0.605556 & 0.0 & 0.0 & 0.0 \\\\\n",
       "\t2 & Abbeville General Hospital & ABBEVILLE GENERAL HOSPITAL & 190034 & 29.9737 & -92.1077 & 34.3 & 18.9 & 0.55102 & 6.3 & 5.0 & 0.793651 \\\\\n",
       "\t3 & Abbott Northwestern Hospital & ABBOTT NORTHWESTERN HOSPITAL & 240057 & 44.9526 & -93.262 & 419.1 & 383.0 & 0.913863 & 39.4 & 39.3 & 0.997462 \\\\\n",
       "\t4 & Abilene Regional Medical Center & ABILENE REGIONAL MEDICAL CENTER & 450558 & 32.3747 & -99.744 & 103.6 & 98.6 & 0.951737 & 16.7 & 16.7 & 1.0 \\\\\n",
       "\t5 & Abington Memorial Hospital & ABINGTON MEMORIAL HOSPITAL & 390231 & 40.1191 & -75.1199 & 525.0 & 432.7 & 0.82419 & 60.1 & 49.0 & 0.815308 \\\\\n",
       "\t6 & Abraham Lincoln Memorial Hospital & ABRAHAM LINCOLN MEMORIAL HOSPITAL & 141322 & 40.1535 & -89.39 & 25.0 & 16.7 & 0.668 & 0.0 & 0.0 & 0.0 \\\\\n",
       "\t7 & Abrazo Arrowhead Campus & ABRAZO ARROWHEAD CAMPUS & 030094 & 33.6544 & -112.202 & 218.4 & 218.4 & 1.0 & 42.1 & 41.3 & 0.980998 \\\\\n",
       "\t8 & Abrazo Central Campus & ABRAZO CENTRAL CAMPUS & 030030 & 33.5256 & -112.102 & 130.0 & 130.0 & 1.0 & 31.7 & 31.4 & 0.990536 \\\\\n",
       "\t9 & Abrazo Scottsdale Campus & ABRAZO SCOTTSDALE CAMPUS & 030083 & 33.6393 & -111.998 & 73.1 & 73.1 & 1.0 & 13.9 & 10.4 & 0.748201 \\\\\n",
       "\t10 & Abrazo West Campus & ABRAZO WEST CAMPUS & 030110 & 33.4626 & -112.352 & 196.1 & 196.1 & 1.0 & 49.0 & 30.7 & 0.626531 \\\\\n",
       "\t11 & Abrom Kaplan Memorial Hospital & ABROM KAPLAN MEMORIAL HOSPITAL & 191322 & 30.0081 & -92.2971 & 29.0 & 8.0 & 0.275862 & 0.0 & 0.0 & 0.0 \\\\\n",
       "\t12 & Acadia General Hospital & ACADIA GENERAL HOSPITAL & 190044 & 30.226 & -92.3636 & 82.0 & 52.9 & 0.645122 & 8.0 & 7.4 & 0.925 \\\\\n",
       "\t13 & Acadia St. Landry & ACADIA ST LANDRY & 191319 & 30.3953 & -92.2112 & 15.0 & 7.0 & 0.466667 & 0.0 & 0.0 & 0.0 \\\\\n",
       "\t14 & Acadian Medical Center & ACADIAN MEDICAL CENTER & 190318 & 30.4967 & -92.3863 & 32.0 & 22.9 & 0.715625 & 4.0 & 4.0 & 1.0 \\\\\n",
       "\t15 & A.C.M.H. Hospital & ACMH HOSPITAL & 390163 & 40.8086 & -79.5615 & 45.3 & 42.7 & 0.942605 & 6.4 & 6.1 & 0.953125 \\\\\n",
       "\t16 & Acuity Specialty Hospital Of Morgantown & ACUITY SPECIALTY HOSPITAL OF MORGANTOWN & 512004 & 0.0 & 0.0 & 22.0 & 22.0 & 1.0 & 10.0 & 10.0 & 1.0 \\\\\n",
       "\t17 & Acuity Specialty Hospital of New Jersey & ACUITY SPECIALTY HOSPITAL OF NEW JERSEY & 312023 & 39.3583 & -74.4343 & 30.0 & 20.7 & 0.69 & 0.0 & 0.0 & 0.0 \\\\\n",
       "\t18 & Acuity Specialty Hospital of Southern New Jersey & ACUITY SPECIALTY HOSPITAL OF SOUTHERN NEW JERSEY & 312022 & 40.0466 & -74.8808 & 69.0 & 41.0 & 0.594203 & 0.0 & 0.0 & 0.0 \\\\\n",
       "\t19 & Acuity Specialty Hospital Ohio Valley & ACUITY SPECIALTY HOSPITAL OHIO VALLEY & 512005 & 40.3956 & -80.528 & 19.0 & 6.0 & 0.315789 & 9.0 & 0.0 & 0.0 \\\\\n",
       "\t20 & AD Hospital East, L.L.C. & AD HOSPITAL EAST, LLC & 670102 & 29.7706 & -95.2004 & 19.7 & 7.1 & 0.360406 & 0.0 & 0.0 & 0.0 \\\\\n",
       "\t21 & Adair County Memorial Hospital & ADAIR COUNTY MEMORIAL HOSPITAL & 161310 & 41.3037 & -94.4518 & 5.0 & 0.0 & 0.0 & 0.0 & 0.0 & 0.0 \\\\\n",
       "\t22 & Adams County Regional Medical Center & ADAMS COUNTY REGIONAL MEDICAL CENTER & 361326 & 38.9338 & -83.5846 & 25.0 & 15.3 & 0.612 & 0.0 & 0.0 & 0.0 \\\\\n",
       "\t23 & Adams Memorial Hospital & ADAMS MEMORIAL HOSPITAL & 151330 & 40.8169 & -84.9144 & 36.0 & 14.6 & 0.405556 & 6.0 & 4.4 & 0.733333 \\\\\n",
       "\t24 & Adena Pike Medical Center & ADENA PIKE MEDICAL CENTER & 361334 & 39.1163 & -83.0042 & 25.0 & 22.9 & 0.916 & 0.0 & 0.0 & 0.0 \\\\\n",
       "\t25 & Adena Regional Medical Center & ADENA REGIONAL MEDICAL CENTER & 360159 & 39.3962 & -82.9683 & 182.0 & 146.9 & 0.807143 & 12.0 & 11.0 & 0.916667 \\\\\n",
       "\t26 & Adirondack Medical Center – Saranac Lake & ADIRONDACK MEDICAL CENTER - SARANAC LAKE & 330079 & 44.3455 & -74.1435 & 60.0 & 24.0 & 0.4 & 8.0 & 4.0 & 0.5 \\\\\n",
       "\t27 & Admin De Servicios Médicos Puerto Rico & ADMIN DE SERVICIOS MEDICOS  PUERTO RIC & 400127 & 18.45 & -66.06 & 83.6 & 67.3 & 0.805024 & 26.4 & 26.4 & 1.0 \\\\\n",
       "\t28 & Advanced Care Hospital of Montana & ADVANCED CARE HOSPITAL OF MONTANA & 272001 & 45.7432 & -108.605 & 40.0 & 38.9 & 0.9725 & 0.0 & 0.0 & 0.0 \\\\\n",
       "\t29 & Advanced Care Hospital of Southern New Mexico & ADVANCED CARE HOSPITAL OF SOUTHERN NEW MEXICO LLC & 322004 & 32.3261 & -106.725 & 20.0 & 18.7 & 0.935 & 0.0 & 0.0 & 0.0 \\\\\n",
       "\t30 & Advanced Care Hospital of White County & ADVANCED CARE HOSPITAL WHITE COUNTY & 042011 & 35.2339 & -91.732 & 27.0 & 11.3 & 0.418519 & 27.0 & 11.3 & 0.418519 \\\\\n",
       "\t$\\dots$ & $\\dots$ & $\\dots$ & $\\dots$ & $\\dots$ & $\\dots$ & $\\dots$ & $\\dots$ & $\\dots$ & $\\dots$ & $\\dots$ & $\\dots$ \\\\\n",
       "\\end{tabular}\n"
      ],
      "text/plain": [
       "\u001b[1m4923×11 DataFrame\u001b[0m\n",
       "\u001b[1m  Row \u001b[0m│\u001b[1m hospital                          \u001b[0m\u001b[1m hhsname                           \u001b[0m\u001b[1m hospital_id \u001b[0m\u001b[1m lat     \u001b[0m\u001b[1m long      \u001b[0m\u001b[1m total_beds \u001b[0m\u001b[1m total_occupancy \u001b[0m\u001b[1m total_load \u001b[0m\u001b[1m icu_beds \u001b[0m\u001b[1m icu_occupancy \u001b[0m\u001b[1m icu_load \u001b[0m\n",
       "\u001b[1m      \u001b[0m│\u001b[90m String?                           \u001b[0m\u001b[90m String                            \u001b[0m\u001b[90m String      \u001b[0m\u001b[90m Float64 \u001b[0m\u001b[90m Float64   \u001b[0m\u001b[90m Float64    \u001b[0m\u001b[90m Float64         \u001b[0m\u001b[90m Float64    \u001b[0m\u001b[90m Float64  \u001b[0m\u001b[90m Float64       \u001b[0m\u001b[90m Float64  \u001b[0m\n",
       "──────┼───────────────────────────────────────────────────────────────────────────────────────────────────────────────────────────────────────────────────────────────────────────────────\n",
       "    1 │ Abbeville Area Medical Center      ABBEVILLE AREA MEDICAL CENTER      421301       34.1579   -82.3815        18.0             10.9    0.605556       0.0            0.0  0.0\n",
       "    2 │ Abbeville General Hospital         ABBEVILLE GENERAL HOSPITAL         190034       29.9737   -92.1077        34.3             18.9    0.55102        6.3            5.0  0.793651\n",
       "    3 │ Abbott Northwestern Hospital       ABBOTT NORTHWESTERN HOSPITAL       240057       44.9526   -93.262        419.1            383.0    0.913863      39.4           39.3  0.997462\n",
       "    4 │ Abilene Regional Medical Center    ABILENE REGIONAL MEDICAL CENTER    450558       32.3747   -99.744        103.6             98.6    0.951737      16.7           16.7  1.0\n",
       "    5 │ Abington Memorial Hospital         ABINGTON MEMORIAL HOSPITAL         390231       40.1191   -75.1199       525.0            432.7    0.82419       60.1           49.0  0.815308\n",
       "    6 │ Abraham Lincoln Memorial Hospital  ABRAHAM LINCOLN MEMORIAL HOSPITAL  141322       40.1535   -89.39          25.0             16.7    0.668          0.0            0.0  0.0\n",
       "    7 │ Abrazo Arrowhead Campus            ABRAZO ARROWHEAD CAMPUS            030094       33.6544  -112.202        218.4            218.4    1.0           42.1           41.3  0.980998\n",
       "    8 │ Abrazo Central Campus              ABRAZO CENTRAL CAMPUS              030030       33.5256  -112.102        130.0            130.0    1.0           31.7           31.4  0.990536\n",
       "    9 │ Abrazo Scottsdale Campus           ABRAZO SCOTTSDALE CAMPUS           030083       33.6393  -111.998         73.1             73.1    1.0           13.9           10.4  0.748201\n",
       "   10 │ Abrazo West Campus                 ABRAZO WEST CAMPUS                 030110       33.4626  -112.352        196.1            196.1    1.0           49.0           30.7  0.626531\n",
       "   11 │ Abrom Kaplan Memorial Hospital     ABROM KAPLAN MEMORIAL HOSPITAL     191322       30.0081   -92.2971        29.0              8.0    0.275862       0.0            0.0  0.0\n",
       "  ⋮   │                 ⋮                                  ⋮                       ⋮          ⋮         ⋮          ⋮              ⋮             ⋮          ⋮            ⋮           ⋮\n",
       " 4914 │ Yavapai Regional Medical Center    YAVAPAI REGIONAL MEDICAL CENTER    030012       34.5593  -112.481        180.6            158.9    0.879845      37.7           26.1  0.692308\n",
       " 4915 │ Yoakum Community Hospital          YOAKUM COMMUNITY HOSPITAL          451346       29.3071   -97.1293        24.1              0.0    0.0            0.0            0.0  0.0\n",
       " 4916 │ Yoakum County Hospital             YOAKUM COUNTY HOSPITAL             451308       32.9688  -102.836         37.0              6.1    0.164865       0.0            0.0  0.0\n",
       " 4917 │ York General Hospital              YORK GENERAL HOSPITAL              281336       40.8825   -97.5921        20.0              6.7    0.335          0.0            0.0  0.0\n",
       " 4918 │ York Hospital                      YORK HOSPITAL                      200020       43.1425   -70.6523        48.0             34.9    0.727083       5.0            4.3  0.86\n",
       " 4919 │ York Hospital                      YORK HOSPITAL                      390046       39.9463   -76.7185       596.0            395.6    0.663758      70.0           54.0  0.771429\n",
       " 4920 │ Yuma District Hospital             YUMA DISTRICT HOSPITAL             061315       40.1204  -102.737         13.0              4.9    0.376923       0.0            0.0  0.0\n",
       " 4921 │ Yuma Regional Medical Center       YUMA REGIONAL MEDICAL CENTER       030013       32.6823  -114.635        250.3            250.3    1.0           58.0           40.3  0.694828\n",
       " 4922 │ Zachary – A.M.G. Specialty Hospi…  ZACHARY - A M G SPECIALTY HOSPIT…  192041       30.6473   -91.1397        16.0             12.4    0.775          0.0            0.0  0.0\n",
       " 4923 │ Zuckerberg San Francisco General…  ZUCKERBERG SAN FRANCISCO GENERAL…  050228       37.7557  -122.405        212.1            210.4    0.991985      38.7           37.6  0.971576\n",
       "\u001b[31m                                                                                                                                                                         4902 rows omitted\u001b[0m"
      ]
     },
     "execution_count": 15,
     "metadata": {},
     "output_type": "execute_result"
    }
   ],
   "source": [
    "data_combined = select(data_combined_all,\n",
    "    :hospitalname => :hospital,\n",
    "    :hospital => :hhsname,\n",
    "    :hospital_id,\n",
    "    :lat,\n",
    "    :long,\n",
    "    :total_beds,\n",
    "    :total_occupancy,\n",
    "    :total_load,\n",
    "    :icu_beds,\n",
    "    :icu_occupancy,\n",
    "    :icu_load,\n",
    ")"
   ]
  },
  {
   "cell_type": "code",
   "execution_count": 16,
   "metadata": {},
   "outputs": [],
   "source": [
    "data_combined |> CSV.write(\"../data/hhs_current_load.csv\");"
   ]
  },
  {
   "cell_type": "code",
   "execution_count": 17,
   "metadata": {},
   "outputs": [],
   "source": [
    "data_combined_list = collect([NamedTuple(h) for h in eachrow(data_combined)]);"
   ]
  },
  {
   "cell_type": "code",
   "execution_count": 18,
   "metadata": {},
   "outputs": [],
   "source": [
    "serialize(\"../data/hhs_current_load.jlser\", data_combined_list)"
   ]
  },
  {
   "cell_type": "code",
   "execution_count": null,
   "metadata": {},
   "outputs": [],
   "source": []
  }
 ],
 "metadata": {
  "@webio": {
   "lastCommId": null,
   "lastKernelId": null
  },
  "kernelspec": {
   "display_name": "Julia 1.5.3",
   "language": "julia",
   "name": "julia-1.5"
  },
  "language_info": {
   "file_extension": ".jl",
   "mimetype": "application/julia",
   "name": "julia",
   "version": "1.5.3"
  }
 },
 "nbformat": 4,
 "nbformat_minor": 4
}
