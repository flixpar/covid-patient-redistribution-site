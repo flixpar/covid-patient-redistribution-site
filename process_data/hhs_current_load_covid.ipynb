{
 "cells": [
  {
   "cell_type": "code",
   "execution_count": 1,
   "metadata": {},
   "outputs": [],
   "source": [
    "using CSV\n",
    "using DataFrames\n",
    "using Serialization\n",
    "using Dates"
   ]
  },
  {
   "cell_type": "code",
   "execution_count": 2,
   "metadata": {},
   "outputs": [],
   "source": [
    "ENV[\"COLUMNS\"] = 1000;"
   ]
  },
  {
   "cell_type": "code",
   "execution_count": 3,
   "metadata": {},
   "outputs": [],
   "source": [
    "rawdata = DataFrame(CSV.File(\"../rawdata/reported_hospital_capacity_admissions_facility_level_weekly_average_timeseries_20210117.csv\"));"
   ]
  },
  {
   "cell_type": "code",
   "execution_count": 4,
   "metadata": {},
   "outputs": [],
   "source": [
    "bad_ids = begin\n",
    "    id_counts = combine(groupby(rawdata, :hospital_pk), :hospital_name => (x -> length(unique(x))) => :n_names)\n",
    "    filter!(x -> x.n_names > 1, id_counts)\n",
    "    unique(id_counts.hospital_pk)\n",
    "end\n",
    "filter!(row -> !(row.hospital_pk in bad_ids), rawdata);"
   ]
  },
  {
   "cell_type": "code",
   "execution_count": 5,
   "metadata": {},
   "outputs": [],
   "source": [
    "findmissing(x) = (ismissing(x) || x == -999999) ? missing : x;"
   ]
  },
  {
   "cell_type": "code",
   "execution_count": 6,
   "metadata": {},
   "outputs": [],
   "source": [
    "data_weekly = select(rawdata,\n",
    "    :hospital_name => :hospital,\n",
    "    :hospital_pk => :hospital_id,\n",
    "    :collection_week => :date,\n",
    "    \n",
    "    :total_adult_patients_hospitalized_confirmed_covid_7_day_avg => ByRow(findmissing) => :total_occupancy,\n",
    "    :staffed_icu_adult_patients_confirmed_covid_7_day_avg => ByRow(findmissing) => :icu_occupancy,\n",
    ");\n",
    "sort!(data_weekly, [:hospital, :hospital_id, :date]);"
   ]
  },
  {
   "cell_type": "code",
   "execution_count": 7,
   "metadata": {},
   "outputs": [],
   "source": [
    "function latest_val(xs)\n",
    "    xs = filter(x -> !ismissing(x), xs)\n",
    "    z = length(xs) == 0 ? missing : xs[end]\n",
    "    z = coalesce(z, 0)\n",
    "    return z\n",
    "end;"
   ]
  },
  {
   "cell_type": "code",
   "execution_count": 8,
   "metadata": {},
   "outputs": [],
   "source": [
    "data_latest = combine(groupby(data_weekly, [:hospital, :hospital_id]), [\n",
    "    :total_occupancy => latest_val => :total_occupancy,\n",
    "    :icu_occupancy => latest_val => :icu_occupancy,\n",
    "]);"
   ]
  },
  {
   "cell_type": "code",
   "execution_count": 9,
   "metadata": {},
   "outputs": [],
   "source": [
    "capacity_rawdata = DataFrame(CSV.File(\"../data/capacity_hhs.csv\"));"
   ]
  },
  {
   "cell_type": "code",
   "execution_count": 10,
   "metadata": {},
   "outputs": [],
   "source": [
    "capacity_data = select(capacity_rawdata,\n",
    "    :hospital_id,\n",
    "    :capacity_icu => (x -> x .* 0.4) => :icu_beds,\n",
    "    :capacity_allbeds => (x -> x .* 0.4) => :total_beds,\n",
    ");"
   ]
  },
  {
   "cell_type": "code",
   "execution_count": 11,
   "metadata": {},
   "outputs": [],
   "source": [
    "data_latest = rightjoin(data_latest, capacity_data, on=:hospital_id);"
   ]
  },
  {
   "cell_type": "code",
   "execution_count": 12,
   "metadata": {},
   "outputs": [],
   "source": [
    "compute_load(a,b) = (a==0) ? 0.0 : (b==0) ? 1.0 : a/b;"
   ]
  },
  {
   "cell_type": "code",
   "execution_count": 13,
   "metadata": {},
   "outputs": [],
   "source": [
    "insertcols!(data_latest, 5, :total_load => compute_load.(data_latest.total_occupancy, data_latest.total_beds));\n",
    "insertcols!(data_latest, 8, :icu_load => compute_load.(data_latest.icu_occupancy, data_latest.icu_beds));"
   ]
  },
  {
   "cell_type": "code",
   "execution_count": 14,
   "metadata": {},
   "outputs": [],
   "source": [
    "metadata = DataFrame(CSV.File(\"../data/hhs_hospital_meta.csv\"));"
   ]
  },
  {
   "cell_type": "code",
   "execution_count": 15,
   "metadata": {},
   "outputs": [],
   "source": [
    "hospital_locations_data = DataFrame(CSV.File(\"../data/hhs_hospital_locations.csv\"))\n",
    "select!(hospital_locations_data, :hospital_id, :lat, :long);"
   ]
  },
  {
   "cell_type": "code",
   "execution_count": 16,
   "metadata": {},
   "outputs": [],
   "source": [
    "data_combined_all = leftjoin(data_latest, metadata, on=:hospital_id, makeunique=true);\n",
    "data_combined_all = leftjoin(data_combined_all, hospital_locations_data, on=:hospital_id);"
   ]
  },
  {
   "cell_type": "code",
   "execution_count": 17,
   "metadata": {},
   "outputs": [],
   "source": [
    "data_combined_all.lat = coalesce.(data_combined_all.lat, 0.0);\n",
    "data_combined_all.long = coalesce.(data_combined_all.long, 0.0);"
   ]
  },
  {
   "cell_type": "code",
   "execution_count": 18,
   "metadata": {},
   "outputs": [
    {
     "data": {
      "text/html": [
       "<table class=\"data-frame\"><thead><tr><th></th><th>hospital</th><th>hhsname</th><th>hospital_id</th><th>lat</th><th>long</th><th>state</th><th>state_abbrev</th><th>city</th><th>system_id</th><th>system_name</th><th>hsa_id</th><th>hsa_name</th><th>hrr_id</th><th>hrr_name</th><th>total_beds</th><th>total_occupancy</th><th>total_load</th><th>icu_beds</th><th>icu_occupancy</th><th>icu_load</th></tr><tr><th></th><th>String?</th><th>String?</th><th>String?</th><th>Float64</th><th>Float64</th><th>String?</th><th>String?</th><th>String?</th><th>String?</th><th>String?</th><th>Int64?</th><th>String?</th><th>Int64?</th><th>String?</th><th>Float64</th><th>Float64?</th><th>Float64</th><th>Float64</th><th>Float64?</th><th>Float64</th></tr></thead><tbody><p>4,785 rows × 20 columns</p><tr><th>1</th><td>Abbeville Area Medical Center</td><td>ABBEVILLE AREA MEDICAL CENTER</td><td>421301</td><td>34.1579</td><td>-82.3815</td><td>South Carolina</td><td>SC</td><td>Abbeville</td><td><em>missing</em></td><td><em>missing</em></td><td>42001</td><td>Abbeville, SC</td><td>366</td><td>Columbia, SC</td><td>6.4</td><td>5.6</td><td>0.875</td><td>0.0</td><td>0.0</td><td>0.0</td></tr><tr><th>2</th><td>Abbeville General Hospital</td><td>ABBEVILLE GENERAL HOSPITAL</td><td>190034</td><td>29.9737</td><td>-92.1077</td><td>Louisiana</td><td>LA</td><td>Abbeville</td><td>HSI00000562</td><td>Lafayette General Health</td><td>19001</td><td>Abbeville, LA</td><td>213</td><td>Lafayette, LA</td><td>15.2</td><td>5.1</td><td>0.335526</td><td>2.8</td><td>0.0</td><td>0.0</td></tr><tr><th>3</th><td>Abbott Northwestern Hospital</td><td>ABBOTT NORTHWESTERN HOSPITAL</td><td>240057</td><td>44.9526</td><td>-93.262</td><td>Minnesota</td><td>MN</td><td>Minneapolis</td><td>HSI00000029</td><td>Allina Health System</td><td>24076</td><td>Minneapolis, MN</td><td>251</td><td>Minneapolis, MN</td><td>266.0</td><td>50.9</td><td>0.191353</td><td>20.4</td><td>15.6</td><td>0.764706</td></tr><tr><th>4</th><td>Abilene Regional Medical Center</td><td>ABILENE REGIONAL MEDICAL CENTER</td><td>450558</td><td>32.3747</td><td>-99.744</td><td>Texas</td><td>TX</td><td>Abilene</td><td>HSI00000249</td><td>Community Health Systems</td><td>45001</td><td>Abilene, TX</td><td>382</td><td>Abilene, TX</td><td>32.8</td><td>32.9</td><td>1.00305</td><td>5.6</td><td>10.1</td><td>1.80357</td></tr><tr><th>5</th><td>Abington Memorial Hospital</td><td>ABINGTON MEMORIAL HOSPITAL</td><td>390231</td><td>40.1191</td><td>-75.1199</td><td>Pennsylvania</td><td>PA</td><td>Abington</td><td>HSI00000048</td><td>Jefferson Health</td><td>39001</td><td>Abington, PA</td><td>356</td><td>Philadelphia, PA</td><td>208.4</td><td>105.6</td><td>0.506718</td><td>22.0</td><td>16.6</td><td>0.754545</td></tr><tr><th>6</th><td>Abraham Lincoln Memorial Hospital</td><td>ABRAHAM LINCOLN MEMORIAL HOSPITAL</td><td>141322</td><td>40.1535</td><td>-89.39</td><td>Illinois</td><td>IL</td><td>Lincoln</td><td>HSI00000648</td><td>Memorial Health System</td><td>14075</td><td>Lincoln, IL</td><td>172</td><td>Springfield, IL</td><td>10.0</td><td>6.7</td><td>0.67</td><td>0.0</td><td>0.0</td><td>0.0</td></tr><tr><th>7</th><td>Abrazo Arrowhead Campus</td><td>ABRAZO ARROWHEAD CAMPUS</td><td>030094</td><td>33.6544</td><td>-112.202</td><td>Arizona</td><td>AZ</td><td>Glendale</td><td>HSI00001066</td><td>Tenet Healthcare Corporation</td><td>3022</td><td>Phoenix, AZ</td><td>12</td><td>Phoenix, AZ</td><td>74.8</td><td>104.7</td><td>1.39973</td><td>12.0</td><td>25.9</td><td>2.15833</td></tr><tr><th>8</th><td>Abrazo Central Campus</td><td>ABRAZO CENTRAL CAMPUS</td><td>030030</td><td>33.5256</td><td>-112.102</td><td>Arizona</td><td>AZ</td><td>Phoenix</td><td>HSI00001066</td><td>Tenet Healthcare Corporation</td><td>3022</td><td>Phoenix, AZ</td><td>12</td><td>Phoenix, AZ</td><td>43.6</td><td>64.3</td><td>1.47477</td><td>8.8</td><td>21.3</td><td>2.42045</td></tr><tr><th>9</th><td>Abrazo Scottsdale Campus</td><td>ABRAZO SCOTTSDALE CAMPUS</td><td>030083</td><td>33.6393</td><td>-111.998</td><td>Arizona</td><td>AZ</td><td>Phoenix</td><td>HSI00001066</td><td>Tenet Healthcare Corporation</td><td>3022</td><td>Phoenix, AZ</td><td>12</td><td>Phoenix, AZ</td><td>24.0</td><td>43.1</td><td>1.79583</td><td>4.0</td><td>8.6</td><td>2.15</td></tr><tr><th>10</th><td>Abrazo West Campus</td><td>ABRAZO WEST CAMPUS</td><td>030110</td><td>33.4626</td><td>-112.352</td><td>Arizona</td><td>AZ</td><td>Goodyear</td><td>HSI00001066</td><td>Tenet Healthcare Corporation</td><td>3022</td><td>Phoenix, AZ</td><td>12</td><td>Phoenix, AZ</td><td>66.4</td><td>99.4</td><td>1.49699</td><td>10.8</td><td>23.3</td><td>2.15741</td></tr><tr><th>11</th><td>Abrom Kaplan Memorial Hospital</td><td>ABROM KAPLAN MEMORIAL HOSPITAL</td><td>191322</td><td>30.0081</td><td>-92.2971</td><td>Louisiana</td><td>LA</td><td>Kaplan</td><td>HSI00000562</td><td>Lafayette General Health</td><td>19042</td><td>Kaplan, LA</td><td>213</td><td>Lafayette, LA</td><td>10.4</td><td>0.0</td><td>0.0</td><td>0.0</td><td>0.0</td><td>0.0</td></tr><tr><th>12</th><td>Acadia General Hospital</td><td>ACADIA GENERAL HOSPITAL</td><td>190044</td><td>30.226</td><td>-92.3636</td><td>Louisiana</td><td>LA</td><td>Crowley</td><td>HSI00000562</td><td>Lafayette General Health</td><td>19019</td><td>Crowley, LA</td><td>213</td><td>Lafayette, LA</td><td>22.8</td><td>12.4</td><td>0.54386</td><td>3.2</td><td>0.0</td><td>0.0</td></tr><tr><th>13</th><td>Acadia St. Landry</td><td>ACADIA ST LANDRY</td><td>191319</td><td>30.3953</td><td>-92.2112</td><td>Louisiana</td><td>LA</td><td>Church Point</td><td><em>missing</em></td><td><em>missing</em></td><td>19046</td><td>Lafayette, LA</td><td>213</td><td>Lafayette, LA</td><td>6.0</td><td>0.0</td><td>0.0</td><td>0.0</td><td>0.0</td><td>0.0</td></tr><tr><th>14</th><td>Acadian Medical Center</td><td>ACADIAN MEDICAL CENTER</td><td>190318</td><td>30.4967</td><td>-92.3863</td><td>Louisiana</td><td>LA</td><td>Eunice</td><td><em>missing</em></td><td><em>missing</em></td><td>19024</td><td>Eunice, LA</td><td>213</td><td>Lafayette, LA</td><td>13.2</td><td>5.6</td><td>0.424242</td><td>1.6</td><td>0.0</td><td>0.0</td></tr><tr><th>15</th><td>A.C.M.H. Hospital</td><td>ACMH HOSPITAL</td><td>390163</td><td>40.8086</td><td>-79.5615</td><td>Pennsylvania</td><td>PA</td><td>Kittanning</td><td>HSI00000051</td><td>Armstrong County Memorial Hospital</td><td>39062</td><td>Kittanning, PA</td><td>357</td><td>Pittsburgh, PA</td><td>58.4</td><td>21.7</td><td>0.371575</td><td>4.8</td><td>4.6</td><td>0.958333</td></tr><tr><th>16</th><td>Acuity Specialty Hospital Of Morgantown</td><td>ACUITY SPECIALTY HOSPITAL OF MORGANTOWN</td><td>512004</td><td>0.0</td><td>0.0</td><td>West Virginia</td><td>WV</td><td>Morgantown</td><td><em>missing</em></td><td><em>missing</em></td><td>51024</td><td>Morgantown, WV</td><td>445</td><td>Morgantown, WV</td><td>9.6</td><td>0.0</td><td>0.0</td><td>4.0</td><td>0.0</td><td>0.0</td></tr><tr><th>17</th><td>Acuity Specialty Hospital of New Jersey</td><td>ACUITY SPECIALTY HOSPITAL OF NEW JERSEY</td><td>312023</td><td>39.3583</td><td>-74.4343</td><td>New Jersey</td><td>NJ</td><td>Atlantic City</td><td><em>missing</em></td><td><em>missing</em></td><td>31001</td><td>Atlantic City, NJ</td><td>283</td><td>Camden, NJ</td><td>12.0</td><td>5.6</td><td>0.466667</td><td>0.0</td><td>0.0</td><td>0.0</td></tr><tr><th>18</th><td>Acuity Specialty Hospital of Southern New Jersey</td><td>ACUITY SPECIALTY HOSPITAL OF SOUTHERN NEW JERSEY</td><td>312022</td><td>40.0466</td><td>-74.8808</td><td>New Jersey</td><td>NJ</td><td>Willingboro</td><td><em>missing</em></td><td><em>missing</em></td><td>31068</td><td>Willingboro, NJ</td><td>283</td><td>Camden, NJ</td><td>26.4</td><td>12.0</td><td>0.454545</td><td>0.0</td><td>0.0</td><td>0.0</td></tr><tr><th>19</th><td>Acuity Specialty Hospital Ohio Valley</td><td>ACUITY SPECIALTY HOSPITAL OHIO VALLEY</td><td>512005</td><td>40.3956</td><td>-80.528</td><td>West Virginia</td><td>WV</td><td>Weirton</td><td><em>missing</em></td><td><em>missing</em></td><td>51042</td><td>Weirton, WV</td><td>357</td><td>Pittsburgh, PA</td><td>7.6</td><td>0.0</td><td>0.0</td><td>3.6</td><td>0.0</td><td>0.0</td></tr><tr><th>20</th><td>AD Hospital East, L.L.C.</td><td>AD HOSPITAL EAST, LLC</td><td>670102</td><td>29.7706</td><td>-95.2004</td><td>Texas</td><td>TX</td><td>Houston</td><td><em>missing</em></td><td><em>missing</em></td><td>45131</td><td>Houston, TX</td><td>397</td><td>Houston, TX</td><td>6.8</td><td>0.0</td><td>0.0</td><td>0.0</td><td>0.0</td><td>0.0</td></tr><tr><th>21</th><td>Adair County Memorial Hospital</td><td>ADAIR COUNTY MEMORIAL HOSPITAL</td><td>161310</td><td>41.3037</td><td>-94.4518</td><td>Iowa</td><td>IA</td><td>Greenfield</td><td>HSI00000183</td><td>Catholic Health Initiatives</td><td>16041</td><td>Greenfield, IA</td><td>192</td><td>Des Moines, IA</td><td>1.6</td><td>0.0</td><td>0.0</td><td>0.0</td><td>0.0</td><td>0.0</td></tr><tr><th>22</th><td>Adams County Regional Medical Center</td><td>ADAMS COUNTY REGIONAL MEDICAL CENTER</td><td>361326</td><td>38.9338</td><td>-83.5846</td><td>Ohio</td><td>OH</td><td>Seaman</td><td><em>missing</em></td><td><em>missing</em></td><td>36009</td><td>Batavia, OH</td><td>327</td><td>Cincinnati, OH</td><td>10.0</td><td>4.7</td><td>0.47</td><td>0.0</td><td>0.0</td><td>0.0</td></tr><tr><th>23</th><td>Adams Memorial Hospital</td><td>ADAMS MEMORIAL HOSPITAL</td><td>151330</td><td>40.8169</td><td>-84.9144</td><td>Indiana</td><td>IN</td><td>Decatur</td><td><em>missing</em></td><td><em>missing</em></td><td>15021</td><td>Decatur, IN</td><td>180</td><td>Fort Wayne, IN</td><td>14.4</td><td>4.0</td><td>0.277778</td><td>2.4</td><td>4.7</td><td>1.95833</td></tr><tr><th>24</th><td>Adena Pike Medical Center</td><td>ADENA PIKE MEDICAL CENTER</td><td>361334</td><td>39.1163</td><td>-83.0042</td><td>Ohio</td><td>OH</td><td>Waverly</td><td>HSI00000008</td><td>Adena Health System</td><td>36114</td><td>Waverly, OH</td><td>329</td><td>Columbus, OH</td><td>8.4</td><td>5.1</td><td>0.607143</td><td>0.0</td><td>0.0</td><td>0.0</td></tr><tr><th>25</th><td>Adena Regional Medical Center</td><td>ADENA REGIONAL MEDICAL CENTER</td><td>360159</td><td>39.3962</td><td>-82.9683</td><td>Ohio</td><td>OH</td><td>Chillicothe</td><td>HSI00000008</td><td>Adena Health System</td><td>36022</td><td>Chillicothe, OH</td><td>329</td><td>Columbus, OH</td><td>65.6</td><td>33.9</td><td>0.516768</td><td>4.8</td><td>5.3</td><td>1.10417</td></tr><tr><th>26</th><td>Adirondack Medical Center – Saranac Lake</td><td>ADIRONDACK MEDICAL CENTER - SARANAC LAKE</td><td>330079</td><td>44.3455</td><td>-74.1435</td><td>New York</td><td>NY</td><td>Saranac Lake</td><td><em>missing</em></td><td><em>missing</em></td><td>33111</td><td>Saranac Lake, NY</td><td>424</td><td>Burlington, VT</td><td>45.2</td><td>0.0</td><td>0.0</td><td>4.4</td><td>0.0</td><td>0.0</td></tr><tr><th>27</th><td>Admin De Servicios Médicos Puerto Rico</td><td>ADMIN DE SERVICIOS MEDICOS  PUERTO RIC</td><td>400127</td><td>18.45</td><td>-66.06</td><td>Puerto Rico</td><td>PR</td><td>San Juan</td><td><em>missing</em></td><td><em>missing</em></td><td><em>missing</em></td><td><em>missing</em></td><td><em>missing</em></td><td><em>missing</em></td><td>63.6</td><td>0.0</td><td>0.0</td><td>24.8</td><td>0.0</td><td>0.0</td></tr><tr><th>28</th><td>Advanced Care Hospital of Montana</td><td>ADVANCED CARE HOSPITAL OF MONTANA</td><td>272001</td><td>45.7432</td><td>-108.605</td><td>Montana</td><td>MT</td><td>Billings</td><td><em>missing</em></td><td><em>missing</em></td><td>27005</td><td>Billings, MT</td><td>274</td><td>Billings, MT</td><td>15.2</td><td>9.4</td><td>0.618421</td><td>0.4</td><td>0.0</td><td>0.0</td></tr><tr><th>29</th><td>Advanced Care Hospital of Southern New Mexico</td><td>ADVANCED CARE HOSPITAL OF SOUTHERN NEW MEXICO LLC</td><td>322004</td><td>32.3261</td><td>-106.725</td><td>New Mexico</td><td>NM</td><td>Las Cruces</td><td><em>missing</em></td><td><em>missing</em></td><td>32015</td><td>Las Cruces, NM</td><td>393</td><td>El Paso, TX</td><td>6.0</td><td>0.0</td><td>0.0</td><td>0.0</td><td>0.0</td><td>0.0</td></tr><tr><th>30</th><td>Advanced Care Hospital of White County</td><td>ADVANCED CARE HOSPITAL WHITE COUNTY</td><td>042011</td><td>35.2339</td><td>-91.732</td><td>Arkansas</td><td>AR</td><td>Searcy</td><td>HSI00001145</td><td>Unity Health</td><td>4066</td><td>Searcy, AR</td><td>19</td><td>Little Rock, AR</td><td>4.8</td><td>10.6</td><td>2.20833</td><td>2.4</td><td>10.6</td><td>4.41667</td></tr><tr><th>&vellip;</th><td>&vellip;</td><td>&vellip;</td><td>&vellip;</td><td>&vellip;</td><td>&vellip;</td><td>&vellip;</td><td>&vellip;</td><td>&vellip;</td><td>&vellip;</td><td>&vellip;</td><td>&vellip;</td><td>&vellip;</td><td>&vellip;</td><td>&vellip;</td><td>&vellip;</td><td>&vellip;</td><td>&vellip;</td><td>&vellip;</td><td>&vellip;</td><td>&vellip;</td></tr></tbody></table>"
      ],
      "text/latex": [
       "\\begin{tabular}{r|cccccccccccccccccccc}\n",
       "\t& hospital & hhsname & hospital\\_id & lat & long & state & state\\_abbrev & city & system\\_id & system\\_name & hsa\\_id & hsa\\_name & hrr\\_id & hrr\\_name & total\\_beds & total\\_occupancy & total\\_load & icu\\_beds & icu\\_occupancy & icu\\_load\\\\\n",
       "\t\\hline\n",
       "\t& String? & String? & String? & Float64 & Float64 & String? & String? & String? & String? & String? & Int64? & String? & Int64? & String? & Float64 & Float64? & Float64 & Float64 & Float64? & Float64\\\\\n",
       "\t\\hline\n",
       "\t1 & Abbeville Area Medical Center & ABBEVILLE AREA MEDICAL CENTER & 421301 & 34.1579 & -82.3815 & South Carolina & SC & Abbeville & \\emph{missing} & \\emph{missing} & 42001 & Abbeville, SC & 366 & Columbia, SC & 6.4 & 5.6 & 0.875 & 0.0 & 0.0 & 0.0 \\\\\n",
       "\t2 & Abbeville General Hospital & ABBEVILLE GENERAL HOSPITAL & 190034 & 29.9737 & -92.1077 & Louisiana & LA & Abbeville & HSI00000562 & Lafayette General Health & 19001 & Abbeville, LA & 213 & Lafayette, LA & 15.2 & 5.1 & 0.335526 & 2.8 & 0.0 & 0.0 \\\\\n",
       "\t3 & Abbott Northwestern Hospital & ABBOTT NORTHWESTERN HOSPITAL & 240057 & 44.9526 & -93.262 & Minnesota & MN & Minneapolis & HSI00000029 & Allina Health System & 24076 & Minneapolis, MN & 251 & Minneapolis, MN & 266.0 & 50.9 & 0.191353 & 20.4 & 15.6 & 0.764706 \\\\\n",
       "\t4 & Abilene Regional Medical Center & ABILENE REGIONAL MEDICAL CENTER & 450558 & 32.3747 & -99.744 & Texas & TX & Abilene & HSI00000249 & Community Health Systems & 45001 & Abilene, TX & 382 & Abilene, TX & 32.8 & 32.9 & 1.00305 & 5.6 & 10.1 & 1.80357 \\\\\n",
       "\t5 & Abington Memorial Hospital & ABINGTON MEMORIAL HOSPITAL & 390231 & 40.1191 & -75.1199 & Pennsylvania & PA & Abington & HSI00000048 & Jefferson Health & 39001 & Abington, PA & 356 & Philadelphia, PA & 208.4 & 105.6 & 0.506718 & 22.0 & 16.6 & 0.754545 \\\\\n",
       "\t6 & Abraham Lincoln Memorial Hospital & ABRAHAM LINCOLN MEMORIAL HOSPITAL & 141322 & 40.1535 & -89.39 & Illinois & IL & Lincoln & HSI00000648 & Memorial Health System & 14075 & Lincoln, IL & 172 & Springfield, IL & 10.0 & 6.7 & 0.67 & 0.0 & 0.0 & 0.0 \\\\\n",
       "\t7 & Abrazo Arrowhead Campus & ABRAZO ARROWHEAD CAMPUS & 030094 & 33.6544 & -112.202 & Arizona & AZ & Glendale & HSI00001066 & Tenet Healthcare Corporation & 3022 & Phoenix, AZ & 12 & Phoenix, AZ & 74.8 & 104.7 & 1.39973 & 12.0 & 25.9 & 2.15833 \\\\\n",
       "\t8 & Abrazo Central Campus & ABRAZO CENTRAL CAMPUS & 030030 & 33.5256 & -112.102 & Arizona & AZ & Phoenix & HSI00001066 & Tenet Healthcare Corporation & 3022 & Phoenix, AZ & 12 & Phoenix, AZ & 43.6 & 64.3 & 1.47477 & 8.8 & 21.3 & 2.42045 \\\\\n",
       "\t9 & Abrazo Scottsdale Campus & ABRAZO SCOTTSDALE CAMPUS & 030083 & 33.6393 & -111.998 & Arizona & AZ & Phoenix & HSI00001066 & Tenet Healthcare Corporation & 3022 & Phoenix, AZ & 12 & Phoenix, AZ & 24.0 & 43.1 & 1.79583 & 4.0 & 8.6 & 2.15 \\\\\n",
       "\t10 & Abrazo West Campus & ABRAZO WEST CAMPUS & 030110 & 33.4626 & -112.352 & Arizona & AZ & Goodyear & HSI00001066 & Tenet Healthcare Corporation & 3022 & Phoenix, AZ & 12 & Phoenix, AZ & 66.4 & 99.4 & 1.49699 & 10.8 & 23.3 & 2.15741 \\\\\n",
       "\t11 & Abrom Kaplan Memorial Hospital & ABROM KAPLAN MEMORIAL HOSPITAL & 191322 & 30.0081 & -92.2971 & Louisiana & LA & Kaplan & HSI00000562 & Lafayette General Health & 19042 & Kaplan, LA & 213 & Lafayette, LA & 10.4 & 0.0 & 0.0 & 0.0 & 0.0 & 0.0 \\\\\n",
       "\t12 & Acadia General Hospital & ACADIA GENERAL HOSPITAL & 190044 & 30.226 & -92.3636 & Louisiana & LA & Crowley & HSI00000562 & Lafayette General Health & 19019 & Crowley, LA & 213 & Lafayette, LA & 22.8 & 12.4 & 0.54386 & 3.2 & 0.0 & 0.0 \\\\\n",
       "\t13 & Acadia St. Landry & ACADIA ST LANDRY & 191319 & 30.3953 & -92.2112 & Louisiana & LA & Church Point & \\emph{missing} & \\emph{missing} & 19046 & Lafayette, LA & 213 & Lafayette, LA & 6.0 & 0.0 & 0.0 & 0.0 & 0.0 & 0.0 \\\\\n",
       "\t14 & Acadian Medical Center & ACADIAN MEDICAL CENTER & 190318 & 30.4967 & -92.3863 & Louisiana & LA & Eunice & \\emph{missing} & \\emph{missing} & 19024 & Eunice, LA & 213 & Lafayette, LA & 13.2 & 5.6 & 0.424242 & 1.6 & 0.0 & 0.0 \\\\\n",
       "\t15 & A.C.M.H. Hospital & ACMH HOSPITAL & 390163 & 40.8086 & -79.5615 & Pennsylvania & PA & Kittanning & HSI00000051 & Armstrong County Memorial Hospital & 39062 & Kittanning, PA & 357 & Pittsburgh, PA & 58.4 & 21.7 & 0.371575 & 4.8 & 4.6 & 0.958333 \\\\\n",
       "\t16 & Acuity Specialty Hospital Of Morgantown & ACUITY SPECIALTY HOSPITAL OF MORGANTOWN & 512004 & 0.0 & 0.0 & West Virginia & WV & Morgantown & \\emph{missing} & \\emph{missing} & 51024 & Morgantown, WV & 445 & Morgantown, WV & 9.6 & 0.0 & 0.0 & 4.0 & 0.0 & 0.0 \\\\\n",
       "\t17 & Acuity Specialty Hospital of New Jersey & ACUITY SPECIALTY HOSPITAL OF NEW JERSEY & 312023 & 39.3583 & -74.4343 & New Jersey & NJ & Atlantic City & \\emph{missing} & \\emph{missing} & 31001 & Atlantic City, NJ & 283 & Camden, NJ & 12.0 & 5.6 & 0.466667 & 0.0 & 0.0 & 0.0 \\\\\n",
       "\t18 & Acuity Specialty Hospital of Southern New Jersey & ACUITY SPECIALTY HOSPITAL OF SOUTHERN NEW JERSEY & 312022 & 40.0466 & -74.8808 & New Jersey & NJ & Willingboro & \\emph{missing} & \\emph{missing} & 31068 & Willingboro, NJ & 283 & Camden, NJ & 26.4 & 12.0 & 0.454545 & 0.0 & 0.0 & 0.0 \\\\\n",
       "\t19 & Acuity Specialty Hospital Ohio Valley & ACUITY SPECIALTY HOSPITAL OHIO VALLEY & 512005 & 40.3956 & -80.528 & West Virginia & WV & Weirton & \\emph{missing} & \\emph{missing} & 51042 & Weirton, WV & 357 & Pittsburgh, PA & 7.6 & 0.0 & 0.0 & 3.6 & 0.0 & 0.0 \\\\\n",
       "\t20 & AD Hospital East, L.L.C. & AD HOSPITAL EAST, LLC & 670102 & 29.7706 & -95.2004 & Texas & TX & Houston & \\emph{missing} & \\emph{missing} & 45131 & Houston, TX & 397 & Houston, TX & 6.8 & 0.0 & 0.0 & 0.0 & 0.0 & 0.0 \\\\\n",
       "\t21 & Adair County Memorial Hospital & ADAIR COUNTY MEMORIAL HOSPITAL & 161310 & 41.3037 & -94.4518 & Iowa & IA & Greenfield & HSI00000183 & Catholic Health Initiatives & 16041 & Greenfield, IA & 192 & Des Moines, IA & 1.6 & 0.0 & 0.0 & 0.0 & 0.0 & 0.0 \\\\\n",
       "\t22 & Adams County Regional Medical Center & ADAMS COUNTY REGIONAL MEDICAL CENTER & 361326 & 38.9338 & -83.5846 & Ohio & OH & Seaman & \\emph{missing} & \\emph{missing} & 36009 & Batavia, OH & 327 & Cincinnati, OH & 10.0 & 4.7 & 0.47 & 0.0 & 0.0 & 0.0 \\\\\n",
       "\t23 & Adams Memorial Hospital & ADAMS MEMORIAL HOSPITAL & 151330 & 40.8169 & -84.9144 & Indiana & IN & Decatur & \\emph{missing} & \\emph{missing} & 15021 & Decatur, IN & 180 & Fort Wayne, IN & 14.4 & 4.0 & 0.277778 & 2.4 & 4.7 & 1.95833 \\\\\n",
       "\t24 & Adena Pike Medical Center & ADENA PIKE MEDICAL CENTER & 361334 & 39.1163 & -83.0042 & Ohio & OH & Waverly & HSI00000008 & Adena Health System & 36114 & Waverly, OH & 329 & Columbus, OH & 8.4 & 5.1 & 0.607143 & 0.0 & 0.0 & 0.0 \\\\\n",
       "\t25 & Adena Regional Medical Center & ADENA REGIONAL MEDICAL CENTER & 360159 & 39.3962 & -82.9683 & Ohio & OH & Chillicothe & HSI00000008 & Adena Health System & 36022 & Chillicothe, OH & 329 & Columbus, OH & 65.6 & 33.9 & 0.516768 & 4.8 & 5.3 & 1.10417 \\\\\n",
       "\t26 & Adirondack Medical Center – Saranac Lake & ADIRONDACK MEDICAL CENTER - SARANAC LAKE & 330079 & 44.3455 & -74.1435 & New York & NY & Saranac Lake & \\emph{missing} & \\emph{missing} & 33111 & Saranac Lake, NY & 424 & Burlington, VT & 45.2 & 0.0 & 0.0 & 4.4 & 0.0 & 0.0 \\\\\n",
       "\t27 & Admin De Servicios Médicos Puerto Rico & ADMIN DE SERVICIOS MEDICOS  PUERTO RIC & 400127 & 18.45 & -66.06 & Puerto Rico & PR & San Juan & \\emph{missing} & \\emph{missing} & \\emph{missing} & \\emph{missing} & \\emph{missing} & \\emph{missing} & 63.6 & 0.0 & 0.0 & 24.8 & 0.0 & 0.0 \\\\\n",
       "\t28 & Advanced Care Hospital of Montana & ADVANCED CARE HOSPITAL OF MONTANA & 272001 & 45.7432 & -108.605 & Montana & MT & Billings & \\emph{missing} & \\emph{missing} & 27005 & Billings, MT & 274 & Billings, MT & 15.2 & 9.4 & 0.618421 & 0.4 & 0.0 & 0.0 \\\\\n",
       "\t29 & Advanced Care Hospital of Southern New Mexico & ADVANCED CARE HOSPITAL OF SOUTHERN NEW MEXICO LLC & 322004 & 32.3261 & -106.725 & New Mexico & NM & Las Cruces & \\emph{missing} & \\emph{missing} & 32015 & Las Cruces, NM & 393 & El Paso, TX & 6.0 & 0.0 & 0.0 & 0.0 & 0.0 & 0.0 \\\\\n",
       "\t30 & Advanced Care Hospital of White County & ADVANCED CARE HOSPITAL WHITE COUNTY & 042011 & 35.2339 & -91.732 & Arkansas & AR & Searcy & HSI00001145 & Unity Health & 4066 & Searcy, AR & 19 & Little Rock, AR & 4.8 & 10.6 & 2.20833 & 2.4 & 10.6 & 4.41667 \\\\\n",
       "\t$\\dots$ & $\\dots$ & $\\dots$ & $\\dots$ & $\\dots$ & $\\dots$ & $\\dots$ & $\\dots$ & $\\dots$ & $\\dots$ & $\\dots$ & $\\dots$ & $\\dots$ & $\\dots$ & $\\dots$ & $\\dots$ & $\\dots$ & $\\dots$ & $\\dots$ & $\\dots$ & $\\dots$ \\\\\n",
       "\\end{tabular}\n"
      ],
      "text/plain": [
       "\u001b[1m4785×20 DataFrame\u001b[0m\n",
       "\u001b[1m  Row \u001b[0m│\u001b[1m hospital                          \u001b[0m\u001b[1m hhsname                           \u001b[0m\u001b[1m hospital_id \u001b[0m\u001b[1m lat     \u001b[0m\u001b[1m long      \u001b[0m\u001b[1m state          \u001b[0m\u001b[1m state_abbrev \u001b[0m\u001b[1m city          \u001b[0m\u001b[1m system_id   \u001b[0m\u001b[1m system_name                     \u001b[0m\u001b[1m hsa_id \u001b[0m\u001b[1m hsa_name          \u001b[0m\u001b[1m hrr_id \u001b[0m\u001b[1m hrr_name          \u001b[0m\u001b[1m total_beds \u001b[0m\u001b[1m total_occupancy \u001b[0m\u001b[1m total_load \u001b[0m\u001b[1m icu_beds \u001b[0m\u001b[1m icu_occupancy \u001b[0m\u001b[1m icu_load \u001b[0m\n",
       "\u001b[1m      \u001b[0m│\u001b[90m String?                           \u001b[0m\u001b[90m String?                           \u001b[0m\u001b[90m String?     \u001b[0m\u001b[90m Float64 \u001b[0m\u001b[90m Float64   \u001b[0m\u001b[90m String?        \u001b[0m\u001b[90m String?      \u001b[0m\u001b[90m String?       \u001b[0m\u001b[90m String?     \u001b[0m\u001b[90m String?                         \u001b[0m\u001b[90m Int64? \u001b[0m\u001b[90m String?           \u001b[0m\u001b[90m Int64? \u001b[0m\u001b[90m String?           \u001b[0m\u001b[90m Float64    \u001b[0m\u001b[90m Float64?        \u001b[0m\u001b[90m Float64    \u001b[0m\u001b[90m Float64  \u001b[0m\u001b[90m Float64?      \u001b[0m\u001b[90m Float64  \u001b[0m\n",
       "──────┼────────────────────────────────────────────────────────────────────────────────────────────────────────────────────────────────────────────────────────────────────────────────────────────────────────────────────────────────────────────────────────────────────────────────────────────────────────────────────────────────────\n",
       "    1 │ Abbeville Area Medical Center      ABBEVILLE AREA MEDICAL CENTER      421301       34.1579   -82.3815  South Carolina  SC            Abbeville     \u001b[90m missing     \u001b[0m\u001b[90m missing                         \u001b[0m  42001  Abbeville, SC         366  Columbia, SC              6.4              5.6    0.875          0.0            0.0  0.0\n",
       "    2 │ Abbeville General Hospital         ABBEVILLE GENERAL HOSPITAL         190034       29.9737   -92.1077  Louisiana       LA            Abbeville      HSI00000562  Lafayette General Health          19001  Abbeville, LA         213  Lafayette, LA            15.2              5.1    0.335526       2.8            0.0  0.0\n",
       "    3 │ Abbott Northwestern Hospital       ABBOTT NORTHWESTERN HOSPITAL       240057       44.9526   -93.262   Minnesota       MN            Minneapolis    HSI00000029  Allina Health System              24076  Minneapolis, MN       251  Minneapolis, MN         266.0             50.9    0.191353      20.4           15.6  0.764706\n",
       "    4 │ Abilene Regional Medical Center    ABILENE REGIONAL MEDICAL CENTER    450558       32.3747   -99.744   Texas           TX            Abilene        HSI00000249  Community Health Systems          45001  Abilene, TX           382  Abilene, TX              32.8             32.9    1.00305        5.6           10.1  1.80357\n",
       "    5 │ Abington Memorial Hospital         ABINGTON MEMORIAL HOSPITAL         390231       40.1191   -75.1199  Pennsylvania    PA            Abington       HSI00000048  Jefferson Health                  39001  Abington, PA          356  Philadelphia, PA        208.4            105.6    0.506718      22.0           16.6  0.754545\n",
       "    6 │ Abraham Lincoln Memorial Hospital  ABRAHAM LINCOLN MEMORIAL HOSPITAL  141322       40.1535   -89.39    Illinois        IL            Lincoln        HSI00000648  Memorial Health System            14075  Lincoln, IL           172  Springfield, IL          10.0              6.7    0.67           0.0            0.0  0.0\n",
       "    7 │ Abrazo Arrowhead Campus            ABRAZO ARROWHEAD CAMPUS            030094       33.6544  -112.202   Arizona         AZ            Glendale       HSI00001066  Tenet Healthcare Corporation       3022  Phoenix, AZ            12  Phoenix, AZ              74.8            104.7    1.39973       12.0           25.9  2.15833\n",
       "    8 │ Abrazo Central Campus              ABRAZO CENTRAL CAMPUS              030030       33.5256  -112.102   Arizona         AZ            Phoenix        HSI00001066  Tenet Healthcare Corporation       3022  Phoenix, AZ            12  Phoenix, AZ              43.6             64.3    1.47477        8.8           21.3  2.42045\n",
       "    9 │ Abrazo Scottsdale Campus           ABRAZO SCOTTSDALE CAMPUS           030083       33.6393  -111.998   Arizona         AZ            Phoenix        HSI00001066  Tenet Healthcare Corporation       3022  Phoenix, AZ            12  Phoenix, AZ              24.0             43.1    1.79583        4.0            8.6  2.15\n",
       "   10 │ Abrazo West Campus                 ABRAZO WEST CAMPUS                 030110       33.4626  -112.352   Arizona         AZ            Goodyear       HSI00001066  Tenet Healthcare Corporation       3022  Phoenix, AZ            12  Phoenix, AZ              66.4             99.4    1.49699       10.8           23.3  2.15741\n",
       "   11 │ Abrom Kaplan Memorial Hospital     ABROM KAPLAN MEMORIAL HOSPITAL     191322       30.0081   -92.2971  Louisiana       LA            Kaplan         HSI00000562  Lafayette General Health          19042  Kaplan, LA            213  Lafayette, LA            10.4              0.0    0.0            0.0            0.0  0.0\n",
       "  ⋮   │                 ⋮                                  ⋮                       ⋮          ⋮         ⋮            ⋮              ⋮              ⋮             ⋮                      ⋮                   ⋮             ⋮            ⋮             ⋮              ⋮              ⋮             ⋮          ⋮            ⋮           ⋮\n",
       " 4776 │ Yavapai Regional Medical Center    YAVAPAI REGIONAL MEDICAL CENTER    030012       34.5593  -112.481   Arizona         AZ            Prescott       HSI00001273  Yavapai Regional Medical Center    3023  Prescott, AZ           12  Phoenix, AZ              57.6             88.0    1.52778       14.4           16.6  1.15278\n",
       " 4777 │ Yoakum Community Hospital          YOAKUM COMMUNITY HOSPITAL          451346       29.3071   -97.1293  Texas           TX            Yoakum         HSI00000251  Community Hospital Corporation    45264  Victoria, TX          417  Victoria, TX              6.0              5.6    0.933333       0.0            0.0  0.0\n",
       " 4778 │ Yoakum County Hospital             YOAKUM COUNTY HOSPITAL             451308       32.9688  -102.836   Texas           TX            Denver City   \u001b[90m missing     \u001b[0m\u001b[90m missing                         \u001b[0m  45168  Lubbock, TX           400  Lubbock, TX              15.2              4.9    0.322368       0.0            0.0  0.0\n",
       " 4779 │ York General Hospital              YORK GENERAL HOSPITAL              281336       40.8825   -97.5921  Nebraska        NE            York          \u001b[90m missing     \u001b[0m\u001b[90m missing                         \u001b[0m  28080  York, NE              277  Lincoln, NE              11.2              0.0    0.0            0.0            0.0  0.0\n",
       " 4780 │ York Hospital                      YORK HOSPITAL                      200020       43.1425   -70.6523  Maine           ME            York           HSI00001274  York Hospital                     20033  York, ME              222  Portland, ME             19.2              9.4    0.489583       2.0            0.0  0.0\n",
       " 4781 │ York Hospital                      YORK HOSPITAL                      390046       39.9463   -76.7185  Pennsylvania    PA            York           HSI00001243  Wellspan Health                   39140  York, PA              363  York, PA                238.4            142.9    0.599413      24.0           33.1  1.37917\n",
       " 4782 │ Yuma District Hospital             YUMA DISTRICT HOSPITAL             061315       40.1204  -102.737   Colorado        CO            Yuma          \u001b[90m missing     \u001b[0m\u001b[90m missing                         \u001b[0m   6055  Yuma, CO              106  Greeley, CO               8.0              0.0    0.0            0.0            0.0  0.0\n",
       " 4783 │ Yuma Regional Medical Center       YUMA REGIONAL MEDICAL CENTER       030013       32.6823  -114.635   Arizona         AZ            Yuma           HSI00001275  Yuma Regional Medical Center       3037  Yuma, AZ               12  Phoenix, AZ              83.6            118.9    1.42225       13.2           25.7  1.94697\n",
       " 4784 │ Zachary – A.M.G. Specialty Hospi…  ZACHARY - A M G SPECIALTY HOSPIT…  192041       30.6473   -91.1397  Louisiana       LA            Zachary       \u001b[90m missing     \u001b[0m\u001b[90m missing                         \u001b[0m  19093  Zachary, LA           210  Baton Rouge, LA           6.4              0.0    0.0            0.0            0.0  0.0\n",
       " 4785 │ Zuckerberg San Francisco General…  ZUCKERBERG SAN FRANCISCO GENERAL…  050228       37.7557  -122.405   California      CA            San Francisco  HSI00001351  San Francisco Health Network       5208  San Francisco, CA      81  San Francisco, CA        84.0             48.6    0.578571      15.2           11.7  0.769737\n",
       "\u001b[31m                                                                                                                                                                                                                                                                                                                          4764 rows omitted\u001b[0m"
      ]
     },
     "execution_count": 18,
     "metadata": {},
     "output_type": "execute_result"
    }
   ],
   "source": [
    "data_combined = select(data_combined_all,\n",
    "    :hospitalname => :hospital,\n",
    "    :hospital => :hhsname,\n",
    "    :hospital_id,\n",
    "    :lat, :long,\n",
    "    :state, :state_abbrev, :city,\n",
    "    :system_id, :system_name,\n",
    "    :hsa_id, :hsa_name,\n",
    "    :hrr_id, :hrr_name,\n",
    "    :total_beds,\n",
    "    :total_occupancy,\n",
    "    :total_load,\n",
    "    :icu_beds,\n",
    "    :icu_occupancy,\n",
    "    :icu_load,\n",
    ")"
   ]
  },
  {
   "cell_type": "code",
   "execution_count": 19,
   "metadata": {},
   "outputs": [],
   "source": [
    "sort!(data_combined, [:hospital, :hospital_id]);"
   ]
  },
  {
   "cell_type": "code",
   "execution_count": 20,
   "metadata": {},
   "outputs": [],
   "source": [
    "data_combined |> CSV.write(\"../data/hhs_current_load_covid.csv\");"
   ]
  },
  {
   "cell_type": "code",
   "execution_count": 21,
   "metadata": {},
   "outputs": [],
   "source": [
    "data_combined_list = collect([NamedTuple(h) for h in eachrow(data_combined)]);"
   ]
  },
  {
   "cell_type": "code",
   "execution_count": 22,
   "metadata": {},
   "outputs": [],
   "source": [
    "serialize(\"../data/hhs_current_load_covid.jlser\", data_combined_list)"
   ]
  },
  {
   "cell_type": "code",
   "execution_count": null,
   "metadata": {},
   "outputs": [],
   "source": []
  }
 ],
 "metadata": {
  "@webio": {
   "lastCommId": null,
   "lastKernelId": null
  },
  "kernelspec": {
   "display_name": "Julia 1.5.3",
   "language": "julia",
   "name": "julia-1.5"
  },
  "language_info": {
   "file_extension": ".jl",
   "mimetype": "application/julia",
   "name": "julia",
   "version": "1.5.3"
  }
 },
 "nbformat": 4,
 "nbformat_minor": 4
}
