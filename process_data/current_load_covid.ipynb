{
 "cells": [
  {
   "cell_type": "code",
   "execution_count": 1,
   "metadata": {},
   "outputs": [],
   "source": [
    "using CSV\n",
    "using DataFrames\n",
    "using Serialization\n",
    "using Dates"
   ]
  },
  {
   "cell_type": "code",
   "execution_count": 2,
   "metadata": {},
   "outputs": [],
   "source": [
    "ENV[\"COLUMNS\"] = 1000;"
   ]
  },
  {
   "cell_type": "code",
   "execution_count": 3,
   "metadata": {},
   "outputs": [],
   "source": [
    "rawdata = DataFrame(CSV.File(\"../rawdata/md_data_2020_12_01.csv\", missingstring=\"null\"));"
   ]
  },
  {
   "cell_type": "code",
   "execution_count": 4,
   "metadata": {},
   "outputs": [],
   "source": [
    "hospitals = sort(unique(rawdata[!,\"Facility Name\"]));\n",
    "get_hospital_id(h) = h |> hash |> string |> (x -> \"h\" * x[end-7:end]);\n",
    "convert_date(d) = Date(d, dateformat\"m/d/y\") + Year(2000);\n",
    "\n",
    "data = select(rawdata,\n",
    "    \"Facility Name\" => :hospital,\n",
    "    \"Facility Name\" => ByRow(get_hospital_id) => :hospital_id,\n",
    "\n",
    "    \"COVID-19 Patients in Acute Care Beds\" => :acute_occupancy,\n",
    "    \"COVID-19 Patients in ICU\" => :icu_occupancy,\n",
    "    [\"COVID-19 Patients in Acute Care Beds\", \"COVID-19 Patients in ICU\"] => ByRow((a,b) -> a+b) => :total_occupancy,\n",
    ");\n",
    "sort!(data, :hospital);"
   ]
  },
  {
   "cell_type": "code",
   "execution_count": 5,
   "metadata": {},
   "outputs": [],
   "source": [
    "function latest_val(xs)\n",
    "    xs = filter(x -> !ismissing(x), xs)\n",
    "    z = length(xs) == 0 ? missing : xs[end]\n",
    "    z = coalesce(z, 0)\n",
    "    return z\n",
    "end;"
   ]
  },
  {
   "cell_type": "code",
   "execution_count": 6,
   "metadata": {},
   "outputs": [],
   "source": [
    "data_latest = combine(groupby(data, :hospital), [\n",
    "    :hospital_id => latest_val => :hospital_id,\n",
    "    :total_occupancy => latest_val => :total_occupancy,\n",
    "    :icu_occupancy => latest_val => :icu_occupancy,\n",
    "    :acute_occupancy => latest_val => :acute_occupancy,\n",
    "]);"
   ]
  },
  {
   "cell_type": "code",
   "execution_count": 7,
   "metadata": {},
   "outputs": [],
   "source": [
    "capacity_rawdata = DataFrame(CSV.File(\"../data/capacity.csv\"));"
   ]
  },
  {
   "cell_type": "code",
   "execution_count": 8,
   "metadata": {},
   "outputs": [],
   "source": [
    "covid_capacity_pct = 0.4;"
   ]
  },
  {
   "cell_type": "code",
   "execution_count": 9,
   "metadata": {},
   "outputs": [],
   "source": [
    "capacity_data = select(capacity_rawdata,\n",
    "    :hospital,\n",
    "    :capacity_icu => (x -> x .* covid_capacity_pct) => :icu_beds,\n",
    "    :capacity_acute => (x -> x .* covid_capacity_pct) => :acute_beds,\n",
    "    :capacity_allbeds => (x -> x .* covid_capacity_pct) => :total_beds,\n",
    ");"
   ]
  },
  {
   "cell_type": "code",
   "execution_count": 10,
   "metadata": {},
   "outputs": [],
   "source": [
    "data_latest = rightjoin(data_latest, capacity_data, on=:hospital);"
   ]
  },
  {
   "cell_type": "code",
   "execution_count": 11,
   "metadata": {},
   "outputs": [],
   "source": [
    "compute_load(a,b) = (a==0) ? 0.0 : (b==0) ? 1.0 : a/b;"
   ]
  },
  {
   "cell_type": "code",
   "execution_count": 12,
   "metadata": {},
   "outputs": [],
   "source": [
    "data_latest.total_load = compute_load.(data_latest.total_occupancy, data_latest.total_beds);\n",
    "data_latest.icu_load = compute_load.(data_latest.icu_occupancy, data_latest.icu_beds);\n",
    "data_latest.acute_load = compute_load.(data_latest.acute_occupancy, data_latest.acute_beds);"
   ]
  },
  {
   "cell_type": "code",
   "execution_count": 13,
   "metadata": {},
   "outputs": [],
   "source": [
    "metadata = DataFrame(CSV.File(\"../data/hospital_meta.csv\"));\n",
    "filter!(row -> row.in_forecast, metadata);"
   ]
  },
  {
   "cell_type": "code",
   "execution_count": 14,
   "metadata": {},
   "outputs": [],
   "source": [
    "data_combined = rightjoin(data_latest, metadata, on=:hospital, makeunique=true);\n",
    "select!(data_combined, Not(:hospital_id_1));"
   ]
  },
  {
   "cell_type": "code",
   "execution_count": 15,
   "metadata": {},
   "outputs": [],
   "source": [
    "sort!(data_combined, :hospital);"
   ]
  },
  {
   "cell_type": "code",
   "execution_count": 16,
   "metadata": {},
   "outputs": [
    {
     "data": {
      "text/html": [
       "<table class=\"data-frame\"><thead><tr><th></th><th>hospital</th><th>hospital_id</th><th>total_occupancy</th><th>icu_occupancy</th><th>acute_occupancy</th><th>icu_beds</th><th>acute_beds</th><th>total_beds</th><th>total_load</th><th>icu_load</th><th>acute_load</th><th>in_forecast</th><th>address</th><th>county</th><th>healthcare_region</th><th>city</th><th>zipcode</th><th>lat</th><th>long</th><th>place_id</th><th>state</th><th>state_abbrev</th><th>hsa_id</th><th>hsa_name</th><th>hrr_id</th><th>hrr_name</th></tr><tr><th></th><th>String?</th><th>String?</th><th>Int64?</th><th>Int64?</th><th>Int64?</th><th>Float64?</th><th>Float64?</th><th>Float64?</th><th>Float64?</th><th>Float64?</th><th>Float64?</th><th>Bool</th><th>String</th><th>String</th><th>String</th><th>String</th><th>Int64?</th><th>Float64</th><th>Float64</th><th>String</th><th>String</th><th>String</th><th>Int64?</th><th>String?</th><th>Int64?</th><th>String?</th></tr></thead><tbody><p>45 rows × 26 columns</p><tr><th>1</th><td>Anne Arundel Medical Center</td><td>h39740093</td><td>75</td><td>10</td><td>65</td><td>16.0</td><td>113.6</td><td>129.6</td><td>0.578704</td><td>0.625</td><td>0.572183</td><td>1</td><td>2002 Medical Pkwy, Annapolis, MD 21401, USA</td><td>Anne Arundel County</td><td>Region III</td><td>Annapolis</td><td>21401</td><td>38.9904</td><td>-76.5374</td><td>ChIJwQbdhNf2t4kR9wSFLYAT0Go</td><td>Maryland</td><td>MD</td><td>21001</td><td>Annapolis, MD</td><td>113</td><td>Washington, DC</td></tr><tr><th>2</th><td>Atlantic General Hospital</td><td>h92616877</td><td>5</td><td>0</td><td>5</td><td>3.6</td><td>17.2</td><td>20.4</td><td>0.245098</td><td>0.0</td><td>0.290698</td><td>1</td><td>9733 Healthway Dr, Berlin, MD 21811, USA</td><td>Worcester County</td><td>Region IV</td><td>Berlin</td><td>21811</td><td>38.3396</td><td>-75.2115</td><td>ChIJrTSS5gInuYkRtT2krn-1-Jw</td><td>Maryland</td><td>MD</td><td>21029</td><td>Salisbury, MD</td><td>225</td><td>Salisbury, MD</td></tr><tr><th>3</th><td>Baltimore Washington Medical Center</td><td>h75227743</td><td>49</td><td>17</td><td>32</td><td>12.0</td><td>82.4</td><td>94.4</td><td>0.519068</td><td>1.41667</td><td>0.38835</td><td>1</td><td>301 Hospital Dr, Glen Burnie, MD 21061, USA</td><td>Anne Arundel County</td><td>Region III</td><td>Glen Burnie</td><td>21061</td><td>39.1379</td><td>-76.6218</td><td>ChIJofV1-bz8t4kRUG1GNyt_7cA</td><td>Maryland</td><td>MD</td><td>21016</td><td>Glen Burnie, MD</td><td>223</td><td>Baltimore, MD</td></tr><tr><th>4</th><td>Calvert Memorial Hospital</td><td>h51968182</td><td>8</td><td>4</td><td>4</td><td>2.4</td><td>21.6</td><td>23.6</td><td>0.338983</td><td>1.66667</td><td>0.185185</td><td>1</td><td>100 Hospital Rd, Prince Frederick, MD 20678, USA</td><td>Calvert County</td><td>Region V</td><td>Prince Frederick</td><td>20678</td><td>38.5594</td><td>-76.5963</td><td>ChIJGf93tYmCt4kRUHcfYxctVoM</td><td>Maryland</td><td>MD</td><td>21025</td><td>Prince Frederick, MD</td><td>113</td><td>Washington, DC</td></tr><tr><th>5</th><td>Carroll Hospital Center</td><td>h73144964</td><td>16</td><td>4</td><td>12</td><td>4.0</td><td>44.8</td><td>49.2</td><td>0.325203</td><td>1.0</td><td>0.267857</td><td>1</td><td>200 Memorial Ave, Westminster, MD 21157, USA</td><td>Carroll County</td><td>Region III</td><td>Westminster</td><td>21157</td><td>39.5576</td><td>-76.9903</td><td>ChIJX6DoR2s4yIkR_eqhMva6JnY</td><td>Maryland</td><td>MD</td><td>21033</td><td>Westminster, MD</td><td>223</td><td>Baltimore, MD</td></tr><tr><th>6</th><td>Charles Regional (UM)</td><td>h61059656</td><td>7</td><td>2</td><td>5</td><td>4.8</td><td>39.2</td><td>44.4</td><td>0.157658</td><td>0.416667</td><td>0.127551</td><td>1</td><td>5 Garrett Ave, La Plata, MD 20646, USA</td><td>Charles County</td><td>Region V</td><td>La Plata</td><td>20646</td><td>38.529</td><td>-76.9722</td><td>ChIJL0cYbucIt4kR8Bh1L4nlJtc</td><td>Maryland</td><td>MD</td><td>21019</td><td>La Plata, MD</td><td>113</td><td>Washington, DC</td></tr><tr><th>7</th><td>Chestertown (UMSRH)</td><td>h95946725</td><td>0</td><td>0</td><td>0</td><td>0.8</td><td>4.4</td><td>5.2</td><td>0.0</td><td>0.0</td><td>0.0</td><td>1</td><td>223 High St, Chestertown, MD 21620, USA</td><td>Kent County</td><td>Region IV</td><td>Chestertown</td><td>21620</td><td>39.2085</td><td>-76.0657</td><td>ChIJ_1Qaz0OLx4kRb8E80Y10zW0</td><td>Maryland</td><td>MD</td><td>21005</td><td>Chestertown, MD</td><td>223</td><td>Baltimore, MD</td></tr><tr><th>8</th><td>Doctors Community Hospital</td><td>h82233897</td><td>52</td><td>13</td><td>39</td><td>8.8</td><td>74.8</td><td>83.6</td><td>0.62201</td><td>1.47727</td><td>0.52139</td><td>1</td><td>8118 Good Luck Rd, Lanham, MD 20706, USA</td><td>Prince Georges County</td><td>Region V</td><td>Lanham</td><td>20706</td><td>38.9823</td><td>-76.865</td><td>ChIJlxkz022lt4kR4BGhrREiUM0</td><td>Maryland</td><td>MD</td><td>21020</td><td>Lanham, MD</td><td>226</td><td>Takoma Park, MD</td></tr><tr><th>9</th><td>Dorchester (UMSRH)</td><td>h63139553</td><td>0</td><td>0</td><td>0</td><td>0.0</td><td>3.6</td><td>3.6</td><td>0.0</td><td>0.0</td><td>0.0</td><td>1</td><td>300 Byrn St, Cambridge, MD 21613, USA</td><td>Dorchester County</td><td>Region IV</td><td>Cambridge</td><td>21613</td><td>38.5714</td><td>-76.0674</td><td>ChIJW8KAmPZJuIkReFPCqJWGcWw</td><td>Maryland</td><td>MD</td><td>21004</td><td>Cambridge, MD</td><td>225</td><td>Salisbury, MD</td></tr><tr><th>10</th><td>Easton (UMSRH)</td><td>h48881906</td><td>8</td><td>0</td><td>8</td><td>2.4</td><td>26.4</td><td>28.8</td><td>0.277778</td><td>0.0</td><td>0.30303</td><td>1</td><td>111 N W St, Easton, MD 21601, USA</td><td>Talbot County</td><td>Region IV</td><td>Easton</td><td>21601</td><td>38.7755</td><td>-76.0779</td><td>ChIJOYnetntAuIkR91bzxuuSudE</td><td>Maryland</td><td>MD</td><td>21011</td><td>Easton, MD</td><td>223</td><td>Baltimore, MD</td></tr><tr><th>11</th><td>Edward McCready Memorial Hospital</td><td>h55609821</td><td>0</td><td>0</td><td>0</td><td>0.0</td><td>0.0</td><td>0.0</td><td>0.0</td><td>0.0</td><td>0.0</td><td>1</td><td>201 Hall Hwy, Crisfield, MD 21817, USA</td><td>Somerset County</td><td>Region IV</td><td>Crisfield</td><td>21817</td><td>37.9974</td><td>-75.8527</td><td>ChIJ-4yXGwKbuYkRZDZUn-zDK1c</td><td>Maryland</td><td>MD</td><td>21009</td><td>Crisfield, MD</td><td>225</td><td>Salisbury, MD</td></tr><tr><th>12</th><td>Fort Washington Hospital</td><td>h24459724</td><td>3</td><td>0</td><td>3</td><td>1.6</td><td>9.2</td><td>10.8</td><td>0.277778</td><td>0.0</td><td>0.326087</td><td>1</td><td>11711 Livingston Rd, Fort Washington, MD 20744, USA</td><td>Prince Georges County</td><td>Region V</td><td>Fort Washington</td><td>20744</td><td>38.7285</td><td>-76.9926</td><td>ChIJ8Q-M0G2lt4kR5ZiIaMcPIn0</td><td>Maryland</td><td>MD</td><td>9001</td><td>Washington, DC</td><td>113</td><td>Washington, DC</td></tr><tr><th>13</th><td>Franklin Square (MedStar)</td><td>h41936996</td><td>79</td><td>17</td><td>62</td><td>17.2</td><td>107.6</td><td>125.2</td><td>0.63099</td><td>0.988372</td><td>0.576208</td><td>1</td><td>9000 Franklin Square Dr, Baltimore, MD 21237, USA</td><td>Baltimore County</td><td>Region III</td><td>Baltimore</td><td>21237</td><td>39.3515</td><td>-76.4798</td><td>ChIJi94w0d8HyIkRLpjbeMfJ4Ag</td><td>Maryland</td><td>MD</td><td>21002</td><td>Baltimore, MD</td><td>223</td><td>Baltimore, MD</td></tr><tr><th>14</th><td>Frederick Memorial Hospital</td><td>h27068501</td><td>36</td><td>4</td><td>32</td><td>7.6</td><td>87.6</td><td>95.2</td><td>0.378151</td><td>0.526316</td><td>0.365297</td><td>1</td><td>400 W 7th St, Frederick, MD 21701, USA</td><td>Frederick County</td><td>Region II</td><td>Frederick</td><td>21701</td><td>39.4233</td><td>-77.4147</td><td>ChIJ0YmlpfnayYkRAKI6gkl5Gy8</td><td>Maryland</td><td>MD</td><td>21014</td><td>Frederick, MD</td><td>113</td><td>Washington, DC</td></tr><tr><th>15</th><td>Garrett Memorial Hospital (WVU)</td><td>h89650230</td><td>18</td><td>3</td><td>15</td><td>1.6</td><td>16.4</td><td>18.4</td><td>0.978261</td><td>1.875</td><td>0.914634</td><td>1</td><td>251 N 4th St, Oakland, MD 21550, USA</td><td>Garrett County</td><td>Region I</td><td>Oakland</td><td>21550</td><td>39.4134</td><td>-79.4009</td><td>ChIJ3_RoFaCsSogRRR239GLaKHA</td><td>Maryland</td><td>MD</td><td>21023</td><td>Oakland, MD</td><td>445</td><td>Morgantown, WV</td></tr><tr><th>16</th><td>Good Samaritan Hospital (MedStar)</td><td>h99606414</td><td>37</td><td>6</td><td>31</td><td>11.2</td><td>56.8</td><td>68.0</td><td>0.544118</td><td>0.535714</td><td>0.545775</td><td>1</td><td>5601 Loch Raven Blvd, Baltimore, MD 21239, USA</td><td>Baltimore City</td><td>Region III</td><td>Baltimore</td><td>21239</td><td>39.358</td><td>-76.5866</td><td>ChIJ63mL3IQFyIkRU6K4Sol0B3E</td><td>Maryland</td><td>MD</td><td>21002</td><td>Baltimore, MD</td><td>223</td><td>Baltimore, MD</td></tr><tr><th>17</th><td>Grace Medical Center</td><td>h55471441</td><td>0</td><td>0</td><td>0</td><td>0.0</td><td>3.2</td><td>3.2</td><td>0.0</td><td>0.0</td><td>0.0</td><td>1</td><td>2000 W Baltimore St, Baltimore, MD 21223, USA</td><td>Baltimore City</td><td>Region III</td><td>Baltimore</td><td>21223</td><td>39.2893</td><td>-76.6496</td><td>ChIJb7ASF6kcyIkRXrwBvRMQcao</td><td>Maryland</td><td>MD</td><td>21002</td><td>Baltimore, MD</td><td>223</td><td>Baltimore, MD</td></tr><tr><th>18</th><td>Greater Baltimore Medical Center</td><td>h65349594</td><td>38</td><td>10</td><td>28</td><td>9.6</td><td>81.6</td><td>91.2</td><td>0.416667</td><td>1.04167</td><td>0.343137</td><td>1</td><td>6701 N Charles St, Towson, MD 21204, USA</td><td>Baltimore County</td><td>Region III</td><td>Towson</td><td>21204</td><td>39.3918</td><td>-76.6242</td><td>ChIJU-Lnv-kPyIkRh_OAo-RyvuQ</td><td>Maryland</td><td>MD</td><td>21002</td><td>Baltimore, MD</td><td>223</td><td>Baltimore, MD</td></tr><tr><th>19</th><td>Harbor Hospital (MedStar)</td><td>h26221809</td><td>22</td><td>7</td><td>15</td><td>5.2</td><td>29.6</td><td>34.8</td><td>0.632184</td><td>1.34615</td><td>0.506757</td><td>1</td><td>3001 S Hanover St, Baltimore, MD 21225, USA</td><td>Baltimore City</td><td>Region III</td><td>Baltimore</td><td>21225</td><td>39.2516</td><td>-76.6138</td><td>ChIJ85XEtx4DyIkRY9oxGMM1OAQ</td><td>Maryland</td><td>MD</td><td>21002</td><td>Baltimore, MD</td><td>223</td><td>Baltimore, MD</td></tr><tr><th>20</th><td>Harford Memorial Hospital (UMUCH)</td><td>h63170115</td><td>14</td><td>0</td><td>14</td><td>2.4</td><td>24.8</td><td>27.2</td><td>0.514706</td><td>0.0</td><td>0.564516</td><td>1</td><td>501 S Union Ave, Havre De Grace, MD 21078, USA</td><td>Harford County</td><td>Region III</td><td>Havre de Grace</td><td>21078</td><td>39.543</td><td>-76.0909</td><td>ChIJ0-3S3ajAx4kR6YSZLPGiblQ</td><td>Maryland</td><td>MD</td><td>21018</td><td>Havre De Grace, MD</td><td>223</td><td>Baltimore, MD</td></tr><tr><th>21</th><td>Holy Cross Germantown</td><td>h47529315</td><td>14</td><td>6</td><td>8</td><td>4.8</td><td>22.0</td><td>26.8</td><td>0.522388</td><td>1.25</td><td>0.363636</td><td>1</td><td>19801 Observation Dr, Germantown, MD 20876, USA</td><td>Montgomery County</td><td>Region V</td><td>Germantown</td><td>20876</td><td>39.1817</td><td>-77.2425</td><td>ChIJU4d3KWIstokRWbzZoJ-lXrA</td><td>Maryland</td><td>MD</td><td>21028</td><td>Rockville, MD</td><td>113</td><td>Washington, DC</td></tr><tr><th>22</th><td>Holy Cross Hospital</td><td>h32841492</td><td>76</td><td>28</td><td>48</td><td>20.0</td><td>126.0</td><td>146.0</td><td>0.520548</td><td>1.4</td><td>0.380952</td><td>1</td><td>19801 Observation Dr, Germantown, MD 20876, USA</td><td>Montgomery County</td><td>Region V</td><td>Germantown</td><td>20876</td><td>39.1817</td><td>-77.2425</td><td>ChIJU4d3KWIstokRWbzZoJ-lXrA</td><td>Maryland</td><td>MD</td><td>21028</td><td>Rockville, MD</td><td>113</td><td>Washington, DC</td></tr><tr><th>23</th><td>Howard County General Hospital (JHM)</td><td>h01871291</td><td>42</td><td>9</td><td>33</td><td>12.0</td><td>65.2</td><td>77.2</td><td>0.544041</td><td>0.75</td><td>0.506135</td><td>1</td><td>5755 Cedar Ln, Columbia, MD 21044, USA</td><td>Howard County</td><td>Region III</td><td>Columbia</td><td>21044</td><td>39.2133</td><td>-76.8836</td><td>ChIJSwHJPxLft4kR7rkSh1PsYP4</td><td>Maryland</td><td>MD</td><td>21008</td><td>Columbia, MD</td><td>223</td><td>Baltimore, MD</td></tr><tr><th>24</th><td>Johns Hopkins Bayview Medical Center</td><td>h71848553</td><td>42</td><td>12</td><td>30</td><td>20.4</td><td>84.4</td><td>104.8</td><td>0.400763</td><td>0.588235</td><td>0.35545</td><td>1</td><td>4940 Eastern Ave, Baltimore, MD 21224, USA</td><td>Baltimore City</td><td>Region III</td><td>Baltimore</td><td>21224</td><td>39.2902</td><td>-76.5471</td><td>ChIJY5YO5acGyIkRf4FQb5H8jz8</td><td>Maryland</td><td>MD</td><td>21002</td><td>Baltimore, MD</td><td>223</td><td>Baltimore, MD</td></tr><tr><th>25</th><td>Johns Hopkins Hospital</td><td>h31492371</td><td>73</td><td>19</td><td>54</td><td>49.6</td><td>221.2</td><td>270.8</td><td>0.269572</td><td>0.383065</td><td>0.244123</td><td>1</td><td>1800 Orleans St, Baltimore, MD 21287, USA</td><td>Baltimore City</td><td>Region III</td><td>Baltimore</td><td>21287</td><td>39.2967</td><td>-76.5927</td><td>ChIJQZt_3WIEyIkRj4yKpDbd7ew</td><td>Maryland</td><td>MD</td><td>21002</td><td>Baltimore, MD</td><td>223</td><td>Baltimore, MD</td></tr><tr><th>26</th><td>Mercy Medical Center</td><td>h10665696</td><td>19</td><td>2</td><td>17</td><td>6.8</td><td>59.6</td><td>66.4</td><td>0.286145</td><td>0.294118</td><td>0.285235</td><td>1</td><td>345 St Paul Pl, Baltimore, MD 21202, USA</td><td>Baltimore City</td><td>Region III</td><td>Baltimore</td><td>21202</td><td>39.2931</td><td>-76.6127</td><td>ChIJPwGTyZ4EyIkRuFeRl_oktRc</td><td>Maryland</td><td>MD</td><td>21002</td><td>Baltimore, MD</td><td>223</td><td>Baltimore, MD</td></tr><tr><th>27</th><td>Meritus Medical Center</td><td>h04568025</td><td>63</td><td>11</td><td>52</td><td>9.6</td><td>70.4</td><td>80.0</td><td>0.7875</td><td>1.14583</td><td>0.738636</td><td>1</td><td>11116 Medical Campus Rd, Hagerstown, MD 21742, USA</td><td>Washington County</td><td>Region II</td><td>Hagerstown</td><td>21742</td><td>39.623</td><td>-77.6846</td><td>ChIJn3H43DjtyYkRZfwiJAPhepk</td><td>Maryland</td><td>MD</td><td>21017</td><td>Hagerstown, MD</td><td>113</td><td>Washington, DC</td></tr><tr><th>28</th><td>Montgomery Medical Center (MedStar)</td><td>h02352027</td><td>23</td><td>5</td><td>18</td><td>2.8</td><td>31.6</td><td>34.4</td><td>0.668605</td><td>1.78571</td><td>0.56962</td><td>1</td><td>18101 Prince Philip Dr, Olney, MD 20832, USA</td><td>Montgomery County</td><td>Region V</td><td>Olney</td><td>20832</td><td>39.1538</td><td>-77.0548</td><td>ChIJyZAubuDQt4kRbF4P6v1q4-c</td><td>Maryland</td><td>MD</td><td>21024</td><td>Olney, MD</td><td>226</td><td>Takoma Park, MD</td></tr><tr><th>29</th><td>Northwest Hospital</td><td>h39982428</td><td>46</td><td>21</td><td>25</td><td>6.8</td><td>44.0</td><td>50.8</td><td>0.905512</td><td>3.08824</td><td>0.568182</td><td>1</td><td>5401 Old Court Rd, Randallstown, MD 21133, USA</td><td>Baltimore County</td><td>Region III</td><td>Randallstown</td><td>21133</td><td>39.3588</td><td>-76.7811</td><td>ChIJlwLnfE0YyIkR2k8N9-3LpAY</td><td>Maryland</td><td>MD</td><td>21026</td><td>Randallstown, MD</td><td>223</td><td>Baltimore, MD</td></tr><tr><th>30</th><td>Peninsula Regional Medical Center</td><td>h89427760</td><td>42</td><td>3</td><td>39</td><td>15.6</td><td>83.6</td><td>98.8</td><td>0.425101</td><td>0.192308</td><td>0.466507</td><td>1</td><td>100 E Carroll St, Salisbury, MD 21801, USA</td><td>Wicomico County</td><td>Region IV</td><td>Salisbury</td><td>21801</td><td>38.3618</td><td>-75.5985</td><td>ChIJsWgL1uoDuYkRAk9TEBEMZag</td><td>Maryland</td><td>MD</td><td>21029</td><td>Salisbury, MD</td><td>225</td><td>Salisbury, MD</td></tr><tr><th>&vellip;</th><td>&vellip;</td><td>&vellip;</td><td>&vellip;</td><td>&vellip;</td><td>&vellip;</td><td>&vellip;</td><td>&vellip;</td><td>&vellip;</td><td>&vellip;</td><td>&vellip;</td><td>&vellip;</td><td>&vellip;</td><td>&vellip;</td><td>&vellip;</td><td>&vellip;</td><td>&vellip;</td><td>&vellip;</td><td>&vellip;</td><td>&vellip;</td><td>&vellip;</td><td>&vellip;</td><td>&vellip;</td><td>&vellip;</td><td>&vellip;</td><td>&vellip;</td><td>&vellip;</td></tr></tbody></table>"
      ],
      "text/latex": [
       "\\begin{tabular}{r|cccccccccccccccccccccccccc}\n",
       "\t& hospital & hospital\\_id & total\\_occupancy & icu\\_occupancy & acute\\_occupancy & icu\\_beds & acute\\_beds & total\\_beds & total\\_load & icu\\_load & acute\\_load & in\\_forecast & address & county & healthcare\\_region & city & zipcode & lat & long & place\\_id & state & state\\_abbrev & hsa\\_id & hsa\\_name & hrr\\_id & hrr\\_name\\\\\n",
       "\t\\hline\n",
       "\t& String? & String? & Int64? & Int64? & Int64? & Float64? & Float64? & Float64? & Float64? & Float64? & Float64? & Bool & String & String & String & String & Int64? & Float64 & Float64 & String & String & String & Int64? & String? & Int64? & String?\\\\\n",
       "\t\\hline\n",
       "\t1 & Anne Arundel Medical Center & h39740093 & 75 & 10 & 65 & 16.0 & 113.6 & 129.6 & 0.578704 & 0.625 & 0.572183 & 1 & 2002 Medical Pkwy, Annapolis, MD 21401, USA & Anne Arundel County & Region III & Annapolis & 21401 & 38.9904 & -76.5374 & ChIJwQbdhNf2t4kR9wSFLYAT0Go & Maryland & MD & 21001 & Annapolis, MD & 113 & Washington, DC \\\\\n",
       "\t2 & Atlantic General Hospital & h92616877 & 5 & 0 & 5 & 3.6 & 17.2 & 20.4 & 0.245098 & 0.0 & 0.290698 & 1 & 9733 Healthway Dr, Berlin, MD 21811, USA & Worcester County & Region IV & Berlin & 21811 & 38.3396 & -75.2115 & ChIJrTSS5gInuYkRtT2krn-1-Jw & Maryland & MD & 21029 & Salisbury, MD & 225 & Salisbury, MD \\\\\n",
       "\t3 & Baltimore Washington Medical Center & h75227743 & 49 & 17 & 32 & 12.0 & 82.4 & 94.4 & 0.519068 & 1.41667 & 0.38835 & 1 & 301 Hospital Dr, Glen Burnie, MD 21061, USA & Anne Arundel County & Region III & Glen Burnie & 21061 & 39.1379 & -76.6218 & ChIJofV1-bz8t4kRUG1GNyt\\_7cA & Maryland & MD & 21016 & Glen Burnie, MD & 223 & Baltimore, MD \\\\\n",
       "\t4 & Calvert Memorial Hospital & h51968182 & 8 & 4 & 4 & 2.4 & 21.6 & 23.6 & 0.338983 & 1.66667 & 0.185185 & 1 & 100 Hospital Rd, Prince Frederick, MD 20678, USA & Calvert County & Region V & Prince Frederick & 20678 & 38.5594 & -76.5963 & ChIJGf93tYmCt4kRUHcfYxctVoM & Maryland & MD & 21025 & Prince Frederick, MD & 113 & Washington, DC \\\\\n",
       "\t5 & Carroll Hospital Center & h73144964 & 16 & 4 & 12 & 4.0 & 44.8 & 49.2 & 0.325203 & 1.0 & 0.267857 & 1 & 200 Memorial Ave, Westminster, MD 21157, USA & Carroll County & Region III & Westminster & 21157 & 39.5576 & -76.9903 & ChIJX6DoR2s4yIkR\\_eqhMva6JnY & Maryland & MD & 21033 & Westminster, MD & 223 & Baltimore, MD \\\\\n",
       "\t6 & Charles Regional (UM) & h61059656 & 7 & 2 & 5 & 4.8 & 39.2 & 44.4 & 0.157658 & 0.416667 & 0.127551 & 1 & 5 Garrett Ave, La Plata, MD 20646, USA & Charles County & Region V & La Plata & 20646 & 38.529 & -76.9722 & ChIJL0cYbucIt4kR8Bh1L4nlJtc & Maryland & MD & 21019 & La Plata, MD & 113 & Washington, DC \\\\\n",
       "\t7 & Chestertown (UMSRH) & h95946725 & 0 & 0 & 0 & 0.8 & 4.4 & 5.2 & 0.0 & 0.0 & 0.0 & 1 & 223 High St, Chestertown, MD 21620, USA & Kent County & Region IV & Chestertown & 21620 & 39.2085 & -76.0657 & ChIJ\\_1Qaz0OLx4kRb8E80Y10zW0 & Maryland & MD & 21005 & Chestertown, MD & 223 & Baltimore, MD \\\\\n",
       "\t8 & Doctors Community Hospital & h82233897 & 52 & 13 & 39 & 8.8 & 74.8 & 83.6 & 0.62201 & 1.47727 & 0.52139 & 1 & 8118 Good Luck Rd, Lanham, MD 20706, USA & Prince Georges County & Region V & Lanham & 20706 & 38.9823 & -76.865 & ChIJlxkz022lt4kR4BGhrREiUM0 & Maryland & MD & 21020 & Lanham, MD & 226 & Takoma Park, MD \\\\\n",
       "\t9 & Dorchester (UMSRH) & h63139553 & 0 & 0 & 0 & 0.0 & 3.6 & 3.6 & 0.0 & 0.0 & 0.0 & 1 & 300 Byrn St, Cambridge, MD 21613, USA & Dorchester County & Region IV & Cambridge & 21613 & 38.5714 & -76.0674 & ChIJW8KAmPZJuIkReFPCqJWGcWw & Maryland & MD & 21004 & Cambridge, MD & 225 & Salisbury, MD \\\\\n",
       "\t10 & Easton (UMSRH) & h48881906 & 8 & 0 & 8 & 2.4 & 26.4 & 28.8 & 0.277778 & 0.0 & 0.30303 & 1 & 111 N W St, Easton, MD 21601, USA & Talbot County & Region IV & Easton & 21601 & 38.7755 & -76.0779 & ChIJOYnetntAuIkR91bzxuuSudE & Maryland & MD & 21011 & Easton, MD & 223 & Baltimore, MD \\\\\n",
       "\t11 & Edward McCready Memorial Hospital & h55609821 & 0 & 0 & 0 & 0.0 & 0.0 & 0.0 & 0.0 & 0.0 & 0.0 & 1 & 201 Hall Hwy, Crisfield, MD 21817, USA & Somerset County & Region IV & Crisfield & 21817 & 37.9974 & -75.8527 & ChIJ-4yXGwKbuYkRZDZUn-zDK1c & Maryland & MD & 21009 & Crisfield, MD & 225 & Salisbury, MD \\\\\n",
       "\t12 & Fort Washington Hospital & h24459724 & 3 & 0 & 3 & 1.6 & 9.2 & 10.8 & 0.277778 & 0.0 & 0.326087 & 1 & 11711 Livingston Rd, Fort Washington, MD 20744, USA & Prince Georges County & Region V & Fort Washington & 20744 & 38.7285 & -76.9926 & ChIJ8Q-M0G2lt4kR5ZiIaMcPIn0 & Maryland & MD & 9001 & Washington, DC & 113 & Washington, DC \\\\\n",
       "\t13 & Franklin Square (MedStar) & h41936996 & 79 & 17 & 62 & 17.2 & 107.6 & 125.2 & 0.63099 & 0.988372 & 0.576208 & 1 & 9000 Franklin Square Dr, Baltimore, MD 21237, USA & Baltimore County & Region III & Baltimore & 21237 & 39.3515 & -76.4798 & ChIJi94w0d8HyIkRLpjbeMfJ4Ag & Maryland & MD & 21002 & Baltimore, MD & 223 & Baltimore, MD \\\\\n",
       "\t14 & Frederick Memorial Hospital & h27068501 & 36 & 4 & 32 & 7.6 & 87.6 & 95.2 & 0.378151 & 0.526316 & 0.365297 & 1 & 400 W 7th St, Frederick, MD 21701, USA & Frederick County & Region II & Frederick & 21701 & 39.4233 & -77.4147 & ChIJ0YmlpfnayYkRAKI6gkl5Gy8 & Maryland & MD & 21014 & Frederick, MD & 113 & Washington, DC \\\\\n",
       "\t15 & Garrett Memorial Hospital (WVU) & h89650230 & 18 & 3 & 15 & 1.6 & 16.4 & 18.4 & 0.978261 & 1.875 & 0.914634 & 1 & 251 N 4th St, Oakland, MD 21550, USA & Garrett County & Region I & Oakland & 21550 & 39.4134 & -79.4009 & ChIJ3\\_RoFaCsSogRRR239GLaKHA & Maryland & MD & 21023 & Oakland, MD & 445 & Morgantown, WV \\\\\n",
       "\t16 & Good Samaritan Hospital (MedStar) & h99606414 & 37 & 6 & 31 & 11.2 & 56.8 & 68.0 & 0.544118 & 0.535714 & 0.545775 & 1 & 5601 Loch Raven Blvd, Baltimore, MD 21239, USA & Baltimore City & Region III & Baltimore & 21239 & 39.358 & -76.5866 & ChIJ63mL3IQFyIkRU6K4Sol0B3E & Maryland & MD & 21002 & Baltimore, MD & 223 & Baltimore, MD \\\\\n",
       "\t17 & Grace Medical Center & h55471441 & 0 & 0 & 0 & 0.0 & 3.2 & 3.2 & 0.0 & 0.0 & 0.0 & 1 & 2000 W Baltimore St, Baltimore, MD 21223, USA & Baltimore City & Region III & Baltimore & 21223 & 39.2893 & -76.6496 & ChIJb7ASF6kcyIkRXrwBvRMQcao & Maryland & MD & 21002 & Baltimore, MD & 223 & Baltimore, MD \\\\\n",
       "\t18 & Greater Baltimore Medical Center & h65349594 & 38 & 10 & 28 & 9.6 & 81.6 & 91.2 & 0.416667 & 1.04167 & 0.343137 & 1 & 6701 N Charles St, Towson, MD 21204, USA & Baltimore County & Region III & Towson & 21204 & 39.3918 & -76.6242 & ChIJU-Lnv-kPyIkRh\\_OAo-RyvuQ & Maryland & MD & 21002 & Baltimore, MD & 223 & Baltimore, MD \\\\\n",
       "\t19 & Harbor Hospital (MedStar) & h26221809 & 22 & 7 & 15 & 5.2 & 29.6 & 34.8 & 0.632184 & 1.34615 & 0.506757 & 1 & 3001 S Hanover St, Baltimore, MD 21225, USA & Baltimore City & Region III & Baltimore & 21225 & 39.2516 & -76.6138 & ChIJ85XEtx4DyIkRY9oxGMM1OAQ & Maryland & MD & 21002 & Baltimore, MD & 223 & Baltimore, MD \\\\\n",
       "\t20 & Harford Memorial Hospital (UMUCH) & h63170115 & 14 & 0 & 14 & 2.4 & 24.8 & 27.2 & 0.514706 & 0.0 & 0.564516 & 1 & 501 S Union Ave, Havre De Grace, MD 21078, USA & Harford County & Region III & Havre de Grace & 21078 & 39.543 & -76.0909 & ChIJ0-3S3ajAx4kR6YSZLPGiblQ & Maryland & MD & 21018 & Havre De Grace, MD & 223 & Baltimore, MD \\\\\n",
       "\t21 & Holy Cross Germantown & h47529315 & 14 & 6 & 8 & 4.8 & 22.0 & 26.8 & 0.522388 & 1.25 & 0.363636 & 1 & 19801 Observation Dr, Germantown, MD 20876, USA & Montgomery County & Region V & Germantown & 20876 & 39.1817 & -77.2425 & ChIJU4d3KWIstokRWbzZoJ-lXrA & Maryland & MD & 21028 & Rockville, MD & 113 & Washington, DC \\\\\n",
       "\t22 & Holy Cross Hospital & h32841492 & 76 & 28 & 48 & 20.0 & 126.0 & 146.0 & 0.520548 & 1.4 & 0.380952 & 1 & 19801 Observation Dr, Germantown, MD 20876, USA & Montgomery County & Region V & Germantown & 20876 & 39.1817 & -77.2425 & ChIJU4d3KWIstokRWbzZoJ-lXrA & Maryland & MD & 21028 & Rockville, MD & 113 & Washington, DC \\\\\n",
       "\t23 & Howard County General Hospital (JHM) & h01871291 & 42 & 9 & 33 & 12.0 & 65.2 & 77.2 & 0.544041 & 0.75 & 0.506135 & 1 & 5755 Cedar Ln, Columbia, MD 21044, USA & Howard County & Region III & Columbia & 21044 & 39.2133 & -76.8836 & ChIJSwHJPxLft4kR7rkSh1PsYP4 & Maryland & MD & 21008 & Columbia, MD & 223 & Baltimore, MD \\\\\n",
       "\t24 & Johns Hopkins Bayview Medical Center & h71848553 & 42 & 12 & 30 & 20.4 & 84.4 & 104.8 & 0.400763 & 0.588235 & 0.35545 & 1 & 4940 Eastern Ave, Baltimore, MD 21224, USA & Baltimore City & Region III & Baltimore & 21224 & 39.2902 & -76.5471 & ChIJY5YO5acGyIkRf4FQb5H8jz8 & Maryland & MD & 21002 & Baltimore, MD & 223 & Baltimore, MD \\\\\n",
       "\t25 & Johns Hopkins Hospital & h31492371 & 73 & 19 & 54 & 49.6 & 221.2 & 270.8 & 0.269572 & 0.383065 & 0.244123 & 1 & 1800 Orleans St, Baltimore, MD 21287, USA & Baltimore City & Region III & Baltimore & 21287 & 39.2967 & -76.5927 & ChIJQZt\\_3WIEyIkRj4yKpDbd7ew & Maryland & MD & 21002 & Baltimore, MD & 223 & Baltimore, MD \\\\\n",
       "\t26 & Mercy Medical Center & h10665696 & 19 & 2 & 17 & 6.8 & 59.6 & 66.4 & 0.286145 & 0.294118 & 0.285235 & 1 & 345 St Paul Pl, Baltimore, MD 21202, USA & Baltimore City & Region III & Baltimore & 21202 & 39.2931 & -76.6127 & ChIJPwGTyZ4EyIkRuFeRl\\_oktRc & Maryland & MD & 21002 & Baltimore, MD & 223 & Baltimore, MD \\\\\n",
       "\t27 & Meritus Medical Center & h04568025 & 63 & 11 & 52 & 9.6 & 70.4 & 80.0 & 0.7875 & 1.14583 & 0.738636 & 1 & 11116 Medical Campus Rd, Hagerstown, MD 21742, USA & Washington County & Region II & Hagerstown & 21742 & 39.623 & -77.6846 & ChIJn3H43DjtyYkRZfwiJAPhepk & Maryland & MD & 21017 & Hagerstown, MD & 113 & Washington, DC \\\\\n",
       "\t28 & Montgomery Medical Center (MedStar) & h02352027 & 23 & 5 & 18 & 2.8 & 31.6 & 34.4 & 0.668605 & 1.78571 & 0.56962 & 1 & 18101 Prince Philip Dr, Olney, MD 20832, USA & Montgomery County & Region V & Olney & 20832 & 39.1538 & -77.0548 & ChIJyZAubuDQt4kRbF4P6v1q4-c & Maryland & MD & 21024 & Olney, MD & 226 & Takoma Park, MD \\\\\n",
       "\t29 & Northwest Hospital & h39982428 & 46 & 21 & 25 & 6.8 & 44.0 & 50.8 & 0.905512 & 3.08824 & 0.568182 & 1 & 5401 Old Court Rd, Randallstown, MD 21133, USA & Baltimore County & Region III & Randallstown & 21133 & 39.3588 & -76.7811 & ChIJlwLnfE0YyIkR2k8N9-3LpAY & Maryland & MD & 21026 & Randallstown, MD & 223 & Baltimore, MD \\\\\n",
       "\t30 & Peninsula Regional Medical Center & h89427760 & 42 & 3 & 39 & 15.6 & 83.6 & 98.8 & 0.425101 & 0.192308 & 0.466507 & 1 & 100 E Carroll St, Salisbury, MD 21801, USA & Wicomico County & Region IV & Salisbury & 21801 & 38.3618 & -75.5985 & ChIJsWgL1uoDuYkRAk9TEBEMZag & Maryland & MD & 21029 & Salisbury, MD & 225 & Salisbury, MD \\\\\n",
       "\t$\\dots$ & $\\dots$ & $\\dots$ & $\\dots$ & $\\dots$ & $\\dots$ & $\\dots$ & $\\dots$ & $\\dots$ & $\\dots$ & $\\dots$ & $\\dots$ & $\\dots$ & $\\dots$ & $\\dots$ & $\\dots$ & $\\dots$ & $\\dots$ & $\\dots$ & $\\dots$ & $\\dots$ & $\\dots$ & $\\dots$ & $\\dots$ & $\\dots$ & $\\dots$ & $\\dots$ \\\\\n",
       "\\end{tabular}\n"
      ],
      "text/plain": [
       "\u001b[1m45×26 DataFrame\u001b[0m\n",
       "\u001b[1m Row \u001b[0m│\u001b[1m hospital                          \u001b[0m\u001b[1m hospital_id \u001b[0m\u001b[1m total_occupancy \u001b[0m\u001b[1m icu_occupancy \u001b[0m\u001b[1m acute_occupancy \u001b[0m\u001b[1m icu_beds \u001b[0m\u001b[1m acute_beds \u001b[0m\u001b[1m total_beds \u001b[0m\u001b[1m total_load \u001b[0m\u001b[1m icu_load \u001b[0m\u001b[1m acute_load \u001b[0m\u001b[1m in_forecast \u001b[0m\u001b[1m address                           \u001b[0m\u001b[1m county                \u001b[0m\u001b[1m healthcare_region \u001b[0m\u001b[1m city             \u001b[0m\u001b[1m zipcode \u001b[0m\u001b[1m lat     \u001b[0m\u001b[1m long     \u001b[0m\u001b[1m place_id                    \u001b[0m\u001b[1m state    \u001b[0m\u001b[1m state_abbrev \u001b[0m\u001b[1m hsa_id \u001b[0m\u001b[1m hsa_name             \u001b[0m\u001b[1m hrr_id \u001b[0m\u001b[1m hrr_name        \u001b[0m\n",
       "\u001b[1m     \u001b[0m│\u001b[90m String?                           \u001b[0m\u001b[90m String?     \u001b[0m\u001b[90m Int64?          \u001b[0m\u001b[90m Int64?        \u001b[0m\u001b[90m Int64?          \u001b[0m\u001b[90m Float64? \u001b[0m\u001b[90m Float64?   \u001b[0m\u001b[90m Float64?   \u001b[0m\u001b[90m Float64?   \u001b[0m\u001b[90m Float64? \u001b[0m\u001b[90m Float64?   \u001b[0m\u001b[90m Bool        \u001b[0m\u001b[90m String                            \u001b[0m\u001b[90m String                \u001b[0m\u001b[90m String            \u001b[0m\u001b[90m String           \u001b[0m\u001b[90m Int64?  \u001b[0m\u001b[90m Float64 \u001b[0m\u001b[90m Float64  \u001b[0m\u001b[90m String                      \u001b[0m\u001b[90m String   \u001b[0m\u001b[90m String       \u001b[0m\u001b[90m Int64? \u001b[0m\u001b[90m String?              \u001b[0m\u001b[90m Int64? \u001b[0m\u001b[90m String?         \u001b[0m\n",
       "─────┼─────────────────────────────────────────────────────────────────────────────────────────────────────────────────────────────────────────────────────────────────────────────────────────────────────────────────────────────────────────────────────────────────────────────────────────────────────────────────────────────────────────────────────────────────────────────────────────────────────────────────────────\n",
       "   1 │ Anne Arundel Medical Center        h39740093                 75             10               65      16.0       113.6       129.6    0.578704  0.625       0.572183         true  2002 Medical Pkwy, Annapolis, MD…  Anne Arundel County    Region III         Annapolis           21401  38.9904  -76.5374  ChIJwQbdhNf2t4kR9wSFLYAT0Go  Maryland  MD             21001  Annapolis, MD            113  Washington, DC\n",
       "   2 │ Atlantic General Hospital          h92616877                  5              0                5       3.6        17.2        20.4    0.245098  0.0         0.290698         true  9733 Healthway Dr, Berlin, MD 21…  Worcester County       Region IV          Berlin              21811  38.3396  -75.2115  ChIJrTSS5gInuYkRtT2krn-1-Jw  Maryland  MD             21029  Salisbury, MD            225  Salisbury, MD\n",
       "   3 │ Baltimore Washington Medical Cen…  h75227743                 49             17               32      12.0        82.4        94.4    0.519068  1.41667     0.38835          true  301 Hospital Dr, Glen Burnie, MD…  Anne Arundel County    Region III         Glen Burnie         21061  39.1379  -76.6218  ChIJofV1-bz8t4kRUG1GNyt_7cA  Maryland  MD             21016  Glen Burnie, MD          223  Baltimore, MD\n",
       "   4 │ Calvert Memorial Hospital          h51968182                  8              4                4       2.4        21.6        23.6    0.338983  1.66667     0.185185         true  100 Hospital Rd, Prince Frederic…  Calvert County         Region V           Prince Frederick    20678  38.5594  -76.5963  ChIJGf93tYmCt4kRUHcfYxctVoM  Maryland  MD             21025  Prince Frederick, MD     113  Washington, DC\n",
       "   5 │ Carroll Hospital Center            h73144964                 16              4               12       4.0        44.8        49.2    0.325203  1.0         0.267857         true  200 Memorial Ave, Westminster, M…  Carroll County         Region III         Westminster         21157  39.5576  -76.9903  ChIJX6DoR2s4yIkR_eqhMva6JnY  Maryland  MD             21033  Westminster, MD          223  Baltimore, MD\n",
       "   6 │ Charles Regional (UM)              h61059656                  7              2                5       4.8        39.2        44.4    0.157658  0.416667    0.127551         true  5 Garrett Ave, La Plata, MD 2064…  Charles County         Region V           La Plata            20646  38.529   -76.9722  ChIJL0cYbucIt4kR8Bh1L4nlJtc  Maryland  MD             21019  La Plata, MD             113  Washington, DC\n",
       "   7 │ Chestertown (UMSRH)                h95946725                  0              0                0       0.8         4.4         5.2    0.0       0.0         0.0              true  223 High St, Chestertown, MD 216…  Kent County            Region IV          Chestertown         21620  39.2085  -76.0657  ChIJ_1Qaz0OLx4kRb8E80Y10zW0  Maryland  MD             21005  Chestertown, MD          223  Baltimore, MD\n",
       "   8 │ Doctors Community Hospital         h82233897                 52             13               39       8.8        74.8        83.6    0.62201   1.47727     0.52139          true  8118 Good Luck Rd, Lanham, MD 20…  Prince Georges County  Region V           Lanham              20706  38.9823  -76.865   ChIJlxkz022lt4kR4BGhrREiUM0  Maryland  MD             21020  Lanham, MD               226  Takoma Park, MD\n",
       "   9 │ Dorchester (UMSRH)                 h63139553                  0              0                0       0.0         3.6         3.6    0.0       0.0         0.0              true  300 Byrn St, Cambridge, MD 21613…  Dorchester County      Region IV          Cambridge           21613  38.5714  -76.0674  ChIJW8KAmPZJuIkReFPCqJWGcWw  Maryland  MD             21004  Cambridge, MD            225  Salisbury, MD\n",
       "  10 │ Easton (UMSRH)                     h48881906                  8              0                8       2.4        26.4        28.8    0.277778  0.0         0.30303          true  111 N W St, Easton, MD 21601, USA  Talbot County          Region IV          Easton              21601  38.7755  -76.0779  ChIJOYnetntAuIkR91bzxuuSudE  Maryland  MD             21011  Easton, MD               223  Baltimore, MD\n",
       "  11 │ Edward McCready Memorial Hospital  h55609821                  0              0                0       0.0         0.0         0.0    0.0       0.0         0.0              true  201 Hall Hwy, Crisfield, MD 2181…  Somerset County        Region IV          Crisfield           21817  37.9974  -75.8527  ChIJ-4yXGwKbuYkRZDZUn-zDK1c  Maryland  MD             21009  Crisfield, MD            225  Salisbury, MD\n",
       "  ⋮  │                 ⋮                       ⋮              ⋮               ⋮               ⋮            ⋮          ⋮           ⋮           ⋮          ⋮          ⋮            ⋮                       ⋮                            ⋮                    ⋮                 ⋮             ⋮        ⋮        ⋮                   ⋮                  ⋮           ⋮          ⋮              ⋮              ⋮            ⋮\n",
       "  36 │ St. Agnes Hospital                 h90902269                 46              7               39       7.6        68.0        75.6    0.608466  0.921053    0.573529         true  900 S Caton Ave, Baltimore, MD 2…  Baltimore City         Region III         Baltimore           21229  39.2717  -76.6735  ChIJzUjq_-wcyIkRGiP7wQgohik  Maryland  MD             21002  Baltimore, MD            223  Baltimore, MD\n",
       "  37 │ St. Joseph's (UM)                  h04231605                 34              4               30       8.8        50.4        58.8    0.578231  0.454545    0.595238         true  7601 Osler Dr, Towson, MD 21204,…  Baltimore County       Region III         Towson              21204  39.3873  -76.6112  ChIJw2FgP5YPyIkRTJuyE6laXN4  Maryland  MD             21002  Baltimore, MD            223  Baltimore, MD\n",
       "  38 │ St. Mary's Hospital                h60750772                 22              5               17       4.8        34.0        38.8    0.56701   1.04167     0.5              true  25500 Point Lookout Rd, Leonardt…  St. Marys County       Region V           Leonardtown         20650  38.3021  -76.6382  ChIJXVbxEKpot4kRykbUmmrLvn0  Maryland  MD             21022  Leonardtown, MD          113  Washington, DC\n",
       "  39 │ Suburban Hospital                  h44191077                 37              6               31      10.4        60.4        70.8    0.522599  0.576923    0.513245         true  8600 Old Georgetown Rd, Bethesda…  Montgomery County      Region V           Bethesda            20814  38.9971  -77.1103  ChIJQV-qe-fLt4kRH8dxfFKdV1Q  Maryland  MD             21003  Bethesda, MD             113  Washington, DC\n",
       "  40 │ Union Hospital of Cecil County     h36169128                 20              4               16       3.6        30.8        34.4    0.581395  1.11111     0.519481         true  106 Bow St, Elkton, MD 21921, USA  Cecil County           Region IV          Elkton              21921  39.6082  -75.8332  ChIJ0-tSu2evx4kRazjVP4_OKgI  Maryland  MD             21012  Elkton, MD               112  Wilmington, DE\n",
       "  41 │ Union Memorial Hospital (MedStar)  h27405358                 34              8               26      10.8        54.8        65.6    0.518293  0.740741    0.474453         true  201 E University Pkwy, Baltimore…  Baltimore City         Region III         Baltimore           21218  39.3292  -76.6148  ChIJ2WERJB4FyIkRerEyosJUBbc  Maryland  MD             21002  Baltimore, MD            223  Baltimore, MD\n",
       "  42 │ University of Maryland Medical C…  h35874312                 33             11               22      81.2       143.6       224.8    0.146797  0.135468    0.153203         true  22 S Greene St, Baltimore, MD 21…  Baltimore City         Region III         Baltimore           21201  39.288   -76.6248  ChIJaak3ulgDyIkRJBKO0-jW0mQ  Maryland  MD             21002  Baltimore, MD            223  Baltimore, MD\n",
       "  43 │ Upper Chesapeake Medical Center …  h05131983                 42              5               37       9.2        71.2        80.0    0.525     0.543478    0.519663         true  500 Upper Chesapeake Dr, Bel Air…  Harford County         Region III         Bel Air             21014  39.5193  -76.346   ChIJm1LiKOrdx4kR4AaT09y4ZD8  Maryland  MD             21013  Fallston, MD             223  Baltimore, MD\n",
       "  44 │ Western Maryland Medical Center …  h30194845                 82             13               69       5.6        57.2        63.2    1.29747   2.32143     1.20629          true  12502 Willowbrook Rd, Cumberland…  Allegany County        Region I           Cumberland          21502  39.6483  -78.7336  ChIJ43HqbDuJyokRoKuYAB1i5FQ  Maryland  MD             21010  Cumberland, MD           113  Washington, DC\n",
       "  45 │ White Oak Medical Center           h51938610                 28              5               23       9.6        60.0        69.6    0.402299  0.520833    0.383333         true  11890 Healing Way, Silver Spring…  Montgomery County      Region V           Silver Spring       20904  39.0505  -76.9568  ChIJ05suE3PFt4kRg06lbgD_N60  Maryland  MD             21030  Silver Spring, MD        226  Takoma Park, MD\n",
       "\u001b[31m                                                                                                                                                                                                                                                                                                                                                                                                                24 rows omitted\u001b[0m"
      ]
     },
     "execution_count": 16,
     "metadata": {},
     "output_type": "execute_result"
    }
   ],
   "source": [
    "data_combined"
   ]
  },
  {
   "cell_type": "code",
   "execution_count": 17,
   "metadata": {},
   "outputs": [],
   "source": [
    "data_combined |> CSV.write(\"../data/current_load_covid.csv\");"
   ]
  },
  {
   "cell_type": "code",
   "execution_count": 18,
   "metadata": {},
   "outputs": [],
   "source": [
    "data_combined_list = collect([NamedTuple(h) for h in eachrow(data_combined)]);"
   ]
  },
  {
   "cell_type": "code",
   "execution_count": 19,
   "metadata": {},
   "outputs": [],
   "source": [
    "serialize(\"../data/current_load_covid.jlser\", data_combined_list)"
   ]
  },
  {
   "cell_type": "code",
   "execution_count": null,
   "metadata": {},
   "outputs": [],
   "source": []
  }
 ],
 "metadata": {
  "@webio": {
   "lastCommId": null,
   "lastKernelId": null
  },
  "kernelspec": {
   "display_name": "Julia 1.5.3",
   "language": "julia",
   "name": "julia-1.5"
  },
  "language_info": {
   "file_extension": ".jl",
   "mimetype": "application/julia",
   "name": "julia",
   "version": "1.5.3"
  }
 },
 "nbformat": 4,
 "nbformat_minor": 4
}
