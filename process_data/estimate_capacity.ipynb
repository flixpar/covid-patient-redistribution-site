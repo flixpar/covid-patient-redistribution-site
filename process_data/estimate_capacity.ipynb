{
 "cells": [
  {
   "cell_type": "code",
   "execution_count": 1,
   "metadata": {},
   "outputs": [],
   "source": [
    "using CSV\n",
    "using DataFrames\n",
    "using Dates\n",
    "using Gadfly"
   ]
  },
  {
   "cell_type": "code",
   "execution_count": 2,
   "metadata": {},
   "outputs": [],
   "source": [
    "ENV[\"COLUMNS\"] = 1000;"
   ]
  },
  {
   "cell_type": "code",
   "execution_count": 3,
   "metadata": {},
   "outputs": [],
   "source": [
    "rawdata = DataFrame(CSV.File(\"../rawdata/reported_hospital_capacity_admissions_facility_level_weekly_average_timeseries_20210214.csv\"));"
   ]
  },
  {
   "cell_type": "code",
   "execution_count": 4,
   "metadata": {},
   "outputs": [],
   "source": [
    "bad_ids = begin\n",
    "    id_counts = combine(groupby(rawdata, :hospital_pk), :hospital_name => (x -> length(unique(x))) => :n_names)\n",
    "    filter!(x -> x.n_names > 1, id_counts)\n",
    "    unique(id_counts.hospital_pk)\n",
    "end\n",
    "filter!(row -> !(row.hospital_pk in bad_ids), rawdata);"
   ]
  },
  {
   "cell_type": "code",
   "execution_count": 5,
   "metadata": {},
   "outputs": [],
   "source": [
    "data = select(rawdata,\n",
    "    :hospital_name => :hospital,\n",
    "    :hospital_pk => :hospital_id,\n",
    "    :collection_week => :date,\n",
    "    :all_adult_hospital_inpatient_beds_7_day_avg => ByRow(x -> (ismissing(x) || x == -999999) ? missing : x) => :beds_allbeds,\n",
    "    :total_staffed_adult_icu_beds_7_day_avg => ByRow(x -> (ismissing(x) || x == -999999) ? missing : x) => :beds_icu,\n",
    ");\n",
    "data.beds_acute = max.(0, data.beds_allbeds - data.beds_icu)\n",
    "sort!(data, [:hospital, :hospital_id, :date]);"
   ]
  },
  {
   "cell_type": "code",
   "execution_count": 6,
   "metadata": {},
   "outputs": [],
   "source": [
    "start_date = Date(2020,  7, 1)\n",
    "end_date   = Date(2020, 11, 1)\n",
    "date_range = collect(start_date : Day(1) : end_date);"
   ]
  },
  {
   "cell_type": "code",
   "execution_count": 7,
   "metadata": {},
   "outputs": [],
   "source": [
    "function mean_capacity(xs, dates)\n",
    "    xs = [x for (x,d) in zip(xs,dates) if d in date_range]\n",
    "    if all(ismissing.(xs))\n",
    "        return 0\n",
    "    else\n",
    "        xs = filter(x -> !ismissing(x), xs)\n",
    "        return round(Int, sum(xs) / length(xs))\n",
    "    end\n",
    "end;\n",
    "\n",
    "function max_capacity(xs)\n",
    "    if all(ismissing.(xs))\n",
    "        return 0\n",
    "    else\n",
    "        return maximum(skipmissing(xs))\n",
    "    end\n",
    "end;\n",
    "\n",
    "function min_capacity(xs)\n",
    "    if all(ismissing.(xs))\n",
    "        return 0\n",
    "    else\n",
    "        return minimum(skipmissing(xs))\n",
    "    end\n",
    "end;"
   ]
  },
  {
   "cell_type": "code",
   "execution_count": 8,
   "metadata": {},
   "outputs": [],
   "source": [
    "capacity_data = combine(groupby(data, [:hospital, :hospital_id]), [\n",
    "    :beds_icu => min_capacity => :beds_icu_min,\n",
    "    :beds_acute => min_capacity => :beds_acute_min,\n",
    "    :beds_allbeds => min_capacity => :beds_allbeds_min,\n",
    "\n",
    "    [:beds_icu, :date] => mean_capacity => :beds_icu_mean,\n",
    "    [:beds_acute, :date] => mean_capacity => :beds_acute_mean,\n",
    "    [:beds_allbeds, :date] => mean_capacity => :beds_allbeds_mean,\n",
    "        \n",
    "    :beds_icu => max_capacity => :beds_icu_max,\n",
    "    :beds_acute => max_capacity => :beds_acute_max,\n",
    "    :beds_allbeds => max_capacity => :beds_allbeds_max,\n",
    "]);"
   ]
  },
  {
   "cell_type": "code",
   "execution_count": 9,
   "metadata": {},
   "outputs": [],
   "source": [
    "capacity_names_icu = [:beds_icu_min, :beds_icu_mean, :beds_icu_max];\n",
    "capacity_names_acute = [:beds_acute_min, :beds_acute_mean, :beds_acute_max];\n",
    "capacity_names_allbeds = [:beds_allbeds_min, :beds_allbeds_mean, :beds_allbeds_max];"
   ]
  },
  {
   "cell_type": "code",
   "execution_count": 10,
   "metadata": {},
   "outputs": [],
   "source": [
    "sort!(capacity_data, [:hospital, :hospital_id]);"
   ]
  },
  {
   "cell_type": "code",
   "execution_count": 11,
   "metadata": {},
   "outputs": [
    {
     "data": {
      "text/html": [
       "<table class=\"data-frame\"><thead><tr><th></th><th>hospital</th><th>hospital_id</th><th>beds_icu_min</th><th>beds_acute_min</th><th>beds_allbeds_min</th><th>beds_icu_mean</th><th>beds_acute_mean</th><th>beds_allbeds_mean</th><th>beds_icu_max</th><th>beds_acute_max</th><th>beds_allbeds_max</th></tr><tr><th></th><th>String</th><th>String</th><th>Float64</th><th>Float64</th><th>Float64</th><th>Int64</th><th>Int64</th><th>Int64</th><th>Float64</th><th>Float64</th><th>Float64</th></tr></thead><tbody><p>5 rows × 11 columns</p><tr><th>1</th><td>ABBEVILLE AREA MEDICAL CENTER</td><td>421301</td><td>0.0</td><td>10.6</td><td>10.6</td><td>0</td><td>16</td><td>16</td><td>0.0</td><td>18.0</td><td>18.0</td></tr><tr><th>2</th><td>ABBEVILLE GENERAL HOSPITAL</td><td>190034</td><td>5.6</td><td>27.0</td><td>32.6</td><td>7</td><td>31</td><td>38</td><td>7.0</td><td>31.0</td><td>38.0</td></tr><tr><th>3</th><td>ABBOTT NORTHWESTERN HOSPITAL</td><td>240057</td><td>39.4</td><td>352.6</td><td>406.1</td><td>51</td><td>614</td><td>665</td><td>63.3</td><td>642.4</td><td>693.1</td></tr><tr><th>4</th><td>ABILENE REGIONAL MEDICAL CENTER</td><td>450558</td><td>9.3</td><td>51.4</td><td>66.0</td><td>14</td><td>68</td><td>82</td><td>21.3</td><td>86.9</td><td>104.4</td></tr><tr><th>5</th><td>ABINGTON MEMORIAL HOSPITAL</td><td>390231</td><td>52.0</td><td>396.0</td><td>460.0</td><td>55</td><td>466</td><td>521</td><td>64.0</td><td>481.0</td><td>545.0</td></tr></tbody></table>"
      ],
      "text/latex": [
       "\\begin{tabular}{r|ccccccccccc}\n",
       "\t& hospital & hospital\\_id & beds\\_icu\\_min & beds\\_acute\\_min & beds\\_allbeds\\_min & beds\\_icu\\_mean & beds\\_acute\\_mean & beds\\_allbeds\\_mean & beds\\_icu\\_max & beds\\_acute\\_max & beds\\_allbeds\\_max\\\\\n",
       "\t\\hline\n",
       "\t& String & String & Float64 & Float64 & Float64 & Int64 & Int64 & Int64 & Float64 & Float64 & Float64\\\\\n",
       "\t\\hline\n",
       "\t1 & ABBEVILLE AREA MEDICAL CENTER & 421301 & 0.0 & 10.6 & 10.6 & 0 & 16 & 16 & 0.0 & 18.0 & 18.0 \\\\\n",
       "\t2 & ABBEVILLE GENERAL HOSPITAL & 190034 & 5.6 & 27.0 & 32.6 & 7 & 31 & 38 & 7.0 & 31.0 & 38.0 \\\\\n",
       "\t3 & ABBOTT NORTHWESTERN HOSPITAL & 240057 & 39.4 & 352.6 & 406.1 & 51 & 614 & 665 & 63.3 & 642.4 & 693.1 \\\\\n",
       "\t4 & ABILENE REGIONAL MEDICAL CENTER & 450558 & 9.3 & 51.4 & 66.0 & 14 & 68 & 82 & 21.3 & 86.9 & 104.4 \\\\\n",
       "\t5 & ABINGTON MEMORIAL HOSPITAL & 390231 & 52.0 & 396.0 & 460.0 & 55 & 466 & 521 & 64.0 & 481.0 & 545.0 \\\\\n",
       "\\end{tabular}\n"
      ],
      "text/plain": [
       "\u001b[1m5×11 DataFrame\u001b[0m\n",
       "\u001b[1m Row \u001b[0m│\u001b[1m hospital                        \u001b[0m\u001b[1m hospital_id \u001b[0m\u001b[1m beds_icu_min \u001b[0m\u001b[1m beds_acute_min \u001b[0m\u001b[1m beds_allbeds_min \u001b[0m\u001b[1m beds_icu_mean \u001b[0m\u001b[1m beds_acute_mean \u001b[0m\u001b[1m beds_allbeds_mean \u001b[0m\u001b[1m beds_icu_max \u001b[0m\u001b[1m beds_acute_max \u001b[0m\u001b[1m beds_allbeds_max \u001b[0m\n",
       "\u001b[1m     \u001b[0m│\u001b[90m String                          \u001b[0m\u001b[90m String      \u001b[0m\u001b[90m Float64      \u001b[0m\u001b[90m Float64        \u001b[0m\u001b[90m Float64          \u001b[0m\u001b[90m Int64         \u001b[0m\u001b[90m Int64           \u001b[0m\u001b[90m Int64             \u001b[0m\u001b[90m Float64      \u001b[0m\u001b[90m Float64        \u001b[0m\u001b[90m Float64          \u001b[0m\n",
       "─────┼─────────────────────────────────────────────────────────────────────────────────────────────────────────────────────────────────────────────────────────────────────────────────────────────────\n",
       "   1 │ ABBEVILLE AREA MEDICAL CENTER    421301                0.0            10.6              10.6              0               16                 16           0.0            18.0              18.0\n",
       "   2 │ ABBEVILLE GENERAL HOSPITAL       190034                5.6            27.0              32.6              7               31                 38           7.0            31.0              38.0\n",
       "   3 │ ABBOTT NORTHWESTERN HOSPITAL     240057               39.4           352.6             406.1             51              614                665          63.3           642.4             693.1\n",
       "   4 │ ABILENE REGIONAL MEDICAL CENTER  450558                9.3            51.4              66.0             14               68                 82          21.3            86.9             104.4\n",
       "   5 │ ABINGTON MEMORIAL HOSPITAL       390231               52.0           396.0             460.0             55              466                521          64.0           481.0             545.0"
      ]
     },
     "execution_count": 11,
     "metadata": {},
     "output_type": "execute_result"
    }
   ],
   "source": [
    "first(capacity_data, 5)"
   ]
  },
  {
   "cell_type": "code",
   "execution_count": 12,
   "metadata": {},
   "outputs": [],
   "source": [
    "capacity_data_long = stack(capacity_data, Not([:hospital, :hospital_id]), variable_name=:capacity_name, value_name=:capacity_value);"
   ]
  },
  {
   "cell_type": "code",
   "execution_count": 13,
   "metadata": {},
   "outputs": [],
   "source": [
    "capacity_data_long_icu = filter(row -> Symbol(row.capacity_name) in capacity_names_icu, capacity_data_long);\n",
    "capacity_data_long_acute = filter(row -> Symbol(row.capacity_name) in capacity_names_acute, capacity_data_long);\n",
    "capacity_data_long_allbeds = filter(row -> Symbol(row.capacity_name) in capacity_names_allbeds, capacity_data_long);"
   ]
  },
  {
   "cell_type": "code",
   "execution_count": 14,
   "metadata": {},
   "outputs": [],
   "source": [
    "capacity_data_output = select(capacity_data, :hospital, :hospital_id, :beds_icu_mean => :capacity_icu, :beds_acute_mean => :capacity_acute, :beds_allbeds_mean => :capacity_allbeds);"
   ]
  },
  {
   "cell_type": "code",
   "execution_count": 15,
   "metadata": {},
   "outputs": [],
   "source": [
    "filter!(row -> row.capacity_icu + row.capacity_acute + row.capacity_allbeds > 0, capacity_data_output);"
   ]
  },
  {
   "cell_type": "code",
   "execution_count": 16,
   "metadata": {},
   "outputs": [],
   "source": [
    "capacity_data_output |> CSV.write(\"../data/capacity_hhs.csv\");"
   ]
  },
  {
   "cell_type": "code",
   "execution_count": null,
   "metadata": {},
   "outputs": [],
   "source": []
  }
 ],
 "metadata": {
  "@webio": {
   "lastCommId": null,
   "lastKernelId": null
  },
  "kernelspec": {
   "display_name": "Julia 1.5.3",
   "language": "julia",
   "name": "julia-1.5"
  },
  "language_info": {
   "file_extension": ".jl",
   "mimetype": "application/julia",
   "name": "julia",
   "version": "1.5.3"
  }
 },
 "nbformat": 4,
 "nbformat_minor": 4
}
