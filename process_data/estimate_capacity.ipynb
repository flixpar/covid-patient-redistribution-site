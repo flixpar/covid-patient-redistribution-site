{
 "cells": [
  {
   "cell_type": "code",
   "execution_count": 1,
   "metadata": {},
   "outputs": [],
   "source": [
    "using CSV\n",
    "using DataFrames\n",
    "using Dates\n",
    "using Gadfly"
   ]
  },
  {
   "cell_type": "code",
   "execution_count": 2,
   "metadata": {},
   "outputs": [],
   "source": [
    "ENV[\"COLUMNS\"] = 1000;"
   ]
  },
  {
   "cell_type": "code",
   "execution_count": 3,
   "metadata": {},
   "outputs": [],
   "source": [
    "rawdata = DataFrame(CSV.File(\"../rawdata/md_data_2020_12_01.csv\", missingstring=\"null\"));"
   ]
  },
  {
   "cell_type": "code",
   "execution_count": 4,
   "metadata": {},
   "outputs": [],
   "source": [
    "get_hospital_id(h) = h |> hash |> string |> (x -> \"h\" * x[end-7:end]);"
   ]
  },
  {
   "cell_type": "code",
   "execution_count": 5,
   "metadata": {},
   "outputs": [],
   "source": [
    "convert_date(d) = Date(d, dateformat\"m/d/y\") + Year(2000);"
   ]
  },
  {
   "cell_type": "code",
   "execution_count": 6,
   "metadata": {},
   "outputs": [],
   "source": [
    "data = select(rawdata,\n",
    "    \"Facility Name\" => :hospital,\n",
    "    \"Facility Name\" => ByRow(get_hospital_id) => :hospital_id,\n",
    "    \"Modified Date\" => ByRow(convert_date) => :date,\n",
    "    \n",
    "    \"Staffed Adult Acute Care Beds\" => :beds_acute,\n",
    "    \"Staffed Adult ICU Beds\" => :beds_icu,\n",
    "    \n",
    "    \"Physical Adult Acute Care Beds\" => :beds_physical_acute,\n",
    "    \"Physical Adult ICU Beds\" => :beds_physical_icu,\n",
    ");\n",
    "data.beds_allbeds = data.beds_acute + data.beds_icu\n",
    "sort!(data, [:hospital, :date]);"
   ]
  },
  {
   "cell_type": "code",
   "execution_count": 7,
   "metadata": {},
   "outputs": [],
   "source": [
    "start_date = Date(2020,  6, 1)\n",
    "end_date   = Date(2020, 11, 1)\n",
    "date_range = collect(start_date : Day(1) : end_date);"
   ]
  },
  {
   "cell_type": "code",
   "execution_count": 8,
   "metadata": {},
   "outputs": [],
   "source": [
    "function mean_capacity(xs, dates)\n",
    "    xs = [x for (x,d) in zip(xs,dates) if d in date_range]\n",
    "    if all(ismissing.(xs))\n",
    "        return 0\n",
    "    else\n",
    "        xs = filter(x -> !ismissing(x), xs)\n",
    "        return round(Int, sum(xs) / length(xs))\n",
    "    end\n",
    "end;\n",
    "\n",
    "function max_capacity(xs)\n",
    "    if all(ismissing.(xs))\n",
    "        return 0\n",
    "    else\n",
    "        return maximum(skipmissing(xs))\n",
    "    end\n",
    "end;\n",
    "\n",
    "function min_capacity(xs)\n",
    "    if all(ismissing.(xs))\n",
    "        return 0\n",
    "    else\n",
    "        return minimum(skipmissing(xs))\n",
    "    end\n",
    "end;"
   ]
  },
  {
   "cell_type": "code",
   "execution_count": 9,
   "metadata": {},
   "outputs": [],
   "source": [
    "capacity_data = combine(groupby(data, [:hospital, :hospital_id]), [\n",
    "    :beds_icu => min_capacity => :beds_icu_min,\n",
    "    :beds_acute => min_capacity => :beds_acute_min,\n",
    "    :beds_allbeds => min_capacity => :beds_allbeds_min,\n",
    "\n",
    "    [:beds_icu, :date] => mean_capacity => :beds_icu_mean,\n",
    "    [:beds_acute, :date] => mean_capacity => :beds_acute_mean,\n",
    "    [:beds_allbeds, :date] => mean_capacity => :beds_allbeds_mean,\n",
    "        \n",
    "    :beds_icu => max_capacity => :beds_icu_max,\n",
    "    :beds_acute => max_capacity => :beds_acute_max,\n",
    "    :beds_allbeds => max_capacity => :beds_allbeds_max,\n",
    "]);"
   ]
  },
  {
   "cell_type": "code",
   "execution_count": 10,
   "metadata": {},
   "outputs": [],
   "source": [
    "capacity_names_icu = [:beds_icu_min, :beds_icu_mean, :beds_icu_max];\n",
    "capacity_names_acute = [:beds_acute_min, :beds_acute_mean, :beds_acute_max];\n",
    "capacity_names_allbeds = [:beds_allbeds_min, :beds_allbeds_mean, :beds_allbeds_max];"
   ]
  },
  {
   "cell_type": "code",
   "execution_count": 11,
   "metadata": {},
   "outputs": [],
   "source": [
    "sort!(capacity_data, [:hospital, :hospital_id]);"
   ]
  },
  {
   "cell_type": "code",
   "execution_count": 12,
   "metadata": {},
   "outputs": [
    {
     "data": {
      "text/html": [
       "<table class=\"data-frame\"><thead><tr><th></th><th>hospital</th><th>hospital_id</th><th>beds_icu_min</th><th>beds_acute_min</th><th>beds_allbeds_min</th><th>beds_icu_mean</th><th>beds_acute_mean</th><th>beds_allbeds_mean</th><th>beds_icu_max</th><th>beds_acute_max</th><th>beds_allbeds_max</th></tr><tr><th></th><th>String</th><th>String</th><th>Int64</th><th>Int64</th><th>Int64</th><th>Int64</th><th>Int64</th><th>Int64</th><th>Int64</th><th>Int64</th><th>Int64</th></tr></thead><tbody><p>5 rows × 11 columns</p><tr><th>1</th><td>Anne Arundel Medical Center</td><td>h39740093</td><td>30</td><td>181</td><td>211</td><td>40</td><td>284</td><td>324</td><td>45</td><td>293</td><td>331</td></tr><tr><th>2</th><td>Atlantic General Hospital</td><td>h92616877</td><td>6</td><td>35</td><td>43</td><td>9</td><td>43</td><td>51</td><td>15</td><td>67</td><td>82</td></tr><tr><th>3</th><td>Baltimore Convention Center Field Hospital</td><td>h94720559</td><td>0</td><td>7</td><td>7</td><td>0</td><td>26</td><td>23</td><td>0</td><td>44</td><td>44</td></tr><tr><th>4</th><td>Baltimore Washington Medical Center</td><td>h75227743</td><td>19</td><td>144</td><td>180</td><td>30</td><td>206</td><td>236</td><td>45</td><td>250</td><td>282</td></tr><tr><th>5</th><td>Bowie Medical Center</td><td>h26261837</td><td>0</td><td>0</td><td>0</td><td>0</td><td>10</td><td>10</td><td>0</td><td>20</td><td>20</td></tr></tbody></table>"
      ],
      "text/latex": [
       "\\begin{tabular}{r|ccccccccccc}\n",
       "\t& hospital & hospital\\_id & beds\\_icu\\_min & beds\\_acute\\_min & beds\\_allbeds\\_min & beds\\_icu\\_mean & beds\\_acute\\_mean & beds\\_allbeds\\_mean & beds\\_icu\\_max & beds\\_acute\\_max & beds\\_allbeds\\_max\\\\\n",
       "\t\\hline\n",
       "\t& String & String & Int64 & Int64 & Int64 & Int64 & Int64 & Int64 & Int64 & Int64 & Int64\\\\\n",
       "\t\\hline\n",
       "\t1 & Anne Arundel Medical Center & h39740093 & 30 & 181 & 211 & 40 & 284 & 324 & 45 & 293 & 331 \\\\\n",
       "\t2 & Atlantic General Hospital & h92616877 & 6 & 35 & 43 & 9 & 43 & 51 & 15 & 67 & 82 \\\\\n",
       "\t3 & Baltimore Convention Center Field Hospital & h94720559 & 0 & 7 & 7 & 0 & 26 & 23 & 0 & 44 & 44 \\\\\n",
       "\t4 & Baltimore Washington Medical Center & h75227743 & 19 & 144 & 180 & 30 & 206 & 236 & 45 & 250 & 282 \\\\\n",
       "\t5 & Bowie Medical Center & h26261837 & 0 & 0 & 0 & 0 & 10 & 10 & 0 & 20 & 20 \\\\\n",
       "\\end{tabular}\n"
      ],
      "text/plain": [
       "\u001b[1m5×11 DataFrame\u001b[0m\n",
       "\u001b[1m Row \u001b[0m│\u001b[1m hospital                          \u001b[0m\u001b[1m hospital_id \u001b[0m\u001b[1m beds_icu_min \u001b[0m\u001b[1m beds_acute_min \u001b[0m\u001b[1m beds_allbeds_min \u001b[0m\u001b[1m beds_icu_mean \u001b[0m\u001b[1m beds_acute_mean \u001b[0m\u001b[1m beds_allbeds_mean \u001b[0m\u001b[1m beds_icu_max \u001b[0m\u001b[1m beds_acute_max \u001b[0m\u001b[1m beds_allbeds_max \u001b[0m\n",
       "\u001b[1m     \u001b[0m│\u001b[90m String                            \u001b[0m\u001b[90m String      \u001b[0m\u001b[90m Int64        \u001b[0m\u001b[90m Int64          \u001b[0m\u001b[90m Int64            \u001b[0m\u001b[90m Int64         \u001b[0m\u001b[90m Int64           \u001b[0m\u001b[90m Int64             \u001b[0m\u001b[90m Int64        \u001b[0m\u001b[90m Int64          \u001b[0m\u001b[90m Int64            \u001b[0m\n",
       "─────┼───────────────────────────────────────────────────────────────────────────────────────────────────────────────────────────────────────────────────────────────────────────────────────────────────\n",
       "   1 │ Anne Arundel Medical Center        h39740093              30             181               211             40              284                324            45             293               331\n",
       "   2 │ Atlantic General Hospital          h92616877               6              35                43              9               43                 51            15              67                82\n",
       "   3 │ Baltimore Convention Center Fiel…  h94720559               0               7                 7              0               26                 23             0              44                44\n",
       "   4 │ Baltimore Washington Medical Cen…  h75227743              19             144               180             30              206                236            45             250               282\n",
       "   5 │ Bowie Medical Center               h26261837               0               0                 0              0               10                 10             0              20                20"
      ]
     },
     "execution_count": 12,
     "metadata": {},
     "output_type": "execute_result"
    }
   ],
   "source": [
    "first(capacity_data, 5)"
   ]
  },
  {
   "cell_type": "code",
   "execution_count": 13,
   "metadata": {},
   "outputs": [],
   "source": [
    "capacity_data_long = stack(capacity_data, Not([:hospital, :hospital_id]), variable_name=:capacity_name, value_name=:capacity_value);"
   ]
  },
  {
   "cell_type": "code",
   "execution_count": 14,
   "metadata": {},
   "outputs": [],
   "source": [
    "capacity_data_long_icu = filter(row -> Symbol(row.capacity_name) in capacity_names_icu, capacity_data_long);\n",
    "capacity_data_long_acute = filter(row -> Symbol(row.capacity_name) in capacity_names_acute, capacity_data_long);\n",
    "capacity_data_long_allbeds = filter(row -> Symbol(row.capacity_name) in capacity_names_allbeds, capacity_data_long);"
   ]
  },
  {
   "cell_type": "code",
   "execution_count": 15,
   "metadata": {},
   "outputs": [],
   "source": [
    "capacity_data_output = select(capacity_data, :hospital, :hospital_id, :beds_icu_mean => :capacity_icu, :beds_acute_mean => :capacity_acute, :beds_allbeds_mean => :capacity_allbeds);"
   ]
  },
  {
   "cell_type": "code",
   "execution_count": 16,
   "metadata": {},
   "outputs": [],
   "source": [
    "# filter!(row -> row.capacity_icu + row.capacity_acute + row.capacity_allbeds > 0, capacity_data_output);"
   ]
  },
  {
   "cell_type": "code",
   "execution_count": 17,
   "metadata": {},
   "outputs": [],
   "source": [
    "capacity_data_output |> CSV.write(\"../data/capacity.csv\");"
   ]
  },
  {
   "cell_type": "code",
   "execution_count": null,
   "metadata": {},
   "outputs": [],
   "source": []
  }
 ],
 "metadata": {
  "@webio": {
   "lastCommId": null,
   "lastKernelId": null
  },
  "kernelspec": {
   "display_name": "Julia 1.5.3",
   "language": "julia",
   "name": "julia-1.5"
  },
  "language_info": {
   "file_extension": ".jl",
   "mimetype": "application/julia",
   "name": "julia",
   "version": "1.5.3"
  }
 },
 "nbformat": 4,
 "nbformat_minor": 4
}
