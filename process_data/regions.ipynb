{
 "cells": [
  {
   "cell_type": "code",
   "execution_count": 1,
   "metadata": {},
   "outputs": [],
   "source": [
    "using CSV\n",
    "using DataFrames\n",
    "using Serialization"
   ]
  },
  {
   "cell_type": "code",
   "execution_count": 2,
   "metadata": {},
   "outputs": [],
   "source": [
    "metadata = DataFrame(CSV.File(\"../data/hospital_meta.csv\"));\n",
    "filter!(row -> row.in_forecast, metadata);"
   ]
  },
  {
   "cell_type": "code",
   "execution_count": 3,
   "metadata": {},
   "outputs": [
    {
     "name": "stdout",
     "output_type": "stream",
     "text": [
      "[(\"Maryland\", \"MD\")]\n"
     ]
    }
   ],
   "source": [
    "states = [(\"Maryland\", \"MD\")]\n",
    "println(states)"
   ]
  },
  {
   "cell_type": "code",
   "execution_count": 4,
   "metadata": {},
   "outputs": [],
   "source": [
    "function filter_regions(regions)\n",
    "    ids = [r.id for r in regions]\n",
    "    regions = [r for r in unique(regions) if sum(ids .== r.id) > 1]\n",
    "    return unique(regions)\n",
    "end;"
   ]
  },
  {
   "cell_type": "code",
   "execution_count": 5,
   "metadata": {},
   "outputs": [
    {
     "data": {
      "text/plain": [
       "4-element Array{NamedTuple{(:name, :id),Tuple{String,String}},1}:\n",
       " (name = \"Baltimore, MD\", id = \"21002\")\n",
       " (name = \"Easton, MD\", id = \"21011\")\n",
       " (name = \"Rockville, MD\", id = \"21028\")\n",
       " (name = \"Salisbury, MD\", id = \"21029\")"
      ]
     },
     "execution_count": 5,
     "metadata": {},
     "output_type": "execute_result"
    }
   ],
   "source": [
    "hsas = collect(zip(metadata.hsa_name, metadata.hsa_id))\n",
    "hsas = filter(s -> !(ismissing(s[1]) || ismissing(s[2])), hsas)\n",
    "hsas = map(s -> (name = s[1], id = string(s[2])), hsas)\n",
    "hsas = filter_regions(hsas)\n",
    "hsas = sort(hsas)"
   ]
  },
  {
   "cell_type": "code",
   "execution_count": 6,
   "metadata": {},
   "outputs": [
    {
     "data": {
      "text/plain": [
       "4-element Array{NamedTuple{(:name, :id),Tuple{String,String}},1}:\n",
       " (name = \"Baltimore, MD\", id = \"223\")\n",
       " (name = \"Salisbury, MD\", id = \"225\")\n",
       " (name = \"Takoma Park, MD\", id = \"226\")\n",
       " (name = \"Washington, DC\", id = \"113\")"
      ]
     },
     "execution_count": 6,
     "metadata": {},
     "output_type": "execute_result"
    }
   ],
   "source": [
    "hrrs = collect(zip(metadata.hrr_name, metadata.hrr_id))\n",
    "hrrs = filter(s -> !(ismissing(s[1]) || ismissing(s[2])), hrrs)\n",
    "hrrs = map(s -> (name = s[1], id = string(s[2])), hrrs)\n",
    "hrrs = filter_regions(hrrs)\n",
    "hrrs = sort(hrrs)"
   ]
  },
  {
   "cell_type": "code",
   "execution_count": 7,
   "metadata": {},
   "outputs": [],
   "source": [
    "# city_id(c) = c |> lowercase |> x -> replace(x, \" \" => \"_\");\n",
    "city_id(c) = c;"
   ]
  },
  {
   "cell_type": "code",
   "execution_count": 8,
   "metadata": {},
   "outputs": [
    {
     "data": {
      "text/plain": [
       "3-element Array{NamedTuple{(:name, :id),Tuple{String,String}},1}:\n",
       " (name = \"Baltimore\", id = \"Baltimore\")\n",
       " (name = \"Germantown\", id = \"Germantown\")\n",
       " (name = \"Towson\", id = \"Towson\")"
      ]
     },
     "execution_count": 8,
     "metadata": {},
     "output_type": "execute_result"
    }
   ],
   "source": [
    "cities = map(row -> (row.city, city_id(row.city)), eachrow(metadata))\n",
    "cities = filter(s -> !(ismissing(s[1]) || ismissing(s[2])), cities)\n",
    "cities = map(s -> (name = s[1], id = string(s[2])), cities)\n",
    "cities = filter_regions(cities)\n",
    "cities = sort(cities)"
   ]
  },
  {
   "cell_type": "code",
   "execution_count": 9,
   "metadata": {},
   "outputs": [],
   "source": [
    "# county_id(c) = split(c, \" County\")[1] |> lowercase |> x -> replace(x, \" \" => \"_\");\n",
    "county_id(c) = c;"
   ]
  },
  {
   "cell_type": "code",
   "execution_count": 10,
   "metadata": {},
   "outputs": [
    {
     "data": {
      "text/plain": [
       "6-element Array{NamedTuple{(:name, :id),Tuple{String,String}},1}:\n",
       " (name = \"Anne Arundel County\", id = \"Anne Arundel County\")\n",
       " (name = \"Baltimore City\", id = \"Baltimore City\")\n",
       " (name = \"Baltimore County\", id = \"Baltimore County\")\n",
       " (name = \"Harford County\", id = \"Harford County\")\n",
       " (name = \"Montgomery County\", id = \"Montgomery County\")\n",
       " (name = \"Prince Georges County\", id = \"Prince Georges County\")"
      ]
     },
     "execution_count": 10,
     "metadata": {},
     "output_type": "execute_result"
    }
   ],
   "source": [
    "counties = map(row -> (row.county, county_id(row.county)), eachrow(metadata))\n",
    "counties = filter(s -> !(ismissing(s[1]) || ismissing(s[2])), counties)\n",
    "counties = map(s -> (name = s[1], id = string(s[2])), counties)\n",
    "counties = filter_regions(counties)\n",
    "counties = sort(counties)"
   ]
  },
  {
   "cell_type": "code",
   "execution_count": 11,
   "metadata": {},
   "outputs": [],
   "source": [
    "# mdregion_id(c) = c[8:end];\n",
    "mdregion_id(c) = c;"
   ]
  },
  {
   "cell_type": "code",
   "execution_count": 12,
   "metadata": {},
   "outputs": [
    {
     "data": {
      "text/plain": [
       "5-element Array{NamedTuple{(:name, :id),Tuple{String,String}},1}:\n",
       " (name = \"Region I\", id = \"Region I\")\n",
       " (name = \"Region II\", id = \"Region II\")\n",
       " (name = \"Region III\", id = \"Region III\")\n",
       " (name = \"Region IV\", id = \"Region IV\")\n",
       " (name = \"Region V\", id = \"Region V\")"
      ]
     },
     "execution_count": 12,
     "metadata": {},
     "output_type": "execute_result"
    }
   ],
   "source": [
    "mdregions = map(row -> (row.healthcare_region, mdregion_id(row.healthcare_region)), eachrow(metadata))\n",
    "mdregions = filter(s -> !(ismissing(s[1]) || ismissing(s[2])), mdregions)\n",
    "mdregions = map(s -> (name = s[1], id = string(s[2])), mdregions)\n",
    "mdregions = unique(mdregions)\n",
    "mdregions = sort(mdregions)"
   ]
  },
  {
   "cell_type": "code",
   "execution_count": 13,
   "metadata": {},
   "outputs": [],
   "source": [
    "state_regions = [(region_type = :state, region_name = s[1], region_id = s[2]) for s in states];"
   ]
  },
  {
   "cell_type": "code",
   "execution_count": 14,
   "metadata": {},
   "outputs": [],
   "source": [
    "system_regions = [];"
   ]
  },
  {
   "cell_type": "code",
   "execution_count": 15,
   "metadata": {},
   "outputs": [],
   "source": [
    "hsa_regions = [(region_type = :hsa, region_name = s.name, region_id = s.id) for s in hsas];\n",
    "hrr_regions = [(region_type = :hrr, region_name = s.name, region_id = s.id) for s in hrrs];"
   ]
  },
  {
   "cell_type": "code",
   "execution_count": 16,
   "metadata": {},
   "outputs": [],
   "source": [
    "city_regions   = [(region_type = :city,   region_name = s[1], region_id = s[2]) for s in cities];\n",
    "county_regions = [(region_type = :county, region_name = s[1], region_id = s[2]) for s in counties];"
   ]
  },
  {
   "cell_type": "code",
   "execution_count": 17,
   "metadata": {},
   "outputs": [],
   "source": [
    "health_regions = [(region_type = :healthcareregion, region_name = s[1], region_id = s[2]) for s in mdregions];"
   ]
  },
  {
   "cell_type": "code",
   "execution_count": 18,
   "metadata": {},
   "outputs": [],
   "source": [
    "regions = vcat(state_regions, system_regions, hsa_regions, hrr_regions, city_regions, county_regions, health_regions);"
   ]
  },
  {
   "cell_type": "code",
   "execution_count": 19,
   "metadata": {},
   "outputs": [],
   "source": [
    "serialize(\"../data/regions.jlser\", regions)"
   ]
  },
  {
   "cell_type": "code",
   "execution_count": null,
   "metadata": {},
   "outputs": [],
   "source": []
  }
 ],
 "metadata": {
  "@webio": {
   "lastCommId": null,
   "lastKernelId": null
  },
  "kernelspec": {
   "display_name": "Julia 1.5.3",
   "language": "julia",
   "name": "julia-1.5"
  },
  "language_info": {
   "file_extension": ".jl",
   "mimetype": "application/julia",
   "name": "julia",
   "version": "1.5.3"
  }
 },
 "nbformat": 4,
 "nbformat_minor": 4
}
